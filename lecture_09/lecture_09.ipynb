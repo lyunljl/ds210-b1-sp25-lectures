{
 "cells": [
  {
   "cell_type": "markdown",
   "id": "c1aba939",
   "metadata": {
    "slideshow": {
     "slide_type": "slide"
    }
   },
   "source": [
    "<div align=\"center\">\n",
    "    <h1>DS-210: Programming for Data Science</h1>\n",
    "    <h1>Lecture 9</h1>\n",
    "</div>\n",
    "\n",
    "1. Traits (§10.2)\n",
    "2. Collections (§8)\n",
    "3. Vectors (§8.1)\n",
    "4. Tests (§11)\n"
   ]
  },
  {
   "cell_type": "markdown",
   "id": "7c0e539b",
   "metadata": {
    "slideshow": {
     "slide_type": "slide"
    }
   },
   "source": [
    "## 1. Traits\n",
    "\n",
    "From [Traits: Defining Shared Behavior](https://doc.rust-lang.org/book/ch10-02-traits.html#traits-defining-shared-behavior).\n",
    "\n",
    "* A trait defines the functionality a particular type has and can share with other types. \n",
    "* We can use traits to define shared behavior in an abstract way. \n",
    "* We can use trait bounds to specify that a generic type can be any type that has certain behavior.\n",
    "\n",
    "> Some other programming languages call this an interface.\n"
   ]
  },
  {
   "cell_type": "markdown",
   "id": "ed16aa90",
   "metadata": {
    "slideshow": {
     "slide_type": "fragment"
    }
   },
   "source": [
    "### Sample trait definition"
   ]
  },
  {
   "cell_type": "markdown",
   "id": "a56801d4",
   "metadata": {},
   "source": [
    "Generally define method signatures as behaviors that need to implemented by\n",
    "any type that implements the trait.\n",
    "\n",
    "We can also define default implementations of default methods."
   ]
  },
  {
   "cell_type": "code",
   "execution_count": 2,
   "id": "e2ef521c",
   "metadata": {
    "slideshow": {
     "slide_type": "-"
    },
    "vscode": {
     "languageId": "rust"
    }
   },
   "outputs": [],
   "source": [
    "trait Person {\n",
    "    // method header specifications -- must be implemented by any type that implements the trait\n",
    "    fn get_name(&self) -> String;\n",
    "    fn get_age(&self) -> u32;\n",
    "    \n",
    "    // default implementation of a method \n",
    "    fn description(&self) -> String {\n",
    "        format!(\"{} ({})\",self.get_name(),self.get_age())\n",
    "    }\n",
    "}"
   ]
  },
  {
   "cell_type": "markdown",
   "id": "21936fa9",
   "metadata": {
    "slideshow": {
     "slide_type": "subslide"
    }
   },
   "source": [
    "### Sample trait implementation 1"
   ]
  },
  {
   "cell_type": "code",
   "execution_count": 3,
   "id": "7946eeb7",
   "metadata": {
    "cell_style": "center",
    "vscode": {
     "languageId": "rust"
    }
   },
   "outputs": [],
   "source": [
    "#[derive(Debug)]\n",
    "struct SoccerPlayer {\n",
    "    name: String,\n",
    "    age: u32,\n",
    "    team: String,\n",
    "}\n",
    "\n",
    "impl Person for SoccerPlayer {\n",
    "    fn get_age(&self) -> u32 {\n",
    "        self.age\n",
    "    }\n",
    "    \n",
    "    // We must implement all trait items\n",
    "    fn get_name(&self) -> String {\n",
    "        self.name.clone()\n",
    "    }\n",
    "}\n",
    "\n",
    "impl SoccerPlayer {\n",
    "    fn create(name:String,age:u32,team:String) -> SoccerPlayer {\n",
    "        SoccerPlayer{name,age,team}\n",
    "    }\n",
    "}"
   ]
  },
  {
   "cell_type": "markdown",
   "id": "91acabc1",
   "metadata": {},
   "source": [
    "Since `SoccerPlayer` implements the `Person` trait, we can use the `description` method."
   ]
  },
  {
   "cell_type": "code",
   "execution_count": 4,
   "id": "b57d6a0d",
   "metadata": {
    "vscode": {
     "languageId": "rust"
    }
   },
   "outputs": [
    {
     "name": "stdout",
     "output_type": "stream",
     "text": [
      "Zlatan Ibrahimovic (40)\n"
     ]
    }
   ],
   "source": [
    "let zlatan = SoccerPlayer::create(String::from(\"Zlatan Ibrahimovic\"), 40, String::from(\"AC Milan\"));\n",
    "println!(\"{}\",zlatan.description());\n"
   ]
  },
  {
   "cell_type": "markdown",
   "id": "78216c97",
   "metadata": {
    "slideshow": {
     "slide_type": "subslide"
    }
   },
   "source": [
    "### Sample trait implementation 2"
   ]
  },
  {
   "cell_type": "code",
   "execution_count": 5,
   "id": "7c7978e3",
   "metadata": {
    "vscode": {
     "languageId": "rust"
    }
   },
   "outputs": [],
   "source": [
    "#[derive(Debug)]\n",
    "struct RegularPerson {\n",
    "    year_born: u32,\n",
    "    first_name: String,\n",
    "    middle_name: String,\n",
    "    last_name: String,\n",
    "}\n",
    "\n",
    "impl Person for RegularPerson {\n",
    "    fn get_age(&self) -> u32 {\n",
    "        2024 - self.year_born\n",
    "    }\n",
    "    \n",
    "    fn get_name(&self) -> String {\n",
    "        if self.middle_name == \"\" {\n",
    "            format!(\"{} {}\",self.first_name,self.last_name)\n",
    "        } else {\n",
    "            format!(\"{} {} {}\",self.first_name,self.middle_name,self.last_name)\n",
    "        }\n",
    "    }\n",
    "}\n",
    "\n",
    "impl RegularPerson {\n",
    "    fn create(first_name:String,middle_name:String,last_name:String,year_born:u32) -> RegularPerson {\n",
    "        RegularPerson{first_name,middle_name,last_name,year_born}\n",
    "    }\n",
    "}"
   ]
  },
  {
   "cell_type": "code",
   "execution_count": 6,
   "id": "fcf7b3f4",
   "metadata": {
    "vscode": {
     "languageId": "rust"
    }
   },
   "outputs": [
    {
     "name": "stdout",
     "output_type": "stream",
     "text": [
      "Martin Luther King (95)\n"
     ]
    }
   ],
   "source": [
    "let mlk = RegularPerson::create(\n",
    "    String::from(\"Martin\"),\n",
    "    String::from(\"Luther\"),\n",
    "    String::from(\"King\"),\n",
    "    1929\n",
    ");\n",
    "println!(\"{}\",mlk.description());"
   ]
  },
  {
   "cell_type": "markdown",
   "id": "7ed4ac32",
   "metadata": {
    "slideshow": {
     "slide_type": "subslide"
    }
   },
   "source": [
    "### Using traits in functions"
   ]
  },
  {
   "cell_type": "code",
   "execution_count": 7,
   "id": "42f43757",
   "metadata": {
    "vscode": {
     "languageId": "rust"
    }
   },
   "outputs": [],
   "source": [
    "// sample function accepting object implementing trait\n",
    "fn long_description(person: &impl Person) {\n",
    "    println!(\"{}, who is {} years old\", person.get_name(), person.get_age());\n",
    "}"
   ]
  },
  {
   "cell_type": "markdown",
   "id": "493f746d",
   "metadata": {
    "slideshow": {
     "slide_type": "fragment"
    }
   },
   "source": [
    "### Examples"
   ]
  },
  {
   "cell_type": "code",
   "execution_count": 8,
   "id": "74b8462c",
   "metadata": {
    "slideshow": {
     "slide_type": "fragment"
    },
    "vscode": {
     "languageId": "rust"
    }
   },
   "outputs": [
    {
     "name": "stdout",
     "output_type": "stream",
     "text": [
      "Martin Luther King, who is 95 years old\n",
      "Zlatan Ibrahimovic, who is 40 years old\n"
     ]
    }
   ],
   "source": [
    "long_description(&mlk);\n",
    "long_description(&zlatan);"
   ]
  },
  {
   "cell_type": "markdown",
   "id": "602d5753",
   "metadata": {
    "slideshow": {
     "slide_type": "subslide"
    }
   },
   "source": [
    "### Using traits in functions: long vs. short form"
   ]
  },
  {
   "cell_type": "code",
   "execution_count": 9,
   "id": "6be6d7a7",
   "metadata": {
    "vscode": {
     "languageId": "rust"
    }
   },
   "outputs": [],
   "source": [
    "// short version\n",
    "fn long_description(person: &impl Person) {\n",
    "    println!(\"{}, who is {} old\", person.get_name(), person.get_age());\n",
    "}\n",
    "\n",
    "// longer version\n",
    "fn long_description_2<T: Person>(person: &T) {\n",
    "    println!(\"{}, who is {} old\", person.get_name(), person.get_age());\n",
    "}\n"
   ]
  },
  {
   "cell_type": "code",
   "execution_count": 10,
   "id": "2d3187b1",
   "metadata": {
    "slideshow": {
     "slide_type": "fragment"
    },
    "vscode": {
     "languageId": "rust"
    }
   },
   "outputs": [
    {
     "name": "stdout",
     "output_type": "stream",
     "text": [
      "Zlatan Ibrahimovic, who is 40 old\n",
      "Zlatan Ibrahimovic, who is 40 old\n"
     ]
    }
   ],
   "source": [
    "long_description(&zlatan);\n",
    "long_description_2(&zlatan);"
   ]
  },
  {
   "cell_type": "code",
   "execution_count": 12,
   "id": "f1dca144",
   "metadata": {
    "vscode": {
     "languageId": "rust"
    }
   },
   "outputs": [
    {
     "name": "stdout",
     "output_type": "stream",
     "text": [
      "Martin Luther King, who is 95 old\n",
      "Martin Luther King, who is 95 old\n"
     ]
    }
   ],
   "source": [
    "long_description(&mlk);\n",
    "long_description_2(&mlk);\n"
   ]
  },
  {
   "cell_type": "markdown",
   "id": "2dd44e76",
   "metadata": {},
   "source": [
    "### So what's up with the different ways to specify traits (It's complicated!!!!)\n",
    "* `&impl and &T` -> static dispatch (also relevant in the context of return values)\n",
    "* `&T` restricts the type especially if you plan to pass multiple arguments of the same type (relevant to inputs)\n",
    "* Read https://joshleeb.com/posts/rust-traits-and-trait-objects if you want to dig deep but without a background in programming languages and compilers this will not be possible to understand.\n"
   ]
  },
  {
   "cell_type": "markdown",
   "id": "dad1061d",
   "metadata": {
    "slideshow": {
     "slide_type": "subslide"
    }
   },
   "source": [
    "### Using traits in functions: multiple traits"
   ]
  },
  {
   "cell_type": "code",
   "execution_count": 13,
   "id": "e15323e3",
   "metadata": {
    "vscode": {
     "languageId": "rust"
    }
   },
   "outputs": [],
   "source": [
    "use core::fmt::Debug;\n",
    "\n",
    "fn multiple_1(person: &(impl Person + Debug)) {\n",
    "    println!(\"{:?}\",person);\n",
    "    println!(\"Age: {}\",person.get_age());\n",
    "}"
   ]
  },
  {
   "cell_type": "code",
   "execution_count": 14,
   "id": "bc527f24",
   "metadata": {
    "slideshow": {
     "slide_type": "fragment"
    },
    "vscode": {
     "languageId": "rust"
    }
   },
   "outputs": [
    {
     "name": "stdout",
     "output_type": "stream",
     "text": [
      "SoccerPlayer { name: \"Zlatan Ibrahimovic\", age: 40, team: \"AC Milan\" }\n",
      "Age: 40\n"
     ]
    }
   ],
   "source": [
    "multiple_1(&zlatan);"
   ]
  },
  {
   "cell_type": "code",
   "execution_count": 15,
   "id": "b9d5d74b",
   "metadata": {
    "slideshow": {
     "slide_type": "fragment"
    },
    "vscode": {
     "languageId": "rust"
    }
   },
   "outputs": [
    {
     "name": "stdout",
     "output_type": "stream",
     "text": [
      "RegularPerson { year_born: 1929, first_name: \"Martin\", middle_name: \"Luther\", last_name: \"King\" }\n",
      "Age: 95\n"
     ]
    }
   ],
   "source": [
    "multiple_1(&mlk);"
   ]
  },
  {
   "cell_type": "markdown",
   "id": "1911b338",
   "metadata": {
    "slideshow": {
     "slide_type": "subslide"
    }
   },
   "source": [
    "### Using traits in functions: multiple traits"
   ]
  },
  {
   "cell_type": "code",
   "execution_count": 16,
   "id": "3b25be05",
   "metadata": {
    "vscode": {
     "languageId": "rust"
    }
   },
   "outputs": [],
   "source": [
    "// three options, useful for different settings\n",
    "\n",
    "// This is good if you want to pass many parameters to the function and the parameters are of different types\n",
    "fn multiple_1(person: &(impl Person + Debug)) {\n",
    "    println!(\"{:?}\",person);\n",
    "    println!(\"Age: {}\",person.get_age());\n",
    "}\n",
    "\n",
    "// This is better if you want all your parameters to be of the same type\n",
    "fn multiple_2<T: Person + Debug>(person: &T) {\n",
    "    println!(\"{:?}\",person);\n",
    "    println!(\"Age: {}\",person.get_age());\n",
    "}\n",
    "\n",
    "// This is like option 2 but easier to read if your parameter combines many traits\n",
    "fn multiple_3<T>(person: &T)\n",
    "    where T: Person + Debug\n",
    "{\n",
    "    println!(\"{:?}\",person);\n",
    "    println!(\"Age: {}\",person.get_age());\n",
    "}\n"
   ]
  },
  {
   "cell_type": "code",
   "execution_count": 17,
   "id": "5b3e2416",
   "metadata": {
    "slideshow": {
     "slide_type": "fragment"
    },
    "vscode": {
     "languageId": "rust"
    }
   },
   "outputs": [
    {
     "name": "stdout",
     "output_type": "stream",
     "text": [
      "RegularPerson { year_born: 1929, first_name: \"Martin\", middle_name: \"Luther\", last_name: \"King\" }\n",
      "Age: 95\n",
      "RegularPerson { year_born: 1929, first_name: \"Martin\", middle_name: \"Luther\", last_name: \"King\" }\n",
      "Age: 95\n",
      "RegularPerson { year_born: 1929, first_name: \"Martin\", middle_name: \"Luther\", last_name: \"King\" }\n",
      "Age: 95\n"
     ]
    }
   ],
   "source": [
    "multiple_1(&mlk);\n",
    "multiple_2(&mlk);\n",
    "multiple_3(&mlk);"
   ]
  },
  {
   "cell_type": "markdown",
   "id": "747907a9",
   "metadata": {
    "slideshow": {
     "slide_type": "subslide"
    }
   },
   "source": [
    "### Returning types implementing a trait"
   ]
  },
  {
   "cell_type": "code",
   "execution_count": 18,
   "id": "700139a6",
   "metadata": {
    "vscode": {
     "languageId": "rust"
    }
   },
   "outputs": [],
   "source": [
    "fn get_zlatan() -> impl Person {\n",
    "    SoccerPlayer::create(String::from(\"Zlatan Ibrahimovic\"), 40, String::from(\"AC Milan\")) \n",
    "}"
   ]
  },
  {
   "cell_type": "code",
   "execution_count": 19,
   "id": "9745a6ec",
   "metadata": {
    "slideshow": {
     "slide_type": "fragment"
    },
    "vscode": {
     "languageId": "rust"
    }
   },
   "outputs": [
    {
     "name": "stdout",
     "output_type": "stream",
     "text": [
      "Zlatan Ibrahimovic, who is 40 old\n"
     ]
    }
   ],
   "source": [
    "{\n",
    "    let zlatan_2 = get_zlatan();\n",
    "    long_description(&zlatan_2);\n",
    "};"
   ]
  },
  {
   "cell_type": "markdown",
   "id": "7442de3d",
   "metadata": {
    "slideshow": {
     "slide_type": "slide"
    }
   },
   "source": [
    "## 2. Collections\n"
   ]
  },
  {
   "cell_type": "markdown",
   "id": "846b0a63",
   "metadata": {
    "slideshow": {
     "slide_type": "slide"
    }
   },
   "source": [
    "Rust provides a number data structures as collections.\n",
    "\n",
    "We'll look at `Vec` today and `HashMap` later.\n",
    "\n",
    "These are probably the most commonly used.\n",
    "\n",
    "See [Collections](https://doc.rust-lang.org/std/collections/index.html) for the complete list.\n"
   ]
  },
  {
   "cell_type": "markdown",
   "id": "e5480063",
   "metadata": {
    "cell_style": "split",
    "slideshow": {
     "slide_type": "fragment"
    }
   },
   "source": [
    "### Why useful\n",
    "\n",
    "* Storing multiple items, number unknown in advance\n",
    "\n",
    "* Also the primary reason why generics exist: collections that work for different types of items"
   ]
  },
  {
   "cell_type": "markdown",
   "id": "7e476ad6",
   "metadata": {
    "cell_style": "split",
    "slideshow": {
     "slide_type": "fragment"
    }
   },
   "source": [
    "### Badly kept secret\n",
    "\n",
    "* Most tasks: little memory management needed\n",
    "* Collections will do all the work for you\n",
    "* Caveat:\n",
    "  - don't copy large amount of memory\n",
    "  - use references"
   ]
  },
  {
   "cell_type": "markdown",
   "id": "c8b42f95",
   "metadata": {
    "slideshow": {
     "slide_type": "fragment"
    }
   },
   "source": [
    "### Collection selection\n",
    "* Driven by efficiency and access needs"
   ]
  },
  {
   "cell_type": "markdown",
   "id": "1c552e97",
   "metadata": {
    "cell_style": "center",
    "slideshow": {
     "slide_type": "slide"
    }
   },
   "source": [
    "## 3. Vectors"
   ]
  },
  {
   "cell_type": "markdown",
   "id": "e728a529",
   "metadata": {
    "slideshow": {
     "slide_type": "slide"
    }
   },
   "source": [
    "Expandable and shrinkable array of items:\n",
    "\n",
    "* Python: list\n",
    "* C++: vector\n",
    "* Rust: vector\n",
    "* Also numpy.resize() but not numpy.reshape()."
   ]
  },
  {
   "cell_type": "markdown",
   "id": "04567e4d",
   "metadata": {},
   "source": [
    "**Type:** `Vec<T>` stores a collection of values of type `T`"
   ]
  },
  {
   "cell_type": "markdown",
   "id": "d5212c40",
   "metadata": {
    "slideshow": {
     "slide_type": "subslide"
    }
   },
   "source": [
    "### Creating vectors via macro `vec![...]`"
   ]
  },
  {
   "cell_type": "code",
   "execution_count": 20,
   "id": "94f91412",
   "metadata": {
    "cell_style": "split",
    "vscode": {
     "languageId": "rust"
    }
   },
   "outputs": [
    {
     "data": {
      "text/plain": [
       "[2, 3, 5, 7, 11]"
      ]
     },
     "execution_count": 20,
     "metadata": {},
     "output_type": "execute_result"
    }
   ],
   "source": [
    "// useful macro: vec![...]\n",
    "// syntax similar to array\n",
    "\n",
    "let small_primes = vec![2,3,5,7,11];\n",
    "small_primes"
   ]
  },
  {
   "cell_type": "code",
   "execution_count": 21,
   "id": "807408e9",
   "metadata": {
    "slideshow": {
     "slide_type": "fragment"
    },
    "vscode": {
     "languageId": "rust"
    }
   },
   "outputs": [
    {
     "data": {
      "text/plain": [
       "[0, 0, 0, 0, 0, 0, 0, 0, 0, 0]"
      ]
     },
     "execution_count": 21,
     "metadata": {},
     "output_type": "execute_result"
    }
   ],
   "source": [
    "// specifc length filled with a given value\n",
    "let zeros = vec![0;10];\n",
    "zeros"
   ]
  },
  {
   "cell_type": "code",
   "execution_count": 55,
   "id": "fa8252b6",
   "metadata": {
    "slideshow": {
     "slide_type": "fragment"
    },
    "vscode": {
     "languageId": "rust"
    }
   },
   "outputs": [
    {
     "data": {
      "text/plain": [
       "[1, 1, 1, 1, 1, 1, 1, 1, 1, 1, 1, 1, 1, 1, 1]"
      ]
     },
     "execution_count": 55,
     "metadata": {},
     "output_type": "execute_result"
    }
   ],
   "source": [
    "// size doesn't have to be known in advance\n",
    "fn get_ones(how_many:usize) -> Vec<i32> {\n",
    "    vec![1;how_many]\n",
    "}\n",
    "\n",
    "let ones = get_ones(15);\n",
    "ones"
   ]
  },
  {
   "cell_type": "code",
   "execution_count": 58,
   "id": "12750777",
   "metadata": {
    "vscode": {
     "languageId": "rust"
    }
   },
   "outputs": [
    {
     "data": {
      "text/plain": [
       "[13, 13, 13, 13, 13, 13, 13, 13, 13, 13, 13, 13, 13, 13, 13]"
      ]
     },
     "execution_count": 58,
     "metadata": {},
     "output_type": "execute_result"
    }
   ],
   "source": [
    "// value and length can be specified by variables\n",
    "let a = 13;\n",
    "let mut b = 10;\n",
    "b = 15;\n",
    "let c = vec![a;b];\n",
    "c"
   ]
  },
  {
   "cell_type": "markdown",
   "id": "3b8b81c5",
   "metadata": {
    "slideshow": {
     "slide_type": "subslide"
    }
   },
   "source": [
    "### Creating empty via the `new` constructor"
   ]
  },
  {
   "cell_type": "code",
   "execution_count": 62,
   "id": "57f906e9",
   "metadata": {
    "cell_style": "split",
    "vscode": {
     "languageId": "rust"
    }
   },
   "outputs": [
    {
     "data": {
      "text/plain": [
       "[]"
      ]
     },
     "execution_count": 62,
     "metadata": {},
     "output_type": "execute_result"
    }
   ],
   "source": [
    "// creating a new empty vectors\n",
    "// with explicit type specification\n",
    "let v1 : Vec<f64> = Vec::new();\n",
    "v1"
   ]
  },
  {
   "cell_type": "code",
   "execution_count": 25,
   "id": "fdabb29b",
   "metadata": {
    "cell_style": "split",
    "slideshow": {
     "slide_type": "fragment"
    },
    "vscode": {
     "languageId": "rust"
    }
   },
   "outputs": [
    {
     "ename": "Error",
     "evalue": "type annotations needed for `Vec<_>`",
     "output_type": "error",
     "traceback": [
      "\u001b[31m[E0282] Error:\u001b[0m type annotations needed for `Vec<_>`",
      "   \u001b[38;5;246m╭\u001b[0m\u001b[38;5;246m─\u001b[0m\u001b[38;5;246m[\u001b[0mcommand_25:1:1\u001b[38;5;246m]\u001b[0m",
      "   \u001b[38;5;246m│\u001b[0m",
      " \u001b[38;5;246m2 │\u001b[0m \u001b[38;5;249ml\u001b[0m\u001b[38;5;249me\u001b[0m\u001b[38;5;249mt\u001b[0m\u001b[38;5;249m \u001b[0m\u001b[38;5;100mv\u001b[0m\u001b[38;5;100m3\u001b[0m\u001b[38;5;249m \u001b[0m\u001b[38;5;249m=\u001b[0m\u001b[38;5;249m \u001b[0m\u001b[38;5;54mV\u001b[0m\u001b[38;5;54me\u001b[0m\u001b[38;5;54mc\u001b[0m\u001b[38;5;54m:\u001b[0m\u001b[38;5;54m:\u001b[0m\u001b[38;5;54mn\u001b[0m\u001b[38;5;54me\u001b[0m\u001b[38;5;54mw\u001b[0m\u001b[38;5;54m(\u001b[0m\u001b[38;5;54m)\u001b[0m\u001b[38;5;249m;\u001b[0m",
      " \u001b[38;5;240m  │\u001b[0m     \u001b[38;5;100m─\u001b[0m\u001b[38;5;100m┬\u001b[0m\u001b[38;5;68m│\u001b[0m  \u001b[38;5;54m─\u001b[0m\u001b[38;5;54m─\u001b[0m\u001b[38;5;54m─\u001b[0m\u001b[38;5;54m─\u001b[0m\u001b[38;5;54m─\u001b[0m\u001b[38;5;54m┬\u001b[0m\u001b[38;5;54m─\u001b[0m\u001b[38;5;54m─\u001b[0m\u001b[38;5;54m─\u001b[0m\u001b[38;5;54m─\u001b[0m  ",
      " \u001b[38;5;240m  │\u001b[0m      \u001b[38;5;100m╰\u001b[0m\u001b[38;5;100m─\u001b[0m\u001b[38;5;100m─\u001b[0m\u001b[38;5;100m─\u001b[0m\u001b[38;5;100m─\u001b[0m\u001b[38;5;100m─\u001b[0m\u001b[38;5;100m─\u001b[0m\u001b[38;5;100m─\u001b[0m\u001b[38;5;100m─\u001b[0m\u001b[38;5;100m─\u001b[0m\u001b[38;5;100m─\u001b[0m\u001b[38;5;100m─\u001b[0m\u001b[38;5;100m─\u001b[0m\u001b[38;5;100m─\u001b[0m\u001b[38;5;100m─\u001b[0m\u001b[38;5;100m─\u001b[0m error: type annotations needed for `Vec<_>`",
      " \u001b[38;5;240m  │\u001b[0m       \u001b[38;5;68m│\u001b[0m       \u001b[38;5;54m│\u001b[0m      ",
      " \u001b[38;5;240m  │\u001b[0m       \u001b[38;5;68m╰\u001b[0m\u001b[38;5;68m─\u001b[0m\u001b[38;5;68m─\u001b[0m\u001b[38;5;68m─\u001b[0m\u001b[38;5;68m─\u001b[0m\u001b[38;5;68m─\u001b[0m\u001b[38;5;68m─\u001b[0m\u001b[38;5;68m─\u001b[0m\u001b[38;5;68m─\u001b[0m\u001b[38;5;68m─\u001b[0m\u001b[38;5;68m─\u001b[0m\u001b[38;5;68m─\u001b[0m\u001b[38;5;68m─\u001b[0m\u001b[38;5;68m─\u001b[0m\u001b[38;5;68m─\u001b[0m help: consider giving `v3` an explicit type, where the type for type parameter `T` is specified: `: Vec<T>`",
      " \u001b[38;5;240m  │\u001b[0m               \u001b[38;5;54m│\u001b[0m      ",
      " \u001b[38;5;240m  │\u001b[0m               \u001b[38;5;54m╰\u001b[0m\u001b[38;5;54m─\u001b[0m\u001b[38;5;54m─\u001b[0m\u001b[38;5;54m─\u001b[0m\u001b[38;5;54m─\u001b[0m\u001b[38;5;54m─\u001b[0m\u001b[38;5;54m─\u001b[0m type must be known at this point",
      "\u001b[38;5;246m───╯\u001b[0m"
     ]
    }
   ],
   "source": [
    "// won't work: no type specified\n",
    "let v3 = Vec::new();"
   ]
  },
  {
   "cell_type": "code",
   "execution_count": 60,
   "id": "707cd709",
   "metadata": {
    "slideshow": {
     "slide_type": "fragment"
    },
    "vscode": {
     "languageId": "rust"
    }
   },
   "outputs": [
    {
     "data": {
      "text/plain": [
       "[13.0]"
      ]
     },
     "execution_count": 60,
     "metadata": {},
     "output_type": "execute_result"
    }
   ],
   "source": [
    "// here Rust can infer what the type is\n",
    "let mut v4 = Vec::new();\n",
    "let c: f32 = 13.0;\n",
    "v4.push(c);  // <= add element at the end\n",
    "v4"
   ]
  },
  {
   "cell_type": "code",
   "execution_count": 61,
   "id": "f9c315d2",
   "metadata": {
    "vscode": {
     "languageId": "rust"
    }
   },
   "outputs": [
    {
     "ename": "Error",
     "evalue": "mismatched types",
     "output_type": "error",
     "traceback": [
      "\u001b[31m[E0308] Error:\u001b[0m mismatched types",
      "   \u001b[38;5;246m╭\u001b[0m\u001b[38;5;246m─\u001b[0m\u001b[38;5;246m[\u001b[0mcommand_61:1:1\u001b[38;5;246m]\u001b[0m",
      "   \u001b[38;5;246m│\u001b[0m",
      " \u001b[38;5;246m3 │\u001b[0m \u001b[38;5;37mv\u001b[0m\u001b[38;5;37m4\u001b[0m\u001b[38;5;249m.\u001b[0m\u001b[38;5;249mp\u001b[0m\u001b[38;5;249mu\u001b[0m\u001b[38;5;249ms\u001b[0m\u001b[38;5;249mh\u001b[0m\u001b[38;5;249m(\u001b[0m\u001b[38;5;68m1\u001b[0m\u001b[38;5;68m2\u001b[0m\u001b[38;5;68m3\u001b[0m\u001b[38;5;249m)\u001b[0m\u001b[38;5;249m;\u001b[0m\u001b[38;5;249m \u001b[0m\u001b[38;5;249m/\u001b[0m\u001b[38;5;249m/\u001b[0m\u001b[38;5;249m \u001b[0m\u001b[38;5;249m<\u001b[0m\u001b[38;5;249m=\u001b[0m\u001b[38;5;249m \u001b[0m\u001b[38;5;249ma\u001b[0m\u001b[38;5;249md\u001b[0m\u001b[38;5;249md\u001b[0m\u001b[38;5;249m \u001b[0m\u001b[38;5;249me\u001b[0m\u001b[38;5;249ml\u001b[0m\u001b[38;5;249me\u001b[0m\u001b[38;5;249mm\u001b[0m\u001b[38;5;249me\u001b[0m\u001b[38;5;249mn\u001b[0m\u001b[38;5;249mt\u001b[0m\u001b[38;5;249m \u001b[0m\u001b[38;5;249ma\u001b[0m\u001b[38;5;249mt\u001b[0m\u001b[38;5;249m \u001b[0m\u001b[38;5;249mt\u001b[0m\u001b[38;5;249mh\u001b[0m\u001b[38;5;249me\u001b[0m\u001b[38;5;249m \u001b[0m\u001b[38;5;249me\u001b[0m\u001b[38;5;249mn\u001b[0m\u001b[38;5;249md\u001b[0m",
      " \u001b[38;5;240m  │\u001b[0m \u001b[38;5;37m─\u001b[0m\u001b[38;5;37m┬\u001b[0m      \u001b[38;5;68m─\u001b[0m\u001b[38;5;68m┬\u001b[0m\u001b[38;5;68m─\u001b[0m  ",
      " \u001b[38;5;240m  │\u001b[0m  \u001b[38;5;37m╰\u001b[0m\u001b[38;5;37m─\u001b[0m\u001b[38;5;37m─\u001b[0m\u001b[38;5;37m─\u001b[0m\u001b[38;5;37m─\u001b[0m\u001b[38;5;37m─\u001b[0m\u001b[38;5;37m─\u001b[0m\u001b[38;5;37m─\u001b[0m\u001b[38;5;37m─\u001b[0m\u001b[38;5;37m─\u001b[0m\u001b[38;5;37m─\u001b[0m\u001b[38;5;37m─\u001b[0m ... which causes `v4` to have type `Vec<{integer}>`",
      " \u001b[38;5;240m  │\u001b[0m          \u001b[38;5;68m│\u001b[0m   ",
      " \u001b[38;5;240m  │\u001b[0m          \u001b[38;5;68m╰\u001b[0m\u001b[38;5;68m─\u001b[0m\u001b[38;5;68m─\u001b[0m\u001b[38;5;68m─\u001b[0m this argument has type `{integer}`...",
      " \u001b[38;5;240m  │\u001b[0m ",
      " \u001b[38;5;246m5 │\u001b[0m \u001b[38;5;249mv\u001b[0m\u001b[38;5;249m4\u001b[0m\u001b[38;5;249m.\u001b[0m\u001b[38;5;100mp\u001b[0m\u001b[38;5;100mu\u001b[0m\u001b[38;5;100ms\u001b[0m\u001b[38;5;100mh\u001b[0m\u001b[38;5;249m(\u001b[0m\u001b[38;5;54mc\u001b[0m\u001b[38;5;249m)\u001b[0m\u001b[38;5;249m;\u001b[0m",
      " \u001b[38;5;240m  │\u001b[0m    \u001b[38;5;100m─\u001b[0m\u001b[38;5;100m─\u001b[0m\u001b[38;5;100m┬\u001b[0m\u001b[38;5;100m─\u001b[0m \u001b[38;5;54m┬\u001b[0m  ",
      " \u001b[38;5;240m  │\u001b[0m      \u001b[38;5;100m╰\u001b[0m\u001b[38;5;100m─\u001b[0m\u001b[38;5;100m─\u001b[0m\u001b[38;5;100m─\u001b[0m\u001b[38;5;100m─\u001b[0m\u001b[38;5;100m─\u001b[0m arguments to this method are incorrect",
      " \u001b[38;5;240m  │\u001b[0m         \u001b[38;5;54m│\u001b[0m  ",
      " \u001b[38;5;240m  │\u001b[0m         \u001b[38;5;54m╰\u001b[0m\u001b[38;5;54m─\u001b[0m\u001b[38;5;54m─\u001b[0m expected integer, found `f32`",
      " \u001b[38;5;240m  │\u001b[0m ",
      " \u001b[38;5;240m  │\u001b[0m \u001b[38;5;115mNote\u001b[0m: note: method defined here",
      "\u001b[38;5;246m───╯\u001b[0m"
     ]
    }
   ],
   "source": [
    "// ERROR -- infers integer then tries to push float\n",
    "let mut v4 = Vec::new();\n",
    "v4.push(123); // <= add element at the end\n",
    "let c: f32 = 13.0;\n",
    "v4.push(c);\n",
    "v4"
   ]
  },
  {
   "cell_type": "markdown",
   "id": "2419d53b",
   "metadata": {
    "slideshow": {
     "slide_type": "subslide"
    }
   },
   "source": [
    "### Basic operations"
   ]
  },
  {
   "cell_type": "code",
   "execution_count": 63,
   "id": "86ce0d20",
   "metadata": {
    "cell_style": "split",
    "vscode": {
     "languageId": "rust"
    }
   },
   "outputs": [
    {
     "name": "stdout",
     "output_type": "stream",
     "text": [
      "[] (length=0)\n",
      "[true, false] (length=2)\n"
     ]
    }
   ],
   "source": [
    "// adding elements at the end\n",
    "let mut v2 = Vec::<bool>::new();\n",
    "println!(\"{:?} (length={})\", v2, v2.len());\n",
    "v2.push(true);\n",
    "v2.push(false);\n",
    "println!(\"{:?} (length={})\", v2, v2.len());"
   ]
  },
  {
   "cell_type": "code",
   "execution_count": 64,
   "id": "427a4b1d",
   "metadata": {
    "cell_style": "split",
    "slideshow": {
     "slide_type": "fragment"
    },
    "vscode": {
     "languageId": "rust"
    }
   },
   "outputs": [
    {
     "name": "stdout",
     "output_type": "stream",
     "text": [
      "[false, false]\n"
     ]
    }
   ],
   "source": [
    "// accessing specific element\n",
    "v2[0] = v2[1];\n",
    "println!(\"{:?}\",v2);\n",
    "\n",
    "// works because of bool values are copied\n",
    "// by default"
   ]
  },
  {
   "cell_type": "markdown",
   "id": "16945b24",
   "metadata": {},
   "source": [
    "Try the following code which won't work as written."
   ]
  },
  {
   "cell_type": "code",
   "execution_count": 78,
   "id": "d5185aa5",
   "metadata": {
    "cell_style": "split",
    "slideshow": {
     "slide_type": "fragment"
    },
    "vscode": {
     "languageId": "rust"
    }
   },
   "outputs": [
    {
     "ename": "Error",
     "evalue": "cannot move out of index of `Vec<Seconds>`",
     "output_type": "error",
     "traceback": [
      "\u001b[31m[E0507] Error:\u001b[0m cannot move out of index of `Vec<Seconds>`",
      "   \u001b[38;5;246m╭\u001b[0m\u001b[38;5;246m─\u001b[0m\u001b[38;5;246m[\u001b[0mcommand_78:1:1\u001b[38;5;246m]\u001b[0m",
      "   \u001b[38;5;246m│\u001b[0m",
      " \u001b[38;5;246m8 │\u001b[0m \u001b[38;5;249ml\u001b[0m\u001b[38;5;249me\u001b[0m\u001b[38;5;249mt\u001b[0m\u001b[38;5;249m \u001b[0m\u001b[38;5;249mz\u001b[0m\u001b[38;5;249m \u001b[0m\u001b[38;5;249m=\u001b[0m\u001b[38;5;249m \u001b[0m\u001b[38;5;54mv\u001b[0m\u001b[38;5;54m[\u001b[0m\u001b[38;5;54m0\u001b[0m\u001b[38;5;54m]\u001b[0m\u001b[38;5;249m;\u001b[0m",
      " \u001b[38;5;240m  │\u001b[0m         \u001b[38;5;100m┬\u001b[0m\u001b[38;5;54m─\u001b[0m\u001b[38;5;54m┬\u001b[0m\u001b[38;5;54m─\u001b[0m  ",
      " \u001b[38;5;240m  │\u001b[0m         \u001b[38;5;100m╰\u001b[0m\u001b[38;5;100m─\u001b[0m\u001b[38;5;100m─\u001b[0m\u001b[38;5;100m─\u001b[0m\u001b[38;5;100m─\u001b[0m\u001b[38;5;100m─\u001b[0m help: consider borrowing here: `&`",
      " \u001b[38;5;240m  │\u001b[0m           \u001b[38;5;54m│\u001b[0m   ",
      " \u001b[38;5;240m  │\u001b[0m           \u001b[38;5;54m╰\u001b[0m\u001b[38;5;54m─\u001b[0m\u001b[38;5;54m─\u001b[0m\u001b[38;5;54m─\u001b[0m move occurs because value has type `Seconds`, which does not implement the `Copy` trait",
      "\u001b[38;5;246m───╯\u001b[0m"
     ]
    }
   ],
   "source": [
    "// won't work\n",
    "//#[derive(Copy, Clone)]\n",
    "struct Seconds(i64);   // define a tuple struct with one element\n",
    "let x = Seconds(333);\n",
    "let mut v = Vec::new();\n",
    "v.push(Seconds(123));\n",
    "v.push(Seconds(321));\n",
    "let z = v[0];"
   ]
  },
  {
   "cell_type": "markdown",
   "id": "c5e7db1f",
   "metadata": {},
   "source": [
    "There are (at least) two ways to fix the above cell.\n",
    "1. Make line 8 a borrow: `let z = &v[0];` which requires another change per the error message.\n",
    "2. Add `#[derive(Copy, Clone)]` to the struct definition.\n"
   ]
  },
  {
   "cell_type": "code",
   "execution_count": 30,
   "id": "2c46c3f0",
   "metadata": {
    "cell_style": "split",
    "slideshow": {
     "slide_type": "fragment"
    },
    "vscode": {
     "languageId": "rust"
    }
   },
   "outputs": [],
   "source": [
    "// references do work\n",
    "struct Minutes(i64);  // tuple struct with one element\n",
    "\n",
    "{\n",
    "    let mut v = Vec::new();\n",
    "    v.push(Minutes(123));\n",
    "    v.push(Minutes(321));\n",
    "    let z1 : &Minutes = &v[1];\n",
    "    let z2 : &mut Minutes = &mut v[1];\n",
    "};"
   ]
  },
  {
   "cell_type": "code",
   "execution_count": 31,
   "id": "6418c171",
   "metadata": {
    "slideshow": {
     "slide_type": "fragment"
    },
    "vscode": {
     "languageId": "rust"
    }
   },
   "outputs": [
    {
     "name": "stderr",
     "output_type": "stream",
     "text": [
      "thread '<unnamed>' panicked at src/lib.rs:230:2:\n",
      "index out of bounds: the len is 5 but the index is 100\n",
      "stack backtrace:\n",
      "   0: _rust_begin_unwind\n",
      "   1: core::panicking::panic_fmt\n",
      "   2: core::panicking::panic_bounds_check\n",
      "   3: std::panic::catch_unwind\n",
      "   4: _run_user_code_27\n",
      "   5: evcxr::runtime::Runtime::run_loop\n",
      "   6: evcxr::runtime::runtime_hook\n",
      "   7: evcxr_jupyter::main\n",
      "note: Some details are omitted, run with `RUST_BACKTRACE=full` for a verbose backtrace.\n"
     ]
    }
   ],
   "source": [
    "// reaching out of bounds (causes runtime panic)\n",
    "let v = vec![1,2,3,4,5];\n",
    "v[100]"
   ]
  },
  {
   "cell_type": "markdown",
   "id": "e45389b6",
   "metadata": {
    "cell_style": "center",
    "slideshow": {
     "slide_type": "subslide"
    }
   },
   "source": [
    "### Basic operations\n",
    "\n",
    "Use `.get(index)` to access elements without panicking.\n"
   ]
  },
  {
   "cell_type": "code",
   "execution_count": 79,
   "id": "6d900113",
   "metadata": {
    "cell_style": "split",
    "slideshow": {
     "slide_type": "-"
    },
    "vscode": {
     "languageId": "rust"
    }
   },
   "outputs": [
    {
     "data": {
      "text/plain": [
       "Some(2)"
      ]
     },
     "execution_count": 79,
     "metadata": {},
     "output_type": "execute_result"
    }
   ],
   "source": [
    "// With bound checking\n",
    "// .get(index) returns Option<&T>\n",
    "let mut v = vec![0,1,2];\n",
    "// v[2]\n",
    "v.get(2)\n"
   ]
  },
  {
   "cell_type": "code",
   "execution_count": 80,
   "id": "3b8232cf",
   "metadata": {
    "cell_style": "split",
    "slideshow": {
     "slide_type": "-"
    },
    "vscode": {
     "languageId": "rust"
    }
   },
   "outputs": [
    {
     "data": {
      "text/plain": [
       "None"
      ]
     },
     "execution_count": 80,
     "metadata": {},
     "output_type": "execute_result"
    }
   ],
   "source": [
    "// try to access an element that doesn't exist\n",
    "v.get(100)"
   ]
  },
  {
   "cell_type": "code",
   "execution_count": 36,
   "id": "cbcb6c8b",
   "metadata": {
    "slideshow": {
     "slide_type": "fragment"
    },
    "vscode": {
     "languageId": "rust"
    }
   },
   "outputs": [
    {
     "name": "stdout",
     "output_type": "stream",
     "text": [
      "Some(2), [0, 1] 2 3\n"
     ]
    }
   ],
   "source": [
    "// removing last element\n",
    "// returns `Option<T>)\n",
    "let last = v.pop();\n",
    "println!(\"{:?}, {:?} {:?} {:?}\", last, v, v.len(), v.capacity());"
   ]
  },
  {
   "cell_type": "code",
   "execution_count": 37,
   "id": "d4a86895",
   "metadata": {
    "vscode": {
     "languageId": "rust"
    }
   },
   "outputs": [
    {
     "name": "stdout",
     "output_type": "stream",
     "text": [
      "(), [0, 1, 15] 3 3\n"
     ]
    }
   ],
   "source": [
    "// push an element onto the end of the vector\n",
    "let last = v.push(15);\n",
    "println!(\"{:?}, {:?} {:?} {:?}\", last, v, v.len(), v.capacity());"
   ]
  },
  {
   "cell_type": "markdown",
   "id": "a485397c",
   "metadata": {
    "slideshow": {
     "slide_type": "subslide"
    }
   },
   "source": [
    "### Iterating over vector\n",
    "\n",
    "* Iterating: `.iter`\n",
    "* Mutable iterating: `.iter_mut`"
   ]
  },
  {
   "cell_type": "code",
   "execution_count": 88,
   "id": "95916dc5",
   "metadata": {
    "cell_style": "split",
    "slideshow": {
     "slide_type": "fragment"
    },
    "vscode": {
     "languageId": "rust"
    }
   },
   "outputs": [
    {
     "name": "stdout",
     "output_type": "stream",
     "text": [
      "2\n"
     ]
    },
    {
     "name": "stdout",
     "output_type": "stream",
     "text": [
      "1\n",
      "0\n"
     ]
    }
   ],
   "source": [
    "let mut v = vec![2,1,0];\n",
    "for z in v.iter() { // z in v.iter()\n",
    "    println!(\"{}\",z);\n",
    "};"
   ]
  },
  {
   "cell_type": "code",
   "execution_count": 89,
   "id": "5d8ceed4",
   "metadata": {
    "vscode": {
     "languageId": "rust"
    }
   },
   "outputs": [
    {
     "name": "stdout",
     "output_type": "stream",
     "text": [
      "2\n",
      "1\n",
      "0\n"
     ]
    }
   ],
   "source": [
    "let mut v = vec![2,1,0];\n",
    "for z in v { // implies z in v.iter()\n",
    "    println!(\"{}\",z);\n",
    "};"
   ]
  },
  {
   "cell_type": "code",
   "execution_count": 91,
   "id": "0eca49de",
   "metadata": {
    "cell_style": "split",
    "slideshow": {
     "slide_type": "fragment"
    },
    "vscode": {
     "languageId": "rust"
    }
   },
   "outputs": [
    {
     "name": "stdout",
     "output_type": "stream",
     "text": [
      "[2, 1, 0]\n",
      "[3, 2, 1]\n"
     ]
    }
   ],
   "source": [
    "let mut v = vec![2,1,0];\n",
    "println!(\"{:?}\",v);\n",
    "for z in v.iter_mut() { // z in v.iter_mut()\n",
    "    *z += 1;\n",
    "}\n",
    "println!(\"{:?}\",v);"
   ]
  },
  {
   "cell_type": "code",
   "execution_count": 92,
   "id": "d9369fdd",
   "metadata": {
    "vscode": {
     "languageId": "rust"
    }
   },
   "outputs": [
    {
     "name": "stdout",
     "output_type": "stream",
     "text": [
      "[4, 3, 2]\n"
     ]
    }
   ],
   "source": [
    "for z in &mut v { // implies z in v.iter_mut()\n",
    "    *z += 1;\n",
    "}\n",
    "println!(\"{:?}\",v);"
   ]
  },
  {
   "cell_type": "code",
   "execution_count": 93,
   "id": "6e1c20cc",
   "metadata": {
    "slideshow": {
     "slide_type": "fragment"
    },
    "vscode": {
     "languageId": "rust"
    }
   },
   "outputs": [
    {
     "name": "stdout",
     "output_type": "stream",
     "text": [
      "0: 4\n",
      "1: 3\n",
      "2: 2\n"
     ]
    }
   ],
   "source": [
    "// if you need index as well\n",
    "for (i,z) in v.iter().enumerate() {\n",
    "    println!(\"{}: {}\",i,z);\n",
    "};"
   ]
  },
  {
   "cell_type": "code",
   "execution_count": 41,
   "id": "80aca838",
   "metadata": {
    "vscode": {
     "languageId": "rust"
    }
   },
   "outputs": [
    {
     "ename": "Error",
     "evalue": "borrow of moved value: `v1`",
     "output_type": "error",
     "traceback": [
      "\u001b[31m[E0382] Error:\u001b[0m borrow of moved value: `v1`",
      "   \u001b[38;5;246m╭\u001b[0m\u001b[38;5;246m─\u001b[0m\u001b[38;5;246m[\u001b[0mcommand_41:1:1\u001b[38;5;246m]\u001b[0m",
      "   \u001b[38;5;246m│\u001b[0m",
      " \u001b[38;5;246m2 │\u001b[0m \u001b[38;5;249ml\u001b[0m\u001b[38;5;249me\u001b[0m\u001b[38;5;249mt\u001b[0m\u001b[38;5;249m \u001b[0m\u001b[38;5;68mm\u001b[0m\u001b[38;5;68mu\u001b[0m\u001b[38;5;68mt\u001b[0m\u001b[38;5;68m \u001b[0m\u001b[38;5;68mv\u001b[0m\u001b[38;5;68m1\u001b[0m\u001b[38;5;249m \u001b[0m\u001b[38;5;249m=\u001b[0m\u001b[38;5;249m \u001b[0m\u001b[38;5;249mv\u001b[0m\u001b[38;5;249me\u001b[0m\u001b[38;5;249mc\u001b[0m\u001b[38;5;249m!\u001b[0m\u001b[38;5;249m[\u001b[0m\u001b[38;5;249m2\u001b[0m\u001b[38;5;249m,\u001b[0m\u001b[38;5;249m1\u001b[0m\u001b[38;5;249m,\u001b[0m\u001b[38;5;249m0\u001b[0m\u001b[38;5;249m]\u001b[0m\u001b[38;5;249m;\u001b[0m",
      " \u001b[38;5;240m  │\u001b[0m     \u001b[38;5;68m─\u001b[0m\u001b[38;5;68m─\u001b[0m\u001b[38;5;68m─\u001b[0m\u001b[38;5;68m┬\u001b[0m\u001b[38;5;68m─\u001b[0m\u001b[38;5;68m─\u001b[0m  ",
      " \u001b[38;5;240m  │\u001b[0m        \u001b[38;5;68m╰\u001b[0m\u001b[38;5;68m─\u001b[0m\u001b[38;5;68m─\u001b[0m\u001b[38;5;68m─\u001b[0m\u001b[38;5;68m─\u001b[0m move occurs because `v1` has type `Vec<i32>`, which does not implement the `Copy` trait",
      " \u001b[38;5;246m3 │\u001b[0m \u001b[38;5;249ml\u001b[0m\u001b[38;5;249me\u001b[0m\u001b[38;5;249mt\u001b[0m\u001b[38;5;249m \u001b[0m\u001b[38;5;249mm\u001b[0m\u001b[38;5;249mu\u001b[0m\u001b[38;5;249mt\u001b[0m\u001b[38;5;249m \u001b[0m\u001b[38;5;249mv\u001b[0m\u001b[38;5;249m2\u001b[0m\u001b[38;5;249m \u001b[0m\u001b[38;5;249m=\u001b[0m\u001b[38;5;249m \u001b[0m\u001b[38;5;54mv\u001b[0m\u001b[38;5;54m1\u001b[0m\u001b[38;5;249m;\u001b[0m",
      " \u001b[38;5;240m  │\u001b[0m              \u001b[38;5;54m─\u001b[0m\u001b[38;5;54m┬\u001b[0m\u001b[38;5;37m│\u001b[0m ",
      " \u001b[38;5;240m  │\u001b[0m               \u001b[38;5;54m╰\u001b[0m\u001b[38;5;54m─\u001b[0m\u001b[38;5;54m─\u001b[0m value moved here",
      " \u001b[38;5;240m  │\u001b[0m                \u001b[38;5;37m│\u001b[0m ",
      " \u001b[38;5;240m  │\u001b[0m                \u001b[38;5;37m╰\u001b[0m\u001b[38;5;37m─\u001b[0m help: consider cloning the value if the performance cost is acceptable: `.clone()`",
      " \u001b[38;5;246m4 │\u001b[0m \u001b[38;5;249mp\u001b[0m\u001b[38;5;249mr\u001b[0m\u001b[38;5;249mi\u001b[0m\u001b[38;5;249mn\u001b[0m\u001b[38;5;249mt\u001b[0m\u001b[38;5;249ml\u001b[0m\u001b[38;5;249mn\u001b[0m\u001b[38;5;249m!\u001b[0m\u001b[38;5;249m(\u001b[0m\u001b[38;5;249m\"\u001b[0m\u001b[38;5;249mv\u001b[0m\u001b[38;5;249m1\u001b[0m\u001b[38;5;249m=\u001b[0m\u001b[38;5;249m{\u001b[0m\u001b[38;5;249m:\u001b[0m\u001b[38;5;249m?\u001b[0m\u001b[38;5;249m}\u001b[0m\u001b[38;5;249m,\u001b[0m\u001b[38;5;249m \u001b[0m\u001b[38;5;249mv\u001b[0m\u001b[38;5;249m2\u001b[0m\u001b[38;5;249m=\u001b[0m\u001b[38;5;249m{\u001b[0m\u001b[38;5;249m:\u001b[0m\u001b[38;5;249m?\u001b[0m\u001b[38;5;249m}\u001b[0m\u001b[38;5;249m\"\u001b[0m\u001b[38;5;249m,\u001b[0m\u001b[38;5;249m \u001b[0m\u001b[38;5;100mv\u001b[0m\u001b[38;5;100m1\u001b[0m\u001b[38;5;249m,\u001b[0m\u001b[38;5;249m \u001b[0m\u001b[38;5;249mv\u001b[0m\u001b[38;5;249m2\u001b[0m\u001b[38;5;249m)\u001b[0m\u001b[38;5;249m;\u001b[0m",
      " \u001b[38;5;240m  │\u001b[0m                              \u001b[38;5;100m─\u001b[0m\u001b[38;5;100m┬\u001b[0m  ",
      " \u001b[38;5;240m  │\u001b[0m                               \u001b[38;5;100m╰\u001b[0m\u001b[38;5;100m─\u001b[0m\u001b[38;5;100m─\u001b[0m value borrowed here after move",
      "\u001b[38;5;246m───╯\u001b[0m"
     ]
    }
   ],
   "source": [
    "// Will not work since vectors have to obey memory ownership semantics\n",
    "// (allocated in the heap)\n",
    "let mut v1 = vec![2,1,0];\n",
    "let mut v2 = v1;\n",
    "println!(\"v1={:?}, v2={:?}\", v1, v2);"
   ]
  },
  {
   "cell_type": "code",
   "execution_count": 42,
   "id": "441213ed",
   "metadata": {
    "vscode": {
     "languageId": "rust"
    }
   },
   "outputs": [
    {
     "name": "stdout",
     "output_type": "stream",
     "text": [
      "v1=[12, 1, 0], v2=[2, 1, 0]\n"
     ]
    }
   ],
   "source": [
    "let mut v1 = vec![2,1,0];\n",
    "let mut v2 = v1.clone();  // clone instead of move\n",
    "v1[0] = 12;\n",
    "println!(\"v1={:?}, v2={:?}\", v1, v2);"
   ]
  },
  {
   "cell_type": "markdown",
   "id": "c7420dce",
   "metadata": {},
   "source": [
    "Consider the following code:"
   ]
  },
  {
   "cell_type": "code",
   "execution_count": 102,
   "id": "e86d2de0",
   "metadata": {
    "vscode": {
     "languageId": "rust"
    }
   },
   "outputs": [
    {
     "name": "stdout",
     "output_type": "stream",
     "text": [
      "v3=[7, 1, 0]\n"
     ]
    },
    {
     "name": "stdout",
     "output_type": "stream",
     "text": [
      "v1=[7, 1, 0]\n",
      "v3=[12, 4, 6]\n",
      "v2=[12, 4, 6]\n"
     ]
    }
   ],
   "source": [
    "fn testme() {\n",
    "    let mut v1: Vec<u32> = vec![2,1,0];\n",
    "    let mut v2: Vec<u32> = vec![2,4,6];\n",
    "\n",
    "    // create a mutable reference to a mutable vector\n",
    "    let mut v3: &mut Vec<u32> =  &mut v1;  // v3 and v1 point to the same vector\n",
    "\n",
    "    v3[0] = 7;\n",
    "    println!(\"v3={:?}\", v3);\n",
    "    println!(\"v1={:?}\", v1);\n",
    "\n",
    "    v3 = &mut v2;\n",
    "    v3[0] = 12;\n",
    "    println!(\"v3={:?}\", v3);\n",
    "    println!(\"v2={:?}\", v2);\n",
    "}\n",
    "testme();"
   ]
  },
  {
   "cell_type": "code",
   "execution_count": 50,
   "id": "38737154",
   "metadata": {
    "vscode": {
     "languageId": "rust"
    }
   },
   "outputs": [
    {
     "ename": "Error",
     "evalue": "cannot borrow `v1` as immutable because it is also borrowed as mutable",
     "output_type": "error",
     "traceback": [
      "\u001b[31m[E0502] Error:\u001b[0m cannot borrow `v1` as immutable because it is also borrowed as mutable",
      "    \u001b[38;5;246m╭\u001b[0m\u001b[38;5;246m─\u001b[0m\u001b[38;5;246m[\u001b[0mcommand_50:1:1\u001b[38;5;246m]\u001b[0m",
      "    \u001b[38;5;246m│\u001b[0m",
      " \u001b[38;5;246m 3 │\u001b[0m \u001b[38;5;249m \u001b[0m\u001b[38;5;249m \u001b[0m\u001b[38;5;249m \u001b[0m\u001b[38;5;249m \u001b[0m\u001b[38;5;249ml\u001b[0m\u001b[38;5;249me\u001b[0m\u001b[38;5;249mt\u001b[0m\u001b[38;5;249m \u001b[0m\u001b[38;5;249mm\u001b[0m\u001b[38;5;249mu\u001b[0m\u001b[38;5;249mt\u001b[0m\u001b[38;5;249m \u001b[0m\u001b[38;5;249mv\u001b[0m\u001b[38;5;249m2\u001b[0m\u001b[38;5;249m:\u001b[0m\u001b[38;5;249m \u001b[0m\u001b[38;5;249m&\u001b[0m\u001b[38;5;249mm\u001b[0m\u001b[38;5;249mu\u001b[0m\u001b[38;5;249mt\u001b[0m\u001b[38;5;249m \u001b[0m\u001b[38;5;249mV\u001b[0m\u001b[38;5;249me\u001b[0m\u001b[38;5;249mc\u001b[0m\u001b[38;5;249m<\u001b[0m\u001b[38;5;249mu\u001b[0m\u001b[38;5;249m3\u001b[0m\u001b[38;5;249m2\u001b[0m\u001b[38;5;249m>\u001b[0m\u001b[38;5;249m \u001b[0m\u001b[38;5;249m=\u001b[0m\u001b[38;5;249m \u001b[0m\u001b[38;5;249m \u001b[0m\u001b[38;5;100m&\u001b[0m\u001b[38;5;100mm\u001b[0m\u001b[38;5;100mu\u001b[0m\u001b[38;5;100mt\u001b[0m\u001b[38;5;100m \u001b[0m\u001b[38;5;100mv\u001b[0m\u001b[38;5;100m1\u001b[0m\u001b[38;5;249m;\u001b[0m\u001b[38;5;249m \u001b[0m\u001b[38;5;249m/\u001b[0m\u001b[38;5;249m/\u001b[0m\u001b[38;5;249m \u001b[0m\u001b[38;5;249mv\u001b[0m\u001b[38;5;249m2\u001b[0m\u001b[38;5;249m \u001b[0m\u001b[38;5;249mi\u001b[0m\u001b[38;5;249ms\u001b[0m\u001b[38;5;249m \u001b[0m\u001b[38;5;249ma\u001b[0m\u001b[38;5;249m \u001b[0m\u001b[38;5;249mm\u001b[0m\u001b[38;5;249mu\u001b[0m\u001b[38;5;249mt\u001b[0m\u001b[38;5;249ma\u001b[0m\u001b[38;5;249mb\u001b[0m\u001b[38;5;249ml\u001b[0m\u001b[38;5;249me\u001b[0m\u001b[38;5;249m \u001b[0m\u001b[38;5;249mr\u001b[0m\u001b[38;5;249me\u001b[0m\u001b[38;5;249mf\u001b[0m\u001b[38;5;249me\u001b[0m\u001b[38;5;249mr\u001b[0m\u001b[38;5;249me\u001b[0m\u001b[38;5;249mn\u001b[0m\u001b[38;5;249mc\u001b[0m\u001b[38;5;249me\u001b[0m\u001b[38;5;249m \u001b[0m\u001b[38;5;249mt\u001b[0m\u001b[38;5;249mo\u001b[0m\u001b[38;5;249m \u001b[0m\u001b[38;5;249ma\u001b[0m\u001b[38;5;249m \u001b[0m\u001b[38;5;249mm\u001b[0m\u001b[38;5;249mu\u001b[0m\u001b[38;5;249mt\u001b[0m\u001b[38;5;249ma\u001b[0m\u001b[38;5;249mb\u001b[0m\u001b[38;5;249ml\u001b[0m\u001b[38;5;249me\u001b[0m\u001b[38;5;249m \u001b[0m\u001b[38;5;249mv\u001b[0m\u001b[38;5;249me\u001b[0m\u001b[38;5;249mc\u001b[0m\u001b[38;5;249mt\u001b[0m\u001b[38;5;249mo\u001b[0m\u001b[38;5;249mr\u001b[0m\u001b[38;5;249m \u001b[0m\u001b[38;5;249mo\u001b[0m\u001b[38;5;249mf\u001b[0m\u001b[38;5;249m \u001b[0m\u001b[38;5;249mu\u001b[0m\u001b[38;5;249m3\u001b[0m\u001b[38;5;249m2\u001b[0m",
      " \u001b[38;5;240m   │\u001b[0m                                  \u001b[38;5;100m─\u001b[0m\u001b[38;5;100m─\u001b[0m\u001b[38;5;100m─\u001b[0m\u001b[38;5;100m┬\u001b[0m\u001b[38;5;100m─\u001b[0m\u001b[38;5;100m─\u001b[0m\u001b[38;5;100m─\u001b[0m  ",
      " \u001b[38;5;240m   │\u001b[0m                                     \u001b[38;5;100m╰\u001b[0m\u001b[38;5;100m─\u001b[0m\u001b[38;5;100m─\u001b[0m\u001b[38;5;100m─\u001b[0m\u001b[38;5;100m─\u001b[0m\u001b[38;5;100m─\u001b[0m mutable borrow occurs here",
      " \u001b[38;5;240m   │\u001b[0m ",
      " \u001b[38;5;246m 6 │\u001b[0m \u001b[38;5;249m \u001b[0m\u001b[38;5;249m \u001b[0m\u001b[38;5;249m \u001b[0m\u001b[38;5;249m \u001b[0m\u001b[38;5;249mp\u001b[0m\u001b[38;5;249mr\u001b[0m\u001b[38;5;249mi\u001b[0m\u001b[38;5;249mn\u001b[0m\u001b[38;5;249mt\u001b[0m\u001b[38;5;249ml\u001b[0m\u001b[38;5;249mn\u001b[0m\u001b[38;5;249m!\u001b[0m\u001b[38;5;249m(\u001b[0m\u001b[38;5;249m\"\u001b[0m\u001b[38;5;249mv\u001b[0m\u001b[38;5;249m1\u001b[0m\u001b[38;5;249m=\u001b[0m\u001b[38;5;249m{\u001b[0m\u001b[38;5;249m:\u001b[0m\u001b[38;5;249m?\u001b[0m\u001b[38;5;249m}\u001b[0m\u001b[38;5;249m\"\u001b[0m\u001b[38;5;249m,\u001b[0m\u001b[38;5;249m \u001b[0m\u001b[38;5;54mv\u001b[0m\u001b[38;5;54m1\u001b[0m\u001b[38;5;249m)\u001b[0m\u001b[38;5;249m;\u001b[0m",
      " \u001b[38;5;240m   │\u001b[0m                         \u001b[38;5;54m─\u001b[0m\u001b[38;5;54m┬\u001b[0m  ",
      " \u001b[38;5;240m   │\u001b[0m                          \u001b[38;5;54m╰\u001b[0m\u001b[38;5;54m─\u001b[0m\u001b[38;5;54m─\u001b[0m immutable borrow occurs here",
      " \u001b[38;5;240m   │\u001b[0m ",
      " \u001b[38;5;246m10 │\u001b[0m \u001b[38;5;249m \u001b[0m\u001b[38;5;249m \u001b[0m\u001b[38;5;249m \u001b[0m\u001b[38;5;249m \u001b[0m\u001b[38;5;249mp\u001b[0m\u001b[38;5;249mr\u001b[0m\u001b[38;5;249mi\u001b[0m\u001b[38;5;249mn\u001b[0m\u001b[38;5;249mt\u001b[0m\u001b[38;5;249ml\u001b[0m\u001b[38;5;249mn\u001b[0m\u001b[38;5;249m!\u001b[0m\u001b[38;5;249m(\u001b[0m\u001b[38;5;249m\"\u001b[0m\u001b[38;5;249mv\u001b[0m\u001b[38;5;249m2\u001b[0m\u001b[38;5;249m=\u001b[0m\u001b[38;5;249m{\u001b[0m\u001b[38;5;249m:\u001b[0m\u001b[38;5;249m?\u001b[0m\u001b[38;5;249m}\u001b[0m\u001b[38;5;249m\"\u001b[0m\u001b[38;5;249m,\u001b[0m\u001b[38;5;249m \u001b[0m\u001b[38;5;68mv\u001b[0m\u001b[38;5;68m2\u001b[0m\u001b[38;5;249m)\u001b[0m\u001b[38;5;249m;\u001b[0m",
      " \u001b[38;5;240m   │\u001b[0m                         \u001b[38;5;68m─\u001b[0m\u001b[38;5;68m┬\u001b[0m  ",
      " \u001b[38;5;240m   │\u001b[0m                          \u001b[38;5;68m╰\u001b[0m\u001b[38;5;68m─\u001b[0m\u001b[38;5;68m─\u001b[0m mutable borrow later used here",
      "\u001b[38;5;246m────╯\u001b[0m"
     ]
    }
   ],
   "source": [
    "fn testme() {\n",
    "    let mut v1: Vec<u32> = vec![2,1,0];  // v1 is a mutable vector of u32\n",
    "    let mut v2: &mut Vec<u32> =  &mut v1; // v2 is a mutable reference to a mutable vector of u32\n",
    "    v2[0] = 12;\n",
    "    println!(\"v2={:?}\", v2);  \n",
    "    println!(\"v1={:?}\", v1);  // immutable borrow\n",
    "    // But the two below will not work.  Compiler is not smart enough to analyze what is happening inside println\n",
    "    // So it appears like you are passing two references one that is immutable (v1) and one mutable (v2)\n",
    "    // which is not safe.\n",
    "    println!(\"v2={:?}\", v2);\n",
    "    //println!(\"v1={:?}, v2={:?}\", v1, v2);\n",
    "}\n",
    "testme();"
   ]
  },
  {
   "cell_type": "code",
   "execution_count": 103,
   "id": "67cfebb6",
   "metadata": {
    "vscode": {
     "languageId": "rust"
    }
   },
   "outputs": [
    {
     "name": "stdout",
     "output_type": "stream",
     "text": [
      "[[0, 0, 0, 0, 0, 0, 0, 0, 0, 0, 0, 0, 0, 0, 0, 0, 0, 0, 0, 0], [0, 0, 0, 0, 0, 0, 0, 0, 0, 0, 0, 0, 0, 0, 0, 0, 0, 0, 0, 0], [0, 0, 0, 0, 0, 0, 0, 0, 0, 0, 0, 0, 0, 0, 0, 0, 0, 0, 0, 0], [0, 0, 0, 0, 0, 0, 0, 0, 0, 0, 0, 0, 0, 0, 0, 0, 0, 0, 0, 0], [0, 0, 0, 0, 0, 0, 0, 0, 0, 0, 0, 0, 0, 0, 0, 0, 0, 0, 0, 0], [0, 0, 0, 0, 0, 0, 0, 0, 0, 0, 0, 0, 0, 0, 0, 0, 0, 0, 0, 0], [0, 0, 0, 0, 0, 0, 0, 0, 0, 0, 0, 0, 0, 0, 0, 0, 0, 0, 0, 0], [0, 0, 0, 0, 0, 0, 0, 0, 0, 0, 0, 0, 0, 0, 0, 0, 0, 0, 0, 0], [0, 0, 0, 0, 0, 0, 0, 0, 0, 0, 0, 0, 0, 0, 0, 0, 0, 0, 0, 0], [0, 0, 0, 0, 0, 0, 0, 0, 0, 0, 0, 0, 0, 0, 0, 0, 0, 0, 0, 0], [0, 0, 0, 0, 0, 0, 0, 0, 0, 0, 0, 0, 0, 0, 0, 0, 0, 0, 0, 0], [0, 0, 0, 0, 0, 0, 0, 0, 0, 0, 0, 0, 0, 0, 0, 0, 0, 0, 0, 0], [0, 0, 0, 0, 0, 0, 0, 0, 0, 0, 0, 0, 0, 0, 0, 0, 0, 0, 0, 0], [0, 0, 0, 0, 0, 0, 0, 0, 0, 0, 0, 0, 0, 0, 0, 0, 0, 0, 0, 0], [0, 0, 0, 0, 0, 0, 0, 0, 0, 0, 0, 0, 0, 0, 0, 0, 0, 0, 0, 0], [0, 0, 0, 0, 0, 0, 0, 0, 0, 0, 0, 0, 0, 0, 0, 0, 0, 0, 0, 0], [0, 0, 0, 0, 0, 0, 0, 0, 0, 0, 0, 0, 0, 0, 0, 0, 0, 0, 0, 0], [0, 0, 0, 0, 0, 0, 0, 0, 0, 0, 0, 0, 0, 0, 0, 0, 0, 0, 0, 0], [0, 0, 0, 0, 0, 0, 0, 0, 0, 0, 0, 0, 0, 0, 0, 0, 0, 0, 0, 0], [0, 0, 0, 0, 0, 0, 0, 0, 0, 0, 0, 0, 0, 0, 0, 0, 0, 0, 0, 0]]\n"
     ]
    }
   ],
   "source": [
    "// Multidimensional vectors\n",
    "let mut v1: Vec<Vec<u32>> = vec![vec![0;20];20];\n",
    "println!(\"{:?}\", v1);"
   ]
  },
  {
   "cell_type": "markdown",
   "id": "a3b18e42",
   "metadata": {},
   "source": [
    "## 4. Tests\n"
   ]
  },
  {
   "cell_type": "markdown",
   "id": "9f617aa5",
   "metadata": {},
   "source": [
    "* Why are tests useful?\n",
    "* What is typical test to functional code ratio? \n",
    "\n",
    "730K lines of code in Meta proxy server, roughly 1:1 ratio of tests to actual code.  [https://github.com/facebook/proxygen](https://github.com/facebook/proxygen)\n",
    "\n",
    "Here is an example of a set of tests.\n",
    "\n",
    "[test example](./tests/src/main.rs)"
   ]
  },
  {
   "cell_type": "code",
   "execution_count": null,
   "id": "deef75a2",
   "metadata": {
    "vscode": {
     "languageId": "rust"
    }
   },
   "outputs": [],
   "source": [
    "fn doubleme(inp: &Vec<f64>) -> Vec<f64> {\n",
    "    let mut nv = inp.clone();\n",
    "    for (i, x) in inp.iter().enumerate() {\n",
    "        nv[i] = *x * 2.0;\n",
    "    }\n",
    "    nv\n",
    "}\n",
    "\n",
    "#[test]\n",
    "fn test_doubleme_positive() {\n",
    "    let v = vec![1.0, 2.0, 3.0];\n",
    "    let w = doubleme(&v);\n",
    "    for (x, y) in v.iter().zip(w.iter()) {\n",
    "        assert_eq!(*y, 2.0 * *x, \"Element is not double\");\n",
    "    }\n",
    "}\n",
    "#[test]\n",
    "fn test_doubleme_negative() {\n",
    "    let v = vec![-1.0, -2.0, -3.0];\n",
    "    let w = doubleme(&v);\n",
    "    for (x, y) in v.iter().zip(w.iter()) {\n",
    "        assert_eq!(*y, 2.0 * *x, \"Negative element is not double\");\n",
    "    }\n",
    "}\n",
    "#[test]\n",
    "fn test_doubleme_zero() {\n",
    "    let v = vec![0.0];\n",
    "    let w = doubleme(&v);\n",
    "    for (x, y) in v.iter().zip(w.iter()) {\n",
    "        assert_eq!(*y, 2.0 * *x, \"Zero element is not double\");\n",
    "    }\n",
    "}\n",
    "#[test]\n",
    "fn test_doubleme_empty() {\n",
    "    let v: Vec<f64> = vec![];\n",
    "    let w = doubleme(&v);\n",
    "    assert_eq!(w.len(), 0, \"Empty Vector is not empty\");\n",
    "}\n",
    "\n",
    "fn testme() {\n",
    "    let v: Vec<f64> = vec![2.0, 3.0, 4.0];\n",
    "    let w = doubleme(&v);\n",
    "    println!(\"V = {:?} W = {:?}\", v, w);\n",
    "}\n",
    "testme()"
   ]
  },
  {
   "cell_type": "markdown",
   "id": "0d5a20e4",
   "metadata": {},
   "source": [
    "**For next time, read sections ...**\n",
    "\n",
    "1. Memory management in vectors\n",
    "2. Hash maps\n",
    "3. Hash maps with custom types\n"
   ]
  },
  {
   "cell_type": "markdown",
   "id": "6fced60c",
   "metadata": {},
   "source": [
    "## In-class Poll\n",
    "\n",
    "https://piazza.com/class/m5qyw6267j12cj/post/176\n"
   ]
  },
  {
   "cell_type": "markdown",
   "id": "4af47182",
   "metadata": {},
   "source": []
  }
 ],
 "metadata": {
  "celltoolbar": "Slideshow",
  "kernelspec": {
   "display_name": "Rust",
   "language": "rust",
   "name": "rust"
  },
  "language_info": {
   "codemirror_mode": "rust",
   "file_extension": ".rs",
   "mimetype": "text/rust",
   "name": "Rust",
   "pygment_lexer": "rust",
   "version": ""
  },
  "rise": {
   "theme": "beige",
   "transition": "fade"
  }
 },
 "nbformat": 4,
 "nbformat_minor": 5
}
