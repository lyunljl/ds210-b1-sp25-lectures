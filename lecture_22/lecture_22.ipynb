{
 "cells": [
  {
   "cell_type": "markdown",
   "id": "fc65d5a9",
   "metadata": {
    "cell_style": "center",
    "slideshow": {
     "slide_type": "slide"
    }
   },
   "source": [
    "# DS-210: Programming for Data Science\n",
    "\n",
    "\n",
    "# Lecture 22: Decision trees."
   ]
  },
  {
   "cell_type": "markdown",
   "id": "b37545c7",
   "metadata": {
    "slideshow": {
     "slide_type": "slide"
    }
   },
   "source": [
    "## Machine learning: supervised vs. unsupervised"
   ]
  },
  {
   "cell_type": "markdown",
   "id": "49d2a466",
   "metadata": {
    "cell_style": "split"
   },
   "source": [
    "### Supervised\n",
    "* Labeled data\n",
    "  - **Example 1:** images labeled with the objects: cat, dog, monkey, elephant, etc.\n",
    "  - **Example 2:** medical data labeled with likelihood of cancer\n",
    "* **Goal:** discover a relationship between attributes to predict unknown labels"
   ]
  },
  {
   "cell_type": "markdown",
   "id": "8863eaca",
   "metadata": {
    "cell_style": "split",
    "slideshow": {
     "slide_type": "fragment"
    }
   },
   "source": [
    "### Unsupervised\n",
    "* Unlabeled data\n",
    "* Want to discover a relationship between data points\n",
    "* **Examples:**\n",
    "  - *clustering*: partition your data into groups of similar objects\n",
    "  - *dimension reduction*: for high dimensional data discover important attributes\n",
    "  - generate random faces based on a sample you see "
   ]
  },
  {
   "cell_type": "markdown",
   "id": "bcf4389c",
   "metadata": {},
   "source": [
    "## Machine learning: Predictive vs descriptive vs prescriptive analytics"
   ]
  },
  {
   "cell_type": "markdown",
   "id": "345484e8",
   "metadata": {},
   "source": [
    "### Descriptive\n",
    "\n",
    "Use our data to explain what has happened in the past (i.e. find patterns in data that has already been observed)\n",
    "\n",
    "### Predictive\n",
    "\n",
    "Use our data to predict what may happen in the future (i.e. apply the observed patterns to new observations and predict outcomes)\n",
    "\n",
    "### Prescriptive\n",
    "\n",
    "Use our data and model to inform decisions we can make to achieve certain outcomes.  This assumes a certain level of control over the data inputs to whatever process is being modeled.  If no such control exists then prescriptive is not possible."
   ]
  },
  {
   "cell_type": "markdown",
   "id": "dda0ecb7",
   "metadata": {
    "slideshow": {
     "slide_type": "slide"
    }
   },
   "source": [
    "## Supervised learning: Decision trees"
   ]
  },
  {
   "cell_type": "markdown",
   "id": "9c480f9d",
   "metadata": {
    "cell_style": "split"
   },
   "source": [
    "Popular machine learning tool for predictive data analysis:\n",
    "* rooted tree\n",
    "* start at the root and keep going down\n",
    "* every internal node labeled with a condition\n",
    "  - if satisfied, go left\n",
    "  - if not satisfied, go right\n",
    "* leafs labeled with predicted labels"
   ]
  },
  {
   "cell_type": "markdown",
   "id": "9fbb500e",
   "metadata": {
    "cell_style": "split"
   },
   "source": [
    "Does a player like bluegrass?\n",
    "\n",
    "<div align=\"center\">\n",
    "    <img alt=\"Drawing\" align=\"center\" width=\"60%\" src=\"dt.png\"/>\n",
    "</div>"
   ]
  },
  {
   "cell_type": "markdown",
   "id": "84188802",
   "metadata": {
    "slideshow": {
     "slide_type": "fragment"
    }
   },
   "source": [
    "<div align=\"center\">\n",
    "    <b>Big challenge: finding a decision tree that matches data!</b>\n",
    "</div>"
   ]
  },
  {
   "cell_type": "code",
   "execution_count": 2,
   "id": "7a4baaa4",
   "metadata": {},
   "outputs": [
    {
     "name": "stdout",
     "output_type": "stream",
     "text": [
      "[\n",
      "    SerRecord {\n",
      "        name: \"Kareem\",\n",
      "        number: 33,\n",
      "        year_born: 1947,\n",
      "        total_points: 38387,\n",
      "        PPG: 24.6,\n",
      "    },\n",
      "    SerRecord {\n",
      "        name: \"Karl\",\n",
      "        number: 32,\n",
      "        year_born: 1963,\n",
      "        total_points: 36928,\n",
      "        PPG: 25.0,\n",
      "    },\n",
      "    SerRecord {\n",
      "        name: \"LeBron\",\n",
      "        number: 23,\n",
      "        year_born: 1984,\n",
      "        total_points: 36381,\n",
      "        PPG: 27.0,\n",
      "    },\n",
      "    SerRecord {\n",
      "        name: \"Kobe\",\n",
      "        number: 24,\n",
      "        year_born: 1978,\n",
      "        total_points: 33643,\n",
      "        PPG: 25.0,\n",
      "    },\n",
      "    SerRecord {\n",
      "        name: \"Michael\",\n",
      "        number: 23,\n",
      "        year_born: 1963,\n",
      "        total_points: 32292,\n",
      "        PPG: 30.1,\n",
      "    },\n",
      "]\n"
     ]
    }
   ],
   "source": [
    "// First lets read in the sample data\n",
    "\n",
    ":dep csv = { version = \"^1.3\" }\n",
    ":dep serde = { version = \"^1\", features = [\"derive\"] }\n",
    ":dep ndarray = { version = \"^0.15.6\" }\n",
    "use ndarray::Array2;\n",
    "\n",
    "// This lets us write `#[derive(Deserialize)]`.\n",
    "use serde::Deserialize;\n",
    "\n",
    "// We don't need to derive `Debug` (which doesn't require Serde), but it's a\n",
    "// good habit to do it for all your types.\n",
    "//\n",
    "// Notice that the field names in this struct are NOT in the same order as\n",
    "// the fields in the CSV data!\n",
    "#[derive(Debug, Deserialize)]\n",
    "#[serde(rename_all = \"PascalCase\")]\n",
    "struct SerRecord {\n",
    "    name: String,\n",
    "    number: usize,\n",
    "    year_born: usize,\n",
    "    total_points: usize,\n",
    "    PPG: f64,\n",
    "}\n",
    "\n",
    "let mut rdr = csv::Reader::from_path(\"players.csv\").unwrap();\n",
    "let mut v:Vec<SerRecord> = Vec::new();\n",
    "// Loop over each record.\n",
    "for result in rdr.deserialize() {\n",
    "    // An error may occur, so abort the program in an unfriendly way.\n",
    "    // We will make this more friendly later!\n",
    "    let record:SerRecord = result.expect(\"a CSV record\");\n",
    "    v.push(record);\n",
    "}\n",
    "println!(\"{:#?}\", v);"
   ]
  },
  {
   "cell_type": "markdown",
   "id": "72e932c4",
   "metadata": {
    "slideshow": {
     "slide_type": "subslide"
    }
   },
   "source": [
    "## Heuristics for constructing decision trees"
   ]
  },
  {
   "cell_type": "markdown",
   "id": "881bf40f",
   "metadata": {
    "cell_style": "split",
    "slideshow": {
     "slide_type": "-"
    }
   },
   "source": [
    "* Start from a single node with all samples\n",
    "* Iterate:\n",
    "  * select a node\n",
    "  * use the samples in the node to split it into children\n",
    "  * pass each sample to respective child\n",
    "* Label leafs\n",
    "\n"
   ]
  },
  {
   "cell_type": "markdown",
   "id": "59b14359",
   "metadata": {
    "cell_style": "split",
    "slideshow": {
     "slide_type": "fragment"
    }
   },
   "source": [
    "Favorite color?\n",
    "\n",
    "<div align=\"center\">\n",
    "<img alt=\"[Decision tree]\" align=\"center\" width=\"80%\" src=\"dt-1.png\"/>\n",
    "</div>"
   ]
  },
  {
   "cell_type": "markdown",
   "id": "b34be168",
   "metadata": {
    "slideshow": {
     "slide_type": "subslide"
    }
   },
   "source": [
    "## Heuristics for constructing decision trees"
   ]
  },
  {
   "cell_type": "markdown",
   "id": "144c9610",
   "metadata": {
    "cell_style": "split",
    "slideshow": {
     "slide_type": "-"
    }
   },
   "source": [
    "* Start from a single node with all samples\n",
    "* Iterate:\n",
    "  * select a node\n",
    "  * use the samples in the node to split it into children\n",
    "  * pass each sample to respective child\n",
    "* Label leafs\n",
    "\n"
   ]
  },
  {
   "cell_type": "markdown",
   "id": "d6b79774",
   "metadata": {
    "cell_style": "split",
    "slideshow": {
     "slide_type": "-"
    }
   },
   "source": [
    "<div align=\"center\">\n",
    "Favorite color?\n",
    "<img alt=\"[Decision tree]\" align=\"center\" width=\"60%\" src=\"dt-2.png\"/></div>"
   ]
  },
  {
   "cell_type": "markdown",
   "id": "71c98e93",
   "metadata": {
    "slideshow": {
     "slide_type": "subslide"
    }
   },
   "source": [
    "## Heuristics for constructing decision trees"
   ]
  },
  {
   "cell_type": "markdown",
   "id": "bd07ec25",
   "metadata": {
    "cell_style": "split",
    "slideshow": {
     "slide_type": "-"
    }
   },
   "source": [
    "* Start from a single node with all samples\n",
    "* Iterate:\n",
    "  * select a node\n",
    "  * use the samples in the node to split it into children\n",
    "  * pass each sample to respective child\n",
    "* Label leafs\n",
    "\n"
   ]
  },
  {
   "cell_type": "markdown",
   "id": "a75b6a0c",
   "metadata": {
    "cell_style": "split",
    "slideshow": {
     "slide_type": "-"
    }
   },
   "source": [
    "<div align=\"center\">\n",
    "Favorite color?\n",
    "<img alt=\"[Decision tree]\" align=\"center\" width=\"60%\" src=\"dt-3.png\"/></div>"
   ]
  },
  {
   "cell_type": "markdown",
   "id": "1e57ffb8",
   "metadata": {
    "slideshow": {
     "slide_type": "subslide"
    }
   },
   "source": [
    "## Heuristics for constructing decision trees"
   ]
  },
  {
   "cell_type": "markdown",
   "id": "6e1ba410",
   "metadata": {
    "cell_style": "split",
    "slideshow": {
     "slide_type": "-"
    }
   },
   "source": [
    "* Start from a single node with all samples\n",
    "* Iterate:\n",
    "  * select a node\n",
    "  * use the samples in the node to split it into children\n",
    "  * pass each sample to respective child\n",
    "* Label leafs\n",
    "\n"
   ]
  },
  {
   "cell_type": "markdown",
   "id": "cb6b56e6",
   "metadata": {
    "cell_style": "split",
    "slideshow": {
     "slide_type": "-"
    }
   },
   "source": [
    "<div align=\"center\">\n",
    "Favorite color?\n",
    "<img alt=\"[Decision tree]\" align=\"center\" width=\"60%\" src=\"dt-4.png\"/></div>"
   ]
  },
  {
   "cell_type": "markdown",
   "id": "324bf35a",
   "metadata": {
    "cell_style": "split",
    "slideshow": {
     "slide_type": "subslide"
    }
   },
   "source": [
    "## Split selection\n",
    "\n",
    "* Typical heuristic: select a split that improves classification most\n",
    "* Various measures of \"goodness\" or \"badness\":\n",
    "  * Information gain / Entropy\n",
    "  * Ginni impurity\n",
    "  * Variance\n"
   ]
  },
  {
   "cell_type": "markdown",
   "id": "ebacc4d5",
   "metadata": {
    "cell_style": "split",
    "slideshow": {
     "slide_type": "fragment"
    }
   },
   "source": [
    "## Popular algorithms\n",
    "\n",
    "* ID3\n",
    "* C4.5\n",
    "* C5.0\n",
    "* CART (used by `linfa-trees`, `rustlearn`, and `scikit-learn`)\n",
    "\n",
    "You can read more about those algorithms at https://scikit-learn.org/stable/modules/tree.html#tree-algorithms-id3-c4-5-c5-0-and-cart  \n",
    "\n",
    "and see the mathematical formulation for CART here: https://scikit-learn.org/stable/modules/tree.html#mathematical-formulation"
   ]
  },
  {
   "cell_type": "markdown",
   "id": "d599c76e",
   "metadata": {},
   "source": [
    "### The Gini coefficient and Entropy\n",
    "\n",
    "* Let's assume we have k classes that we are trying to decide.\n",
    "\n",
    "* We can estimate the probability by:\n",
    "\n",
    "$$P_k = 1/N * \\sum_{i = 0}^N {I(y_i == k)}$$\n",
    "\n",
    "* A node M containing N samples has a Gini coefficient defined as follows:\n",
    " \n",
    "$$Gini(M) = \\sum_{k}{P_k*(1-P_k)}$$\n",
    "\n",
    "* Or entropy defined by:\n",
    "\n",
    "$$Entropy(M) = \\sum_{k}{P_k*log(P_k)}$$"
   ]
  },
  {
   "cell_type": "markdown",
   "id": "9896c613",
   "metadata": {
    "slideshow": {
     "slide_type": "subslide"
    }
   },
   "source": [
    "## Advantages and disadvantages of decision trees"
   ]
  },
  {
   "cell_type": "markdown",
   "id": "3ada19dc",
   "metadata": {
    "cell_style": "split",
    "slideshow": {
     "slide_type": "fragment"
    }
   },
   "source": [
    "Advantages:\n",
    "* easy to interpret\n",
    "* not much data preparation needed\n",
    "* categorical and numerical data\n",
    "* relatively fast"
   ]
  },
  {
   "cell_type": "markdown",
   "id": "19d617cb",
   "metadata": {
    "cell_style": "split",
    "slideshow": {
     "slide_type": "fragment"
    }
   },
   "source": [
    "Disadvantages:\n",
    "* can be very sensitive to data changes\n",
    "* can create an overcomplicated tree that matches the sample, but not the underlying problem\n",
    "* hard to find an optimal tree"
   ]
  },
  {
   "cell_type": "markdown",
   "id": "4f68ba50",
   "metadata": {
    "slideshow": {
     "slide_type": "slide"
    }
   },
   "source": [
    "## Decision tree construction using `linfa-tree`\n",
    "\n",
    "https://rust-ml.github.io/linfa/, https://crates.io/crates/linfa\n",
    "\n",
    "https://docs.rs/linfa-trees/latest/linfa_trees/\n",
    "\n",
    "**Note: ignore machine learning context for now**\n",
    "\n",
    "First, we read our sample data and add information who likes pizza"
   ]
  },
  {
   "cell_type": "markdown",
   "id": "9d5085dd",
   "metadata": {
    "slideshow": {
     "slide_type": "subslide"
    }
   },
   "source": [
    "## Visualized"
   ]
  },
  {
   "cell_type": "code",
   "execution_count": 3,
   "id": "fde0e502",
   "metadata": {},
   "outputs": [
    {
     "name": "stderr",
     "output_type": "stream",
     "text": [
      "The type of the variable v was redefined, so was lost.\n"
     ]
    },
    {
     "name": "stdout",
     "output_type": "stream",
     "text": [
      "[[38387.0, 24.6, 1947.0, 33.0],\n",
      " [36928.0, 25.0, 1963.0, 32.0],\n",
      " [36381.0, 27.0, 1984.0, 23.0],\n",
      " [33643.0, 25.0, 1978.0, 24.0],\n",
      " [32292.0, 30.1, 1963.0, 23.0]], shape=[5, 4], strides=[4, 1], layout=Cc (0x5), const ndim=2\n"
     ]
    },
    {
     "data": {
      "text/html": [
       "<div style=\"\"><svg width=\"800\" height=\"800\" viewBox=\"0 0 800 800\" xmlns=\"http://www.w3.org/2000/svg\">\n",
       "<text x=\"400\" y=\"5\" dy=\"0.76em\" text-anchor=\"middle\" font-family=\"Arial\" font-size=\"16.129032258064516\" opacity=\"1\" fill=\"#000000\">\n",
       "Scatter Plot\n",
       "</text>\n",
       "<line opacity=\"0.1\" stroke=\"#000000\" stroke-width=\"1\" x1=\"40\" y1=\"759\" x2=\"40\" y2=\"26\"/>\n",
       "<line opacity=\"0.1\" stroke=\"#000000\" stroke-width=\"1\" x1=\"50\" y1=\"759\" x2=\"50\" y2=\"26\"/>\n",
       "<line opacity=\"0.1\" stroke=\"#000000\" stroke-width=\"1\" x1=\"61\" y1=\"759\" x2=\"61\" y2=\"26\"/>\n",
       "<line opacity=\"0.1\" stroke=\"#000000\" stroke-width=\"1\" x1=\"72\" y1=\"759\" x2=\"72\" y2=\"26\"/>\n",
       "<line opacity=\"0.1\" stroke=\"#000000\" stroke-width=\"1\" x1=\"83\" y1=\"759\" x2=\"83\" y2=\"26\"/>\n",
       "<line opacity=\"0.1\" stroke=\"#000000\" stroke-width=\"1\" x1=\"94\" y1=\"759\" x2=\"94\" y2=\"26\"/>\n",
       "<line opacity=\"0.1\" stroke=\"#000000\" stroke-width=\"1\" x1=\"105\" y1=\"759\" x2=\"105\" y2=\"26\"/>\n",
       "<line opacity=\"0.1\" stroke=\"#000000\" stroke-width=\"1\" x1=\"115\" y1=\"759\" x2=\"115\" y2=\"26\"/>\n",
       "<line opacity=\"0.1\" stroke=\"#000000\" stroke-width=\"1\" x1=\"126\" y1=\"759\" x2=\"126\" y2=\"26\"/>\n",
       "<line opacity=\"0.1\" stroke=\"#000000\" stroke-width=\"1\" x1=\"137\" y1=\"759\" x2=\"137\" y2=\"26\"/>\n",
       "<line opacity=\"0.1\" stroke=\"#000000\" stroke-width=\"1\" x1=\"148\" y1=\"759\" x2=\"148\" y2=\"26\"/>\n",
       "<line opacity=\"0.1\" stroke=\"#000000\" stroke-width=\"1\" x1=\"159\" y1=\"759\" x2=\"159\" y2=\"26\"/>\n",
       "<line opacity=\"0.1\" stroke=\"#000000\" stroke-width=\"1\" x1=\"170\" y1=\"759\" x2=\"170\" y2=\"26\"/>\n",
       "<line opacity=\"0.1\" stroke=\"#000000\" stroke-width=\"1\" x1=\"180\" y1=\"759\" x2=\"180\" y2=\"26\"/>\n",
       "<line opacity=\"0.1\" stroke=\"#000000\" stroke-width=\"1\" x1=\"191\" y1=\"759\" x2=\"191\" y2=\"26\"/>\n",
       "<line opacity=\"0.1\" stroke=\"#000000\" stroke-width=\"1\" x1=\"202\" y1=\"759\" x2=\"202\" y2=\"26\"/>\n",
       "<line opacity=\"0.1\" stroke=\"#000000\" stroke-width=\"1\" x1=\"213\" y1=\"759\" x2=\"213\" y2=\"26\"/>\n",
       "<line opacity=\"0.1\" stroke=\"#000000\" stroke-width=\"1\" x1=\"224\" y1=\"759\" x2=\"224\" y2=\"26\"/>\n",
       "<line opacity=\"0.1\" stroke=\"#000000\" stroke-width=\"1\" x1=\"235\" y1=\"759\" x2=\"235\" y2=\"26\"/>\n",
       "<line opacity=\"0.1\" stroke=\"#000000\" stroke-width=\"1\" x1=\"246\" y1=\"759\" x2=\"246\" y2=\"26\"/>\n",
       "<line opacity=\"0.1\" stroke=\"#000000\" stroke-width=\"1\" x1=\"256\" y1=\"759\" x2=\"256\" y2=\"26\"/>\n",
       "<line opacity=\"0.1\" stroke=\"#000000\" stroke-width=\"1\" x1=\"267\" y1=\"759\" x2=\"267\" y2=\"26\"/>\n",
       "<line opacity=\"0.1\" stroke=\"#000000\" stroke-width=\"1\" x1=\"278\" y1=\"759\" x2=\"278\" y2=\"26\"/>\n",
       "<line opacity=\"0.1\" stroke=\"#000000\" stroke-width=\"1\" x1=\"289\" y1=\"759\" x2=\"289\" y2=\"26\"/>\n",
       "<line opacity=\"0.1\" stroke=\"#000000\" stroke-width=\"1\" x1=\"300\" y1=\"759\" x2=\"300\" y2=\"26\"/>\n",
       "<line opacity=\"0.1\" stroke=\"#000000\" stroke-width=\"1\" x1=\"311\" y1=\"759\" x2=\"311\" y2=\"26\"/>\n",
       "<line opacity=\"0.1\" stroke=\"#000000\" stroke-width=\"1\" x1=\"321\" y1=\"759\" x2=\"321\" y2=\"26\"/>\n",
       "<line opacity=\"0.1\" stroke=\"#000000\" stroke-width=\"1\" x1=\"332\" y1=\"759\" x2=\"332\" y2=\"26\"/>\n",
       "<line opacity=\"0.1\" stroke=\"#000000\" stroke-width=\"1\" x1=\"343\" y1=\"759\" x2=\"343\" y2=\"26\"/>\n",
       "<line opacity=\"0.1\" stroke=\"#000000\" stroke-width=\"1\" x1=\"354\" y1=\"759\" x2=\"354\" y2=\"26\"/>\n",
       "<line opacity=\"0.1\" stroke=\"#000000\" stroke-width=\"1\" x1=\"365\" y1=\"759\" x2=\"365\" y2=\"26\"/>\n",
       "<line opacity=\"0.1\" stroke=\"#000000\" stroke-width=\"1\" x1=\"376\" y1=\"759\" x2=\"376\" y2=\"26\"/>\n",
       "<line opacity=\"0.1\" stroke=\"#000000\" stroke-width=\"1\" x1=\"386\" y1=\"759\" x2=\"386\" y2=\"26\"/>\n",
       "<line opacity=\"0.1\" stroke=\"#000000\" stroke-width=\"1\" x1=\"397\" y1=\"759\" x2=\"397\" y2=\"26\"/>\n",
       "<line opacity=\"0.1\" stroke=\"#000000\" stroke-width=\"1\" x1=\"408\" y1=\"759\" x2=\"408\" y2=\"26\"/>\n",
       "<line opacity=\"0.1\" stroke=\"#000000\" stroke-width=\"1\" x1=\"419\" y1=\"759\" x2=\"419\" y2=\"26\"/>\n",
       "<line opacity=\"0.1\" stroke=\"#000000\" stroke-width=\"1\" x1=\"430\" y1=\"759\" x2=\"430\" y2=\"26\"/>\n",
       "<line opacity=\"0.1\" stroke=\"#000000\" stroke-width=\"1\" x1=\"441\" y1=\"759\" x2=\"441\" y2=\"26\"/>\n",
       "<line opacity=\"0.1\" stroke=\"#000000\" stroke-width=\"1\" x1=\"452\" y1=\"759\" x2=\"452\" y2=\"26\"/>\n",
       "<line opacity=\"0.1\" stroke=\"#000000\" stroke-width=\"1\" x1=\"462\" y1=\"759\" x2=\"462\" y2=\"26\"/>\n",
       "<line opacity=\"0.1\" stroke=\"#000000\" stroke-width=\"1\" x1=\"473\" y1=\"759\" x2=\"473\" y2=\"26\"/>\n",
       "<line opacity=\"0.1\" stroke=\"#000000\" stroke-width=\"1\" x1=\"484\" y1=\"759\" x2=\"484\" y2=\"26\"/>\n",
       "<line opacity=\"0.1\" stroke=\"#000000\" stroke-width=\"1\" x1=\"495\" y1=\"759\" x2=\"495\" y2=\"26\"/>\n",
       "<line opacity=\"0.1\" stroke=\"#000000\" stroke-width=\"1\" x1=\"506\" y1=\"759\" x2=\"506\" y2=\"26\"/>\n",
       "<line opacity=\"0.1\" stroke=\"#000000\" stroke-width=\"1\" x1=\"517\" y1=\"759\" x2=\"517\" y2=\"26\"/>\n",
       "<line opacity=\"0.1\" stroke=\"#000000\" stroke-width=\"1\" x1=\"527\" y1=\"759\" x2=\"527\" y2=\"26\"/>\n",
       "<line opacity=\"0.1\" stroke=\"#000000\" stroke-width=\"1\" x1=\"538\" y1=\"759\" x2=\"538\" y2=\"26\"/>\n",
       "<line opacity=\"0.1\" stroke=\"#000000\" stroke-width=\"1\" x1=\"549\" y1=\"759\" x2=\"549\" y2=\"26\"/>\n",
       "<line opacity=\"0.1\" stroke=\"#000000\" stroke-width=\"1\" x1=\"560\" y1=\"759\" x2=\"560\" y2=\"26\"/>\n",
       "<line opacity=\"0.1\" stroke=\"#000000\" stroke-width=\"1\" x1=\"571\" y1=\"759\" x2=\"571\" y2=\"26\"/>\n",
       "<line opacity=\"0.1\" stroke=\"#000000\" stroke-width=\"1\" x1=\"582\" y1=\"759\" x2=\"582\" y2=\"26\"/>\n",
       "<line opacity=\"0.1\" stroke=\"#000000\" stroke-width=\"1\" x1=\"592\" y1=\"759\" x2=\"592\" y2=\"26\"/>\n",
       "<line opacity=\"0.1\" stroke=\"#000000\" stroke-width=\"1\" x1=\"603\" y1=\"759\" x2=\"603\" y2=\"26\"/>\n",
       "<line opacity=\"0.1\" stroke=\"#000000\" stroke-width=\"1\" x1=\"614\" y1=\"759\" x2=\"614\" y2=\"26\"/>\n",
       "<line opacity=\"0.1\" stroke=\"#000000\" stroke-width=\"1\" x1=\"625\" y1=\"759\" x2=\"625\" y2=\"26\"/>\n",
       "<line opacity=\"0.1\" stroke=\"#000000\" stroke-width=\"1\" x1=\"636\" y1=\"759\" x2=\"636\" y2=\"26\"/>\n",
       "<line opacity=\"0.1\" stroke=\"#000000\" stroke-width=\"1\" x1=\"647\" y1=\"759\" x2=\"647\" y2=\"26\"/>\n",
       "<line opacity=\"0.1\" stroke=\"#000000\" stroke-width=\"1\" x1=\"658\" y1=\"759\" x2=\"658\" y2=\"26\"/>\n",
       "<line opacity=\"0.1\" stroke=\"#000000\" stroke-width=\"1\" x1=\"668\" y1=\"759\" x2=\"668\" y2=\"26\"/>\n",
       "<line opacity=\"0.1\" stroke=\"#000000\" stroke-width=\"1\" x1=\"679\" y1=\"759\" x2=\"679\" y2=\"26\"/>\n",
       "<line opacity=\"0.1\" stroke=\"#000000\" stroke-width=\"1\" x1=\"690\" y1=\"759\" x2=\"690\" y2=\"26\"/>\n",
       "<line opacity=\"0.1\" stroke=\"#000000\" stroke-width=\"1\" x1=\"701\" y1=\"759\" x2=\"701\" y2=\"26\"/>\n",
       "<line opacity=\"0.1\" stroke=\"#000000\" stroke-width=\"1\" x1=\"712\" y1=\"759\" x2=\"712\" y2=\"26\"/>\n",
       "<line opacity=\"0.1\" stroke=\"#000000\" stroke-width=\"1\" x1=\"723\" y1=\"759\" x2=\"723\" y2=\"26\"/>\n",
       "<line opacity=\"0.1\" stroke=\"#000000\" stroke-width=\"1\" x1=\"733\" y1=\"759\" x2=\"733\" y2=\"26\"/>\n",
       "<line opacity=\"0.1\" stroke=\"#000000\" stroke-width=\"1\" x1=\"744\" y1=\"759\" x2=\"744\" y2=\"26\"/>\n",
       "<line opacity=\"0.1\" stroke=\"#000000\" stroke-width=\"1\" x1=\"755\" y1=\"759\" x2=\"755\" y2=\"26\"/>\n",
       "<line opacity=\"0.1\" stroke=\"#000000\" stroke-width=\"1\" x1=\"766\" y1=\"759\" x2=\"766\" y2=\"26\"/>\n",
       "<line opacity=\"0.1\" stroke=\"#000000\" stroke-width=\"1\" x1=\"777\" y1=\"759\" x2=\"777\" y2=\"26\"/>\n",
       "<line opacity=\"0.1\" stroke=\"#000000\" stroke-width=\"1\" x1=\"788\" y1=\"759\" x2=\"788\" y2=\"26\"/>\n",
       "<line opacity=\"0.1\" stroke=\"#000000\" stroke-width=\"1\" x1=\"799\" y1=\"759\" x2=\"799\" y2=\"26\"/>\n",
       "<line opacity=\"0.1\" stroke=\"#000000\" stroke-width=\"1\" x1=\"40\" y1=\"759\" x2=\"799\" y2=\"759\"/>\n",
       "<line opacity=\"0.1\" stroke=\"#000000\" stroke-width=\"1\" x1=\"40\" y1=\"749\" x2=\"799\" y2=\"749\"/>\n",
       "<line opacity=\"0.1\" stroke=\"#000000\" stroke-width=\"1\" x1=\"40\" y1=\"739\" x2=\"799\" y2=\"739\"/>\n",
       "<line opacity=\"0.1\" stroke=\"#000000\" stroke-width=\"1\" x1=\"40\" y1=\"728\" x2=\"799\" y2=\"728\"/>\n",
       "<line opacity=\"0.1\" stroke=\"#000000\" stroke-width=\"1\" x1=\"40\" y1=\"718\" x2=\"799\" y2=\"718\"/>\n",
       "<line opacity=\"0.1\" stroke=\"#000000\" stroke-width=\"1\" x1=\"40\" y1=\"707\" x2=\"799\" y2=\"707\"/>\n",
       "<line opacity=\"0.1\" stroke=\"#000000\" stroke-width=\"1\" x1=\"40\" y1=\"697\" x2=\"799\" y2=\"697\"/>\n",
       "<line opacity=\"0.1\" stroke=\"#000000\" stroke-width=\"1\" x1=\"40\" y1=\"686\" x2=\"799\" y2=\"686\"/>\n",
       "<line opacity=\"0.1\" stroke=\"#000000\" stroke-width=\"1\" x1=\"40\" y1=\"676\" x2=\"799\" y2=\"676\"/>\n",
       "<line opacity=\"0.1\" stroke=\"#000000\" stroke-width=\"1\" x1=\"40\" y1=\"665\" x2=\"799\" y2=\"665\"/>\n",
       "<line opacity=\"0.1\" stroke=\"#000000\" stroke-width=\"1\" x1=\"40\" y1=\"655\" x2=\"799\" y2=\"655\"/>\n",
       "<line opacity=\"0.1\" stroke=\"#000000\" stroke-width=\"1\" x1=\"40\" y1=\"644\" x2=\"799\" y2=\"644\"/>\n",
       "<line opacity=\"0.1\" stroke=\"#000000\" stroke-width=\"1\" x1=\"40\" y1=\"634\" x2=\"799\" y2=\"634\"/>\n",
       "<line opacity=\"0.1\" stroke=\"#000000\" stroke-width=\"1\" x1=\"40\" y1=\"623\" x2=\"799\" y2=\"623\"/>\n",
       "<line opacity=\"0.1\" stroke=\"#000000\" stroke-width=\"1\" x1=\"40\" y1=\"613\" x2=\"799\" y2=\"613\"/>\n",
       "<line opacity=\"0.1\" stroke=\"#000000\" stroke-width=\"1\" x1=\"40\" y1=\"602\" x2=\"799\" y2=\"602\"/>\n",
       "<line opacity=\"0.1\" stroke=\"#000000\" stroke-width=\"1\" x1=\"40\" y1=\"592\" x2=\"799\" y2=\"592\"/>\n",
       "<line opacity=\"0.1\" stroke=\"#000000\" stroke-width=\"1\" x1=\"40\" y1=\"581\" x2=\"799\" y2=\"581\"/>\n",
       "<line opacity=\"0.1\" stroke=\"#000000\" stroke-width=\"1\" x1=\"40\" y1=\"571\" x2=\"799\" y2=\"571\"/>\n",
       "<line opacity=\"0.1\" stroke=\"#000000\" stroke-width=\"1\" x1=\"40\" y1=\"561\" x2=\"799\" y2=\"561\"/>\n",
       "<line opacity=\"0.1\" stroke=\"#000000\" stroke-width=\"1\" x1=\"40\" y1=\"550\" x2=\"799\" y2=\"550\"/>\n",
       "<line opacity=\"0.1\" stroke=\"#000000\" stroke-width=\"1\" x1=\"40\" y1=\"540\" x2=\"799\" y2=\"540\"/>\n",
       "<line opacity=\"0.1\" stroke=\"#000000\" stroke-width=\"1\" x1=\"40\" y1=\"529\" x2=\"799\" y2=\"529\"/>\n",
       "<line opacity=\"0.1\" stroke=\"#000000\" stroke-width=\"1\" x1=\"40\" y1=\"519\" x2=\"799\" y2=\"519\"/>\n",
       "<line opacity=\"0.1\" stroke=\"#000000\" stroke-width=\"1\" x1=\"40\" y1=\"508\" x2=\"799\" y2=\"508\"/>\n",
       "<line opacity=\"0.1\" stroke=\"#000000\" stroke-width=\"1\" x1=\"40\" y1=\"498\" x2=\"799\" y2=\"498\"/>\n",
       "<line opacity=\"0.1\" stroke=\"#000000\" stroke-width=\"1\" x1=\"40\" y1=\"487\" x2=\"799\" y2=\"487\"/>\n",
       "<line opacity=\"0.1\" stroke=\"#000000\" stroke-width=\"1\" x1=\"40\" y1=\"477\" x2=\"799\" y2=\"477\"/>\n",
       "<line opacity=\"0.1\" stroke=\"#000000\" stroke-width=\"1\" x1=\"40\" y1=\"466\" x2=\"799\" y2=\"466\"/>\n",
       "<line opacity=\"0.1\" stroke=\"#000000\" stroke-width=\"1\" x1=\"40\" y1=\"456\" x2=\"799\" y2=\"456\"/>\n",
       "<line opacity=\"0.1\" stroke=\"#000000\" stroke-width=\"1\" x1=\"40\" y1=\"445\" x2=\"799\" y2=\"445\"/>\n",
       "<line opacity=\"0.1\" stroke=\"#000000\" stroke-width=\"1\" x1=\"40\" y1=\"435\" x2=\"799\" y2=\"435\"/>\n",
       "<line opacity=\"0.1\" stroke=\"#000000\" stroke-width=\"1\" x1=\"40\" y1=\"424\" x2=\"799\" y2=\"424\"/>\n",
       "<line opacity=\"0.1\" stroke=\"#000000\" stroke-width=\"1\" x1=\"40\" y1=\"414\" x2=\"799\" y2=\"414\"/>\n",
       "<line opacity=\"0.1\" stroke=\"#000000\" stroke-width=\"1\" x1=\"40\" y1=\"403\" x2=\"799\" y2=\"403\"/>\n",
       "<line opacity=\"0.1\" stroke=\"#000000\" stroke-width=\"1\" x1=\"40\" y1=\"393\" x2=\"799\" y2=\"393\"/>\n",
       "<line opacity=\"0.1\" stroke=\"#000000\" stroke-width=\"1\" x1=\"40\" y1=\"383\" x2=\"799\" y2=\"383\"/>\n",
       "<line opacity=\"0.1\" stroke=\"#000000\" stroke-width=\"1\" x1=\"40\" y1=\"372\" x2=\"799\" y2=\"372\"/>\n",
       "<line opacity=\"0.1\" stroke=\"#000000\" stroke-width=\"1\" x1=\"40\" y1=\"362\" x2=\"799\" y2=\"362\"/>\n",
       "<line opacity=\"0.1\" stroke=\"#000000\" stroke-width=\"1\" x1=\"40\" y1=\"351\" x2=\"799\" y2=\"351\"/>\n",
       "<line opacity=\"0.1\" stroke=\"#000000\" stroke-width=\"1\" x1=\"40\" y1=\"341\" x2=\"799\" y2=\"341\"/>\n",
       "<line opacity=\"0.1\" stroke=\"#000000\" stroke-width=\"1\" x1=\"40\" y1=\"330\" x2=\"799\" y2=\"330\"/>\n",
       "<line opacity=\"0.1\" stroke=\"#000000\" stroke-width=\"1\" x1=\"40\" y1=\"320\" x2=\"799\" y2=\"320\"/>\n",
       "<line opacity=\"0.1\" stroke=\"#000000\" stroke-width=\"1\" x1=\"40\" y1=\"309\" x2=\"799\" y2=\"309\"/>\n",
       "<line opacity=\"0.1\" stroke=\"#000000\" stroke-width=\"1\" x1=\"40\" y1=\"299\" x2=\"799\" y2=\"299\"/>\n",
       "<line opacity=\"0.1\" stroke=\"#000000\" stroke-width=\"1\" x1=\"40\" y1=\"288\" x2=\"799\" y2=\"288\"/>\n",
       "<line opacity=\"0.1\" stroke=\"#000000\" stroke-width=\"1\" x1=\"40\" y1=\"278\" x2=\"799\" y2=\"278\"/>\n",
       "<line opacity=\"0.1\" stroke=\"#000000\" stroke-width=\"1\" x1=\"40\" y1=\"267\" x2=\"799\" y2=\"267\"/>\n",
       "<line opacity=\"0.1\" stroke=\"#000000\" stroke-width=\"1\" x1=\"40\" y1=\"257\" x2=\"799\" y2=\"257\"/>\n",
       "<line opacity=\"0.1\" stroke=\"#000000\" stroke-width=\"1\" x1=\"40\" y1=\"246\" x2=\"799\" y2=\"246\"/>\n",
       "<line opacity=\"0.1\" stroke=\"#000000\" stroke-width=\"1\" x1=\"40\" y1=\"236\" x2=\"799\" y2=\"236\"/>\n",
       "<line opacity=\"0.1\" stroke=\"#000000\" stroke-width=\"1\" x1=\"40\" y1=\"225\" x2=\"799\" y2=\"225\"/>\n",
       "<line opacity=\"0.1\" stroke=\"#000000\" stroke-width=\"1\" x1=\"40\" y1=\"215\" x2=\"799\" y2=\"215\"/>\n",
       "<line opacity=\"0.1\" stroke=\"#000000\" stroke-width=\"1\" x1=\"40\" y1=\"205\" x2=\"799\" y2=\"205\"/>\n",
       "<line opacity=\"0.1\" stroke=\"#000000\" stroke-width=\"1\" x1=\"40\" y1=\"194\" x2=\"799\" y2=\"194\"/>\n",
       "<line opacity=\"0.1\" stroke=\"#000000\" stroke-width=\"1\" x1=\"40\" y1=\"184\" x2=\"799\" y2=\"184\"/>\n",
       "<line opacity=\"0.1\" stroke=\"#000000\" stroke-width=\"1\" x1=\"40\" y1=\"173\" x2=\"799\" y2=\"173\"/>\n",
       "<line opacity=\"0.1\" stroke=\"#000000\" stroke-width=\"1\" x1=\"40\" y1=\"163\" x2=\"799\" y2=\"163\"/>\n",
       "<line opacity=\"0.1\" stroke=\"#000000\" stroke-width=\"1\" x1=\"40\" y1=\"152\" x2=\"799\" y2=\"152\"/>\n",
       "<line opacity=\"0.1\" stroke=\"#000000\" stroke-width=\"1\" x1=\"40\" y1=\"142\" x2=\"799\" y2=\"142\"/>\n",
       "<line opacity=\"0.1\" stroke=\"#000000\" stroke-width=\"1\" x1=\"40\" y1=\"131\" x2=\"799\" y2=\"131\"/>\n",
       "<line opacity=\"0.1\" stroke=\"#000000\" stroke-width=\"1\" x1=\"40\" y1=\"121\" x2=\"799\" y2=\"121\"/>\n",
       "<line opacity=\"0.1\" stroke=\"#000000\" stroke-width=\"1\" x1=\"40\" y1=\"110\" x2=\"799\" y2=\"110\"/>\n",
       "<line opacity=\"0.1\" stroke=\"#000000\" stroke-width=\"1\" x1=\"40\" y1=\"100\" x2=\"799\" y2=\"100\"/>\n",
       "<line opacity=\"0.1\" stroke=\"#000000\" stroke-width=\"1\" x1=\"40\" y1=\"89\" x2=\"799\" y2=\"89\"/>\n",
       "<line opacity=\"0.1\" stroke=\"#000000\" stroke-width=\"1\" x1=\"40\" y1=\"79\" x2=\"799\" y2=\"79\"/>\n",
       "<line opacity=\"0.1\" stroke=\"#000000\" stroke-width=\"1\" x1=\"40\" y1=\"68\" x2=\"799\" y2=\"68\"/>\n",
       "<line opacity=\"0.1\" stroke=\"#000000\" stroke-width=\"1\" x1=\"40\" y1=\"58\" x2=\"799\" y2=\"58\"/>\n",
       "<line opacity=\"0.1\" stroke=\"#000000\" stroke-width=\"1\" x1=\"40\" y1=\"47\" x2=\"799\" y2=\"47\"/>\n",
       "<line opacity=\"0.1\" stroke=\"#000000\" stroke-width=\"1\" x1=\"40\" y1=\"37\" x2=\"799\" y2=\"37\"/>\n",
       "<line opacity=\"0.1\" stroke=\"#000000\" stroke-width=\"1\" x1=\"40\" y1=\"26\" x2=\"799\" y2=\"26\"/>\n",
       "<text x=\"0\" y=\"393\" dy=\"0.76em\" text-anchor=\"middle\" font-family=\"sans-serif\" font-size=\"9.67741935483871\" opacity=\"1\" fill=\"#000000\" transform=\"rotate(270, 0, 393)\">\n",
       "PPG\n",
       "</text>\n",
       "<text x=\"420\" y=\"800\" dy=\"-0.5ex\" text-anchor=\"middle\" font-family=\"sans-serif\" font-size=\"9.67741935483871\" opacity=\"1\" fill=\"#000000\">\n",
       "Total Points\n",
       "</text>\n",
       "<line opacity=\"0.2\" stroke=\"#000000\" stroke-width=\"1\" x1=\"40\" y1=\"759\" x2=\"40\" y2=\"26\"/>\n",
       "<line opacity=\"0.2\" stroke=\"#000000\" stroke-width=\"1\" x1=\"148\" y1=\"759\" x2=\"148\" y2=\"26\"/>\n",
       "<line opacity=\"0.2\" stroke=\"#000000\" stroke-width=\"1\" x1=\"256\" y1=\"759\" x2=\"256\" y2=\"26\"/>\n",
       "<line opacity=\"0.2\" stroke=\"#000000\" stroke-width=\"1\" x1=\"365\" y1=\"759\" x2=\"365\" y2=\"26\"/>\n",
       "<line opacity=\"0.2\" stroke=\"#000000\" stroke-width=\"1\" x1=\"473\" y1=\"759\" x2=\"473\" y2=\"26\"/>\n",
       "<line opacity=\"0.2\" stroke=\"#000000\" stroke-width=\"1\" x1=\"582\" y1=\"759\" x2=\"582\" y2=\"26\"/>\n",
       "<line opacity=\"0.2\" stroke=\"#000000\" stroke-width=\"1\" x1=\"690\" y1=\"759\" x2=\"690\" y2=\"26\"/>\n",
       "<line opacity=\"0.2\" stroke=\"#000000\" stroke-width=\"1\" x1=\"799\" y1=\"759\" x2=\"799\" y2=\"26\"/>\n",
       "<line opacity=\"0.2\" stroke=\"#000000\" stroke-width=\"1\" x1=\"40\" y1=\"759\" x2=\"799\" y2=\"759\"/>\n",
       "<line opacity=\"0.2\" stroke=\"#000000\" stroke-width=\"1\" x1=\"40\" y1=\"655\" x2=\"799\" y2=\"655\"/>\n",
       "<line opacity=\"0.2\" stroke=\"#000000\" stroke-width=\"1\" x1=\"40\" y1=\"550\" x2=\"799\" y2=\"550\"/>\n",
       "<line opacity=\"0.2\" stroke=\"#000000\" stroke-width=\"1\" x1=\"40\" y1=\"445\" x2=\"799\" y2=\"445\"/>\n",
       "<line opacity=\"0.2\" stroke=\"#000000\" stroke-width=\"1\" x1=\"40\" y1=\"341\" x2=\"799\" y2=\"341\"/>\n",
       "<line opacity=\"0.2\" stroke=\"#000000\" stroke-width=\"1\" x1=\"40\" y1=\"236\" x2=\"799\" y2=\"236\"/>\n",
       "<line opacity=\"0.2\" stroke=\"#000000\" stroke-width=\"1\" x1=\"40\" y1=\"131\" x2=\"799\" y2=\"131\"/>\n",
       "<line opacity=\"0.2\" stroke=\"#000000\" stroke-width=\"1\" x1=\"40\" y1=\"26\" x2=\"799\" y2=\"26\"/>\n",
       "<polyline fill=\"none\" opacity=\"1\" stroke=\"#000000\" stroke-width=\"1\" points=\"39,26 39,759 \"/>\n",
       "<text x=\"30\" y=\"759\" dy=\"0.5ex\" text-anchor=\"end\" font-family=\"sans-serif\" font-size=\"9.67741935483871\" opacity=\"1\" fill=\"#000000\">\n",
       "24.0\n",
       "</text>\n",
       "<polyline fill=\"none\" opacity=\"1\" stroke=\"#000000\" stroke-width=\"1\" points=\"34,759 39,759 \"/>\n",
       "<text x=\"30\" y=\"655\" dy=\"0.5ex\" text-anchor=\"end\" font-family=\"sans-serif\" font-size=\"9.67741935483871\" opacity=\"1\" fill=\"#000000\">\n",
       "25.0\n",
       "</text>\n",
       "<polyline fill=\"none\" opacity=\"1\" stroke=\"#000000\" stroke-width=\"1\" points=\"34,655 39,655 \"/>\n",
       "<text x=\"30\" y=\"550\" dy=\"0.5ex\" text-anchor=\"end\" font-family=\"sans-serif\" font-size=\"9.67741935483871\" opacity=\"1\" fill=\"#000000\">\n",
       "26.0\n",
       "</text>\n",
       "<polyline fill=\"none\" opacity=\"1\" stroke=\"#000000\" stroke-width=\"1\" points=\"34,550 39,550 \"/>\n",
       "<text x=\"30\" y=\"445\" dy=\"0.5ex\" text-anchor=\"end\" font-family=\"sans-serif\" font-size=\"9.67741935483871\" opacity=\"1\" fill=\"#000000\">\n",
       "27.0\n",
       "</text>\n",
       "<polyline fill=\"none\" opacity=\"1\" stroke=\"#000000\" stroke-width=\"1\" points=\"34,445 39,445 \"/>\n",
       "<text x=\"30\" y=\"341\" dy=\"0.5ex\" text-anchor=\"end\" font-family=\"sans-serif\" font-size=\"9.67741935483871\" opacity=\"1\" fill=\"#000000\">\n",
       "28.0\n",
       "</text>\n",
       "<polyline fill=\"none\" opacity=\"1\" stroke=\"#000000\" stroke-width=\"1\" points=\"34,341 39,341 \"/>\n",
       "<text x=\"30\" y=\"236\" dy=\"0.5ex\" text-anchor=\"end\" font-family=\"sans-serif\" font-size=\"9.67741935483871\" opacity=\"1\" fill=\"#000000\">\n",
       "29.0\n",
       "</text>\n",
       "<polyline fill=\"none\" opacity=\"1\" stroke=\"#000000\" stroke-width=\"1\" points=\"34,236 39,236 \"/>\n",
       "<text x=\"30\" y=\"131\" dy=\"0.5ex\" text-anchor=\"end\" font-family=\"sans-serif\" font-size=\"9.67741935483871\" opacity=\"1\" fill=\"#000000\">\n",
       "30.0\n",
       "</text>\n",
       "<polyline fill=\"none\" opacity=\"1\" stroke=\"#000000\" stroke-width=\"1\" points=\"34,131 39,131 \"/>\n",
       "<text x=\"30\" y=\"26\" dy=\"0.5ex\" text-anchor=\"end\" font-family=\"sans-serif\" font-size=\"9.67741935483871\" opacity=\"1\" fill=\"#000000\">\n",
       "31.0\n",
       "</text>\n",
       "<polyline fill=\"none\" opacity=\"1\" stroke=\"#000000\" stroke-width=\"1\" points=\"34,26 39,26 \"/>\n",
       "<polyline fill=\"none\" opacity=\"1\" stroke=\"#000000\" stroke-width=\"1\" points=\"40,760 799,760 \"/>\n",
       "<text x=\"40\" y=\"770\" dy=\"0.76em\" text-anchor=\"middle\" font-family=\"sans-serif\" font-size=\"9.67741935483871\" opacity=\"1\" fill=\"#000000\">\n",
       "32000.0\n",
       "</text>\n",
       "<polyline fill=\"none\" opacity=\"1\" stroke=\"#000000\" stroke-width=\"1\" points=\"40,760 40,765 \"/>\n",
       "<text x=\"148\" y=\"770\" dy=\"0.76em\" text-anchor=\"middle\" font-family=\"sans-serif\" font-size=\"9.67741935483871\" opacity=\"1\" fill=\"#000000\">\n",
       "33000.0\n",
       "</text>\n",
       "<polyline fill=\"none\" opacity=\"1\" stroke=\"#000000\" stroke-width=\"1\" points=\"148,760 148,765 \"/>\n",
       "<text x=\"256\" y=\"770\" dy=\"0.76em\" text-anchor=\"middle\" font-family=\"sans-serif\" font-size=\"9.67741935483871\" opacity=\"1\" fill=\"#000000\">\n",
       "34000.0\n",
       "</text>\n",
       "<polyline fill=\"none\" opacity=\"1\" stroke=\"#000000\" stroke-width=\"1\" points=\"256,760 256,765 \"/>\n",
       "<text x=\"365\" y=\"770\" dy=\"0.76em\" text-anchor=\"middle\" font-family=\"sans-serif\" font-size=\"9.67741935483871\" opacity=\"1\" fill=\"#000000\">\n",
       "35000.0\n",
       "</text>\n",
       "<polyline fill=\"none\" opacity=\"1\" stroke=\"#000000\" stroke-width=\"1\" points=\"365,760 365,765 \"/>\n",
       "<text x=\"473\" y=\"770\" dy=\"0.76em\" text-anchor=\"middle\" font-family=\"sans-serif\" font-size=\"9.67741935483871\" opacity=\"1\" fill=\"#000000\">\n",
       "36000.0\n",
       "</text>\n",
       "<polyline fill=\"none\" opacity=\"1\" stroke=\"#000000\" stroke-width=\"1\" points=\"473,760 473,765 \"/>\n",
       "<text x=\"582\" y=\"770\" dy=\"0.76em\" text-anchor=\"middle\" font-family=\"sans-serif\" font-size=\"9.67741935483871\" opacity=\"1\" fill=\"#000000\">\n",
       "37000.0\n",
       "</text>\n",
       "<polyline fill=\"none\" opacity=\"1\" stroke=\"#000000\" stroke-width=\"1\" points=\"582,760 582,765 \"/>\n",
       "<text x=\"690\" y=\"770\" dy=\"0.76em\" text-anchor=\"middle\" font-family=\"sans-serif\" font-size=\"9.67741935483871\" opacity=\"1\" fill=\"#000000\">\n",
       "38000.0\n",
       "</text>\n",
       "<polyline fill=\"none\" opacity=\"1\" stroke=\"#000000\" stroke-width=\"1\" points=\"690,760 690,765 \"/>\n",
       "<text x=\"799\" y=\"770\" dy=\"0.76em\" text-anchor=\"middle\" font-family=\"sans-serif\" font-size=\"9.67741935483871\" opacity=\"1\" fill=\"#000000\">\n",
       "39000.0\n",
       "</text>\n",
       "<polyline fill=\"none\" opacity=\"1\" stroke=\"#000000\" stroke-width=\"1\" points=\"799,760 799,765 \"/>\n",
       "<circle cx=\"732\" cy=\"697\" r=\"20\" opacity=\"1\" fill=\"#3CB44B\" stroke=\"none\" stroke-width=\"1\"/>\n",
       "<circle cx=\"574\" cy=\"655\" r=\"20\" opacity=\"1\" fill=\"#E6194B\" stroke=\"none\" stroke-width=\"1\"/>\n",
       "<circle cx=\"515\" cy=\"445\" r=\"20\" opacity=\"1\" fill=\"#E6194B\" stroke=\"none\" stroke-width=\"1\"/>\n",
       "<circle cx=\"218\" cy=\"655\" r=\"20\" opacity=\"1\" fill=\"#3CB44B\" stroke=\"none\" stroke-width=\"1\"/>\n",
       "<circle cx=\"71\" cy=\"121\" r=\"20\" opacity=\"1\" fill=\"#E6194B\" stroke=\"none\" stroke-width=\"1\"/>\n",
       "</svg>\n",
       "</div>"
      ]
     },
     "execution_count": 3,
     "metadata": {},
     "output_type": "execute_result"
    }
   ],
   "source": [
    "// Rust 2021\n",
    "//:dep plotters={version = \"^0.3.0\", default_features = false, features = [\"evcxr\", \"all_series\"]}\n",
    "\n",
    "// Rust 2024\n",
    ":dep plotters={version = \"^0.3.0\", default-features = false, features = [\"evcxr\", \"all_series\"]}\n",
    "\n",
    ":dep csv = { version = \"^1.3\" }\n",
    ":dep serde = { version = \"^1\", features = [\"derive\"] }\n",
    ":dep ndarray = { version = \"^0.15.6\" }\n",
    "use ndarray::Array2;\n",
    "\n",
    "// This lets us write `#[derive(Deserialize)]`.\n",
    "use serde::Deserialize;\n",
    "\n",
    "// We don't need to derive `Debug` (which doesn't require Serde), but it's a\n",
    "// good habit to do it for all your types.\n",
    "//\n",
    "// Notice that the field names in this struct are NOT in the same order as\n",
    "// the fields in the CSV data!\n",
    "#[derive(Debug, Deserialize)]\n",
    "#[serde(rename_all = \"PascalCase\")]\n",
    "struct SerRecord {\n",
    "    name: String,\n",
    "    number: usize,\n",
    "    year_born: usize,\n",
    "    total_points: usize,\n",
    "    PPG: f64,\n",
    "}\n",
    "\n",
    "let mut rdr = csv::Reader::from_path(\"players.csv\").unwrap();\n",
    "let mut v:Vec<SerRecord> = Vec::new();\n",
    "// Loop over each record.\n",
    "for result in rdr.deserialize() {\n",
    "    // An error may occur, so abort the program in an unfriendly way.\n",
    "    // We will make this more friendly later!\n",
    "    let record:SerRecord = result.expect(\"a CSV record\");\n",
    "    v.push(record);\n",
    "}\n",
    "\n",
    "let mut flat_values: Vec<f64> = Vec::new();\n",
    "for s in &v {\n",
    "    flat_values.push(s.total_points as f64);\n",
    "    flat_values.push(s.PPG);\n",
    "    flat_values.push(s.year_born as f64);\n",
    "    flat_values.push(s.number as f64);\n",
    "}\n",
    "let array = Array2::from_shape_vec((v.len(), 4), flat_values).expect(\"Error creating ndarray\");\n",
    "println!(\"{:?}\", array);\n",
    "\n",
    "let likes_pizza = [1,0,0,1,0];\n",
    "\n",
    "extern crate plotters;\n",
    "use plotters::prelude::*;\n",
    "{\n",
    "let x_values = array.column(0);\n",
    "let y_values = array.column(1);\n",
    "\n",
    "evcxr_figure((800, 800), |root| {\n",
    "    let mut chart = ChartBuilder::on(&root)\n",
    "    // the caption for the chart\n",
    "        .caption(\"Scatter Plot\", (\"Arial\", 20).into_font())\n",
    "        .x_label_area_size(40)\n",
    "        .y_label_area_size(40)\n",
    "        .build_cartesian_2d(32000f64..39000f64, 24f64..31f64)?;\n",
    "   // the X and Y coordinates spaces for the chart\n",
    "    chart.configure_mesh()\n",
    "        .x_desc(\"Total Points\")\n",
    "        .y_desc(\"PPG\")\n",
    "        .draw()?;\n",
    "\n",
    "    chart.draw_series(\n",
    "            x_values.iter()\n",
    "                .zip(y_values.iter())\n",
    "                .zip(likes_pizza.iter())\n",
    "                .map(|((total, ppg), likes)| {\n",
    "                    let point = (*total, *ppg);\n",
    "                    let size = 20;\n",
    "                    let color = Palette99::pick(*likes as usize % 10); // Choose color based on 'LikesPizza'\n",
    "                    Circle::new(point, size as i32, color.filled())\n",
    "                })\n",
    "        )?;\n",
    "\n",
    "    Ok(())\n",
    "})}"
   ]
  },
  {
   "cell_type": "markdown",
   "id": "c9ccbcf4",
   "metadata": {
    "slideshow": {
     "slide_type": "slide"
    }
   },
   "source": [
    "## Data selection\n",
    "* set of inputs: `X`\n",
    "* set of desired outputs:`y`"
   ]
  },
  {
   "cell_type": "markdown",
   "id": "64cf7220",
   "metadata": {
    "slideshow": {
     "slide_type": "slide"
    }
   },
   "source": [
    "## Decision tree construction\n",
    "* How to decide which feature should be located at the root node,\n",
    "* Most accurate feature to serve as internal nodes or leaf nodes,\n",
    "* How to divide tree,\n",
    "* How to measure the accuracy of splitting tree and many more.\n",
    "\n"
   ]
  },
  {
   "cell_type": "markdown",
   "id": "e3d65411",
   "metadata": {},
   "source": [
    "## First the preamble with all the dependencies and the code to read the CSV file"
   ]
  },
  {
   "cell_type": "code",
   "execution_count": 4,
   "id": "267f88a1",
   "metadata": {},
   "outputs": [],
   "source": [
    "//:dep plotters={version = \"^0.3.0\", default_features = false, features = [\"evcxr\", \"all_series\"]}\n",
    ":dep csv = { version = \"^1.3\" }\n",
    ":dep serde = { version = \"^1\", features = [\"derive\"] }\n",
    ":dep ndarray = { version = \"^0.15.6\" }\n",
    ":dep linfa = { git = \"https://github.com/rust-ml/linfa\" }\n",
    ":dep linfa-trees = { git = \"https://github.com/rust-ml/linfa\" }\n",
    "\n",
    "\n",
    "use ndarray::Array2;\n",
    "use ndarray::array;\n",
    "use linfa_trees::DecisionTree;\n",
    "use linfa::prelude::*;\n",
    "// This lets us write `#[derive(Deserialize)]`.\n",
    "use serde::Deserialize;\n",
    "use std::fs::File;\n",
    "use std::io::Write;\n",
    "\n",
    "// We don't need to derive `Debug` (which doesn't require Serde), but it's a\n",
    "// good habit to do it for all your types.\n",
    "//\n",
    "// Notice that the field names in this struct are NOT in the same order as\n",
    "// the fields in the CSV data!\n",
    "#[derive(Debug, Deserialize)]\n",
    "#[serde(rename_all = \"PascalCase\")]\n",
    "struct SerRecord {\n",
    "    name: String,\n",
    "    number: usize,\n",
    "    year_born: usize,\n",
    "    total_points: usize,\n",
    "    PPG: f64,\n",
    "}\n",
    "\n",
    "fn process_csv_file() -> Vec<SerRecord> {\n",
    "  let mut rdr = csv::Reader::from_path(\"players.csv\").unwrap();\n",
    "  let mut v:Vec<SerRecord> = Vec::new();\n",
    "  // Loop over each record.\n",
    "  for result in rdr.deserialize() {\n",
    "    // An error may occur, so abort the program in an unfriendly way.\n",
    "    // We will make this more friendly later!\n",
    "    let record:SerRecord = result.expect(\"a CSV record\");\n",
    "    v.push(record);\n",
    "  }\n",
    "  return v;\n",
    "}\n",
    "\n"
   ]
  },
  {
   "cell_type": "markdown",
   "id": "b0efe533",
   "metadata": {},
   "source": [
    "## And the code to construct, train and measure a decision tree\n",
    "\n",
    "We use the linfa [`Dataset`](https://docs.rs/linfa/0.7.1/linfa/dataset/type.Dataset.html):\n",
    "\n",
    "* The most commonly used typed of dataset.\n",
    "* It contains a number of records stored as an Array2 and\n",
    "* each record may correspond to multiple targets.\n",
    "* The targets are stored as an Array1 or Array2.\n",
    "\n",
    "And construct a [`DecisionTree`](https://docs.rs/linfa-trees/latest/linfa_trees/struct.DecisionTree.html) structure.\n",
    "\n",
    "Then export to a TeX file and render the tree."
   ]
  },
  {
   "cell_type": "code",
   "execution_count": 5,
   "id": "8a4372a9",
   "metadata": {},
   "outputs": [
    {
     "name": "stderr",
     "output_type": "stream",
     "text": [
      "The type of the variable rdr was redefined, so was lost.\n",
      "The type of the variable array was redefined, so was lost.\n"
     ]
    },
    {
     "name": "stdout",
     "output_type": "stream",
     "text": [
      "The accuracy is: 0.8\n",
      " => generate tree description with `latex decision_tree_example.tex`!\n"
     ]
    }
   ],
   "source": [
    "fn main() {\n",
    "  let mut v = process_csv_file();\n",
    "  let mut flat_values: Vec<f64> = Vec::new();\n",
    "  for s in &v {\n",
    "    flat_values.push(s.total_points as f64);\n",
    "    flat_values.push(s.PPG);\n",
    "    flat_values.push(s.year_born as f64);\n",
    "  }\n",
    "  let array = Array2::from_shape_vec((v.len(), 3), flat_values).expect(\"Error creating ndarray\");\n",
    "\n",
    "  let likes_pizza = array![1,0,0,1,0];\n",
    "\n",
    "  let dataset = Dataset::new(array, likes_pizza).with_feature_names(vec![\"total points\", \"PPG\", \"year born\"]);\n",
    "  let decision_tree = DecisionTree::params()\n",
    "        .max_depth(Some(2))\n",
    "        .fit(&dataset)\n",
    "        .unwrap();\n",
    "\n",
    "  let accuracy = decision_tree.predict(&dataset).confusion_matrix(&dataset).unwrap().accuracy();\n",
    "    \n",
    "  println!(\"The accuracy is: {:?}\", accuracy);\n",
    "\n",
    "  let mut tikz = File::create(\"decision_tree_example.tex\").unwrap();\n",
    "    tikz.write_all(\n",
    "        decision_tree\n",
    "            .export_to_tikz()\n",
    "            .with_legend()\n",
    "            .to_string()\n",
    "            .as_bytes(),\n",
    "    )\n",
    "    .unwrap();\n",
    "    println!(\" => generate tree description with `latex decision_tree_example.tex`!\");\n",
    "}\n",
    "\n",
    "main();"
   ]
  },
  {
   "cell_type": "code",
   "execution_count": 6,
   "id": "b88c6f07",
   "metadata": {},
   "outputs": [],
   "source": [
    "use std::process::Command;\n",
    "let output = Command::new(\"pwd\").output().expect(\"Failed to execute\");\n",
    "let output = Command::new(\"pdflatex\").arg(\"decision_tree_example.tex\").output().expect(\"Failed to execute\");\n",
    "let output = Command::new(\"sips\").args([\"-s\", \"format\", \"png\", \"decision_tree_example.pdf\", \"--out\", \"decision_tree_example.png\"])\n",
    ".output().expect(\"Failed to execute\");"
   ]
  },
  {
   "cell_type": "markdown",
   "id": "0906518a",
   "metadata": {},
   "source": [
    "<img src=\"decision_tree_example.png\" alt=\"Updated Image\" style=\"width:600px;\">\n"
   ]
  },
  {
   "cell_type": "markdown",
   "id": "3c0cd148-3ecd-4e2c-81d7-95cbab27f783",
   "metadata": {},
   "source": [
    "\"Impurity\" is another term for Gini index."
   ]
  },
  {
   "cell_type": "markdown",
   "id": "b2db7fd4-0af8-48fc-8ad2-f7c77c6ec518",
   "metadata": {},
   "source": [
    "# In-Class Poll\n",
    "\n",
    "https://piazza.com/class/m5qyw6267j12cj/post/467\n"
   ]
  },
  {
   "cell_type": "code",
   "execution_count": null,
   "id": "2262e5de-2a83-4e2b-89ab-dacd9508f63a",
   "metadata": {},
   "outputs": [],
   "source": []
  }
 ],
 "metadata": {
  "celltoolbar": "Slideshow",
  "kernelspec": {
   "display_name": "Rust",
   "language": "rust",
   "name": "rust"
  },
  "language_info": {
   "codemirror_mode": "rust",
   "file_extension": ".rs",
   "mimetype": "text/rust",
   "name": "Rust",
   "pygment_lexer": "rust",
   "version": ""
  },
  "rise": {
   "enable_chalkboard": true,
   "theme": "serif"
  }
 },
 "nbformat": 4,
 "nbformat_minor": 5
}
