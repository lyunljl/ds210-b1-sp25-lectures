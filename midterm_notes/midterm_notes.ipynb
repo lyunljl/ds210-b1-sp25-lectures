{
 "cells": [
  {
   "cell_type": "markdown",
   "metadata": {},
   "source": [
    "# DS210 B1 Spring 2025 Midterm Notes\n",
    "\n"
   ]
  },
  {
   "cell_type": "markdown",
   "metadata": {},
   "source": [
    "## Table of Contents\n",
    "\n",
    "- [General Knowledge](#general-knowledge)\n",
    "- [Rust Language Knowledge](#rust-language-knowledge)\n",
    "- [Algorithms Knowledge](#algorithms-knowledge)\n",
    "\n",
    "> NOTE: This is same as the midterm notes file, but with links to the lecture notes.\n",
    "\n",
    "> The links should work if the parent of this folder is also the parent of the lecture note folders.\n"
   ]
  },
  {
   "cell_type": "markdown",
   "metadata": {},
   "source": [
    "---"
   ]
  },
  {
   "cell_type": "markdown",
   "metadata": {},
   "source": [
    "## General Tips\n",
    "\n",
    "* You are allowed 5 pages of notes, double sided, any font size\n",
    "* Exam is 50 minutes. Will start at 11:05, end at 11:55\n",
    "* ~~Sit every other seat~~\n",
    "* For code questions, you shouldn't have to write more than 10 lines of code.\n",
    "\n",
    "\n",
    "[attendance poll](https://piazza.com/class/m5qyw6267j12cj/post/238)\n"
   ]
  },
  {
   "cell_type": "markdown",
   "metadata": {},
   "source": [
    "\n",
    "---\n"
   ]
  },
  {
   "cell_type": "markdown",
   "metadata": {},
   "source": [
    "## General Knowledge\n",
    "\n",
    "* Types of programming languages:  \n",
    "    * [Assembler](../lecture_02/lecture_02.ipynb#Assembly-Language-Examples), [Interpreted, Compiled](../lecture_01.ipynb#Two-basic-approaches:-Interpreted-and-Compiled), [Interpreted/Compiled](../lecture_02/lecture_02.ipynb#Interpreted-vs.-compiled), ByteCode (Java), \n",
    "    * [Static vs Dynamic types](../lecture_02/lecture_02.ipynb#Type-checking:-static-vs.-dynamic), \n",
    "    * garbage collection vs explicit memory allocation [(link)](../lecture_02/lecture_02.ipynb#Various-programming-paradigms)\n",
    "    * imperative, functional, object oriented, declarative [(link)](../lecture_02/lecture_02.ipynb#Various-programming-paradigms)\n",
    "\n",
    "* Where does Rust fall in all this: [(link)](../lecture_02/lecture_02.ipynb#Rust-Language-(Recap))\n",
    "    * Compiled, \n",
    "    * Static Typed, \n",
    "    * Manual memory management, \n",
    "    * imperative (aspects of functional/object-oriented).\n",
    "\n",
    "* Structure of an executable (stack, heap, text, data, bss) [(link)](../lecture_02/lecture_02.ipynb#Converting-between-numbering-systems)\n",
    "\n",
    "* Basic Systems concepts:  \n",
    "    * Numbering Systems (Decimal, Binary, Hexadecimal, Octal), [(link)](../lecture_02/lecture_02.ipynb#Memory-Structure-of-an-Executable-Program)\n",
    "    * Von Neuman Architecture (Memory, Processor, I/O), [(link)](../lecture_02/lecture_02.ipynb#Memory-Structure-of-an-Executable-Program)\n",
    "    * Memory Hierarchy (registers, cache, memory, disk,...), [(link)](../lecture_02/lecture_02.ipynb#The-memory-hierarchy-and-memory-concepts)\n",
    "    * Virtual Memory [(link)](/lecture_02/lecture_02.ipynb#Virtual-Memory,-Page-Tables-and-TLBs)\n",
    "    * High level Trends, Sizes, and Costs [(link)](../lecture_02/lecture_02.ipynb#Trends,-Sizes-and-Costs)\n",
    "\n",
    "* Unix file system and layout [(link)](../lecture_02/lecture_02.ipynb#Trends,-Sizes-and-Costs), File Permissions [(link)](../lecture_03/lecture_03.ipynb#File-permissions-and-status)\n",
    "\n",
    "* Shell [(link)](../lecture_03/lecture_03.ipynb#The-linux-shell), Shell Commands [(link)](../lecture_03/lecture_03.ipynb#Important-commands), and Shell Scripts [(link)](../lecture_03/lecture_03.ipynb#Shell-scripts), \n",
    "    * Important commands (ls, cd, cp, mv, cat, touch, mkdir, rm, cd, chmod, echo..)\n",
    "\n",
    "* Git and source control.  What does the life cycle of code development look like with git source control? [(link)](../lecture_03/lecture_03.ipynb#Source-Control-and-Git)\n",
    "\n",
    "* How can explicit memory management fail? \n",
    "    * (leaks, use after free, double free)\n",
    "\n",
    "* Hash functions and their properties. [(link)](/lecture_10/lecture_10.ipynb#How-Hash-Tables-Work)\n",
    "\n",
    "* Complexity of an algorithm/code (as a function of the input)\n",
    "[(link)](../lecture_01/lecture_01.ipynb#Big-Oh-Notation-in-Programming)\n"
   ]
  },
  {
   "cell_type": "markdown",
   "metadata": {},
   "source": [
    "\n",
    "---"
   ]
  },
  {
   "cell_type": "markdown",
   "metadata": {},
   "source": [
    "## Rust Language Knowledge\n",
    "\n",
    "* Basic types (unsigned and signed integers of various sizes, usize, isize, characters, bools, strings.  Interoperability of basic types thu casting e.g. `as i32`.) [(link)](../lecture_04/lecture_04.ipynb#Variable-definitions)\n",
    "\n",
    "* cargo commands (new, run, build, check, test, clean, `--release`) and what they do [(link)](../lecture_04/lecture_04.ipynb#Project-manager:-cargo)\n",
    "\n",
    "* Control flow:  \n",
    "    * if statements, [(link)](../lecture_05/lecture_05.ipynb#Conditional-expressions:-if)\n",
    "    * conditional expressions, [(link)](lecture_05/lecture_05.ipynb#Using-conditional-expressions-as-values)\n",
    "    * function definitions, [(link)](../lecture_05/lecture_05.ipynb#Functions)\n",
    "    * for loops, [(link)](../lecture_05/lecture_05.ipynb#Loops:-for)\n",
    "    * while loops, [(link)](../lecture_05/lecture_05.ipynb#Loops:-while)\n",
    "    * loops (with breaks and continues) [(link)](../lecture_05/lecture_05.ipynb#Loops:-while)\n",
    "    * Named breaks and continues for nested loops [(link)](../lecture_05/lecture_05.ipynb#Advanced-break-and-continue)\n",
    "\n",
    "\n",
    "* Compound Datatypes (where are the allocated? stack or heap?)\n",
    "    * [Arrays](/lecture_05/lecture_05.ipynb#Arrays-and-for-over-an-array),\n",
    "    * [Tuples](../lecture_05/lecture_05.ipynb#Advanced-break-and-continue),\n",
    "    * [Structs](../lecture_07/lecture_07.ipynb#Structs),\n",
    "    * [Tuple Structs](../lecture_07/lecture_07.ipynb#Tuple-structs)\n",
    "    * [Enums](../lecture_07/lecture_07.ipynb#Enums),\n",
    "\n",
    "* More control flow\n",
    "    * [Match statements](../lecture_07/lecture_07.ipynb#Enums:-Control-Flow-with-match),\n",
    "    * `if let` [(link)](../lecture_07/lecture_07.ipynb#Simplified-matching-with-if-let)\n",
    "    * [Match as expression](../lecture_07/lecture_07.ipynb#match-as-expression)\n",
    "\n",
    "* Rust Stack [(link)](../lecture_07/lecture_07.ipynb#Stack)\n",
    "\n",
    "* Rust Heap [(link)](../lecture_07/lecture_07.ipynb#Stack)\n",
    "\n",
    "* Rust memory semantics ([ownership of memory](../lecture_08/lecture_08.ipynb#Ownership-and-borrowing-in-Rust)).  Rust references ([mutable](../lecture_08/lecture_08.ipynb#Multiple-mutable-references-at-once), [immutable](../lecture_08/lecture_08.ipynb#Multiple-immutable-references-at-once) and rules for them, &, *)\n",
    "\n",
    "* [Methods](../lecture_07/lecture_07.ipynb#Method-Syntax), [Methods revisited](../lecture_08/lecture_08.ipynb#Revisit-Methods) and object oriented programming in Rust.\n",
    "\n",
    "* Box in Rust [(link)](../lecture_08/lecture_08.ipynb#Box<T>)\n",
    "\n",
    "* Clone and Copy in Rust [(link)](/lecture_08/lecture_08.ipynb#Revisit-Methods)\n",
    "\n",
    "* Parameterizing structs, functions etc. <T> notation. [(link)](../lecture_08/lecture_08.ipynb#Generics----Avoiding-duplicating-code-for-different-types)\n",
    "\n",
    "* [Option](../lecture_08/lecture_08.ipynb#Enum-Option<T>) and [Result](../lecture_08/lecture_08.ipynb#Enum-Result<T,-E>) enums and their uses\n",
    "\n",
    "* Traits (kinda like interfaces) [(link)](../lecture_09/lecture_09.ipynb#1.-Traits)\n",
    "\n",
    "* Arrays, [Vectors](../lecture_07/lecture_07.ipynb#Vec-Collection), [Vectors cont.](/lecture_09/lecture_09.ipynb#3.-Vectors), [Vec memory mgmt](../lecture_10/lecture_10.ipynb#1.-Complexity-Analysis-(e.g.-memory-management-in-vectors)), [HashMaps](../lecture_10/lecture_10.ipynb#2.-Hash-maps), [HashSets](/lecture_10/lecture_10.ipynb#HashSet<K>),\n",
    "    * What operations work best on which types?\n",
    "    * Rough complexity comparison of operations on different types.\n",
    "\n",
    "* Tests [(link)](../lecture_09/lecture_09.ipynb#4.-Tests)\n",
    "\n",
    "* ~~Modules~~\n",
    "\n",
    "* Book Chapters 3, 4, 5, 6, 7, 8, 10 (not 10.3), 11\n"
   ]
  },
  {
   "cell_type": "markdown",
   "metadata": {},
   "source": [
    "\n",
    "---"
   ]
  },
  {
   "cell_type": "markdown",
   "metadata": {},
   "source": [
    "\n",
    "## Algorithms Knowledge\n",
    "\n",
    "* Types of Graphs [(link)](../lecture_11/lecture_11.ipynb#What-types-of-graphs-are-there?)\n",
    "\n",
    "* Graph Representations (list of edges, adjacency lists, adjacency matrix) [(link)](../lecture_11/lecture_11.ipynb#1.-Representing-graphs)\n",
    "\n",
    "* Counting triangles [(link)](../lecture_11/lecture_11.ipynb#Count-triangles)\n",
    "\n"
   ]
  },
  {
   "cell_type": "code",
   "execution_count": null,
   "metadata": {},
   "outputs": [],
   "source": []
  }
 ],
 "metadata": {
  "kernelspec": {
   "display_name": "Rust",
   "language": "rust",
   "name": "rust"
  },
  "language_info": {
   "codemirror_mode": "rust",
   "file_extension": ".rs",
   "mimetype": "text/rust",
   "name": "Rust",
   "pygment_lexer": "rust",
   "version": ""
  }
 },
 "nbformat": 4,
 "nbformat_minor": 4
}
