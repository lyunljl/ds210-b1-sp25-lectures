{
 "cells": [
  {
   "cell_type": "markdown",
   "id": "bb9b6e9b",
   "metadata": {
    "slideshow": {
     "slide_type": "slide"
    }
   },
   "source": [
    "# Shallow vs Deep Copy in Python\n",
    "\n",
    "When passing a variable to a function, Python might pass a copy or pointer depending\n",
    "on where the variable is stored -- stack or heap.\n",
    "\n",
    "* Stack: a copy is passed. Modifying the copy doesn't modify the original.\n",
    "* Heap: a pointer is passed. Modifying the copy does modify the original.\n"
   ]
  },
  {
   "cell_type": "markdown",
   "id": "ab71cd55",
   "metadata": {},
   "source": [
    "## Variable on the Stack -- Copy\n",
    "\n",
    "For a simple scalar variable, the variable is allocated on the stack.\n",
    "\n",
    "When passed to a function, a copy is passed. Modifying the copy doesn't modify the original."
   ]
  },
  {
   "cell_type": "code",
   "execution_count": 1,
   "id": "1db5634e",
   "metadata": {
    "cell_style": "split",
    "slideshow": {
     "slide_type": "-"
    }
   },
   "outputs": [
    {
     "name": "stdout",
     "output_type": "stream",
     "text": [
      "x before add_one: 3\n",
      "x in add_one: 4\n",
      "x after add_one: 3\n"
     ]
    }
   ],
   "source": [
    "# x on the stack, copied when passed to the function\n",
    "# Modifying the copy doesn't modify the original.\n",
    "def add_one(x):\n",
    "    x += 1\n",
    "    print(f\"x in add_one: {x}\")\n",
    "\n",
    "x = 3\n",
    "print(f\"x before add_one: {x}\")\n",
    "add_one(x)\n",
    "print(f\"x after add_one: {x}\")"
   ]
  },
  {
   "cell_type": "markdown",
   "id": "0d1ad196",
   "metadata": {},
   "source": [
    "## Variables on the Heap -- Pointer Passing\n",
    "\n",
    "For a list, the list is allocated on the heap.\n",
    "\n",
    "When passed to a function, a pointer to the list is passed. Modifying the list\n",
    "modifies the original.\n"
   ]
  },
  {
   "cell_type": "code",
   "execution_count": 2,
   "id": "f2d52b1b",
   "metadata": {
    "cell_style": "split",
    "slideshow": {
     "slide_type": "fragment"
    }
   },
   "outputs": [
    {
     "name": "stdout",
     "output_type": "stream",
     "text": [
      "y before add_one: [3]\n",
      "y in add_one: [3, 1]\n",
      "y after add_one: [3, 1]\n"
     ]
    }
   ],
   "source": [
    "# Internally, a list is allocated on the heap.\n",
    "# Passing a list to a function means copying\n",
    "# its pointer, not a copy of the list. Modifying\n",
    "# the list will modify the original.\n",
    "\n",
    "def add_one(y):\n",
    "    y += [1]\n",
    "    print(f\"y in add_one: {y}\")\n",
    "\n",
    "y = [3]\n",
    "print(f\"y before add_one: {y}\")\n",
    "add_one(y)\n",
    "print(f\"y after add_one: {y}\")"
   ]
  },
  {
   "cell_type": "markdown",
   "id": "faf01b73",
   "metadata": {
    "slideshow": {
     "slide_type": "slide"
    }
   },
   "source": [
    "## Stack overflow in Python?\n",
    "\n",
    "Can we overflow the stack in Python?"
   ]
  },
  {
   "cell_type": "code",
   "execution_count": 3,
   "id": "22de9f81",
   "metadata": {
    "cell_style": "split",
    "slideshow": {
     "slide_type": "-"
    }
   },
   "outputs": [],
   "source": [
    "# This function is a recursive function, that recurses the number of times\n",
    "# equal to the input value.\n",
    "def same_number(n):        \n",
    "    if n == 0:\n",
    "        return 0\n",
    "    else:\n",
    "        return 1 + same_number(n-1)\n"
   ]
  },
  {
   "cell_type": "code",
   "execution_count": 4,
   "id": "1165f012",
   "metadata": {},
   "outputs": [
    {
     "name": "stdout",
     "output_type": "stream",
     "text": [
      "return value: 123\n"
     ]
    }
   ],
   "source": [
    "retval = same_number(123)\n",
    "print(f\"return value: {retval}\")\n"
   ]
  },
  {
   "cell_type": "markdown",
   "id": "7a58aeb7",
   "metadata": {},
   "source": [
    "Why is the return value equal to the argument value we passed in?"
   ]
  },
  {
   "cell_type": "markdown",
   "id": "d349a8ab",
   "metadata": {},
   "source": [
    "Now let's pass a large number."
   ]
  },
  {
   "cell_type": "code",
   "execution_count": 5,
   "id": "5a216429",
   "metadata": {
    "cell_style": "split",
    "slideshow": {
     "slide_type": "fragment"
    }
   },
   "outputs": [
    {
     "ename": "RecursionError",
     "evalue": "maximum recursion depth exceeded",
     "output_type": "error",
     "traceback": [
      "\u001b[0;31m---------------------------------------------------------------------------\u001b[0m",
      "\u001b[0;31mRecursionError\u001b[0m                            Traceback (most recent call last)",
      "Cell \u001b[0;32mIn[5], line 1\u001b[0m\n\u001b[0;32m----> 1\u001b[0m \u001b[43msame_number\u001b[49m\u001b[43m(\u001b[49m\u001b[38;5;241;43m1_230_000\u001b[39;49m\u001b[43m)\u001b[49m\n",
      "Cell \u001b[0;32mIn[3], line 7\u001b[0m, in \u001b[0;36msame_number\u001b[0;34m(n)\u001b[0m\n\u001b[1;32m      5\u001b[0m     \u001b[38;5;28;01mreturn\u001b[39;00m \u001b[38;5;241m0\u001b[39m\n\u001b[1;32m      6\u001b[0m \u001b[38;5;28;01melse\u001b[39;00m:\n\u001b[0;32m----> 7\u001b[0m     \u001b[38;5;28;01mreturn\u001b[39;00m \u001b[38;5;241m1\u001b[39m \u001b[38;5;241m+\u001b[39m \u001b[43msame_number\u001b[49m\u001b[43m(\u001b[49m\u001b[43mn\u001b[49m\u001b[38;5;241;43m-\u001b[39;49m\u001b[38;5;241;43m1\u001b[39;49m\u001b[43m)\u001b[49m\n",
      "Cell \u001b[0;32mIn[3], line 7\u001b[0m, in \u001b[0;36msame_number\u001b[0;34m(n)\u001b[0m\n\u001b[1;32m      5\u001b[0m     \u001b[38;5;28;01mreturn\u001b[39;00m \u001b[38;5;241m0\u001b[39m\n\u001b[1;32m      6\u001b[0m \u001b[38;5;28;01melse\u001b[39;00m:\n\u001b[0;32m----> 7\u001b[0m     \u001b[38;5;28;01mreturn\u001b[39;00m \u001b[38;5;241m1\u001b[39m \u001b[38;5;241m+\u001b[39m \u001b[43msame_number\u001b[49m\u001b[43m(\u001b[49m\u001b[43mn\u001b[49m\u001b[38;5;241;43m-\u001b[39;49m\u001b[38;5;241;43m1\u001b[39;49m\u001b[43m)\u001b[49m\n",
      "    \u001b[0;31m[... skipping similar frames: same_number at line 7 (2974 times)]\u001b[0m\n",
      "Cell \u001b[0;32mIn[3], line 7\u001b[0m, in \u001b[0;36msame_number\u001b[0;34m(n)\u001b[0m\n\u001b[1;32m      5\u001b[0m     \u001b[38;5;28;01mreturn\u001b[39;00m \u001b[38;5;241m0\u001b[39m\n\u001b[1;32m      6\u001b[0m \u001b[38;5;28;01melse\u001b[39;00m:\n\u001b[0;32m----> 7\u001b[0m     \u001b[38;5;28;01mreturn\u001b[39;00m \u001b[38;5;241m1\u001b[39m \u001b[38;5;241m+\u001b[39m \u001b[43msame_number\u001b[49m\u001b[43m(\u001b[49m\u001b[43mn\u001b[49m\u001b[38;5;241;43m-\u001b[39;49m\u001b[38;5;241;43m1\u001b[39;49m\u001b[43m)\u001b[49m\n",
      "\u001b[0;31mRecursionError\u001b[0m: maximum recursion depth exceeded"
     ]
    }
   ],
   "source": [
    "same_number(1_230_000)"
   ]
  },
  {
   "cell_type": "markdown",
   "id": "7f3639a6",
   "metadata": {},
   "source": [
    "We actually got a RecursionError. Python has a safeguard that sets a recursion\n",
    "limit. Let's see what it is and set it to a larger value.\n"
   ]
  },
  {
   "cell_type": "code",
   "execution_count": 6,
   "id": "6e1b74f7",
   "metadata": {},
   "outputs": [
    {
     "name": "stdout",
     "output_type": "stream",
     "text": [
      "Current recursion limit: 3000\n"
     ]
    }
   ],
   "source": [
    "import sys\n",
    "\n",
    "# Get the current recursion limit\n",
    "current_limit = sys.getrecursionlimit()\n",
    "print(f\"Current recursion limit: {current_limit}\")\n"
   ]
  },
  {
   "cell_type": "code",
   "execution_count": 7,
   "id": "5005f0de",
   "metadata": {},
   "outputs": [
    {
     "name": "stdout",
     "output_type": "stream",
     "text": [
      "New recursion limit: 4000000\n"
     ]
    }
   ],
   "source": [
    "# Set a new recursion limit\n",
    "new_limit = 4_000_000\n",
    "sys.setrecursionlimit(new_limit)\n",
    "print(f\"New recursion limit: {sys.getrecursionlimit()}\")\n"
   ]
  },
  {
   "cell_type": "code",
   "execution_count": 8,
   "id": "53ccffa0",
   "metadata": {},
   "outputs": [
    {
     "ename": "RecursionError",
     "evalue": "maximum recursion depth exceeded",
     "output_type": "error",
     "traceback": [
      "\u001b[0;31m---------------------------------------------------------------------------\u001b[0m",
      "\u001b[0;31mRecursionError\u001b[0m                            Traceback (most recent call last)",
      "Cell \u001b[0;32mIn[8], line 2\u001b[0m\n\u001b[1;32m      1\u001b[0m \u001b[38;5;66;03m# Now let's try again.\u001b[39;00m\n\u001b[0;32m----> 2\u001b[0m \u001b[43msame_number\u001b[49m\u001b[43m(\u001b[49m\u001b[38;5;241;43m4_000_000\u001b[39;49m\u001b[43m)\u001b[49m\n",
      "Cell \u001b[0;32mIn[3], line 7\u001b[0m, in \u001b[0;36msame_number\u001b[0;34m(n)\u001b[0m\n\u001b[1;32m      5\u001b[0m     \u001b[38;5;28;01mreturn\u001b[39;00m \u001b[38;5;241m0\u001b[39m\n\u001b[1;32m      6\u001b[0m \u001b[38;5;28;01melse\u001b[39;00m:\n\u001b[0;32m----> 7\u001b[0m     \u001b[38;5;28;01mreturn\u001b[39;00m \u001b[38;5;241m1\u001b[39m \u001b[38;5;241m+\u001b[39m \u001b[43msame_number\u001b[49m\u001b[43m(\u001b[49m\u001b[43mn\u001b[49m\u001b[38;5;241;43m-\u001b[39;49m\u001b[38;5;241;43m1\u001b[39;49m\u001b[43m)\u001b[49m\n",
      "Cell \u001b[0;32mIn[3], line 7\u001b[0m, in \u001b[0;36msame_number\u001b[0;34m(n)\u001b[0m\n\u001b[1;32m      5\u001b[0m     \u001b[38;5;28;01mreturn\u001b[39;00m \u001b[38;5;241m0\u001b[39m\n\u001b[1;32m      6\u001b[0m \u001b[38;5;28;01melse\u001b[39;00m:\n\u001b[0;32m----> 7\u001b[0m     \u001b[38;5;28;01mreturn\u001b[39;00m \u001b[38;5;241m1\u001b[39m \u001b[38;5;241m+\u001b[39m \u001b[43msame_number\u001b[49m\u001b[43m(\u001b[49m\u001b[43mn\u001b[49m\u001b[38;5;241;43m-\u001b[39;49m\u001b[38;5;241;43m1\u001b[39;49m\u001b[43m)\u001b[49m\n",
      "    \u001b[0;31m[... skipping similar frames: same_number at line 7 (3999974 times)]\u001b[0m\n",
      "Cell \u001b[0;32mIn[3], line 7\u001b[0m, in \u001b[0;36msame_number\u001b[0;34m(n)\u001b[0m\n\u001b[1;32m      5\u001b[0m     \u001b[38;5;28;01mreturn\u001b[39;00m \u001b[38;5;241m0\u001b[39m\n\u001b[1;32m      6\u001b[0m \u001b[38;5;28;01melse\u001b[39;00m:\n\u001b[0;32m----> 7\u001b[0m     \u001b[38;5;28;01mreturn\u001b[39;00m \u001b[38;5;241m1\u001b[39m \u001b[38;5;241m+\u001b[39m \u001b[43msame_number\u001b[49m\u001b[43m(\u001b[49m\u001b[43mn\u001b[49m\u001b[38;5;241;43m-\u001b[39;49m\u001b[38;5;241;43m1\u001b[39;49m\u001b[43m)\u001b[49m\n",
      "\u001b[0;31mRecursionError\u001b[0m: maximum recursion depth exceeded"
     ]
    }
   ],
   "source": [
    "# Now let's try again.\n",
    "same_number(4_000_000)\n"
   ]
  }
 ],
 "metadata": {
  "celltoolbar": "Slideshow",
  "kernelspec": {
   "display_name": "Python 3 (ipykernel)",
   "language": "python",
   "name": "python3"
  },
  "language_info": {
   "codemirror_mode": {
    "name": "ipython",
    "version": 3
   },
   "file_extension": ".py",
   "mimetype": "text/x-python",
   "name": "python",
   "nbconvert_exporter": "python",
   "pygments_lexer": "ipython3",
   "version": "3.12.4"
  },
  "rise": {
   "enable_chalkboard": false,
   "theme": "serif"
  }
 },
 "nbformat": 4,
 "nbformat_minor": 5
}
