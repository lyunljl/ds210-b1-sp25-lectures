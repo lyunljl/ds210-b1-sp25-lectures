{
 "cells": [
  {
   "cell_type": "markdown",
   "id": "6db5a0b8",
   "metadata": {
    "slideshow": {
     "slide_type": "slide"
    }
   },
   "source": [
    "<div align=\"center\">\n",
    "    <h1>DS-210: Programming for Data Science</h1>\n",
    "    <h1>Lecture 7</h1>\n",
    "</div>\n",
    "\n",
    "\n",
    "# Enums (§6.1) and Pattern Matching, Structs (§5), and Introduction to Memory Management"
   ]
  },
  {
   "cell_type": "markdown",
   "id": "4ebb2e40",
   "metadata": {},
   "source": [
    "So far we looked at:\n",
    "\n",
    "* scalar datatypes like ints, floats, booleans, chars (lecture_04.ipynb, §3.2 -- Scalar types)\n",
    "* String literals, string slices (`&str`) and `String` types (lecture_04.ipynb, §3.2, §4.3)\n",
    "* Arrays (lecture_04.ipynb, §3.2 -- Compound types)\n",
    "* Tuples (lecture_04.ipynb, §3.2 -- Compound types)\n",
    "\n",
    "> §m.n referes to chapter m, section n in the [Rust book](https://doc.rust-lang.org/book/title-page.html)."
   ]
  },
  {
   "cell_type": "markdown",
   "id": "a8187b21",
   "metadata": {
    "slideshow": {
     "slide_type": "slide"
    }
   },
   "source": [
    "# Enums\n",
    "\n",
    "`enum` is short for \"enumeration\" and allows you to define a _type_ by enumerating\n",
    "its possible _variants_.\n",
    "\n",
    "The type you define can only take on one of the variants you have defined.\n",
    "\n",
    "Allows you to encode meaning along with data.\n",
    "\n",
    "Pattern matching using `match` and `if let` allows you to run different code depending on the value of the enum.\n",
    "\n",
    "> Python doesn't have native support for `enum`, but it does have an\n",
    "> [`enum` module](https://docs.python.org/3/library/enum.html) that let's do something\n",
    "> similar by subclassing an `Enum` class.\n",
    "\n",
    "Let's start with a simple example:"
   ]
  },
  {
   "cell_type": "code",
   "execution_count": 2,
   "id": "604caae4",
   "metadata": {
    "cell_style": "split",
    "vscode": {
     "languageId": "rust"
    }
   },
   "outputs": [],
   "source": [
    "// define the enum and its variants\n",
    "enum Direction {\n",
    "    North,\n",
    "    East,\n",
    "    South,\n",
    "    West,\n",
    "    SouthWest,\n",
    "}\n",
    "\n",
    "// create instances of the enum variants\n",
    "let dir_1 = Direction::North;   // dir is inferred to be of type Direction\n",
    "let dir_2: Direction = Direction::South; // dir_2 is explicitly of type Direction"
   ]
  },
  {
   "cell_type": "markdown",
   "id": "58613482",
   "metadata": {},
   "source": [
    "The `enum` declaration is defining our new type, so now a type called `Direction` is in scope,\n",
    "similar to `i32`, `f64`, `bool`, etc., but it instances can only be one of the variants we have defined.\n",
    "\n",
    "The `let` declarations are creating instances of the `Direction` type."
   ]
  },
  {
   "cell_type": "markdown",
   "id": "eb0ef514",
   "metadata": {},
   "source": [
    "You can bring the variants into scope using `use` statements."
   ]
  },
  {
   "cell_type": "code",
   "execution_count": 3,
   "id": "c6baf0b0",
   "metadata": {
    "cell_style": "split",
    "slideshow": {
     "slide_type": "fragment"
    },
    "vscode": {
     "languageId": "rust"
    }
   },
   "outputs": [],
   "source": [
    "// Bring the variant `East` into scope\n",
    "use Direction::East;\n",
    "\n",
    "// we didn't have to specify \"Direction::\"\n",
    "let dir_3 = East;"
   ]
  },
  {
   "cell_type": "code",
   "execution_count": 4,
   "id": "5a36e3bd",
   "metadata": {
    "cell_style": "split",
    "slideshow": {
     "slide_type": "fragment"
    },
    "vscode": {
     "languageId": "rust"
    }
   },
   "outputs": [],
   "source": [
    "// Bringing two options into the current scope\n",
    "use Direction::{East,West};\n",
    "let dir_4 = West;"
   ]
  },
  {
   "cell_type": "code",
   "execution_count": 5,
   "id": "119afa2a",
   "metadata": {
    "cell_style": "split",
    "slideshow": {
     "slide_type": "fragment"
    },
    "vscode": {
     "languageId": "rust"
    }
   },
   "outputs": [],
   "source": [
    "// Bringing all options in\n",
    "use Direction::*;\n",
    "let dir_5 = South;"
   ]
  },
  {
   "cell_type": "markdown",
   "id": "b31105ee",
   "metadata": {},
   "source": [
    "Why might we not always want to bring all the variants into scope?\n",
    "<br><br>"
   ]
  },
  {
   "cell_type": "code",
   "execution_count": 6,
   "id": "c9446f7b",
   "metadata": {
    "vscode": {
     "languageId": "rust"
    }
   },
   "outputs": [
    {
     "name": "stdout",
     "output_type": "stream",
     "text": [
      "my string\n"
     ]
    }
   ],
   "source": [
    "let MyVar = \"my string\";\n",
    "\n",
    "enum Prohibited {\n",
    "    MyVar,\n",
    "    YourVar,\n",
    "}\n",
    "\n",
    "let another_var = Prohibited::MyVar;\n",
    "\n",
    "// what happens if we bring all the variants into scope?\n",
    "// use Prohibited::*;\n",
    "\n",
    "println!(\"{MyVar}\");"
   ]
  },
  {
   "cell_type": "markdown",
   "id": "344a3a73",
   "metadata": {},
   "source": [
    "We can also define a function that takes our new type as an argument.\n",
    "\n",
    "```Rust\n",
    "fn turn(dir: Direction) { ... }\n",
    "```\n"
   ]
  },
  {
   "cell_type": "markdown",
   "id": "d5102f80",
   "metadata": {
    "slideshow": {
     "slide_type": "subslide"
    }
   },
   "source": [
    "## Enums: Control Flow with `match`\n",
    "\n",
    "The `match` statement is used to control flow based on the value of an enum.\n",
    "\n"
   ]
  },
  {
   "cell_type": "code",
   "execution_count": 16,
   "id": "31b1719f",
   "metadata": {
    "cell_style": "split",
    "slideshow": {
     "slide_type": "-"
    },
    "vscode": {
     "languageId": "rust"
    }
   },
   "outputs": [
    {
     "name": "stdout",
     "output_type": "stream",
     "text": [
      "E\n"
     ]
    }
   ],
   "source": [
    "enum Direction {\n",
    "    North,\n",
    "    East,\n",
    "    South,\n",
    "    West,\n",
    "}\n",
    "let dir = Direction::East;\n",
    "\n",
    "// print the direction\n",
    "match dir {\n",
    "    Direction::North => println!(\"N\"),\n",
    "    Direction::South => println!(\"S\"),\n",
    "    Direction::West => {  // can do more than one thing\n",
    "        println!(\"Go west!\");\n",
    "        println!(\"W\")\n",
    "    }\n",
    "    Direction::East => println!(\"E\"),\n",
    "};"
   ]
  },
  {
   "cell_type": "markdown",
   "id": "518855d5",
   "metadata": {},
   "source": [
    "`match` is exhaustive, so we must cover all the variants."
   ]
  },
  {
   "cell_type": "code",
   "execution_count": 8,
   "id": "6a19b221",
   "metadata": {
    "cell_style": "split",
    "slideshow": {
     "slide_type": "fragment"
    },
    "vscode": {
     "languageId": "rust"
    }
   },
   "outputs": [
    {
     "ename": "Error",
     "evalue": "non-exhaustive patterns: `Direction::East` and `Direction::West` not covered",
     "output_type": "error",
     "traceback": [
      "\u001b[31m[E0004] Error:\u001b[0m non-exhaustive patterns: `Direction::East` and `Direction::West` not covered",
      "   \u001b[38;5;246m╭\u001b[0m\u001b[38;5;246m─\u001b[0m\u001b[38;5;246m[\u001b[0mcommand_8:1:1\u001b[38;5;246m]\u001b[0m",
      "   \u001b[38;5;246m│\u001b[0m",
      " \u001b[38;5;246m4 │\u001b[0m \u001b[38;5;249mm\u001b[0m\u001b[38;5;249ma\u001b[0m\u001b[38;5;249mt\u001b[0m\u001b[38;5;249mc\u001b[0m\u001b[38;5;249mh\u001b[0m\u001b[38;5;249m \u001b[0m\u001b[38;5;54md\u001b[0m\u001b[38;5;54mi\u001b[0m\u001b[38;5;54mr\u001b[0m\u001b[38;5;54m_\u001b[0m\u001b[38;5;54m2\u001b[0m\u001b[38;5;249m \u001b[0m\u001b[38;5;249m{\u001b[0m",
      " \u001b[38;5;240m  │\u001b[0m       \u001b[38;5;54m─\u001b[0m\u001b[38;5;54m─\u001b[0m\u001b[38;5;54m┬\u001b[0m\u001b[38;5;54m─\u001b[0m\u001b[38;5;54m─\u001b[0m  ",
      " \u001b[38;5;240m  │\u001b[0m         \u001b[38;5;54m╰\u001b[0m\u001b[38;5;54m─\u001b[0m\u001b[38;5;54m─\u001b[0m\u001b[38;5;54m─\u001b[0m\u001b[38;5;54m─\u001b[0m patterns `Direction::East` and `Direction::West` not covered",
      " \u001b[38;5;240m  │\u001b[0m ",
      " \u001b[38;5;246m6 │\u001b[0m \u001b[38;5;249m \u001b[0m\u001b[38;5;249m \u001b[0m\u001b[38;5;249m \u001b[0m\u001b[38;5;249m \u001b[0m\u001b[38;5;249mS\u001b[0m\u001b[38;5;249mo\u001b[0m\u001b[38;5;249mu\u001b[0m\u001b[38;5;249mt\u001b[0m\u001b[38;5;249mh\u001b[0m\u001b[38;5;249m \u001b[0m\u001b[38;5;249m=\u001b[0m\u001b[38;5;249m>\u001b[0m\u001b[38;5;249m \u001b[0m\u001b[38;5;249mp\u001b[0m\u001b[38;5;249mr\u001b[0m\u001b[38;5;249mi\u001b[0m\u001b[38;5;249mn\u001b[0m\u001b[38;5;249mt\u001b[0m\u001b[38;5;249ml\u001b[0m\u001b[38;5;249mn\u001b[0m\u001b[38;5;249m!\u001b[0m\u001b[38;5;249m(\u001b[0m\u001b[38;5;249m\"\u001b[0m\u001b[38;5;249mS\u001b[0m\u001b[38;5;249m\"\u001b[0m\u001b[38;5;249m)\u001b[0m\u001b[38;5;249m,\u001b[0m",
      " \u001b[38;5;240m  │\u001b[0m                           \u001b[38;5;100m│\u001b[0m ",
      " \u001b[38;5;240m  │\u001b[0m                           \u001b[38;5;100m╰\u001b[0m\u001b[38;5;100m─\u001b[0m help: ensure that all possible cases are being handled by adding a match arm with a wildcard pattern, a match arm with multiple or-patterns as shown, or multiple match arms: `,",
      "    Direction::East | Direction::West => todo!()`",
      "\u001b[38;5;246m───╯\u001b[0m"
     ]
    }
   ],
   "source": [
    "let dir_2: Direction = Direction::South;\n",
    "\n",
    "// won't work \n",
    "match dir_2 {\n",
    "    North => println!(\"N\"),\n",
    "    South => println!(\"S\"),\n",
    "    // East and West not covered\n",
    "};"
   ]
  },
  {
   "cell_type": "markdown",
   "id": "f77f0858",
   "metadata": {},
   "source": [
    "But there is a way to match anything left."
   ]
  },
  {
   "cell_type": "code",
   "execution_count": 11,
   "id": "acd3e6de",
   "metadata": {
    "cell_style": "split",
    "slideshow": {
     "slide_type": "fragment"
    },
    "vscode": {
     "languageId": "rust"
    }
   },
   "outputs": [
    {
     "name": "stdout",
     "output_type": "stream",
     "text": [
      "N\n"
     ]
    },
    {
     "data": {
      "text/plain": [
       "()"
      ]
     },
     "execution_count": 11,
     "metadata": {},
     "output_type": "execute_result"
    }
   ],
   "source": [
    "let dir_2: Direction = Direction::North;\n",
    "\n",
    "match dir_2 {\n",
    "    North => println!(\"N\"),\n",
    "    South => println!(\"S\"),\n",
    "    \n",
    "    // match anything left\n",
    "    _ => (),  // covers all the other variants but doesn't do anything\n",
    "}"
   ]
  },
  {
   "cell_type": "markdown",
   "id": "94607a8f-a113-4a37-a9a3-7ded96e99912",
   "metadata": {},
   "source": [
    "**WARNING!!**"
   ]
  },
  {
   "cell_type": "code",
   "execution_count": 12,
   "id": "8514f475",
   "metadata": {
    "cell_style": "split",
    "slideshow": {
     "slide_type": "fragment"
    },
    "vscode": {
     "languageId": "rust"
    }
   },
   "outputs": [
    {
     "name": "stdout",
     "output_type": "stream",
     "text": [
      "anything else\n"
     ]
    },
    {
     "data": {
      "text/plain": [
       "()"
      ]
     },
     "execution_count": 12,
     "metadata": {},
     "output_type": "execute_result"
    }
   ],
   "source": [
    "\n",
    "match dir_2 {\n",
    "    _ => println!(\"anything else\"),\n",
    "    \n",
    "    // will never get here!!\n",
    "    North => println!(\"N\"),\n",
    "    South => println!(\"S\"),\n",
    "}"
   ]
  },
  {
   "cell_type": "markdown",
   "id": "7f8deb9d",
   "metadata": {},
   "source": [
    "### Recap of `match`\n",
    "* Type of a switch statement like in C/C++ (Python doesn't have an equivalent)\n",
    "* Must be exhaustive though there is a way to specify default (_ =>) "
   ]
  },
  {
   "cell_type": "markdown",
   "id": "18e6ad2f",
   "metadata": {
    "slideshow": {
     "slide_type": "subslide"
    }
   },
   "source": [
    "## Putting Data in an Enum Variant\n",
    "\n",
    "* Each variant can come with additional information"
   ]
  },
  {
   "cell_type": "code",
   "execution_count": 19,
   "id": "4260d621",
   "metadata": {
    "cell_style": "split",
    "vscode": {
     "languageId": "rust"
    }
   },
   "outputs": [
    {
     "name": "stdout",
     "output_type": "stream",
     "text": [
      "the result is 3\n",
      "The result is Ok(1)\n"
     ]
    }
   ],
   "source": [
    "#[derive(Debug)]   // allows us to print the enum by having Rust automatically implement a Debug train (more later)\n",
    "enum DivisionResult {\n",
    "    Ok(u32),    // This variant has an associated value of type u32\n",
    "    DivisionByZero,\n",
    "}\n",
    "\n",
    "// This function returns a DivisionResult which can handle the case where the division is by zero\n",
    "fn divide(x:u32, y:u32) -> DivisionResult {\n",
    "    if y == 0 {\n",
    "        return DivisionResult::DivisionByZero;\n",
    "    } else {\n",
    "        return DivisionResult::Ok(x / y); // Prove a value with the variant\n",
    "    }\n",
    "}\n",
    "\n",
    "let (a,b) = (9,3);  // this is just short hand for let a = 9; let b = 3;\n",
    "\n",
    "// we can call `divide` and handle the result\n",
    "match divide(a,b) {\n",
    "    DivisionResult::Ok(result)  // assign the variant value to result\n",
    "        => println!(\"the result is {}\",result),\n",
    "    DivisionResult::DivisionByZero\n",
    "        => println!(\"noooooo!!!!\"),\n",
    "};\n",
    "\n",
    "// we can also call `divide`, store the result and print it\n",
    "let z = divide(5, 4);\n",
    "println!(\"The result is {:?}\", z);"
   ]
  },
  {
   "cell_type": "markdown",
   "id": "5af92c35",
   "metadata": {},
   "source": [
    "We can have more than one associated value in a variant."
   ]
  },
  {
   "cell_type": "code",
   "execution_count": 3,
   "id": "f0c7b364",
   "metadata": {
    "cell_style": "split",
    "slideshow": {
     "slide_type": "fragment"
    },
    "vscode": {
     "languageId": "rust"
    }
   },
   "outputs": [
    {
     "name": "stdout",
     "output_type": "stream",
     "text": [
      "the result is 2\n",
      "the remainder is 1\n"
     ]
    }
   ],
   "source": [
    "enum DivisionResultWithRemainder {\n",
    "    Ok(u32,u32),  // Store the result of the integer division and the remainder\n",
    "    DivisionByZero,\n",
    "}\n",
    "\n",
    "fn divide_with_remainder(x:u32, y:u32) -> DivisionResultWithRemainder {\n",
    "    if y == 0 {\n",
    "        DivisionResultWithRemainder::DivisionByZero\n",
    "    } else {\n",
    "        DivisionResultWithRemainder::Ok(x / y, x % y) // Return the integer division and the remainder\n",
    "    }\n",
    "}\n",
    "\n",
    "let (a,b) = (9,4);\n",
    "match divide_with_remainder(a,b) {\n",
    "    DivisionResultWithRemainder::Ok(result,remainder) => {\n",
    "            println!(\"the result is {}\",result);\n",
    "            println!(\"the remainder is {}\",remainder);\n",
    "    }\n",
    "    DivisionResultWithRemainder::DivisionByZero\n",
    "        => println!(\"noooooo!!!!\"),\n",
    "};"
   ]
  },
  {
   "cell_type": "markdown",
   "id": "5fda3484-5f47-4bee-82b6-e4b29b7af999",
   "metadata": {},
   "source": [
    "## A Note on the Memory Size of Enums\n",
    "\n",
    "The size of the enum is related to the size of its largest variant, not the sum of the sizes.\n"
   ]
  },
  {
   "cell_type": "code",
   "execution_count": 16,
   "id": "512b6a77",
   "metadata": {
    "vscode": {
     "languageId": "rust"
    }
   },
   "outputs": [
    {
     "name": "stdout",
     "output_type": "stream",
     "text": [
      "Size of SuperSimpleEnum::First: 1 bytes\n",
      "\n",
      "Size of SimpleEnum: 16 bytes\n",
      "Size of i32: 4 bytes\n",
      "Size of (i32, i32): 8 bytes\n",
      "Size of (i64, i64): 16 bytes\n"
     ]
    }
   ],
   "source": [
    "use std::mem;\n",
    "\n",
    "enum SuperSimpleEnum {\n",
    "    First,\n",
    "    Second,\n",
    "    Third\n",
    "}\n",
    "\n",
    "enum SimpleEnum {\n",
    "    A,           // No data\n",
    "    B(i32),      // Contains an i32\n",
    "    C(i32, i32), // Contains two i32s\n",
    "    D(i64)       // Contains an i64\n",
    "}\n",
    "\n",
    "fn main() {\n",
    "    println!(\"Size of SuperSimpleEnum::First: {} bytes\\n\", mem::size_of::<SuperSimpleEnum>());\n",
    "\n",
    "    println!(\"Size of SimpleEnum: {} bytes\", mem::size_of::<SimpleEnum>());\n",
    "    println!(\"Size of i32: {} bytes\", mem::size_of::<i32>());\n",
    "    println!(\"Size of (i32, i32): {} bytes\", mem::size_of::<(i32, i32)>());\n",
    "    println!(\"Size of (i64, i64): {} bytes\", mem::size_of::<(i64, i64)>());\n",
    "}\n",
    "\n",
    "main();\n"
   ]
  },
  {
   "cell_type": "markdown",
   "id": "73c1aa86",
   "metadata": {
    "slideshow": {
     "slide_type": "subslide"
    }
   },
   "source": [
    "## Displaying enums\n",
    "\n",
    "By default Rust doesn't know how to display a new enum type.\n",
    "\n",
    "Here we try to debug print the `Direction` enum."
   ]
  },
  {
   "cell_type": "code",
   "execution_count": 20,
   "id": "aea25da6",
   "metadata": {
    "cell_style": "split",
    "vscode": {
     "languageId": "rust"
    }
   },
   "outputs": [
    {
     "ename": "Error",
     "evalue": "`Direction` doesn't implement `Debug`",
     "output_type": "error",
     "traceback": [
      "\u001b[31m[E0277] Error:\u001b[0m `Direction` doesn't implement `Debug`",
      "   \u001b[38;5;246m╭\u001b[0m\u001b[38;5;246m─\u001b[0m\u001b[38;5;246m[\u001b[0mcommand_20:1:1\u001b[38;5;246m]\u001b[0m",
      "   \u001b[38;5;246m│\u001b[0m",
      " \u001b[38;5;246m2 │\u001b[0m \u001b[38;5;249mp\u001b[0m\u001b[38;5;249mr\u001b[0m\u001b[38;5;249mi\u001b[0m\u001b[38;5;249mn\u001b[0m\u001b[38;5;249mt\u001b[0m\u001b[38;5;249ml\u001b[0m\u001b[38;5;249mn\u001b[0m\u001b[38;5;249m!\u001b[0m\u001b[38;5;249m(\u001b[0m\u001b[38;5;249m\"\u001b[0m\u001b[38;5;249m{\u001b[0m\u001b[38;5;249m:\u001b[0m\u001b[38;5;249m?\u001b[0m\u001b[38;5;249m}\u001b[0m\u001b[38;5;249m\"\u001b[0m\u001b[38;5;249m,\u001b[0m\u001b[38;5;54md\u001b[0m\u001b[38;5;54mi\u001b[0m\u001b[38;5;54mr\u001b[0m\u001b[38;5;249m)\u001b[0m\u001b[38;5;249m;\u001b[0m",
      " \u001b[38;5;240m  │\u001b[0m                 \u001b[38;5;54m─\u001b[0m\u001b[38;5;54m┬\u001b[0m\u001b[38;5;54m─\u001b[0m  ",
      " \u001b[38;5;240m  │\u001b[0m                  \u001b[38;5;54m╰\u001b[0m\u001b[38;5;54m─\u001b[0m\u001b[38;5;54m─\u001b[0m\u001b[38;5;54m─\u001b[0m `Direction` cannot be formatted using `{:?}`",
      " \u001b[38;5;240m  │\u001b[0m ",
      " \u001b[38;5;240m  │\u001b[0m \u001b[38;5;115mNote\u001b[0m: help: consider annotating `Direction` with `#[derive(Debug)]`: `#[derive(Debug)]",
      "`",
      "\u001b[38;5;246m───╯\u001b[0m"
     ]
    }
   ],
   "source": [
    "let dir = Direction::North;\n",
    "println!(\"{:?}\",dir);"
   ]
  },
  {
   "cell_type": "markdown",
   "id": "76c870f1",
   "metadata": {},
   "source": [
    "Or equivalently:"
   ]
  },
  {
   "cell_type": "code",
   "execution_count": 21,
   "id": "957e8eee",
   "metadata": {
    "cell_style": "split",
    "slideshow": {
     "slide_type": "fragment"
    },
    "vscode": {
     "languageId": "rust"
    }
   },
   "outputs": [
    {
     "ename": "Error",
     "evalue": "`Direction` doesn't implement `Debug`",
     "output_type": "error",
     "traceback": [
      "\u001b[31m[E0277] Error:\u001b[0m `Direction` doesn't implement `Debug`"
     ]
    }
   ],
   "source": [
    "let dir = Direction::North;\n",
    "\n",
    "dir"
   ]
  },
  {
   "cell_type": "markdown",
   "id": "6f0024ab",
   "metadata": {},
   "source": [
    "Adding the `#[derive(Debug)]` attribute to the enum definition allows Rust to automatically implement the `Debug` trait."
   ]
  },
  {
   "cell_type": "code",
   "execution_count": 18,
   "id": "6450789c",
   "metadata": {
    "cell_style": "split",
    "slideshow": {
     "slide_type": "fragment"
    },
    "vscode": {
     "languageId": "rust"
    }
   },
   "outputs": [
    {
     "name": "stdout",
     "output_type": "stream",
     "text": [
      "North\n"
     ]
    }
   ],
   "source": [
    "#[derive(Debug)]\n",
    "enum Direction {\n",
    "    North,\n",
    "    East,\n",
    "    South,\n",
    "    West,\n",
    "}\n",
    "\n",
    "use Direction::*;\n",
    "let dir = Direction::North;\n",
    "println!(\"{:?}\",dir);"
   ]
  },
  {
   "cell_type": "markdown",
   "id": "728983f8",
   "metadata": {},
   "source": [
    "### Optional: More on #[derive(Debug)]\n",
    "\n",
    "* A simple way to tell Rust to generate code that allows a complex type to be printed\n",
    "* Here's the equivalent manual implementation of the `Debug` trait\n",
    "* more on traits and `impl` later\n",
    "\n",
    "```\n",
    "use std::fmt;\n",
    "\n",
    "impl fmt::Debug for Direction {\n",
    "    fn fmt(&self, f: &mut fmt::Formatter) -> fmt::Result {\n",
    "           match *self {\n",
    "               Direction::North => write!(f, \"North\"),\n",
    "               Direction::East => write!(f, \"East\"),\n",
    "               Direction::South => write!(f, \"South\"),\n",
    "               Direction::West => write!(f, \"West\"),               \n",
    "           }\n",
    "    }\n",
    "}\n",
    "```"
   ]
  },
  {
   "cell_type": "code",
   "execution_count": 23,
   "id": "51e781de",
   "metadata": {
    "cell_style": "split",
    "slideshow": {
     "slide_type": "fragment"
    },
    "vscode": {
     "languageId": "rust"
    }
   },
   "outputs": [
    {
     "data": {
      "text/plain": [
       "North"
      ]
     },
     "execution_count": 23,
     "metadata": {},
     "output_type": "execute_result"
    }
   ],
   "source": [
    "let dir = Direction::North;\n",
    "dir"
   ]
  },
  {
   "cell_type": "code",
   "execution_count": 24,
   "id": "0a6445e8",
   "metadata": {
    "cell_style": "split",
    "slideshow": {
     "slide_type": "fragment"
    },
    "vscode": {
     "languageId": "rust"
    }
   },
   "outputs": [
    {
     "name": "stdout",
     "output_type": "stream",
     "text": [
      "North\n"
     ]
    }
   ],
   "source": [
    "let dir = Direction::North;\n",
    "println!(\"{:?}\",dir);"
   ]
  },
  {
   "cell_type": "code",
   "execution_count": 25,
   "id": "2925547d",
   "metadata": {
    "vscode": {
     "languageId": "rust"
    }
   },
   "outputs": [
    {
     "name": "stdout",
     "output_type": "stream",
     "text": [
      "North\n"
     ]
    }
   ],
   "source": [
    "// Example of how make a complex datatype printable directly (without deriving from Debug)\n",
    "use std::fmt;\n",
    "\n",
    "impl fmt::Display for Direction {\n",
    "    fn fmt(&self, f: &mut fmt::Formatter) -> fmt::Result {\n",
    "           match *self {\n",
    "               Direction::North => write!(f, \"North\"),\n",
    "               Direction::East => write!(f, \"East\"),\n",
    "               Direction::South => write!(f, \"South\"),\n",
    "               Direction::West => write!(f, \"West\"),               \n",
    "           }\n",
    "    }\n",
    "}\n",
    "println!(\"{}\", dir);"
   ]
  },
  {
   "cell_type": "markdown",
   "id": "98d63bee",
   "metadata": {
    "slideshow": {
     "slide_type": "subslide"
    }
   },
   "source": [
    "## `match` as expression\n",
    "\n",
    "The result of a `match` can be used as an expression.\n",
    "\n",
    "Each branch (arm) returns a value."
   ]
  },
  {
   "cell_type": "code",
   "execution_count": 19,
   "id": "39ea83b6",
   "metadata": {
    "cell_style": "center",
    "slideshow": {
     "slide_type": "-"
    },
    "vscode": {
     "languageId": "rust"
    }
   },
   "outputs": [
    {
     "name": "stdout",
     "output_type": "stream",
     "text": [
      "North\n",
      "West\n"
     ]
    }
   ],
   "source": [
    "// swap east and west\n",
    "let mut dir_4 = North;\n",
    "println!(\"{:?}\", dir_4);\n",
    "\n",
    "dir_4 = match dir_4 {\n",
    "    East => West,\n",
    "    West => {\n",
    "        println!(\"Switching West to East\");\n",
    "        East\n",
    "    }\n",
    "    // variable mathching anything else\n",
    "    _ => West,\n",
    "\n",
    "};\n",
    "\n",
    "println!(\"{:?}\", dir_4);"
   ]
  },
  {
   "cell_type": "markdown",
   "id": "867d7075",
   "metadata": {
    "slideshow": {
     "slide_type": "subslide"
    }
   },
   "source": [
    "## Simplified matching with `if let`\n",
    "\n",
    "Consider the following example (in which we want to use just one branch):"
   ]
  },
  {
   "cell_type": "code",
   "execution_count": 20,
   "id": "5455009a",
   "metadata": {
    "vscode": {
     "languageId": "rust"
    }
   },
   "outputs": [
    {
     "name": "stdout",
     "output_type": "stream",
     "text": [
      "2 (remainder 2)\n"
     ]
    }
   ],
   "source": [
    "#[derive(Debug)]\n",
    "enum DivisionResult {\n",
    "    Ok(u32,u32),\n",
    "    DivisionByZero,\n",
    "}\n",
    "\n",
    "fn divide(x:u32, y:u32) -> DivisionResult {\n",
    "    if y == 0 {\n",
    "        DivisionResult::DivisionByZero\n",
    "    } else {\n",
    "        DivisionResult::Ok(x / y, x % y)\n",
    "    }\n",
    "}\n",
    "\n",
    "\n",
    "match divide(8,3) {\n",
    "    DivisionResult::Ok(result,remainder) => println!(\"{} (remainder {})\",result,remainder),\n",
    "    _ => (), // <--- how to avoid this?\n",
    "};\n"
   ]
  },
  {
   "cell_type": "markdown",
   "id": "9e1218ba",
   "metadata": {
    "slideshow": {
     "slide_type": "fragment"
    }
   },
   "source": [
    "This is a common enough pattern that Rust provides a shortcut for it.\n",
    "\n",
    "`if let` allows for matching just one branch (arm)"
   ]
  },
  {
   "cell_type": "code",
   "execution_count": 28,
   "id": "3bbd5219",
   "metadata": {
    "vscode": {
     "languageId": "rust"
    }
   },
   "outputs": [
    {
     "name": "stdout",
     "output_type": "stream",
     "text": [
      "1 (remainder 1)\n"
     ]
    }
   ],
   "source": [
    "if let DivisionResult::Ok(result,reminder) = divide(8,7) { \n",
    "    println!(\"{} (remainder {})\",result,reminder);\n",
    "};"
   ]
  },
  {
   "cell_type": "markdown",
   "id": "293caee5",
   "metadata": {},
   "source": [
    "The single `=` is not an assignment, it is a pattern matching operator."
   ]
  },
  {
   "cell_type": "code",
   "execution_count": 29,
   "id": "ca8f43c5",
   "metadata": {
    "cell_style": "split",
    "slideshow": {
     "slide_type": "fragment"
    },
    "vscode": {
     "languageId": "rust"
    }
   },
   "outputs": [
    {
     "name": "stdout",
     "output_type": "stream",
     "text": [
      "North\n"
     ]
    }
   ],
   "source": [
    "use Direction::*;\n",
    "let dir = North;\n",
    "if let North = dir {\n",
    "    println!(\"North\");\n",
    "};"
   ]
  },
  {
   "cell_type": "markdown",
   "id": "2810c821",
   "metadata": {},
   "source": [
    "You can use `else` to match anything else."
   ]
  },
  {
   "cell_type": "code",
   "execution_count": 30,
   "id": "39a08f94",
   "metadata": {
    "cell_style": "split",
    "slideshow": {
     "slide_type": "fragment"
    },
    "vscode": {
     "languageId": "rust"
    }
   },
   "outputs": [
    {
     "name": "stdout",
     "output_type": "stream",
     "text": [
      "North\n"
     ]
    }
   ],
   "source": [
    "// But it is important to have the enum\n",
    "// on the left hand side\n",
    "// if let West = dir {\n",
    "if let dir = West {\n",
    " println!(\"North\");\n",
    "} else {\n",
    "    println!(\"Something else\");\n",
    "};"
   ]
  },
  {
   "cell_type": "markdown",
   "id": "17f74804",
   "metadata": {},
   "source": [
    "Remember to use the single `=` for pattern matching, not the double `==` for equality."
   ]
  },
  {
   "cell_type": "code",
   "execution_count": 31,
   "id": "c183ec47",
   "metadata": {
    "vscode": {
     "languageId": "rust"
    }
   },
   "outputs": [
    {
     "ename": "Error",
     "evalue": "an implementation of `PartialEq` might be missing for `Direction`",
     "output_type": "error",
     "traceback": [
      "\u001b[31mError:\u001b[0m an implementation of `PartialEq` might be missing for `Direction`"
     ]
    }
   ],
   "source": [
    "// Don't do this.\n",
    "if dir == North {\n",
    "    println!(\"North\");\n",
    "}"
   ]
  },
  {
   "cell_type": "markdown",
   "id": "d6d7dd50",
   "metadata": {
    "slideshow": {
     "slide_type": "slide"
    }
   },
   "source": [
    "# Structs\n",
    "\n",
    "Previously we saw tuples, e.g., `(12, 1.7, true)`, where we can mix different types of data.\n",
    "\n",
    "Structs compared to tuples:\n",
    "\n",
    "* **Similar:** can hold items of different types\n",
    "* **Different:** the items have names"
   ]
  },
  {
   "cell_type": "code",
   "execution_count": 46,
   "id": "ca5d37c0",
   "metadata": {
    "cell_style": "split",
    "slideshow": {
     "slide_type": "fragment"
    },
    "vscode": {
     "languageId": "rust"
    }
   },
   "outputs": [],
   "source": [
    "// Definition: list items (called fields)\n",
    "//             and their types\n",
    "\n",
    "struct Person {\n",
    "    name: String,\n",
    "    year_born: u16,\n",
    "    time_100m: f64,\n",
    "    likes_ice_cream: bool,\n",
    "}"
   ]
  },
  {
   "cell_type": "code",
   "execution_count": 47,
   "id": "2b86addb",
   "metadata": {
    "cell_style": "split",
    "slideshow": {
     "slide_type": "fragment"
    },
    "vscode": {
     "languageId": "rust"
    }
   },
   "outputs": [],
   "source": [
    "// Instantiation: replace types with values\n",
    "\n",
    "let mut cartoon_character: Person = Person {\n",
    "    name: String::from(\"Tasmanian Devil\"),\n",
    "    year_born: 1954,\n",
    "    time_100m: 7.52,\n",
    "    likes_ice_cream: true,\n",
    "};\n"
   ]
  },
  {
   "cell_type": "code",
   "execution_count": 48,
   "id": "4f460a12",
   "metadata": {
    "cell_style": "split",
    "slideshow": {
     "slide_type": "fragment"
    },
    "vscode": {
     "languageId": "rust"
    }
   },
   "outputs": [
    {
     "name": "stdout",
     "output_type": "stream",
     "text": [
      "Tasmanian Devil was born in 1954\n"
     ]
    },
    {
     "name": "stdout",
     "output_type": "stream",
     "text": [
      "Tasmanian Devil was born in 2022\n"
     ]
    }
   ],
   "source": [
    "// Accessing fields: use \".field_name\"\n",
    "println!(\"{} was born in {}\",\n",
    "    cartoon_character.name,\n",
    "    cartoon_character.year_born);\n",
    "    \n",
    "cartoon_character.year_born = 2022;\n",
    "println!(\"{} was born in {}\",\n",
    "    cartoon_character.name,\n",
    "    cartoon_character.year_born);"
   ]
  },
  {
   "cell_type": "markdown",
   "id": "cd4e4a6b",
   "metadata": {
    "slideshow": {
     "slide_type": "subslide"
    }
   },
   "source": [
    "## Tuple structs\n",
    "\n",
    "Named tuples to impose more meaning and delineate a different type.  \n",
    "\n",
    "Example: both `(f64,f64,f64)`\n",
    "\n",
    "* box size (e.g., height $\\times$ width $\\times$ depth)\n",
    "* Euclidean coordinates of a point in 3D"
   ]
  },
  {
   "cell_type": "code",
   "execution_count": 49,
   "id": "7cf9d0c9",
   "metadata": {
    "cell_style": "split",
    "slideshow": {
     "slide_type": "fragment"
    },
    "vscode": {
     "languageId": "rust"
    }
   },
   "outputs": [],
   "source": [
    "struct BoxSize(f64,f64,f64);\n",
    "struct Point2(f64,f64,f64);"
   ]
  },
  {
   "cell_type": "code",
   "execution_count": 50,
   "id": "694400e9",
   "metadata": {
    "cell_style": "split",
    "slideshow": {
     "slide_type": "fragment"
    },
    "vscode": {
     "languageId": "rust"
    }
   },
   "outputs": [],
   "source": [
    "let mut my_box = BoxSize(3.2,6.0,2.0);\n",
    "let mut p : Point2 = Point2(-1.3,2.1,0.0);"
   ]
  },
  {
   "cell_type": "code",
   "execution_count": 51,
   "id": "9bb7cf2d",
   "metadata": {
    "cell_style": "split",
    "slideshow": {
     "slide_type": "fragment"
    },
    "vscode": {
     "languageId": "rust"
    }
   },
   "outputs": [
    {
     "ename": "Error",
     "evalue": "mismatched types",
     "output_type": "error",
     "traceback": [
      "\u001b[31m[E0308] Error:\u001b[0m mismatched types",
      "   \u001b[38;5;246m╭\u001b[0m\u001b[38;5;246m─\u001b[0m\u001b[38;5;246m[\u001b[0mcommand_51:1:1\u001b[38;5;246m]\u001b[0m",
      "   \u001b[38;5;246m│\u001b[0m",
      " \u001b[38;5;246m2 │\u001b[0m \u001b[38;5;249mm\u001b[0m\u001b[38;5;249my\u001b[0m\u001b[38;5;249m_\u001b[0m\u001b[38;5;249mb\u001b[0m\u001b[38;5;249mo\u001b[0m\u001b[38;5;249mx\u001b[0m\u001b[38;5;249m \u001b[0m\u001b[38;5;249m=\u001b[0m\u001b[38;5;249m \u001b[0m\u001b[38;5;54mp\u001b[0m\u001b[38;5;249m;\u001b[0m",
      " \u001b[38;5;240m  │\u001b[0m          \u001b[38;5;54m┬\u001b[0m  ",
      " \u001b[38;5;240m  │\u001b[0m          \u001b[38;5;54m╰\u001b[0m\u001b[38;5;54m─\u001b[0m\u001b[38;5;54m─\u001b[0m expected `BoxSize`, found `Point2`",
      "\u001b[38;5;246m───╯\u001b[0m"
     ]
    }
   ],
   "source": [
    "// won't work\n",
    "my_box = p;\n",
    "\n",
    "// Impossible to accidentally confuse different\n",
    "// types of triples.\n",
    "// No runtime penalty! Verified at compilation."
   ]
  },
  {
   "cell_type": "code",
   "execution_count": 52,
   "id": "282b3aff",
   "metadata": {
    "cell_style": "split",
    "slideshow": {
     "slide_type": "fragment"
    },
    "vscode": {
     "languageId": "rust"
    }
   },
   "outputs": [
    {
     "name": "stdout",
     "output_type": "stream",
     "text": [
      "-1.3 2.1 0\n"
     ]
    },
    {
     "name": "stdout",
     "output_type": "stream",
     "text": [
      "17.2 2.1 0\n"
     ]
    }
   ],
   "source": [
    "// Acessing via index\n",
    "println!(\"{} {} {}\",p.0,p.1,p.2);\n",
    "p.0 = 17.2;\n",
    "\n",
    "// Destructuring\n",
    "let Point2(first,second,third) = p;\n",
    "println!(\"{} {} {}\", first, second, third);"
   ]
  },
  {
   "cell_type": "markdown",
   "id": "da9c4abd",
   "metadata": {
    "cell_style": "center",
    "slideshow": {
     "slide_type": "slide"
    }
   },
   "source": [
    "## Named structs in enums\n",
    "\n",
    "Structs with braces and exchangable with tuples in many places"
   ]
  },
  {
   "cell_type": "code",
   "execution_count": 53,
   "id": "1cec4ad3",
   "metadata": {
    "cell_style": "split",
    "slideshow": {
     "slide_type": "-"
    },
    "vscode": {
     "languageId": "rust"
    }
   },
   "outputs": [],
   "source": [
    "enum LPSolution {\n",
    "    None,\n",
    "    Point{x:f64,y:f64}\n",
    "}\n",
    "\n",
    "let example = LPSolution::Point{x:1.2, y:4.2};"
   ]
  },
  {
   "cell_type": "code",
   "execution_count": 54,
   "id": "734852bf",
   "metadata": {
    "cell_style": "split",
    "slideshow": {
     "slide_type": "fragment"
    },
    "vscode": {
     "languageId": "rust"
    }
   },
   "outputs": [
    {
     "name": "stdout",
     "output_type": "stream",
     "text": [
      "coordinates: 1.2 4.2\n"
     ]
    }
   ],
   "source": [
    "if let LPSolution::Point{x:first,y:second} = example {\n",
    "    println!(\"coordinates: {} {}\", first, second);\n",
    "};"
   ]
  },
  {
   "cell_type": "markdown",
   "id": "dd06d231",
   "metadata": {},
   "source": [
    "## Method Syntax\n",
    "\n",
    "Brings aspects of object-oriented programming to Rust: _combine properties and methods in one object_.\n",
    "\n",
    "Methods are _functions that are defined within the context of a struct_.\n",
    "\n",
    "The first parameter is always `self`, which refers to the instance of the\n",
    "`struct` the method is being called on.\n",
    "\n",
    "Use and `impl` (implementation) block on the struct to define methods."
   ]
  },
  {
   "cell_type": "code",
   "execution_count": 59,
   "id": "5e004b0a",
   "metadata": {
    "vscode": {
     "languageId": "rust"
    }
   },
   "outputs": [
    {
     "name": "stdout",
     "output_type": "stream",
     "text": [
      "Rectangle perimeter: 14\n"
     ]
    },
    {
     "name": "stdout",
     "output_type": "stream",
     "text": [
      "Rectangle area: 12\n"
     ]
    }
   ],
   "source": [
    "struct Point {\n",
    "    x: f64,\n",
    "    y: f64,\n",
    "}\n",
    "\n",
    "struct Rectangle {\n",
    "    p1: Point,\n",
    "    p2: Point,\n",
    "}\n",
    "\n",
    "impl Rectangle {\n",
    "    // This is a method\n",
    "    fn area(&self) -> f64 {\n",
    "        // `self` gives access to the struct fields via the dot operator\n",
    "        let Point { x: x1, y: y1 } = self.p1;\n",
    "        let Point { x: x2, y: y2 } = self.p2;\n",
    "\n",
    "        // `abs` is a `f64` method that returns the absolute value of the\n",
    "        // caller\n",
    "        ((x1 - x2) * (y1 - y2)).abs()\n",
    "    }\n",
    "\n",
    "    fn perimeter(&self) -> f64 {\n",
    "        let Point { x: x1, y: y1 } = self.p1;\n",
    "        let Point { x: x2, y: y2 } = self.p2;\n",
    "\n",
    "        2.0 * ((x1 - x2).abs() + (y1 - y2).abs())\n",
    "    }\n",
    "}\n",
    "\n",
    "let rectangle = Rectangle {\n",
    "    p1: Point{x:0.0, y:0.0},\n",
    "    p2: Point{x:3.0, y:4.0},\n",
    "};\n",
    "\n",
    "println!(\"Rectangle perimeter: {}\", rectangle.perimeter());\n",
    "println!(\"Rectangle area: {}\", rectangle.area());\n"
   ]
  },
  {
   "cell_type": "markdown",
   "id": "cfebd851",
   "metadata": {},
   "source": [
    "### Associated Functions without `self` parameter\n",
    "\n",
    "Useful as constructors.\n",
    "\n",
    "You can have more than one `impl` block on the same struct.\n"
   ]
  },
  {
   "cell_type": "code",
   "execution_count": 60,
   "id": "fc51bb08",
   "metadata": {
    "vscode": {
     "languageId": "rust"
    }
   },
   "outputs": [
    {
     "name": "stdout",
     "output_type": "stream",
     "text": [
      "Rectangle area: 12\n"
     ]
    }
   ],
   "source": [
    "impl Rectangle {\n",
    "    fn new(p1: Point, p2: Point) -> Rectangle {\n",
    "        Rectangle { p1, p2 }\n",
    "    }\n",
    "}\n",
    "\n",
    "let rect = Rectangle::new(Point{x:0.0, y:0.0}, Point{x:3.0, y:4.0});\n",
    "println!(\"Rectangle area: {}\", rect.area());\n"
   ]
  },
  {
   "cell_type": "markdown",
   "id": "33314d9d",
   "metadata": {
    "slideshow": {
     "slide_type": "slide"
    }
   },
   "source": [
    "# Memory Management: Stack vs. Heap\n",
    "\n",
    "We talked about stack and heap generically. Let's look at an example based on Rust.\n",
    "\n",
    "* Two different places where space for data can be allocated\n",
    "* We will discuss them one by one\n"
   ]
  },
  {
   "cell_type": "markdown",
   "id": "ffcde1a1",
   "metadata": {
    "slideshow": {
     "slide_type": "slide"
    }
   },
   "source": [
    "# Stack"
   ]
  },
  {
   "cell_type": "markdown",
   "id": "fa9b548e",
   "metadata": {
    "cell_style": "split",
    "slideshow": {
     "slide_type": "fragment"
    }
   },
   "source": [
    "* LIFO (last in first out) memory allocation\n",
    "* Stores current local variables and additional information such as:\n",
    "  - function arguments\n",
    "  - function output\n",
    "  - where to continue when a function terminates\n",
    "* Fast memory allocation\n",
    "* Usually small fraction of the memory\n",
    "* Often: size of the allocated memory has to be known in advance (compilation time)"
   ]
  },
  {
   "cell_type": "markdown",
   "id": "07d68361",
   "metadata": {
    "cell_style": "split",
    "slideshow": {
     "slide_type": "fragment"
    }
   },
   "source": [
    "Almost everything you saw so far allocated on stack\n",
    "* Exception: data in `String` allocated on heap"
   ]
  },
  {
   "cell_type": "markdown",
   "id": "f978f1c2",
   "metadata": {
    "slideshow": {
     "slide_type": "slide"
    }
   },
   "source": [
    "## Stack example (idealized)"
   ]
  },
  {
   "cell_type": "code",
   "execution_count": 2,
   "id": "ae839c79",
   "metadata": {
    "cell_style": "split",
    "slideshow": {
     "slide_type": "-"
    },
    "vscode": {
     "languageId": "rust"
    }
   },
   "outputs": [
    {
     "name": "stdout",
     "output_type": "stream",
     "text": [
      "x = 3, y = 8\n",
      "x = 8, y = 3\n"
     ]
    }
   ],
   "source": [
    "fn main() {\n",
    "    let mut x = 3;\n",
    "    let mut y = 8;\n",
    "    println!(\"x = {}, y = {}\",x,y);\n",
    "    x = add_or_subtract(x,y,true); // x = x + y\n",
    "    y = add_or_subtract(x,y,false); // y = x - y\n",
    "    x = add_or_subtract(x,y,false); // x = x - y\n",
    "    println!(\"x = {}, y = {}\",x,y);\n",
    "}\n",
    "\n",
    "fn add_or_subtract(x:i32, y:i32, add:bool) -> i32 {\n",
    "    let second_arg = if add {y} else {negate(y)};\n",
    "    x + second_arg\n",
    "}\n",
    "\n",
    "fn negate(x:i32) -> i32 {\n",
    "    -x\n",
    "}\n",
    "\n",
    "main();\n"
   ]
  },
  {
   "cell_type": "markdown",
   "id": "5ac00618",
   "metadata": {},
   "source": [
    "---"
   ]
  },
  {
   "cell_type": "markdown",
   "id": "f691c393",
   "metadata": {
    "cell_style": "split",
    "slideshow": {
     "slide_type": "fragment"
    }
   },
   "source": [
    "### Step 1: call `main`\n",
    "* `x` and `y` allocated on stack and initiated\n",
    "* Stack: `main` (`x`, `y`)"
   ]
  },
  {
   "cell_type": "markdown",
   "id": "caf56b84",
   "metadata": {},
   "source": [
    "| Idealized Stack |\n",
    "| -- |\n",
    "| y (main) |\n",
    "| x (main) |"
   ]
  },
  {
   "cell_type": "markdown",
   "id": "595bd759",
   "metadata": {},
   "source": [
    "---"
   ]
  },
  {
   "cell_type": "markdown",
   "id": "8779ae5b",
   "metadata": {
    "cell_style": "split",
    "slideshow": {
     "slide_type": "fragment"
    }
   },
   "source": [
    "### Step 2: call `add_or_subtract` (1st time)\n",
    "* arguments for `add_or_subtract` put on stack\n",
    "* space for solution allocated on stack\n",
    "* space for `second_arg` allocated as well\n",
    "* Stack: `main` (`x`, `y`), `add_or_subtract` (all the above + auxiliary information)"
   ]
  },
  {
   "cell_type": "markdown",
   "id": "a6a785b2",
   "metadata": {},
   "source": [
    "| Idealized Stack |\n",
    "| -- |\n",
    "| second_arg (add_or_subtract) |\n",
    "| retval (add_or_subtract) |\n",
    "| true(Bool) (add_or_subtract) |\n",
    "| y (add_or_subtract) |\n",
    "| x (add_or_subtract) |\n",
    "| y (main) |\n",
    "| x (main) |"
   ]
  },
  {
   "cell_type": "markdown",
   "id": "8fc9f7d5",
   "metadata": {},
   "source": [
    "---"
   ]
  },
  {
   "cell_type": "markdown",
   "id": "e1f0073d",
   "metadata": {
    "slideshow": {
     "slide_type": "subslide"
    }
   },
   "source": [
    "## Stack example (idealized)"
   ]
  },
  {
   "cell_type": "code",
   "execution_count": null,
   "id": "5748d8df",
   "metadata": {
    "cell_style": "split",
    "slideshow": {
     "slide_type": "-"
    },
    "vscode": {
     "languageId": "rust"
    }
   },
   "outputs": [],
   "source": [
    "fn main() {\n",
    "    let mut x = 3;\n",
    "    let mut y = 8;\n",
    "    println!(\"x = {}, y = {}\",x,y);\n",
    "    x = add_or_subtract(x,y,true);\n",
    "    y = add_or_subtract(x,y,false);\n",
    "    x = add_or_subtract(x,y,false);\n",
    "    println!(\"x = {}, y = {}\",x,y);\n",
    "}\n",
    "\n",
    "fn add_or_subtract(x:i32, y:i32, add:bool) -> i32 {\n",
    "    let second_arg = if add {y} else {negate(y)};\n",
    "    x + second_arg\n",
    "}\n",
    "\n",
    "fn negate(x:i32) -> i32 {\n",
    "    -x\n",
    "}\n",
    "\n",
    "main();\n"
   ]
  },
  {
   "cell_type": "markdown",
   "id": "231873a8",
   "metadata": {},
   "source": [
    "---"
   ]
  },
  {
   "cell_type": "markdown",
   "id": "2c7cf292",
   "metadata": {
    "cell_style": "split",
    "slideshow": {
     "slide_type": "-"
    }
   },
   "source": [
    "### Step 3: `add_or_subtract` terminates\n",
    "* process and remove all information about the \n",
    "call\n",
    "* Stack: `main` (`x`, `y`)"
   ]
  },
  {
   "cell_type": "markdown",
   "id": "d8c7addb",
   "metadata": {},
   "source": [
    "| Idealized Stack |\n",
    "| -- |\n",
    "| y (main) |\n",
    "| x (main) |"
   ]
  },
  {
   "cell_type": "markdown",
   "id": "0ad928b7",
   "metadata": {},
   "source": [
    "---"
   ]
  },
  {
   "cell_type": "markdown",
   "id": "4a56aa87",
   "metadata": {
    "cell_style": "split",
    "slideshow": {
     "slide_type": "fragment"
    }
   },
   "source": [
    "### Step 4: call `add_or_subtract` (2nd time)\n",
    "* arguments for `add_or_subtract` put on stack\n",
    "* space for solution allocated on stack\n",
    "* space for `second_arg` allocated as well\n",
    "* Stack: `main` (`x`, `y`), `add_or_subtract` (all the above + auxiliary information)"
   ]
  },
  {
   "cell_type": "markdown",
   "id": "aa9119bf",
   "metadata": {},
   "source": [
    "| Idealized Stack |\n",
    "| -- |\n",
    "| second_arg (add_or_subtract) |\n",
    "| retval (add_or_subtract) |\n",
    "| false(Bool) (add_or_subtract) |\n",
    "| y (add_or_subtract) |\n",
    "| x (add_or_subtract) |\n",
    "| y (main) |\n",
    "| x (main) |"
   ]
  },
  {
   "cell_type": "markdown",
   "id": "9b9b3535",
   "metadata": {},
   "source": [
    "---"
   ]
  },
  {
   "cell_type": "markdown",
   "id": "fb63d286",
   "metadata": {
    "slideshow": {
     "slide_type": "subslide"
    }
   },
   "source": [
    "## Stack example (idealized)"
   ]
  },
  {
   "cell_type": "code",
   "execution_count": null,
   "id": "193a09b9",
   "metadata": {
    "cell_style": "split",
    "slideshow": {
     "slide_type": "-"
    },
    "vscode": {
     "languageId": "rust"
    }
   },
   "outputs": [],
   "source": [
    "fn main() {\n",
    "    let mut x = 3;\n",
    "    let mut y = 8;\n",
    "    println!(\"x = {}, y = {}\",x,y);\n",
    "    x = add_or_subtract(x,y,true);\n",
    "    y = add_or_subtract(x,y,false);\n",
    "    x = add_or_subtract(x,y,false);\n",
    "    println!(\"x = {}, y = {}\",x,y);\n",
    "}\n",
    "\n",
    "fn add_or_subtract(x:i32, y:i32, add:bool) -> i32 {\n",
    "    let second_arg = if add {y} else {negate(y)};\n",
    "    x + second_arg\n",
    "}\n",
    "\n",
    "fn negate(x:i32) -> i32 {\n",
    "    -x\n",
    "}\n",
    "\n",
    "main();\n"
   ]
  },
  {
   "cell_type": "markdown",
   "id": "156836ad",
   "metadata": {},
   "source": [
    "---"
   ]
  },
  {
   "cell_type": "markdown",
   "id": "7cba739d",
   "metadata": {
    "cell_style": "split",
    "slideshow": {
     "slide_type": "-"
    }
   },
   "source": [
    "### Step 5: call `negate` (1st time)\n",
    "* the argument for `negate` put on stack\n",
    "* space for solution allocated on stack\n",
    "* Stack: `main` (`x`, `y`), `add_or_subtract` (...), `negate` (all of the above + auxiliary information)"
   ]
  },
  {
   "cell_type": "markdown",
   "id": "a0252ef5",
   "metadata": {},
   "source": [
    "| Idealized Stack |\n",
    "| -- |\n",
    "| retval (negate) |\n",
    "| y (negate) |\n",
    "| second_arg (add_or_subtract) |\n",
    "| retval (add_or_subtract) |\n",
    "| false(Bool) (add_or_subtract) |\n",
    "| y (add_or_subtract) |\n",
    "| x (add_or_subtract) |\n",
    "| y (main) |\n",
    "| x (main) |"
   ]
  },
  {
   "cell_type": "markdown",
   "id": "0406968d",
   "metadata": {},
   "source": [
    "---"
   ]
  },
  {
   "cell_type": "markdown",
   "id": "4194d572",
   "metadata": {
    "cell_style": "split",
    "slideshow": {
     "slide_type": "fragment"
    }
   },
   "source": [
    "### Step 6: `negate` terminates\n",
    "* process and remove all information about the \n",
    "call\n",
    "* Stack: `main` (`x`, `y`), `add_or_subtract` (...)"
   ]
  },
  {
   "cell_type": "markdown",
   "id": "355432dc",
   "metadata": {},
   "source": [
    "| Idealized Stack |\n",
    "| -- |\n",
    "| second_arg (add_or_subtract) |\n",
    "| retval (add_or_subtract) |\n",
    "| false(bool) (add_or_subtract) |\n",
    "| y (add_or_subtract) |\n",
    "| x (add_or_subtract) |\n",
    "| y (main) |\n",
    "| x (main) |"
   ]
  },
  {
   "cell_type": "markdown",
   "id": "5ad77c65",
   "metadata": {},
   "source": [
    "---"
   ]
  },
  {
   "cell_type": "markdown",
   "id": "2759cbb9",
   "metadata": {
    "slideshow": {
     "slide_type": "subslide"
    }
   },
   "source": [
    "## Stack example (idealized)"
   ]
  },
  {
   "cell_type": "code",
   "execution_count": null,
   "id": "1538a390",
   "metadata": {
    "cell_style": "split",
    "slideshow": {
     "slide_type": "-"
    },
    "vscode": {
     "languageId": "rust"
    }
   },
   "outputs": [],
   "source": [
    "fn main() {\n",
    "    let mut x = 3;\n",
    "    let mut y = 8;\n",
    "    println!(\"x = {}, y = {}\",x,y);\n",
    "    x = add_or_subtract(x,y,true);\n",
    "    y = add_or_subtract(x,y,false);\n",
    "    x = add_or_subtract(x,y,false);\n",
    "    println!(\"x = {}, y = {}\",x,y);\n",
    "}\n",
    "\n",
    "fn add_or_subtract(x:i32, y:i32, add:bool) -> i32 {\n",
    "    let second_arg = if add {y} else {negate(y)};\n",
    "    x + second_arg\n",
    "}\n",
    "\n",
    "fn negate(x:i32) -> i32 {\n",
    "    -x\n",
    "}\n",
    "\n",
    "main();\n",
    "\n"
   ]
  },
  {
   "cell_type": "markdown",
   "id": "280036f0",
   "metadata": {},
   "source": [
    "---"
   ]
  },
  {
   "cell_type": "markdown",
   "id": "41145c48",
   "metadata": {
    "cell_style": "split",
    "slideshow": {
     "slide_type": "-"
    }
   },
   "source": [
    "### Step 7: `add_or_subtract` terminates\n",
    "* [...]\n",
    "* Stack: `main` (`x`, `y`)"
   ]
  },
  {
   "cell_type": "markdown",
   "id": "fe885fb0",
   "metadata": {},
   "source": [
    "| Idealized Stack |\n",
    "| -- |\n",
    "| y (main) |\n",
    "| x (main) |"
   ]
  },
  {
   "cell_type": "markdown",
   "id": "751d2e03",
   "metadata": {},
   "source": [
    "---"
   ]
  },
  {
   "cell_type": "markdown",
   "id": "7a4c0759",
   "metadata": {
    "cell_style": "split",
    "slideshow": {
     "slide_type": "fragment"
    }
   },
   "source": [
    "### Step 8: call `add_or_subtract` (3rd time)\n",
    "* [...]\n",
    "* Stack: `main` (`x`, `y`), `add_or_subtract` (...)"
   ]
  },
  {
   "cell_type": "markdown",
   "id": "f625e563",
   "metadata": {},
   "source": [
    "| Idealized Stack |\n",
    "| -- |\n",
    "| second_arg (add_or_subtract) |\n",
    "| retval (add_or_subtract) |\n",
    "| false(bool) (add_or_subtract) |\n",
    "| y (add_or_subtract) |\n",
    "| x (add_or_subtract) |\n",
    "| y (main) |\n",
    "| x (main) |"
   ]
  },
  {
   "cell_type": "markdown",
   "id": "ddcc7b7d",
   "metadata": {},
   "source": [
    "---"
   ]
  },
  {
   "cell_type": "markdown",
   "id": "750869d2",
   "metadata": {
    "slideshow": {
     "slide_type": "slide"
    }
   },
   "source": [
    "## Limited space on stack!"
   ]
  },
  {
   "cell_type": "code",
   "execution_count": 35,
   "id": "8f891303",
   "metadata": {
    "slideshow": {
     "slide_type": "-"
    },
    "vscode": {
     "languageId": "rust"
    }
   },
   "outputs": [],
   "source": [
    "\n",
    "fn same_number(x:u32) -> u32 {\n",
    "    match x {\n",
    "        0 => 0,\n",
    "        _ => 1 + same_number(x - 1),\n",
    "    }\n",
    "}"
   ]
  },
  {
   "cell_type": "code",
   "execution_count": 36,
   "id": "1cf63c4d",
   "metadata": {
    "slideshow": {
     "slide_type": "fragment"
    },
    "vscode": {
     "languageId": "rust"
    }
   },
   "outputs": [
    {
     "data": {
      "text/plain": [
       "7"
      ]
     },
     "execution_count": 36,
     "metadata": {},
     "output_type": "execute_result"
    }
   ],
   "source": [
    "same_number(7)"
   ]
  },
  {
   "cell_type": "code",
   "execution_count": 37,
   "id": "4fd9064d",
   "metadata": {
    "slideshow": {
     "slide_type": "fragment"
    },
    "vscode": {
     "languageId": "rust"
    }
   },
   "outputs": [
    {
     "data": {
      "text/plain": [
       "123456"
      ]
     },
     "execution_count": 37,
     "metadata": {},
     "output_type": "execute_result"
    }
   ],
   "source": [
    "same_number(123_456)"
   ]
  },
  {
   "cell_type": "code",
   "execution_count": 38,
   "id": "b80cd9fe",
   "metadata": {
    "slideshow": {
     "slide_type": "fragment"
    },
    "vscode": {
     "languageId": "rust"
    }
   },
   "outputs": [
    {
     "ename": "Error",
     "evalue": "Subprocess terminated with status: signal: 11 (SIGSEGV)",
     "output_type": "error",
     "traceback": [
      "Subprocess terminated with status: signal: 11 (SIGSEGV)"
     ]
    }
   ],
   "source": [
    "same_number(1_000_000)"
   ]
  },
  {
   "cell_type": "markdown",
   "id": "e0f33040",
   "metadata": {
    "slideshow": {
     "slide_type": "subslide"
    }
   },
   "source": [
    "## Using too much memory on stack: *stack overflow*"
   ]
  },
  {
   "cell_type": "markdown",
   "id": "11dda769",
   "metadata": {
    "cell_style": "center",
    "slideshow": {
     "slide_type": "fragment"
    }
   },
   "source": [
    "This is where the name of the popular webpage for asking questions about programming comes from!<br>\n",
    "\n",
    "<div align=\"center\">\n",
    "    <img src=\"chucknorris.png\" alt=\"[screenshot of stackoverflow.com]\">\n",
    "</div>"
   ]
  },
  {
   "cell_type": "markdown",
   "id": "c7c078c1",
   "metadata": {
    "cell_style": "center",
    "slideshow": {
     "slide_type": "slide"
    }
   },
   "source": [
    "# Heap"
   ]
  },
  {
   "cell_type": "markdown",
   "id": "464c96f7",
   "metadata": {
    "cell_style": "split",
    "slideshow": {
     "slide_type": "-"
    }
   },
   "source": [
    "* Memory allocated and freed in arbitrary order\n",
    "* Arbitrary amount allocated\n",
    "* The application knows a *pointer* = the address of assigned memory\n"
   ]
  },
  {
   "cell_type": "markdown",
   "id": "1e6dc83a",
   "metadata": {
    "cell_style": "split",
    "slideshow": {
     "slide_type": "fragment"
    }
   },
   "source": [
    "Pros:\n",
    "* Arbitrary amount of data\n",
    "* No copying to pass data around\n",
    "  * Just share the pointer!\n",
    "\n",
    "\n",
    "Cons:\n",
    "* Slower allocation:\n",
    "  * Possible request for more space to the operating system\n",
    "* Possible memory fragmentation\n",
    "* Slower access:\n",
    "  * Have to follow the pointer to get to data\n"
   ]
  },
  {
   "cell_type": "markdown",
   "id": "02483460",
   "metadata": {
    "slideshow": {
     "slide_type": "slide"
    }
   },
   "source": [
    "## Stack vs. heap in Python\n",
    "\n",
    "* Elementary pieces of data allocated on stack: integers, floats, Boolean values, ...\n",
    "\n",
    "* Anything else allocated on the heap"
   ]
  },
  {
   "cell_type": "markdown",
   "id": "21f74680",
   "metadata": {},
   "source": [
    "<br><br>\n",
    "<div align=\"center\">\n",
    "    <h2>[Switch to the Python notebook]</h2>\n",
    "</div>"
   ]
  },
  {
   "cell_type": "markdown",
   "id": "e2f7b320",
   "metadata": {
    "slideshow": {
     "slide_type": "slide"
    }
   },
   "source": [
    "## Heap management"
   ]
  },
  {
   "cell_type": "markdown",
   "id": "b0d19dbc",
   "metadata": {
    "cell_style": "split"
   },
   "source": [
    "**Memory allocation:**\n",
    "* ask for a given amount of space \n",
    "* receives a pointer to it<br> (or an out of memory error)\n",
    "\n",
    "**Freeing memory:**\n",
    "* classical manual: explicitly return it\n",
    "  * more complicated\n",
    "* automatic: garbage collection\n",
    "  * comes with additional costs\n",
    "\n",
    "\n",
    "\n",
    "C: `malloc` / `free`\n",
    "\n",
    "C++: `new` / `delete` + C"
   ]
  },
  {
   "cell_type": "markdown",
   "id": "26c75400",
   "metadata": {
    "cell_style": "split",
    "slideshow": {
     "slide_type": "fragment"
    }
   },
   "source": [
    "**Pitfalls of manual memory management:**"
   ]
  },
  {
   "cell_type": "markdown",
   "id": "d169b25f",
   "metadata": {
    "cell_style": "split",
    "slideshow": {
     "slide_type": "fragment"
    }
   },
   "source": [
    " * leaks: unused memory never returned"
   ]
  },
  {
   "cell_type": "markdown",
   "id": "91b76e26",
   "metadata": {
    "cell_style": "split",
    "slideshow": {
     "slide_type": "fragment"
    }
   },
   "source": [
    " * attempting to use a pointer to memory that was deallocated"
   ]
  },
  {
   "cell_type": "markdown",
   "id": "f56709fc",
   "metadata": {
    "cell_style": "split",
    "slideshow": {
     "slide_type": "fragment"
    }
   },
   "source": [
    " * returning memory that was already deallocated"
   ]
  },
  {
   "cell_type": "markdown",
   "id": "61bbb08c",
   "metadata": {
    "cell_style": "split",
    "slideshow": {
     "slide_type": "fragment"
    }
   },
   "source": [
    "<div align=\"center\">\n",
    "    <b>How does Rust deal with these problems?</b>\n",
    "</div>"
   ]
  },
  {
   "cell_type": "markdown",
   "id": "68de5082-f40d-4842-8a14-51a77f91cf58",
   "metadata": {
    "slideshow": {
     "slide_type": "slide"
    }
   },
   "source": [
    "## Allocating on the heap in Rust\n",
    "\n",
    "* `String` is a type of collection in Rust.\n",
    "* It and other collections are allocated on the heap.\n",
    "* When you allocate a collection, a data structure (usually a `struct`) is created on the _stack_ which holds data about the collection.\n",
    "\n",
    "<div style=\"text-align: center;\">\n",
    "  <img src=\"string-data-structures.png\" alt=\"String data structures\" style=\"width: 40%;\">\n",
    "</div>"
   ]
  },
  {
   "cell_type": "markdown",
   "id": "3a57905b-a4c3-417d-b1f1-6c0d3baec925",
   "metadata": {},
   "source": [
    "### `Vec` Collection\n",
    "\n",
    "Another useful collection the `Vec` (§8.1).\n",
    "\n",
    "* Allows you to store multiple values in a single structure\n",
    "* All adjacent in memory\n",
    "* Like array, can only store values of the same type.\n",
    "\n",
    "There are other useful collections (e.g. Hash Map §8.3, Box §15.1, etc.), some we'll cover later.\n",
    "\n",
    "The complete list is in [Module collections](https://doc.rust-lang.org/std/collections/index.html)."
   ]
  },
  {
   "cell_type": "code",
   "execution_count": 62,
   "id": "a98e1892-13fc-4e33-bb60-092a1a121512",
   "metadata": {
    "vscode": {
     "languageId": "rust"
    }
   },
   "outputs": [],
   "source": [
    "// placing integers on the heap\n",
    "let mut v = vec![1, 2, 3];"
   ]
  },
  {
   "cell_type": "code",
   "execution_count": 63,
   "id": "4de24c75-a8f5-46c7-a7c5-81874457c8b4",
   "metadata": {
    "vscode": {
     "languageId": "rust"
    }
   },
   "outputs": [
    {
     "name": "stdout",
     "output_type": "stream",
     "text": [
      "[1, 2, 3]\n"
     ]
    }
   ],
   "source": [
    "println!(\"{:?}\", v);"
   ]
  },
  {
   "cell_type": "markdown",
   "id": "f7ccb385",
   "metadata": {},
   "source": [
    "Let's look at the address of the data structure describing the vector."
   ]
  },
  {
   "cell_type": "code",
   "execution_count": 64,
   "id": "8afe1551-c64f-430e-b9fc-2e3620064d75",
   "metadata": {
    "vscode": {
     "languageId": "rust"
    }
   },
   "outputs": [
    {
     "name": "stdout",
     "output_type": "stream",
     "text": [
      "0x16ce394d8\n"
     ]
    }
   ],
   "source": [
    "println!(\"{:p}\", &v);"
   ]
  },
  {
   "cell_type": "markdown",
   "id": "0bc99cd8",
   "metadata": {},
   "source": [
    "Let's look at the pointer in the `Vec` data structure pointing to the heap."
   ]
  },
  {
   "cell_type": "code",
   "execution_count": 65,
   "id": "e444ee36",
   "metadata": {
    "vscode": {
     "languageId": "rust"
    }
   },
   "outputs": [
    {
     "name": "stdout",
     "output_type": "stream",
     "text": [
      "0x1460041d0\n"
     ]
    }
   ],
   "source": [
    "println!(\"{:p}\", v.as_ptr());\n"
   ]
  },
  {
   "cell_type": "markdown",
   "id": "ed255951",
   "metadata": {},
   "source": [
    "Just for comparison, let's look at the pointers for an immutable array."
   ]
  },
  {
   "cell_type": "code",
   "execution_count": 74,
   "id": "84258a56",
   "metadata": {
    "vscode": {
     "languageId": "rust"
    }
   },
   "outputs": [
    {
     "name": "stdout",
     "output_type": "stream",
     "text": [
      "[4, 5, 6]\n",
      "0x16ce3946c\n",
      "0x16ce3946c\n"
     ]
    }
   ],
   "source": [
    "let m = [4, 5, 6];\n",
    "println!(\"{:?}\", m);\n",
    "println!(\"{:p}\", &m);\n",
    "println!(\"{:p}\", m.as_ptr());\n"
   ]
  },
  {
   "cell_type": "markdown",
   "id": "665ce9bc",
   "metadata": {},
   "source": [
    "Pointers are the same!"
   ]
  },
  {
   "cell_type": "markdown",
   "id": "15aee244",
   "metadata": {},
   "source": [
    "We'll into more depth on `Vec` and collections later."
   ]
  },
  {
   "cell_type": "markdown",
   "id": "b33c0096",
   "metadata": {},
   "source": [
    "## In Class Poll\n",
    "\n",
    "https://piazza.com/class/m5qyw6267j12cj/post/132\n",
    "\n"
   ]
  },
  {
   "cell_type": "markdown",
   "id": "8d3f208a",
   "metadata": {},
   "source": []
  }
 ],
 "metadata": {
  "celltoolbar": "Slideshow",
  "kernelspec": {
   "display_name": "Rust",
   "language": "rust",
   "name": "rust"
  },
  "language_info": {
   "codemirror_mode": "rust",
   "file_extension": ".rs",
   "mimetype": "text/rust",
   "name": "Rust",
   "pygment_lexer": "rust",
   "version": ""
  },
  "rise": {
   "theme": "beige",
   "transition": "fade"
  }
 },
 "nbformat": 4,
 "nbformat_minor": 5
}
