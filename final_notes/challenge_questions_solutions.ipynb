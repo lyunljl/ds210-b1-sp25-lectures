{
 "cells": [
  {
   "cell_type": "markdown",
   "metadata": {},
   "source": [
    "# DS210 Final Exam Programming Challenges\n",
    "\n",
    "Here are some AI generated programming challenges.\n",
    "\n",
    "These were generated with the following prompt. I vetted the proposed challenges and solutions and in some case made some notes.\n",
    "\n",
    "Prompt:\n",
    "> I'm teaching a freshman/sophomore class on programming rust for data science. These are the review notes for the final exam. Some of the exam questions will pose small programming challenges to the students based on these topics. the solution code is typically not longer than 10-20 lines of Rust code. Based on these notes, propose 20 challenges and their Rust code solutions."
   ]
  },
  {
   "cell_type": "markdown",
   "metadata": {},
   "source": [
    "\n",
    "## Rust Language Fundamentals\n",
    "\n"
   ]
  },
  {
   "cell_type": "markdown",
   "metadata": {},
   "source": [
    "### 1. Struct and Method Implementation\n",
    "\n",
    "**Challenge**: Create a `Point` struct with x and y coordinates, and implement a method to calculate the distance from origin.\n"
   ]
  },
  {
   "cell_type": "code",
   "execution_count": 4,
   "metadata": {
    "vscode": {
     "languageId": "rust"
    }
   },
   "outputs": [],
   "source": [
    "// Solution\n",
    "struct Point {\n",
    "    x: f64,\n",
    "    y: f64,\n",
    "}\n",
    "\n",
    "impl Point {\n",
    "    fn distance_from_origin(&self) -> f64 {\n",
    "        (self.x.powi(2) + self.y.powi(2)).sqrt()\n",
    "    }\n",
    "}"
   ]
  },
  {
   "cell_type": "code",
   "execution_count": 5,
   "metadata": {
    "vscode": {
     "languageId": "rust"
    }
   },
   "outputs": [],
   "source": [
    "// Test the Point implementation\n",
    "let p = Point { x: 3.0, y: 4.0 };\n",
    "assert_eq!(p.distance_from_origin(), 5.0);"
   ]
  },
  {
   "cell_type": "markdown",
   "metadata": {},
   "source": [
    "### 2. Trait Implementation\n",
    "\n",
    "**Challenge**: Implement the `Display` trait for a custom `Student` struct."
   ]
  },
  {
   "cell_type": "code",
   "execution_count": 6,
   "metadata": {
    "vscode": {
     "languageId": "rust"
    }
   },
   "outputs": [],
   "source": [
    "// Solution\n",
    "use std::fmt;\n",
    "\n",
    "struct Student {\n",
    "    name: String,\n",
    "    id: u32,\n",
    "}\n",
    "\n",
    "impl fmt::Display for Student {\n",
    "    fn fmt(&self, f: &mut fmt::Formatter) -> fmt::Result {\n",
    "        write!(f, \"Student {} (ID: {})\", self.name, self.id)\n",
    "    }\n",
    "}"
   ]
  },
  {
   "cell_type": "code",
   "execution_count": 7,
   "metadata": {
    "vscode": {
     "languageId": "rust"
    }
   },
   "outputs": [],
   "source": [
    "// Test the Student Display implementation\n",
    "let student = Student { name: \"Alice\".to_string(), id: 123 };\n",
    "assert_eq!(format!(\"{}\", student), \"Student Alice (ID: 123)\");\n"
   ]
  },
  {
   "cell_type": "markdown",
   "metadata": {},
   "source": [
    "### 3. File I/O\n",
    "\n",
    "**Challenge**: Write a function that reads a file and counts the number of lines.\n"
   ]
  },
  {
   "cell_type": "code",
   "execution_count": 2,
   "metadata": {
    "vscode": {
     "languageId": "rust"
    }
   },
   "outputs": [],
   "source": [
    "// Solution\n",
    "use std::fs::File;\n",
    "use std::io::{self, BufRead};\n",
    "\n",
    "fn count_lines(filename: &str) -> io::Result<usize> {\n",
    "    let file = File::open(filename)?;\n",
    "    let reader = io::BufReader::new(file);\n",
    "    Ok(reader.lines().count())\n",
    "}"
   ]
  },
  {
   "cell_type": "code",
   "execution_count": 3,
   "metadata": {
    "vscode": {
     "languageId": "rust"
    }
   },
   "outputs": [],
   "source": [
    "// Test the line counting function\n",
    "// First create a test file\n",
    "use std::fs;\n",
    "fs::write(\"test.txt\", \"line1\\nline2\\nline3\").unwrap();\n",
    "assert_eq!(count_lines(\"test.txt\").unwrap(), 3);\n",
    "fs::remove_file(\"test.txt\").unwrap();"
   ]
  },
  {
   "cell_type": "markdown",
   "metadata": {},
   "source": [
    "### 4. Slices and Strings\n",
    "\n",
    "**Challenge**: Write a function that takes a string and returns the first word.\n"
   ]
  },
  {
   "cell_type": "code",
   "execution_count": 4,
   "metadata": {
    "vscode": {
     "languageId": "rust"
    }
   },
   "outputs": [],
   "source": [
    "// Solution\n",
    "fn first_word(s: &str) -> &str {\n",
    "    s.split_whitespace().next().unwrap_or(\"\")\n",
    "}\n"
   ]
  },
  {
   "cell_type": "code",
   "execution_count": 5,
   "metadata": {
    "vscode": {
     "languageId": "rust"
    }
   },
   "outputs": [],
   "source": [
    "// Test the first word function\n",
    "assert_eq!(first_word(\"hello world\"), \"hello\");\n",
    "assert_eq!(first_word(\"\"), \"\");"
   ]
  },
  {
   "cell_type": "markdown",
   "metadata": {},
   "source": [
    "### 5. Closures\n",
    "\n",
    "**Challenge**: Create a closure that squares a number and use it to transform a vector.\n"
   ]
  },
  {
   "cell_type": "code",
   "execution_count": 6,
   "metadata": {
    "vscode": {
     "languageId": "rust"
    }
   },
   "outputs": [],
   "source": [
    "// Solution\n",
    "fn square_vector(v: &[i32]) -> Vec<i32> {\n",
    "    let square = |x: i32| x * x;\n",
    "    v.iter().map(|&x| square(x)).collect()\n",
    "}"
   ]
  },
  {
   "cell_type": "code",
   "execution_count": 7,
   "metadata": {
    "vscode": {
     "languageId": "rust"
    }
   },
   "outputs": [],
   "source": [
    "// Test the square vector function\n",
    "let v = vec![1, 2, 3, 4];\n",
    "assert_eq!(square_vector(&v), vec![1, 4, 9, 16]);\n"
   ]
  },
  {
   "cell_type": "markdown",
   "metadata": {},
   "source": [
    "## Data Structures\n",
    "\n"
   ]
  },
  {
   "cell_type": "markdown",
   "metadata": {},
   "source": [
    "### 6. Stack Implementation\n",
    "\n",
    "**Challenge**: Implement a stack using `VecDeque`.\n"
   ]
  },
  {
   "cell_type": "code",
   "execution_count": 8,
   "metadata": {
    "vscode": {
     "languageId": "rust"
    }
   },
   "outputs": [],
   "source": [
    "// Solution\n",
    "use std::collections::VecDeque;\n",
    "\n",
    "struct Stack<T> {\n",
    "    data: VecDeque<T>,\n",
    "}\n",
    "\n",
    "impl<T> Stack<T> {\n",
    "    fn new() -> Self {\n",
    "        Stack { data: VecDeque::new() }\n",
    "    }\n",
    "    \n",
    "    fn push(&mut self, item: T) {\n",
    "        self.data.push_back(item);\n",
    "    }\n",
    "    \n",
    "    fn pop(&mut self) -> Option<T> {\n",
    "        self.data.pop_back()\n",
    "    }\n",
    "}\n"
   ]
  },
  {
   "cell_type": "code",
   "execution_count": 9,
   "metadata": {
    "vscode": {
     "languageId": "rust"
    }
   },
   "outputs": [],
   "source": [
    "// Test the Stack implementation\n",
    "let mut stack = Stack::new();\n",
    "stack.push(1);\n",
    "stack.push(2);\n",
    "assert_eq!(stack.pop(), Some(2));\n",
    "assert_eq!(stack.pop(), Some(1));\n",
    "assert_eq!(stack.pop(), None);"
   ]
  },
  {
   "cell_type": "markdown",
   "metadata": {},
   "source": [
    "### 7. Queue Implementation\n",
    "\n",
    "**Challenge**: Implement a queue using `VecDeque`.\n"
   ]
  },
  {
   "cell_type": "code",
   "execution_count": 10,
   "metadata": {
    "vscode": {
     "languageId": "rust"
    }
   },
   "outputs": [],
   "source": [
    "// Solution\n",
    "use std::collections::VecDeque;\n",
    "\n",
    "struct Queue<T> {\n",
    "    data: VecDeque<T>,\n",
    "}\n",
    "\n",
    "impl<T> Queue<T> {\n",
    "    fn new() -> Self {\n",
    "        Queue { data: VecDeque::new() }\n",
    "    }\n",
    "    \n",
    "    fn enqueue(&mut self, item: T) {\n",
    "        self.data.push_back(item);\n",
    "    }\n",
    "    \n",
    "    fn dequeue(&mut self) -> Option<T> {\n",
    "        self.data.pop_front()\n",
    "    }\n",
    "}\n"
   ]
  },
  {
   "cell_type": "code",
   "execution_count": 11,
   "metadata": {
    "vscode": {
     "languageId": "rust"
    }
   },
   "outputs": [],
   "source": [
    "// Test the Queue implementation\n",
    "let mut queue = Queue::new();\n",
    "queue.enqueue(1);\n",
    "queue.enqueue(2);\n",
    "assert_eq!(queue.dequeue(), Some(1));\n",
    "assert_eq!(queue.dequeue(), Some(2));\n",
    "assert_eq!(queue.dequeue(), None);"
   ]
  },
  {
   "cell_type": "markdown",
   "metadata": {},
   "source": [
    "### 8. Binary Search Tree\n",
    "\n",
    "**Challenge**: Implement a simple binary search tree with insert and search operations.\n",
    "\n",
    "> This is more ambitious than we would ask on the exam."
   ]
  },
  {
   "cell_type": "code",
   "execution_count": 12,
   "metadata": {
    "vscode": {
     "languageId": "rust"
    }
   },
   "outputs": [],
   "source": [
    "// Solution\n",
    "struct Node {\n",
    "    value: i32,\n",
    "    left: Option<Box<Node>>,\n",
    "    right: Option<Box<Node>>,\n",
    "}\n",
    "\n",
    "impl Node {\n",
    "    fn new(value: i32) -> Self {\n",
    "        Node {\n",
    "            value,\n",
    "            left: None,\n",
    "            right: None,\n",
    "        }\n",
    "    }\n",
    "    \n",
    "    fn insert(&mut self, value: i32) {\n",
    "        if value < self.value {\n",
    "            if let Some(left) = &mut self.left {\n",
    "                left.insert(value);\n",
    "            } else {\n",
    "                self.left = Some(Box::new(Node::new(value)));\n",
    "            }\n",
    "        } else {\n",
    "            if let Some(right) = &mut self.right {\n",
    "                right.insert(value);\n",
    "            } else {\n",
    "                self.right = Some(Box::new(Node::new(value)));\n",
    "            }\n",
    "        }\n",
    "    }\n",
    "    \n",
    "    fn search(&self, value: i32) -> bool {\n",
    "        if self.value == value {\n",
    "            true\n",
    "        } else if value < self.value {\n",
    "            self.left.as_ref().map_or(false, |left| left.search(value))\n",
    "        } else {\n",
    "            self.right.as_ref().map_or(false, |right| right.search(value))\n",
    "        }\n",
    "    }\n",
    "}"
   ]
  },
  {
   "cell_type": "code",
   "execution_count": 13,
   "metadata": {
    "vscode": {
     "languageId": "rust"
    }
   },
   "outputs": [],
   "source": [
    "// Test the Binary Search Tree implementation\n",
    "let mut root = Node::new(5);\n",
    "root.insert(3);\n",
    "root.insert(7);\n",
    "assert!(root.search(3));\n",
    "assert!(root.search(7));\n",
    "assert!(!root.search(10));"
   ]
  },
  {
   "cell_type": "markdown",
   "metadata": {},
   "source": [
    "## Graph Algorithms\n",
    "\n"
   ]
  },
  {
   "cell_type": "markdown",
   "metadata": {},
   "source": [
    "### 9. Graph Representation\n",
    "\n",
    "**Challenge**: Implement an adjacency list representation of a graph."
   ]
  },
  {
   "cell_type": "code",
   "execution_count": 14,
   "metadata": {
    "vscode": {
     "languageId": "rust"
    }
   },
   "outputs": [],
   "source": [
    "// Solution\n",
    "use std::collections::HashMap;\n",
    "\n",
    "struct Graph {\n",
    "    adjacency_list: HashMap<usize, Vec<usize>>,\n",
    "}\n",
    "\n",
    "impl Graph {\n",
    "    fn new() -> Self {\n",
    "        Graph {\n",
    "            adjacency_list: HashMap::new(),\n",
    "        }\n",
    "    }\n",
    "    \n",
    "    fn add_edge(&mut self, u: usize, v: usize) {\n",
    "        self.adjacency_list.entry(u).or_insert(Vec::new()).push(v);\n",
    "        self.adjacency_list.entry(v).or_insert(Vec::new()).push(u);\n",
    "    }\n",
    "}\n"
   ]
  },
  {
   "cell_type": "code",
   "execution_count": 15,
   "metadata": {
    "vscode": {
     "languageId": "rust"
    }
   },
   "outputs": [],
   "source": [
    "// Test the Graph implementation\n",
    "let mut graph = Graph::new();\n",
    "graph.add_edge(0, 1);\n",
    "graph.add_edge(1, 2);\n",
    "assert_eq!(graph.adjacency_list.get(&0).unwrap(), &vec![1]);\n",
    "assert_eq!(graph.adjacency_list.get(&1).unwrap(), &vec![0, 2]);\n"
   ]
  },
  {
   "cell_type": "markdown",
   "metadata": {},
   "source": [
    "### 10. BFS Implementation\n",
    "\n",
    "**Challenge**: Implement BFS to find the shortest path in an unweighted graph.\n"
   ]
  },
  {
   "cell_type": "code",
   "execution_count": 16,
   "metadata": {
    "vscode": {
     "languageId": "rust"
    }
   },
   "outputs": [],
   "source": [
    "// Solution\n",
    "use std::collections::{VecDeque, HashSet};\n",
    "\n",
    "fn bfs(graph: &Graph, start: usize) -> HashMap<usize, usize> {\n",
    "    let mut distances = HashMap::new();\n",
    "    let mut visited = HashSet::new();\n",
    "    let mut queue = VecDeque::new();\n",
    "    \n",
    "    queue.push_back(start);\n",
    "    visited.insert(start);\n",
    "    distances.insert(start, 0);\n",
    "    \n",
    "    while let Some(node) = queue.pop_front() {\n",
    "        if let Some(neighbors) = graph.adjacency_list.get(&node) {\n",
    "            for &neighbor in neighbors {\n",
    "                if !visited.contains(&neighbor) {\n",
    "                    visited.insert(neighbor);\n",
    "                    distances.insert(neighbor, distances[&node] + 1);\n",
    "                    queue.push_back(neighbor);\n",
    "                }\n",
    "            }\n",
    "        }\n",
    "    }\n",
    "    \n",
    "    distances\n",
    "}"
   ]
  },
  {
   "cell_type": "code",
   "execution_count": 17,
   "metadata": {
    "vscode": {
     "languageId": "rust"
    }
   },
   "outputs": [],
   "source": [
    "// Test the BFS implementation\n",
    "let mut graph = Graph::new();\n",
    "graph.add_edge(0, 1);\n",
    "graph.add_edge(1, 2);\n",
    "graph.add_edge(2, 3);\n",
    "let distances = bfs(&graph, 0);\n",
    "assert_eq!(distances[&0], 0);\n",
    "assert_eq!(distances[&1], 1);\n",
    "assert_eq!(distances[&2], 2);\n",
    "assert_eq!(distances[&3], 3);"
   ]
  },
  {
   "cell_type": "markdown",
   "metadata": {},
   "source": [
    "## Data Science\n",
    "\n"
   ]
  },
  {
   "cell_type": "markdown",
   "metadata": {},
   "source": [
    "### 11. Linear Regression\n",
    "\n",
    "**Challenge**: Implement simple linear regression using ndarray.\n",
    "\n",
    "> This solution directly implements the least squares solution which we didn't\n",
    "do in class. Instead we used a public crate."
   ]
  },
  {
   "cell_type": "code",
   "execution_count": 18,
   "metadata": {
    "vscode": {
     "languageId": "rust"
    }
   },
   "outputs": [],
   "source": [
    "// Solution\n",
    ":dep ndarray = { version = \"^0.15.6\" }\n",
    "//:dep ndarray_linalg = { version = \"^0.15.6\" }\n",
    "\n",
    "use ndarray::{Array1, Array2};\n",
    "//use ndarray_linalg::Solve;\n",
    "\n",
    "fn linear_regression(x: &Array1<f64>, y: &Array1<f64>) -> (f64, f64) {\n",
    "    let n = x.len() as f64;\n",
    "    let x_mean = x.mean().unwrap();\n",
    "    let y_mean = y.mean().unwrap();\n",
    "    \n",
    "    let slope = ((x - x_mean) * (y - y_mean)).sum() / (x - x_mean).mapv(|v| v.powi(2)).sum();\n",
    "    let intercept = y_mean - slope * x_mean;\n",
    "    \n",
    "    (slope, intercept)\n",
    "}\n"
   ]
  },
  {
   "cell_type": "code",
   "execution_count": 19,
   "metadata": {
    "vscode": {
     "languageId": "rust"
    }
   },
   "outputs": [
    {
     "name": "stderr",
     "output_type": "stream",
     "text": [
      "The type of the variable root was redefined, so was lost.\n",
      "The type of the variable graph was redefined, so was lost.\n",
      "The type of the variable queue was redefined, so was lost.\n",
      "The type of the variable stack was redefined, so was lost.\n"
     ]
    }
   ],
   "source": [
    "// Test the linear regression implementation\n",
    "use ndarray::array;\n",
    "let x = array![1.0, 2.0, 3.0, 4.0, 5.0];\n",
    "let y = array![2.0, 4.0, 6.0, 8.0, 10.0];\n",
    "let (slope, intercept) = linear_regression(&x, &y);\n",
    "assert!((slope - 2.0).abs() < 1e-10);\n",
    "assert!(intercept.abs() < 1e-10);"
   ]
  },
  {
   "cell_type": "markdown",
   "metadata": {},
   "source": [
    "### 12. MSE Calculation\n",
    "\n",
    "**Challenge**: Implement mean squared error calculation.\n"
   ]
  },
  {
   "cell_type": "code",
   "execution_count": 20,
   "metadata": {
    "vscode": {
     "languageId": "rust"
    }
   },
   "outputs": [],
   "source": [
    "// Solution\n",
    "fn mean_squared_error(y_true: &[f64], y_pred: &[f64]) -> f64 {\n",
    "    y_true.iter()\n",
    "        .zip(y_pred.iter())\n",
    "        .map(|(&t, &p)| (t - p).powi(2))\n",
    "        .sum::<f64>() / y_true.len() as f64\n",
    "}\n"
   ]
  },
  {
   "cell_type": "code",
   "execution_count": 21,
   "metadata": {
    "vscode": {
     "languageId": "rust"
    }
   },
   "outputs": [],
   "source": [
    "// Test the MSE calculation\n",
    "let y_true = [1.0, 2.0, 3.0];\n",
    "let y_pred = [1.1, 2.1, 2.9];\n",
    "let mse = mean_squared_error(&y_true, &y_pred);\n",
    "assert!((mse - 0.01).abs() < 1e-10);"
   ]
  },
  {
   "cell_type": "markdown",
   "metadata": {},
   "source": [
    "### 13. Decision Tree Split\n",
    "\n",
    "**Challenge**: Implement Gini impurity calculation for a decision tree split.\n"
   ]
  },
  {
   "cell_type": "code",
   "execution_count": 22,
   "metadata": {
    "vscode": {
     "languageId": "rust"
    }
   },
   "outputs": [],
   "source": [
    "// Solution\n",
    "fn gini_impurity(labels: &[usize]) -> f64 {\n",
    "    let total = labels.len() as f64;\n",
    "    let mut counts = std::collections::HashMap::new();\n",
    "    \n",
    "    for &label in labels {\n",
    "        *counts.entry(label).or_insert(0) += 1;\n",
    "    }\n",
    "    \n",
    "    1.0 - counts.values()\n",
    "        .map(|&count| (count as f64 / total).powi(2))\n",
    "        .sum::<f64>()\n",
    "}"
   ]
  },
  {
   "cell_type": "code",
   "execution_count": 23,
   "metadata": {
    "vscode": {
     "languageId": "rust"
    }
   },
   "outputs": [],
   "source": [
    "// Test the Gini impurity calculation\n",
    "let labels = [0, 0, 1, 1, 1];\n",
    "let impurity = gini_impurity(&labels);\n",
    "assert!((impurity - 0.48).abs() < 1e-10);"
   ]
  },
  {
   "cell_type": "markdown",
   "metadata": {},
   "source": [
    "### 14. Matrix Operations\n",
    "\n",
    "**Challenge**: Implement matrix multiplication using ndarray.\n"
   ]
  },
  {
   "cell_type": "code",
   "execution_count": 24,
   "metadata": {
    "vscode": {
     "languageId": "rust"
    }
   },
   "outputs": [],
   "source": [
    "// Solution\n",
    "use ndarray::{Array2, ArrayView2};\n",
    "\n",
    "fn matrix_multiply(a: ArrayView2<f64>, b: ArrayView2<f64>) -> Array2<f64> {\n",
    "    a.dot(&b)\n",
    "}"
   ]
  },
  {
   "cell_type": "code",
   "execution_count": 25,
   "metadata": {
    "vscode": {
     "languageId": "rust"
    }
   },
   "outputs": [],
   "source": [
    "// Test the matrix multiplication\n",
    "let a = array![[1.0, 2.0], [3.0, 4.0]];\n",
    "let b = array![[5.0, 6.0], [7.0, 8.0]];\n",
    "let result = matrix_multiply(a.view(), b.view());\n",
    "assert_eq!(result, array![[19.0, 22.0], [43.0, 50.0]]);\n"
   ]
  },
  {
   "cell_type": "markdown",
   "metadata": {},
   "source": [
    "## Parallel Programming\n",
    "\n"
   ]
  },
  {
   "cell_type": "markdown",
   "metadata": {},
   "source": [
    "### 15. Thread Creation\n",
    "\n",
    "**Challenge**: Create multiple threads to compute the sum of an array.\n"
   ]
  },
  {
   "cell_type": "code",
   "execution_count": 26,
   "metadata": {
    "vscode": {
     "languageId": "rust"
    }
   },
   "outputs": [],
   "source": [
    "// Solution\n",
    "use std::thread;\n",
    "use std::sync::Arc;\n",
    "\n",
    "fn parallel_sum(data: &[i32]) -> i32 {\n",
    "    let data = Arc::new(data.to_vec());\n",
    "    let mut handles = vec![];\n",
    "    let num_threads = 4;\n",
    "    let chunk_size = data.len() / num_threads;\n",
    "    \n",
    "    for i in 0..num_threads {\n",
    "        let data = Arc::clone(&data);\n",
    "        let start = i * chunk_size;\n",
    "        let end = if i == num_threads - 1 {\n",
    "            data.len()\n",
    "        } else {\n",
    "            start + chunk_size\n",
    "        };\n",
    "        \n",
    "        handles.push(thread::spawn(move || {\n",
    "            data[start..end].iter().sum::<i32>()\n",
    "        }));\n",
    "    }\n",
    "    \n",
    "    handles.into_iter().map(|h| h.join().unwrap()).sum()\n",
    "}"
   ]
  },
  {
   "cell_type": "code",
   "execution_count": 27,
   "metadata": {
    "vscode": {
     "languageId": "rust"
    }
   },
   "outputs": [],
   "source": [
    "// Test the parallel sum implementation\n",
    "let data = vec![1, 2, 3, 4, 5, 6, 7, 8];\n",
    "assert_eq!(parallel_sum(&data), 36);"
   ]
  },
  {
   "cell_type": "markdown",
   "metadata": {},
   "source": [
    "### 16. Channel Communication\n",
    "\n",
    "**Challenge**: Implement a producer-consumer pattern using channels.\n"
   ]
  },
  {
   "cell_type": "code",
   "execution_count": 28,
   "metadata": {
    "vscode": {
     "languageId": "rust"
    }
   },
   "outputs": [],
   "source": [
    "// Solution\n",
    "use std::sync::mpsc;\n",
    "use std::thread;\n",
    "\n",
    "fn producer_consumer() {\n",
    "    let (tx, rx) = mpsc::channel();\n",
    "    \n",
    "    let producer = thread::spawn(move || {\n",
    "        for i in 0..10 {\n",
    "            tx.send(i).unwrap();\n",
    "        }\n",
    "    });\n",
    "    \n",
    "    let consumer = thread::spawn(move || {\n",
    "        while let Ok(msg) = rx.recv() {\n",
    "            println!(\"Received: {}\", msg);\n",
    "        }\n",
    "    });\n",
    "    \n",
    "    producer.join().unwrap();\n",
    "    consumer.join().unwrap();\n",
    "}"
   ]
  },
  {
   "cell_type": "code",
   "execution_count": 29,
   "metadata": {
    "vscode": {
     "languageId": "rust"
    }
   },
   "outputs": [
    {
     "name": "stdout",
     "output_type": "stream",
     "text": [
      "Received: 0\n",
      "Received: 1\n",
      "Received: 2\n",
      "Received: 3\n",
      "Received: 4\n",
      "Received: 5\n",
      "Received: 6\n",
      "Received: 7\n",
      "Received: 8\n",
      "Received: 9\n"
     ]
    }
   ],
   "source": [
    "// Test the producer-consumer pattern\n",
    "producer_consumer();"
   ]
  },
  {
   "cell_type": "markdown",
   "metadata": {},
   "source": [
    "## Advanced Topics\n",
    "\n"
   ]
  },
  {
   "cell_type": "markdown",
   "metadata": {},
   "source": [
    "### 17. Iterator Implementation\n",
    "\n",
    "**Challenge**: Create a custom iterator that generates Fibonacci numbers.\n"
   ]
  },
  {
   "cell_type": "code",
   "execution_count": 30,
   "metadata": {
    "vscode": {
     "languageId": "rust"
    }
   },
   "outputs": [],
   "source": [
    "// Solution\n",
    "struct Fibonacci {\n",
    "    current: u64,\n",
    "    next: u64,\n",
    "}\n",
    "\n",
    "impl Fibonacci {\n",
    "    fn new() -> Self {\n",
    "        Fibonacci {\n",
    "            current: 0,\n",
    "            next: 1,\n",
    "        }\n",
    "    }\n",
    "}\n",
    "\n",
    "impl Iterator for Fibonacci {\n",
    "    type Item = u64;\n",
    "    \n",
    "    fn next(&mut self) -> Option<Self::Item> {\n",
    "        let current = self.current;\n",
    "        self.current = self.next;\n",
    "        self.next = current + self.next;\n",
    "        Some(current)\n",
    "    }\n",
    "}"
   ]
  },
  {
   "cell_type": "code",
   "execution_count": 31,
   "metadata": {
    "vscode": {
     "languageId": "rust"
    }
   },
   "outputs": [],
   "source": [
    "// Test the Fibonacci iterator\n",
    "let fib: Vec<u64> = Fibonacci::new().take(5).collect();\n",
    "assert_eq!(fib, vec![0, 1, 1, 2, 3]);"
   ]
  },
  {
   "cell_type": "markdown",
   "metadata": {},
   "source": [
    "### 18. Generic Function\n",
    "\n",
    "**Challenge**: Implement a generic function to find the maximum element in a slice.\n"
   ]
  },
  {
   "cell_type": "code",
   "execution_count": 32,
   "metadata": {
    "vscode": {
     "languageId": "rust"
    }
   },
   "outputs": [],
   "source": [
    "// Solution\n",
    "fn find_max<T: Ord>(slice: &[T]) -> Option<&T> {\n",
    "    slice.iter().max()\n",
    "}"
   ]
  },
  {
   "cell_type": "code",
   "execution_count": 33,
   "metadata": {
    "vscode": {
     "languageId": "rust"
    }
   },
   "outputs": [],
   "source": [
    "// Test the generic max function\n",
    "let numbers = [1, 3, 2, 4];\n",
    "assert_eq!(find_max(&numbers), Some(&4));\n",
    "let empty: [i32; 0] = [];\n",
    "assert_eq!(find_max(&empty), None);"
   ]
  },
  {
   "cell_type": "markdown",
   "metadata": {},
   "source": [
    "### 19. Error Handling\n",
    "\n",
    "**Challenge**: Implement a function that reads a number from a string with proper error handling.\n"
   ]
  },
  {
   "cell_type": "code",
   "execution_count": 34,
   "metadata": {
    "vscode": {
     "languageId": "rust"
    }
   },
   "outputs": [],
   "source": [
    "// Solution\n",
    "use std::num::ParseIntError;\n",
    "\n",
    "fn parse_number(s: &str) -> Result<i32, ParseIntError> {\n",
    "    s.trim().parse::<i32>()\n",
    "}"
   ]
  },
  {
   "cell_type": "code",
   "execution_count": 35,
   "metadata": {
    "vscode": {
     "languageId": "rust"
    }
   },
   "outputs": [],
   "source": [
    "// Test the number parsing function\n",
    "assert_eq!(parse_number(\"42\"), Ok(42));\n",
    "assert!(parse_number(\"not a number\").is_err());\n"
   ]
  },
  {
   "cell_type": "markdown",
   "metadata": {},
   "source": [
    "### 20. Module Organization\n",
    "\n",
    "**Challenge**: Create a module with public and private items.\n"
   ]
  },
  {
   "cell_type": "code",
   "execution_count": 36,
   "metadata": {
    "vscode": {
     "languageId": "rust"
    }
   },
   "outputs": [],
   "source": [
    "// Solution\n",
    "mod math {\n",
    "    pub fn add(a: i32, b: i32) -> i32 {\n",
    "        a + b\n",
    "    }\n",
    "    \n",
    "    fn subtract(a: i32, b: i32) -> i32 {\n",
    "        a - b\n",
    "    }\n",
    "}"
   ]
  },
  {
   "cell_type": "code",
   "execution_count": 37,
   "metadata": {
    "vscode": {
     "languageId": "rust"
    }
   },
   "outputs": [],
   "source": [
    "// Test the math module\n",
    "assert_eq!(math::add(2, 3), 5);\n",
    "\n",
    "// This should fail to compile since subtract is private\n",
    "// assert_eq!(math::subtract(5, 3), 2); // Uncomment to see compile error\n"
   ]
  }
 ],
 "metadata": {
  "kernelspec": {
   "display_name": "Rust",
   "language": "rust",
   "name": "rust"
  },
  "language_info": {
   "codemirror_mode": "rust",
   "file_extension": ".rs",
   "mimetype": "text/rust",
   "name": "Rust",
   "pygment_lexer": "rust",
   "version": ""
  }
 },
 "nbformat": 4,
 "nbformat_minor": 2
}
