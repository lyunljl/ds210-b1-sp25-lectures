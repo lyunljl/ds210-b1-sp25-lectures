{
 "cells": [
  {
   "cell_type": "markdown",
   "metadata": {},
   "source": [
    "# DS210 Final Exam Programming Challenges\n",
    "\n",
    "Here are some AI generated programming challenges.\n",
    "\n",
    "These were generated with the following prompt. I vetted the proposed challenges and solutions and in some case made some notes.\n",
    "\n",
    "Prompt:\n",
    "> I'm teaching a freshman/sophomore class on programming rust for data science. These are the review notes for the final exam. Some of the exam questions will pose small programming challenges to the students based on these topics. the solution code is typically not longer than 10-20 lines of Rust code. Based on these notes, propose 20 challenges and their Rust code solutions."
   ]
  },
  {
   "cell_type": "markdown",
   "metadata": {},
   "source": [
    "\n",
    "## Rust Language Fundamentals\n",
    "\n"
   ]
  },
  {
   "cell_type": "markdown",
   "metadata": {},
   "source": [
    "### 1. Struct and Method Implementation\n",
    "\n",
    "**Challenge**: Create a `Point` struct with x and y coordinates, and implement a method to calculate the distance from origin.\n"
   ]
  },
  {
   "cell_type": "code",
   "execution_count": 4,
   "metadata": {
    "vscode": {
     "languageId": "rust"
    }
   },
   "outputs": [],
   "source": [
    "// Solution\n",
    "\n"
   ]
  },
  {
   "cell_type": "code",
   "execution_count": 5,
   "metadata": {
    "vscode": {
     "languageId": "rust"
    }
   },
   "outputs": [],
   "source": [
    "// Test the Point implementation\n",
    "let p = Point { x: 3.0, y: 4.0 };\n",
    "assert_eq!(p.distance_from_origin(), 5.0);"
   ]
  },
  {
   "cell_type": "markdown",
   "metadata": {},
   "source": [
    "### 2. Trait Implementation\n",
    "\n",
    "**Challenge**: Implement the `Display` trait for a custom `Student` struct."
   ]
  },
  {
   "cell_type": "code",
   "execution_count": 6,
   "metadata": {
    "vscode": {
     "languageId": "rust"
    }
   },
   "outputs": [],
   "source": [
    "// Solution\n"
   ]
  },
  {
   "cell_type": "code",
   "execution_count": 7,
   "metadata": {
    "vscode": {
     "languageId": "rust"
    }
   },
   "outputs": [],
   "source": [
    "// Test the Student Display implementation\n",
    "let student = Student { name: \"Alice\".to_string(), id: 123 };\n",
    "assert_eq!(format!(\"{}\", student), \"Student Alice (ID: 123)\");\n"
   ]
  },
  {
   "cell_type": "markdown",
   "metadata": {},
   "source": [
    "### 3. File I/O\n",
    "\n",
    "**Challenge**: Write a function that reads a file and counts the number of lines.\n"
   ]
  },
  {
   "cell_type": "code",
   "execution_count": 2,
   "metadata": {
    "vscode": {
     "languageId": "rust"
    }
   },
   "outputs": [],
   "source": [
    "// Solution\n"
   ]
  },
  {
   "cell_type": "code",
   "execution_count": 3,
   "metadata": {
    "vscode": {
     "languageId": "rust"
    }
   },
   "outputs": [],
   "source": [
    "// Test the line counting function\n",
    "// First create a test file\n",
    "use std::fs;\n",
    "fs::write(\"test.txt\", \"line1\\nline2\\nline3\").unwrap();\n",
    "assert_eq!(count_lines(\"test.txt\").unwrap(), 3);\n",
    "fs::remove_file(\"test.txt\").unwrap();"
   ]
  },
  {
   "cell_type": "markdown",
   "metadata": {},
   "source": [
    "### 4. Slices and Strings\n",
    "\n",
    "**Challenge**: Write a function that takes a string and returns the first word.\n"
   ]
  },
  {
   "cell_type": "code",
   "execution_count": 4,
   "metadata": {
    "vscode": {
     "languageId": "rust"
    }
   },
   "outputs": [],
   "source": [
    "// Solution\n",
    "\n"
   ]
  },
  {
   "cell_type": "code",
   "execution_count": 5,
   "metadata": {
    "vscode": {
     "languageId": "rust"
    }
   },
   "outputs": [],
   "source": [
    "// Test the first word function\n",
    "assert_eq!(first_word(\"hello world\"), \"hello\");\n",
    "assert_eq!(first_word(\"\"), \"\");"
   ]
  },
  {
   "cell_type": "markdown",
   "metadata": {},
   "source": [
    "### 5. Closures\n",
    "\n",
    "**Challenge**: Create a closure that squares a number and use it to transform a vector.\n"
   ]
  },
  {
   "cell_type": "code",
   "execution_count": 6,
   "metadata": {
    "vscode": {
     "languageId": "rust"
    }
   },
   "outputs": [],
   "source": [
    "// Solution\n"
   ]
  },
  {
   "cell_type": "code",
   "execution_count": 7,
   "metadata": {
    "vscode": {
     "languageId": "rust"
    }
   },
   "outputs": [],
   "source": [
    "// Test the square vector function\n",
    "let v = vec![1, 2, 3, 4];\n",
    "assert_eq!(square_vector(&v), vec![1, 4, 9, 16]);\n"
   ]
  },
  {
   "cell_type": "markdown",
   "metadata": {},
   "source": [
    "## Data Structures\n",
    "\n"
   ]
  },
  {
   "cell_type": "markdown",
   "metadata": {},
   "source": [
    "### 6. Stack Implementation\n",
    "\n",
    "**Challenge**: Implement a stack using `VecDeque`.\n"
   ]
  },
  {
   "cell_type": "code",
   "execution_count": 8,
   "metadata": {
    "vscode": {
     "languageId": "rust"
    }
   },
   "outputs": [],
   "source": [
    "// Solution\n",
    "\n"
   ]
  },
  {
   "cell_type": "code",
   "execution_count": 9,
   "metadata": {
    "vscode": {
     "languageId": "rust"
    }
   },
   "outputs": [],
   "source": [
    "// Test the Stack implementation\n",
    "let mut stack = Stack::new();\n",
    "stack.push(1);\n",
    "stack.push(2);\n",
    "assert_eq!(stack.pop(), Some(2));\n",
    "assert_eq!(stack.pop(), Some(1));\n",
    "assert_eq!(stack.pop(), None);"
   ]
  },
  {
   "cell_type": "markdown",
   "metadata": {},
   "source": [
    "### 7. Queue Implementation\n",
    "\n",
    "**Challenge**: Implement a queue using `VecDeque`.\n"
   ]
  },
  {
   "cell_type": "code",
   "execution_count": 10,
   "metadata": {
    "vscode": {
     "languageId": "rust"
    }
   },
   "outputs": [],
   "source": [
    "// Solution\n",
    "\n"
   ]
  },
  {
   "cell_type": "code",
   "execution_count": 11,
   "metadata": {
    "vscode": {
     "languageId": "rust"
    }
   },
   "outputs": [],
   "source": [
    "// Test the Queue implementation\n",
    "let mut queue = Queue::new();\n",
    "queue.enqueue(1);\n",
    "queue.enqueue(2);\n",
    "assert_eq!(queue.dequeue(), Some(1));\n",
    "assert_eq!(queue.dequeue(), Some(2));\n",
    "assert_eq!(queue.dequeue(), None);"
   ]
  },
  {
   "cell_type": "markdown",
   "metadata": {},
   "source": [
    "### 8. Binary Search Tree\n",
    "\n",
    "**Challenge**: Implement a simple binary search tree with insert and search operations.\n",
    "\n",
    "> This is more ambitious than we would ask on the exam."
   ]
  },
  {
   "cell_type": "code",
   "execution_count": 12,
   "metadata": {
    "vscode": {
     "languageId": "rust"
    }
   },
   "outputs": [],
   "source": [
    "// Solution\n"
   ]
  },
  {
   "cell_type": "code",
   "execution_count": 13,
   "metadata": {
    "vscode": {
     "languageId": "rust"
    }
   },
   "outputs": [],
   "source": [
    "// Test the Binary Search Tree implementation\n",
    "let mut root = Node::new(5);\n",
    "root.insert(3);\n",
    "root.insert(7);\n",
    "assert!(root.search(3));\n",
    "assert!(root.search(7));\n",
    "assert!(!root.search(10));"
   ]
  },
  {
   "cell_type": "markdown",
   "metadata": {},
   "source": [
    "## Graph Algorithms\n",
    "\n"
   ]
  },
  {
   "cell_type": "markdown",
   "metadata": {},
   "source": [
    "### 9. Graph Representation\n",
    "\n",
    "**Challenge**: Implement an adjacency list representation of a graph."
   ]
  },
  {
   "cell_type": "code",
   "execution_count": 14,
   "metadata": {
    "vscode": {
     "languageId": "rust"
    }
   },
   "outputs": [],
   "source": [
    "// Solution\n"
   ]
  },
  {
   "cell_type": "code",
   "execution_count": 15,
   "metadata": {
    "vscode": {
     "languageId": "rust"
    }
   },
   "outputs": [],
   "source": [
    "// Test the Graph implementation\n",
    "let mut graph = Graph::new();\n",
    "graph.add_edge(0, 1);\n",
    "graph.add_edge(1, 2);\n",
    "assert_eq!(graph.adjacency_list.get(&0).unwrap(), &vec![1]);\n",
    "assert_eq!(graph.adjacency_list.get(&1).unwrap(), &vec![0, 2]);\n"
   ]
  },
  {
   "cell_type": "markdown",
   "metadata": {},
   "source": [
    "### 10. BFS Implementation\n",
    "\n",
    "**Challenge**: Implement BFS to find the shortest path in an unweighted graph.\n"
   ]
  },
  {
   "cell_type": "code",
   "execution_count": 16,
   "metadata": {
    "vscode": {
     "languageId": "rust"
    }
   },
   "outputs": [],
   "source": [
    "// Solution\n"
   ]
  },
  {
   "cell_type": "code",
   "execution_count": 17,
   "metadata": {
    "vscode": {
     "languageId": "rust"
    }
   },
   "outputs": [],
   "source": [
    "// Test the BFS implementation\n",
    "let mut graph = Graph::new();\n",
    "graph.add_edge(0, 1);\n",
    "graph.add_edge(1, 2);\n",
    "graph.add_edge(2, 3);\n",
    "let distances = bfs(&graph, 0);\n",
    "assert_eq!(distances[&0], 0);\n",
    "assert_eq!(distances[&1], 1);\n",
    "assert_eq!(distances[&2], 2);\n",
    "assert_eq!(distances[&3], 3);"
   ]
  },
  {
   "cell_type": "markdown",
   "metadata": {},
   "source": [
    "## Data Science\n",
    "\n"
   ]
  },
  {
   "cell_type": "markdown",
   "metadata": {},
   "source": [
    "### 11. Linear Regression\n",
    "\n",
    "**Challenge**: Implement simple linear regression using ndarray.\n",
    "\n",
    "> This solution directly implements the least squares solution which we didn't\n",
    "do in class. Instead we used a public crate."
   ]
  },
  {
   "cell_type": "code",
   "execution_count": 18,
   "metadata": {
    "vscode": {
     "languageId": "rust"
    }
   },
   "outputs": [],
   "source": [
    "// Solution\n",
    "\n"
   ]
  },
  {
   "cell_type": "code",
   "execution_count": null,
   "metadata": {
    "vscode": {
     "languageId": "rust"
    }
   },
   "outputs": [],
   "source": [
    "// Test the linear regression implementation\n",
    "use ndarray::array;\n",
    "let x = array![1.0, 2.0, 3.0, 4.0, 5.0];\n",
    "let y = array![2.0, 4.0, 6.0, 8.0, 10.0];\n",
    "let (slope, intercept) = linear_regression(&x, &y);\n",
    "assert!((slope - 2.0).abs() < 1e-10);\n",
    "assert!(intercept.abs() < 1e-10);"
   ]
  },
  {
   "cell_type": "markdown",
   "metadata": {},
   "source": [
    "### 12. MSE Calculation\n",
    "\n",
    "**Challenge**: Implement mean squared error calculation.\n"
   ]
  },
  {
   "cell_type": "code",
   "execution_count": 20,
   "metadata": {
    "vscode": {
     "languageId": "rust"
    }
   },
   "outputs": [],
   "source": [
    "// Solution\n",
    "\n"
   ]
  },
  {
   "cell_type": "code",
   "execution_count": 21,
   "metadata": {
    "vscode": {
     "languageId": "rust"
    }
   },
   "outputs": [],
   "source": [
    "// Test the MSE calculation\n",
    "let y_true = [1.0, 2.0, 3.0];\n",
    "let y_pred = [1.1, 2.1, 2.9];\n",
    "let mse = mean_squared_error(&y_true, &y_pred);\n",
    "assert!((mse - 0.01).abs() < 1e-10);"
   ]
  },
  {
   "cell_type": "markdown",
   "metadata": {},
   "source": [
    "### 13. Decision Tree Split\n",
    "\n",
    "**Challenge**: Implement Gini impurity calculation for a decision tree split.\n"
   ]
  },
  {
   "cell_type": "code",
   "execution_count": 22,
   "metadata": {
    "vscode": {
     "languageId": "rust"
    }
   },
   "outputs": [],
   "source": [
    "// Solution\n"
   ]
  },
  {
   "cell_type": "code",
   "execution_count": 23,
   "metadata": {
    "vscode": {
     "languageId": "rust"
    }
   },
   "outputs": [],
   "source": [
    "// Test the Gini impurity calculation\n",
    "let labels = [0, 0, 1, 1, 1];\n",
    "let impurity = gini_impurity(&labels);\n",
    "assert!((impurity - 0.48).abs() < 1e-10);"
   ]
  },
  {
   "cell_type": "markdown",
   "metadata": {},
   "source": [
    "### 14. Matrix Operations\n",
    "\n",
    "**Challenge**: Implement matrix multiplication using ndarray.\n"
   ]
  },
  {
   "cell_type": "code",
   "execution_count": 24,
   "metadata": {
    "vscode": {
     "languageId": "rust"
    }
   },
   "outputs": [],
   "source": [
    "// Solution\n"
   ]
  },
  {
   "cell_type": "code",
   "execution_count": 25,
   "metadata": {
    "vscode": {
     "languageId": "rust"
    }
   },
   "outputs": [],
   "source": [
    "// Test the matrix multiplication\n",
    "let a = array![[1.0, 2.0], [3.0, 4.0]];\n",
    "let b = array![[5.0, 6.0], [7.0, 8.0]];\n",
    "let result = matrix_multiply(a.view(), b.view());\n",
    "assert_eq!(result, array![[19.0, 22.0], [43.0, 50.0]]);\n"
   ]
  },
  {
   "cell_type": "markdown",
   "metadata": {},
   "source": [
    "## Parallel Programming\n",
    "\n"
   ]
  },
  {
   "cell_type": "markdown",
   "metadata": {},
   "source": [
    "### 15. Thread Creation\n",
    "\n",
    "**Challenge**: Create multiple threads to compute the sum of an array.\n"
   ]
  },
  {
   "cell_type": "code",
   "execution_count": 26,
   "metadata": {
    "vscode": {
     "languageId": "rust"
    }
   },
   "outputs": [],
   "source": [
    "// Solution\n"
   ]
  },
  {
   "cell_type": "code",
   "execution_count": 27,
   "metadata": {
    "vscode": {
     "languageId": "rust"
    }
   },
   "outputs": [],
   "source": [
    "// Test the parallel sum implementation\n",
    "let data = vec![1, 2, 3, 4, 5, 6, 7, 8];\n",
    "assert_eq!(parallel_sum(&data), 36);"
   ]
  },
  {
   "cell_type": "markdown",
   "metadata": {},
   "source": [
    "### 16. Channel Communication\n",
    "\n",
    "**Challenge**: Implement a producer-consumer pattern using channels.\n"
   ]
  },
  {
   "cell_type": "code",
   "execution_count": 28,
   "metadata": {
    "vscode": {
     "languageId": "rust"
    }
   },
   "outputs": [],
   "source": [
    "// Solution\n"
   ]
  },
  {
   "cell_type": "code",
   "execution_count": null,
   "metadata": {
    "vscode": {
     "languageId": "rust"
    }
   },
   "outputs": [],
   "source": [
    "// Test the producer-consumer pattern\n",
    "producer_consumer();"
   ]
  },
  {
   "cell_type": "markdown",
   "metadata": {},
   "source": [
    "## Advanced Topics\n",
    "\n"
   ]
  },
  {
   "cell_type": "markdown",
   "metadata": {},
   "source": [
    "### 17. Iterator Implementation\n",
    "\n",
    "**Challenge**: Create a custom iterator that generates Fibonacci numbers.\n"
   ]
  },
  {
   "cell_type": "code",
   "execution_count": 30,
   "metadata": {
    "vscode": {
     "languageId": "rust"
    }
   },
   "outputs": [],
   "source": [
    "// Solution\n",
    "\n"
   ]
  },
  {
   "cell_type": "code",
   "execution_count": 31,
   "metadata": {
    "vscode": {
     "languageId": "rust"
    }
   },
   "outputs": [],
   "source": [
    "// Test the Fibonacci iterator\n",
    "let fib: Vec<u64> = Fibonacci::new().take(5).collect();\n",
    "assert_eq!(fib, vec![0, 1, 1, 2, 3]);"
   ]
  },
  {
   "cell_type": "markdown",
   "metadata": {},
   "source": [
    "### 18. Generic Function\n",
    "\n",
    "**Challenge**: Implement a generic function to find the maximum element in a slice.\n"
   ]
  },
  {
   "cell_type": "code",
   "execution_count": 32,
   "metadata": {
    "vscode": {
     "languageId": "rust"
    }
   },
   "outputs": [],
   "source": [
    "// Solution\n"
   ]
  },
  {
   "cell_type": "code",
   "execution_count": 33,
   "metadata": {
    "vscode": {
     "languageId": "rust"
    }
   },
   "outputs": [],
   "source": [
    "// Test the generic max function\n",
    "let numbers = [1, 3, 2, 4];\n",
    "assert_eq!(find_max(&numbers), Some(&4));\n",
    "let empty: [i32; 0] = [];\n",
    "assert_eq!(find_max(&empty), None);"
   ]
  },
  {
   "cell_type": "markdown",
   "metadata": {},
   "source": [
    "### 19. Error Handling\n",
    "\n",
    "**Challenge**: Implement a function that reads a number from a string with proper error handling.\n"
   ]
  },
  {
   "cell_type": "code",
   "execution_count": 34,
   "metadata": {
    "vscode": {
     "languageId": "rust"
    }
   },
   "outputs": [],
   "source": [
    "// Solution\n"
   ]
  },
  {
   "cell_type": "code",
   "execution_count": 35,
   "metadata": {
    "vscode": {
     "languageId": "rust"
    }
   },
   "outputs": [],
   "source": [
    "// Test the number parsing function\n",
    "assert_eq!(parse_number(\"42\"), Ok(42));\n",
    "assert!(parse_number(\"not a number\").is_err());\n"
   ]
  },
  {
   "cell_type": "markdown",
   "metadata": {},
   "source": [
    "### 20. Module Organization\n",
    "\n",
    "**Challenge**: Create a module with public and private items.\n"
   ]
  },
  {
   "cell_type": "code",
   "execution_count": 36,
   "metadata": {
    "vscode": {
     "languageId": "rust"
    }
   },
   "outputs": [],
   "source": [
    "// Solution\n"
   ]
  },
  {
   "cell_type": "code",
   "execution_count": 37,
   "metadata": {
    "vscode": {
     "languageId": "rust"
    }
   },
   "outputs": [],
   "source": [
    "// Test the math module\n",
    "assert_eq!(math::add(2, 3), 5);\n",
    "\n",
    "// This should fail to compile since subtract is private\n",
    "// assert_eq!(math::subtract(5, 3), 2); // Uncomment to see compile error\n"
   ]
  }
 ],
 "metadata": {
  "kernelspec": {
   "display_name": "Rust",
   "language": "rust",
   "name": "rust"
  },
  "language_info": {
   "codemirror_mode": "rust",
   "file_extension": ".rs",
   "mimetype": "text/rust",
   "name": "Rust",
   "pygment_lexer": "rust",
   "version": ""
  }
 },
 "nbformat": 4,
 "nbformat_minor": 2
}
