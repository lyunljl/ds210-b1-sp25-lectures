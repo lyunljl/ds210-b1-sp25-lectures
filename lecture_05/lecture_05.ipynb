{
 "cells": [
  {
   "cell_type": "markdown",
   "id": "7e82ffb8",
   "metadata": {
    "slideshow": {
     "slide_type": "slide"
    }
   },
   "source": [
    "<div align=\"center\">\n",
    "    <h1>DS-210: Programming for Data Science</h1>\n",
    "    <h1>Day 6 -- Lecture 5</h1>\n",
    "</div>\n",
    "\n",
    "\n",
    "# Rust: Conditional expressions, flow Control, functions, loops, arrays\n"
   ]
  },
  {
   "cell_type": "markdown",
   "id": "8b2265be",
   "metadata": {},
   "source": [
    "## Source of Truth\n",
    "\n",
    "* https://doc.rust-lang.org/stable/book/, Sections 3.3 and 3.5"
   ]
  },
  {
   "cell_type": "markdown",
   "id": "83046a80",
   "metadata": {},
   "source": [
    "**How to approach learning a new programming language:**\n",
    "\n",
    "  - What types of variables/data types are there?\n",
    "  - What is the syntax for functions?\n",
    "  - How do you build and run the code?\n",
    "  - What is the syntax for control flow (if statements/loops/etc)\n",
    "  - How do I organize my code in this language? (i.e. compound data types, structs, methods, etc)\n",
    "  - What are the specific features of this language to keep in mind?\n",
    "  - And others\n",
    "    - I/O?\n",
    "    - External libraries?\n",
    "    - .."
   ]
  },
  {
   "cell_type": "markdown",
   "id": "f0ecf4e3",
   "metadata": {},
   "source": [
    "---"
   ]
  },
  {
   "cell_type": "markdown",
   "id": "ddccd7b0",
   "metadata": {
    "slideshow": {
     "slide_type": "slide"
    }
   },
   "source": [
    "## Conditional expressions: `if`\n",
    "\n"
   ]
  },
  {
   "cell_type": "markdown",
   "id": "de81a896",
   "metadata": {
    "cell_style": "split"
   },
   "source": [
    "Syntax:\n",
    "```rust\n",
    "if condition {\n",
    "    DO-SOMETHING-HERE\n",
    "} else {\n",
    "    DO-SOMETHING-ELSE-HERE\n",
    "}\n",
    "```\n",
    "* `else` part optional\n",
    "* Compared to many C-like languages:\n",
    "  * no parentheses around `condition` needed!\n",
    "  * the braces mandatory"
   ]
  },
  {
   "cell_type": "code",
   "execution_count": 2,
   "id": "16c91be5",
   "metadata": {
    "cell_style": "split",
    "slideshow": {
     "slide_type": "fragment"
    },
    "vscode": {
     "languageId": "rust"
    }
   },
   "outputs": [
    {
     "name": "stdout",
     "output_type": "stream",
     "text": [
      "x is not greater than 15\n"
     ]
    }
   ],
   "source": [
    "let x = 7;\n",
    "if x <= 15 {\n",
    "    println!(\"x is not greater than 15\");\n",
    "};"
   ]
  },
  {
   "cell_type": "code",
   "execution_count": 3,
   "id": "173217fe",
   "metadata": {
    "cell_style": "split",
    "slideshow": {
     "slide_type": "fragment"
    },
    "vscode": {
     "languageId": "rust"
    }
   },
   "outputs": [
    {
     "name": "stdout",
     "output_type": "stream",
     "text": [
      "x is greater than 5\n"
     ]
    }
   ],
   "source": [
    "let threshold = 5;\n",
    "if x <= threshold {\n",
    "    println!(\"x is at most {}\",threshold);\n",
    "} else {\n",
    "    println!(\"x is greater than {}\", threshold);\n",
    "};"
   ]
  },
  {
   "cell_type": "markdown",
   "id": "9747937a",
   "metadata": {
    "slideshow": {
     "slide_type": "subslide"
    }
   },
   "source": [
    "## Using conditional expressions as values"
   ]
  },
  {
   "cell_type": "markdown",
   "id": "456264ca",
   "metadata": {
    "cell_style": "split"
   },
   "source": [
    "Python:\n",
    "```python\n",
    "100 if (x == 7) else 200 \n",
    "```\n",
    "\n",
    "C++:\n",
    "```c++\n",
    "(x == 7) ? 100 : 200\n",
    "```\n",
    "\n",
    "Rust:\n",
    "```rust\n",
    "if x == 7 {100} else {200}\n",
    "```"
   ]
  },
  {
   "cell_type": "code",
   "execution_count": 4,
   "id": "96ee1225",
   "metadata": {
    "cell_style": "split",
    "slideshow": {
     "slide_type": "fragment"
    },
    "vscode": {
     "languageId": "rust"
    }
   },
   "outputs": [
    {
     "name": "stdout",
     "output_type": "stream",
     "text": [
      "1\n"
     ]
    }
   ],
   "source": [
    "let x = 4;\n",
    "let z = if x == 7 {100} else {1};\n",
    "println!(\"{}\",z);"
   ]
  },
  {
   "cell_type": "code",
   "execution_count": 5,
   "id": "b6247517",
   "metadata": {
    "cell_style": "split",
    "slideshow": {
     "slide_type": "fragment"
    },
    "vscode": {
     "languageId": "rust"
    }
   },
   "outputs": [
    {
     "ename": "Error",
     "evalue": "`if` and `else` have incompatible types",
     "output_type": "error",
     "traceback": [
      "\u001b[31m[E0308] Error:\u001b[0m `if` and `else` have incompatible types",
      "   \u001b[38;5;246m╭\u001b[0m\u001b[38;5;246m─\u001b[0m\u001b[38;5;246m[\u001b[0mcommand_5:1:1\u001b[38;5;246m]\u001b[0m",
      "   \u001b[38;5;246m│\u001b[0m",
      " \u001b[38;5;246m2 │\u001b[0m \u001b[38;5;249mp\u001b[0m\u001b[38;5;249mr\u001b[0m\u001b[38;5;249mi\u001b[0m\u001b[38;5;249mn\u001b[0m\u001b[38;5;249mt\u001b[0m\u001b[38;5;249ml\u001b[0m\u001b[38;5;249mn\u001b[0m\u001b[38;5;249m!\u001b[0m\u001b[38;5;249m(\u001b[0m\u001b[38;5;249m\"\u001b[0m\u001b[38;5;249m{\u001b[0m\u001b[38;5;249m}\u001b[0m\u001b[38;5;249m\"\u001b[0m\u001b[38;5;249m,\u001b[0m\u001b[38;5;249mi\u001b[0m\u001b[38;5;249mf\u001b[0m\u001b[38;5;249m \u001b[0m\u001b[38;5;249mx\u001b[0m\u001b[38;5;249m \u001b[0m\u001b[38;5;249m=\u001b[0m\u001b[38;5;249m=\u001b[0m\u001b[38;5;249m \u001b[0m\u001b[38;5;249m7\u001b[0m\u001b[38;5;249m \u001b[0m\u001b[38;5;249m{\u001b[0m\u001b[38;5;100m1\u001b[0m\u001b[38;5;100m0\u001b[0m\u001b[38;5;100m0\u001b[0m\u001b[38;5;249m}\u001b[0m\u001b[38;5;249m \u001b[0m\u001b[38;5;249me\u001b[0m\u001b[38;5;249ml\u001b[0m\u001b[38;5;249ms\u001b[0m\u001b[38;5;249me\u001b[0m\u001b[38;5;249m \u001b[0m\u001b[38;5;249m{\u001b[0m\u001b[38;5;54m1\u001b[0m\u001b[38;5;54m.\u001b[0m\u001b[38;5;54m2\u001b[0m\u001b[38;5;249m}\u001b[0m\u001b[38;5;249m)\u001b[0m\u001b[38;5;249m;\u001b[0m",
      " \u001b[38;5;240m  │\u001b[0m                          \u001b[38;5;100m─\u001b[0m\u001b[38;5;100m┬\u001b[0m\u001b[38;5;100m─\u001b[0m        \u001b[38;5;54m─\u001b[0m\u001b[38;5;54m┬\u001b[0m\u001b[38;5;54m─\u001b[0m  ",
      " \u001b[38;5;240m  │\u001b[0m                           \u001b[38;5;100m╰\u001b[0m\u001b[38;5;100m─\u001b[0m\u001b[38;5;100m─\u001b[0m\u001b[38;5;100m─\u001b[0m\u001b[38;5;100m─\u001b[0m\u001b[38;5;100m─\u001b[0m\u001b[38;5;100m─\u001b[0m\u001b[38;5;100m─\u001b[0m\u001b[38;5;100m─\u001b[0m\u001b[38;5;100m─\u001b[0m\u001b[38;5;100m─\u001b[0m\u001b[38;5;100m─\u001b[0m\u001b[38;5;100m─\u001b[0m\u001b[38;5;100m─\u001b[0m\u001b[38;5;100m─\u001b[0m expected because of this",
      " \u001b[38;5;240m  │\u001b[0m                                      \u001b[38;5;54m│\u001b[0m   ",
      " \u001b[38;5;240m  │\u001b[0m                                      \u001b[38;5;54m╰\u001b[0m\u001b[38;5;54m─\u001b[0m\u001b[38;5;54m─\u001b[0m\u001b[38;5;54m─\u001b[0m expected integer, found floating-point number",
      "\u001b[38;5;246m───╯\u001b[0m"
     ]
    }
   ],
   "source": [
    "// won't work: same type needed\n",
    "println!(\"{}\",if x == 7 {100} else {1.2});"
   ]
  },
  {
   "cell_type": "code",
   "execution_count": 6,
   "id": "365ccbac",
   "metadata": {
    "cell_style": "split",
    "slideshow": {
     "slide_type": "fragment"
    },
    "vscode": {
     "languageId": "rust"
    }
   },
   "outputs": [
    {
     "name": "stdout",
     "output_type": "stream",
     "text": [
      "17\n"
     ]
    }
   ],
   "source": [
    "// blocks can be more complicated\n",
    "// last expression counts (no semicolon after)\n",
    "// But please don't write this just because you can\n",
    "let z = if x == 4 {\n",
    "    let t = x * x;\n",
    "    t + 1\n",
    "} else {\n",
    "    x + 1\n",
    "};\n",
    "println!(\"{}\",z);"
   ]
  },
  {
   "cell_type": "code",
   "execution_count": 7,
   "id": "f67f55c3",
   "metadata": {
    "cell_style": "split",
    "vscode": {
     "languageId": "rust"
    }
   },
   "outputs": [
    {
     "name": "stdout",
     "output_type": "stream",
     "text": [
      "17\n"
     ]
    },
    {
     "data": {
      "text/plain": [
       "()"
      ]
     },
     "execution_count": 7,
     "metadata": {},
     "output_type": "execute_result"
    }
   ],
   "source": [
    "// Write this instead\n",
    "let x = 4;\n",
    "let z;\n",
    "if x == 4 { z = x*x+1 } else { z = x+1};\n",
    "println!(\"{}\", z)"
   ]
  },
  {
   "cell_type": "markdown",
   "id": "9d9e899c",
   "metadata": {},
   "source": [
    "### A winner of the most obscure code competition (https://www.ioccc.org/)\n",
    "\n",
    "What does this program do?\n",
    "\n",
    "```C\n",
    "#include <stdio.h> \n",
    "\n",
    "#define N(a)       \"%\"#a\"$hhn\"\n",
    "#define O(a,b)     \"%10$\"#a\"d\"N(b)\n",
    "#define U          \"%10$.*37$d\"\n",
    "#define G(a)       \"%\"#a\"$s\"\n",
    "#define H(a,b)     G(a)G(b)\n",
    "#define T(a)       a a \n",
    "#define s(a)       T(a)T(a)\n",
    "#define A(a)       s(a)T(a)a\n",
    "#define n(a)       A(a)a\n",
    "#define D(a)       n(a)A(a)\n",
    "#define C(a)       D(a)a\n",
    "#define R          C(C(N(12)G(12)))\n",
    "#define o(a,b,c)   C(H(a,a))D(G(a))C(H(b,b)G(b))n(G(b))O(32,c)R\n",
    "#define SS         O(78,55)R \"\\n\\033[2J\\n%26$s\";\n",
    "#define E(a,b,c,d) H(a,b)G(c)O(253,11)R G(11)O(255,11)R H(11,d)N(d)O(253,35)R\n",
    "#define S(a,b)     O(254,11)H(a,b)N(68)R G(68)O(255,68)N(12)H(12,68)G(67)N(67)\n",
    "\n",
    "char* fmt = O(10,39)N(40)N(41)N(42)N(43)N(66)N(69)N(24)O(22,65)O(5,70)O(8,44)N(\n",
    "            45)N(46)N    (47)N(48)N(    49)N( 50)N(     51)N(52)N(53    )O( 28,\n",
    "            54)O(5,        55) O(2,    56)O(3,57)O(      4,58 )O(13,    73)O(4,\n",
    "            71 )N(   72)O   (20,59    )N(60)N(61)N(       62)N (63)N    (64)R R\n",
    "            E(1,2,   3,13   )E(4,    5,6,13)E(7,8,9        ,13)E(1,4    ,7,13)E\n",
    "            (2,5,8,        13)E(    3,6,9,13)E(1,5,         9,13)E(3    ,5,7,13\n",
    "            )E(14,15,    16,23)    E(17,18,19,23)E(          20, 21,    22,23)E\n",
    "            (14,17,20,23)E(15,    18,21,23)E(16,19,    22     ,23)E(    14, 18,\n",
    "            22,23)E(16,18,20,    23)R U O(255 ,38)R    G (     38)O(    255,36)\n",
    "            R H(13,23)O(255,    11)R H(11,36) O(254    ,36)     R G(    36 ) O(\n",
    "            255,36)R S(1,14    )S(2,15)S(3, 16)S(4,    17 )S     (5,    18)S(6,\n",
    "            19)S(7,20)S(8,    21)S(9    ,22)H(13,23    )H(36,     67    )N(11)R\n",
    "            G(11)\"\"O(255,    25 )R        s(C(G(11)    ))n (G(          11) )G(\n",
    "            11)N(54)R C(    \"aa\")   s(A(   G(25)))T    (G(25))N         (69)R o\n",
    "            (14,1,26)o(    15, 2,   27)o   (16,3,28    )o( 17,4,        29)o(18\n",
    "            ,5,30)o(19    ,6,31)o(        20,7,32)o    (21,8,33)o       (22 ,9,\n",
    "            34)n(C(U)    )N( 68)R H(    36,13)G(23)    N(11)R C(D(      G(11)))\n",
    "            D(G(11))G(68)N(68)R G(68)O(49,35)R H(13,23)G(67)N(11)R C(H(11,11)G(\n",
    "            11))A(G(11))C(H(36,36)G(36))s(G(36))O(32,58)R C(D(G(36)))A(G(36))SS\n",
    "\n",
    "#define arg d+6,d+8,d+10,d+12,d+14,d+16,d+18,d+20,d+22,0,d+46,d+52,d+48,d+24,d\\\n",
    "            +26,d+28,d+30,d+32,d+34,d+36,d+38,d+40,d+50,(scanf(d+126,d+4),d+(6\\\n",
    "            -2)+18*(1-d[2]%2)+d[4]*2),d,d+66,d+68,d+70, d+78,d+80,d+82,d+90,d+\\\n",
    "            92,d+94,d+97,d+54,d[2],d+2,d+71,d+77,d+83,d+89,d+95,d+72,d+73,d+74\\\n",
    "            ,d+75,d+76,d+84,d+85,d+86,d+87,d+88,d+100,d+101,d+96,d+102,d+99,d+\\\n",
    "            67,d+69,d+79,d+81,d+91,d+93,d+98,d+103,d+58,d+60,d+98,d+126,d+127,\\\n",
    "            d+128,d+129\n",
    "\n",
    "char d[538] = {1,0,10,0,10};\n",
    "\n",
    "int main() {\n",
    "    while(*d) printf(fmt, arg);\n",
    "}\n",
    "```"
   ]
  },
  {
   "cell_type": "markdown",
   "id": "6bdeb920",
   "metadata": {
    "slideshow": {
     "slide_type": "slide"
    }
   },
   "source": [
    "## Functions\n",
    "Syntax:\n",
    "```rust\n",
    "fn function_name(argname_1:type_1,argname_2:type_2) -> type_ret {\n",
    "    DO-SOMETHING-HERE-AND-RETURN-A-VALUE\n",
    "}\n",
    "```"
   ]
  },
  {
   "cell_type": "code",
   "execution_count": 8,
   "id": "132d45fc",
   "metadata": {
    "slideshow": {
     "slide_type": "fragment"
    },
    "vscode": {
     "languageId": "rust"
    }
   },
   "outputs": [
    {
     "data": {
      "text/plain": [
       "200"
      ]
     },
     "execution_count": 8,
     "metadata": {},
     "output_type": "execute_result"
    }
   ],
   "source": [
    "fn multiply(x:i32, y:i32) -> i32 {\n",
    "    // note: no need to write \"return x * y\"\n",
    "    x * y\n",
    "}\n",
    "\n",
    "multiply(10,20)"
   ]
  },
  {
   "cell_type": "code",
   "execution_count": 15,
   "id": "6d826928",
   "metadata": {
    "slideshow": {
     "slide_type": "fragment"
    },
    "vscode": {
     "languageId": "rust"
    }
   },
   "outputs": [
    {
     "name": "stdout",
     "output_type": "stream",
     "text": [
      "q is false\n"
     ]
    },
    {
     "data": {
      "text/plain": [
       "false"
      ]
     },
     "execution_count": 15,
     "metadata": {},
     "output_type": "execute_result"
    }
   ],
   "source": [
    "// But if you add a return then you need a semicolon unless it is the last statement in the function\n",
    "// Please use returns and add semicolons everywhere.  It's easier to read.\n",
    "fn and(p:bool, q:bool, r:bool) -> bool {\n",
    "    if !p {\n",
    "        println!(\"p is false\");\n",
    "        return false;\n",
    "    }\n",
    "    if !q {\n",
    "        println!(\"q is false\");\n",
    "        return false;\n",
    "    }\n",
    "    println!(\"r is {}\", r);\n",
    "    r // return r without the semicolon also works here\n",
    "}\n",
    "and(true,false,true)\n"
   ]
  },
  {
   "cell_type": "markdown",
   "id": "c0e78cc2",
   "metadata": {
    "slideshow": {
     "slide_type": "subslide"
    }
   },
   "source": [
    "## Functions: returning no value"
   ]
  },
  {
   "cell_type": "markdown",
   "id": "3ed80e34",
   "metadata": {
    "cell_style": "split",
    "slideshow": {
     "slide_type": "-"
    }
   },
   "source": [
    "**How:** skip the type of returned value part"
   ]
  },
  {
   "cell_type": "code",
   "execution_count": 16,
   "id": "15842ec4",
   "metadata": {
    "cell_style": "split",
    "vscode": {
     "languageId": "rust"
    }
   },
   "outputs": [
    {
     "name": "stdout",
     "output_type": "stream",
     "text": [
      "Hello, world!\n",
      "Hello, Boston!\n",
      "Hello, DS210!\n"
     ]
    }
   ],
   "source": [
    "fn say_hello(who:&str) {\n",
    "    println!(\"Hello, {}!\",who);\n",
    "}\n",
    " \n",
    "say_hello(\"world\");\n",
    "say_hello(\"Boston\");\n",
    "say_hello(\"DS210\");"
   ]
  },
  {
   "cell_type": "markdown",
   "id": "3698ab39",
   "metadata": {
    "cell_style": "split",
    "slideshow": {
     "slide_type": "fragment"
    }
   },
   "source": [
    "Nothing returned equivalent to the unit type, `()`"
   ]
  },
  {
   "cell_type": "code",
   "execution_count": 17,
   "id": "965cf097",
   "metadata": {
    "cell_style": "split",
    "vscode": {
     "languageId": "rust"
    }
   },
   "outputs": [
    {
     "name": "stdout",
     "output_type": "stream",
     "text": [
      "Good night room\n",
      "Good night moon\n",
      "Good night cow jumping over the moon\n",
      "The function returned ()\n"
     ]
    },
    {
     "data": {
      "text/plain": [
       "()"
      ]
     },
     "execution_count": 17,
     "metadata": {},
     "output_type": "execute_result"
    }
   ],
   "source": [
    "fn say_good_night(who:&str) -> () {\n",
    "    println!(\"Good night {}\",who);\n",
    "}\n",
    "\n",
    "say_good_night(\"room\");\n",
    "say_good_night(\"moon\");\n",
    "let z = say_good_night(\"cow jumping over the moon\");\n",
    "println!(\"The function returned {:?}\", z)"
   ]
  },
  {
   "cell_type": "markdown",
   "id": "46e7fc17",
   "metadata": {
    "slideshow": {
     "slide_type": "slide"
    }
   },
   "source": [
    "## Loops: `for`\n",
    "\n",
    "Usage: loop over a range or collection\n",
    "\n",
    "A **range** is `(start..end)`, e.g. `(1..5)`, where the index will vary as\n",
    "\n",
    "$$\n",
    "\\textrm{start} \\leq \\textrm{index} < \\textrm{end}.\n",
    "$$\n",
    "\n",
    "Unless you use the notation `(start..=end)`, in which case the index will vary as\n",
    "\n",
    "$$\n",
    "\\textrm{start} \\leq \\textrm{index} \\leq \\textrm{end}\n",
    "$$\n",
    "\n"
   ]
  },
  {
   "cell_type": "code",
   "execution_count": 40,
   "id": "7c7f92cf",
   "metadata": {
    "cell_style": "split",
    "vscode": {
     "languageId": "rust"
    }
   },
   "outputs": [
    {
     "name": "stdout",
     "output_type": "stream",
     "text": [
      "1\n",
      "2\n",
      "3\n",
      "4\n"
     ]
    }
   ],
   "source": [
    "// parentheses on the range are optional unless calling a method e.g. `.rev()`\n",
    "// on the range\n",
    "for i in (1..5) {\n",
    "    println!(\"{}\",i);\n",
    "};"
   ]
  },
  {
   "cell_type": "code",
   "execution_count": 41,
   "id": "ff45bad2",
   "metadata": {
    "cell_style": "split",
    "slideshow": {
     "slide_type": "fragment"
    },
    "vscode": {
     "languageId": "rust"
    }
   },
   "outputs": [
    {
     "name": "stdout",
     "output_type": "stream",
     "text": [
      "4\n",
      "3\n",
      "2\n",
      "1\n"
     ]
    }
   ],
   "source": [
    "// reverse order\n",
    "for i in (1..5).rev() {\n",
    "    println!(\"{}\",i)\n",
    "};"
   ]
  },
  {
   "cell_type": "code",
   "execution_count": 43,
   "id": "63e8fb11",
   "metadata": {
    "cell_style": "split",
    "slideshow": {
     "slide_type": "fragment"
    },
    "vscode": {
     "languageId": "rust"
    }
   },
   "outputs": [
    {
     "name": "stdout",
     "output_type": "stream",
     "text": [
      "1\n"
     ]
    },
    {
     "name": "stdout",
     "output_type": "stream",
     "text": [
      "2\n",
      "3\n",
      "4\n",
      "5\n"
     ]
    }
   ],
   "source": [
    "// inclusive range\n",
    "for i in 1..=5 {\n",
    "    println!(\"{}\",i);\n",
    "};"
   ]
  },
  {
   "cell_type": "code",
   "execution_count": 35,
   "id": "d3983630",
   "metadata": {
    "cell_style": "split",
    "slideshow": {
     "slide_type": "fragment"
    },
    "vscode": {
     "languageId": "rust"
    }
   },
   "outputs": [
    {
     "name": "stdout",
     "output_type": "stream",
     "text": [
      "This is a test\n",
      "1\n",
      "This is a test\n",
      "3\n",
      "And now for the reverse\n",
      "3\n",
      "1\n",
      "But....\n",
      "4\n",
      "2\n"
     ]
    }
   ],
   "source": [
    "// every other element \n",
    "for i in (1..5).step_by(2) {\n",
    "    println!(\"This is a test\");\n",
    "    println!(\"{}\",i);\n",
    "};\n",
    "\n",
    "println!(\"And now for the reverse\");\n",
    "for i in (1..5).step_by(2).rev() {\n",
    "    println!(\"{}\",i)\n",
    "};\n",
    "\n",
    "println!(\"But....\");\n",
    "for i in (1..5).rev().step_by(2) {\n",
    "    println!(\"{}\",i);\n",
    "};\n"
   ]
  },
  {
   "cell_type": "markdown",
   "id": "1bb69360",
   "metadata": {
    "slideshow": {
     "slide_type": "subslide"
    }
   },
   "source": [
    "## Arrays and `for` over an array\n",
    "\n",
    "* Arrays in Rust are of fixed length (we'll learn about more flexible `Vec` later)\n",
    "* All elements of the same type\n",
    "* You can not add or remove elements from an array (but you can change its value)\n",
    "* Python **does not** have arrays natively. \n",
    "\n",
    "> What's the closest thing in native python?"
   ]
  },
  {
   "cell_type": "code",
   "execution_count": 22,
   "id": "b1453722",
   "metadata": {
    "cell_style": "split",
    "vscode": {
     "languageId": "rust"
    }
   },
   "outputs": [
    {
     "name": "stdout",
     "output_type": "stream",
     "text": [
      "1 13\n"
     ]
    }
   ],
   "source": [
    "// simplest definition\n",
    "// compiler guessing element type to be i32\n",
    "// indexing starts at 0\n",
    "let mut arr = [1,7,2,5,2];\n",
    "arr[1] = 13;\n",
    "println!(\"{} {}\",arr[0],arr[1]);"
   ]
  },
  {
   "cell_type": "code",
   "execution_count": 44,
   "id": "507912fb",
   "metadata": {
    "cell_style": "split",
    "slideshow": {
     "slide_type": "fragment"
    },
    "vscode": {
     "languageId": "rust"
    }
   },
   "outputs": [
    {
     "name": "stdout",
     "output_type": "stream",
     "text": [
      "1\n",
      "2\n",
      "2\n",
      "5\n",
      "13\n"
     ]
    }
   ],
   "source": [
    "// array supports sorting\n",
    "arr.sort();\n",
    "\n",
    "// loop over the array\n",
    "for x in arr {\n",
    "    println!(\"{}\",x);\n",
    "};"
   ]
  },
  {
   "cell_type": "code",
   "execution_count": 24,
   "id": "b9ca6b36",
   "metadata": {
    "cell_style": "split",
    "slideshow": {
     "slide_type": "fragment"
    },
    "vscode": {
     "languageId": "rust"
    }
   },
   "outputs": [
    {
     "name": "stdout",
     "output_type": "stream",
     "text": [
      "15 15 15 \n"
     ]
    }
   ],
   "source": [
    "// create array of given length\n",
    "// and fill it with a specific value\n",
    "let arr2 = [15;3];\n",
    "for x in arr2 {\n",
    "    print!(\"{} \",x);\n",
    "}\n",
    "println!();"
   ]
  },
  {
   "cell_type": "code",
   "execution_count": 54,
   "id": "f72b8d4f",
   "metadata": {
    "cell_style": "split",
    "slideshow": {
     "slide_type": "fragment"
    },
    "vscode": {
     "languageId": "rust"
    }
   },
   "outputs": [
    {
     "name": "stdout",
     "output_type": "stream",
     "text": [
      "15 15 15 \n"
     ]
    },
    {
     "name": "stdout",
     "output_type": "stream",
     "text": [
      "arr3[2] is 15\n"
     ]
    }
   ],
   "source": [
    "// with type definition and shorthand to repeat values\n",
    "let arr3 : [u8;3] = [15;3];\n",
    "\n",
    "for x in arr3 {\n",
    "    print!(\"{} \",x);\n",
    "}\n",
    "println!();\n",
    "\n",
    "println!(\"arr3[2] is {}\", arr3[2]);"
   ]
  },
  {
   "cell_type": "code",
   "execution_count": 49,
   "id": "8215478d",
   "metadata": {
    "cell_style": "split",
    "slideshow": {
     "slide_type": "fragment"
    },
    "vscode": {
     "languageId": "rust"
    }
   },
   "outputs": [
    {
     "data": {
      "text/plain": [
       "3"
      ]
     },
     "execution_count": 49,
     "metadata": {},
     "output_type": "execute_result"
    }
   ],
   "source": [
    "// get the length\n",
    "arr3.len()"
   ]
  },
  {
   "cell_type": "markdown",
   "id": "95b02b02",
   "metadata": {},
   "source": [
    "## Loops: `while`"
   ]
  },
  {
   "cell_type": "code",
   "execution_count": 28,
   "id": "755eca35",
   "metadata": {
    "vscode": {
     "languageId": "rust"
    }
   },
   "outputs": [
    {
     "name": "stdout",
     "output_type": "stream",
     "text": [
      "3!\n",
      "2!\n",
      "1!\n",
      "LIFTOFF!!!\n"
     ]
    }
   ],
   "source": [
    "let mut number = 3;\n",
    "\n",
    "while number != 0 {\n",
    "    println!(\"{number}!\");\n",
    "    number -= 1;\n",
    "}\n",
    "println!(\"LIFTOFF!!!\");\n"
   ]
  },
  {
   "cell_type": "markdown",
   "id": "c568b496",
   "metadata": {
    "slideshow": {
     "slide_type": "subslide"
    }
   },
   "source": [
    "## Infinite loop: `loop`\n",
    "```rust\n",
    "loop {\n",
    "    // DO SOMETHING HERE\n",
    "}\n",
    "```\n",
    "\n",
    "Need to use `break` to jump out of the loop!"
   ]
  },
  {
   "cell_type": "code",
   "execution_count": 29,
   "id": "3f0a9a42",
   "metadata": {
    "cell_style": "split",
    "vscode": {
     "languageId": "rust"
    }
   },
   "outputs": [
    {
     "data": {
      "text/plain": [
       "15"
      ]
     },
     "execution_count": 29,
     "metadata": {},
     "output_type": "execute_result"
    }
   ],
   "source": [
    "let mut x = 1;\n",
    "loop {\n",
    "    if (x + 1) * (x + 1) >= 250 {break;}\n",
    "    x += 1;\n",
    "}\n",
    "x"
   ]
  },
  {
   "cell_type": "markdown",
   "id": "217ecf8d",
   "metadata": {
    "cell_style": "split",
    "slideshow": {
     "slide_type": "fragment"
    }
   },
   "source": [
    "* `loop` can return a value!\n",
    "* `break` can act like `return`"
   ]
  },
  {
   "cell_type": "code",
   "execution_count": 30,
   "id": "21cf5ebc",
   "metadata": {
    "cell_style": "split",
    "vscode": {
     "languageId": "rust"
    }
   },
   "outputs": [
    {
     "data": {
      "text/plain": [
       "15"
      ]
     },
     "execution_count": 30,
     "metadata": {},
     "output_type": "execute_result"
    }
   ],
   "source": [
    "let mut x = 1;\n",
    "let y = loop {\n",
    "    if x * x >= 250 {break x - 1;}\n",
    "    x += 1;\n",
    "};\n",
    "y"
   ]
  },
  {
   "cell_type": "markdown",
   "id": "bf142d80",
   "metadata": {},
   "source": [
    "* `continue` to skip the rest of the loop body and start the next iteration"
   ]
  },
  {
   "cell_type": "code",
   "execution_count": 56,
   "id": "9e2d3c74",
   "metadata": {
    "vscode": {
     "languageId": "rust"
    }
   },
   "outputs": [
    {
     "name": "stdout",
     "output_type": "stream",
     "text": [
      "X is 1\n",
      "X is 2\n",
      "X is 3\n",
      "X is 4\n",
      "X is 6\n",
      "X is 7\n",
      "X is 8\n",
      "X is 9\n",
      "Result is 20\n"
     ]
    }
   ],
   "source": [
    "// loop keyword similar to while (True) in Python\n",
    "// break and continue keywords behave as you would expect\n",
    "let mut x = 1;\n",
    "\n",
    "let result = loop {  // you can capture a return value\n",
    "    if x == 5 {\n",
    "        x = x+1;\n",
    "        continue;    // skip the rest of this loop body and start the next iteration\n",
    "    }\n",
    "    println!(\"X is {}\", x);\n",
    "    x = x + 1;\n",
    "    if x==10 {\n",
    "        break x*2;   // break with a return value\n",
    "    }\n",
    "};\n",
    "\n",
    "println!(\"Result is {}\", result);"
   ]
  },
  {
   "cell_type": "markdown",
   "id": "e53287e2",
   "metadata": {
    "slideshow": {
     "slide_type": "slide"
    }
   },
   "source": [
    "## Advanced `break` and `continue`"
   ]
  },
  {
   "cell_type": "markdown",
   "id": "be86aa2a",
   "metadata": {
    "cell_style": "split"
   },
   "source": [
    "* work in all loops\n",
    "* `break`: terminate the execution\n",
    "  * can return a value in `loop`\n",
    "* `continue`: terminate this iteration and jump to the next one\n",
    "  * in `while`, the condition will be checked\n",
    "  * in `for`, there may be no next iteration\n",
    "  * `break` and `continue` can use labels"
   ]
  },
  {
   "cell_type": "code",
   "execution_count": 36,
   "id": "86a63945",
   "metadata": {
    "cell_style": "split",
    "slideshow": {
     "slide_type": "fragment"
    },
    "vscode": {
     "languageId": "rust"
    }
   },
   "outputs": [
    {
     "name": "stdout",
     "output_type": "stream",
     "text": [
      "3\n"
     ]
    },
    {
     "name": "stdout",
     "output_type": "stream",
     "text": [
      "6\n",
      "9\n"
     ]
    }
   ],
   "source": [
    "for i in 1..=10 {\n",
    "    if i % 3 != 0 {continue;}\n",
    "    println!(\"{}\",i);\n",
    "};"
   ]
  },
  {
   "cell_type": "markdown",
   "id": "23458cc6",
   "metadata": {},
   "source": [
    "You can also label loops to target with `continue` and `break`."
   ]
  },
  {
   "cell_type": "code",
   "execution_count": 32,
   "id": "63c0800d",
   "metadata": {
    "cell_style": "split",
    "vscode": {
     "languageId": "rust"
    }
   },
   "outputs": [
    {
     "name": "stdout",
     "output_type": "stream",
     "text": [
      "Hi outer loop\n",
      "Hi inner loop\n",
      "Hi outer loop\n",
      "Hi inner loop\n",
      "In the middle\n",
      "X is 3\n",
      "Hi inner loop\n",
      "Hi outer loop\n",
      "Hi inner loop\n",
      "Hi outer loop\n",
      "Hi inner loop\n",
      "In the middle\n",
      "X is 6\n",
      "Hi inner loop\n",
      "Hi outer loop\n",
      "Hi inner loop\n",
      "Hi outer loop\n",
      "Hi inner loop\n",
      "In the middle\n",
      "X is 9\n",
      "Hi inner loop\n",
      "Hi outer loop\n",
      "Hi inner loop\n",
      "Hi outer loop\n",
      "Hi inner loop\n",
      "In the middle\n",
      "Managed to escape! :-) with x 12\n"
     ]
    }
   ],
   "source": [
    "let mut x = 1;\n",
    "'outer_loop: loop {\n",
    "    println!(\"Hi outer loop\");\n",
    "    'inner_loop: loop {\n",
    "        println!(\"Hi inner loop\");\n",
    "        x = x + 1;\n",
    "        if x % 3 != 0 {\n",
    "            continue 'outer_loop;  // skip the rest of the outer loop body and start the next iteration\n",
    "        }\n",
    "        println!(\"In the middle\");\n",
    "        if x >= 10 {\n",
    "            break 'outer_loop;  // break the outer loop\n",
    "        }\n",
    "        println!(\"X is {}\", x);\n",
    "    }\n",
    "    println!(\"In the end\");\n",
    "};\n",
    "\n",
    "println!(\"Managed to escape! :-) with x {}\", x);"
   ]
  },
  {
   "cell_type": "code",
   "execution_count": 57,
   "id": "87ccf51d",
   "metadata": {
    "cell_style": "split",
    "vscode": {
     "languageId": "rust"
    }
   },
   "outputs": [
    {
     "name": "stdout",
     "output_type": "stream",
     "text": [
      "Hi outer loop\n",
      "Hi inner loop\n",
      "In the end\n",
      "Hi outer loop\n",
      "Hi inner loop\n",
      "In the middle\n",
      "X is 3\n",
      "Hi inner loop\n",
      "In the end\n",
      "Hi outer loop\n",
      "Hi inner loop\n",
      "In the end\n",
      "Hi outer loop\n",
      "Hi inner loop\n",
      "In the middle\n",
      "X is 6\n",
      "Hi inner loop\n",
      "In the end\n",
      "Hi outer loop\n",
      "Hi inner loop\n",
      "In the end\n",
      "Hi outer loop\n",
      "Hi inner loop\n",
      "In the middle\n",
      "X is 9\n",
      "Hi inner loop\n",
      "In the end\n",
      "Hi outer loop\n",
      "Hi inner loop\n",
      "In the end\n",
      "Hi outer loop\n",
      "Hi inner loop\n",
      "In the middle\n",
      "Managed to escape! :-) with x 12\n"
     ]
    }
   ],
   "source": [
    "let mut x = 1;\n",
    "'outer_loop: loop {\n",
    "    println!(\"Hi outer loop\");\n",
    "    'inner_loop: loop {\n",
    "        println!(\"Hi inner loop\");\n",
    "        x = x + 1;\n",
    "        if x % 3 != 0 {\n",
    "            break 'inner_loop;  // break the inner loop, continue the outer loop\n",
    "        }\n",
    "        println!(\"In the middle\");\n",
    "        if x >= 10 {\n",
    "            break 'outer_loop;  // break the outer loop\n",
    "        }\n",
    "        println!(\"X is {}\", x);\n",
    "    }\n",
    "    println!(\"In the end\");\n",
    "};\n",
    "println!(\"Managed to escape! :-) with x {}\", x);"
   ]
  },
  {
   "cell_type": "code",
   "execution_count": 34,
   "id": "5c8ffc36",
   "metadata": {
    "cell_style": "center",
    "slideshow": {
     "slide_type": "fragment"
    },
    "vscode": {
     "languageId": "rust"
    }
   },
   "outputs": [
    {
     "name": "stdout",
     "output_type": "stream",
     "text": [
      "1234\n"
     ]
    }
   ],
   "source": [
    "let x = 'outer_loop: loop {\n",
    "    loop { break 'outer_loop 1234;}\n",
    "};\n",
    "println!(\"{}\",x);"
   ]
  },
  {
   "cell_type": "markdown",
   "id": "4310f3be",
   "metadata": {},
   "source": [
    "## Read book chapter 1 and sections 3.1-3.5"
   ]
  },
  {
   "cell_type": "markdown",
   "id": "1ab1c90b",
   "metadata": {},
   "source": [
    "## Piazza in class poll\n",
    "\n",
    "https://piazza.com/class/m5qyw6267j12cj/post/76\n"
   ]
  },
  {
   "cell_type": "markdown",
   "id": "31e3f3c2",
   "metadata": {},
   "source": []
  }
 ],
 "metadata": {
  "celltoolbar": "Slideshow",
  "kernelspec": {
   "display_name": "Rust",
   "language": "rust",
   "name": "rust"
  },
  "language_info": {
   "codemirror_mode": "rust",
   "file_extension": ".rs",
   "mimetype": "text/rust",
   "name": "Rust",
   "pygment_lexer": "rust",
   "version": ""
  },
  "rise": {
   "theme": "beige",
   "transition": "fade"
  }
 },
 "nbformat": 4,
 "nbformat_minor": 5
}
