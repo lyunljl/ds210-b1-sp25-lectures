{
 "cells": [
  {
   "cell_type": "markdown",
   "id": "6f2573df",
   "metadata": {
    "slideshow": {
     "slide_type": "slide"
    }
   },
   "source": [
    "<div align=\"center\">\n",
    "    <h1>DS-210: Programming for Data Science</h1>\n",
    "    <h1>Lecture 15</h1>\n",
    "</div>\n",
    "\n",
    "1. Popular implementation: binary heap\n",
    "2. Applications of priority queues: sorting and shortest paths\n",
    "3. Slices"
   ]
  },
  {
   "cell_type": "markdown",
   "id": "1c372a0f",
   "metadata": {
    "slideshow": {
     "slide_type": "slide"
    }
   },
   "source": [
    "# 1. Popular implementation: binary heap"
   ]
  },
  {
   "cell_type": "markdown",
   "id": "e0000747",
   "metadata": {
    "slideshow": {
     "slide_type": "slide"
    }
   },
   "source": [
    "## Binary heaps\n",
    "\n",
    "* Data organized into a binary tree (one root, each node with 0, 1 or 2 children)\n",
    "* Every internal node not smaller (or greater) than its children\n",
    "* Every layer is filled before the next layer starts\n",
    "\n",
    "**Basic property:**\n",
    "The root has the current maximum (minimum), i.e., the answer to next `pop`\n",
    "\n",
    "<div align=\"center\">\n",
    "    <img src=\"order.png\" alt=\"[picture of basic binary heap with heap ordering]\" width=\"70%\">\n",
    "</div>"
   ]
  },
  {
   "cell_type": "markdown",
   "id": "e6276930",
   "metadata": {
    "slideshow": {
     "slide_type": "subslide"
    }
   },
   "source": [
    "## Binary heaps"
   ]
  },
  {
   "cell_type": "markdown",
   "id": "b179fa5f",
   "metadata": {
    "cell_style": "split",
    "slideshow": {
     "slide_type": ""
    },
    "tags": [
     "gridwidth-1-2"
    ]
   },
   "source": [
    "**Efficient storage:**\n",
    "* Tree levels filled from left to right\n",
    "* Can be mapped to a vector"
   ]
  },
  {
   "cell_type": "markdown",
   "id": "40d508f2",
   "metadata": {
    "cell_style": "split",
    "slideshow": {
     "slide_type": "fragment"
    },
    "tags": [
     "gridwidth-1-2"
    ]
   },
   "source": [
    "* Easy to move to the parent or children using vector indices"
   ]
  },
  {
   "cell_type": "markdown",
   "id": "4c8847d8",
   "metadata": {
    "cell_style": "split",
    "slideshow": {
     "slide_type": ""
    },
    "tags": [
     "gridwidth-1-2"
    ]
   },
   "source": [
    "<div align=\"center\">\n",
    "    <img src=\"layers.png\" alt=\"[picture of basic binary heap with heap ordering]\" width=\"90%\">\n",
    "</div>"
   ]
  },
  {
   "cell_type": "markdown",
   "id": "4bff2f52",
   "metadata": {
    "cell_style": "center",
    "slideshow": {
     "slide_type": ""
    },
    "tags": [
     "gridwidth-1-2"
    ]
   },
   "source": [
    "<div align=\"center\">\n",
    "    <img src=\"indices.png\" alt=\"[picture of basic binary heap with heap ordering]\" width=\"50%\">\n",
    "</div>"
   ]
  },
  {
   "cell_type": "markdown",
   "id": "ffa367bc",
   "metadata": {
    "slideshow": {
     "slide_type": "subslide"
    }
   },
   "source": [
    "## How are operations implemented?"
   ]
  },
  {
   "cell_type": "markdown",
   "id": "18afd18e",
   "metadata": {
    "slideshow": {
     "slide_type": "fragment"
    }
   },
   "source": [
    "### Push\n",
    "\n",
    "* add at the end the vector\n",
    "* fix the ordering by swapping with the parent if needed"
   ]
  },
  {
   "cell_type": "markdown",
   "id": "8bb88542-f6bd-4624-a256-b0a7b7627b87",
   "metadata": {},
   "source": [
    "<div align=\"center\">\n",
    "    <img src=\"push_swap.png\" width=\"60%\">\n",
    "</div>"
   ]
  },
  {
   "cell_type": "markdown",
   "id": "4533dfc0-07fe-4bb8-a677-141ae5236557",
   "metadata": {},
   "source": [
    "<div align=\"center\">\n",
    "    <b>Question: What is the maximum number of swaps you will have to do? Why?</b>\n",
    "</div>\n",
    "\n",
    "<br><br><br><br>\n",
    "\n",
    "$$\\log_2(n)$$"
   ]
  },
  {
   "cell_type": "markdown",
   "id": "28473131",
   "metadata": {
    "slideshow": {
     "slide_type": "fragment"
    }
   },
   "source": [
    "### Pop\n",
    "\n",
    "* remove and return the root\n",
    "* replace with the last element\n",
    "* fix the ordering by comparing with children and swapping with each that is greater"
   ]
  },
  {
   "cell_type": "markdown",
   "id": "29e0e69e",
   "metadata": {
    "slideshow": {
     "slide_type": "fragment"
    }
   },
   "source": [
    "### Complexity of push and pop\n",
    "\n",
    "* Proportional to the number of levels\n",
    "\n",
    "* So $O(\\log n)$\n"
   ]
  },
  {
   "cell_type": "markdown",
   "id": "35116d26-1402-481d-82a9-7c722021ce21",
   "metadata": {},
   "source": [
    "### Implementation\n",
    "\n",
    "#### Utility methods"
   ]
  },
  {
   "cell_type": "code",
   "execution_count": 3,
   "id": "30146365",
   "metadata": {
    "vscode": {
     "languageId": "rust"
    }
   },
   "outputs": [],
   "source": [
    "#[derive(Debug)]\n",
    "struct MyBinaryHeap<T> {\n",
    "    heap: Vec<T>,\n",
    "    heap_size: usize,\n",
    "}\n",
    "\n",
    "impl<T> MyBinaryHeap<T> {\n",
    "    fn new() -> MyBinaryHeap<T> {\n",
    "        let heap: Vec<T> = vec![];\n",
    "        let heap_size = 0;\n",
    "        MyBinaryHeap { heap, heap_size }\n",
    "    }\n",
    "\n",
    "    // left child\n",
    "    fn left(i: usize) -> usize {\n",
    "        2 * i + 1\n",
    "    }\n",
    "\n",
    "    // right child of node i\n",
    "    fn right(i: usize) -> usize {\n",
    "        2 * i + 2\n",
    "    }\n",
    "\n",
    "    //parent of  node i\n",
    "    fn parent(i: usize) -> usize {\n",
    "        (i - 1) / 2  // integer divide\n",
    "    }\n",
    "}"
   ]
  },
  {
   "cell_type": "markdown",
   "id": "55fc5b7d-1952-4e27-b938-dc9be893539d",
   "metadata": {},
   "source": [
    "#### Heapify -- Put everything in proper order\n",
    "\n",
    "Make it so children are $\\le$ parents."
   ]
  },
  {
   "cell_type": "code",
   "execution_count": 4,
   "id": "37dbd5cc",
   "metadata": {
    "vscode": {
     "languageId": "rust"
    }
   },
   "outputs": [],
   "source": [
    "impl<T:PartialOrd+PartialEq+Copy> MyBinaryHeap<T> {\n",
    "    fn heapify(&mut self, loc: usize) {\n",
    "        let l = Self::left(loc);\n",
    "        let r: usize = Self::right(loc);\n",
    "        \n",
    "        let mut largest = loc; // index of largest\n",
    "        \n",
    "        if l < self.heap_size && self.heap[l] > self.heap[largest] {\n",
    "            largest = l;\n",
    "        }\n",
    "        if r < self.heap_size && self.heap[r] > self.heap[largest] {\n",
    "            largest = r;\n",
    "        }\n",
    "        \n",
    "        if largest != loc {\n",
    "            // swap with child\n",
    "            let tmp = self.heap[loc];\n",
    "            self.heap[loc] = self.heap[largest];\n",
    "            self.heap[largest] = tmp;\n",
    "            \n",
    "            self.heapify(largest);\n",
    "        }\n",
    "    }\n",
    "}"
   ]
  },
  {
   "cell_type": "markdown",
   "id": "419bcc7d-d305-408e-8d9b-95e740060412",
   "metadata": {},
   "source": [
    "#### Insert and Extract\n"
   ]
  },
  {
   "cell_type": "code",
   "execution_count": 5,
   "id": "a00e4a4e",
   "metadata": {
    "vscode": {
     "languageId": "rust"
    }
   },
   "outputs": [],
   "source": [
    "impl<T:PartialOrd+PartialEq+Copy> MyBinaryHeap<T> {\n",
    "    \n",
    "    fn insert_val(&mut self, val: T) {\n",
    "        self.heap_size += 1;\n",
    "        self.heap.push(val);\n",
    "        let mut i = self.heap_size - 1;\n",
    "\n",
    "        // loop until we reach root and parent is less than current node\n",
    "        while i != 0 && self.heap[Self::parent(i)] < self.heap[i] {\n",
    "\n",
    "            // swap node with parent\n",
    "            let tmp = self.heap[Self::parent(i)];\n",
    "            self.heap[Self::parent(i)] = self.heap[i];\n",
    "            self.heap[i] = tmp;\n",
    "\n",
    "            // update node number\n",
    "            i = Self::parent(i);  // Self is stand-in for data strucutre MyBinaryHeap\n",
    "        }\n",
    "    }\n",
    "    \n",
    "    fn extract_max(&mut self) -> Option<T> {\n",
    "        if self.heap_size == 0 {\n",
    "            return None;\n",
    "        }\n",
    "        \n",
    "        if self.heap_size == 1 {\n",
    "            self.heap_size -= 1;\n",
    "            return Some(self.heap[0]);\n",
    "        }\n",
    "        \n",
    "        let root = self.heap[0];\n",
    "        self.heap[0] = self.heap[self.heap_size - 1]; // copy last element\n",
    "        self.heap_size -= 1;\n",
    "        self.heapify(0);\n",
    "        return Some(root);\n",
    "    }\n",
    "}"
   ]
  },
  {
   "cell_type": "markdown",
   "id": "0c547c88-8b54-4407-a6af-76f3e377ae20",
   "metadata": {},
   "source": [
    "### Let's run the code"
   ]
  },
  {
   "cell_type": "code",
   "execution_count": 8,
   "id": "aec83c96",
   "metadata": {
    "vscode": {
     "languageId": "rust"
    }
   },
   "outputs": [
    {
     "name": "stdout",
     "output_type": "stream",
     "text": [
      "Print the BinaryHeap structure.\n",
      "MyBinaryHeap { heap: [983, 827, 654, 135, 757, -686, 191, -822, -349, 263], heap_size: 10 }\n",
      "\n",
      "Extract max values.\n",
      "983 827 757 654 263 191 135 -349 -686 -822 \n",
      "\n",
      "Print what's left of the BinaryHeap structure\n",
      "MyBinaryHeap { heap: [-822, -822, -686, -822, -349, -686, -822, -822, -349, 263], heap_size: 0 }\n"
     ]
    }
   ],
   "source": [
    ":dep rand=\"0.8.5\"\n",
    "use rand::Rng;\n",
    "\n",
    "let mut h:MyBinaryHeap::<i32> = MyBinaryHeap::new();\n",
    "\n",
    "// Generate 10 random numberrs between -1000 and 1000 and insert\n",
    "for _i in 0..10 {\n",
    "    let x = rand::thread_rng().gen_range(-1000..1000) as i32;\n",
    "    h.insert_val(x);\n",
    "}\n",
    "\n",
    "println!(\"Print the BinaryHeap structure.\");\n",
    "println!(\"{:?}\", h);\n",
    "\n",
    "println!(\"\\nExtract max values.\");\n",
    "let size = h.heap_size;\n",
    "for _j in 0..size {\n",
    "    let z = h.extract_max().unwrap();\n",
    "    print!(\"{} \", z);\n",
    "}\n",
    "\n",
    "println!(\"\\n\\nPrint what's left of the BinaryHeap structure\");\n",
    "println!(\"{:?}\", h);\n"
   ]
  },
  {
   "cell_type": "markdown",
   "id": "d93bfab2-19c0-415d-9b4b-de8318297e76",
   "metadata": {},
   "source": [
    "### What is the property of the list of values we extracted?\n",
    "\n",
    "<br><br><br><br>"
   ]
  },
  {
   "cell_type": "markdown",
   "id": "83aaa908",
   "metadata": {},
   "source": [
    "### Or use the built in one from std::collections"
   ]
  },
  {
   "cell_type": "code",
   "execution_count": 9,
   "id": "80e293e1",
   "metadata": {
    "vscode": {
     "languageId": "rust"
    }
   },
   "outputs": [],
   "source": [
    "use std::collections::BinaryHeap;\n",
    "\n"
   ]
  },
  {
   "cell_type": "markdown",
   "id": "5421d1bd",
   "metadata": {
    "slideshow": {
     "slide_type": "slide"
    }
   },
   "source": [
    "## Application 1: Sorting a.k.a. HeapSort"
   ]
  },
  {
   "cell_type": "markdown",
   "id": "75b74b84",
   "metadata": {
    "slideshow": {
     "slide_type": "fragment"
    }
   },
   "source": [
    "* Put everything into a priority queue\n",
    "* Remove items in order"
   ]
  },
  {
   "cell_type": "code",
   "execution_count": 10,
   "id": "9f08a0f6",
   "metadata": {
    "slideshow": {
     "slide_type": "fragment"
    },
    "vscode": {
     "languageId": "rust"
    }
   },
   "outputs": [],
   "source": [
    "use std::collections::BinaryHeap;\n",
    "\n",
    "fn heap_sort(v:&mut Vec<i32>) {\n",
    "    let mut pq = BinaryHeap::new();\n",
    "    for v in v.iter() {\n",
    "        pq.push(*v);\n",
    "    }\n",
    "\n",
    "    // to sort smallest to largest we iterate in reverse\n",
    "    for i in (0..v.len()).rev() {\n",
    "        v[i] = pq.pop().unwrap();\n",
    "    }\n",
    "}"
   ]
  },
  {
   "cell_type": "code",
   "execution_count": 11,
   "id": "43b397a3",
   "metadata": {
    "slideshow": {
     "slide_type": "fragment"
    },
    "vscode": {
     "languageId": "rust"
    }
   },
   "outputs": [
    {
     "data": {
      "text/plain": [
       "[-11, -9, 7, 11, 12, 14, 23, 37]"
      ]
     },
     "execution_count": 11,
     "metadata": {},
     "output_type": "execute_result"
    }
   ],
   "source": [
    "let mut v = vec![23,12,-11,-9,7,37,14,11];\n",
    "heap_sort(&mut v);\n",
    "v"
   ]
  },
  {
   "cell_type": "markdown",
   "id": "acdaa275",
   "metadata": {
    "slideshow": {
     "slide_type": "fragment"
    }
   },
   "source": [
    "**Total running time:** $O(n \\log n)$ for $n$ numbers"
   ]
  },
  {
   "cell_type": "markdown",
   "id": "1b57b579",
   "metadata": {
    "slideshow": {
     "slide_type": "slide"
    }
   },
   "source": [
    "## More direct, using Rust operations"
   ]
  },
  {
   "cell_type": "code",
   "execution_count": 12,
   "id": "5ec72b30",
   "metadata": {
    "slideshow": {
     "slide_type": ""
    },
    "vscode": {
     "languageId": "rust"
    }
   },
   "outputs": [],
   "source": [
    "fn heap_sort_2(v:Vec<i32>) -> Vec<i32> {\n",
    "   BinaryHeap::from(v).into_sorted_vec()\n",
    "}"
   ]
  },
  {
   "cell_type": "markdown",
   "id": "1b1facce",
   "metadata": {},
   "source": [
    "No extra memory allocated: the initial vector, intermediate binary heap, and final vector all use the same space on the heap\n",
    "* `BinaryHeap::from(v)` consumes `v`\n",
    "* `into_sorted_vec()` consumes the intermediate binary heap"
   ]
  },
  {
   "cell_type": "code",
   "execution_count": 13,
   "id": "ac1b717f",
   "metadata": {
    "slideshow": {
     "slide_type": "fragment"
    },
    "vscode": {
     "languageId": "rust"
    }
   },
   "outputs": [
    {
     "data": {
      "text/plain": [
       "[1, 3, 7, 8, 11, 17]"
      ]
     },
     "execution_count": 13,
     "metadata": {},
     "output_type": "execute_result"
    }
   ],
   "source": [
    "let mut v = vec![7,17,3,1,8,11];\n",
    "heap_sort_2(v)"
   ]
  },
  {
   "cell_type": "markdown",
   "id": "ebabe135",
   "metadata": {
    "slideshow": {
     "slide_type": "fragment"
    }
   },
   "source": [
    "Sorting already provided for vectors (currently use other algorithms): `sort` and `sort_unstable`\n",
    "\n",
    "HeapSort is faster in time, but takes twice the memory."
   ]
  },
  {
   "cell_type": "code",
   "execution_count": 16,
   "id": "4c87355a",
   "metadata": {
    "cell_style": "split",
    "slideshow": {
     "slide_type": "-"
    },
    "tags": [
     "gridwidth-1-2"
    ],
    "vscode": {
     "languageId": "rust"
    }
   },
   "outputs": [
    {
     "data": {
      "text/plain": [
       "[1, 3, 7, 8, 11, 17]"
      ]
     },
     "execution_count": 16,
     "metadata": {},
     "output_type": "execute_result"
    }
   ],
   "source": [
    "let mut v = vec![7,17,3,1,8,11];\n",
    "v.sort();\n",
    "v"
   ]
  },
  {
   "cell_type": "code",
   "execution_count": 17,
   "id": "9b6ab051",
   "metadata": {
    "cell_style": "split",
    "slideshow": {
     "slide_type": "-"
    },
    "tags": [
     "gridwidth-1-2"
    ],
    "vscode": {
     "languageId": "rust"
    }
   },
   "outputs": [
    {
     "data": {
      "text/plain": [
       "[1, 3, 7, 8, 11, 17]"
      ]
     },
     "execution_count": 17,
     "metadata": {},
     "output_type": "execute_result"
    }
   ],
   "source": [
    "let mut v = vec![7,17,3,1,8,11];\n",
    "v.sort_unstable(); // doesn't preserve order for equal elements\n",
    "v"
   ]
  },
  {
   "cell_type": "markdown",
   "id": "51359e5c",
   "metadata": {
    "cell_style": "center",
    "slideshow": {
     "slide_type": "slide"
    }
   },
   "source": [
    "## Application 2: Shortest weighted paths (Dijkstra's algorithm)\n",
    "\n",
    "* **Input graph:** edges with *positive* values, directed or undirected\n",
    "* **Edge** is now (starting node, ending node, cost)\n",
    "* **Goal:** Compute all distances from a given vertex $v$"
   ]
  },
  {
   "cell_type": "markdown",
   "id": "3a60e8f4",
   "metadata": {},
   "source": [
    "### Some quotes from Edjer Dijkstra\n",
    "\n",
    "Pioneer in computer science. Very opinionated.\n",
    "\n",
    "<em> The use of COBOL cripples the mind; its teaching should, therefore, be regarded as a criminal offence. </em>\n",
    " \n",
    "<em> It is practically impossible to teach good programming to students that have had a prior exposure to BASIC: as potential programmers they are mentally mutilated beyond hope of regeneration. </em>\n",
    "\n",
    "<em> One morning I was shopping in Amsterdam with my young fiancée, and tired, we sat down on the café terrace to drink a cup of coffee and I was just thinking... Eventually, that algorithm became to my great amazement, one of the cornerstones of my fame </em>"
   ]
  },
  {
   "cell_type": "markdown",
   "id": "d2adf7db",
   "metadata": {},
   "source": [
    "### Shortest Weighted Path Description\n",
    "\n",
    "1. Mark all nodes unvisited. Create a set of all the unvisited nodes called the unvisited set.\n",
    "\n",
    "2. Assign to every node a tentative distance value:\n",
    "\n",
    "    1. set it to zero for our initial node and to infinity for all other nodes.\n",
    "    2. During the run of the algorithm, the **tentative distance** of a node v is the length of the shortest path discovered so far between the node v and the starting node.\n",
    "    3. Since initially no path is known to any other vertex than the source itself (which is a path of length zero), all other tentative distances are initially set to infinity.\n",
    "    4. Set the initial node as current.\n",
    "\n",
    "4. For the current node, consider all of its unvisited neighbors and calculate their tentative distances through the current node.\n",
    "\n",
    "    1. Compare the newly calculated tentative distance to the one currently assigned to the neighbor and assign it the smaller one.\n",
    "    2. For example, if the current **node A** is marked with a distance of 6, and the edge connecting it with a neighbor **B** has length 2, then the distance to B through A will be 6 + 2 = 8.\n",
    "    3. If **B** was previously marked with a distance greater than 8 then change it to 8. Otherwise, the current value will be kept.\n",
    "\n",
    "6. **When we are done considering all of the unvisited neighbors of the current node, mark the current node as visited and remove it from the unvisited set.**\n",
    "\n",
    "    1. A visited node will never be checked again\n",
    "    2. (this is valid and optimal in connection with the behavior in step 6.: that the next nodes to visit will always be in the order of 'smallest distance from initial node first' so any visits after would have a greater distance).\n",
    "\n",
    "8. If all nodes have been marked visited or if the smallest tentative distance among the nodes in the unvisited set is infinity (when planning a complete traversal; occurs when there is no connection between the initial node and remaining unvisited nodes), then stop. The algorithm has finished.\n",
    "\n",
    "9. Otherwise, **select the unvisited node that is marked with the smallest tentative distance**, set it as the new current node, and go back to step 3.\n"
   ]
  },
  {
   "cell_type": "markdown",
   "id": "a6fb9eba",
   "metadata": {
    "cell_style": "center",
    "slideshow": {
     "slide_type": "fragment"
    }
   },
   "source": [
    "**How it works:**\n",
    "\n",
    "* Greedily take the closest unprocessed vertex\n",
    "  * Its distance must be correct\n",
    "  \n",
    "* Keep updating distances of unprocessed vertices\n"
   ]
  },
  {
   "cell_type": "markdown",
   "id": "55346ca7-e57f-4c4d-ad0c-4f218de7c488",
   "metadata": {},
   "source": [
    "### Example \n",
    "Let's illustrate by way of example.\n",
    "\n",
    "Take a directed graph with weighted edges.\n",
    "\n",
    "Pick 0 as a starting node and assign it's distance as 0.\n",
    "\n",
    "Assign distance of $\\infty$ to all other nodes."
   ]
  },
  {
   "cell_type": "markdown",
   "id": "d36b5ce7-436a-4381-b414-571a53412618",
   "metadata": {},
   "source": [
    "<div align=\"center\">\n",
    "    <img src=\"dijkstra_graph2.png\" width=\"80%\">\n",
    "</div>"
   ]
  },
  {
   "cell_type": "markdown",
   "id": "47a15a9c-a983-44f8-ac02-cd04420341ef",
   "metadata": {},
   "source": [
    "From 0, travel to each connected node and update the tentative distances."
   ]
  },
  {
   "cell_type": "markdown",
   "id": "50e652a8-3b76-42e7-9375-c0fe9ab6cd35",
   "metadata": {},
   "source": [
    "<div align=\"center\">\n",
    "    <img src=\"dijkstra_graph3.png\" width=\"80%\">\n",
    "</div>"
   ]
  },
  {
   "cell_type": "markdown",
   "id": "31ed74f9-b2e8-4da7-90be-467856b1505a",
   "metadata": {},
   "source": [
    "Now go to the \"closest\" node (node 2) and update the distances to its immediate neighbors.\n",
    "\n",
    "Mark node 2 as visited."
   ]
  },
  {
   "cell_type": "markdown",
   "id": "eb1dd87f-1f80-469e-90b4-753499256886",
   "metadata": {},
   "source": [
    "<div align=\"center\">\n",
    "    <img src=\"dijkstra_graph4.png\" width=\"80%\">\n",
    "</div>"
   ]
  },
  {
   "cell_type": "markdown",
   "id": "ca57f81f-b269-4a21-9a3f-197e86f0322a",
   "metadata": {},
   "source": [
    "Randomly pick between nodes 4 and 1 since they both have updated distances 3.\n",
    "\n",
    "Pick node 1.\n",
    "\n",
    "Update the distances to it's nearest neighbors.\n",
    "\n",
    "Mark node 1 as visited."
   ]
  },
  {
   "cell_type": "markdown",
   "id": "c942c9b9-d0e3-4467-8a4f-53b0d2331907",
   "metadata": {},
   "source": [
    "<div align=\"center\">\n",
    "    <img src=\"dijkstra_graph5.png\" width=\"80%\">\n",
    "</div>"
   ]
  },
  {
   "cell_type": "markdown",
   "id": "ce5d69de-0e4d-46c6-acc2-d60010f5e32b",
   "metadata": {},
   "source": [
    "Now, pick the node with the lost distance (node 4) and update the distances to it's nearest neighbors.\n",
    "\n",
    "Distances to nodes 3 and 4 improved."
   ]
  },
  {
   "cell_type": "markdown",
   "id": "f8c44e3a-5a41-47f6-9a2e-8d85428d0a7b",
   "metadata": {},
   "source": [
    "<div align=\"center\">\n",
    "    <img src=\"dijkstra_graph6.png\" width=\"80%\">\n",
    "</div>"
   ]
  },
  {
   "cell_type": "markdown",
   "id": "79a545fb-7ccb-441f-a28a-21fdf8eba165",
   "metadata": {},
   "source": [
    "Then, go to node 3 and update its distance to its nearest neighbor.\n",
    "\n",
    "Nowhere else to go so mark everything as done."
   ]
  },
  {
   "cell_type": "markdown",
   "id": "c09f4cb4-9db7-4440-8b35-9985317ac083",
   "metadata": {},
   "source": [
    "<div align=\"center\">\n",
    "    <img src=\"dijkstra_graph7.png\" width=\"80%\">\n",
    "</div>"
   ]
  },
  {
   "cell_type": "markdown",
   "id": "3c859c99-77d2-46be-91d3-76d21f176af0",
   "metadata": {},
   "source": [
    "### BinaryHeap to the rescue\n",
    "\n",
    "Since we always want to pick the cheapest node, we can use a BinaryHeap to find the next node to check."
   ]
  },
  {
   "cell_type": "markdown",
   "id": "b0940e98",
   "metadata": {
    "slideshow": {
     "slide_type": "slide"
    }
   },
   "source": [
    "## Auxiliary graph definitions"
   ]
  },
  {
   "cell_type": "code",
   "execution_count": 18,
   "id": "7f281c69",
   "metadata": {
    "cell_style": "center",
    "slideshow": {
     "slide_type": ""
    },
    "vscode": {
     "languageId": "rust"
    }
   },
   "outputs": [],
   "source": [
    "use std::collections::BinaryHeap;\n",
    "\n",
    "type Vertex = usize;\n",
    "type Distance = usize;\n",
    "type Edge = (Vertex, Vertex, Distance);  // Updated edge definition.\n",
    "\n",
    "#[derive(Debug,Copy,Clone)]\n",
    "struct Outedge {\n",
    "    vertex: Vertex,\n",
    "    length: Distance,\n",
    "}\n",
    "\n",
    "type AdjacencyList = Vec<Outedge>;   // Adjacency list of Outedge's\n",
    "\n",
    "#[derive(Debug)]\n",
    "struct Graph {\n",
    "    n: usize,\n",
    "    outedges: Vec<AdjacencyList>,\n",
    "}\n",
    "\n",
    "impl Graph {\n",
    "    fn create_directed(n:usize,edges:&Vec<Edge>) -> Graph {\n",
    "        let mut outedges = vec![vec![];n];\n",
    "        for (u, v, length) in edges {\n",
    "            outedges[*u].push(Outedge{vertex: *v, length: *length});  // \n",
    "        }\n",
    "        Graph{n,outedges}\n",
    "    }\n",
    "}"
   ]
  },
  {
   "cell_type": "markdown",
   "id": "42f392fa",
   "metadata": {
    "slideshow": {
     "slide_type": "subslide"
    }
   },
   "source": [
    "## Load our graph"
   ]
  },
  {
   "cell_type": "code",
   "execution_count": 19,
   "id": "5ce5c8f1",
   "metadata": {
    "vscode": {
     "languageId": "rust"
    }
   },
   "outputs": [
    {
     "data": {
      "text/plain": [
       "Graph { n: 6, outedges: [[Outedge { vertex: 1, length: 5 }, Outedge { vertex: 2, length: 2 }], [Outedge { vertex: 3, length: 5 }, Outedge { vertex: 5, length: 11 }], [Outedge { vertex: 1, length: 1 }, Outedge { vertex: 4, length: 1 }], [Outedge { vertex: 5, length: 5 }], [Outedge { vertex: 3, length: 1 }, Outedge { vertex: 5, length: 8 }], []] }"
      ]
     },
     "execution_count": 19,
     "metadata": {},
     "output_type": "execute_result"
    }
   ],
   "source": [
    "let n = 6;\n",
    "let edges: Vec<Edge> = vec![(0,1,5),(0,2,2),(2,1,1),(2,4,1),(1,3,5),(4,3,1),(1,5,11),(3,5,5),(4,5,8)];\n",
    "let graph = Graph::create_directed(n, &edges);\n",
    "graph"
   ]
  },
  {
   "cell_type": "markdown",
   "id": "91dc67da",
   "metadata": {
    "slideshow": {
     "slide_type": "subslide"
    }
   },
   "source": [
    "## Our implementation"
   ]
  },
  {
   "cell_type": "code",
   "execution_count": 21,
   "id": "c255b637",
   "metadata": {
    "vscode": {
     "languageId": "rust"
    }
   },
   "outputs": [],
   "source": [
    "let start: Vertex = 0;\n",
    "\n",
    "let mut distances: Vec<Option<Distance> > = vec![None; graph.n];  // use None instead of infinity\n",
    "distances[start] = Some(0);"
   ]
  },
  {
   "cell_type": "code",
   "execution_count": 22,
   "id": "70f2e1aa",
   "metadata": {
    "vscode": {
     "languageId": "rust"
    }
   },
   "outputs": [],
   "source": [
    "use core::cmp::Reverse;\n",
    "\n",
    "let mut pq = BinaryHeap::<Reverse<(Distance,Vertex)>>::new();  // make a min-heap with Reverse\n",
    "pq.push(Reverse((0,start)));"
   ]
  },
  {
   "cell_type": "code",
   "execution_count": 23,
   "id": "c598548a",
   "metadata": {
    "slideshow": {
     "slide_type": "fragment"
    },
    "vscode": {
     "languageId": "rust"
    }
   },
   "outputs": [],
   "source": [
    "\n",
    "// loop while we can pop -- deconstruct\n",
    "while let Some(Reverse((dist,v))) = pq.pop() { // boolean, not assignment\n",
    "    \n",
    "    for Outedge{vertex,length} in graph.outedges[v].iter() {\n",
    "        \n",
    "        let new_dist = dist + *length;\n",
    "\n",
    "        \n",
    "        let update = match distances[*vertex] { // assignment match\n",
    "            None => {true}\n",
    "            Some(d) => {new_dist < d}\n",
    "        };\n",
    "\n",
    "        // update the distance of the node\n",
    "        if update {\n",
    "            distances[*vertex] = Some(new_dist);  // record the new distance\n",
    "            pq.push(Reverse((new_dist,*vertex)));\n",
    "        }\n",
    "    }\n",
    "};"
   ]
  },
  {
   "cell_type": "code",
   "execution_count": 24,
   "id": "d7240218",
   "metadata": {
    "slideshow": {
     "slide_type": "fragment"
    },
    "vscode": {
     "languageId": "rust"
    }
   },
   "outputs": [
    {
     "data": {
      "text/plain": [
       "[Some(0), Some(3), Some(2), Some(4), Some(3), Some(9)]"
      ]
     },
     "execution_count": 24,
     "metadata": {},
     "output_type": "execute_result"
    }
   ],
   "source": [
    "distances"
   ]
  },
  {
   "cell_type": "markdown",
   "id": "999d0273",
   "metadata": {},
   "source": [
    "### Complexity and properties of Dijkstra's algorithm\n",
    "* $O(V^2)$  -- worst case visit (N-1) nodes on every node\n",
    "* Works just as well with undirected graphs\n",
    "* Doesn't work if path weights can be negative (why?)"
   ]
  },
  {
   "cell_type": "markdown",
   "id": "7f0ae46a",
   "metadata": {},
   "source": [
    "## Traveling salesman\n",
    "\n",
    "On the surface similar to shortest paths\n",
    "\n",
    "**Given an undirected graph with weighted non-negative edges find the shortest path that starts at a specified vertex, traverses every vertex in the graph and returns to the starting point.**\n",
    "\n",
    "Applications:\n",
    "1. Amazon deliver route optimization\n",
    "2. Drilling holes in circuit boards -- minimize stepping motor travel.\n",
    "\n",
    "#### BUT\n",
    "\n",
    "Much harder to solve (will not cover here).  Provably NP-complete (can not be solved in Polynomial time)\n",
    "\n",
    "Held-Karp algorithm one of the best exact algorithms with complexity $O(n^2*2^n)$  \n",
    "Many heuristics that run fast but yield suboptimal results"
   ]
  },
  {
   "cell_type": "markdown",
   "id": "cca9e444",
   "metadata": {},
   "source": [
    "### Greedy Heuristic\n",
    "\n",
    "Mark all nodes as unvisited. \n",
    "Use your starting node and pick the next node with shortest distance and visit it.  DFS using minimum distance criteria until all nodes have been visited.\n",
    "\n",
    "### Minimum Spanning Tree Heuristic\n",
    "\n",
    "https://en.wikipedia.org/wiki/Minimum_spanning_tree  \n",
    "Runs in $O(N)$ time and guaranteed to be no more than 50% worse than the optimal.\n"
   ]
  },
  {
   "cell_type": "markdown",
   "id": "9e9c0cd2",
   "metadata": {
    "slideshow": {
     "slide_type": "slide"
    }
   },
   "source": [
    "## Slices (§4.3)\n",
    "\n",
    "Slice = reference to a contiguous sub-sequence of elements in a collection"
   ]
  },
  {
   "cell_type": "markdown",
   "id": "c587c5b1",
   "metadata": {
    "slideshow": {
     "slide_type": "fragment"
    }
   },
   "source": [
    "Slices of an array:\n",
    " * array of type `[T, _]`\n",
    " * slice of type `&[T]` (immutable) or `&mut [T]` (mutable)"
   ]
  },
  {
   "cell_type": "code",
   "execution_count": 18,
   "id": "e63553e5",
   "metadata": {
    "cell_style": "split",
    "tags": [
     "gridwidth-1-2"
    ],
    "vscode": {
     "languageId": "rust"
    }
   },
   "outputs": [
    {
     "name": "stdout",
     "output_type": "stream",
     "text": [
      "[1, 2]\n",
      "1\n"
     ]
    }
   ],
   "source": [
    "{\n",
    "    // immutable slice of an array\n",
    "    let arr: [i32; 5] = [0,1,2,3,4];\n",
    "    let slice: &[i32] = &arr[1..3];\n",
    "    println!(\"{:?}\",slice);\n",
    "    println!(\"{}\", slice[0]);\n",
    "};"
   ]
  },
  {
   "cell_type": "code",
   "execution_count": 19,
   "id": "87dc8350",
   "metadata": {
    "cell_style": "split",
    "slideshow": {
     "slide_type": "fragment"
    },
    "tags": [
     "gridwidth-1-2"
    ],
    "vscode": {
     "languageId": "rust"
    }
   },
   "outputs": [
    {
     "name": "stdout",
     "output_type": "stream",
     "text": [
      "[2, 3]\n",
      "4\n",
      "[0, 1, 4, 3, 4]\n"
     ]
    }
   ],
   "source": [
    "{\n",
    "    // mutable slice of an array\n",
    "    let mut arr = [0,1,2,3,4];\n",
    "    let mut slice = &mut arr[2..4];\n",
    "    println!(\"{:?}\",slice);\n",
    "    slice[0] = slice[0] * slice[0];\n",
    "    println!(\"{}\", slice[0]);\n",
    "    println!(\"{:?}\",arr);\n",
    "};"
   ]
  },
  {
   "cell_type": "markdown",
   "id": "c7cbed4b",
   "metadata": {
    "slideshow": {
     "slide_type": "subslide"
    }
   },
   "source": [
    "## Slices\n",
    "\n",
    "Work for vectors too!"
   ]
  },
  {
   "cell_type": "code",
   "execution_count": 20,
   "id": "4544646e",
   "metadata": {
    "tags": [
     "gridwidth-1-2"
    ],
    "vscode": {
     "languageId": "rust"
    }
   },
   "outputs": [
    {
     "name": "stdout",
     "output_type": "stream",
     "text": [
      "[1, 2]\n"
     ]
    }
   ],
   "source": [
    "let mut v = vec![0,1,2,3,4];\n",
    "{\n",
    "    let slice = &v[1..3];\n",
    "    println!(\"{:?}\",slice);\n",
    "};"
   ]
  },
  {
   "cell_type": "code",
   "execution_count": 21,
   "id": "e5d83506",
   "metadata": {
    "slideshow": {
     "slide_type": "fragment"
    },
    "tags": [
     "gridwidth-1-2"
    ],
    "vscode": {
     "languageId": "rust"
    }
   },
   "outputs": [
    {
     "data": {
      "text/plain": [
       "[0, 1000, 2000, 3, 4]"
      ]
     },
     "execution_count": 21,
     "metadata": {},
     "output_type": "execute_result"
    }
   ],
   "source": [
    "{\n",
    "    let mut slice = &mut v[1..3];\n",
    "    \n",
    "    // iterating over slices works as well\n",
    "    for x in slice.iter_mut() {\n",
    "        *x *= 1000;\n",
    "    }\n",
    "};\n",
    "v"
   ]
  },
  {
   "cell_type": "markdown",
   "id": "0c4d179d",
   "metadata": {
    "slideshow": {
     "slide_type": "subslide"
    }
   },
   "source": [
    "## Slices are references: all borrowing rules still apply!\n",
    "\n",
    "* At most one mutable reference at a time\n",
    "* No immutable references allowed with a mutable reference\n",
    "* Many immutable references allowed simultaneously"
   ]
  },
  {
   "cell_type": "code",
   "execution_count": null,
   "id": "d34246e3",
   "metadata": {
    "cell_style": "split",
    "scrolled": true,
    "slideshow": {
     "slide_type": "fragment"
    },
    "vscode": {
     "languageId": "rust"
    }
   },
   "outputs": [
    {
     "ename": "Error",
     "evalue": "cannot borrow `v` as immutable because it is also borrowed as mutable",
     "output_type": "error",
     "traceback": [
      "\u001b[31m[E0502] Error:\u001b[0m cannot borrow `v` as immutable because it is also borrowed as mutable",
      "   \u001b[38;5;246m╭\u001b[0m\u001b[38;5;246m─\u001b[0m\u001b[38;5;246m[\u001b[0mcommand_25:1:1\u001b[38;5;246m]\u001b[0m",
      "   \u001b[38;5;246m│\u001b[0m",
      " \u001b[38;5;246m4 │\u001b[0m \u001b[38;5;249m \u001b[0m\u001b[38;5;249m \u001b[0m\u001b[38;5;249m \u001b[0m\u001b[38;5;249m \u001b[0m\u001b[38;5;249ml\u001b[0m\u001b[38;5;249me\u001b[0m\u001b[38;5;249mt\u001b[0m\u001b[38;5;249m \u001b[0m\u001b[38;5;249mr\u001b[0m\u001b[38;5;249me\u001b[0m\u001b[38;5;249mf\u001b[0m\u001b[38;5;249m_\u001b[0m\u001b[38;5;249m1\u001b[0m\u001b[38;5;249m \u001b[0m\u001b[38;5;249m=\u001b[0m\u001b[38;5;249m \u001b[0m\u001b[38;5;249m&\u001b[0m\u001b[38;5;249mm\u001b[0m\u001b[38;5;249mu\u001b[0m\u001b[38;5;249mt\u001b[0m\u001b[38;5;249m \u001b[0m\u001b[38;5;100mv\u001b[0m\u001b[38;5;249m[\u001b[0m\u001b[38;5;249m2\u001b[0m\u001b[38;5;249m.\u001b[0m\u001b[38;5;249m.\u001b[0m\u001b[38;5;249m5\u001b[0m\u001b[38;5;249m]\u001b[0m\u001b[38;5;249m;\u001b[0m",
      " \u001b[38;5;240m  │\u001b[0m                      \u001b[38;5;100m┬\u001b[0m  ",
      " \u001b[38;5;240m  │\u001b[0m                      \u001b[38;5;100m╰\u001b[0m\u001b[38;5;100m─\u001b[0m\u001b[38;5;100m─\u001b[0m mutable borrow occurs here",
      " \u001b[38;5;246m5 │\u001b[0m \u001b[38;5;249m \u001b[0m\u001b[38;5;249m \u001b[0m\u001b[38;5;249m \u001b[0m\u001b[38;5;249m \u001b[0m\u001b[38;5;249ml\u001b[0m\u001b[38;5;249me\u001b[0m\u001b[38;5;249mt\u001b[0m\u001b[38;5;249m \u001b[0m\u001b[38;5;249mr\u001b[0m\u001b[38;5;249me\u001b[0m\u001b[38;5;249mf\u001b[0m\u001b[38;5;249m_\u001b[0m\u001b[38;5;249m2\u001b[0m\u001b[38;5;249m \u001b[0m\u001b[38;5;249m=\u001b[0m\u001b[38;5;249m \u001b[0m\u001b[38;5;249m&\u001b[0m\u001b[38;5;54mv\u001b[0m\u001b[38;5;249m[\u001b[0m\u001b[38;5;249m1\u001b[0m\u001b[38;5;249m.\u001b[0m\u001b[38;5;249m.\u001b[0m\u001b[38;5;249m3\u001b[0m\u001b[38;5;249m]\u001b[0m\u001b[38;5;249m;\u001b[0m",
      " \u001b[38;5;240m  │\u001b[0m                  \u001b[38;5;54m┬\u001b[0m  ",
      " \u001b[38;5;240m  │\u001b[0m                  \u001b[38;5;54m╰\u001b[0m\u001b[38;5;54m─\u001b[0m\u001b[38;5;54m─\u001b[0m immutable borrow occurs here",
      " \u001b[38;5;246m6 │\u001b[0m \u001b[38;5;249m \u001b[0m\u001b[38;5;249m \u001b[0m\u001b[38;5;249m \u001b[0m\u001b[38;5;249m \u001b[0m\u001b[38;5;68mr\u001b[0m\u001b[38;5;68me\u001b[0m\u001b[38;5;68mf\u001b[0m\u001b[38;5;68m_\u001b[0m\u001b[38;5;68m1\u001b[0m\u001b[38;5;68m[\u001b[0m\u001b[38;5;68m0\u001b[0m\u001b[38;5;68m]\u001b[0m\u001b[38;5;249m \u001b[0m\u001b[38;5;249m=\u001b[0m\u001b[38;5;249m \u001b[0m\u001b[38;5;249m7\u001b[0m\u001b[38;5;249m;\u001b[0m",
      " \u001b[38;5;240m  │\u001b[0m     \u001b[38;5;68m─\u001b[0m\u001b[38;5;68m─\u001b[0m\u001b[38;5;68m─\u001b[0m\u001b[38;5;68m─\u001b[0m\u001b[38;5;68m┬\u001b[0m\u001b[38;5;68m─\u001b[0m\u001b[38;5;68m─\u001b[0m\u001b[38;5;68m─\u001b[0m  ",
      " \u001b[38;5;240m  │\u001b[0m         \u001b[38;5;68m╰\u001b[0m\u001b[38;5;68m─\u001b[0m\u001b[38;5;68m─\u001b[0m\u001b[38;5;68m─\u001b[0m\u001b[38;5;68m─\u001b[0m\u001b[38;5;68m─\u001b[0m mutable borrow later used here",
      "\u001b[38;5;246m───╯\u001b[0m"
     ]
    }
   ],
   "source": [
    "// this won't work!\n",
    "let mut v = vec![1,2,3,4,5,6,7];\n",
    "{\n",
    "    let ref_1 = &mut v[2..5];\n",
    "    let ref_2 = &v[1..3];\n",
    "    ref_1[0] = 7;\n",
    "    println!(\"{}\",ref_2[1]);\n",
    "}"
   ]
  },
  {
   "cell_type": "code",
   "execution_count": 23,
   "id": "f8afcd5e",
   "metadata": {
    "cell_style": "split",
    "slideshow": {
     "slide_type": "fragment"
    },
    "vscode": {
     "languageId": "rust"
    }
   },
   "outputs": [
    {
     "name": "stdout",
     "output_type": "stream",
     "text": [
      "7\n"
     ]
    }
   ],
   "source": [
    "// and this reordering will\n",
    "let mut v = vec![1,2,3,4,5,6,7];\n",
    "{\n",
    "    let ref_1 = &mut v[2..5];\n",
    "    ref_1[0] = 7;   // ref_1 can be dropped\n",
    "    let ref_2 = &v[1..3];\n",
    "    println!(\"{}\",ref_2[1]);\n",
    "};"
   ]
  },
  {
   "cell_type": "markdown",
   "id": "ba5132b5",
   "metadata": {
    "slideshow": {
     "slide_type": "subslide"
    }
   },
   "source": [
    "## Memory representation of slices"
   ]
  },
  {
   "cell_type": "markdown",
   "id": "ef04072a",
   "metadata": {
    "cell_style": "split",
    "slideshow": {
     "slide_type": "-"
    }
   },
   "source": [
    "* Pointer (to heap or stack)\n",
    "* Length"
   ]
  },
  {
   "cell_type": "markdown",
   "id": "c155ccfc",
   "metadata": {
    "cell_style": "split",
    "slideshow": {
     "slide_type": "-"
    }
   },
   "source": [
    "**Compared to vector:** no capacity (cannot be extended)"
   ]
  },
  {
   "cell_type": "markdown",
   "id": "b8b1914b",
   "metadata": {
    "slideshow": {
     "slide_type": "-"
    }
   },
   "source": [
    "<div align=\"center\">\n",
    "    <img src=\"rust_container_cheat_sheet_cropped.png\" alt=\"[Cropped Rust container cheat sheet]\" width=\"35%\">\n",
    "</div>\n",
    "\n",
    "<div class=\"small\">\n",
    "<font size=\"2\">Cropped from \"Rust container cheat sheet\" by Raph Levien, Copyright Google Inc. 2017\n",
    "&nbsp;&nbsp;&nbsp;&nbsp;&nbsp;&nbsp;&nbsp;&nbsp;&nbsp;\n",
    "\n",
    "Source: <a href=\"https://docs.google.com/presentation/d/1q-c7UAyrUlM-eZyTo1pd8SZ0qwA_wYxmPZVOQkoDmH4/edit#slide=id.p\">https://docs.google.com/presentation/d/1q-c7UAyrUlM-eZyTo1pd8SZ0qwA_wYxmPZVOQkoDmH4/edit#slide=id.p</a>\n",
    "\n",
    "&nbsp;&nbsp;&nbsp;&nbsp;&nbsp;&nbsp;&nbsp;&nbsp;&nbsp;\n",
    "\n",
    "License: CC BY (<a href=\"https://creativecommons.org/licenses/by/4.0\">https://creativecommons.org/licenses/by/4.0</a>)</font>\n",
    "<br>\n",
    "</div>"
   ]
  },
  {
   "cell_type": "markdown",
   "id": "425d74d1-3651-4ff8-a92e-ed52494aa233",
   "metadata": {
    "vscode": {
     "languageId": "rust"
    }
   },
   "source": [
    "# In-Class Poll\n",
    "\n",
    "https://piazza.com/class/m5qyw6267j12cj/post/339"
   ]
  },
  {
   "cell_type": "code",
   "execution_count": null,
   "id": "9afa2878",
   "metadata": {
    "vscode": {
     "languageId": "rust"
    }
   },
   "outputs": [],
   "source": []
  }
 ],
 "metadata": {
  "celltoolbar": "Slideshow",
  "kernelspec": {
   "display_name": "Rust",
   "language": "rust",
   "name": "rust"
  },
  "language_info": {
   "codemirror_mode": "rust",
   "file_extension": ".rs",
   "mimetype": "text/rust",
   "name": "Rust",
   "pygment_lexer": "rust",
   "version": ""
  },
  "rise": {
   "theme": "beige",
   "transition": "fade"
  }
 },
 "nbformat": 4,
 "nbformat_minor": 5
}
