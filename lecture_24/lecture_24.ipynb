{
 "cells": [
  {
   "cell_type": "markdown",
   "id": "377bd5c9",
   "metadata": {
    "cell_style": "center",
    "slideshow": {
     "slide_type": "slide"
    }
   },
   "source": [
    "<div align=\"center\">\n",
    "    <p><font size=\"6\">DS-210: Programming for Data Science</font></p>\n",
    "    <p><font size=\"6\">Lecture 24</font></p>\n",
    "</div>\n",
    "\n",
    "\n",
    "\n",
    "<div align=\"center\"> \n",
    "    <p><font size=\"5\">Parrallel and Concurrent Programming</font></p>\n",
    "</div>\n",
    "\n",
    "> Note: A1 Lecture 37\n"
   ]
  },
  {
   "cell_type": "markdown",
   "id": "4d61b610",
   "metadata": {},
   "source": [
    "# Please Complete Course Evaluation"
   ]
  },
  {
   "cell_type": "markdown",
   "id": "1dc328b3",
   "metadata": {},
   "source": [
    "<div align=\"center\">\n",
    "<p><font size=\"5\"><a href=\"https://go.blueja.io/GJQISjY0i0-OfHuuJa-Z9Q\">https://go.blueja.io/GJQISjY0i0-OfHuuJa-Z9Q</a></font></p>\n",
    "</div>\n",
    "\n"
   ]
  },
  {
   "cell_type": "markdown",
   "id": "8565bcfb",
   "metadata": {},
   "source": [
    "<div align=\"center\">\n",
    "  <img src=\"./course-eval-qr-code.png\" width=\"80%\">\n",
    "</div>"
   ]
  },
  {
   "cell_type": "markdown",
   "id": "e6f902ef",
   "metadata": {},
   "source": [
    "# In Class Poll\n",
    "\n",
    "https://piazza.com/class/m5qyw6267j12cj/post/502\n"
   ]
  },
  {
   "cell_type": "markdown",
   "id": "3402f983",
   "metadata": {
    "slideshow": {
     "slide_type": "slide"
    }
   },
   "source": [
    "# 1. Styles of Parallel Programming"
   ]
  },
  {
   "cell_type": "markdown",
   "id": "bc8647fd",
   "metadata": {},
   "source": [
    "* Instruction level parallelism (ILP)\n",
    "  * Done at the hardware level.  CPU determines independent instructions and executes them in parallel! Often assisted by the compiler which arranges instruction so contiguous instructions can be executed concurrently.\n",
    "* Single Instruction Multiple Data (SIMD)\n",
    "  * Done at the hardware level. A processor may be able to do, e.g.,  1 Multiply-Accumulate of Int32, but 2 MACs per cycle for Int16 and 4 MACs per cycle of Int8.\n",
    "* Thread level parallelism\n",
    "  * Done at the software level.  Programmer or compiler decomposes program onto mostly independent parts and creates separate threads to execute them.\n",
    "  * **Message passing between threads**\n",
    "    * When coordination or data exchange needs arise in #3 the coordination and or data exchange happens by explicitly sending messages between threads.\n",
    "  * **Shared memory between threads**\n",
    "    * Threads share all the memory and use locks/barriers to coordinate between them (more below).\n",
    "* Pipeline Parallelism\n",
    "  * Output of one thread is input to another\n",
    "* Data parallelism\n",
    "  * Each thread works on a different part of the data\n",
    "* Model parallelism (new)\n",
    "  * Arose due to large ML models where each thread/core has a part of the model and updates its parameters"
   ]
  },
  {
   "cell_type": "markdown",
   "id": "7d4d317c",
   "metadata": {},
   "source": [
    "Rust language supports thread level parallelism primitives.\n",
    "\n",
    "We'll look at three of them ([3.1](#31-using-threads-in-rust), [3.2](#32-using-message-passing), [3.3](#33-shared-memorystate-concurrency)  ) and mention the other briefly ([3.4](#34-asynchronous-programming-async-await-futures-etc))."
   ]
  },
  {
   "cell_type": "markdown",
   "id": "933bd340",
   "metadata": {},
   "source": [
    "## Processor Scaling and Multicore Architectures"
   ]
  },
  {
   "cell_type": "markdown",
   "id": "3e4f4926",
   "metadata": {},
   "source": [
    "In 1965, Gordon Moore, cofounder of Intel, observed that component count of\n",
    "processors was doubling about every 2 years.\n",
    "\n",
    "He predicted that it would continue for at least the next 10 years.\n",
    "\n",
    "This became known as **\"Moore's Law\"**.\n"
   ]
  },
  {
   "cell_type": "markdown",
   "id": "ded77b2f",
   "metadata": {},
   "source": [
    "<div align=\"center\">\n",
    "  <img src=\"./The-Number-of-Components-per-Integrated-Function-Moores-Original-Graph-Moore0.png\" width=\"40%\">\n",
    "</div>"
   ]
  },
  {
   "cell_type": "markdown",
   "id": "bdc01c6c",
   "metadata": {},
   "source": [
    "In fact it has held up for over 50 years."
   ]
  },
  {
   "cell_type": "markdown",
   "id": "465d742c",
   "metadata": {},
   "source": [
    "<div align=\"center\">\n",
    "  <img src=\"./Transistor-Count-over-time.png\" width=\"90%\">\n",
    "</div>"
   ]
  },
  {
   "cell_type": "markdown",
   "id": "e5609d48",
   "metadata": {},
   "source": [
    "The industry did this by shrinking component size, which also allowed to increase the clock rate.\n",
    "\n",
    "Up to a point...\n",
    "\n",
    "Became increasingly difficult to continue to grow the transistor count...\n",
    "\n",
    "And increasingly difficult to improve single core performance.\n",
    "\n",
    "The alternative was to start putting more cores in the processor."
   ]
  },
  {
   "cell_type": "markdown",
   "id": "8e52b7d9",
   "metadata": {},
   "source": [
    "<div align=\"center\">\n",
    "  <img src=\"./CPU_clock_speed_and_Core_count_Graph.png\" width=\"70%\">\n",
    "</div>"
   ]
  },
  {
   "cell_type": "markdown",
   "id": "e0902cde",
   "metadata": {},
   "source": [
    "<div align=\"center\">\n",
    "  <img src=\"./apple-m4.png\" width=\"60%\">\n",
    "</div>"
   ]
  },
  {
   "cell_type": "markdown",
   "id": "790e9263",
   "metadata": {},
   "source": [
    "<div align=\"center\">\n",
    "  <img src=\"./intel-xeon-72-core.png\" width=\"50%\">\n",
    "</div>"
   ]
  },
  {
   "cell_type": "markdown",
   "id": "0d241087",
   "metadata": {},
   "source": [
    "## How much memory in a NVDA A100 GPU?\n",
    "* 80 Gbytes of high bandwidth memory  \n",
    "\n",
    "## What is the size of GPT-4?\n",
    "* 1.7 trillion parameters, at 4 bytes each, 6.8 TBytes\n",
    "* 1.7 trillion parameters, at 2 bytes each, 3.4 TBytes  \n",
    "* So clearly it will not fit in a single GPU memory"
   ]
  },
  {
   "cell_type": "markdown",
   "id": "21d69c86",
   "metadata": {
    "slideshow": {
     "slide_type": "slide"
    }
   },
   "source": [
    "# 2. Limits of Parallel Programming"
   ]
  },
  {
   "cell_type": "markdown",
   "id": "f0404169",
   "metadata": {},
   "source": [
    "Let an algorithm A have a serial S and a parallel P part.  Then the time to execute G is:\n",
    "\n",
    "$$T_A = T_{SA} + T_{PA}$$\n",
    "\n",
    "Running on multiple processors only affects $T_{PA}$\n",
    "\n",
    "$$T_{A}(n) = T_{SA} + \\frac{T_{PA}}{n}$$ \n",
    "\n",
    "which as ${n\\to\\infty}$ becomes $T_{A}(n) = T_{SA}$\n",
    "\n",
    "So the maximum possible speedup for a program is \n",
    "\n",
    "$$\\frac{T_{A}}{T_{SA}}$$"
   ]
  },
  {
   "attachments": {
    "1920px-AmdahlsLaw.svg.png": {
     "image/png": "[encoded data removed]"
    }
   },
   "cell_type": "markdown",
   "id": "2e43a4bf",
   "metadata": {},
   "source": [
    "![1920px-AmdahlsLaw.svg.png](attachment:1920px-AmdahlsLaw.svg.png)"
   ]
  },
  {
   "cell_type": "markdown",
   "id": "39afde3f",
   "metadata": {},
   "source": [
    "# 3. Rust Parallel and Concurrent Programming \n"
   ]
  },
  {
   "cell_type": "markdown",
   "id": "c03eaf30",
   "metadata": {},
   "source": [
    "It helps to look at what constitutes a CPU core and a thread.\n",
    "\n",
    "Intel processors have typically supported 2 threads/core.\n",
    "\n",
    "New Mac processors typically support 1 hardware thread/core.\n",
    "\n",
    "But the OS can support many more SW threads (thousands)."
   ]
  },
  {
   "cell_type": "markdown",
   "id": "7fa6a126",
   "metadata": {},
   "source": [
    "<div align=\"center\">\n",
    "  <img src=\"./Architecture-diagram-of-a-multi-core-CPU-processor.png\" width=\"70%\">\n",
    "</div>"
   ]
  },
  {
   "cell_type": "markdown",
   "id": "fdbed530",
   "metadata": {},
   "source": [
    "Rust libraries provide constructs for different types of parallel/concurrent programming.\n",
    "\n",
    "1. Threads (`spawn`, `join`)\n",
    "2. Message Passing Via Channels (`mpsc`)\n",
    "3. Shared Memory/State Concurrency using Mutexes (`mutex`)\n",
    "4. Asynchronous Programing with `Async, Await, Futures`, ... [Rust Lang §17](https://doc.rust-lang.org/book/ch17-00-async-await.html)"
   ]
  },
  {
   "cell_type": "markdown",
   "id": "f6a718df",
   "metadata": {},
   "source": [
    "### 3.1 Using Threads in Rust"
   ]
  },
  {
   "cell_type": "markdown",
   "id": "5a617832",
   "metadata": {},
   "source": [
    "Examples from [Rust Language Book, §16.1](https://doc.rust-lang.org/book/ch16-01-threads.html#using-threads-to-run-code-simultaneously).\n",
    "\n",
    "Rust let's you manually assign program code to additional threads.\n",
    "\n",
    "Let's \"spawn\" a thread and print a statement 10 times with a 1 millisecond sleep between iterations."
   ]
  },
  {
   "cell_type": "code",
   "execution_count": 6,
   "id": "6a90a4f3",
   "metadata": {
    "vscode": {
     "languageId": "rust"
    }
   },
   "outputs": [
    {
     "name": "stdout",
     "output_type": "stream",
     "text": [
      "hi number 1 from the main thread!\n",
      "hi number 1 from the spawned thread!\n",
      "hi number 2 from the main thread!\n",
      "hi number 2 from the spawned thread!\n",
      "hi number 3 from the main thread!\n",
      "hi number 3 from the spawned thread!\n",
      "hi number 4 from the main thread!\n",
      "hi number 4 from the spawned thread!\n",
      "hi number 5 from the spawned thread!\n"
     ]
    },
    {
     "data": {
      "text/plain": [
       "()"
      ]
     },
     "execution_count": 6,
     "metadata": {},
     "output_type": "execute_result"
    }
   ],
   "source": [
    "use std::thread;\n",
    "use std::time::Duration;\n",
    "\n",
    "{\n",
    "    thread::spawn(|| {\n",
    "        for i in 1..10 {\n",
    "            println!(\"hi number {i} from the spawned thread!\");\n",
    "            thread::sleep(Duration::from_millis(1));\n",
    "        }\n",
    "    });\n",
    "\n",
    "    for i in 1..5 {\n",
    "        println!(\"hi number {i} from the main thread!\");\n",
    "        thread::sleep(Duration::from_millis(1));\n",
    "    }\n",
    "}\n"
   ]
  },
  {
   "cell_type": "markdown",
   "id": "f534466b",
   "metadata": {},
   "source": [
    "Why did we not complete the print loop in the thread?\n",
    "<br><br><br><br>\n",
    "\n",
    "The main thread completed and the program shut down."
   ]
  },
  {
   "cell_type": "markdown",
   "id": "0735915e",
   "metadata": {},
   "source": [
    "We can wait till the other thread completes using join handles."
   ]
  },
  {
   "cell_type": "code",
   "execution_count": 7,
   "id": "37ec4d7c",
   "metadata": {
    "vscode": {
     "languageId": "rust"
    }
   },
   "outputs": [
    {
     "name": "stdout",
     "output_type": "stream",
     "text": [
      "hi number 6 from the spawned thread!\n",
      "hi number 7 from the spawned thread!\n",
      "hi number 8 from the spawned thread!\n",
      "hi number 9 from the spawned thread!\n",
      "hi number 1 from the main thread!\n",
      "hi number 1 from the spawned thread!\n",
      "hi number 2 from the spawned thread!\n",
      "hi number 2 from the main thread!\n",
      "hi number 3 from the spawned thread!\n",
      "hi number 3 from the main thread!\n",
      "hi number 4 from the spawned thread!\n",
      "hi number 4 from the main thread!\n",
      "hi number 5 from the spawned thread!\n",
      "hi number 6 from the spawned thread!\n",
      "hi number 7 from the spawned thread!\n",
      "hi number 8 from the spawned thread!\n",
      "hi number 9 from the spawned thread!\n"
     ]
    },
    {
     "data": {
      "text/plain": [
       "()"
      ]
     },
     "execution_count": 7,
     "metadata": {},
     "output_type": "execute_result"
    }
   ],
   "source": [
    "use std::thread;\n",
    "use std::time::Duration;\n",
    "\n",
    "{\n",
    "    // get a handle to the thread\n",
    "    let handle = thread::spawn(|| {\n",
    "        for i in 1..10 {\n",
    "            println!(\"hi number {i} from the spawned thread!\");\n",
    "            thread::sleep(Duration::from_millis(1));\n",
    "        }\n",
    "    });\n",
    "\n",
    "    for i in 1..5 {\n",
    "        println!(\"hi number {i} from the main thread!\");\n",
    "        thread::sleep(Duration::from_millis(1));\n",
    "    }\n",
    "\n",
    "    handle.join().unwrap();\n",
    "}"
   ]
  },
  {
   "cell_type": "code",
   "execution_count": 9,
   "id": "4f46127a",
   "metadata": {
    "vscode": {
     "languageId": "rust"
    }
   },
   "outputs": [
    {
     "name": "stdout",
     "output_type": "stream",
     "text": [
      "Here's a vector: [1, 2, 3]\n"
     ]
    },
    {
     "data": {
      "text/plain": [
       "()"
      ]
     },
     "execution_count": 9,
     "metadata": {},
     "output_type": "execute_result"
    }
   ],
   "source": [
    "use std::thread;\n",
    "\n",
    "{\n",
    "    let v = vec![1, 2, 3];\n",
    "\n",
    "    let handle = thread::spawn(move || {\n",
    "        println!(\"Here's a vector: {v:?}\");\n",
    "    });\n",
    "\n",
    "    handle.join().unwrap();\n",
    "}"
   ]
  },
  {
   "cell_type": "markdown",
   "id": "24fbe09d",
   "metadata": {},
   "source": [
    "### 3.2 Using Message Passing\n"
   ]
  },
  {
   "cell_type": "markdown",
   "id": "a4616def",
   "metadata": {},
   "source": [
    "Message passing via channels.\n",
    "\n",
    "Each channel has a Transmitter (tx) and Reciever (Rx).\n",
    "\n",
    "`std::sync::mpsc` -- Multiple Producer, Single Consumer"
   ]
  },
  {
   "cell_type": "markdown",
   "id": "b7188443",
   "metadata": {},
   "source": [
    "Example with single producer, single consumer."
   ]
  },
  {
   "cell_type": "code",
   "execution_count": 11,
   "id": "9d12df16",
   "metadata": {
    "vscode": {
     "languageId": "rust"
    }
   },
   "outputs": [
    {
     "name": "stdout",
     "output_type": "stream",
     "text": [
      "Got: hi\n"
     ]
    },
    {
     "data": {
      "text/plain": [
       "()"
      ]
     },
     "execution_count": 11,
     "metadata": {},
     "output_type": "execute_result"
    }
   ],
   "source": [
    "use std::sync::mpsc;\n",
    "use std::thread;\n",
    "\n",
    "{\n",
    "    let (tx, rx) = mpsc::channel();\n",
    "\n",
    "    thread::spawn(move || {\n",
    "        let val = String::from(\"hi\");\n",
    "        tx.send(val).unwrap();\n",
    "    });\n",
    "\n",
    "    let received = rx.recv().unwrap();\n",
    "    println!(\"Got: {received}\");\n",
    "}"
   ]
  },
  {
   "cell_type": "markdown",
   "id": "ed43c0ab",
   "metadata": {},
   "source": [
    "Example with Multiple Producer, SIngle Consumer."
   ]
  },
  {
   "cell_type": "code",
   "execution_count": 12,
   "id": "e4a7dc85",
   "metadata": {
    "vscode": {
     "languageId": "rust"
    }
   },
   "outputs": [
    {
     "name": "stdout",
     "output_type": "stream",
     "text": [
      "Got: hi\n",
      "Got: more\n",
      "Got: from\n",
      "Got: messages\n",
      "Got: the\n",
      "Got: for\n",
      "Got: you\n",
      "Got: thread\n"
     ]
    },
    {
     "data": {
      "text/plain": [
       "()"
      ]
     },
     "execution_count": 12,
     "metadata": {},
     "output_type": "execute_result"
    }
   ],
   "source": [
    "use std::sync::mpsc;\n",
    "use std::thread;\n",
    "use std::time::Duration;\n",
    "\n",
    "{\n",
    "\n",
    "    let (tx, rx) = mpsc::channel();\n",
    "\n",
    "    let tx1 = tx.clone();\n",
    "    thread::spawn(move || {\n",
    "        let vals = vec![\n",
    "            String::from(\"hi\"),\n",
    "            String::from(\"from\"),\n",
    "            String::from(\"the\"),\n",
    "            String::from(\"thread\"),\n",
    "        ];\n",
    "\n",
    "        for val in vals {\n",
    "            tx1.send(val).unwrap();\n",
    "            thread::sleep(Duration::from_secs(1));\n",
    "        }\n",
    "    });\n",
    "\n",
    "    thread::spawn(move || {\n",
    "        let vals = vec![\n",
    "            String::from(\"more\"),\n",
    "            String::from(\"messages\"),\n",
    "            String::from(\"for\"),\n",
    "            String::from(\"you\"),\n",
    "        ];\n",
    "\n",
    "        for val in vals {\n",
    "            tx.send(val).unwrap();\n",
    "            thread::sleep(Duration::from_secs(1));\n",
    "        }\n",
    "    });\n",
    "\n",
    "    for received in rx {\n",
    "        println!(\"Got: {received}\");\n",
    "    }\n",
    "\n",
    "}"
   ]
  },
  {
   "cell_type": "markdown",
   "id": "2e8f4900",
   "metadata": {},
   "source": [
    "### 3.3 Shared Memory/State Concurrency"
   ]
  },
  {
   "cell_type": "code",
   "execution_count": 14,
   "id": "0c3c4bd3",
   "metadata": {
    "vscode": {
     "languageId": "rust"
    }
   },
   "outputs": [
    {
     "name": "stdout",
     "output_type": "stream",
     "text": [
      "m = Mutex { data: 6, poisoned: false, .. }\n"
     ]
    },
    {
     "data": {
      "text/plain": [
       "()"
      ]
     },
     "execution_count": 14,
     "metadata": {},
     "output_type": "execute_result"
    }
   ],
   "source": [
    "use std::sync::Mutex;\n",
    "\n",
    "{\n",
    "    let m = Mutex::new(5);\n",
    "\n",
    "    {\n",
    "        let mut num = m.lock().unwrap();\n",
    "        *num = 6;\n",
    "    }\n",
    "\n",
    "    println!(\"m = {m:?}\");\n",
    "}"
   ]
  },
  {
   "cell_type": "code",
   "execution_count": 15,
   "id": "2d98d1d1",
   "metadata": {
    "vscode": {
     "languageId": "rust"
    }
   },
   "outputs": [
    {
     "name": "stdout",
     "output_type": "stream",
     "text": [
      "Result: 10\n"
     ]
    },
    {
     "data": {
      "text/plain": [
       "()"
      ]
     },
     "execution_count": 15,
     "metadata": {},
     "output_type": "execute_result"
    }
   ],
   "source": [
    "use std::sync::{Arc, Mutex};\n",
    "use std::thread;\n",
    "\n",
    "{\n",
    "    let counter = Arc::new(Mutex::new(0));\n",
    "    let mut handles = vec![];\n",
    "\n",
    "    for _ in 0..10 {\n",
    "        let counter = Arc::clone(&counter);\n",
    "        let handle = thread::spawn(move || {\n",
    "            let mut num = counter.lock().unwrap();\n",
    "\n",
    "            *num += 1;\n",
    "        });\n",
    "        handles.push(handle);\n",
    "    }\n",
    "\n",
    "    for handle in handles {\n",
    "        handle.join().unwrap();\n",
    "    }\n",
    "\n",
    "    println!(\"Result: {}\", *counter.lock().unwrap());\n",
    "}"
   ]
  },
  {
   "cell_type": "markdown",
   "id": "837e07dd",
   "metadata": {},
   "source": [
    "### 3.4 Asynchronous Programming: Async, Await, Futures, etc.\n",
    "\n"
   ]
  },
  {
   "cell_type": "markdown",
   "id": "9c2c4747",
   "metadata": {},
   "source": [
    "_This material is optional._\n",
    "\n",
    "Rust (and other languages) have language constructs that abstracts away the particulars\n",
    "of managing and coordinating threads.\n",
    "\n",
    "You can use Rust's _asynchronous programming_ features\n",
    "(see [Rust Book, Ch. 17](https://doc.rust-lang.org/book/ch17-00-async-await.html))\n",
    "to describe which parts of your program _can execute asynchronously_ and how to \n",
    "express dependency points between them.\n",
    "\n",
    "<div align=\"center\">\n",
    "  <img src=\"./trpl17-03.svg\" width=\"70%\">\n",
    "\n",
    "  <p><em>Mixed parallel and concurrent workflow. Fig 17-3 from the Rust Book.</em></p>\n",
    "</div>\n",
    "\n",
    "From [Futures and the Async Syntax](https://doc.rust-lang.org/book/ch17-01-futures-and-syntax.html):\n",
    "\n",
    "* A future is a value that may not be ready now but will become ready at some point in the future.\n",
    "\n",
    "* You can apply the `async` keyword to blocks and functions to specify that they can be interrupted and resumed. \n",
    "\n",
    "* Within an async block or async function, you can use the `await` keyword to await a _future_ \n",
    "    * that is, wait for it to become ready. \n",
    "\n",
    "* Any point where you await a future within an async block or function is a potential spot for that async block or function to pause and resume. \n",
    "\n",
    "* The process of checking with a future to see if its value is available yet is called polling.\n",
    "\n",
    "See [Rust Book, Ch. 17](https://doc.rust-lang.org/book/ch17-00-async-await.html) to dive deeper."
   ]
  },
  {
   "cell_type": "markdown",
   "id": "67519cbb",
   "metadata": {},
   "source": [
    "# Additional Examples (Optional)\n",
    "\n"
   ]
  },
  {
   "cell_type": "markdown",
   "id": "b67a5e53",
   "metadata": {},
   "source": [
    "## Message passing between threads"
   ]
  },
  {
   "cell_type": "markdown",
   "id": "2db2a46d",
   "metadata": {},
   "source": [
    "\n",
    "- The code demonstrates thread communication using Rust's `mpsc` (multiple producer, single consumer) channels to exchange messages between threads.\n",
    "- Two worker threads are spawned, each with its own pair of channels for bidirectional communication with the main thread.\n",
    "- The main thread coordinates the communication by receiving messages from both worker threads and sending responses back to them.\n",
    "- The code uses thread synchronization primitives like `join()` to ensure proper thread termination and `sleep()` to manage timing.\n"
   ]
  },
  {
   "cell_type": "code",
   "execution_count": 2,
   "id": "01043dfa",
   "metadata": {
    "vscode": {
     "languageId": "rust"
    }
   },
   "outputs": [
    {
     "name": "stdout",
     "output_type": "stream",
     "text": [
      "Main thread got \n",
      "Hello from thread 1\n",
      "Hello from thread 2\n",
      "\n",
      "\n",
      "Thread 1 received Hi from main\n",
      "Thread 2 received Hi from main\n"
     ]
    }
   ],
   "source": [
    "use std::thread;\n",
    "use std::sync::mpsc;\n",
    "use std::time::Duration;\n",
    "\n",
    "\n",
    "fn communicate(id:i32, tx: mpsc::Sender<String>, rx:mpsc::Receiver<&str>) {\n",
    "   let t = format!(\"Hello from thread {}\", id);\n",
    "   tx.send(t).unwrap();\n",
    "   let a:&str = rx.recv().unwrap();\n",
    "   println!(\"Thread {} received {}\", id, a);\n",
    "}\n",
    "\n",
    "fn main_thread() {\n",
    "\n",
    "    let (tx1, rx1) = mpsc::channel();\n",
    "    let (tx2, rx2) = mpsc::channel();\n",
    "    // let handle1 = \n",
    "    let handle1 = thread::spawn(move || {\n",
    "       communicate(1, tx1, rx2);\n",
    "    });\n",
    "\n",
    "    let (tx3, rx3) = mpsc::channel();\n",
    "    let (tx4, rx4) = mpsc::channel();\n",
    "\n",
    "    // let handle2 = \n",
    "    let handle2 = thread::spawn(move || {\n",
    "       communicate(2, tx3, rx4);\n",
    "    });\n",
    "\n",
    "    let a:String = rx1.recv().unwrap();\n",
    "    let b:String = rx3.recv().unwrap();\n",
    "    println!(\"Main thread got \\n{}\\n{}\\n\\n\", a, b);\n",
    "    tx2.send(\"Hi from main\").unwrap();\n",
    "    tx4.send(\"Hi from main\").unwrap();\n",
    "    thread::sleep(Duration::from_millis(5000));\n",
    "    handle1.join().unwrap();\n",
    "    handle2.join().unwrap();\n",
    "}\n",
    "\n",
    "main_thread();"
   ]
  },
  {
   "cell_type": "markdown",
   "id": "3a9685ee",
   "metadata": {},
   "source": [
    "## More example programs\n",
    "\n",
    "Summarized by ChatGPT."
   ]
  },
  {
   "cell_type": "markdown",
   "id": "2a14ade7",
   "metadata": {},
   "source": [
    "\n",
    "[parallel_write](../lecture_24_optional_code/parallel_write/)\n",
    "\n",
    "- Creates a configurable square matrix (default 64x64) and processes it in parallel using Rust's Rayon library\n",
    "- Divides the matrix into chunks based on the number of specified threads, with each thread processing its assigned chunk\n",
    "- Uses Rayon's `scope` and `spawn` functions for parallel execution, where each thread writes its ID number to its assigned matrix section\n",
    "- Includes options to configure matrix size, number of threads, and display the matrix before/after processing\n",
    "\n",
    "\n",
    "[parallel_locks](../lecture_24_optional_code/parallel_locks/)\n",
    "\n",
    "- The program demonstrates parallel matrix processing with configurable parameters (matrix size, thread count, and synchronization method) using command-line arguments\n",
    "- It implements three different synchronization approaches:\n",
    "  - Exclusive locking using `Mutex`\n",
    "  - Reader-only access using `RwLock` read locks\n",
    "  - Writer access using `RwLock` write locks\n",
    "- The program uses Rust's concurrency primitives:\n",
    "  - `Arc` for thread-safe shared ownership\n",
    "  - `Mutex` and `RwLock` for synchronization\n",
    "  - `thread::spawn` for parallel execution\n",
    "- Each thread processes a segment of the matrix, calculates a sum, and the program measures and reports the total execution time\n",
    "\n",
    "\n",
    "[parallel_gaussian](../lecture_24_optional_code/parallel_gaussian/)\n",
    "\n",
    "- Implements parallel Gaussian elimination using Rayon's parallel iterators (`par_iter_mut`) for both matrix initialization and row elimination operations\n",
    "- Uses thread-safe random number generation with ChaCha8Rng, where each thread gets its own seeded RNG instance\n",
    "- Allows configuration of matrix size and number of threads via command-line arguments\n",
    "- Includes performance timing measurements and optional matrix display functionality\n",
    "\n",
    "\n",
    "[parallel_game_of_life](../lecture_24_optional_code/parallel_game_of_life/)\n",
    "\n",
    "- Implements Conway's Game of Life simulation with parallel processing using Rayon's concurrency primitives (`scope` and `spawn`)\n",
    "- Divides the board into chunks that are processed concurrently by multiple threads, with each thread handling a specific section of the board\n",
    "- Uses command-line arguments to control simulation parameters (board size, thread count, display options, iteration count, and delay between iterations)\n",
    "- Includes a glider pattern initialization and visual rendering of the board state, with timing measurements for performance analysis\n",
    "\n"
   ]
  }
 ],
 "metadata": {
  "celltoolbar": "Slideshow",
  "kernelspec": {
   "display_name": "Rust",
   "language": "rust",
   "name": "rust"
  },
  "language_info": {
   "codemirror_mode": "rust",
   "file_extension": ".rs",
   "mimetype": "text/rust",
   "name": "Rust",
   "pygment_lexer": "rust",
   "version": ""
  },
  "rise": {
   "enable_chalkboard": true,
   "theme": "serif"
  }
 },
 "nbformat": 4,
 "nbformat_minor": 5
}
