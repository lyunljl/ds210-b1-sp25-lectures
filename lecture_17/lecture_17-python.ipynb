{
 "cells": [
  {
   "cell_type": "markdown",
   "id": "0dfe21df",
   "metadata": {
    "slideshow": {
     "slide_type": "slide"
    }
   },
   "source": [
    "## Quick look at a 20th century programming language"
   ]
  },
  {
   "cell_type": "markdown",
   "id": "20da6740",
   "metadata": {},
   "source": [
    "Generators:\n",
    "* they can be defined like functions\n",
    "* use `yield` instead of `return` to provide a sequence of values"
   ]
  },
  {
   "cell_type": "code",
   "execution_count": 1,
   "id": "660e8e6d",
   "metadata": {
    "slideshow": {
     "slide_type": "fragment"
    }
   },
   "outputs": [],
   "source": [
    "def fib(n):\n",
    "    current, next = 0, 1\n",
    "    i = 0\n",
    "    while i < n:\n",
    "        yield current\n",
    "        i = i + 1\n",
    "        current, next = next, current + next"
   ]
  },
  {
   "cell_type": "code",
   "execution_count": 5,
   "id": "c8e7b5be",
   "metadata": {
    "slideshow": {
     "slide_type": "fragment"
    }
   },
   "outputs": [
    {
     "name": "stdout",
     "output_type": "stream",
     "text": [
      "<generator object fib at 0x107350740>\n",
      "0 1 1 2 3 5 8 13 21 34 "
     ]
    }
   ],
   "source": [
    "z = fib(1000)\n",
    "print(z)\n",
    "\n",
    "\n",
    "# output Fibonacci numbers up to 1000\n",
    "for x in fib(10):\n",
    "    print(x,end=\" \")"
   ]
  },
  {
   "cell_type": "markdown",
   "id": "9817d08e",
   "metadata": {
    "slideshow": {
     "slide_type": "subslide"
    }
   },
   "source": [
    "## Example: `map` in Python"
   ]
  },
  {
   "cell_type": "code",
   "execution_count": 7,
   "id": "0e2efe85",
   "metadata": {
    "slideshow": {
     "slide_type": ""
    }
   },
   "outputs": [
    {
     "name": "stdout",
     "output_type": "stream",
     "text": [
      "range(0, 100)\n",
      "<map object at 0x107346bb0>\n",
      "0 1 1 4 9 25 64 169 441 1156 "
     ]
    }
   ],
   "source": [
    "# * using `map` in Python\n",
    "# * output squares of the same Fibonacci numbers\n",
    "y = range(0,100)\n",
    "print(y)\n",
    "z = map(lambda x: x*x, fib(10))\n",
    "print(z)\n",
    "for x in z:\n",
    "    print(x,end=\" \")"
   ]
  },
  {
   "cell_type": "markdown",
   "id": "0325a002",
   "metadata": {
    "slideshow": {
     "slide_type": "fragment"
    }
   },
   "source": [
    "\n",
    "Compute the maximum of the squares of the same Fibonacci numbers modulo 789:"
   ]
  },
  {
   "cell_type": "code",
   "execution_count": 9,
   "id": "88a3cac5",
   "metadata": {
    "slideshow": {
     "slide_type": ""
    }
   },
   "outputs": [
    {
     "data": {
      "text/plain": [
       "441"
      ]
     },
     "execution_count": 9,
     "metadata": {},
     "output_type": "execute_result"
    }
   ],
   "source": [
    "max(map(lambda x: (x*x) % 789, fib(10)))"
   ]
  },
  {
   "cell_type": "markdown",
   "id": "561469a0",
   "metadata": {
    "slideshow": {
     "slide_type": "subslide"
    }
   },
   "source": [
    "## List comprehensions and generator expressions"
   ]
  },
  {
   "cell_type": "markdown",
   "id": "58676df6",
   "metadata": {
    "slideshow": {
     "slide_type": ""
    }
   },
   "source": [
    " * more Pythonic\n",
    " * often a great replacement for functional primitives"
   ]
  },
  {
   "cell_type": "code",
   "execution_count": 10,
   "id": "b4ce2c4c",
   "metadata": {
    "slideshow": {
     "slide_type": "fragment"
    }
   },
   "outputs": [
    {
     "data": {
      "text/plain": [
       "784"
      ]
     },
     "execution_count": 10,
     "metadata": {},
     "output_type": "execute_result"
    }
   ],
   "source": [
    "max((x*x) % 789 for x in fib(100))"
   ]
  },
  {
   "cell_type": "markdown",
   "id": "067f4d17",
   "metadata": {
    "slideshow": {
     "slide_type": "fragment"
    }
   },
   "source": [
    "<br>\n",
    "\n",
    "* Good overview of some of these topics: https://realpython.com/python-map-function/"
   ]
  },
  {
   "cell_type": "markdown",
   "id": "54ef0ccc",
   "metadata": {},
   "source": [
    "<br>\n",
    "\n",
    "* An attempt at eliminating functional features from Python 3.0 was not successful :-) https://www.artima.com/weblogs/viewpost.jsp?thread=98196"
   ]
  }
 ],
 "metadata": {
  "celltoolbar": "Slideshow",
  "kernelspec": {
   "display_name": "Python 3 (ipykernel)",
   "language": "python",
   "name": "python3"
  },
  "language_info": {
   "codemirror_mode": {
    "name": "ipython",
    "version": 3
   },
   "file_extension": ".py",
   "mimetype": "text/x-python",
   "name": "python",
   "nbconvert_exporter": "python",
   "pygments_lexer": "ipython3",
   "version": "3.9.6"
  },
  "rise": {
   "enable_chalkboard": false,
   "theme": "serif",
   "transition": "fade"
  }
 },
 "nbformat": 4,
 "nbformat_minor": 5
}
