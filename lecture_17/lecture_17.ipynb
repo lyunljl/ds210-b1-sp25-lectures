{
 "cells": [
  {
   "cell_type": "markdown",
   "id": "47a2df37",
   "metadata": {
    "slideshow": {
     "slide_type": "slide"
    }
   },
   "source": [
    "<div align=\"center\">\n",
    "    <h1>DS-210: Programming for Data Science</h1>\n",
    "    <h1>Lecture 17</h1>\n",
    "</div>\n",
    "\n",
    "1. Iterators\n",
    "2. Iterator + closure magic\n",
    "3. How about Python?\n",
    "4. Error handling in Rust\n",
    "5. Binary search "
   ]
  },
  {
   "cell_type": "markdown",
   "id": "4ca27cd1",
   "metadata": {
    "slideshow": {
     "slide_type": "slide"
    }
   },
   "source": [
    "## Iterators\n",
    "\n",
    "> The iterator pattern allows you to perform some task on a sequence of items in turn. \n",
    "> \n",
    "> An iterator is responsible for the logic of iterating over each item and determining when the sequence has finished.\n",
    "\n",
    "* provide values one by one\n",
    "* method `next` provides next one\n",
    "* `Some(value)` or `None` if no more available"
   ]
  },
  {
   "cell_type": "markdown",
   "id": "8ed477c4",
   "metadata": {
    "slideshow": {
     "slide_type": "fragment"
    }
   },
   "source": [
    "Some ranges are iterators:\n",
    "* `1..100`\n",
    "* `0..`\n",
    "\n",
    "First value has to be known (so `..` and `..123` are not)"
   ]
  },
  {
   "cell_type": "code",
   "execution_count": 2,
   "id": "84683371",
   "metadata": {
    "slideshow": {
     "slide_type": "fragment"
    }
   },
   "outputs": [],
   "source": [
    "let mut iter = 1..3; // must be mutable"
   ]
  },
  {
   "cell_type": "code",
   "execution_count": 3,
   "id": "b75d529f",
   "metadata": {},
   "outputs": [
    {
     "name": "stdout",
     "output_type": "stream",
     "text": [
      "Some(1)\n",
      "Some(2)\n",
      "None\n",
      "None\n",
      "None\n"
     ]
    }
   ],
   "source": [
    "println!(\"{:?}\", iter.next());\n",
    "println!(\"{:?}\", iter.next());\n",
    "println!(\"{:?}\", iter.next());\n",
    "println!(\"{:?}\", iter.next());\n",
    "println!(\"{:?}\", iter.next());"
   ]
  },
  {
   "cell_type": "markdown",
   "id": "b4790f33",
   "metadata": {},
   "source": [
    "* What about a range between floats?"
   ]
  },
  {
   "cell_type": "code",
   "execution_count": 4,
   "id": "69e767ee",
   "metadata": {},
   "outputs": [
    {
     "ename": "Error",
     "evalue": "the method `next` exists for struct `Range<{float}>`, but its trait bounds were not satisfied",
     "output_type": "error",
     "traceback": [
      "\u001b[31m[E0599] Error:\u001b[0m the method `next` exists for struct `Range<{float}>`, but its trait bounds were not satisfied",
      "   \u001b[38;5;246m╭\u001b[0m\u001b[38;5;246m─\u001b[0m\u001b[38;5;246m[\u001b[0mcommand_4:1:1\u001b[38;5;246m]\u001b[0m",
      "   \u001b[38;5;246m│\u001b[0m",
      " \u001b[38;5;246m2 │\u001b[0m \u001b[38;5;249mp\u001b[0m\u001b[38;5;249mr\u001b[0m\u001b[38;5;249mi\u001b[0m\u001b[38;5;249mn\u001b[0m\u001b[38;5;249mt\u001b[0m\u001b[38;5;249ml\u001b[0m\u001b[38;5;249mn\u001b[0m\u001b[38;5;249m!\u001b[0m\u001b[38;5;249m(\u001b[0m\u001b[38;5;249m\"\u001b[0m\u001b[38;5;249m{\u001b[0m\u001b[38;5;249m:\u001b[0m\u001b[38;5;249m?\u001b[0m\u001b[38;5;249m}\u001b[0m\u001b[38;5;249m\"\u001b[0m\u001b[38;5;249m,\u001b[0m\u001b[38;5;249m \u001b[0m\u001b[38;5;249mi\u001b[0m\u001b[38;5;249mt\u001b[0m\u001b[38;5;249me\u001b[0m\u001b[38;5;249mr\u001b[0m\u001b[38;5;249m.\u001b[0m\u001b[38;5;54mn\u001b[0m\u001b[38;5;54me\u001b[0m\u001b[38;5;54mx\u001b[0m\u001b[38;5;54mt\u001b[0m\u001b[38;5;249m(\u001b[0m\u001b[38;5;249m)\u001b[0m\u001b[38;5;249m)\u001b[0m\u001b[38;5;249m;\u001b[0m",
      " \u001b[38;5;240m  │\u001b[0m                       \u001b[38;5;54m─\u001b[0m\u001b[38;5;54m─\u001b[0m\u001b[38;5;54m┬\u001b[0m\u001b[38;5;54m─\u001b[0m  ",
      " \u001b[38;5;240m  │\u001b[0m                         \u001b[38;5;54m╰\u001b[0m\u001b[38;5;54m─\u001b[0m\u001b[38;5;54m─\u001b[0m\u001b[38;5;54m─\u001b[0m method cannot be called on `Range<{float}>` due to unsatisfied trait bounds",
      "\u001b[38;5;246m───╯\u001b[0m"
     ]
    },
    {
     "ename": "Error",
     "evalue": "the method `next` exists for struct `Range<{float}>`, but its trait bounds were not satisfied",
     "output_type": "error",
     "traceback": [
      "\u001b[31m[E0599] Error:\u001b[0m the method `next` exists for struct `Range<{float}>`, but its trait bounds were not satisfied",
      "   \u001b[38;5;246m╭\u001b[0m\u001b[38;5;246m─\u001b[0m\u001b[38;5;246m[\u001b[0mcommand_4:1:1\u001b[38;5;246m]\u001b[0m",
      "   \u001b[38;5;246m│\u001b[0m",
      " \u001b[38;5;246m3 │\u001b[0m \u001b[38;5;249mp\u001b[0m\u001b[38;5;249mr\u001b[0m\u001b[38;5;249mi\u001b[0m\u001b[38;5;249mn\u001b[0m\u001b[38;5;249mt\u001b[0m\u001b[38;5;249ml\u001b[0m\u001b[38;5;249mn\u001b[0m\u001b[38;5;249m!\u001b[0m\u001b[38;5;249m(\u001b[0m\u001b[38;5;249m\"\u001b[0m\u001b[38;5;249m{\u001b[0m\u001b[38;5;249m:\u001b[0m\u001b[38;5;249m?\u001b[0m\u001b[38;5;249m}\u001b[0m\u001b[38;5;249m\"\u001b[0m\u001b[38;5;249m,\u001b[0m\u001b[38;5;249m \u001b[0m\u001b[38;5;249mi\u001b[0m\u001b[38;5;249mt\u001b[0m\u001b[38;5;249me\u001b[0m\u001b[38;5;249mr\u001b[0m\u001b[38;5;249m.\u001b[0m\u001b[38;5;54mn\u001b[0m\u001b[38;5;54me\u001b[0m\u001b[38;5;54mx\u001b[0m\u001b[38;5;54mt\u001b[0m\u001b[38;5;249m(\u001b[0m\u001b[38;5;249m)\u001b[0m\u001b[38;5;249m)\u001b[0m\u001b[38;5;249m;\u001b[0m",
      " \u001b[38;5;240m  │\u001b[0m                       \u001b[38;5;54m─\u001b[0m\u001b[38;5;54m─\u001b[0m\u001b[38;5;54m┬\u001b[0m\u001b[38;5;54m─\u001b[0m  ",
      " \u001b[38;5;240m  │\u001b[0m                         \u001b[38;5;54m╰\u001b[0m\u001b[38;5;54m─\u001b[0m\u001b[38;5;54m─\u001b[0m\u001b[38;5;54m─\u001b[0m method cannot be called on `Range<{float}>` due to unsatisfied trait bounds",
      "\u001b[38;5;246m───╯\u001b[0m"
     ]
    },
    {
     "ename": "Error",
     "evalue": "the method `next` exists for struct `Range<{float}>`, but its trait bounds were not satisfied",
     "output_type": "error",
     "traceback": [
      "\u001b[31m[E0599] Error:\u001b[0m the method `next` exists for struct `Range<{float}>`, but its trait bounds were not satisfied",
      "   \u001b[38;5;246m╭\u001b[0m\u001b[38;5;246m─\u001b[0m\u001b[38;5;246m[\u001b[0mcommand_4:1:1\u001b[38;5;246m]\u001b[0m",
      "   \u001b[38;5;246m│\u001b[0m",
      " \u001b[38;5;246m4 │\u001b[0m \u001b[38;5;249mp\u001b[0m\u001b[38;5;249mr\u001b[0m\u001b[38;5;249mi\u001b[0m\u001b[38;5;249mn\u001b[0m\u001b[38;5;249mt\u001b[0m\u001b[38;5;249ml\u001b[0m\u001b[38;5;249mn\u001b[0m\u001b[38;5;249m!\u001b[0m\u001b[38;5;249m(\u001b[0m\u001b[38;5;249m\"\u001b[0m\u001b[38;5;249m{\u001b[0m\u001b[38;5;249m:\u001b[0m\u001b[38;5;249m?\u001b[0m\u001b[38;5;249m}\u001b[0m\u001b[38;5;249m\"\u001b[0m\u001b[38;5;249m,\u001b[0m\u001b[38;5;249m \u001b[0m\u001b[38;5;249mi\u001b[0m\u001b[38;5;249mt\u001b[0m\u001b[38;5;249me\u001b[0m\u001b[38;5;249mr\u001b[0m\u001b[38;5;249m.\u001b[0m\u001b[38;5;54mn\u001b[0m\u001b[38;5;54me\u001b[0m\u001b[38;5;54mx\u001b[0m\u001b[38;5;54mt\u001b[0m\u001b[38;5;249m(\u001b[0m\u001b[38;5;249m)\u001b[0m\u001b[38;5;249m)\u001b[0m\u001b[38;5;249m;\u001b[0m",
      " \u001b[38;5;240m  │\u001b[0m                       \u001b[38;5;54m─\u001b[0m\u001b[38;5;54m─\u001b[0m\u001b[38;5;54m┬\u001b[0m\u001b[38;5;54m─\u001b[0m  ",
      " \u001b[38;5;240m  │\u001b[0m                         \u001b[38;5;54m╰\u001b[0m\u001b[38;5;54m─\u001b[0m\u001b[38;5;54m─\u001b[0m\u001b[38;5;54m─\u001b[0m method cannot be called on `Range<{float}>` due to unsatisfied trait bounds",
      "\u001b[38;5;246m───╯\u001b[0m"
     ]
    },
    {
     "ename": "Error",
     "evalue": "the method `next` exists for struct `Range<{float}>`, but its trait bounds were not satisfied",
     "output_type": "error",
     "traceback": [
      "\u001b[31m[E0599] Error:\u001b[0m the method `next` exists for struct `Range<{float}>`, but its trait bounds were not satisfied",
      "   \u001b[38;5;246m╭\u001b[0m\u001b[38;5;246m─\u001b[0m\u001b[38;5;246m[\u001b[0mcommand_4:1:1\u001b[38;5;246m]\u001b[0m",
      "   \u001b[38;5;246m│\u001b[0m",
      " \u001b[38;5;246m5 │\u001b[0m \u001b[38;5;249mp\u001b[0m\u001b[38;5;249mr\u001b[0m\u001b[38;5;249mi\u001b[0m\u001b[38;5;249mn\u001b[0m\u001b[38;5;249mt\u001b[0m\u001b[38;5;249ml\u001b[0m\u001b[38;5;249mn\u001b[0m\u001b[38;5;249m!\u001b[0m\u001b[38;5;249m(\u001b[0m\u001b[38;5;249m\"\u001b[0m\u001b[38;5;249m{\u001b[0m\u001b[38;5;249m:\u001b[0m\u001b[38;5;249m?\u001b[0m\u001b[38;5;249m}\u001b[0m\u001b[38;5;249m\"\u001b[0m\u001b[38;5;249m,\u001b[0m\u001b[38;5;249m \u001b[0m\u001b[38;5;249mi\u001b[0m\u001b[38;5;249mt\u001b[0m\u001b[38;5;249me\u001b[0m\u001b[38;5;249mr\u001b[0m\u001b[38;5;249m.\u001b[0m\u001b[38;5;54mn\u001b[0m\u001b[38;5;54me\u001b[0m\u001b[38;5;54mx\u001b[0m\u001b[38;5;54mt\u001b[0m\u001b[38;5;249m(\u001b[0m\u001b[38;5;249m)\u001b[0m\u001b[38;5;249m)\u001b[0m\u001b[38;5;249m;\u001b[0m",
      " \u001b[38;5;240m  │\u001b[0m                       \u001b[38;5;54m─\u001b[0m\u001b[38;5;54m─\u001b[0m\u001b[38;5;54m┬\u001b[0m\u001b[38;5;54m─\u001b[0m  ",
      " \u001b[38;5;240m  │\u001b[0m                         \u001b[38;5;54m╰\u001b[0m\u001b[38;5;54m─\u001b[0m\u001b[38;5;54m─\u001b[0m\u001b[38;5;54m─\u001b[0m method cannot be called on `Range<{float}>` due to unsatisfied trait bounds",
      "\u001b[38;5;246m───╯\u001b[0m"
     ]
    },
    {
     "ename": "Error",
     "evalue": "the method `next` exists for struct `Range<{float}>`, but its trait bounds were not satisfied",
     "output_type": "error",
     "traceback": [
      "\u001b[31m[E0599] Error:\u001b[0m the method `next` exists for struct `Range<{float}>`, but its trait bounds were not satisfied",
      "   \u001b[38;5;246m╭\u001b[0m\u001b[38;5;246m─\u001b[0m\u001b[38;5;246m[\u001b[0mcommand_4:1:1\u001b[38;5;246m]\u001b[0m",
      "   \u001b[38;5;246m│\u001b[0m",
      " \u001b[38;5;246m6 │\u001b[0m \u001b[38;5;249mp\u001b[0m\u001b[38;5;249mr\u001b[0m\u001b[38;5;249mi\u001b[0m\u001b[38;5;249mn\u001b[0m\u001b[38;5;249mt\u001b[0m\u001b[38;5;249ml\u001b[0m\u001b[38;5;249mn\u001b[0m\u001b[38;5;249m!\u001b[0m\u001b[38;5;249m(\u001b[0m\u001b[38;5;249m\"\u001b[0m\u001b[38;5;249m{\u001b[0m\u001b[38;5;249m:\u001b[0m\u001b[38;5;249m?\u001b[0m\u001b[38;5;249m}\u001b[0m\u001b[38;5;249m\"\u001b[0m\u001b[38;5;249m,\u001b[0m\u001b[38;5;249m \u001b[0m\u001b[38;5;249mi\u001b[0m\u001b[38;5;249mt\u001b[0m\u001b[38;5;249me\u001b[0m\u001b[38;5;249mr\u001b[0m\u001b[38;5;249m.\u001b[0m\u001b[38;5;54mn\u001b[0m\u001b[38;5;54me\u001b[0m\u001b[38;5;54mx\u001b[0m\u001b[38;5;54mt\u001b[0m\u001b[38;5;249m(\u001b[0m\u001b[38;5;249m)\u001b[0m\u001b[38;5;249m)\u001b[0m\u001b[38;5;249m;\u001b[0m",
      " \u001b[38;5;240m  │\u001b[0m                       \u001b[38;5;54m─\u001b[0m\u001b[38;5;54m─\u001b[0m\u001b[38;5;54m┬\u001b[0m\u001b[38;5;54m─\u001b[0m  ",
      " \u001b[38;5;240m  │\u001b[0m                         \u001b[38;5;54m╰\u001b[0m\u001b[38;5;54m─\u001b[0m\u001b[38;5;54m─\u001b[0m\u001b[38;5;54m─\u001b[0m method cannot be called on `Range<{float}>` due to unsatisfied trait bounds",
      "\u001b[38;5;246m───╯\u001b[0m"
     ]
    }
   ],
   "source": [
    "let mut iter = 1.0..3.0; // must be mutable\n",
    "println!(\"{:?}\", iter.next());\n",
    "println!(\"{:?}\", iter.next());\n",
    "println!(\"{:?}\", iter.next());\n",
    "println!(\"{:?}\", iter.next());\n",
    "println!(\"{:?}\", iter.next());"
   ]
  },
  {
   "cell_type": "markdown",
   "id": "f4f37744",
   "metadata": {},
   "source": [
    "* In Rust, ranges over floating-point numbers (f64) are not directly iterable. \n",
    "\n",
    "* This is because floating-point numbers have inherent precision issues that make it difficult to guarantee exact iteration steps."
   ]
  },
  {
   "cell_type": "markdown",
   "id": "6fd08b7f",
   "metadata": {},
   "source": [
    "* But this works."
   ]
  },
  {
   "cell_type": "code",
   "execution_count": 5,
   "id": "8fcdb1e8",
   "metadata": {},
   "outputs": [
    {
     "name": "stdout",
     "output_type": "stream",
     "text": [
      "Some('a')\n",
      "Some('b')\n",
      "None\n",
      "None\n",
      "None\n"
     ]
    }
   ],
   "source": [
    "let mut iter = 'a'..'c'; // must be mutable\n",
    "println!(\"{:?}\", iter.next());\n",
    "println!(\"{:?}\", iter.next());\n",
    "println!(\"{:?}\", iter.next());\n",
    "println!(\"{:?}\", iter.next());\n",
    "println!(\"{:?}\", iter.next());"
   ]
  },
  {
   "cell_type": "markdown",
   "id": "b769a965",
   "metadata": {
    "slideshow": {
     "slide_type": "slide"
    }
   },
   "source": [
    "## Iterator from scratch: implement trait `Iterator`"
   ]
  },
  {
   "cell_type": "code",
   "execution_count": 6,
   "id": "d9890df5",
   "metadata": {},
   "outputs": [],
   "source": [
    "struct Fib {\n",
    "    current: u128,\n",
    "    next: u128,\n",
    "}\n",
    "\n",
    "impl Fib {\n",
    "    fn new() -> Fib {\n",
    "        Fib{current: 0, next: 1}\n",
    "    }\n",
    "}\n",
    "\n",
    "impl Iterator for Fib {\n",
    "    type Item = u128;\n",
    "    \n",
    "    fn next(&mut self) -> Option<Self::Item> {\n",
    "        let now = self.current;\n",
    "        self.current = self.next;\n",
    "        self.next = now + self.current;\n",
    "        Some(now)\n",
    "    }\n",
    "}"
   ]
  },
  {
   "cell_type": "code",
   "execution_count": 9,
   "id": "75aceeed",
   "metadata": {
    "slideshow": {
     "slide_type": "fragment"
    }
   },
   "outputs": [
    {
     "name": "stdout",
     "output_type": "stream",
     "text": [
      "0 1 1 2 3 5 8 13 21 34 \n"
     ]
    }
   ],
   "source": [
    "let mut fib = Fib::new();\n",
    "for _ in 0..10 {\n",
    "    print!(\"{:?} \",fib.next().unwrap());\n",
    "}\n",
    "println!();"
   ]
  },
  {
   "cell_type": "markdown",
   "id": "1bff6b3b",
   "metadata": {
    "slideshow": {
     "slide_type": "slide"
    }
   },
   "source": [
    "## Iterators come with many useful methods implemented"
   ]
  },
  {
   "cell_type": "markdown",
   "id": "d364eee1",
   "metadata": {},
   "source": [
    "Pay special attention to what the output is.\n",
    "\n",
    "* `next()` -> Get the next element of an iterator (None if there isn't one)\n",
    "* `collect()` -> Put iterator elements in collection\n",
    "* `take(N)` -> take first N elements of an iterator and _turn them into an iterator_\n",
    "* `cycle()` -> Turn a finite iterator into an infinite one that repeats itself\n",
    "* `for_each(||, )` -> Apply a closure to each element in the iterator\n",
    "* `filter(||, )` -> _Create new iterator_ from old one for elements where closure is true\n",
    "* `map(||, )` -> _Create new iterator_ by applying closure to input iterator\n",
    "* `any(||, )` -> Return true if closure is true for any element of the iterator\n",
    "* `fold(a, |a, |, )` -> Initialize expression to a, execute closure on iterator and accumulate into a\n",
    "* `reduce(|x, y|, )` -> Similar to fold but the initial value is the first element in the iterator\n",
    "* `zip(iterator)` -> Zip two iterators together to turn them into pairs\n",
    "\n",
    "If the method returns an iterator, you have to do something with the iterator."
   ]
  },
  {
   "cell_type": "code",
   "execution_count": 27,
   "id": "b63cb0cc",
   "metadata": {},
   "outputs": [
    {
     "data": {
      "text/plain": [
       "()"
      ]
     },
     "execution_count": 27,
     "metadata": {},
     "output_type": "execute_result"
    }
   ],
   "source": [
    "// this does nothing!\n",
    "{\n",
    "    let v1 = vec![1, 2, 3];\n",
    "\n",
    "    let v1_iter = v1.iter();\n",
    "}\n"
   ]
  },
  {
   "cell_type": "markdown",
   "id": "29cc7def",
   "metadata": {},
   "source": [
    "`collect` can be used to put elements of an iterator into a vector:"
   ]
  },
  {
   "cell_type": "code",
   "execution_count": 10,
   "id": "c084e66e",
   "metadata": {},
   "outputs": [
    {
     "data": {
      "text/plain": [
       "[1, 2, 3, 4, 5, 6, 7, 8, 9, 10]"
      ]
     },
     "execution_count": 10,
     "metadata": {},
     "output_type": "execute_result"
    }
   ],
   "source": [
    "let small_numbers : Vec<_> = (1..=10).collect();\n",
    "small_numbers"
   ]
  },
  {
   "cell_type": "markdown",
   "id": "643ada96",
   "metadata": {
    "slideshow": {
     "slide_type": "fragment"
    }
   },
   "source": [
    "`take` turns an iterator into an iterator that provides at most a specific number of elements"
   ]
  },
  {
   "cell_type": "code",
   "execution_count": 3,
   "id": "6bf61046",
   "metadata": {},
   "outputs": [
    {
     "data": {
      "text/plain": [
       "[1, 2, 3, 4, 5, 6, 7, 8, 9, 10, 11, 12, 13, 14, 15, 16, 17, 18, 19, 20, 21, 22, 23, 24, 25, 26, 27, 28, 29, 30]"
      ]
     },
     "execution_count": 3,
     "metadata": {},
     "output_type": "execute_result"
    }
   ],
   "source": [
    "let small_numbers : Vec<_> = (1..).take(30).collect();\n",
    "small_numbers"
   ]
  },
  {
   "cell_type": "markdown",
   "id": "1d05755b",
   "metadata": {
    "slideshow": {
     "slide_type": "fragment"
    }
   },
   "source": [
    "`cycle` creates an iterator that repeats itself forever:"
   ]
  },
  {
   "cell_type": "code",
   "execution_count": 13,
   "id": "1eb79f51",
   "metadata": {},
   "outputs": [
    {
     "data": {
      "text/plain": [
       "[1, 2, 3, 1, 2, 3, 1, 2, 3, 1, 2, 3, 1, 2, 3, 1, 2, 3, 1, 2]"
      ]
     },
     "execution_count": 13,
     "metadata": {},
     "output_type": "execute_result"
    }
   ],
   "source": [
    "let cycle : Vec<_> = (1..4).cycle().take(20).collect();\n",
    "cycle"
   ]
  },
  {
   "cell_type": "markdown",
   "id": "c79d7889",
   "metadata": {
    "slideshow": {
     "slide_type": "slide"
    }
   },
   "source": [
    "## Iterator + closure magic\n",
    "* Operate on entire sequence, sometimes lazily by creating a new iterator\n",
    "* Allows for concise expression of many concepts"
   ]
  },
  {
   "cell_type": "markdown",
   "id": "143769fc",
   "metadata": {
    "slideshow": {
     "slide_type": "fragment"
    }
   },
   "source": [
    "`for_each` applies a function to each element"
   ]
  },
  {
   "cell_type": "code",
   "execution_count": 60,
   "id": "0816ff93",
   "metadata": {},
   "outputs": [
    {
     "name": "stdout",
     "output_type": "stream",
     "text": [
      "0\n",
      "1\n",
      "2\n",
      "3\n",
      "4\n"
     ]
    }
   ],
   "source": [
    "(0..5).for_each(|x| println!(\"{}\",x));"
   ]
  },
  {
   "cell_type": "markdown",
   "id": "d4c08b67",
   "metadata": {
    "slideshow": {
     "slide_type": "fragment"
    }
   },
   "source": [
    "`filter` creates a new iterator that has elements for which the given function is true"
   ]
  },
  {
   "cell_type": "code",
   "execution_count": 61,
   "id": "af37c4a3",
   "metadata": {},
   "outputs": [
    {
     "data": {
      "text/plain": [
       "[1, 2, 4, 5, 7, 8]"
      ]
     },
     "execution_count": 61,
     "metadata": {},
     "output_type": "execute_result"
    }
   ],
   "source": [
    "let not_divisible_by_3 : Vec<_> = (0..10).filter(|x| x % 3 != 0).collect();\n",
    "not_divisible_by_3"
   ]
  },
  {
   "cell_type": "markdown",
   "id": "7572ec5f",
   "metadata": {
    "slideshow": {
     "slide_type": "slide"
    }
   },
   "source": [
    "## Iterator + closure magic\n",
    "* Operate on entire sequence, sometimes lazily by creating a new iterator\n",
    "* Allows for concise expression of many concepts"
   ]
  },
  {
   "cell_type": "markdown",
   "id": "4898bc9c",
   "metadata": {},
   "source": [
    "\n",
    "`map` creates a new iterator in which values are processed by a function"
   ]
  },
  {
   "cell_type": "code",
   "execution_count": 14,
   "id": "55fbf5f2",
   "metadata": {},
   "outputs": [
    {
     "data": {
      "text/plain": [
       "[0, 1, 1, 4, 9, 25, 64, 169, 441, 1156]"
      ]
     },
     "execution_count": 14,
     "metadata": {},
     "output_type": "execute_result"
    }
   ],
   "source": [
    "let fibonacci_squared : Vec<_> = Fib::new().take(10).map(|x| x*x).collect();\n",
    "fibonacci_squared"
   ]
  },
  {
   "cell_type": "markdown",
   "id": "f1806047",
   "metadata": {
    "slideshow": {
     "slide_type": "slide"
    }
   },
   "source": [
    "## Primes\n",
    "`any` is true if the passed function is true on some element"
   ]
  },
  {
   "cell_type": "markdown",
   "id": "eeeac430",
   "metadata": {
    "slideshow": {
     "slide_type": ""
    }
   },
   "source": [
    "Is a number prime?"
   ]
  },
  {
   "cell_type": "code",
   "execution_count": 4,
   "id": "05170f20",
   "metadata": {},
   "outputs": [],
   "source": [
    "fn is_prime(k:u32) -> bool {\n",
    "    !(2..k).any(|x| k % x == 0)\n",
    "}"
   ]
  },
  {
   "cell_type": "code",
   "execution_count": 7,
   "id": "369cb60e",
   "metadata": {
    "slideshow": {
     "slide_type": "fragment"
    }
   },
   "outputs": [
    {
     "data": {
      "text/plain": [
       "false"
      ]
     },
     "execution_count": 7,
     "metadata": {},
     "output_type": "execute_result"
    }
   ],
   "source": [
    "is_prime(33)"
   ]
  },
  {
   "cell_type": "markdown",
   "id": "02448350",
   "metadata": {
    "slideshow": {
     "slide_type": "fragment"
    }
   },
   "source": [
    "Create infinite iterator over primes:"
   ]
  },
  {
   "cell_type": "code",
   "execution_count": 10,
   "id": "061d64a5",
   "metadata": {
    "slideshow": {
     "slide_type": ""
    }
   },
   "outputs": [
    {
     "data": {
      "text/plain": [
       "[2, 3, 5, 7, 11, 13, 17, 19, 23, 29, 31, 37, 41, 43, 47, 53, 59, 61, 67, 71]"
      ]
     },
     "execution_count": 10,
     "metadata": {},
     "output_type": "execute_result"
    }
   ],
   "source": [
    "{\n",
    "  let primes = (2..).filter(|k| !(2..*k).any(|x| k % x == 0));  // create a new iterator\n",
    "  let v : Vec<_> = primes.take(20).collect();\n",
    "  v\n",
    "}"
   ]
  },
  {
   "cell_type": "markdown",
   "id": "35f03ab9",
   "metadata": {
    "slideshow": {
     "slide_type": "slide"
    }
   },
   "source": [
    "\n",
    "## Functional programming classics: `fold` and `reduce`\n",
    "\n",
    "* `fold(a, |a, |, )` -> Initialize expression to a, execute closure on iterator and accumulate into a\n",
    "\n",
    "<br>\n",
    "\n",
    "`iterator.fold(init,f)` equivalent to\n",
    "\n",
    "```rust\n",
    "let mut accumulator = init;\n",
    "while let Some(x) = iterator.next() {\n",
    "    accumulator = f(accumulator,x);\n",
    "}\n",
    "accumulator\n",
    "```"
   ]
  },
  {
   "cell_type": "markdown",
   "id": "74a03b7b",
   "metadata": {
    "cell_style": "center",
    "slideshow": {
     "slide_type": "fragment"
    }
   },
   "source": [
    "**Example:** compute $\\sum_{i=1}^{10} x^2$"
   ]
  },
  {
   "cell_type": "code",
   "execution_count": 11,
   "id": "41e7bb09",
   "metadata": {
    "cell_style": "center"
   },
   "outputs": [
    {
     "data": {
      "text/plain": [
       "30"
      ]
     },
     "execution_count": 11,
     "metadata": {},
     "output_type": "execute_result"
    }
   ],
   "source": [
    "let sum_of_squares: i32 = (1..=4).fold(0,|a,x| a + x * x);\n",
    "sum_of_squares"
   ]
  },
  {
   "cell_type": "code",
   "execution_count": 12,
   "id": "01aea22c",
   "metadata": {
    "slideshow": {
     "slide_type": "fragment"
    }
   },
   "outputs": [
    {
     "data": {
      "text/plain": [
       "385"
      ]
     },
     "execution_count": 12,
     "metadata": {},
     "output_type": "execute_result"
    }
   ],
   "source": [
    "// Another approach: using `sum` (which can be implemented using `fold`)\n",
    "let sum_of_squares: i32 = (1..=10).map(|x| x * x).sum();\n",
    "sum_of_squares"
   ]
  },
  {
   "cell_type": "markdown",
   "id": "460613c6",
   "metadata": {
    "slideshow": {
     "slide_type": "subslide"
    }
   },
   "source": [
    "## Functional programming classics: `fold` and `reduce`\n",
    "\n",
    "* `reduce(|x, y|, )` -> Similar to fold but the initial value is the first element in the iterator\n",
    "\n",
    "<br>\n",
    "\n",
    "`iterator.reduce(f)` equivalent to\n",
    "```rust\n",
    "if let Some(x) = iterator.next() {\n",
    "    let mut accumulator = x;\n",
    "    while let Some(y) = iterator.next() { accumulator = f(accumulator,y}\n",
    "    Some(accumulator)\n",
    "} else {\n",
    "    None\n",
    "}\n",
    "```\n",
    "\n",
    "Differences from `fold`:\n",
    "* no default value for an empty sequence \n",
    "* output must be the same type as elements of input sequence\n",
    "* output for length–one sequence equals the only element in the sequence"
   ]
  },
  {
   "cell_type": "markdown",
   "id": "e55ea1d7",
   "metadata": {
    "slideshow": {
     "slide_type": ""
    }
   },
   "source": [
    "**Example:** computing the maximum number in $\\{x^2 \\bmod 7853: x \\in [1,...,123] \\}$"
   ]
  },
  {
   "cell_type": "code",
   "execution_count": 24,
   "id": "0cbddb11",
   "metadata": {},
   "outputs": [
    {
     "data": {
      "text/plain": [
       "7744"
      ]
     },
     "execution_count": 24,
     "metadata": {},
     "output_type": "execute_result"
    }
   ],
   "source": [
    "(1..=123).map(|x| (x*x) % 7853).reduce(|x,y| x.max(y)).unwrap()"
   ]
  },
  {
   "cell_type": "code",
   "execution_count": 25,
   "id": "e702844d",
   "metadata": {
    "slideshow": {
     "slide_type": "fragment"
    }
   },
   "outputs": [
    {
     "data": {
      "text/plain": [
       "7744"
      ]
     },
     "execution_count": 25,
     "metadata": {},
     "output_type": "execute_result"
    }
   ],
   "source": [
    "// in this case one can use the builtin `max` method (which can be implemented, using `fold`)\n",
    "(1..=123).map(|x| (x*x) % 7853).max().unwrap()"
   ]
  },
  {
   "cell_type": "markdown",
   "id": "40fa14be",
   "metadata": {
    "slideshow": {
     "slide_type": "slide"
    }
   },
   "source": [
    "## Combining two iterators: `zip`\n",
    "\n",
    "* Returns an iterator of pairs\n",
    "* The length is the minimum of the lengths"
   ]
  },
  {
   "cell_type": "code",
   "execution_count": 26,
   "id": "47557b29",
   "metadata": {
    "slideshow": {
     "slide_type": "fragment"
    }
   },
   "outputs": [
    {
     "data": {
      "text/plain": [
       "[(1, 11), (2, 12), (3, 13), (4, 14), (5, 15), (6, 16), (7, 17), (8, 18), (9, 19)]"
      ]
     },
     "execution_count": 26,
     "metadata": {},
     "output_type": "execute_result"
    }
   ],
   "source": [
    "let v: Vec<_>= (1..10).zip(11..20).collect();\n",
    "v"
   ]
  },
  {
   "cell_type": "markdown",
   "id": "3ddbd6fd",
   "metadata": {
    "slideshow": {
     "slide_type": "fragment"
    }
   },
   "source": [
    "Inner product of two vectors:"
   ]
  },
  {
   "cell_type": "code",
   "execution_count": 27,
   "id": "32784358",
   "metadata": {},
   "outputs": [
    {
     "data": {
      "text/plain": [
       "-5.72"
      ]
     },
     "execution_count": 27,
     "metadata": {},
     "output_type": "execute_result"
    }
   ],
   "source": [
    "let x: Vec<f64> = vec![1.1,  2.2, -1.3,  2.2];\n",
    "let y: Vec<f64>  = vec![2.7, -1.2, -1.1, -3.4];\n",
    "let inner_product: f64 = x.iter().zip(y.iter()).map(|(a,b)| a * b).sum();\n",
    "inner_product"
   ]
  },
  {
   "cell_type": "markdown",
   "id": "08cb3ed8",
   "metadata": {
    "slideshow": {
     "slide_type": "slide"
    }
   },
   "source": [
    "\n",
    "# <font color=\"red\">How about Python?</font>"
   ]
  },
  {
   "cell_type": "markdown",
   "id": "c4995d8e",
   "metadata": {
    "slideshow": {
     "slide_type": "slide"
    }
   },
   "source": [
    "<div align=\"center\">\n",
    "    <h1>[Switch to the Python notebook]</h1>\n",
    "</div>"
   ]
  },
  {
   "cell_type": "markdown",
   "id": "3982f900",
   "metadata": {
    "slideshow": {
     "slide_type": "slide"
    }
   },
   "source": [
    "## Error handling in Rust\n",
    "\n",
    "Two basic options:\n",
    "\n",
    "* terminate when an error occurs: macro `panic!(...)`\n",
    "\n",
    "* pass information about an error: enum `Result<T,E>`"
   ]
  },
  {
   "cell_type": "markdown",
   "id": "3b153d57",
   "metadata": {
    "slideshow": {
     "slide_type": "subslide"
    }
   },
   "source": [
    "## Macro `panic!(...)`\n",
    "\n",
    "* Use for unrecoverable errors\n",
    "* Terminates the application"
   ]
  },
  {
   "cell_type": "code",
   "execution_count": 28,
   "id": "1d0a9b40",
   "metadata": {
    "slideshow": {
     "slide_type": "fragment"
    }
   },
   "outputs": [],
   "source": [
    "fn divide(a:u32, b:u32) -> u32 {\n",
    "    if b == 0 {\n",
    "        panic!(\"I'm sorry, Dave. I'm afraid I can't do that.\");\n",
    "    }\n",
    "    a/b\n",
    "}"
   ]
  },
  {
   "cell_type": "code",
   "execution_count": 29,
   "id": "fc4ccd8a",
   "metadata": {
    "cell_style": "split",
    "slideshow": {
     "slide_type": "fragment"
    }
   },
   "outputs": [
    {
     "data": {
      "text/plain": [
       "2"
      ]
     },
     "execution_count": 29,
     "metadata": {},
     "output_type": "execute_result"
    }
   ],
   "source": [
    "divide(20,7)"
   ]
  },
  {
   "cell_type": "code",
   "execution_count": 30,
   "id": "2101ffb7",
   "metadata": {
    "cell_style": "split",
    "slideshow": {
     "slide_type": "fragment"
    }
   },
   "outputs": [
    {
     "name": "stderr",
     "output_type": "stream",
     "text": [
      "thread '<unnamed>' panicked at src/lib.rs:28:9:\n",
      "I'm sorry, Dave. I'm afraid I can't do that.\n",
      "stack backtrace:\n",
      "   0: _rust_begin_unwind\n",
      "   1: core::panicking::panic_fmt\n",
      "   2: <unknown>\n",
      "   3: evcxr::runtime::Runtime::run_loop\n",
      "   4: evcxr::runtime::runtime_hook\n",
      "   5: evcxr_jupyter::main\n",
      "note: Some details are omitted, run with `RUST_BACKTRACE=full` for a verbose backtrace.\n"
     ]
    }
   ],
   "source": [
    "divide(20,0)"
   ]
  },
  {
   "cell_type": "markdown",
   "id": "6d5b9893",
   "metadata": {
    "slideshow": {
     "slide_type": "subslide"
    }
   },
   "source": [
    "## Enum `Result<T,E>`"
   ]
  },
  {
   "cell_type": "markdown",
   "id": "aff7a8c4",
   "metadata": {
    "cell_style": "split",
    "slideshow": {
     "slide_type": ""
    }
   },
   "source": [
    "```rust\n",
    "enum Result<T,E> {\n",
    "    Ok(T),\n",
    "    Err(E),\n",
    "}\n",
    "```"
   ]
  },
  {
   "cell_type": "markdown",
   "id": "6c9a93c5",
   "metadata": {
    "cell_style": "split",
    "slideshow": {
     "slide_type": ""
    }
   },
   "source": [
    "Functions can use it to\n",
    "* return a result\n",
    "* or information about an encountered error"
   ]
  },
  {
   "cell_type": "code",
   "execution_count": 13,
   "id": "0b427141",
   "metadata": {
    "slideshow": {
     "slide_type": "fragment"
    }
   },
   "outputs": [],
   "source": [
    "fn divide(a:u32, b:u32) -> Result<u32, String> {\n",
    "    if b != 0 {\n",
    "        Ok(a / b)\n",
    "    } else {\n",
    "        let str = format!(\"Division by zero {} {}\", a, b);\n",
    "        Err(str)\n",
    "    }\n",
    "}"
   ]
  },
  {
   "cell_type": "code",
   "execution_count": 14,
   "id": "2d208094",
   "metadata": {
    "cell_style": "split",
    "slideshow": {
     "slide_type": "fragment"
    }
   },
   "outputs": [
    {
     "data": {
      "text/plain": [
       "Ok(2)"
      ]
     },
     "execution_count": 14,
     "metadata": {},
     "output_type": "execute_result"
    }
   ],
   "source": [
    "divide(20,7)"
   ]
  },
  {
   "cell_type": "code",
   "execution_count": 15,
   "id": "61a108c7",
   "metadata": {
    "cell_style": "split"
   },
   "outputs": [
    {
     "data": {
      "text/plain": [
       "Err(\"Division by zero 20 0\")"
      ]
     },
     "execution_count": 15,
     "metadata": {},
     "output_type": "execute_result"
    }
   ],
   "source": [
    "divide(20,0)"
   ]
  },
  {
   "cell_type": "markdown",
   "id": "3e6a8856",
   "metadata": {
    "slideshow": {
     "slide_type": "fragment"
    }
   },
   "source": [
    "* Useful when the error best handled somewhere else\n",
    "* **Example:** input/output subroutines in the standard library"
   ]
  },
  {
   "cell_type": "markdown",
   "id": "12660432",
   "metadata": {
    "slideshow": {
     "slide_type": "slide"
    }
   },
   "source": [
    "## Common pattern: propagating errors\n",
    "\n",
    "* We are interested in the positive outcome: `t` in `Ok(t)`\n",
    "* But if an error occurs, we want to propagate it\n",
    "* This can be handled using `match` statements"
   ]
  },
  {
   "cell_type": "code",
   "execution_count": 16,
   "id": "10aa19e1",
   "metadata": {},
   "outputs": [],
   "source": [
    "// compute a/b + c/d\n",
    "fn calculate(a:u32, b:u32, c:u32, d:u32) -> Result<u32, String> {\n",
    "    let first = match divide(a,b) {\n",
    "        Ok(t) => t,\n",
    "        Err(e) => return Err(e),\n",
    "    };\n",
    "    let second = match divide(c,d) {\n",
    "        Ok(t) => t,\n",
    "        Err(e) => return Err(e),\n",
    "    };    \n",
    "    Ok(first + second)\n",
    "}\n"
   ]
  },
  {
   "cell_type": "code",
   "execution_count": 17,
   "id": "58d9d6fb",
   "metadata": {
    "cell_style": "split",
    "slideshow": {
     "slide_type": "fragment"
    }
   },
   "outputs": [
    {
     "data": {
      "text/plain": [
       "Ok(10)"
      ]
     },
     "execution_count": 17,
     "metadata": {},
     "output_type": "execute_result"
    }
   ],
   "source": [
    "calculate(16,4,18,3)"
   ]
  },
  {
   "cell_type": "code",
   "execution_count": 18,
   "id": "c9a821b4",
   "metadata": {
    "cell_style": "split"
   },
   "outputs": [
    {
     "data": {
      "text/plain": [
       "Err(\"Division by zero 16 0\")"
      ]
     },
     "execution_count": 18,
     "metadata": {},
     "output_type": "execute_result"
    }
   ],
   "source": [
    "calculate(16,0,18,3)"
   ]
  },
  {
   "cell_type": "markdown",
   "id": "fd3c5672",
   "metadata": {
    "slideshow": {
     "slide_type": "subslide"
    }
   },
   "source": [
    "## The question mark shortcut\n",
    "\n",
    "* Place `?` after an expression that returns `Result<T,E>`\n",
    "\n",
    "* This will:\n",
    "  * give the content of `Ok(t)`\n",
    "  * or return `Err(e)` from the encompassing function"
   ]
  },
  {
   "cell_type": "code",
   "execution_count": 19,
   "id": "85d11022",
   "metadata": {
    "slideshow": {
     "slide_type": "fragment"
    }
   },
   "outputs": [],
   "source": [
    "// compute a/b + c/d\n",
    "fn calculate(a:u32, b:u32, c:u32, d:u32) -> Result<u32, String> {\n",
    "    Ok(divide(a,b)? + divide(c,d)?)\n",
    "}"
   ]
  },
  {
   "cell_type": "code",
   "execution_count": 20,
   "id": "770ff586",
   "metadata": {
    "cell_style": "split",
    "slideshow": {
     "slide_type": "fragment"
    }
   },
   "outputs": [
    {
     "data": {
      "text/plain": [
       "Ok(10)"
      ]
     },
     "execution_count": 20,
     "metadata": {},
     "output_type": "execute_result"
    }
   ],
   "source": [
    "calculate(16,4,18,3)"
   ]
  },
  {
   "cell_type": "code",
   "execution_count": 21,
   "id": "7b85ba83",
   "metadata": {
    "cell_style": "split"
   },
   "outputs": [
    {
     "data": {
      "text/plain": [
       "Err(\"Division by zero 16 0\")"
      ]
     },
     "execution_count": 21,
     "metadata": {},
     "output_type": "execute_result"
    }
   ],
   "source": [
    "calculate(16,0,18,3)"
   ]
  },
  {
   "cell_type": "markdown",
   "id": "4591da71",
   "metadata": {},
   "source": [
    "### Error handling summary\n",
    "\n",
    "* In some languages we have the pattern try/catch or throw/catch or try/except (C++, Java, Javascript, Python).\n",
    "* Rust does not have something equivalent\n",
    "\n",
    "The Rust pattern for error handling is the following:\n",
    "```\n",
    "    let do_steps = || -> Result<(), MyError> {\n",
    "        do_step_1()?;\n",
    "        do_step_2()?;\n",
    "        do_step_3()?;\n",
    "        Ok(())\n",
    "    };\n",
    "\n",
    "    if let Err(_err) = do_steps() {\n",
    "        println!(\"Failed to perform necessary steps\");\n",
    "    }\n",
    "```\n",
    "\n",
    "* Create a closure with the code you want to guard.  Use the ? shorthand inside the closure for anything that can return an Error.  Use a match or if let statement to catch the error."
   ]
  },
  {
   "cell_type": "markdown",
   "id": "08968932",
   "metadata": {
    "slideshow": {
     "slide_type": "slide"
    }
   },
   "source": [
    "## Binary search\n",
    "\n",
    "**Input:** sorted array/vector `v`\n",
    "\n",
    "**Task:** find if a specific element `x` appears in it"
   ]
  },
  {
   "cell_type": "markdown",
   "id": "cd8ef752",
   "metadata": {
    "slideshow": {
     "slide_type": "fragment"
    }
   },
   "source": [
    "General strategy:\n",
    "* maintain range `left..right` within `v` of where `x` could be\n",
    "* repeat:\n",
    "   * ask about the middle of the range\n",
    "   * if `x` found, celebrate\n",
    "   * if the middle element ${}<{}$ `x`, narrow search to the right half\n",
    "   * otherwise, narrow search to the left half"
   ]
  },
  {
   "cell_type": "markdown",
   "id": "be188b2d",
   "metadata": {
    "slideshow": {
     "slide_type": "subslide"
    }
   },
   "source": [
    "## Let's implement it!"
   ]
  },
  {
   "cell_type": "markdown",
   "id": "dbe105ca",
   "metadata": {
    "slideshow": {
     "slide_type": "fragment"
    }
   },
   "source": [
    "**Might be harder than you think!**\n",
    "\n",
    "Jon Bentley in \"Programming pearls\" claims that only 10% programmers succeed, even given unlimited amount of time"
   ]
  },
  {
   "cell_type": "markdown",
   "id": "c9f822d3",
   "metadata": {
    "slideshow": {
     "slide_type": "fragment"
    }
   },
   "source": [
    "**Ad:**\n",
    " * Great book if you are interested in programming and basic algorithms\n",
    " * First edition mostly uses pseudocode\n",
    " * 2nd edition focused on C++ (probably still great)\n",
    " * very cheap if you want to buy second hand (< \\$10)\n",
    " "
   ]
  },
  {
   "cell_type": "markdown",
   "id": "ee76c103",
   "metadata": {
    "slideshow": {
     "slide_type": "subslide"
    }
   },
   "source": [
    "## Let's implement it!"
   ]
  },
  {
   "cell_type": "code",
   "execution_count": 40,
   "id": "325edab9",
   "metadata": {
    "slideshow": {
     "slide_type": "-"
    }
   },
   "outputs": [],
   "source": [
    "fn present(mut data:&[i32], element:i32) -> Option<(usize,i32)> {\n",
    "    let (mut left, mut right) = (0, data.len());\n",
    "    // invariant: if element has not been found, it must be in data[left..right]\n",
    "    while left < right {\n",
    "        let middle = (left+right)/2;\n",
    "        if data[middle] == element {\n",
    "            return Some((middle, element));\n",
    "        } else if data[middle] > element {\n",
    "            right = middle - 1 \n",
    "        } else {\n",
    "            left = middle + 1\n",
    "        }\n",
    "    }\n",
    "    None\n",
    "}"
   ]
  },
  {
   "cell_type": "code",
   "execution_count": 41,
   "id": "b8680ccf",
   "metadata": {
    "slideshow": {
     "slide_type": "fragment"
    }
   },
   "outputs": [],
   "source": [
    "let v = vec![-16,-4,0,2,4,12,32,48,48,111];"
   ]
  },
  {
   "cell_type": "code",
   "execution_count": 42,
   "id": "f936a821",
   "metadata": {
    "cell_style": "split"
   },
   "outputs": [
    {
     "data": {
      "text/plain": [
       "Some((9, 111))"
      ]
     },
     "execution_count": 42,
     "metadata": {},
     "output_type": "execute_result"
    }
   ],
   "source": [
    "present(&v, 111)"
   ]
  },
  {
   "cell_type": "code",
   "execution_count": 43,
   "id": "c0f743c3",
   "metadata": {
    "cell_style": "split"
   },
   "outputs": [
    {
     "data": {
      "text/plain": [
       "None"
      ]
     },
     "execution_count": 43,
     "metadata": {},
     "output_type": "execute_result"
    }
   ],
   "source": [
    "present(&v, 5)"
   ]
  },
  {
   "cell_type": "code",
   "execution_count": 44,
   "id": "b24dee79",
   "metadata": {
    "cell_style": "split"
   },
   "outputs": [
    {
     "data": {
      "text/plain": [
       "None"
      ]
     },
     "execution_count": 44,
     "metadata": {},
     "output_type": "execute_result"
    }
   ],
   "source": [
    "present(&v, 1000)"
   ]
  },
  {
   "cell_type": "code",
   "execution_count": 45,
   "id": "5606078e",
   "metadata": {
    "cell_style": "split"
   },
   "outputs": [
    {
     "data": {
      "text/plain": [
       "Some((6, 32))"
      ]
     },
     "execution_count": 45,
     "metadata": {},
     "output_type": "execute_result"
    }
   ],
   "source": [
    "present(&v, 32)"
   ]
  },
  {
   "cell_type": "code",
   "execution_count": null,
   "id": "562c5766",
   "metadata": {},
   "outputs": [],
   "source": []
  }
 ],
 "metadata": {
  "celltoolbar": "Slideshow",
  "kernelspec": {
   "display_name": "Rust",
   "language": "rust",
   "name": "rust"
  },
  "language_info": {
   "codemirror_mode": "rust",
   "file_extension": ".rs",
   "mimetype": "text/rust",
   "name": "rust",
   "pygment_lexer": "rust",
   "version": ""
  },
  "rise": {
   "theme": "beige",
   "transition": "fade"
  }
 },
 "nbformat": 4,
 "nbformat_minor": 5
}
