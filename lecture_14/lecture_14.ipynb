{
 "cells": [
  {
   "cell_type": "markdown",
   "id": "a73704f8",
   "metadata": {
    "slideshow": {
     "slide_type": "slide"
    }
   },
   "source": [
    "<div align=\"center\">\n",
    "    <h1>DS-210: Programming for Data Science</h1>\n",
    "    <h1>Lecture 14</h1>\n",
    "</div>\n",
    "\n",
    "1. Graph exploration overview\n",
    "2. Breadth–first search (BFS)\n",
    "3. Depth–first search (DFS)\n",
    "4. Strongly connected components\n",
    "5. Priority Queues"
   ]
  },
  {
   "cell_type": "markdown",
   "id": "92b5c1c1",
   "metadata": {
    "slideshow": {
     "slide_type": "slide"
    }
   },
   "source": [
    "# 1. Graph exploration overview\n"
   ]
  },
  {
   "cell_type": "markdown",
   "id": "697d90a8",
   "metadata": {
    "slideshow": {
     "slide_type": "slide"
    }
   },
   "source": [
    "## Graph exploration\n",
    "\n",
    "**Sample popular methods:**\n",
    "\n",
    "* breadth–first search (BFS)\n",
    "  * uses a queue"
   ]
  },
  {
   "cell_type": "markdown",
   "id": "fd8135f6",
   "metadata": {
    "slideshow": {
     "slide_type": "fragment"
    }
   },
   "source": [
    "* depth–first search (DFS)\n",
    "  * uses a stack"
   ]
  },
  {
   "cell_type": "markdown",
   "id": "d373ac30",
   "metadata": {
    "slideshow": {
     "slide_type": "fragment"
    }
   },
   "source": [
    "* random walks\n",
    "  * example: PageRank (see Homework 7)"
   ]
  },
  {
   "cell_type": "markdown",
   "id": "ad3bf9fb-b556-494b-89a7-d30ee7c9ea5b",
   "metadata": {},
   "source": [
    "## BFS and DFS\n",
    "\n",
    "<div align=\"center\">\n",
    "    <img src=\"graphs2/bfs_dfs.png\" width=\"70%\">\n",
    "</div>"
   ]
  },
  {
   "cell_type": "markdown",
   "id": "34d2861a",
   "metadata": {
    "slideshow": {
     "slide_type": "slide"
    }
   },
   "source": [
    "# Useful graph subroutines\n",
    "\n",
    "We'll start by defining some useful routines."
   ]
  },
  {
   "cell_type": "code",
   "execution_count": 4,
   "id": "af3ac865",
   "metadata": {
    "cell_style": "center",
    "vscode": {
     "languageId": "rust"
    }
   },
   "outputs": [
    {
     "data": {
      "text/plain": [
       "[(2, 3), (1, 1), (100, 0), (0, 100)]"
      ]
     },
     "execution_count": 4,
     "metadata": {},
     "output_type": "execute_result"
    }
   ],
   "source": [
    "// Define some datatype synonyms\n",
    "type Vertex = usize;\n",
    "type ListOfEdges = Vec<(Vertex,Vertex)>;\n",
    "type AdjacencyLists = Vec<Vec<Vertex>>;\n",
    "\n",
    "#[derive(Debug)]\n",
    "struct Graph {\n",
    "    n: usize, // vertex labels in {0,...,n-1}\n",
    "    outedges: AdjacencyLists,\n",
    "}\n",
    "\n",
    "// reverse direction of edges on a list\n",
    "fn reverse_edges(list:&ListOfEdges)\n",
    "        -> ListOfEdges {\n",
    "    let mut new_list = vec![];\n",
    "    for (u,v) in list {\n",
    "        new_list.push((*v,*u));\n",
    "    }\n",
    "    new_list\n",
    "}\n",
    "\n",
    "reverse_edges(&vec![(3,2),(1,1),(0,100),(100,0)])"
   ]
  },
  {
   "cell_type": "code",
   "execution_count": 5,
   "id": "98bcb360",
   "metadata": {
    "cell_style": "center",
    "slideshow": {
     "slide_type": "fragment"
    },
    "vscode": {
     "languageId": "rust"
    }
   },
   "outputs": [],
   "source": [
    "impl Graph {\n",
    "    fn add_directed_edges(&mut self,\n",
    "                          edges:&ListOfEdges) {\n",
    "        for (u,v) in edges {\n",
    "            self.outedges[*u].push(*v);\n",
    "        }\n",
    "    }\n",
    "    fn sort_graph_lists(&mut self) {\n",
    "        for l in self.outedges.iter_mut() {\n",
    "            l.sort();\n",
    "        }\n",
    "    }\n",
    "    fn create_directed(n:usize,edges:&ListOfEdges)\n",
    "                                            -> Graph {\n",
    "        let mut g = Graph{n,outedges:vec![vec![];n]};\n",
    "        g.add_directed_edges(edges);\n",
    "        g.sort_graph_lists();\n",
    "        g                                        \n",
    "    }\n",
    "    \n",
    "    fn create_undirected(n:usize,edges:&ListOfEdges)\n",
    "                                            -> Graph {\n",
    "        let mut g = Self::create_directed(n,edges);\n",
    "        g.add_directed_edges(&reverse_edges(edges));\n",
    "        g.sort_graph_lists();\n",
    "        g                                        \n",
    "    }\n",
    "}"
   ]
  },
  {
   "cell_type": "markdown",
   "id": "ad3004f4",
   "metadata": {
    "slideshow": {
     "slide_type": "slide"
    }
   },
   "source": [
    "# 2. Breadth–first search (BFS)\n"
   ]
  },
  {
   "cell_type": "markdown",
   "id": "dc523f6f",
   "metadata": {
    "slideshow": {
     "slide_type": "slide"
    }
   },
   "source": [
    "## Sample graph\n",
    "\n",
    "<div align=\"center\">\n",
    "    <img src=\"graphs/graph_1_0.svg\" alt=\"[first sample graph]\" width=\"50%\">\n",
    "</div>"
   ]
  },
  {
   "cell_type": "code",
   "execution_count": 6,
   "id": "150f9138",
   "metadata": {
    "vscode": {
     "languageId": "rust"
    }
   },
   "outputs": [
    {
     "name": "stdout",
     "output_type": "stream",
     "text": [
      "[(0, 1), (0, 2), (1, 2), (1, 9), (2, 3), (2, 4), (4, 3), (4, 5), (4, 6), (5, 6), (6, 7), (6, 8), (8, 7)]\n",
      "0 [1, 2]\n",
      "1 [0, 2, 9]\n",
      "2 [0, 1, 3, 4]\n",
      "3 [2, 4]\n",
      "4 [2, 3, 5, 6]\n",
      "5 [4, 6]\n",
      "6 [4, 5, 7, 8]\n",
      "7 [6, 8]\n",
      "8 [6, 7]\n",
      "9 [1]\n"
     ]
    },
    {
     "data": {
      "text/plain": [
       "()"
      ]
     },
     "execution_count": 6,
     "metadata": {},
     "output_type": "execute_result"
    }
   ],
   "source": [
    "let n: usize = 10;\n",
    "let mut edges: ListOfEdges = vec![(0,1),(0,2),(1,2),(2,4),(2,3),(4,3),(4,5),(5,6),(4,6),(6,8),(6,7),(8,7),(1,9)];\n",
    "edges.sort();\n",
    "println!(\"{:?}\",edges);\n",
    "let graph = Graph::create_undirected(n,&edges);\n",
    "for (i, l) in graph.outedges.iter().enumerate() {\n",
    "    println!(\"{} {:?}\", i, *l);\n",
    "}"
   ]
  },
  {
   "cell_type": "markdown",
   "id": "85219196",
   "metadata": {
    "slideshow": {
     "slide_type": "slide"
    }
   },
   "source": [
    "## Breadth–first search (BFS)\n",
    "\n",
    "**General idea:**\n",
    "* start from some vertex and explore its neighbors (distance 1)\n",
    "* then explore neighbors of neighbors (distance 2)\n",
    "* then explore neighbors of neighbors of neighbors (distance 3)\n",
    "* ..."
   ]
  },
  {
   "cell_type": "markdown",
   "id": "048fd341",
   "metadata": {
    "cell_style": "split"
   },
   "source": [
    "<div align=\"center\">\n",
    "    <b>Our example:</b> start from vertex 2<br><br>\n",
    "</div>   \n",
    "<div align=\"center\">\n",
    "    <img src=\"graphs/graph_1_1.svg\" alt=\"[first sample graph]\" width=\"50%\">\n",
    "</div>"
   ]
  },
  {
   "cell_type": "markdown",
   "id": "fa437e8d-1554-447f-8dff-1d8434320c38",
   "metadata": {},
   "source": [
    "## Whiteboard walk-through\n",
    "\n",
    "Let's first walk through the process interactively, then look at the code implementaiton.\n",
    "\n",
    "<div align=\"center\">\n",
    "    <img src=\"graphs2/BFS_queue.png\" width=\"50%\">\n",
    "</div>"
   ]
  },
  {
   "cell_type": "markdown",
   "id": "1d684fb2-2d6b-40a4-9ec0-462cd577a5bd",
   "metadata": {},
   "source": [
    "The following reorganizes the graph to group by number of steps from the starting node."
   ]
  },
  {
   "cell_type": "markdown",
   "id": "9cf1fbf8",
   "metadata": {
    "cell_style": "split",
    "slideshow": {
     "slide_type": "fragment"
    }
   },
   "source": [
    "<div align=\"center\">\n",
    "    <img src=\"graphs/graph_1_2.svg\" alt=\"[first sample graph, grouped into layers]\" width=\"50%\">\n",
    "</div>"
   ]
  },
  {
   "cell_type": "markdown",
   "id": "f1ceb103",
   "metadata": {
    "slideshow": {
     "slide_type": "subslide"
    }
   },
   "source": [
    "## Implementation: compute distances from vertex 2 via BFS -- I\n",
    "\n",
    "`distance[v]`: distance of `v` from vertex 2 (`None` is unknown)"
   ]
  },
  {
   "cell_type": "code",
   "execution_count": 7,
   "id": "9619b324",
   "metadata": {
    "slideshow": {
     "slide_type": ""
    },
    "vscode": {
     "languageId": "rust"
    }
   },
   "outputs": [
    {
     "data": {
      "text/plain": [
       "[None, None, Some(0), None, None, None, None, None, None, None]"
      ]
     },
     "execution_count": 7,
     "metadata": {},
     "output_type": "execute_result"
    }
   ],
   "source": [
    "let start: Vertex = 2; // <= we'll start from this vertex\n",
    "\n",
    "let mut distance: Vec<Option<u32>> = vec![None;graph.n];\n",
    "distance[start] = Some(0); // <= we know this distance\n",
    "distance"
   ]
  },
  {
   "cell_type": "markdown",
   "id": "17f2fa43",
   "metadata": {
    "slideshow": {
     "slide_type": "fragment"
    }
   },
   "source": [
    "`queue`: vertices to consider, they will arrive layer by layer"
   ]
  },
  {
   "cell_type": "code",
   "execution_count": 8,
   "id": "a67d692d",
   "metadata": {
    "slideshow": {
     "slide_type": ""
    },
    "vscode": {
     "languageId": "rust"
    }
   },
   "outputs": [
    {
     "data": {
      "text/plain": [
       "[2]"
      ]
     },
     "execution_count": 8,
     "metadata": {},
     "output_type": "execute_result"
    }
   ],
   "source": [
    "use std::collections::VecDeque;\n",
    "let mut queue: VecDeque<Vertex> = VecDeque::new();\n",
    "queue.push_back(start);\n",
    "queue"
   ]
  },
  {
   "cell_type": "markdown",
   "id": "6a27eed4",
   "metadata": {
    "slideshow": {
     "slide_type": "subslide"
    }
   },
   "source": [
    "## Implementation: compute distances from vertex 2 via BFS -- II\n",
    "**Main loop:**<br>\n",
    "&nbsp;&nbsp;$\\bullet$ consider vertices one by one<br>\n",
    "&nbsp;&nbsp;$\\bullet$ add their new neighbors to the processing queue"
   ]
  },
  {
   "cell_type": "code",
   "execution_count": 9,
   "id": "98d36344",
   "metadata": {
    "slideshow": {
     "slide_type": "fragment"
    },
    "vscode": {
     "languageId": "rust"
    }
   },
   "outputs": [
    {
     "name": "stdout",
     "output_type": "stream",
     "text": [
      "[2]\n",
      "top []\n",
      "In [0]\n",
      "In [0, 1]\n",
      "In [0, 1, 3]\n",
      "In [0, 1, 3, 4]\n",
      "top [1, 3, 4]\n",
      "top [3, 4]\n",
      "In [3, 4, 9]\n",
      "top [4, 9]\n",
      "top [9]\n",
      "In [9, 5]\n",
      "In [9, 5, 6]\n",
      "top [5, 6]\n",
      "top [6]\n",
      "top []\n",
      "In [7]\n",
      "In [7, 8]\n",
      "top [8]\n",
      "top []\n"
     ]
    }
   ],
   "source": [
    "println!(\"{:?}\",queue);\n",
    "while let Some(v) = queue.pop_front() { // new unprocessed vertex\n",
    "    println!(\"top {:?}\",queue);\n",
    "    for u in graph.outedges[v].iter() {\n",
    "        if let None = distance[*u] { // consider all unprocessed neighbors of v\n",
    "            distance[*u] = Some(distance[v].unwrap() + 1);\n",
    "            queue.push_back(*u);\n",
    "            println!(\"In {:?}\",queue);\n",
    "        }\n",
    "    }\n",
    "};"
   ]
  },
  {
   "cell_type": "markdown",
   "id": "0624e4ae",
   "metadata": {
    "slideshow": {
     "slide_type": "subslide"
    }
   },
   "source": [
    "## Implementation: compute distances from vertex 2 via BFS -- III\n",
    "\n",
    "Compare results:\n",
    "\n",
    "<div align=\"center\">\n",
    "    <img src=\"graphs/graph_1_2.svg\" alt=\"[layers]\" width=\"50%\">\n",
    "</div>"
   ]
  },
  {
   "cell_type": "code",
   "execution_count": 10,
   "id": "661b884a",
   "metadata": {
    "slideshow": {
     "slide_type": ""
    },
    "vscode": {
     "languageId": "rust"
    }
   },
   "outputs": [
    {
     "name": "stdout",
     "output_type": "stream",
     "text": [
      "vertex:distance   0:1   1:1   2:0   3:1   4:1   5:2   6:2   7:3   8:3   9:2\n"
     ]
    }
   ],
   "source": [
    "print!(\"vertex:distance\");\n",
    "for v in 0..graph.n {\n",
    "    print!(\"   {}:{}\",v,distance[v].unwrap());\n",
    "}\n",
    "println!();"
   ]
  },
  {
   "cell_type": "markdown",
   "id": "5f3c47a7",
   "metadata": {},
   "source": [
    "## What if we wanted the distance from all to all?\n",
    "\n",
    "<br><br><br>\n"
   ]
  },
  {
   "cell_type": "code",
   "execution_count": 11,
   "id": "a5b891d2",
   "metadata": {
    "vscode": {
     "languageId": "rust"
    }
   },
   "outputs": [
    {
     "name": "stdout",
     "output_type": "stream",
     "text": [
      "Distances from node 0\n",
      "vertex:distance   0:0   1:1   2:1   3:2   4:2   5:3   6:3   7:4   8:4   9:2\n",
      "Distances from node 1\n",
      "vertex:distance   0:1   1:0   2:1   3:2   4:2   5:3   6:3   7:4   8:4   9:1\n",
      "Distances from node 2\n",
      "vertex:distance   0:1   1:1   2:0   3:1   4:1   5:2   6:2   7:3   8:3   9:2\n",
      "Distances from node 3\n",
      "vertex:distance   0:2   1:2   2:1   3:0   4:1   5:2   6:2   7:3   8:3   9:3\n",
      "Distances from node 4\n",
      "vertex:distance   0:2   1:2   2:1   3:1   4:0   5:1   6:1   7:2   8:2   9:3\n",
      "Distances from node 5\n",
      "vertex:distance   0:3   1:3   2:2   3:2   4:1   5:0   6:1   7:2   8:2   9:4\n",
      "Distances from node 6\n",
      "vertex:distance   0:3   1:3   2:2   3:2   4:1   5:1   6:0   7:1   8:1   9:4\n",
      "Distances from node 7\n",
      "vertex:distance   0:4   1:4   2:3   3:3   4:2   5:2   6:1   7:0   8:1   9:5\n",
      "Distances from node 8\n",
      "vertex:distance   0:4   1:4   2:3   3:3   4:2   5:2   6:1   7:1   8:0   9:5\n",
      "Distances from node 9\n",
      "vertex:distance   0:2   1:1   2:2   3:3   4:3   5:4   6:4   7:5   8:5   9:0\n"
     ]
    },
    {
     "data": {
      "text/plain": [
       "()"
      ]
     },
     "execution_count": 11,
     "metadata": {},
     "output_type": "execute_result"
    }
   ],
   "source": [
    "// let's wrap the previous code in a function\n",
    "fn compute_and_print_distance_bfs(start: Vertex, graph: &Graph) {\n",
    "    let mut distance: Vec<Option<u32>> = vec![None;graph.n];\n",
    "    distance[start] = Some(0); // <= we know this distance\n",
    "    let mut queue: VecDeque<Vertex> = VecDeque::new();\n",
    "    queue.push_back(start);\n",
    "    while let Some(v) = queue.pop_front() { // new unprocessed vertex\n",
    "        for u in graph.outedges[v].iter() {\n",
    "            if let None = distance[*u] { // consider all unprocessed neighbors of v\n",
    "                distance[*u] = Some(distance[v].unwrap() + 1);\n",
    "                queue.push_back(*u);\n",
    "            }\n",
    "        }\n",
    "    }\n",
    "    print!(\"vertex:distance\");\n",
    "    for v in 0..graph.n {\n",
    "        print!(\"   {}:{}\",v,distance[v].unwrap());\n",
    "    }\n",
    "    println!();\n",
    "}\n",
    "\n",
    "// Then loop to start BFS from each node\n",
    "for i in 0..graph.n {\n",
    "    println!(\"Distances from node {}\", i);\n",
    "    compute_and_print_distance_bfs(i, &graph);\n",
    "}\n"
   ]
  },
  {
   "cell_type": "markdown",
   "id": "726f740c-28db-4614-b4d5-995943a0ac3d",
   "metadata": {},
   "source": [
    "## Computational complexity of BFS\n",
    "\n",
    "O(V+E) where V is the number of vertices and E is the number of edges\n",
    "\n",
    "**Why?**\n",
    "\n",
    "Two loops:  \n",
    "\n",
    "* The outside loop goes through vertices and will go through every vertex and will only do so once!\n",
    "* The inside loop goes through the edges of that vertex.\n",
    "* But if you go through the edges of every vertex that is equal to the total number of edges.  So it's not multiplicative but additive.\n"
   ]
  },
  {
   "cell_type": "markdown",
   "id": "011ed5b4-06d5-4dde-9df8-13d205bfe02a",
   "metadata": {
    "jp-MarkdownHeadingCollapsed": true
   },
   "source": [
    "### Strength of BFS\n",
    "\n",
    "So we see one strength of BFS is that it is good at calculating distances."
   ]
  },
  {
   "cell_type": "markdown",
   "id": "850f3c03",
   "metadata": {},
   "source": [
    "\n",
    "\n",
    "\n",
    "\n",
    "## Connected components via BFS"
   ]
  },
  {
   "cell_type": "markdown",
   "id": "a6632f73",
   "metadata": {
    "cell_style": "split",
    "tags": [
     "gridwidth-1-2"
    ]
   },
   "source": [
    "<br><br><br>\n",
    "*Connected component* (in an undirected graph):\n",
    "\n",
    "<br>\n",
    "<div align=\"center\">\n",
    "a maximal set of vertices that are connected\n",
    "</div>"
   ]
  },
  {
   "cell_type": "markdown",
   "id": "14239aa2",
   "metadata": {
    "cell_style": "split",
    "slideshow": {
     "slide_type": "-"
    },
    "tags": [
     "gridwidth-1-2"
    ]
   },
   "source": [
    "<div align=\"center\">\n",
    "    <img src=\"graphs/graph_2.svg\" alt=\"[second graph]\" width=\"90%\">\n",
    "</div>"
   ]
  },
  {
   "cell_type": "markdown",
   "id": "d67bf77d",
   "metadata": {
    "slideshow": {
     "slide_type": "fragment"
    }
   },
   "source": [
    "Sample graph:"
   ]
  },
  {
   "cell_type": "code",
   "execution_count": 12,
   "id": "f6d6c10d",
   "metadata": {
    "cell_style": "center",
    "slideshow": {
     "slide_type": ""
    },
    "vscode": {
     "languageId": "rust"
    }
   },
   "outputs": [],
   "source": [
    "let n: usize = 9;\n",
    "let edges: Vec<(Vertex,Vertex)> = vec![(0,1),(0,2),(1,2),(2,4),(0,4),(5,7),(6,8)];\n",
    "let graph = Graph::create_undirected(n, &edges);"
   ]
  },
  {
   "cell_type": "markdown",
   "id": "8689f655",
   "metadata": {
    "slideshow": {
     "slide_type": "subslide"
    }
   },
   "source": [
    "## Discovering vertices of a connected component via BFS\n",
    "`component[v]`: `v`'s component's number (`None`${}\\equiv{}$not assigned yet)"
   ]
  },
  {
   "cell_type": "code",
   "execution_count": 20,
   "id": "e91dce18",
   "metadata": {
    "slideshow": {
     "slide_type": ""
    },
    "vscode": {
     "languageId": "rust"
    }
   },
   "outputs": [],
   "source": [
    "type Component = usize;\n",
    "\n",
    "/*\n",
    " * Loop through all the vertices connected to the passed in vertex and assign it the same \n",
    " * component group number.\n",
    " */\n",
    "fn mark_component_bfs(vertex:Vertex, // current vertex number\n",
    "                      graph:&Graph,  // graph structure\n",
    "                      component:&mut Vec<Option<Component>>, // the component assignment for each node \n",
    "                      component_no:Component  // the component group of the current vertex\n",
    "                     ) {\n",
    "    component[vertex] = Some(component_no);\n",
    "    \n",
    "    let mut queue = std::collections::VecDeque::new();\n",
    "    queue.push_back(vertex);\n",
    "    \n",
    "    while let Some(v) = queue.pop_front() {\n",
    "        for w in graph.outedges[v].iter() {\n",
    "            if let None = component[*w] {   // if node not assigned to a component group yet\n",
    "                component[*w] = Some(component_no);  // assign it the current component number\n",
    "                queue.push_back(*w);      // push it onto the queue to search since it is connected\n",
    "            }\n",
    "        }\n",
    "    }\n",
    "}"
   ]
  },
  {
   "cell_type": "markdown",
   "id": "783b7feb",
   "metadata": {
    "slideshow": {
     "slide_type": "slide"
    }
   },
   "source": [
    "## Marking all connected components"
   ]
  },
  {
   "cell_type": "markdown",
   "id": "e03c341a",
   "metadata": {},
   "source": [
    "Loop over all unassigned vertices and assign component numbers"
   ]
  },
  {
   "cell_type": "code",
   "execution_count": 18,
   "id": "26a26b1f",
   "metadata": {
    "slideshow": {
     "slide_type": ""
    },
    "vscode": {
     "languageId": "rust"
    }
   },
   "outputs": [],
   "source": [
    "// Vec of component assignments for each node, initialized to None\n",
    "let mut component: Vec<Option<Component>> = vec![None;n];\n",
    "\n",
    "let mut component_count = 0;\n",
    "\n",
    "for v in 0..n {\n",
    "    if let None = component[v] {\n",
    "        component_count += 1;\n",
    "        mark_component_bfs(v, &graph, &mut component, component_count);\n",
    "    }\n",
    "};"
   ]
  },
  {
   "cell_type": "code",
   "execution_count": 19,
   "id": "a61ce9ce",
   "metadata": {
    "cell_style": "split",
    "slideshow": {
     "slide_type": "fragment"
    },
    "tags": [
     "gridwidth-1-2"
    ],
    "vscode": {
     "languageId": "rust"
    }
   },
   "outputs": [
    {
     "name": "stdout",
     "output_type": "stream",
     "text": [
      "4 components:\n",
      "[  0:1  1:1  2:1  3:2  4:1  5:3  6:4  7:3  8:4  ]\n",
      "\n"
     ]
    }
   ],
   "source": [
    "// Let's verify the assignment!\n",
    "print!(\"{} components:\\n[  \",component_count);\n",
    "for v in 0..n {\n",
    "    print!(\"{}:{}  \",v,component[v].unwrap());\n",
    "}\n",
    "println!(\"]\\n\");"
   ]
  },
  {
   "cell_type": "markdown",
   "id": "208d8e41",
   "metadata": {
    "cell_style": "split",
    "tags": [
     "gridwidth-1-2"
    ]
   },
   "source": [
    "<div align=\"center\">\n",
    "    <img src=\"graphs/graph_2.svg\" alt=\"[components]\" width=\"80%\">\n",
    "</div>"
   ]
  },
  {
   "cell_type": "markdown",
   "id": "a902e99f-f34c-4bb3-bd18-478c0d18eb20",
   "metadata": {},
   "source": [
    "**Question:** What is complexity of this algorithm?\n",
    "<br><br><br>\n",
    "\n",
    "It is also $O(V+E)$.\n",
    "<br><br><br>\n"
   ]
  },
  {
   "cell_type": "markdown",
   "id": "62770f30",
   "metadata": {
    "slideshow": {
     "slide_type": "slide"
    }
   },
   "source": [
    "# 3. Depth–first search (DFS)\n"
   ]
  },
  {
   "cell_type": "markdown",
   "id": "8be76355-426c-46a6-8b8b-ec419c43d9a4",
   "metadata": {},
   "source": [
    "## DFS Example"
   ]
  },
  {
   "cell_type": "markdown",
   "id": "2bc17363",
   "metadata": {
    "slideshow": {
     "slide_type": "slide"
    }
   },
   "source": [
    "### Depth–First Search (DFS) -- I"
   ]
  },
  {
   "cell_type": "markdown",
   "id": "4d7b92b3",
   "metadata": {
    "cell_style": "split"
   },
   "source": [
    "General idea:\n",
    "* keep going to an unvisited vertex\n",
    "* when stuck make a step back and try again"
   ]
  },
  {
   "cell_type": "markdown",
   "id": "8098ed30",
   "metadata": {
    "cell_style": "split"
   },
   "source": [
    "<div align=\"center\">\n",
    "<img src=\"graphs/graph_3_1.svg\" alt=\"[dfs demo]\" width=\"30%\">\n",
    "</div>"
   ]
  },
  {
   "cell_type": "markdown",
   "id": "d0428853",
   "metadata": {
    "slideshow": {
     "slide_type": "subslide"
    }
   },
   "source": [
    "### Depth–First Search (DFS) -- II"
   ]
  },
  {
   "cell_type": "markdown",
   "id": "a931fb5b",
   "metadata": {
    "cell_style": "split"
   },
   "source": [
    "General idea:\n",
    "* keep going to an unvisited vertex\n",
    "* when stuck make a step back and try again"
   ]
  },
  {
   "cell_type": "markdown",
   "id": "1eff673f",
   "metadata": {
    "cell_style": "split"
   },
   "source": [
    "<div align=\"center\">\n",
    "<img src=\"graphs/graph_3_2.svg\" alt=\"[dfs demo]\" width=\"30%\">\n",
    "</div>"
   ]
  },
  {
   "cell_type": "markdown",
   "id": "91bca0ea",
   "metadata": {
    "slideshow": {
     "slide_type": "subslide"
    }
   },
   "source": [
    "### Depth–First Search (DFS) -- III"
   ]
  },
  {
   "cell_type": "markdown",
   "id": "a6ab6508",
   "metadata": {
    "cell_style": "split"
   },
   "source": [
    "General idea:\n",
    "* keep going to an unvisited vertex\n",
    "* when stuck make a step back and try again"
   ]
  },
  {
   "cell_type": "markdown",
   "id": "53dfb92d",
   "metadata": {
    "cell_style": "split"
   },
   "source": [
    "<div align=\"center\">\n",
    "<img src=\"graphs/graph_3_3.svg\" alt=\"[dfs demo]\" width=\"30%\">\n",
    "</div>"
   ]
  },
  {
   "cell_type": "markdown",
   "id": "0e04423f",
   "metadata": {
    "slideshow": {
     "slide_type": "subslide"
    }
   },
   "source": [
    "### Depth–First Search (DFS) -- IV"
   ]
  },
  {
   "cell_type": "markdown",
   "id": "b5a00295",
   "metadata": {
    "cell_style": "split"
   },
   "source": [
    "General idea:\n",
    "* keep going to an unvisited vertex\n",
    "* when stuck make a step back and try again"
   ]
  },
  {
   "cell_type": "markdown",
   "id": "46943682",
   "metadata": {
    "cell_style": "split"
   },
   "source": [
    "<div align=\"center\">\n",
    "<img src=\"graphs/graph_3_4.svg\" alt=\"[dfs demo]\" width=\"30%\">\n",
    "</div>"
   ]
  },
  {
   "cell_type": "markdown",
   "id": "e743ff42",
   "metadata": {
    "slideshow": {
     "slide_type": "subslide"
    }
   },
   "source": [
    "### Depth–First Search (DFS) -- V"
   ]
  },
  {
   "cell_type": "markdown",
   "id": "83b2d164",
   "metadata": {
    "cell_style": "split"
   },
   "source": [
    "General idea:\n",
    "* keep moving to an unvisited neighbor\n",
    "* when stuck make a step back and try again"
   ]
  },
  {
   "cell_type": "markdown",
   "id": "0377f30b",
   "metadata": {
    "cell_style": "split"
   },
   "source": [
    "<div align=\"center\">\n",
    "<img src=\"graphs/graph_3_5.svg\" alt=\"[dfs demo]\" width=\"30%\">\n",
    "</div>"
   ]
  },
  {
   "cell_type": "markdown",
   "id": "ece95815",
   "metadata": {
    "slideshow": {
     "slide_type": "subslide"
    }
   },
   "source": [
    "### Depth–First Search (DFS) -- VI"
   ]
  },
  {
   "cell_type": "markdown",
   "id": "ade4874c",
   "metadata": {
    "cell_style": "split"
   },
   "source": [
    "General idea:\n",
    "* keep going to an unvisited vertex\n",
    "* when stuck make a step back and try again"
   ]
  },
  {
   "cell_type": "markdown",
   "id": "e357b63b",
   "metadata": {
    "cell_style": "split"
   },
   "source": [
    "<div align=\"center\">\n",
    "<img src=\"graphs/graph_3_6.svg\" alt=\"[dfs demo]\" width=\"30%\">\n",
    "</div>"
   ]
  },
  {
   "cell_type": "markdown",
   "id": "35f68924",
   "metadata": {
    "slideshow": {
     "slide_type": "subslide"
    }
   },
   "source": [
    "### Depth–First Search (DFS) -- VII"
   ]
  },
  {
   "cell_type": "markdown",
   "id": "906d3a4d",
   "metadata": {
    "cell_style": "split"
   },
   "source": [
    "General idea:\n",
    "* keep going to an unvisited vertex\n",
    "* when stuck make a step back and try again"
   ]
  },
  {
   "cell_type": "markdown",
   "id": "1f16d2bb",
   "metadata": {
    "cell_style": "split"
   },
   "source": [
    "<div align=\"center\">\n",
    "<img src=\"graphs/graph_3_7.svg\" alt=\"[dfs demo]\" width=\"30%\">\n",
    "</div>"
   ]
  },
  {
   "cell_type": "markdown",
   "id": "9d1c471d",
   "metadata": {
    "slideshow": {
     "slide_type": "subslide"
    }
   },
   "source": [
    "### Depth–First Search (DFS) -- VIII"
   ]
  },
  {
   "cell_type": "markdown",
   "id": "03956e98",
   "metadata": {
    "cell_style": "split"
   },
   "source": [
    "General idea:\n",
    "* keep going to an unvisited vertex\n",
    "* when stuck make a step back and try again"
   ]
  },
  {
   "cell_type": "markdown",
   "id": "3b505c22",
   "metadata": {
    "cell_style": "split"
   },
   "source": [
    "<div align=\"center\">\n",
    "<img src=\"graphs/graph_3_8.svg\" alt=\"[dfs demo]\" width=\"30%\">\n",
    "</div>"
   ]
  },
  {
   "cell_type": "markdown",
   "id": "64318cd6",
   "metadata": {
    "slideshow": {
     "slide_type": "subslide"
    }
   },
   "source": [
    "### Depth–First Search (DFS) -- IX"
   ]
  },
  {
   "cell_type": "markdown",
   "id": "5c2488cc",
   "metadata": {
    "cell_style": "split"
   },
   "source": [
    "General idea:\n",
    "* keep going to an unvisited vertex\n",
    "* when stuck make a step back and try again"
   ]
  },
  {
   "cell_type": "markdown",
   "id": "7bc6c895",
   "metadata": {
    "cell_style": "split"
   },
   "source": [
    "<div align=\"center\">\n",
    "<img src=\"graphs/graph_3_9.svg\" alt=\"[dfs demo]\" width=\"30%\">\n",
    "</div>"
   ]
  },
  {
   "cell_type": "markdown",
   "id": "ffe84c91",
   "metadata": {
    "slideshow": {
     "slide_type": "subslide"
    }
   },
   "source": [
    "### Depth–First Search (DFS) -- X"
   ]
  },
  {
   "cell_type": "markdown",
   "id": "ad3dde38",
   "metadata": {
    "cell_style": "split"
   },
   "source": [
    "General idea:\n",
    "* keep going to an unvisited vertex\n",
    "* when stuck make a step back and try again"
   ]
  },
  {
   "cell_type": "markdown",
   "id": "9f227e06",
   "metadata": {
    "cell_style": "split"
   },
   "source": [
    "<div align=\"center\">\n",
    "<img src=\"graphs/graph_3_10.svg\" alt=\"[dfs demo]\" width=\"30%\">\n",
    "</div>"
   ]
  },
  {
   "cell_type": "markdown",
   "id": "6d0dbe1f",
   "metadata": {
    "slideshow": {
     "slide_type": "subslide"
    }
   },
   "source": [
    "### Depth–First Search (DFS) -- XI"
   ]
  },
  {
   "cell_type": "markdown",
   "id": "ea32d1cc",
   "metadata": {
    "cell_style": "split"
   },
   "source": [
    "General idea:\n",
    "* keep going to an unvisited vertex\n",
    "* when stuck make a step back and try again"
   ]
  },
  {
   "cell_type": "markdown",
   "id": "ea4b6e81",
   "metadata": {
    "cell_style": "split"
   },
   "source": [
    "<div align=\"center\">\n",
    "<img src=\"graphs/graph_3_11.svg\" alt=\"[dfs demo]\" width=\"30%\">\n",
    "</div>"
   ]
  },
  {
   "cell_type": "markdown",
   "id": "8b04714b",
   "metadata": {
    "slideshow": {
     "slide_type": "subslide"
    }
   },
   "source": [
    "### Depth–First Search (DFS) -- XII"
   ]
  },
  {
   "cell_type": "markdown",
   "id": "e1899eb9",
   "metadata": {
    "cell_style": "split"
   },
   "source": [
    "General idea:\n",
    "* keep going to an unvisited vertex\n",
    "* when stuck make a step back and try again"
   ]
  },
  {
   "cell_type": "markdown",
   "id": "7bd9dc9f",
   "metadata": {
    "cell_style": "split"
   },
   "source": [
    "<div align=\"center\">\n",
    "<img src=\"graphs/graph_3_12.svg\" alt=\"[dfs demo]\" width=\"30%\">\n",
    "</div>"
   ]
  },
  {
   "cell_type": "markdown",
   "id": "2e778f2d",
   "metadata": {
    "slideshow": {
     "slide_type": "subslide"
    }
   },
   "source": [
    "### Depth–First Search (DFS) -- XIII"
   ]
  },
  {
   "cell_type": "markdown",
   "id": "551d5f24",
   "metadata": {
    "cell_style": "split"
   },
   "source": [
    "General idea:\n",
    "* keep going to an unvisited vertex\n",
    "* when stuck make a step back and try again"
   ]
  },
  {
   "cell_type": "markdown",
   "id": "062dc712",
   "metadata": {
    "cell_style": "split"
   },
   "source": [
    "<div align=\"center\">\n",
    "<img src=\"graphs/graph_3_13.svg\" alt=\"[dfs demo]\" width=\"30%\">\n",
    "</div>"
   ]
  },
  {
   "cell_type": "markdown",
   "id": "43f87b79",
   "metadata": {
    "slideshow": {
     "slide_type": "subslide"
    }
   },
   "source": [
    "### Depth–First Search (DFS) -- XIV"
   ]
  },
  {
   "cell_type": "markdown",
   "id": "01cc6b35",
   "metadata": {
    "cell_style": "split"
   },
   "source": [
    "General idea:\n",
    "* keep going to an unvisited vertex\n",
    "* when stuck make a step back and try again"
   ]
  },
  {
   "cell_type": "markdown",
   "id": "44c5b2db",
   "metadata": {
    "cell_style": "split"
   },
   "source": [
    "<div align=\"center\">\n",
    "<img src=\"graphs/graph_3_14.svg\" alt=\"[dfs demo]\" width=\"30%\">\n",
    "</div>"
   ]
  },
  {
   "cell_type": "markdown",
   "id": "775c3ac1",
   "metadata": {
    "slideshow": {
     "slide_type": "subslide"
    }
   },
   "source": [
    "### Depth–First Search (DFS) -- XV"
   ]
  },
  {
   "cell_type": "markdown",
   "id": "09a96256",
   "metadata": {
    "cell_style": "split"
   },
   "source": [
    "General idea:\n",
    "* keep going to an unvisited vertex\n",
    "* when stuck make a step back and try again"
   ]
  },
  {
   "cell_type": "markdown",
   "id": "7044effb",
   "metadata": {
    "cell_style": "split"
   },
   "source": [
    "<div align=\"center\">\n",
    "<img src=\"graphs/graph_3_15.svg\" alt=\"[dfs demo]\" width=\"30%\">\n",
    "</div>"
   ]
  },
  {
   "cell_type": "markdown",
   "id": "37f85ce2",
   "metadata": {
    "cell_style": "center"
   },
   "source": [
    "## Our sample graph from BFS\n",
    "\n",
    "<div align=\"center\">\n",
    "    <img src=\"graphs/graph_1_0.svg\" alt=\"[first sample graph]\" width=\"40%\">\n",
    "</div>"
   ]
  },
  {
   "cell_type": "markdown",
   "id": "f69793fb-303b-49b3-bf72-6462b7b467f7",
   "metadata": {},
   "source": [
    "## DFS Implementation"
   ]
  },
  {
   "cell_type": "code",
   "execution_count": 24,
   "id": "1cf14026-2b0b-4ad1-9f6d-c74df450774b",
   "metadata": {
    "cell_style": "center",
    "vscode": {
     "languageId": "rust"
    }
   },
   "outputs": [],
   "source": [
    "fn dfs(vertex:Vertex,  // starting vertex\n",
    "       graph: &Graph,  // graph structure\n",
    "       d: usize,       // distance of node connected to passed in vertex\n",
    "       visited: &mut Vec<bool>,  // Vec of bools indicating if we visited a node \n",
    "       distance: &mut Vec<usize>   // Vec of distances of each vertex from the starting vertex\n",
    "      ){\n",
    "    // loop through every vertex connected to the current vertex\n",
    "    for w in graph.outedges[vertex].iter() {\n",
    "      if visited[*w] == false {\n",
    "        distance[*w] = d;\n",
    "        visited[*w] = true;\n",
    "        dfs(*w, graph, d+1, visited, distance);\n",
    "      }\n",
    "    }\n",
    "}"
   ]
  },
  {
   "cell_type": "code",
   "execution_count": 25,
   "id": "0baddcb3-0ba7-4f0b-b79d-cd5980fe5086",
   "metadata": {
    "cell_style": "center",
    "vscode": {
     "languageId": "rust"
    }
   },
   "outputs": [
    {
     "name": "stdout",
     "output_type": "stream",
     "text": [
      "vertex:distance\n",
      "   0:1   1:2   2:0   3:1   4:2   5:3   6:4   7:5   8:6   9:3\n"
     ]
    }
   ],
   "source": [
    "let n: usize = 10;\n",
    "let edges: ListOfEdges = vec![(0,1),(0,2),(1,2),(2,4),(2,3),(4,3),(4,5),(5,6),(4,6),(6,8),(6,7),(8,7),(1,9)];\n",
    "let graph = Graph::create_undirected(n,&edges);\n",
    "let mut visited = vec![false;graph.n];\n",
    "let mut distance = vec![0;graph.n];\n",
    "\n",
    "visited[2] = true;\n",
    "distance[2] = 0;\n",
    "dfs(2, &graph, 1, &mut visited, &mut distance);\n",
    "println!(\"vertex:distance\");\n",
    "for v in 0..graph.n {\n",
    "    print!(\"   {}:{}\",v,distance[v]);\n",
    "}\n",
    "println!();\n",
    "\n",
    "// For comparison this was the distance from bfs \n",
    "// vertex:distance   0:1   1:1   2:0   3:1   4:1   5:2   6:2   7:3   8:3   9:2"
   ]
  },
  {
   "cell_type": "markdown",
   "id": "4a2d5da8",
   "metadata": {
    "slideshow": {
     "slide_type": "slide"
    }
   },
   "source": [
    "## Connected components via DFS\n",
    "Recursive DFS exploration: walk all connected vertices depth-first rather than breadth-first"
   ]
  },
  {
   "cell_type": "code",
   "execution_count": 18,
   "id": "f0ae0f41",
   "metadata": {
    "vscode": {
     "languageId": "rust"
    }
   },
   "outputs": [],
   "source": [
    "fn mark_component_dfs(vertex:Vertex, graph:&Graph, component:&mut Vec<Option<Component>>, component_no:Component) {\n",
    "    component[vertex] = Some(component_no);\n",
    "    for w in graph.outedges[vertex].iter() {\n",
    "        if let None = component[*w] {\n",
    "            mark_component_dfs(*w,graph,component,component_no);\n",
    "        }        \n",
    "    }\n",
    "}"
   ]
  },
  {
   "cell_type": "markdown",
   "id": "211d403e",
   "metadata": {
    "cell_style": "center",
    "slideshow": {
     "slide_type": "fragment"
    }
   },
   "source": [
    "Going over all components and assigning vertices:"
   ]
  },
  {
   "cell_type": "code",
   "execution_count": 19,
   "id": "8a80b095",
   "metadata": {
    "slideshow": {
     "slide_type": ""
    },
    "vscode": {
     "languageId": "rust"
    }
   },
   "outputs": [],
   "source": [
    "let n: usize = 9;\n",
    "let edges: Vec<(Vertex,Vertex)> = vec![(0,1),(0,2),(1,2),(2,4),(0,4),(5,7),(6,8)];\n",
    "let graph = Graph::create_undirected(n, &edges);\n",
    "\n",
    "let mut component = vec![None;graph.n];\n",
    "let mut component_count = 0;\n",
    "\n",
    "for v in 0..graph.n {\n",
    "    if let None = component[v] {\n",
    "        component_count += 1;\n",
    "        mark_component_dfs(v,&graph,&mut component,component_count);\n",
    "    }\n",
    "};"
   ]
  },
  {
   "cell_type": "markdown",
   "id": "efc5cee6",
   "metadata": {
    "slideshow": {
     "slide_type": "subslide"
    }
   },
   "source": [
    "## Connected components via DFS"
   ]
  },
  {
   "cell_type": "markdown",
   "id": "90bc1819",
   "metadata": {
    "slideshow": {
     "slide_type": ""
    }
   },
   "source": [
    "Let's verify the results:"
   ]
  },
  {
   "cell_type": "code",
   "execution_count": 20,
   "id": "a2679c9c",
   "metadata": {
    "cell_style": "split",
    "slideshow": {
     "slide_type": ""
    },
    "vscode": {
     "languageId": "rust"
    }
   },
   "outputs": [
    {
     "name": "stdout",
     "output_type": "stream",
     "text": [
      "4 components:\n",
      "[  0:1  1:1  2:1  3:2  4:1  5:3  6:4  7:3  8:4  ]\n",
      "\n"
     ]
    }
   ],
   "source": [
    "print!(\"{} components:\\n[  \",component_count);\n",
    "for v in 0..n {\n",
    "    print!(\"{}:{}  \",v,component[v].unwrap());\n",
    "}\n",
    "println!(\"]\\n\");"
   ]
  },
  {
   "cell_type": "markdown",
   "id": "f4e7dd85",
   "metadata": {
    "cell_style": "split"
   },
   "source": [
    "<div align=\"center\">\n",
    "    <img src=\"graphs/graph_2.svg\" alt=\"[components]\" width=\"30%\">\n",
    "</div>"
   ]
  },
  {
   "cell_type": "markdown",
   "id": "cc440ca0-ade3-49b8-9413-913a64620aed",
   "metadata": {},
   "source": [
    "**Takeaway:** Works just as well as BFS for finding connected components."
   ]
  },
  {
   "cell_type": "markdown",
   "id": "288013fa",
   "metadata": {
    "cell_style": "center",
    "slideshow": {
     "slide_type": "slide"
    }
   },
   "source": [
    "## BFS vs. DFS\n",
    "\n",
    "### Both have complexity of $O(V+E)$\n",
    "\n",
    "### BFS\n",
    "* gives graph distances between vertices (fundamental problem!)\n",
    "* connectivity "
   ]
  },
  {
   "cell_type": "markdown",
   "id": "e8e1ed8d",
   "metadata": {
    "cell_style": "split",
    "slideshow": {
     "slide_type": "fragment"
    }
   },
   "source": [
    "### DFS\n",
    "  * What is it good for?"
   ]
  },
  {
   "cell_type": "markdown",
   "id": "e896a08d",
   "metadata": {
    "cell_style": "split",
    "slideshow": {
     "slide_type": "fragment"
    }
   },
   "source": [
    "### Lots of things!\n",
    "\n",
    "Examples:\n",
    " * find edges/vertices crucial for connectivity\n",
    " * orient edges of a graph so it is still connected\n",
    " * **strongly connected components in directed graphs**\n",
    " * Traversal of trees (inorder, preorder, postorder)\n",
    " * **Topological Sorting (Scheduling)**\n",
    " * Matching people and jobs"
   ]
  },
  {
   "cell_type": "markdown",
   "id": "5b74b15c-c275-4373-99e6-e43a7ec6a523",
   "metadata": {},
   "source": [
    "### Topological sort (pseudocode for home study)\n",
    "\n",
    "Represents an order of the nodes that respects dependencies from directed graphs.\n",
    "\n",
    "Assume this is a graph of dependent tasks.\n",
    "\n",
    "<div align=\"center\">\n",
    "    <img src=\"graphs2/topo_sort.png\" width=\"40%\">\n",
    "</div>\n",
    "\n",
    "Used whenever you have to schedule work only after satisfying dependencies.\n",
    "\n",
    "Used in Neural Network Backpropagation."
   ]
  },
  {
   "cell_type": "markdown",
   "id": "147b517c-b932-4ef0-9273-c435caeeba29",
   "metadata": {},
   "source": [
    "**Valid topo sorts:**\n",
    "\n",
    "* 0, 1, 3, 2\n",
    "* 0, 3, 1, 2\n",
    "* 3, 0, 1, 2\n",
    "\n",
    "**Invalid topo sorts:**\n",
    "\n",
    "* 0, 1, 2, 3\n",
    "* 1, 3, 0, 2\n",
    "* ..."
   ]
  },
  {
   "cell_type": "markdown",
   "id": "75e98097-828f-408d-adb8-be00e281b445",
   "metadata": {},
   "source": [
    "### Pseudocode (For study at home)\n",
    "\n",
    "Every node can have one of three marks:\n",
    "* **unmarked:** unvisited\n",
    "* **temporary mark:** graph has at least one cycle -- quit\n",
    "* **permanent mark:**\n",
    "\n",
    "In the beginngin all nodes are unmarked.\n",
    "\n",
    "Pick an unmarked node and call visit() on that node.\n",
    "\n"
   ]
  },
  {
   "cell_type": "markdown",
   "id": "3a15f886-e6e1-4106-91f5-a27ea1886326",
   "metadata": {},
   "source": [
    "```\n",
    "L ← Empty list that will contain a valid order of nodes\n",
    "while exists nodes without a permanent mark do\n",
    "    select an unmarked node n\n",
    "    visit(n)\n",
    "\n",
    "function visit(node n)\n",
    "    if n has a permanent mark then\n",
    "        return\n",
    "    if n has a temporary mark then\n",
    "        stop   (graph has at least one cycle)\n",
    "\n",
    "    mark n with a temporary mark\n",
    "\n",
    "    for each node m with an edge from n to m do\n",
    "        visit(m)\n",
    "\n",
    "    remove temporary mark from n\n",
    "    mark n with a permanent mark\n",
    "    add n to head of L\n",
    "```"
   ]
  },
  {
   "cell_type": "markdown",
   "id": "6291a0f0-b648-4a99-8df9-fb68ca067cae",
   "metadata": {},
   "source": [
    "### Complexith of topological sort\n",
    "\n",
    "Complexity is $O(V+E)$. Just doing a DFS."
   ]
  },
  {
   "cell_type": "markdown",
   "id": "d930516f",
   "metadata": {
    "slideshow": {
     "slide_type": "slide"
    }
   },
   "source": [
    "# 4. Strongly connected components (for directed graphs)\n",
    "\n",
    "Only applies to directed graphs."
   ]
  },
  {
   "cell_type": "markdown",
   "id": "b33e8023",
   "metadata": {
    "slideshow": {
     "slide_type": "slide"
    }
   },
   "source": [
    "## Strong connectivity\n",
    "<br>\n",
    "<div align=\"center\">\n",
    "    <b>What does connectivity mean in directed graphs?</b><br>\n",
    "    <b>What if you can get from $v$ to $w$, but not from $w$ to $v$?</b><br>\n",
    "</div>"
   ]
  },
  {
   "cell_type": "markdown",
   "id": "fb6a9c37",
   "metadata": {
    "slideshow": {
     "slide_type": "fragment"
    }
   },
   "source": [
    "<br>\n",
    "\n",
    "**Strongly connected component:**\n",
    "    \n",
    "A maximal set of vertices such that you can get from any of them to any other one.  So like connected components but taking directionality into account"
   ]
  },
  {
   "cell_type": "markdown",
   "id": "18272dbf-d0dd-4dbe-88aa-ae3856ea4ff9",
   "metadata": {},
   "source": [
    "<div align=\"center\">\n",
    "    <img src=\"graphs/graph_4.0.png\" width=\"50%\">\n",
    "</div>"
   ]
  },
  {
   "cell_type": "markdown",
   "id": "0f794364-3714-4ef7-99e6-de2a56fe5f6b",
   "metadata": {},
   "source": [
    "Strongly connected: nodes 0, 1, 2\n",
    "\n",
    "Strongly connected: nodes, 3, 4, 5"
   ]
  },
  {
   "cell_type": "markdown",
   "id": "89ad2bdd",
   "metadata": {
    "slideshow": {
     "slide_type": "fragment"
    }
   },
   "source": [
    "<br>\n",
    "<b>Fact:</b> There is a unique decomposition"
   ]
  },
  {
   "cell_type": "markdown",
   "id": "85251e84",
   "metadata": {
    "slideshow": {
     "slide_type": "slide"
    }
   },
   "source": [
    "## Find the unique decomposition via two DFS runs\n",
    "\n",
    "### General idea"
   ]
  },
  {
   "cell_type": "markdown",
   "id": "2ed1271b",
   "metadata": {
    "slideshow": {
     "slide_type": ""
    }
   },
   "source": [
    "First DFS:\n",
    "* maintain auxiliary stack $S$\n",
    "* visit all vertices, starting DFS multiple times from unvisited vertices as needed\n",
    "* put each vertex, when done going over its neighbors, on the stack"
   ]
  },
  {
   "cell_type": "markdown",
   "id": "b38e9a53",
   "metadata": {
    "slideshow": {
     "slide_type": "fragment"
    }
   },
   "source": [
    "Second DFS:\n",
    "* **reverse edges of the graph!!!**\n",
    "* consider vertices in order from the stack\n",
    "* for each unvisited vertex, start DFS: it will visit a new strongly connected component"
   ]
  },
  {
   "cell_type": "markdown",
   "id": "3205914e",
   "metadata": {
    "slideshow": {
     "slide_type": "slide"
    }
   },
   "source": [
    "## Implementation"
   ]
  },
  {
   "cell_type": "markdown",
   "id": "9503fda5",
   "metadata": {
    "cell_style": "split"
   },
   "source": [
    "<div align=\"center\">\n",
    "    <img src=\"graphs/graph_4.0.png\" width=\"50%\">\n",
    "</div>"
   ]
  },
  {
   "cell_type": "code",
   "execution_count": 26,
   "id": "3b4e887f",
   "metadata": {
    "slideshow": {
     "slide_type": ""
    },
    "vscode": {
     "languageId": "rust"
    }
   },
   "outputs": [
    {
     "name": "stdout",
     "output_type": "stream",
     "text": [
      "Graph { n: 7, outedges: [[1], [2], [0, 3], [4], [5], [3], [5]] }\n",
      "Graph { n: 7, outedges: [[2], [0], [1], [2, 5], [3], [4, 6], []] }\n"
     ]
    }
   ],
   "source": [
    "let n: usize = 7;\n",
    "let edges: ListOfEdges = vec![(0,1),(1,2),(2,0),(3,4),(4,5),(5,3),(2,3),(6,5)];\n",
    "let graph = Graph::create_directed(n, &edges);\n",
    "let graph_reverse = Graph::create_directed(n,&reverse_edges(&edges));\n",
    "println!(\"{:?}\\n{:?}\",graph,graph_reverse);"
   ]
  },
  {
   "cell_type": "markdown",
   "id": "bdef670d",
   "metadata": {
    "slideshow": {
     "slide_type": "slide"
    }
   },
   "source": [
    "## Implementation (first DFS)"
   ]
  },
  {
   "cell_type": "code",
   "execution_count": 22,
   "id": "c0bee1a5",
   "metadata": {
    "slideshow": {
     "slide_type": ""
    },
    "vscode": {
     "languageId": "rust"
    }
   },
   "outputs": [],
   "source": [
    "let mut stack: Vec<Vertex> = Vec::new();\n",
    "let mut visited = vec![false;graph.n];"
   ]
  },
  {
   "cell_type": "code",
   "execution_count": 24,
   "id": "b65f96a1",
   "metadata": {
    "slideshow": {
     "slide_type": "fragment"
    },
    "vscode": {
     "languageId": "rust"
    }
   },
   "outputs": [],
   "source": [
    "// push vertex onto stack after all descendents are processed (a.k.a. finishing times)\n",
    "fn dfs_collect_stack(v:Vertex, graph:&Graph, stack:&mut Vec<Vertex>, visited:&mut Vec<bool>) {\n",
    "    if !visited[v] {\n",
    "        visited[v] = true;\n",
    "        for w in graph.outedges[v].iter() {\n",
    "            dfs_collect_stack(*w, graph, stack, visited);\n",
    "        }\n",
    "        stack.push(v);\n",
    "        println!(\"pushed {}\", v);\n",
    "    }\n",
    "}"
   ]
  },
  {
   "cell_type": "code",
   "execution_count": 25,
   "id": "430949f2",
   "metadata": {
    "slideshow": {
     "slide_type": "fragment"
    },
    "vscode": {
     "languageId": "rust"
    }
   },
   "outputs": [
    {
     "name": "stdout",
     "output_type": "stream",
     "text": [
      "pushed 5\n",
      "pushed 4\n",
      "pushed 3\n",
      "pushed 2\n",
      "pushed 1\n",
      "pushed 0\n",
      "pushed 6\n"
     ]
    },
    {
     "data": {
      "text/plain": [
       "[5, 4, 3, 2, 1, 0, 6]"
      ]
     },
     "execution_count": 25,
     "metadata": {},
     "output_type": "execute_result"
    }
   ],
   "source": [
    "for v in 0..graph.n {\n",
    "    dfs_collect_stack(v,&graph,&mut stack,&mut visited);\n",
    "};\n",
    "stack"
   ]
  },
  {
   "cell_type": "markdown",
   "id": "7a7539a5",
   "metadata": {
    "slideshow": {
     "slide_type": "slide"
    }
   },
   "source": [
    "## Implementation (second DFS, reversed graph)"
   ]
  },
  {
   "cell_type": "code",
   "execution_count": 26,
   "id": "27d36e6a",
   "metadata": {
    "slideshow": {
     "slide_type": "-"
    },
    "vscode": {
     "languageId": "rust"
    }
   },
   "outputs": [],
   "source": [
    "let mut component: Vec<Option<Component>> = vec![None;graph.n];\n",
    "let mut component_count = 0;\n",
    "\n",
    "while let Some(v) = stack.pop() {\n",
    "    if let None = component[v] {\n",
    "        component_count += 1;\n",
    "        mark_component_dfs(v, &graph_reverse, &mut component, component_count);\n",
    "    }\n",
    "};"
   ]
  },
  {
   "cell_type": "code",
   "execution_count": 27,
   "id": "bfc7eefa",
   "metadata": {
    "cell_style": "split",
    "slideshow": {
     "slide_type": "fragment"
    },
    "vscode": {
     "languageId": "rust"
    }
   },
   "outputs": [
    {
     "name": "stdout",
     "output_type": "stream",
     "text": [
      "3 components:\n",
      "Component 1: 6 \n",
      "Component 2: 0 1 2 \n",
      "Component 3: 3 4 5 \n",
      "\n"
     ]
    }
   ],
   "source": [
    "print!(\"{} components:\\n\",component_count);\n",
    "for c in 1..=component_count {\n",
    "    print!(\"Component {}: \", c);\n",
    "    for v in 0..n {\n",
    "       if component[v].unwrap() == c {\n",
    "          print!(\"{} \",v);\n",
    "       }\n",
    "    }\n",
    "    println!();\n",
    "}\n",
    "println!();"
   ]
  },
  {
   "attachments": {},
   "cell_type": "markdown",
   "id": "b3762bc0",
   "metadata": {
    "cell_style": "split",
    "tags": [
     "gridwidth-1-2"
    ]
   },
   "source": [
    "<div align=\"center\">\n",
    "    <img src=\"graphs2/graph_4_0.png\" width=\"80%\">\n",
    "</div>"
   ]
  },
  {
   "cell_type": "markdown",
   "id": "aeb17114-1531-45ea-ba93-bc84e9f73cbd",
   "metadata": {
    "tags": [
     "gridwidth-1-2"
    ]
   },
   "source": [
    "<div align=\"center\">\n",
    "    <img src=\"graphs2/graph_4_0_reversed.png\" width=\"80%\">\n",
    "</div>"
   ]
  },
  {
   "cell_type": "markdown",
   "id": "c1c06735",
   "metadata": {},
   "source": [
    "### Rust project version\n",
    "\n",
    "Rust project version in [`strongly_connected`](./strongly_connected/) folder in case you want to debug and inspect."
   ]
  },
  {
   "cell_type": "markdown",
   "id": "46e8f2c8",
   "metadata": {
    "slideshow": {
     "slide_type": "slide"
    }
   },
   "source": [
    "# Code formatting"
   ]
  },
  {
   "cell_type": "markdown",
   "id": "d0330871",
   "metadata": {
    "slideshow": {
     "slide_type": "slide"
    }
   },
   "source": [
    "## Don't give up on code formatting!\n",
    "\n",
    "* Rust doesn't require any specific indentation\n",
    "* Still a good idea to make your code readable"
   ]
  },
  {
   "cell_type": "code",
   "execution_count": 2,
   "id": "0ba3452a",
   "metadata": {
    "vscode": {
     "languageId": "rust"
    }
   },
   "outputs": [],
   "source": [
    "//This is bad code \n",
    "fn h(z:i32)->i32{\n",
    "     let mut t=0.max(z.min(1)-0.max(z-1));\n",
    "     for y in 1..=2.min(z){\n",
    "         t+=h(z-y)\n",
    "     }\n",
    "     t\n",
    "}"
   ]
  },
  {
   "cell_type": "code",
   "execution_count": 3,
   "id": "1357e9f4",
   "metadata": {
    "vscode": {
     "languageId": "rust"
    }
   },
   "outputs": [],
   "source": [
    "//This is even worse code \n",
    "fn g(z:i32)->i32{let mut t=0.max(z.min(1)-0.max(z-1));for y in 1..=2.min(z){t+=g(z-y)}t}"
   ]
  },
  {
   "cell_type": "code",
   "execution_count": 4,
   "id": "0416b3dc",
   "metadata": {
    "vscode": {
     "languageId": "rust"
    }
   },
   "outputs": [],
   "source": [
    "// This is good code\n",
    "fn f(z:i32)->i32 {\n",
    "    let t;\n",
    "    if z==0{\n",
    "        t = 0;\n",
    "    } else if z == 1 {\n",
    "        t = 1;\n",
    "    } else {\n",
    "        t = f(z-1) + f (z-2);\n",
    "    }\n",
    "    t\n",
    "}"
   ]
  },
  {
   "cell_type": "code",
   "execution_count": 5,
   "id": "aa59832d",
   "metadata": {
    "scrolled": true,
    "slideshow": {
     "slide_type": "fragment"
    },
    "vscode": {
     "languageId": "rust"
    }
   },
   "outputs": [
    {
     "name": "stdout",
     "output_type": "stream",
     "text": [
      "0:0,0,0\n",
      "1:1,1,1\n",
      "2:1,1,1\n",
      "3:2,2,2\n",
      "4:3,3,3\n",
      "5:5,5,5\n",
      "6:8,8,8\n",
      "7:13,13,13\n",
      "8:21,21,21\n",
      "9:34,34,34\n"
     ]
    }
   ],
   "source": [
    "for i in 0..10 {\n",
    "    println!(\"{}:{},{},{}\",i,h(i),g(i),f(i));\n",
    "};"
   ]
  },
  {
   "cell_type": "markdown",
   "id": "d39816fa",
   "metadata": {
    "slideshow": {
     "slide_type": "slide"
    }
   },
   "source": [
    "## Tool for formatting Rust code: `rustfmt`\n",
    "\n",
    "* If you have Rust installed, you should already have it."
   ]
  },
  {
   "cell_type": "markdown",
   "id": "a8360060",
   "metadata": {
    "slideshow": {
     "slide_type": "fragment"
    }
   },
   "source": [
    "* `rustfmt [filename]` replaces the file with nicely formatted version\n",
    "   * use `rustfmt --backup [filename]` to save the original file"
   ]
  },
  {
   "cell_type": "markdown",
   "id": "d966911a",
   "metadata": {
    "slideshow": {
     "slide_type": "fragment"
    }
   },
   "source": [
    "* `rustfmt --help`: see the command line parameters\n",
    "* `rustfmt --print-config default`: default config that can be adjusted"
   ]
  },
  {
   "cell_type": "markdown",
   "id": "0ef4a531-ceb3-4449-a037-186ac4b27db8",
   "metadata": {},
   "source": [
    "Other style tips:\n",
    "1. If you repeat sections of code, move it to a function\n",
    "2. If you have many if, else if, ... --> move it to a match statement\n",
    "3. if the body of a match variant is large, move content to a function...\n",
    "4. ..."
   ]
  },
  {
   "cell_type": "markdown",
   "id": "b701d71a",
   "metadata": {
    "slideshow": {
     "slide_type": "slide"
    }
   },
   "source": [
    "# Priority queues"
   ]
  },
  {
   "cell_type": "markdown",
   "id": "12c3c0a8",
   "metadata": {
    "cell_style": "split",
    "slideshow": {
     "slide_type": "-"
    },
    "tags": [
     "gridwidth-1-2"
    ]
   },
   "source": [
    "**Standard queue:**\n",
    "\n",
    "* things returned in order in which they were inserted"
   ]
  },
  {
   "cell_type": "markdown",
   "id": "13d583e5",
   "metadata": {
    "cell_style": "split",
    "slideshow": {
     "slide_type": "fragment"
    },
    "tags": [
     "gridwidth-1-2"
    ]
   },
   "source": [
    "**Priority queue:**\n",
    "  * items have priorities\n",
    "  * highest priority items returned first"
   ]
  },
  {
   "cell_type": "markdown",
   "id": "9b97947b-1469-4af7-bcdd-4b45a8fea3af",
   "metadata": {},
   "source": [
    "### Example of Priority Queue\n",
    "\n",
    "Triage in a hospital emergency room.\n",
    "\n",
    "For non-critical injuries, perhaps FIFO, but heart attack gets priority.\n"
   ]
  },
  {
   "cell_type": "markdown",
   "id": "08216c24",
   "metadata": {
    "slideshow": {
     "slide_type": "slide"
    }
   },
   "source": [
    "## Rust standard library implementation: `BinaryHeap<T>`"
   ]
  },
  {
   "cell_type": "markdown",
   "id": "d8c63c3c",
   "metadata": {
    "cell_style": "split",
    "slideshow": {
     "slide_type": "fragment"
    },
    "tags": [
     "gridwidth-1-2"
    ]
   },
   "source": [
    "<br>\n",
    "\n",
    "* Priorities provided by the ordering of elements of `T` (via trait `Ord`)\n",
    "\n",
    "\n",
    "<br>\n",
    "<br>\n",
    "\n",
    "* Method `push(T)`:<br>push element onto the heap\n",
    "\n",
    "<br>\n",
    "<br>\n",
    "\n",
    "\n",
    "* Method `pop() -> Option<T>`:<br>remove the greatest and return it  Some(T) or None"
   ]
  },
  {
   "cell_type": "code",
   "execution_count": 33,
   "id": "2a0bc2f2",
   "metadata": {
    "cell_style": "split",
    "slideshow": {
     "slide_type": "fragment"
    },
    "tags": [
     "gridwidth-1-2"
    ],
    "vscode": {
     "languageId": "rust"
    }
   },
   "outputs": [
    {
     "name": "stdout",
     "output_type": "stream",
     "text": [
      "Some(7)\n",
      "Some(3)\n",
      "\n",
      "Some(4)\n",
      "Some(3)\n",
      "Some(2)\n",
      "None\n"
     ]
    }
   ],
   "source": [
    "use std::collections::BinaryHeap;\n",
    "\n",
    "let mut pq = BinaryHeap::new();\n",
    "\n",
    "pq.push(2);\n",
    "pq.push(7);\n",
    "pq.push(3);\n",
    "\n",
    "println!(\"{:?}\",pq.pop());\n",
    "println!(\"{:?}\",pq.pop());\n",
    "\n",
    "pq.push(3);\n",
    "pq.push(4);\n",
    "\n",
    "println!(\"\\n{:?}\",pq.pop());\n",
    "println!(\"{:?}\",pq.pop());\n",
    "println!(\"{:?}\",pq.pop());\n",
    "println!(\"{:?}\",pq.pop());"
   ]
  },
  {
   "cell_type": "markdown",
   "id": "61824e26-5b52-4d98-ac20-f730c0489172",
   "metadata": {},
   "source": [
    "You can use more complex data types, like your own structs with a priority field, then you have to implement your own\n",
    "Ord trait."
   ]
  },
  {
   "cell_type": "markdown",
   "id": "84a7af84",
   "metadata": {
    "slideshow": {
     "slide_type": "slide"
    }
   },
   "source": [
    "## Getting the smallest element out first\n",
    "\n",
    "`Reverse<T>`: wrapper that reverses the ordering of elements of a type"
   ]
  },
  {
   "cell_type": "code",
   "execution_count": 28,
   "id": "969c5256",
   "metadata": {
    "cell_style": "split",
    "tags": [
     "gridwidth-1-2"
    ],
    "vscode": {
     "languageId": "rust"
    }
   },
   "outputs": [
    {
     "data": {
      "text/plain": [
       "true"
      ]
     },
     "execution_count": 28,
     "metadata": {},
     "output_type": "execute_result"
    }
   ],
   "source": [
    "3 < 4"
   ]
  },
  {
   "cell_type": "code",
   "execution_count": 29,
   "id": "f5f62681",
   "metadata": {
    "cell_style": "split",
    "tags": [
     "gridwidth-1-2"
    ],
    "vscode": {
     "languageId": "rust"
    }
   },
   "outputs": [
    {
     "data": {
      "text/plain": [
       "false"
      ]
     },
     "execution_count": 29,
     "metadata": {},
     "output_type": "execute_result"
    }
   ],
   "source": [
    "use std::cmp::Reverse;\n",
    "Reverse(3) < Reverse(4)"
   ]
  },
  {
   "cell_type": "code",
   "execution_count": 30,
   "id": "1585ff24",
   "metadata": {
    "cell_style": "split",
    "slideshow": {
     "slide_type": "fragment"
    },
    "tags": [
     "gridwidth-1-2"
    ],
    "vscode": {
     "languageId": "rust"
    }
   },
   "outputs": [
    {
     "data": {
      "text/plain": [
       "false"
      ]
     },
     "execution_count": 30,
     "metadata": {},
     "output_type": "execute_result"
    }
   ],
   "source": [
    "5 < 3"
   ]
  },
  {
   "cell_type": "code",
   "execution_count": 31,
   "id": "1e3b72d6",
   "metadata": {
    "cell_style": "split",
    "tags": [
     "gridwidth-1-2"
    ],
    "vscode": {
     "languageId": "rust"
    }
   },
   "outputs": [
    {
     "data": {
      "text/plain": [
       "true"
      ]
     },
     "execution_count": 31,
     "metadata": {},
     "output_type": "execute_result"
    }
   ],
   "source": [
    "Reverse(5) < Reverse(3)"
   ]
  },
  {
   "cell_type": "code",
   "execution_count": 34,
   "id": "dee9b1b6",
   "metadata": {
    "slideshow": {
     "slide_type": "fragment"
    },
    "vscode": {
     "languageId": "rust"
    }
   },
   "outputs": [
    {
     "name": "stdout",
     "output_type": "stream",
     "text": [
      "Some(Reverse(1))\n",
      "Some(Reverse(3))\n",
      "\n",
      "Some(Reverse(0))\n",
      "\n",
      "Some(Reverse(7))\n",
      "\n",
      "None\n"
     ]
    }
   ],
   "source": [
    "let mut pq = BinaryHeap::new();\n",
    "\n",
    "pq.push(Reverse(3));\n",
    "pq.push(Reverse(1));\n",
    "pq.push(Reverse(7));\n",
    "\n",
    "println!(\"{:?}\",pq.pop());\n",
    "println!(\"{:?}\",pq.pop());\n",
    "\n",
    "pq.push(Reverse(0));\n",
    "\n",
    "println!(\"\\n{:?}\",pq.pop());\n",
    "println!(\"\\n{:?}\",pq.pop());\n",
    "println!(\"\\n{:?}\",pq.pop());"
   ]
  },
  {
   "cell_type": "markdown",
   "id": "d17564ea-3d25-4a6b-a3d9-3a7233925e00",
   "metadata": {},
   "source": [
    "### How to extract inner value from Reverse()"
   ]
  },
  {
   "cell_type": "code",
   "execution_count": 46,
   "id": "047bb7e0-1273-461a-aaa3-67aca4ca7545",
   "metadata": {
    "vscode": {
     "languageId": "rust"
    }
   },
   "outputs": [
    {
     "name": "stdout",
     "output_type": "stream",
     "text": [
      "3\n",
      "5\n"
     ]
    }
   ],
   "source": [
    "// Method 1: Using .0 to access the inner value (since Reverse is a tuple struct)\n",
    "let rev = Reverse(3);\n",
    "let value = rev.0;  // value = 3\n",
    "println!(\"{value}\");\n",
    "\n",
    "// Method 2: Using pattern matching\n",
    "let rev = Reverse(5);\n",
    "let Reverse(value) = rev;  // value = 5\n",
    "println!(\"{value}\");"
   ]
  },
  {
   "cell_type": "markdown",
   "id": "cc689253",
   "metadata": {
    "slideshow": {
     "slide_type": "slide"
    }
   },
   "source": [
    "## Default lexicographic ordering on tuples and structs\n",
    "\n",
    "Lexicographic ordering:\n",
    "* Compare first elements\n",
    "* If equal, compare second elements\n",
    "* If equal, compare third elements..."
   ]
  },
  {
   "cell_type": "markdown",
   "id": "27fb02fc",
   "metadata": {
    "slideshow": {
     "slide_type": "fragment"
    }
   },
   "source": [
    "### Tuples"
   ]
  },
  {
   "cell_type": "code",
   "execution_count": 35,
   "id": "db151a9b",
   "metadata": {
    "cell_style": "split",
    "tags": [
     "gridwidth-1-2"
    ],
    "vscode": {
     "languageId": "rust"
    }
   },
   "outputs": [
    {
     "data": {
      "text/plain": [
       "false"
      ]
     },
     "execution_count": 35,
     "metadata": {},
     "output_type": "execute_result"
    }
   ],
   "source": [
    "(3,4) < (2,7)"
   ]
  },
  {
   "cell_type": "code",
   "execution_count": 13,
   "id": "db139b0b",
   "metadata": {
    "cell_style": "split",
    "tags": [
     "gridwidth-1-2"
    ],
    "vscode": {
     "languageId": "rust"
    }
   },
   "outputs": [
    {
     "data": {
      "text/plain": [
       "true"
      ]
     },
     "execution_count": 13,
     "metadata": {},
     "output_type": "execute_result"
    }
   ],
   "source": [
    "(11,2,7) < (11,3,4)"
   ]
  },
  {
   "cell_type": "markdown",
   "id": "3c5e8bde",
   "metadata": {
    "slideshow": {
     "slide_type": "fragment"
    }
   },
   "source": [
    "### Struct (derive `Ord`)"
   ]
  },
  {
   "cell_type": "code",
   "execution_count": 48,
   "id": "713b5d55",
   "metadata": {
    "cell_style": "split",
    "vscode": {
     "languageId": "rust"
    }
   },
   "outputs": [],
   "source": [
    "#[derive(PartialEq,Eq,PartialOrd,Ord,Debug)]\n",
    "struct Point {\n",
    "    x: i32,\n",
    "    y: i32,\n",
    "}"
   ]
  },
  {
   "cell_type": "code",
   "execution_count": 49,
   "id": "9926f0b6",
   "metadata": {
    "cell_style": "split",
    "vscode": {
     "languageId": "rust"
    }
   },
   "outputs": [
    {
     "name": "stdout",
     "output_type": "stream",
     "text": [
      "false\n",
      "true\n"
     ]
    }
   ],
   "source": [
    "let p = Point{x:3,y:4};\n",
    "let q = Point{x:2,y:7};\n",
    "println!(\"{}\", p < q);\n",
    "println!(\"{}\", p > q);"
   ]
  },
  {
   "cell_type": "code",
   "execution_count": 50,
   "id": "0626c052-3863-48a1-b247-c1133c6bc7b4",
   "metadata": {
    "cell_style": "split",
    "vscode": {
     "languageId": "rust"
    }
   },
   "outputs": [
    {
     "name": "stdout",
     "output_type": "stream",
     "text": [
      "true\n",
      "false\n"
     ]
    }
   ],
   "source": [
    "let p = Point{x:3,y:4};\n",
    "let q = Point{x:3,y:7};\n",
    "println!(\"{}\", p < q);\n",
    "println!(\"{}\", p > q);"
   ]
  },
  {
   "cell_type": "markdown",
   "id": "3242c4a0",
   "metadata": {
    "slideshow": {
     "slide_type": "slide"
    }
   },
   "source": [
    "## Another option: implement your own comparison\n",
    "\n",
    "* More complicated, see below\n",
    "\n",
    "* See the documentation for `Ord` or examples online"
   ]
  },
  {
   "cell_type": "code",
   "execution_count": 53,
   "id": "fe92f843",
   "metadata": {
    "vscode": {
     "languageId": "rust"
    }
   },
   "outputs": [],
   "source": [
    "#[derive(PartialEq,Eq,Ord,Debug)]\n",
    "struct Point2 {\n",
    "    x: i32,\n",
    "    y: i32,\n",
    "}\n",
    "\n",
    "// Let's assume we want to compare point by their distance to the origin\n",
    "impl std::cmp::PartialOrd for Point2 {\n",
    "    fn partial_cmp(&self, other: &Self) -> Option<std::cmp::Ordering> {\n",
    "        // 'Self' (capital) is a shorthand for type Point2\n",
    "        let this = self.x * self.x + self.y * self.y;\n",
    "        let that = other.x * other.x + other.y * other.y;\n",
    "        return this.partial_cmp(&that);  // use the partial_cmp() on integer\n",
    "    }\n",
    "}\n"
   ]
  },
  {
   "cell_type": "code",
   "execution_count": 54,
   "id": "9c15dc61",
   "metadata": {
    "vscode": {
     "languageId": "rust"
    }
   },
   "outputs": [
    {
     "name": "stdout",
     "output_type": "stream",
     "text": [
      "true\n",
      "false\n"
     ]
    }
   ],
   "source": [
    "let p = Point2{x:3,y:1};\n",
    "let q = Point2{x:2,y:100};\n",
    "println!(\"{}\", p < q);\n",
    "println!(\"{}\", p > q);"
   ]
  },
  {
   "cell_type": "markdown",
   "id": "291a1b77",
   "metadata": {
    "slideshow": {
     "slide_type": "slide"
    }
   },
   "source": [
    "## Complexity of a priority queue?\n",
    "Assumptions:\n",
    " * At most $n$ elements\n",
    " * Comparison takes $O(1)$ time"
   ]
  },
  {
   "cell_type": "markdown",
   "id": "1873bca9",
   "metadata": {
    "slideshow": {
     "slide_type": "fragment"
    }
   },
   "source": [
    "### Straighforward\n",
    "\n",
    "Representation: a vector of elements"
   ]
  },
  {
   "cell_type": "markdown",
   "id": "9ca97459",
   "metadata": {
    "cell_style": "split",
    "slideshow": {
     "slide_type": "fragment"
    }
   },
   "source": [
    "Push:\n",
    "* add to the end of the vector\n",
    "* Time complexity: $O(1)$ (amortized) time"
   ]
  },
  {
   "cell_type": "markdown",
   "id": "ebe5800f",
   "metadata": {
    "cell_style": "split",
    "slideshow": {
     "slide_type": "fragment"
    }
   },
   "source": [
    "Pop:\n",
    "* go over all elements, select the greatest\n",
    "* Time complexity: $O(n)$"
   ]
  },
  {
   "cell_type": "markdown",
   "id": "066f97c0",
   "metadata": {
    "vscode": {
     "languageId": "rust"
    }
   },
   "source": [
    "# Piazza In-Class Poll\n",
    "\n",
    "https://piazza.com/class/m5qyw6267j12cj/post/325\n"
   ]
  },
  {
   "cell_type": "code",
   "execution_count": null,
   "id": "e6c9f21a",
   "metadata": {
    "vscode": {
     "languageId": "rust"
    }
   },
   "outputs": [],
   "source": []
  }
 ],
 "metadata": {
  "celltoolbar": "Slideshow",
  "kernelspec": {
   "display_name": "Rust",
   "language": "rust",
   "name": "rust"
  },
  "language_info": {
   "codemirror_mode": "rust",
   "file_extension": ".rs",
   "mimetype": "text/rust",
   "name": "Rust",
   "pygment_lexer": "rust",
   "version": ""
  },
  "rise": {
   "theme": "beige",
   "transition": "fade"
  }
 },
 "nbformat": 4,
 "nbformat_minor": 5
}
