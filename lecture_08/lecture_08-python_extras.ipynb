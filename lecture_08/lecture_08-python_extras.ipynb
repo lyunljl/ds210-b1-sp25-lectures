{
 "cells": [
  {
   "cell_type": "markdown",
   "id": "bb9b6e9b",
   "metadata": {
    "slideshow": {
     "slide_type": "slide"
    }
   },
   "source": [
    "# Shallow vs Deep Copy in Python\n",
    "\n",
    "When passing a variable to a function, Python might pass a copy or pointer depending\n",
    "on where the variable is stored -- stack or heap.\n",
    "\n",
    "* Stack: a copy is passed. Modifying the copy doesn't modify the original.\n",
    "* Heap: a pointer is passed. Modifying the copy does modify the original.\n"
   ]
  },
  {
   "cell_type": "markdown",
   "id": "ab71cd55",
   "metadata": {},
   "source": [
    "## Variable on the Stack -- Copy\n",
    "\n",
    "For a simple scalar variable, the variable is allocated on the stack.\n",
    "\n",
    "When passed to a function, a copy is passed. Modifying the copy doesn't modify the original."
   ]
  },
  {
   "cell_type": "code",
   "execution_count": 1,
   "id": "1db5634e",
   "metadata": {
    "cell_style": "split",
    "slideshow": {
     "slide_type": "-"
    }
   },
   "outputs": [
    {
     "name": "stdout",
     "output_type": "stream",
     "text": [
      "x before add_one: 3\n",
      "x in add_one: 4\n",
      "x after add_one: 3\n"
     ]
    }
   ],
   "source": [
    "# x on the stack, copied when passed to the function\n",
    "# Modifying the copy doesn't modify the original.\n",
    "def add_one(x):\n",
    "    x += 1\n",
    "    print(f\"x in add_one: {x}\")\n",
    "\n",
    "x = 3\n",
    "print(f\"x before add_one: {x}\")\n",
    "add_one(x)\n",
    "print(f\"x after add_one: {x}\")"
   ]
  },
  {
   "cell_type": "markdown",
   "id": "0d1ad196",
   "metadata": {},
   "source": [
    "## Variables on the Heap -- Pointer Passing\n",
    "\n",
    "For a list, the list is allocated on the heap.\n",
    "\n",
    "When passed to a function, a pointer to the list is passed. Modifying the list\n",
    "modifies the original.\n"
   ]
  },
  {
   "cell_type": "code",
   "execution_count": 2,
   "id": "f2d52b1b",
   "metadata": {
    "cell_style": "split",
    "slideshow": {
     "slide_type": "fragment"
    }
   },
   "outputs": [
    {
     "name": "stdout",
     "output_type": "stream",
     "text": [
      "y before add_one: [3]\n",
      "y in add_one: [3, 1]\n",
      "y after add_one: [3, 1]\n"
     ]
    }
   ],
   "source": [
    "# Internally, a list is allocated on the heap.\n",
    "# Passing a list to a function means copying\n",
    "# its pointer, not a copy of the list. Modifying\n",
    "# the list will modify the original.\n",
    "\n",
    "def add_one(y):\n",
    "    y += [1]\n",
    "    print(f\"y in add_one: {y}\")\n",
    "\n",
    "y = [3]\n",
    "print(f\"y before add_one: {y}\")\n",
    "add_one(y)\n",
    "print(f\"y after add_one: {y}\")"
   ]
  }
 ],
 "metadata": {
  "celltoolbar": "Slideshow",
  "kernelspec": {
   "display_name": "Python 3 (ipykernel)",
   "language": "python",
   "name": "python3"
  },
  "language_info": {
   "codemirror_mode": {
    "name": "ipython",
    "version": 3
   },
   "file_extension": ".py",
   "mimetype": "text/x-python",
   "name": "python",
   "nbconvert_exporter": "python",
   "pygments_lexer": "ipython3",
   "version": "3.12.4"
  },
  "rise": {
   "enable_chalkboard": false,
   "theme": "serif"
  }
 },
 "nbformat": 4,
 "nbformat_minor": 5
}
