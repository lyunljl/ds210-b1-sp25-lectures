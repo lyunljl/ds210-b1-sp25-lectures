{
 "cells": [
  {
   "cell_type": "markdown",
   "id": "30b3adb5",
   "metadata": {},
   "source": [
    "<div align=\"center\">\n",
    "    <h1>DS-210: Programming for Data Science</h1>\n",
    "    <h1>Lecture 8</h1>\n",
    "</div>\n",
    "\n",
    "# Topics\n",
    "1. Ownership and borrowing in Rust\n",
    "2. Methods in Rust\n",
    "3. Copying instead of moving\n",
    "4. Multiple references in parallel\n",
    "5. Generics\n",
    "6. Useful predefined generic data types\n",
    "\n",
    "* Chapters 4 (Understanding Ownership), 10 (Generic Types) skip 10.3 (Lifetimes)"
   ]
  },
  {
   "cell_type": "markdown",
   "id": "f3e83793",
   "metadata": {},
   "source": [
    "---\n",
    "\n",
    "## Quick Aside on Data Type Sizes\n",
    "\n",
    "Consider the data type sizes need for the results of multiplication and adddition.\n",
    "\n",
    "(Helpful for the homework.)\n",
    "\n",
    "### Multiplication\n",
    "\n",
    "`u8` is 8 bits and can store maximum value `2^8 - 1 = 255`.\n",
    "\n",
    "If we multiply: $255*255=65025$. \n",
    "\n",
    "How many bits do we need to store this value? We can take the log base 2 of the value.\n",
    "\n",
    "```python\n",
    ">>> import math\n",
    ">>> math.log2(255*255)\n",
    "15.988706873717716\n",
    "```\n",
    "\n",
    "So we need 16 bits to store the product of two `u8` values.\n",
    "\n",
    "In general when we multiply two numbers of size $n$ bits, we need $2n$ bits to store the result.\n",
    "\n",
    "### Addition\n",
    "\n",
    "How about addition?\n",
    "\n",
    "Consider a `u8` with the value 255 stored in it.\n",
    "\n",
    "What if we add 255 to it? $255 + 255 = 510$.\n",
    "\n",
    "```python\n",
    ">>> math.log2(510)\n",
    "8.994353436858859\n",
    "```\n",
    "\n",
    "We'll need 9 bits to store the result of the addition.\n",
    "\n",
    "---"
   ]
  },
  {
   "cell_type": "markdown",
   "id": "da6c52e9",
   "metadata": {},
   "source": [
    "## Ownership and borrowing in Rust"
   ]
  },
  {
   "cell_type": "markdown",
   "id": "71b225b5",
   "metadata": {},
   "source": [
    "* We've used `String` and `Vec` so far to store data on the heap\n",
    "* These are two examples of data types that are **smart pointers** (§15)\n",
    "* A **pointer** is a general concept for a _variable_ that contains a memory address. **Not in Rust!!**"
   ]
  },
  {
   "cell_type": "markdown",
   "id": "a554d7e4",
   "metadata": {},
   "source": [
    "<div style=\"text-align: center;\">\n",
    "  <img src=\"pointer.png\" alt=\"Simple pointer\" style=\"width: 40%;\">\n",
    "</div>\n",
    "<div style=\"text-align: center;\">\n",
    "  <i>Example of a simple pointer. Note: does not exist in Rust.</i>\n",
    "</div>"
   ]
  },
  {
   "cell_type": "markdown",
   "id": "7fffdc79",
   "metadata": {},
   "source": [
    "**Smart pointers** are pointers that have additional metadata that allows the\n",
    "compiler to do more checks and optimizations.\n",
    "\n",
    "We saw an example of that in the previous lecture with a `String` that contains a\n",
    "structure on the stack with a pointer to a heap-allocated string.\n",
    "\n",
    "<div style=\"text-align: center;\">\n",
    "  <img src=\"string-data-structures.png\" alt=\"String data structures\" style=\"width: 40%;\">\n",
    "</div>\n",
    "<div style=\"text-align: center;\">\n",
    "  <i>Example of a `String` data structure and associated memory on the heap.</i>\n",
    "</div>"
   ]
  },
  {
   "cell_type": "markdown",
   "id": "79422fce",
   "metadata": {},
   "source": [
    "### `Box<T>`\n",
    "\n",
    "Rust provides a datatype called `Box<T>` that is a general purpose smart pointer\n",
    "that lets us allocate a single value on the heap.\n",
    "\n",
    "```rust\n",
    "let mut pointer = Box::new(2000);\n",
    "```\n",
    "\n",
    "This creates a new `Box<i32>` on the heap with the value `2000`.\n"
   ]
  },
  {
   "cell_type": "markdown",
   "id": "db469966",
   "metadata": {},
   "source": [
    "\n",
    "Why is it helpful to allocate a single value on the heap?"
   ]
  },
  {
   "cell_type": "markdown",
   "id": "f100af08",
   "metadata": {},
   "source": [
    "There can be cases when we don't know the size of the datatype at compile time.\n"
   ]
  },
  {
   "cell_type": "markdown",
   "id": "8821d263",
   "metadata": {},
   "source": [
    "Let's look at examples of using `Box<T>` to store data on the heap."
   ]
  },
  {
   "cell_type": "code",
   "execution_count": 2,
   "id": "e9cdff0a",
   "metadata": {
    "vscode": {
     "languageId": "rust"
    }
   },
   "outputs": [
    {
     "name": "stdout",
     "output_type": "stream",
     "text": [
      "boxed: 5\n"
     ]
    }
   ],
   "source": [
    "let val: u8 = 5;  // store 5 on the stack\n",
    "let boxed: Box<u8> = Box::new(val);  // store 5 on the heap\n",
    "\n",
    "println!(\"boxed: {:?}\", boxed);\n",
    "println!(\"val: {:?}\", val);\n"
   ]
  },
  {
   "cell_type": "code",
   "execution_count": 4,
   "id": "3f36d90a",
   "metadata": {
    "vscode": {
     "languageId": "rust"
    }
   },
   "outputs": [
    {
     "ename": "Error",
     "evalue": "mismatched types",
     "output_type": "error",
     "traceback": [
      "\u001b[31m[E0308] Error:\u001b[0m mismatched types",
      "   \u001b[38;5;246m╭\u001b[0m\u001b[38;5;246m─\u001b[0m\u001b[38;5;246m[\u001b[0mcommand_4:1:1\u001b[38;5;246m]\u001b[0m",
      "   \u001b[38;5;246m│\u001b[0m",
      " \u001b[38;5;246m4 │\u001b[0m \u001b[38;5;249ml\u001b[0m\u001b[38;5;249me\u001b[0m\u001b[38;5;249mt\u001b[0m\u001b[38;5;249m \u001b[0m\u001b[38;5;249mv\u001b[0m\u001b[38;5;249ma\u001b[0m\u001b[38;5;249ml\u001b[0m\u001b[38;5;249m:\u001b[0m\u001b[38;5;249m \u001b[0m\u001b[38;5;100mu\u001b[0m\u001b[38;5;100m8\u001b[0m\u001b[38;5;249m \u001b[0m\u001b[38;5;249m=\u001b[0m\u001b[38;5;249m \u001b[0m\u001b[38;5;54mb\u001b[0m\u001b[38;5;54mo\u001b[0m\u001b[38;5;54mx\u001b[0m\u001b[38;5;54me\u001b[0m\u001b[38;5;54md\u001b[0m\u001b[38;5;249m;\u001b[0m",
      " \u001b[38;5;240m  │\u001b[0m          \u001b[38;5;100m─\u001b[0m\u001b[38;5;100m┬\u001b[0m   \u001b[38;5;68m┬\u001b[0m\u001b[38;5;54m─\u001b[0m\u001b[38;5;54m┬\u001b[0m\u001b[38;5;54m─\u001b[0m\u001b[38;5;54m─\u001b[0m  ",
      " \u001b[38;5;240m  │\u001b[0m           \u001b[38;5;100m╰\u001b[0m\u001b[38;5;100m─\u001b[0m\u001b[38;5;100m─\u001b[0m\u001b[38;5;100m─\u001b[0m\u001b[38;5;100m─\u001b[0m\u001b[38;5;100m─\u001b[0m\u001b[38;5;100m─\u001b[0m\u001b[38;5;100m─\u001b[0m\u001b[38;5;100m─\u001b[0m\u001b[38;5;100m─\u001b[0m\u001b[38;5;100m─\u001b[0m expected due to this",
      " \u001b[38;5;240m  │\u001b[0m               \u001b[38;5;68m│\u001b[0m \u001b[38;5;54m│\u001b[0m    ",
      " \u001b[38;5;240m  │\u001b[0m               \u001b[38;5;68m╰\u001b[0m\u001b[38;5;68m─\u001b[0m\u001b[38;5;68m─\u001b[0m\u001b[38;5;68m─\u001b[0m\u001b[38;5;68m─\u001b[0m\u001b[38;5;68m─\u001b[0m\u001b[38;5;68m─\u001b[0m help: consider unboxing the value: `*`",
      " \u001b[38;5;240m  │\u001b[0m                 \u001b[38;5;54m│\u001b[0m    ",
      " \u001b[38;5;240m  │\u001b[0m                 \u001b[38;5;54m╰\u001b[0m\u001b[38;5;54m─\u001b[0m\u001b[38;5;54m─\u001b[0m\u001b[38;5;54m─\u001b[0m\u001b[38;5;54m─\u001b[0m expected `u8`, found `Box<u8>`",
      "\u001b[38;5;246m───╯\u001b[0m"
     ]
    }
   ],
   "source": [
    "let boxed: Box<u8> = Box::new(5);  // store 5 on the heap\n",
    "\n",
    "// can we copy the value back to the stack?\n",
    "let val: u8 = boxed;\n",
    "\n",
    "\n",
    "println!(\"boxed: {:?}\", boxed);\n",
    "println!(\"val: {:?}\", val);\n"
   ]
  },
  {
   "cell_type": "markdown",
   "id": "3651371e",
   "metadata": {},
   "source": [
    "The variable `boxed` is a data structure that contains a pointer to the heap-allocated value.\n",
    "\n",
    "We have to _dereference_ the pointer to get the value using `*boxed`."
   ]
  },
  {
   "cell_type": "markdown",
   "id": "2181e10b",
   "metadata": {},
   "source": [
    "---"
   ]
  },
  {
   "cell_type": "markdown",
   "id": "d62ca8fa",
   "metadata": {},
   "source": [
    "### Optional: Linked lists using `Box<T>`\n",
    "\n",
    "Here's an example of a kind of linked list that uses `Box<T>` to store the data on the heap.\n",
    "\n",
    "See [Module boxed Examples](https://doc.rust-lang.org/std/boxed/index.html)."
   ]
  },
  {
   "cell_type": "code",
   "execution_count": 5,
   "id": "c4512d1a",
   "metadata": {
    "vscode": {
     "languageId": "rust"
    }
   },
   "outputs": [
    {
     "name": "stdout",
     "output_type": "stream",
     "text": [
      "Cons(1, Cons(2, Nil))\n"
     ]
    }
   ],
   "source": [
    "#[allow(dead_code)]\n",
    "#[derive(Debug)]\n",
    "enum List<T> {\n",
    "    Cons(T, Box<List<T>>),\n",
    "    Nil,\n",
    "}\n",
    "\n",
    "let list: List<i32> = List::Cons(1, Box::new(List::Cons(2, Box::new(List::Nil))));\n",
    "println!(\"{list:?}\");"
   ]
  },
  {
   "cell_type": "markdown",
   "id": "21ef450c",
   "metadata": {},
   "source": [
    "We can't just recursively define a list like this:"
   ]
  },
  {
   "cell_type": "code",
   "execution_count": 6,
   "id": "4ccceba4",
   "metadata": {
    "vscode": {
     "languageId": "rust"
    }
   },
   "outputs": [
    {
     "ename": "Error",
     "evalue": "recursive type `List` has infinite size",
     "output_type": "error",
     "traceback": [
      "\u001b[31m[E0072] Error:\u001b[0m recursive type `List` has infinite size",
      "   \u001b[38;5;246m╭\u001b[0m\u001b[38;5;246m─\u001b[0m\u001b[38;5;246m[\u001b[0mcommand_6:1:1\u001b[38;5;246m]\u001b[0m",
      "   \u001b[38;5;246m│\u001b[0m",
      " \u001b[38;5;246m5 │\u001b[0m \u001b[38;5;100me\u001b[0m\u001b[38;5;100mn\u001b[0m\u001b[38;5;100mu\u001b[0m\u001b[38;5;100mm\u001b[0m\u001b[38;5;100m \u001b[0m\u001b[38;5;100mL\u001b[0m\u001b[38;5;100mi\u001b[0m\u001b[38;5;100ms\u001b[0m\u001b[38;5;100mt\u001b[0m\u001b[38;5;100m<\u001b[0m\u001b[38;5;100mT\u001b[0m\u001b[38;5;100m>\u001b[0m\u001b[38;5;249m \u001b[0m\u001b[38;5;249m{\u001b[0m",
      " \u001b[38;5;240m  │\u001b[0m \u001b[38;5;100m─\u001b[0m\u001b[38;5;100m─\u001b[0m\u001b[38;5;100m─\u001b[0m\u001b[38;5;100m─\u001b[0m\u001b[38;5;100m─\u001b[0m\u001b[38;5;100m─\u001b[0m\u001b[38;5;100m┬\u001b[0m\u001b[38;5;100m─\u001b[0m\u001b[38;5;100m─\u001b[0m\u001b[38;5;100m─\u001b[0m\u001b[38;5;100m─\u001b[0m\u001b[38;5;100m─\u001b[0m  ",
      " \u001b[38;5;240m  │\u001b[0m       \u001b[38;5;100m╰\u001b[0m\u001b[38;5;100m─\u001b[0m\u001b[38;5;100m─\u001b[0m\u001b[38;5;100m─\u001b[0m\u001b[38;5;100m─\u001b[0m\u001b[38;5;100m─\u001b[0m\u001b[38;5;100m─\u001b[0m\u001b[38;5;100m─\u001b[0m error: recursive type `List` has infinite size",
      " \u001b[38;5;246m6 │\u001b[0m \u001b[38;5;249m \u001b[0m\u001b[38;5;249m \u001b[0m\u001b[38;5;249m \u001b[0m\u001b[38;5;249m \u001b[0m\u001b[38;5;249mC\u001b[0m\u001b[38;5;249mo\u001b[0m\u001b[38;5;249mn\u001b[0m\u001b[38;5;249ms\u001b[0m\u001b[38;5;249m(\u001b[0m\u001b[38;5;249mT\u001b[0m\u001b[38;5;249m,\u001b[0m\u001b[38;5;249m \u001b[0m\u001b[38;5;54mL\u001b[0m\u001b[38;5;54mi\u001b[0m\u001b[38;5;54ms\u001b[0m\u001b[38;5;54mt\u001b[0m\u001b[38;5;54m<\u001b[0m\u001b[38;5;54mT\u001b[0m\u001b[38;5;54m>\u001b[0m\u001b[38;5;249m)\u001b[0m\u001b[38;5;249m,\u001b[0m",
      " \u001b[38;5;240m  │\u001b[0m             \u001b[38;5;54m─\u001b[0m\u001b[38;5;54m─\u001b[0m\u001b[38;5;54m─\u001b[0m\u001b[38;5;54m┬\u001b[0m\u001b[38;5;54m─\u001b[0m\u001b[38;5;54m─\u001b[0m\u001b[38;5;54m─\u001b[0m  ",
      " \u001b[38;5;240m  │\u001b[0m                \u001b[38;5;54m╰\u001b[0m\u001b[38;5;54m─\u001b[0m\u001b[38;5;54m─\u001b[0m\u001b[38;5;54m─\u001b[0m\u001b[38;5;54m─\u001b[0m\u001b[38;5;54m─\u001b[0m recursive without indirection",
      "\u001b[38;5;246m───╯\u001b[0m"
     ]
    },
    {
     "ename": "Error",
     "evalue": "cycle detected when computing when `List` needs drop",
     "output_type": "error",
     "traceback": [
      "\u001b[31m[E0391] Error:\u001b[0m cycle detected when computing when `List` needs drop",
      "   \u001b[38;5;246m╭\u001b[0m\u001b[38;5;246m─\u001b[0m\u001b[38;5;246m[\u001b[0mcommand_6:1:1\u001b[38;5;246m]\u001b[0m",
      "   \u001b[38;5;246m│\u001b[0m",
      " \u001b[38;5;246m5 │\u001b[0m \u001b[38;5;54me\u001b[0m\u001b[38;5;54mn\u001b[0m\u001b[38;5;54mu\u001b[0m\u001b[38;5;54mm\u001b[0m\u001b[38;5;54m \u001b[0m\u001b[38;5;54mL\u001b[0m\u001b[38;5;54mi\u001b[0m\u001b[38;5;54ms\u001b[0m\u001b[38;5;54mt\u001b[0m\u001b[38;5;54m<\u001b[0m\u001b[38;5;54mT\u001b[0m\u001b[38;5;54m>\u001b[0m\u001b[38;5;249m \u001b[0m\u001b[38;5;249m{\u001b[0m",
      " \u001b[38;5;240m  │\u001b[0m \u001b[38;5;54m─\u001b[0m\u001b[38;5;54m─\u001b[0m\u001b[38;5;54m─\u001b[0m\u001b[38;5;54m─\u001b[0m\u001b[38;5;54m─\u001b[0m\u001b[38;5;54m─\u001b[0m\u001b[38;5;54m┬\u001b[0m\u001b[38;5;54m─\u001b[0m\u001b[38;5;54m─\u001b[0m\u001b[38;5;54m─\u001b[0m\u001b[38;5;54m─\u001b[0m\u001b[38;5;54m─\u001b[0m  ",
      " \u001b[38;5;240m  │\u001b[0m       \u001b[38;5;54m╰\u001b[0m\u001b[38;5;54m─\u001b[0m\u001b[38;5;54m─\u001b[0m\u001b[38;5;54m─\u001b[0m\u001b[38;5;54m─\u001b[0m\u001b[38;5;54m─\u001b[0m\u001b[38;5;54m─\u001b[0m\u001b[38;5;54m─\u001b[0m error: cycle detected when computing when `List` needs drop",
      " \u001b[38;5;240m  │\u001b[0m ",
      " \u001b[38;5;240m  │\u001b[0m \u001b[38;5;115mNote\u001b[0m: note: cycle used when computing whether `List<i32>` needs drop",
      "\u001b[38;5;246m───╯\u001b[0m"
     ]
    }
   ],
   "source": [
    "// ERROR\n",
    "\n",
    "#[allow(dead_code)]\n",
    "#[derive(Debug)]\n",
    "enum List<T> {\n",
    "    Cons(T, List<T>),\n",
    "    Nil,\n",
    "}\n",
    "\n",
    "let list: List<i32> = List::Cons(1, List::Cons(2, List::Nil));\n",
    "println!(\"{list:?}\");"
   ]
  },
  {
   "cell_type": "markdown",
   "id": "c9abe373",
   "metadata": {},
   "source": [
    "---"
   ]
  },
  {
   "cell_type": "markdown",
   "id": "24879697",
   "metadata": {},
   "source": [
    "Let's allocate a `Box<i32>` on the heap and print the pointer to it and it's containing structure."
   ]
  },
  {
   "cell_type": "code",
   "execution_count": 7,
   "id": "c032c72f",
   "metadata": {
    "vscode": {
     "languageId": "rust"
    }
   },
   "outputs": [
    {
     "name": "stdout",
     "output_type": "stream",
     "text": [
      "&boxed: 0x16afc9620\n"
     ]
    }
   ],
   "source": [
    "let boxed: Box<i32> = Box::new(2000);\n",
    "println!(\"&boxed: {:p}\", &boxed);\n",
    "println!(\"into_raw(boxed): {:p}\", Box::<i32>::into_raw(boxed));\n"
   ]
  },
  {
   "cell_type": "code",
   "execution_count": 9,
   "id": "f252212e",
   "metadata": {
    "vscode": {
     "languageId": "rust"
    }
   },
   "outputs": [
    {
     "name": "stdout",
     "output_type": "stream",
     "text": [
      "pointer: 2000, &pointer: 0x16afc95b0, pointer.as_ref(): 0x14d7040a0\n",
      "pointer2: 22, &pointer2: 0x16afc95b8, pointer2.as_ref(): 0x14d704110\n",
      "\n",
      "Clone pointer2 into pointer\n",
      "pointer: 22, &pointer: 0x16afc95b0, pointer.as_ref(): 0x14d704080\n",
      "pointer2: 22, &pointer2: 0x16afc95b8, pointer2.as_ref(): 0x14d704110\n"
     ]
    }
   ],
   "source": [
    "// store 2000 and 22 on the heap\n",
    "let mut pointer = Box::new(2000);\n",
    "let pointer2 = Box::new(22);\n",
    "\n",
    "println!(\"pointer: {:?}, &pointer: {:p}, pointer.as_ref(): {:p}\", pointer, &pointer, pointer.as_ref());\n",
    "println!(\"pointer2: {:?}, &pointer2: {:p}, pointer2.as_ref(): {:p}\", pointer2, &pointer2, pointer2.as_ref());\n",
    "\n",
    "println!(\"\\nClone pointer2 into pointer\");\n",
    "\n",
    "// We can't directly assign a `Box<i32>` to another `Box<i32>`\n",
    "//pointer = pointer2;  // try this to see what happens\n",
    "\n",
    "// We can clone a `Box<i32>` and assign it to another `Box<i32>`\n",
    "pointer = pointer2.clone();\n",
    "\n",
    "println!(\"pointer: {:?}, &pointer: {:p}, pointer.as_ref(): {:p}\", pointer, &pointer, pointer.as_ref());\n",
    "println!(\"pointer2: {:?}, &pointer2: {:p}, pointer2.as_ref(): {:p}\", pointer2, &pointer2, pointer2.as_ref());\n"
   ]
  },
  {
   "cell_type": "markdown",
   "id": "900ed729",
   "metadata": {},
   "source": [
    "Pay attention to what happened to the pointers after the clone.\n",
    "\n",
    "The structure containing the pointer is the same, but the pointer to the heap is different."
   ]
  },
  {
   "cell_type": "code",
   "execution_count": 10,
   "id": "0a7bee23",
   "metadata": {
    "vscode": {
     "languageId": "rust"
    }
   },
   "outputs": [
    {
     "name": "stdout",
     "output_type": "stream",
     "text": [
      "pointer: 2000\n",
      "z: 2000\n",
      "z: 2000\n"
     ]
    }
   ],
   "source": [
    "let mut pointer = Box::new(2000);\n",
    "println!(\"pointer: {:?}\", pointer);\n",
    "\n",
    "let z = pointer.clone();\n",
    "println!(\"z: {:?}\", z);\n",
    "\n",
    "// when a variable goes out of scope, it is dropped\n",
    "// we can use the drop function to explicitly drop a variable\n",
    "// this is why we can't use pointer after this point\n",
    "drop(pointer);\n",
    "//println!(\"pointer:{:?}\", pointer);  // try to uncomment this to see what happens\n",
    "println!(\"z: {:?}\", z);"
   ]
  },
  {
   "cell_type": "markdown",
   "id": "3faa3385",
   "metadata": {
    "slideshow": {
     "slide_type": "slide"
    }
   },
   "source": [
    "## Experiment with passing the pointer around"
   ]
  },
  {
   "cell_type": "code",
   "execution_count": 11,
   "id": "7683faa6",
   "metadata": {
    "cell_style": "split",
    "vscode": {
     "languageId": "rust"
    }
   },
   "outputs": [
    {
     "name": "stdout",
     "output_type": "stream",
     "text": [
      "print_value: 123\n",
      "print_value: 0x16afc9604\n",
      "\n",
      "print_content: 123\n",
      "print_content: 123\n",
      "print_content: 0x16afc9570\n",
      "print_content: 0x14e004100\n",
      "print_content: 0x14e004100\n"
     ]
    }
   ],
   "source": [
    "fn print_content(pointer: Box<i32>) {\n",
    "    println!(\"print_content: {}\", *pointer); // dereference\n",
    "    println!(\"print_content: {}\", pointer);  // actually rust is smart enough to dereference\n",
    "    println!(\"print_content: {:p}\", &pointer);  // prints a pointer to the containing structure\n",
    "    println!(\"print_content: {:p}\", pointer);  // but naturally prints a pointer to heap\n",
    "    println!(\"print_content: {:p}\", pointer.as_ref());\n",
    "\n",
    "}\n",
    "\n",
    "fn print_value(val: i32){\n",
    "    println!(\"print_value: {}\", val);\n",
    "    // println!(\"print_value: {:p}\", val);  // this won't work\n",
    "    println!(\"print_value: {:p}\", &val);\n",
    "}\n",
    "\n",
    "let p = Box::new(123);\n",
    "// print_value(p); // ERROR: why doesn't this work?\n",
    "print_value(*p);\n",
    "println!(\"\");\n",
    "\n",
    "print_content(p); "
   ]
  },
  {
   "cell_type": "code",
   "execution_count": 13,
   "id": "96dcca3e",
   "metadata": {
    "cell_style": "split",
    "slideshow": {
     "slide_type": "fragment"
    },
    "vscode": {
     "languageId": "rust"
    }
   },
   "outputs": [
    {
     "name": "stdout",
     "output_type": "stream",
     "text": [
      "print_content: 321\n",
      "print_content: 321\n",
      "print_content: 0x16afc95f0\n",
      "print_content: 0x14e0040a0\n",
      "print_content: 0x14e0040a0\n"
     ]
    }
   ],
   "source": [
    "let q = Box::new(321);\n",
    "\n",
    "print_content(q);\n",
    "//print_content(q); // uncomment this to see what happens"
   ]
  },
  {
   "cell_type": "markdown",
   "id": "8a9ea7f7",
   "metadata": {
    "slideshow": {
     "slide_type": "slide"
    }
   },
   "source": [
    "## What happened: Ownership\n",
    "\n",
    "* Each value in Rust has a variable that is its **owner**\n",
    "* Only **one** owner\n",
    "* When the owner goes out of scope, the value is dropped"
   ]
  },
  {
   "cell_type": "code",
   "execution_count": 14,
   "id": "be897cfe",
   "metadata": {
    "cell_style": "split",
    "slideshow": {
     "slide_type": "fragment"
    },
    "vscode": {
     "languageId": "rust"
    }
   },
   "outputs": [
    {
     "ename": "Error",
     "evalue": "use of moved value: `q`",
     "output_type": "error",
     "traceback": [
      "\u001b[31m[E0382] Error:\u001b[0m use of moved value: `q`",
      "   \u001b[38;5;246m╭\u001b[0m\u001b[38;5;246m─\u001b[0m\u001b[38;5;246m[\u001b[0mcommand_14:1:1\u001b[38;5;246m]\u001b[0m",
      "   \u001b[38;5;246m│\u001b[0m",
      " \u001b[38;5;246m5 │\u001b[0m \u001b[38;5;249ml\u001b[0m\u001b[38;5;249me\u001b[0m\u001b[38;5;249mt\u001b[0m\u001b[38;5;249m \u001b[0m\u001b[38;5;68mq\u001b[0m\u001b[38;5;249m \u001b[0m\u001b[38;5;249m=\u001b[0m\u001b[38;5;249m \u001b[0m\u001b[38;5;249mB\u001b[0m\u001b[38;5;249mo\u001b[0m\u001b[38;5;249mx\u001b[0m\u001b[38;5;249m:\u001b[0m\u001b[38;5;249m:\u001b[0m\u001b[38;5;249mn\u001b[0m\u001b[38;5;249me\u001b[0m\u001b[38;5;249mw\u001b[0m\u001b[38;5;249m(\u001b[0m\u001b[38;5;249m3\u001b[0m\u001b[38;5;249m2\u001b[0m\u001b[38;5;249m1\u001b[0m\u001b[38;5;249m)\u001b[0m\u001b[38;5;249m;\u001b[0m",
      " \u001b[38;5;240m  │\u001b[0m     \u001b[38;5;68m┬\u001b[0m  ",
      " \u001b[38;5;240m  │\u001b[0m     \u001b[38;5;68m╰\u001b[0m\u001b[38;5;68m─\u001b[0m\u001b[38;5;68m─\u001b[0m move occurs because `q` has type `Box<i32>`, which does not implement the `Copy` trait",
      " \u001b[38;5;240m  │\u001b[0m ",
      " \u001b[38;5;246m7 │\u001b[0m \u001b[38;5;249mp\u001b[0m\u001b[38;5;249mr\u001b[0m\u001b[38;5;249mi\u001b[0m\u001b[38;5;249mn\u001b[0m\u001b[38;5;249mt\u001b[0m\u001b[38;5;249m_\u001b[0m\u001b[38;5;249mc\u001b[0m\u001b[38;5;249mo\u001b[0m\u001b[38;5;249mn\u001b[0m\u001b[38;5;249mt\u001b[0m\u001b[38;5;249me\u001b[0m\u001b[38;5;249mn\u001b[0m\u001b[38;5;249mt\u001b[0m\u001b[38;5;249m(\u001b[0m\u001b[38;5;54mq\u001b[0m\u001b[38;5;249m)\u001b[0m\u001b[38;5;249m;\u001b[0m",
      " \u001b[38;5;240m  │\u001b[0m               \u001b[38;5;54m┬\u001b[0m\u001b[38;5;37m│\u001b[0m ",
      " \u001b[38;5;240m  │\u001b[0m               \u001b[38;5;54m╰\u001b[0m\u001b[38;5;54m─\u001b[0m\u001b[38;5;54m─\u001b[0m value moved here",
      " \u001b[38;5;240m  │\u001b[0m                \u001b[38;5;37m│\u001b[0m ",
      " \u001b[38;5;240m  │\u001b[0m                \u001b[38;5;37m╰\u001b[0m\u001b[38;5;37m─\u001b[0m help: consider cloning the value if the performance cost is acceptable: `.clone()`",
      " \u001b[38;5;246m8 │\u001b[0m \u001b[38;5;249mp\u001b[0m\u001b[38;5;249mr\u001b[0m\u001b[38;5;249mi\u001b[0m\u001b[38;5;249mn\u001b[0m\u001b[38;5;249mt\u001b[0m\u001b[38;5;249m_\u001b[0m\u001b[38;5;249mc\u001b[0m\u001b[38;5;249mo\u001b[0m\u001b[38;5;249mn\u001b[0m\u001b[38;5;249mt\u001b[0m\u001b[38;5;249me\u001b[0m\u001b[38;5;249mn\u001b[0m\u001b[38;5;249mt\u001b[0m\u001b[38;5;249m(\u001b[0m\u001b[38;5;100mq\u001b[0m\u001b[38;5;249m)\u001b[0m\u001b[38;5;249m;\u001b[0m\u001b[38;5;249m \u001b[0m\u001b[38;5;249m \u001b[0m\u001b[38;5;249m/\u001b[0m\u001b[38;5;249m/\u001b[0m\u001b[38;5;249m \u001b[0m\u001b[38;5;249mE\u001b[0m\u001b[38;5;249mR\u001b[0m\u001b[38;5;249mR\u001b[0m\u001b[38;5;249mO\u001b[0m\u001b[38;5;249mR\u001b[0m\u001b[38;5;249m:\u001b[0m\u001b[38;5;249m \u001b[0m\u001b[38;5;249mw\u001b[0m\u001b[38;5;249mh\u001b[0m\u001b[38;5;249my\u001b[0m\u001b[38;5;249m \u001b[0m\u001b[38;5;249md\u001b[0m\u001b[38;5;249mo\u001b[0m\u001b[38;5;249me\u001b[0m\u001b[38;5;249ms\u001b[0m\u001b[38;5;249mn\u001b[0m\u001b[38;5;249m'\u001b[0m\u001b[38;5;249mt\u001b[0m\u001b[38;5;249m \u001b[0m\u001b[38;5;249mt\u001b[0m\u001b[38;5;249mh\u001b[0m\u001b[38;5;249mi\u001b[0m\u001b[38;5;249ms\u001b[0m\u001b[38;5;249m \u001b[0m\u001b[38;5;249mw\u001b[0m\u001b[38;5;249mo\u001b[0m\u001b[38;5;249mr\u001b[0m\u001b[38;5;249mk\u001b[0m\u001b[38;5;249m?\u001b[0m",
      " \u001b[38;5;240m  │\u001b[0m               \u001b[38;5;100m┬\u001b[0m  ",
      " \u001b[38;5;240m  │\u001b[0m               \u001b[38;5;100m╰\u001b[0m\u001b[38;5;100m─\u001b[0m\u001b[38;5;100m─\u001b[0m value used here after move",
      "\u001b[38;5;246m───╯\u001b[0m"
     ]
    }
   ],
   "source": [
    "fn print_content(pointer:Box<i32>) {   // we move ownership of pointer to the function\n",
    "    println!(\"content: {}\", *pointer)\n",
    "}  // pointer goes out of scope here and the value is dropped\n",
    "\n",
    "let q = Box::new(321);\n",
    "\n",
    "print_content(q);\n",
    "print_content(q);  // ERROR: why doesn't this work?"
   ]
  },
  {
   "cell_type": "markdown",
   "id": "0226975d",
   "metadata": {
    "cell_style": "split"
   },
   "source": [
    "* First call to `print_content`: `Box::new(321)` is **moved** from `q` to `pointer`\n",
    "* (if it compiled) at the end of `print_content`:\n",
    "  * `Box::new(321)` would be dropped\n",
    "  * its space on the heap deallocated"
   ]
  },
  {
   "cell_type": "markdown",
   "id": "d330029e",
   "metadata": {
    "cell_style": "split",
    "slideshow": {
     "slide_type": "fragment"
    }
   },
   "source": [
    "Second call can't proceed: **the content of `q` is gone**"
   ]
  },
  {
   "cell_type": "markdown",
   "id": "34eb2041",
   "metadata": {
    "slideshow": {
     "slide_type": "subslide"
    }
   },
   "source": [
    "## More examples of ownership"
   ]
  },
  {
   "cell_type": "code",
   "execution_count": 15,
   "id": "74b0a272",
   "metadata": {
    "cell_style": "split",
    "vscode": {
     "languageId": "rust"
    }
   },
   "outputs": [
    {
     "ename": "Error",
     "evalue": "borrow of moved value: `x`",
     "output_type": "error",
     "traceback": [
      "\u001b[31m[E0382] Error:\u001b[0m borrow of moved value: `x`",
      "   \u001b[38;5;246m╭\u001b[0m\u001b[38;5;246m─\u001b[0m\u001b[38;5;246m[\u001b[0mcommand_15:1:1\u001b[38;5;246m]\u001b[0m",
      "   \u001b[38;5;246m│\u001b[0m",
      " \u001b[38;5;246m2 │\u001b[0m \u001b[38;5;249ml\u001b[0m\u001b[38;5;249me\u001b[0m\u001b[38;5;249mt\u001b[0m\u001b[38;5;249m \u001b[0m\u001b[38;5;68mx\u001b[0m\u001b[38;5;249m \u001b[0m\u001b[38;5;249m=\u001b[0m\u001b[38;5;249m \u001b[0m\u001b[38;5;249mB\u001b[0m\u001b[38;5;249mo\u001b[0m\u001b[38;5;249mx\u001b[0m\u001b[38;5;249m:\u001b[0m\u001b[38;5;249m:\u001b[0m\u001b[38;5;249mn\u001b[0m\u001b[38;5;249me\u001b[0m\u001b[38;5;249mw\u001b[0m\u001b[38;5;249m(\u001b[0m\u001b[38;5;249m1\u001b[0m\u001b[38;5;249m2\u001b[0m\u001b[38;5;249m3\u001b[0m\u001b[38;5;249m)\u001b[0m\u001b[38;5;249m;\u001b[0m",
      " \u001b[38;5;240m  │\u001b[0m     \u001b[38;5;68m┬\u001b[0m  ",
      " \u001b[38;5;240m  │\u001b[0m     \u001b[38;5;68m╰\u001b[0m\u001b[38;5;68m─\u001b[0m\u001b[38;5;68m─\u001b[0m move occurs because `x` has type `Box<i32>`, which does not implement the `Copy` trait",
      " \u001b[38;5;240m  │\u001b[0m ",
      " \u001b[38;5;246m5 │\u001b[0m \u001b[38;5;249ml\u001b[0m\u001b[38;5;249me\u001b[0m\u001b[38;5;249mt\u001b[0m\u001b[38;5;249m \u001b[0m\u001b[38;5;249my\u001b[0m\u001b[38;5;249m \u001b[0m\u001b[38;5;249m=\u001b[0m\u001b[38;5;249m \u001b[0m\u001b[38;5;54mx\u001b[0m\u001b[38;5;249m;\u001b[0m",
      " \u001b[38;5;240m  │\u001b[0m         \u001b[38;5;54m┬\u001b[0m\u001b[38;5;37m│\u001b[0m ",
      " \u001b[38;5;240m  │\u001b[0m         \u001b[38;5;54m╰\u001b[0m\u001b[38;5;54m─\u001b[0m\u001b[38;5;54m─\u001b[0m value moved here",
      " \u001b[38;5;240m  │\u001b[0m          \u001b[38;5;37m│\u001b[0m ",
      " \u001b[38;5;240m  │\u001b[0m          \u001b[38;5;37m╰\u001b[0m\u001b[38;5;37m─\u001b[0m help: consider cloning the value if the performance cost is acceptable: `.clone()`",
      " \u001b[38;5;246m6 │\u001b[0m \u001b[38;5;249mp\u001b[0m\u001b[38;5;249mr\u001b[0m\u001b[38;5;249mi\u001b[0m\u001b[38;5;249mn\u001b[0m\u001b[38;5;249mt\u001b[0m\u001b[38;5;249ml\u001b[0m\u001b[38;5;249mn\u001b[0m\u001b[38;5;249m!\u001b[0m\u001b[38;5;249m(\u001b[0m\u001b[38;5;249m\"\u001b[0m\u001b[38;5;249mx\u001b[0m\u001b[38;5;249m \u001b[0m\u001b[38;5;249m=\u001b[0m\u001b[38;5;249m \u001b[0m\u001b[38;5;249m{\u001b[0m\u001b[38;5;249m}\u001b[0m\u001b[38;5;249m\"\u001b[0m\u001b[38;5;249m,\u001b[0m\u001b[38;5;100m*\u001b[0m\u001b[38;5;100mx\u001b[0m\u001b[38;5;249m)\u001b[0m\u001b[38;5;249m;\u001b[0m",
      " \u001b[38;5;240m  │\u001b[0m                   \u001b[38;5;100m─\u001b[0m\u001b[38;5;100m┬\u001b[0m  ",
      " \u001b[38;5;240m  │\u001b[0m                    \u001b[38;5;100m╰\u001b[0m\u001b[38;5;100m─\u001b[0m\u001b[38;5;100m─\u001b[0m value borrowed here after move",
      "\u001b[38;5;246m───╯\u001b[0m"
     ]
    }
   ],
   "source": [
    "// won't work, value moved as well\n",
    "let x = Box::new(123);\n",
    "println!(\"x = {}\",*x);\n",
    "\n",
    "let y = x;\n",
    "println!(\"x = {}\",*x);"
   ]
  },
  {
   "cell_type": "markdown",
   "id": "7bf445ed",
   "metadata": {
    "cell_style": "split",
    "slideshow": {
     "slide_type": "fragment"
    }
   },
   "source": [
    "Fix our previous example by returning the pointer"
   ]
  },
  {
   "cell_type": "code",
   "execution_count": 16,
   "id": "dc493b64",
   "metadata": {
    "cell_style": "split",
    "slideshow": {
     "slide_type": "-"
    },
    "vscode": {
     "languageId": "rust"
    }
   },
   "outputs": [
    {
     "name": "stdout",
     "output_type": "stream",
     "text": [
      "content: 321\n",
      "content: 321\n",
      "content: 321\n"
     ]
    }
   ],
   "source": [
    "fn print_content(pointer:Box<i32>) -> Box<i32> {\n",
    "    println!(\"content: {}\", *pointer);\n",
    "    return pointer;\n",
    "}\n",
    "\n",
    "let q = Box::new(321);\n",
    "\n",
    "let q = print_content(q);\n",
    "let q = print_content(q);\n",
    "let q = print_content(q);"
   ]
  },
  {
   "cell_type": "markdown",
   "id": "f59239a5",
   "metadata": {
    "slideshow": {
     "slide_type": "slide"
    }
   },
   "source": [
    "## Avoiding moving values a lot: borrowing -- Part 1\n",
    "\n",
    "**Passing and returning values**\n"
   ]
  },
  {
   "cell_type": "code",
   "execution_count": 17,
   "id": "b408e2e1",
   "metadata": {
    "cell_style": "split",
    "vscode": {
     "languageId": "rust"
    }
   },
   "outputs": [
    {
     "name": "stdout",
     "output_type": "stream",
     "text": [
      "Road { intersection_1: 13, intersection_2: 23, max_speed: 25 }\n"
     ]
    }
   ],
   "source": [
    "#[derive(Debug)]\n",
    "struct Road {\n",
    "    intersection_1: u32,\n",
    "    intersection_2: u32,\n",
    "    max_speed: u32,\n",
    "}\n",
    "\n",
    "// adding a function in the namespace of Road\n",
    "impl Road {\n",
    "    // very useful constructor\n",
    "    fn new(i1:u32,i2:u32,speed:u32) -> Road {\n",
    "        Road {\n",
    "            intersection_1: i1,\n",
    "            intersection_2: i2,\n",
    "            max_speed: speed,\n",
    "        }\n",
    "    }\n",
    "}\n",
    "\n",
    "let road = Road::new(13,23,25);\n",
    "println!(\"{:?}\",road);"
   ]
  },
  {
   "cell_type": "markdown",
   "id": "468023ae",
   "metadata": {},
   "source": [
    "Remember that we can create a new instance of a struct by using the `struct_name` and then the field names,\n",
    "rather than using our constructor method."
   ]
  },
  {
   "cell_type": "code",
   "execution_count": 18,
   "id": "f5420036",
   "metadata": {
    "vscode": {
     "languageId": "rust"
    }
   },
   "outputs": [
    {
     "name": "stdout",
     "output_type": "stream",
     "text": [
      "Road { intersection_1: 101, intersection_2: 102, max_speed: 30 }\n"
     ]
    }
   ],
   "source": [
    "let road2 = Road{intersection_1: 101, intersection_2: 102, max_speed: 30};\n",
    "println!(\"{:?}\",road2);"
   ]
  },
  {
   "cell_type": "markdown",
   "id": "e37dc58b",
   "metadata": {},
   "source": [
    "Let's try assignning `road` to another variable and then try accessing it."
   ]
  },
  {
   "cell_type": "code",
   "execution_count": 19,
   "id": "dc287ecf",
   "metadata": {
    "cell_style": "split",
    "slideshow": {
     "slide_type": "fragment"
    },
    "vscode": {
     "languageId": "rust"
    }
   },
   "outputs": [
    {
     "ename": "Error",
     "evalue": "borrow of moved value: `road`",
     "output_type": "error",
     "traceback": [
      "\u001b[31m[E0382] Error:\u001b[0m borrow of moved value: `road`",
      "   \u001b[38;5;246m╭\u001b[0m\u001b[38;5;246m─\u001b[0m\u001b[38;5;246m[\u001b[0mcommand_19:1:1\u001b[38;5;246m]\u001b[0m",
      "   \u001b[38;5;246m│\u001b[0m",
      " \u001b[38;5;246m3 │\u001b[0m \u001b[38;5;249ml\u001b[0m\u001b[38;5;249me\u001b[0m\u001b[38;5;249mt\u001b[0m\u001b[38;5;249m \u001b[0m\u001b[38;5;249ma\u001b[0m\u001b[38;5;249mn\u001b[0m\u001b[38;5;249mo\u001b[0m\u001b[38;5;249mt\u001b[0m\u001b[38;5;249mh\u001b[0m\u001b[38;5;249me\u001b[0m\u001b[38;5;249mr\u001b[0m\u001b[38;5;249m \u001b[0m\u001b[38;5;249m=\u001b[0m\u001b[38;5;249m \u001b[0m\u001b[38;5;54mr\u001b[0m\u001b[38;5;54mo\u001b[0m\u001b[38;5;54ma\u001b[0m\u001b[38;5;54md\u001b[0m\u001b[38;5;249m;\u001b[0m",
      " \u001b[38;5;240m  │\u001b[0m               \u001b[38;5;54m─\u001b[0m\u001b[38;5;54m─\u001b[0m\u001b[38;5;54m┬\u001b[0m\u001b[38;5;54m─\u001b[0m  ",
      " \u001b[38;5;240m  │\u001b[0m                 \u001b[38;5;54m╰\u001b[0m\u001b[38;5;54m─\u001b[0m\u001b[38;5;54m─\u001b[0m\u001b[38;5;54m─\u001b[0m value moved here",
      " \u001b[38;5;246m4 │\u001b[0m \u001b[38;5;249mp\u001b[0m\u001b[38;5;249mr\u001b[0m\u001b[38;5;249mi\u001b[0m\u001b[38;5;249mn\u001b[0m\u001b[38;5;249mt\u001b[0m\u001b[38;5;249ml\u001b[0m\u001b[38;5;249mn\u001b[0m\u001b[38;5;249m!\u001b[0m\u001b[38;5;249m(\u001b[0m\u001b[38;5;249m\"\u001b[0m\u001b[38;5;249m{\u001b[0m\u001b[38;5;249m}\u001b[0m\u001b[38;5;249m\"\u001b[0m\u001b[38;5;249m,\u001b[0m\u001b[38;5;100mr\u001b[0m\u001b[38;5;100mo\u001b[0m\u001b[38;5;100ma\u001b[0m\u001b[38;5;100md\u001b[0m\u001b[38;5;100m.\u001b[0m\u001b[38;5;100mm\u001b[0m\u001b[38;5;100ma\u001b[0m\u001b[38;5;100mx\u001b[0m\u001b[38;5;100m_\u001b[0m\u001b[38;5;100ms\u001b[0m\u001b[38;5;100mp\u001b[0m\u001b[38;5;100me\u001b[0m\u001b[38;5;100me\u001b[0m\u001b[38;5;100md\u001b[0m\u001b[38;5;249m)\u001b[0m\u001b[38;5;249m;\u001b[0m",
      " \u001b[38;5;240m  │\u001b[0m               \u001b[38;5;100m─\u001b[0m\u001b[38;5;100m─\u001b[0m\u001b[38;5;100m─\u001b[0m\u001b[38;5;100m─\u001b[0m\u001b[38;5;100m─\u001b[0m\u001b[38;5;100m─\u001b[0m\u001b[38;5;100m─\u001b[0m\u001b[38;5;100m┬\u001b[0m\u001b[38;5;100m─\u001b[0m\u001b[38;5;100m─\u001b[0m\u001b[38;5;100m─\u001b[0m\u001b[38;5;100m─\u001b[0m\u001b[38;5;100m─\u001b[0m\u001b[38;5;100m─\u001b[0m  ",
      " \u001b[38;5;240m  │\u001b[0m                      \u001b[38;5;100m╰\u001b[0m\u001b[38;5;100m─\u001b[0m\u001b[38;5;100m─\u001b[0m\u001b[38;5;100m─\u001b[0m\u001b[38;5;100m─\u001b[0m\u001b[38;5;100m─\u001b[0m\u001b[38;5;100m─\u001b[0m\u001b[38;5;100m─\u001b[0m\u001b[38;5;100m─\u001b[0m value borrowed here after move",
      "\u001b[38;5;246m───╯\u001b[0m"
     ]
    }
   ],
   "source": [
    "// ERROR\n",
    "// checking whether it moves\n",
    "let another = road;\n",
    "println!(\"{}\",road.max_speed);"
   ]
  },
  {
   "cell_type": "markdown",
   "id": "3e46e396",
   "metadata": {},
   "source": [
    "The error message is informative. We actually moved ownership of `road` to `another`."
   ]
  },
  {
   "cell_type": "code",
   "execution_count": 20,
   "id": "fe6fa5a4",
   "metadata": {
    "cell_style": "split",
    "slideshow": {
     "slide_type": "fragment"
    },
    "vscode": {
     "languageId": "rust"
    }
   },
   "outputs": [
    {
     "name": "stdout",
     "output_type": "stream",
     "text": [
      "Road { intersection_1: 101, intersection_2: 102, max_speed: 30 }\n"
     ]
    }
   ],
   "source": [
    "fn display_1(r:Road) {     // ownership of r is moved to the function\n",
    "    println!(\"{:?}\",r);\n",
    "}  // r goes out of scope here and the value is dropped\n",
    "\n",
    "let road = Road::new(101,102,30);\n",
    "display_1(road);\n",
    "// Uncomment this one to see ownership behavior\n",
    "// display_1(road);  "
   ]
  },
  {
   "cell_type": "code",
   "execution_count": 21,
   "id": "e04060f2",
   "metadata": {
    "vscode": {
     "languageId": "rust"
    }
   },
   "outputs": [
    {
     "name": "stdout",
     "output_type": "stream",
     "text": [
      "Road { intersection_1: 101, intersection_2: 102, max_speed: 30 }\n",
      "Road { intersection_1: 101, intersection_2: 102, max_speed: 30 }\n"
     ]
    }
   ],
   "source": [
    "// This one works due to returning the value\n",
    "fn display_1(r:Road) -> Road {\n",
    "    println!(\"{:?}\",r);\n",
    "    r\n",
    "}\n",
    "\n",
    "let mut road = Road::new(101,102,30);\n",
    "road = display_1(road);\n",
    "road = display_1(road);"
   ]
  },
  {
   "cell_type": "markdown",
   "id": "31232dd0",
   "metadata": {},
   "source": [
    "But we're basically moving the variable to the function and then returning the value as a new variable.\n",
    "\n",
    "There's a better way to do this: borrowing."
   ]
  },
  {
   "cell_type": "markdown",
   "id": "81731ea5",
   "metadata": {
    "slideshow": {
     "slide_type": "slide"
    }
   },
   "source": [
    "## Avoiding moving values a lot: borrowing -- Part 2\n",
    "\n",
    "**Read-only reference**\n",
    "\n",
    "* Reference type becomes `&Type`\n",
    "* To create: `&value`\n",
    "* To access content: `*reference`"
   ]
  },
  {
   "cell_type": "code",
   "execution_count": 22,
   "id": "44c6e1bd",
   "metadata": {
    "cell_style": "center",
    "slideshow": {
     "slide_type": "fragment"
    },
    "vscode": {
     "languageId": "rust"
    }
   },
   "outputs": [
    {
     "name": "stdout",
     "output_type": "stream",
     "text": [
      "Road { intersection_1: 101, intersection_2: 102, max_speed: 30 }\n",
      "Road { intersection_1: 101, intersection_2: 102, max_speed: 30 }\n",
      "Road { intersection_1: 101, intersection_2: 102, max_speed: 30 }\n",
      "Road { intersection_1: 101, intersection_2: 102, max_speed: 30 }\n",
      "Road { intersection_1: 101, intersection_2: 102, max_speed: 30 }\n",
      "Road { intersection_1: 101, intersection_2: 102, max_speed: 30 }\n"
     ]
    }
   ],
   "source": [
    "fn display_2(r:&Road) {\n",
    "    println!(\"{:?}\", *r); // This is the right one\n",
    "    println!(\"{:?}\", r);  // In this case the compiler does the conversion for you but it may not work all times.\n",
    "    println!(\"{:?}\", &r); // Ditto here.\n",
    "}\n",
    "\n",
    "let road = Road::new(101,102,30);\n",
    "display_2(&road); // <- have to explicitly create a reference\n",
    "display_2(&road);"
   ]
  },
  {
   "cell_type": "markdown",
   "id": "49fe9e66",
   "metadata": {
    "slideshow": {
     "slide_type": "slide"
    }
   },
   "source": [
    "## Avoiding moving values a lot: borrowing -- Part 3\n",
    "\n",
    "**Mutable reference**\n",
    "\n",
    "* Reference type becomes `&mut Type`\n",
    "* To create: `&mut value`\n",
    "* To access content: `*reference`\n",
    "\n",
    "Previously we were passing _immutable_ references to the function.\n",
    "\n",
    "That was ok because we were only reading the data.\n",
    "\n",
    "Now let's try to update the data."
   ]
  },
  {
   "cell_type": "code",
   "execution_count": 23,
   "id": "ef5648cc",
   "metadata": {
    "cell_style": "split",
    "vscode": {
     "languageId": "rust"
    }
   },
   "outputs": [
    {
     "ename": "Error",
     "evalue": "cannot assign to `r.max_speed`, which is behind a `&` reference",
     "output_type": "error",
     "traceback": [
      "\u001b[31m[E0594] Error:\u001b[0m cannot assign to `r.max_speed`, which is behind a `&` reference",
      "   \u001b[38;5;246m╭\u001b[0m\u001b[38;5;246m─\u001b[0m\u001b[38;5;246m[\u001b[0mcommand_23:1:1\u001b[38;5;246m]\u001b[0m",
      "   \u001b[38;5;246m│\u001b[0m",
      " \u001b[38;5;246m2 │\u001b[0m \u001b[38;5;249mf\u001b[0m\u001b[38;5;249mn\u001b[0m\u001b[38;5;249m \u001b[0m\u001b[38;5;249mu\u001b[0m\u001b[38;5;249mp\u001b[0m\u001b[38;5;249md\u001b[0m\u001b[38;5;249ma\u001b[0m\u001b[38;5;249mt\u001b[0m\u001b[38;5;249me\u001b[0m\u001b[38;5;249m_\u001b[0m\u001b[38;5;249ms\u001b[0m\u001b[38;5;249mp\u001b[0m\u001b[38;5;249me\u001b[0m\u001b[38;5;249me\u001b[0m\u001b[38;5;249md\u001b[0m\u001b[38;5;249m(\u001b[0m\u001b[38;5;249mr\u001b[0m\u001b[38;5;249m:\u001b[0m\u001b[38;5;249m&\u001b[0m\u001b[38;5;249mR\u001b[0m\u001b[38;5;249mo\u001b[0m\u001b[38;5;249ma\u001b[0m\u001b[38;5;249md\u001b[0m\u001b[38;5;249m,\u001b[0m\u001b[38;5;249m \u001b[0m\u001b[38;5;249mn\u001b[0m\u001b[38;5;249me\u001b[0m\u001b[38;5;249mw\u001b[0m\u001b[38;5;249m_\u001b[0m\u001b[38;5;249ms\u001b[0m\u001b[38;5;249mp\u001b[0m\u001b[38;5;249me\u001b[0m\u001b[38;5;249me\u001b[0m\u001b[38;5;249md\u001b[0m\u001b[38;5;249m:\u001b[0m\u001b[38;5;249m \u001b[0m\u001b[38;5;249mu\u001b[0m\u001b[38;5;249m3\u001b[0m\u001b[38;5;249m2\u001b[0m\u001b[38;5;249m)\u001b[0m\u001b[38;5;249m \u001b[0m\u001b[38;5;249m{\u001b[0m",
      " \u001b[38;5;240m  │\u001b[0m                    \u001b[38;5;100m│\u001b[0m ",
      " \u001b[38;5;240m  │\u001b[0m                    \u001b[38;5;100m╰\u001b[0m\u001b[38;5;100m─\u001b[0m help: consider changing this to be a mutable reference: `mut `",
      " \u001b[38;5;240m  │\u001b[0m ",
      " \u001b[38;5;246m5 │\u001b[0m \u001b[38;5;249m \u001b[0m\u001b[38;5;249m \u001b[0m\u001b[38;5;249m \u001b[0m\u001b[38;5;249m \u001b[0m\u001b[38;5;54mr\u001b[0m\u001b[38;5;54m.\u001b[0m\u001b[38;5;54mm\u001b[0m\u001b[38;5;54ma\u001b[0m\u001b[38;5;54mx\u001b[0m\u001b[38;5;54m_\u001b[0m\u001b[38;5;54ms\u001b[0m\u001b[38;5;54mp\u001b[0m\u001b[38;5;54me\u001b[0m\u001b[38;5;54me\u001b[0m\u001b[38;5;54md\u001b[0m\u001b[38;5;54m \u001b[0m\u001b[38;5;54m=\u001b[0m\u001b[38;5;54m \u001b[0m\u001b[38;5;54mn\u001b[0m\u001b[38;5;54me\u001b[0m\u001b[38;5;54mw\u001b[0m\u001b[38;5;54m_\u001b[0m\u001b[38;5;54ms\u001b[0m\u001b[38;5;54mp\u001b[0m\u001b[38;5;54me\u001b[0m\u001b[38;5;54me\u001b[0m\u001b[38;5;54md\u001b[0m\u001b[38;5;249m;\u001b[0m",
      " \u001b[38;5;240m  │\u001b[0m     \u001b[38;5;54m─\u001b[0m\u001b[38;5;54m─\u001b[0m\u001b[38;5;54m─\u001b[0m\u001b[38;5;54m─\u001b[0m\u001b[38;5;54m─\u001b[0m\u001b[38;5;54m─\u001b[0m\u001b[38;5;54m─\u001b[0m\u001b[38;5;54m─\u001b[0m\u001b[38;5;54m─\u001b[0m\u001b[38;5;54m─\u001b[0m\u001b[38;5;54m─\u001b[0m\u001b[38;5;54m┬\u001b[0m\u001b[38;5;54m─\u001b[0m\u001b[38;5;54m─\u001b[0m\u001b[38;5;54m─\u001b[0m\u001b[38;5;54m─\u001b[0m\u001b[38;5;54m─\u001b[0m\u001b[38;5;54m─\u001b[0m\u001b[38;5;54m─\u001b[0m\u001b[38;5;54m─\u001b[0m\u001b[38;5;54m─\u001b[0m\u001b[38;5;54m─\u001b[0m\u001b[38;5;54m─\u001b[0m  ",
      " \u001b[38;5;240m  │\u001b[0m                \u001b[38;5;54m╰\u001b[0m\u001b[38;5;54m─\u001b[0m\u001b[38;5;54m─\u001b[0m\u001b[38;5;54m─\u001b[0m\u001b[38;5;54m─\u001b[0m\u001b[38;5;54m─\u001b[0m\u001b[38;5;54m─\u001b[0m\u001b[38;5;54m─\u001b[0m\u001b[38;5;54m─\u001b[0m\u001b[38;5;54m─\u001b[0m\u001b[38;5;54m─\u001b[0m\u001b[38;5;54m─\u001b[0m\u001b[38;5;54m─\u001b[0m\u001b[38;5;54m─\u001b[0m `r` is a `&` reference, so the data it refers to cannot be written",
      "\u001b[38;5;246m───╯\u001b[0m"
     ]
    }
   ],
   "source": [
    "// regular (immutable) references won't work\n",
    "fn update_speed(r:&Road, new_speed: u32) {\n",
    "    // r.max_speed equivalent to (*r).max_speed\n",
    "    // because Rust is smart\n",
    "    r.max_speed = new_speed;\n",
    "} "
   ]
  },
  {
   "cell_type": "code",
   "execution_count": 24,
   "id": "50daa394",
   "metadata": {
    "cell_style": "split",
    "slideshow": {
     "slide_type": "fragment"
    },
    "vscode": {
     "languageId": "rust"
    }
   },
   "outputs": [],
   "source": [
    "// Change the function to take a mutable reference\n",
    "fn update_speed(r:&mut Road, new_speed: u32) {\n",
    "    // r.max_speed equivalent to (*r).max_speed\n",
    "    // because Rust is smart\n",
    "    r.max_speed = new_speed;\n",
    "} "
   ]
  },
  {
   "cell_type": "code",
   "execution_count": 25,
   "id": "61bacc55",
   "metadata": {
    "cell_style": "split",
    "slideshow": {
     "slide_type": "fragment"
    },
    "vscode": {
     "languageId": "rust"
    }
   },
   "outputs": [
    {
     "name": "stdout",
     "output_type": "stream",
     "text": [
      "Road { intersection_1: 100, intersection_2: 200, max_speed: 30 }\n",
      "Road { intersection_1: 100, intersection_2: 200, max_speed: 25 }\n"
     ]
    }
   ],
   "source": [
    "fn display_3(r:&Road) {\n",
    "    println!(\"{:?}\", *r);\n",
    "}\n",
    "\n",
    "let mut road = Road::new(100,200,30);\n",
    "display_3(&road);\n",
    "update_speed(&mut road, 25);\n",
    "display_3(&road);"
   ]
  },
  {
   "cell_type": "markdown",
   "id": "7a453c5d",
   "metadata": {
    "cell_style": "center",
    "slideshow": {
     "slide_type": "slide"
    }
   },
   "source": [
    "## Revisit Methods\n",
    "\n",
    "We saw these in the previous lecture.\n"
   ]
  },
  {
   "cell_type": "markdown",
   "id": "98e365e6",
   "metadata": {
    "cell_style": "split",
    "slideshow": {
     "slide_type": "-"
    }
   },
   "source": [
    "* We can add functions that are directly associated with structs and enums!\n",
    "  * Then we could call them: `road.display()` or `road.update_speed(25)`\n",
    "* How?\n",
    "  * Put them in the namespace of the type\n",
    "  * make `self` the first argument"
   ]
  },
  {
   "cell_type": "code",
   "execution_count": 26,
   "id": "7caf0b0c",
   "metadata": {
    "cell_style": "split",
    "slideshow": {
     "slide_type": "fragment"
    },
    "vscode": {
     "languageId": "rust"
    }
   },
   "outputs": [],
   "source": [
    "#[derive(Debug)]\n",
    "struct Road {\n",
    "    intersection_1: u32,\n",
    "    intersection_2: u32,\n",
    "    max_speed: u32,\n",
    "}\n",
    "\n",
    "impl Road {\n",
    "    \n",
    "    // constructor\n",
    "    fn new(i1:u32,i2:u32,speed:u32) -> Road {\n",
    "        Road {\n",
    "            intersection_1: i1,\n",
    "            intersection_2: i2,\n",
    "            max_speed: speed,\n",
    "        }\n",
    "    }\n",
    "    // note &self: immutable reference\n",
    "    fn display(&self) {\n",
    "        println!(\"{:?}\",*self);\n",
    "    }\n",
    "}"
   ]
  },
  {
   "cell_type": "markdown",
   "id": "20c0ffb4",
   "metadata": {},
   "source": [
    "You can invoke the display method on the road instance or on a reference to the road instance.\n",
    "\n"
   ]
  },
  {
   "cell_type": "code",
   "execution_count": 27,
   "id": "ddaa9c07",
   "metadata": {
    "cell_style": "split",
    "slideshow": {
     "slide_type": "fragment"
    },
    "vscode": {
     "languageId": "rust"
    }
   },
   "outputs": [
    {
     "name": "stdout",
     "output_type": "stream",
     "text": [
      "Road { intersection_1: 1, intersection_2: 2, max_speed: 35 }\n",
      "Road { intersection_1: 1, intersection_2: 2, max_speed: 35 }\n",
      "Road { intersection_1: 1, intersection_2: 2, max_speed: 35 }\n"
     ]
    }
   ],
   "source": [
    "let mut road = Road::new(1,2,35);\n",
    "\n",
    "road.display();\n",
    "&road.display();\n",
    "(&road).display();"
   ]
  },
  {
   "cell_type": "markdown",
   "id": "63cff3ac",
   "metadata": {
    "vscode": {
     "languageId": "rust"
    }
   },
   "source": [
    "> In C++ the syntax is different. It would be something like:\n",
    "> \n",
    "> ```cpp\n",
    "> road.display();\n",
    "> ```\n",
    "> \n",
    "> ```cpp\n",
    "> (&road)->display();\n",
    "> ```"
   ]
  },
  {
   "cell_type": "markdown",
   "id": "ff584560",
   "metadata": {
    "slideshow": {
     "slide_type": "subslide"
    }
   },
   "source": [
    "## Methods (continued)"
   ]
  },
  {
   "cell_type": "markdown",
   "id": "8d53736b",
   "metadata": {},
   "source": [
    "Rember that `self` is a reference to the instance of the struct.\n",
    "\n",
    "By default, `self` is an immutable reference, so we can't modify the struct.\n"
   ]
  },
  {
   "cell_type": "code",
   "execution_count": 28,
   "id": "d2e0646c",
   "metadata": {
    "vscode": {
     "languageId": "rust"
    }
   },
   "outputs": [
    {
     "ename": "Error",
     "evalue": "cannot assign to `self.max_speed`, which is behind a `&` reference",
     "output_type": "error",
     "traceback": [
      "\u001b[31m[E0594] Error:\u001b[0m cannot assign to `self.max_speed`, which is behind a `&` reference",
      "   \u001b[38;5;246m╭\u001b[0m\u001b[38;5;246m─\u001b[0m\u001b[38;5;246m[\u001b[0mcommand_28:1:1\u001b[38;5;246m]\u001b[0m",
      "   \u001b[38;5;246m│\u001b[0m",
      " \u001b[38;5;246m3 │\u001b[0m \u001b[38;5;249m \u001b[0m\u001b[38;5;249m \u001b[0m\u001b[38;5;249m \u001b[0m\u001b[38;5;249m \u001b[0m\u001b[38;5;249mf\u001b[0m\u001b[38;5;249mn\u001b[0m\u001b[38;5;249m \u001b[0m\u001b[38;5;249mn\u001b[0m\u001b[38;5;249m_\u001b[0m\u001b[38;5;249mu\u001b[0m\u001b[38;5;249mp\u001b[0m\u001b[38;5;249md\u001b[0m\u001b[38;5;249ma\u001b[0m\u001b[38;5;249mt\u001b[0m\u001b[38;5;249me\u001b[0m\u001b[38;5;249m_\u001b[0m\u001b[38;5;249ms\u001b[0m\u001b[38;5;249mp\u001b[0m\u001b[38;5;249me\u001b[0m\u001b[38;5;249me\u001b[0m\u001b[38;5;249md\u001b[0m\u001b[38;5;249m(\u001b[0m\u001b[38;5;100m&\u001b[0m\u001b[38;5;100ms\u001b[0m\u001b[38;5;100me\u001b[0m\u001b[38;5;100ml\u001b[0m\u001b[38;5;100mf\u001b[0m\u001b[38;5;249m,\u001b[0m\u001b[38;5;249m \u001b[0m\u001b[38;5;249mn\u001b[0m\u001b[38;5;249me\u001b[0m\u001b[38;5;249mw\u001b[0m\u001b[38;5;249m_\u001b[0m\u001b[38;5;249ms\u001b[0m\u001b[38;5;249mp\u001b[0m\u001b[38;5;249me\u001b[0m\u001b[38;5;249me\u001b[0m\u001b[38;5;249md\u001b[0m\u001b[38;5;249m:\u001b[0m\u001b[38;5;249mu\u001b[0m\u001b[38;5;249m3\u001b[0m\u001b[38;5;249m2\u001b[0m\u001b[38;5;249m)\u001b[0m\u001b[38;5;249m \u001b[0m\u001b[38;5;249m{\u001b[0m",
      " \u001b[38;5;240m  │\u001b[0m                       \u001b[38;5;100m─\u001b[0m\u001b[38;5;100m─\u001b[0m\u001b[38;5;100m┬\u001b[0m\u001b[38;5;100m─\u001b[0m\u001b[38;5;100m─\u001b[0m  ",
      " \u001b[38;5;240m  │\u001b[0m                         \u001b[38;5;100m╰\u001b[0m\u001b[38;5;100m─\u001b[0m\u001b[38;5;100m─\u001b[0m\u001b[38;5;100m─\u001b[0m\u001b[38;5;100m─\u001b[0m help: consider changing this to be a mutable reference: `&mut self`",
      " \u001b[38;5;246m4 │\u001b[0m \u001b[38;5;249m \u001b[0m\u001b[38;5;249m \u001b[0m\u001b[38;5;249m \u001b[0m\u001b[38;5;249m \u001b[0m\u001b[38;5;249m \u001b[0m\u001b[38;5;249m \u001b[0m\u001b[38;5;249m \u001b[0m\u001b[38;5;249m \u001b[0m\u001b[38;5;54ms\u001b[0m\u001b[38;5;54me\u001b[0m\u001b[38;5;54ml\u001b[0m\u001b[38;5;54mf\u001b[0m\u001b[38;5;54m.\u001b[0m\u001b[38;5;54mm\u001b[0m\u001b[38;5;54ma\u001b[0m\u001b[38;5;54mx\u001b[0m\u001b[38;5;54m_\u001b[0m\u001b[38;5;54ms\u001b[0m\u001b[38;5;54mp\u001b[0m\u001b[38;5;54me\u001b[0m\u001b[38;5;54me\u001b[0m\u001b[38;5;54md\u001b[0m\u001b[38;5;54m \u001b[0m\u001b[38;5;54m=\u001b[0m\u001b[38;5;54m \u001b[0m\u001b[38;5;54mn\u001b[0m\u001b[38;5;54me\u001b[0m\u001b[38;5;54mw\u001b[0m\u001b[38;5;54m_\u001b[0m\u001b[38;5;54ms\u001b[0m\u001b[38;5;54mp\u001b[0m\u001b[38;5;54me\u001b[0m\u001b[38;5;54me\u001b[0m\u001b[38;5;54md\u001b[0m\u001b[38;5;249m;\u001b[0m",
      " \u001b[38;5;240m  │\u001b[0m         \u001b[38;5;54m─\u001b[0m\u001b[38;5;54m─\u001b[0m\u001b[38;5;54m─\u001b[0m\u001b[38;5;54m─\u001b[0m\u001b[38;5;54m─\u001b[0m\u001b[38;5;54m─\u001b[0m\u001b[38;5;54m─\u001b[0m\u001b[38;5;54m─\u001b[0m\u001b[38;5;54m─\u001b[0m\u001b[38;5;54m─\u001b[0m\u001b[38;5;54m─\u001b[0m\u001b[38;5;54m─\u001b[0m\u001b[38;5;54m─\u001b[0m\u001b[38;5;54m┬\u001b[0m\u001b[38;5;54m─\u001b[0m\u001b[38;5;54m─\u001b[0m\u001b[38;5;54m─\u001b[0m\u001b[38;5;54m─\u001b[0m\u001b[38;5;54m─\u001b[0m\u001b[38;5;54m─\u001b[0m\u001b[38;5;54m─\u001b[0m\u001b[38;5;54m─\u001b[0m\u001b[38;5;54m─\u001b[0m\u001b[38;5;54m─\u001b[0m\u001b[38;5;54m─\u001b[0m\u001b[38;5;54m─\u001b[0m  ",
      " \u001b[38;5;240m  │\u001b[0m                      \u001b[38;5;54m╰\u001b[0m\u001b[38;5;54m─\u001b[0m\u001b[38;5;54m─\u001b[0m\u001b[38;5;54m─\u001b[0m\u001b[38;5;54m─\u001b[0m\u001b[38;5;54m─\u001b[0m\u001b[38;5;54m─\u001b[0m\u001b[38;5;54m─\u001b[0m\u001b[38;5;54m─\u001b[0m\u001b[38;5;54m─\u001b[0m\u001b[38;5;54m─\u001b[0m\u001b[38;5;54m─\u001b[0m\u001b[38;5;54m─\u001b[0m\u001b[38;5;54m─\u001b[0m\u001b[38;5;54m─\u001b[0m `self` is a `&` reference, so the data it refers to cannot be written",
      "\u001b[38;5;246m───╯\u001b[0m"
     ]
    }
   ],
   "source": [
    "// ERROR\n",
    "impl Road {\n",
    "    fn n_update_speed(&self, new_speed:u32) {\n",
    "        self.max_speed = new_speed;\n",
    "    }\n",
    "}"
   ]
  },
  {
   "cell_type": "markdown",
   "id": "00addfa5",
   "metadata": {},
   "source": [
    "Let's change it to a mutable reference."
   ]
  },
  {
   "cell_type": "code",
   "execution_count": 29,
   "id": "5d53049f",
   "metadata": {
    "cell_style": "split",
    "vscode": {
     "languageId": "rust"
    }
   },
   "outputs": [],
   "source": [
    "impl Road {\n",
    "    fn update_speed(&mut self, new_speed:u32) {\n",
    "        self.max_speed = new_speed;\n",
    "    }\n",
    "}"
   ]
  },
  {
   "cell_type": "code",
   "execution_count": 30,
   "id": "a13875a7",
   "metadata": {
    "cell_style": "split",
    "slideshow": {
     "slide_type": "fragment"
    },
    "vscode": {
     "languageId": "rust"
    }
   },
   "outputs": [
    {
     "name": "stdout",
     "output_type": "stream",
     "text": [
      "Road { intersection_1: 1, intersection_2: 2, max_speed: 35 }\n",
      "Road { intersection_1: 1, intersection_2: 2, max_speed: 45 }\n"
     ]
    }
   ],
   "source": [
    "road.display();\n",
    "road.update_speed(45);\n",
    "road.display();"
   ]
  },
  {
   "cell_type": "markdown",
   "id": "c29cd46a",
   "metadata": {},
   "source": [
    "There are some gotchas to be aware of.\n",
    "\n",
    "Consider the following code:"
   ]
  },
  {
   "cell_type": "code",
   "execution_count": 31,
   "id": "577a4f79",
   "metadata": {
    "cell_style": "split",
    "slideshow": {
     "slide_type": "fragment"
    },
    "vscode": {
     "languageId": "rust"
    }
   },
   "outputs": [],
   "source": [
    "impl Road {\n",
    "    \n",
    "    fn this_will_move(self) -> Road {   // this will take ownership of the instance of Road\n",
    "        self\n",
    "    }\n",
    "    \n",
    "    fn this_will_not_move(&self) -> &Road {\n",
    "        self\n",
    "    }\n",
    "}"
   ]
  },
  {
   "cell_type": "code",
   "execution_count": 32,
   "id": "203e76be",
   "metadata": {
    "cell_style": "split",
    "slideshow": {
     "slide_type": "fragment"
    },
    "vscode": {
     "languageId": "rust"
    }
   },
   "outputs": [
    {
     "name": "stdout",
     "output_type": "stream",
     "text": [
      "Road { intersection_1: 1, intersection_2: 2, max_speed: 35 }\n"
     ]
    }
   ],
   "source": [
    "#![allow(unused_variables)]\n",
    "fn testme() {\n",
    "  let r = Road::new(1,2,35);       // create a new instance of Road, r\n",
    "  let r3 = r.this_will_not_move(); // create a new reference to r, r3\n",
    "\n",
    "  // run the code with the following line commented, then try uncommenting it\n",
    "  // let r2 = r.this_will_move();  // this will take ownership of r\n",
    "\n",
    "  r.display();\n",
    "\n",
    "  // r2.display();\n",
    "  r3.display();\n",
    "}\n",
    "testme();"
   ]
  },
  {
   "cell_type": "markdown",
   "id": "242a4430",
   "metadata": {
    "cell_style": "split",
    "slideshow": {
     "slide_type": "subslide"
    }
   },
   "source": [
    "## Methods (summary)\n",
    "\n",
    "* Make first parameter `self`\n",
    "* Various options:\n",
    "  - `self`: move will occur\n",
    "  - `&self`: self will be immutable reference\n",
    "  - `&mut self`: self will be mutable reference"
   ]
  },
  {
   "cell_type": "markdown",
   "id": "d4504ddf",
   "metadata": {},
   "source": [
    "## A few more pointer types"
   ]
  },
  {
   "cell_type": "code",
   "execution_count": 34,
   "id": "f8c7fd41",
   "metadata": {
    "vscode": {
     "languageId": "rust"
    }
   },
   "outputs": [
    {
     "name": "stdout",
     "output_type": "stream",
     "text": [
      "sum: 34\n"
     ]
    },
    {
     "name": "stdout",
     "output_type": "stream",
     "text": [
      "Box Vals 10 22 \n",
      "Ref Vals 22 22 \n"
     ]
    }
   ],
   "source": [
    "// A few more pointer types for future reference\n",
    "\n",
    "use std::rc::Rc;\n",
    "use std::cell::RefCell;\n",
    "\n",
    "// A reference counted pointer.  Behaves like a box pointer in this example\n",
    "let mut pointer = Rc::new(12);\n",
    "let pointer2 : Rc<i32> = Rc::new(22);\n",
    "println!(\"sum: {}\", *pointer + *pointer2);\n",
    "\n",
    "// But as we saw you can not assigned box pointers to each other without clone\n",
    "let mut pointer = Box::new(10);\n",
    "let mut pointer2 = pointer.clone();\n",
    "*pointer2 = 22;\n",
    "println!(\"Box Vals {} {} \", *pointer, *pointer2);\n",
    "\n",
    "\n",
    "// But Rc pointers with refcells allow for this, \n",
    "// though you have to tell the compiler a lot of information to allow it\n",
    "let mut pointer = Rc::new(RefCell::new(10));\n",
    "let mut pointer2 = Rc::new(Rc::clone(&pointer));\n",
    "*pointer.borrow_mut() = 22;\n",
    "println!(\"Ref Vals {} {} \", *pointer.borrow(), *pointer2.borrow());"
   ]
  },
  {
   "cell_type": "markdown",
   "id": "98aa4cd9",
   "metadata": {},
   "source": [
    "## Cloning and Copying\n"
   ]
  },
  {
   "cell_type": "markdown",
   "id": "d6c3dbab",
   "metadata": {},
   "source": [
    "Let's define a `BoxSize` struct and a constructor method."
   ]
  },
  {
   "cell_type": "code",
   "execution_count": 35,
   "id": "b22a4136",
   "metadata": {
    "cell_style": "split",
    "vscode": {
     "languageId": "rust"
    }
   },
   "outputs": [],
   "source": [
    "#[derive(Debug)]\n",
    "struct BoxSize {\n",
    "    height: f64,\n",
    "    width: f64,\n",
    "    depth: f64,\n",
    "}\n",
    "\n",
    "impl BoxSize {\n",
    "    fn new(height: f64, width: f64, depth: f64)\n",
    "        -> BoxSize {\n",
    "        BoxSize{\n",
    "            height: height, \n",
    "            width, // = width: width (shorthand syntax)\n",
    "            depth, // = depth: depth (shorthand syntax)\n",
    "        }\n",
    "    }\n",
    "}"
   ]
  },
  {
   "cell_type": "markdown",
   "id": "37146ee0",
   "metadata": {},
   "source": [
    "Simple built-in types like `i32` and `f64` are copied by default.\n",
    "\n",
    "But can we copy a `BoxSize` struct?\n"
   ]
  },
  {
   "cell_type": "code",
   "execution_count": 36,
   "id": "32694de6",
   "metadata": {
    "cell_style": "split",
    "slideshow": {
     "slide_type": "fragment"
    },
    "vscode": {
     "languageId": "rust"
    }
   },
   "outputs": [
    {
     "ename": "Error",
     "evalue": "borrow of moved value: `xl_box`",
     "output_type": "error",
     "traceback": [
      "\u001b[31m[E0382] Error:\u001b[0m borrow of moved value: `xl_box`",
      "   \u001b[38;5;246m╭\u001b[0m\u001b[38;5;246m─\u001b[0m\u001b[38;5;246m[\u001b[0mcommand_36:1:1\u001b[38;5;246m]\u001b[0m",
      "   \u001b[38;5;246m│\u001b[0m",
      " \u001b[38;5;246m6 │\u001b[0m \u001b[38;5;249ml\u001b[0m\u001b[38;5;249me\u001b[0m\u001b[38;5;249mt\u001b[0m\u001b[38;5;249m \u001b[0m\u001b[38;5;68mx\u001b[0m\u001b[38;5;68ml\u001b[0m\u001b[38;5;68m_\u001b[0m\u001b[38;5;68mb\u001b[0m\u001b[38;5;68mo\u001b[0m\u001b[38;5;68mx\u001b[0m\u001b[38;5;249m \u001b[0m\u001b[38;5;249m=\u001b[0m\u001b[38;5;249m \u001b[0m\u001b[38;5;249mB\u001b[0m\u001b[38;5;249mo\u001b[0m\u001b[38;5;249mx\u001b[0m\u001b[38;5;249mS\u001b[0m\u001b[38;5;249mi\u001b[0m\u001b[38;5;249mz\u001b[0m\u001b[38;5;249me\u001b[0m\u001b[38;5;249m:\u001b[0m\u001b[38;5;249m:\u001b[0m\u001b[38;5;249mn\u001b[0m\u001b[38;5;249me\u001b[0m\u001b[38;5;249mw\u001b[0m\u001b[38;5;249m(\u001b[0m\u001b[38;5;249m2\u001b[0m\u001b[38;5;249m4\u001b[0m\u001b[38;5;249m.\u001b[0m\u001b[38;5;249m0\u001b[0m\u001b[38;5;249m,\u001b[0m\u001b[38;5;249m1\u001b[0m\u001b[38;5;249m8\u001b[0m\u001b[38;5;249m.\u001b[0m\u001b[38;5;249m0\u001b[0m\u001b[38;5;249m,\u001b[0m\u001b[38;5;249m2\u001b[0m\u001b[38;5;249m4\u001b[0m\u001b[38;5;249m.\u001b[0m\u001b[38;5;249m0\u001b[0m\u001b[38;5;249m)\u001b[0m\u001b[38;5;249m;\u001b[0m",
      " \u001b[38;5;240m  │\u001b[0m     \u001b[38;5;68m─\u001b[0m\u001b[38;5;68m─\u001b[0m\u001b[38;5;68m─\u001b[0m\u001b[38;5;68m┬\u001b[0m\u001b[38;5;68m─\u001b[0m\u001b[38;5;68m─\u001b[0m  ",
      " \u001b[38;5;240m  │\u001b[0m        \u001b[38;5;68m╰\u001b[0m\u001b[38;5;68m─\u001b[0m\u001b[38;5;68m─\u001b[0m\u001b[38;5;68m─\u001b[0m\u001b[38;5;68m─\u001b[0m move occurs because `xl_box` has type `BoxSize`, which does not implement the `Copy` trait",
      " \u001b[38;5;240m  │\u001b[0m ",
      " \u001b[38;5;246m8 │\u001b[0m \u001b[38;5;249ml\u001b[0m\u001b[38;5;249me\u001b[0m\u001b[38;5;249mt\u001b[0m\u001b[38;5;249m \u001b[0m\u001b[38;5;249mm\u001b[0m\u001b[38;5;249mo\u001b[0m\u001b[38;5;249mv\u001b[0m\u001b[38;5;249me\u001b[0m\u001b[38;5;249m_\u001b[0m\u001b[38;5;249mi\u001b[0m\u001b[38;5;249mt\u001b[0m\u001b[38;5;249m_\u001b[0m\u001b[38;5;249mh\u001b[0m\u001b[38;5;249me\u001b[0m\u001b[38;5;249mr\u001b[0m\u001b[38;5;249me\u001b[0m\u001b[38;5;249m \u001b[0m\u001b[38;5;249m=\u001b[0m\u001b[38;5;249m \u001b[0m\u001b[38;5;54mx\u001b[0m\u001b[38;5;54ml\u001b[0m\u001b[38;5;54m_\u001b[0m\u001b[38;5;54mb\u001b[0m\u001b[38;5;54mo\u001b[0m\u001b[38;5;54mx\u001b[0m\u001b[38;5;249m;\u001b[0m\u001b[38;5;249m \u001b[0m\u001b[38;5;249m \u001b[0m\u001b[38;5;249m \u001b[0m\u001b[38;5;249m/\u001b[0m\u001b[38;5;249m/\u001b[0m\u001b[38;5;249m \u001b[0m\u001b[38;5;249mt\u001b[0m\u001b[38;5;249mh\u001b[0m\u001b[38;5;249mi\u001b[0m\u001b[38;5;249ms\u001b[0m\u001b[38;5;249m \u001b[0m\u001b[38;5;249mw\u001b[0m\u001b[38;5;249mi\u001b[0m\u001b[38;5;249ml\u001b[0m\u001b[38;5;249ml\u001b[0m\u001b[38;5;249m \u001b[0m\u001b[38;5;249mm\u001b[0m\u001b[38;5;249mo\u001b[0m\u001b[38;5;249mv\u001b[0m\u001b[38;5;249me\u001b[0m\u001b[38;5;249m \u001b[0m\u001b[38;5;249mt\u001b[0m\u001b[38;5;249mh\u001b[0m\u001b[38;5;249me\u001b[0m\u001b[38;5;249m \u001b[0m\u001b[38;5;249mi\u001b[0m\u001b[38;5;249mn\u001b[0m\u001b[38;5;249ms\u001b[0m\u001b[38;5;249mt\u001b[0m\u001b[38;5;249ma\u001b[0m\u001b[38;5;249mn\u001b[0m\u001b[38;5;249mc\u001b[0m\u001b[38;5;249me\u001b[0m\u001b[38;5;249m \u001b[0m\u001b[38;5;249mo\u001b[0m\u001b[38;5;249mf\u001b[0m\u001b[38;5;249m \u001b[0m\u001b[38;5;249mB\u001b[0m\u001b[38;5;249mo\u001b[0m\u001b[38;5;249mx\u001b[0m\u001b[38;5;249mS\u001b[0m\u001b[38;5;249mi\u001b[0m\u001b[38;5;249mz\u001b[0m\u001b[38;5;249me\u001b[0m\u001b[38;5;249m \u001b[0m\u001b[38;5;249mt\u001b[0m\u001b[38;5;249mo\u001b[0m\u001b[38;5;249m \u001b[0m\u001b[38;5;249mm\u001b[0m\u001b[38;5;249mo\u001b[0m\u001b[38;5;249mv\u001b[0m\u001b[38;5;249me\u001b[0m\u001b[38;5;249m_\u001b[0m\u001b[38;5;249mi\u001b[0m\u001b[38;5;249mt\u001b[0m\u001b[38;5;249m_\u001b[0m\u001b[38;5;249mh\u001b[0m\u001b[38;5;249me\u001b[0m\u001b[38;5;249mr\u001b[0m\u001b[38;5;249me\u001b[0m",
      " \u001b[38;5;240m  │\u001b[0m                    \u001b[38;5;54m─\u001b[0m\u001b[38;5;54m─\u001b[0m\u001b[38;5;54m─\u001b[0m\u001b[38;5;54m┬\u001b[0m\u001b[38;5;54m─\u001b[0m\u001b[38;5;54m─\u001b[0m  ",
      " \u001b[38;5;240m  │\u001b[0m                       \u001b[38;5;54m╰\u001b[0m\u001b[38;5;54m─\u001b[0m\u001b[38;5;54m─\u001b[0m\u001b[38;5;54m─\u001b[0m\u001b[38;5;54m─\u001b[0m value moved here",
      " \u001b[38;5;246m9 │\u001b[0m \u001b[38;5;249mp\u001b[0m\u001b[38;5;249mr\u001b[0m\u001b[38;5;249mi\u001b[0m\u001b[38;5;249mn\u001b[0m\u001b[38;5;249mt\u001b[0m\u001b[38;5;249ml\u001b[0m\u001b[38;5;249mn\u001b[0m\u001b[38;5;249m!\u001b[0m\u001b[38;5;249m(\u001b[0m\u001b[38;5;249m\"\u001b[0m\u001b[38;5;249m{\u001b[0m\u001b[38;5;249m:\u001b[0m\u001b[38;5;249m?\u001b[0m\u001b[38;5;249m}\u001b[0m\u001b[38;5;249m\"\u001b[0m\u001b[38;5;249m,\u001b[0m\u001b[38;5;249m \u001b[0m\u001b[38;5;100mx\u001b[0m\u001b[38;5;100ml\u001b[0m\u001b[38;5;100m_\u001b[0m\u001b[38;5;100mb\u001b[0m\u001b[38;5;100mo\u001b[0m\u001b[38;5;100mx\u001b[0m\u001b[38;5;249m)\u001b[0m\u001b[38;5;249m;\u001b[0m\u001b[38;5;249m \u001b[0m\u001b[38;5;249m \u001b[0m\u001b[38;5;249m \u001b[0m\u001b[38;5;249m \u001b[0m\u001b[38;5;249m/\u001b[0m\u001b[38;5;249m/\u001b[0m\u001b[38;5;249m \u001b[0m\u001b[38;5;249me\u001b[0m\u001b[38;5;249mr\u001b[0m\u001b[38;5;249mr\u001b[0m\u001b[38;5;249mo\u001b[0m\u001b[38;5;249mr\u001b[0m\u001b[38;5;249m:\u001b[0m\u001b[38;5;249m \u001b[0m\u001b[38;5;249mx\u001b[0m\u001b[38;5;249ml\u001b[0m\u001b[38;5;249m_\u001b[0m\u001b[38;5;249mb\u001b[0m\u001b[38;5;249mo\u001b[0m\u001b[38;5;249mx\u001b[0m\u001b[38;5;249m \u001b[0m\u001b[38;5;249mi\u001b[0m\u001b[38;5;249ms\u001b[0m\u001b[38;5;249m \u001b[0m\u001b[38;5;249mn\u001b[0m\u001b[38;5;249mo\u001b[0m\u001b[38;5;249m \u001b[0m\u001b[38;5;249ml\u001b[0m\u001b[38;5;249mo\u001b[0m\u001b[38;5;249mn\u001b[0m\u001b[38;5;249mg\u001b[0m\u001b[38;5;249me\u001b[0m\u001b[38;5;249mr\u001b[0m\u001b[38;5;249m \u001b[0m\u001b[38;5;249mv\u001b[0m\u001b[38;5;249ma\u001b[0m\u001b[38;5;249ml\u001b[0m\u001b[38;5;249mi\u001b[0m\u001b[38;5;249md\u001b[0m",
      " \u001b[38;5;240m  │\u001b[0m                  \u001b[38;5;100m─\u001b[0m\u001b[38;5;100m─\u001b[0m\u001b[38;5;100m─\u001b[0m\u001b[38;5;100m┬\u001b[0m\u001b[38;5;100m─\u001b[0m\u001b[38;5;100m─\u001b[0m  ",
      " \u001b[38;5;240m  │\u001b[0m                     \u001b[38;5;100m╰\u001b[0m\u001b[38;5;100m─\u001b[0m\u001b[38;5;100m─\u001b[0m\u001b[38;5;100m─\u001b[0m\u001b[38;5;100m─\u001b[0m value borrowed here after move",
      "\u001b[38;5;246m───╯\u001b[0m"
     ]
    }
   ],
   "source": [
    "let x = 5;\n",
    "println!(\"{}\",x);\n",
    "let y = x;\n",
    "println!(\"{}\",x);\n",
    "\n",
    "let xl_box = BoxSize::new(24.0,18.0,24.0);\n",
    "println!(\"{:?}\", xl_box);\n",
    "let move_it_here = xl_box;   // this will move the instance of BoxSize to move_it_here\n",
    "println!(\"{:?}\", xl_box);    // error: xl_box is no longer valid"
   ]
  },
  {
   "cell_type": "markdown",
   "id": "9b107a82",
   "metadata": {
    "cell_style": "split"
   },
   "source": [
    "<div align=\"center\">\n",
    "<img src=\"uhaul_xl.png\" alt=\"[image of a box]\">\n",
    "</div>"
   ]
  },
  {
   "cell_type": "markdown",
   "id": "046609bf",
   "metadata": {
    "slideshow": {
     "slide_type": "slide"
    }
   },
   "source": [
    "## Cloning\n",
    "\n",
    "How to make a copy of data?"
   ]
  },
  {
   "cell_type": "markdown",
   "id": "5c76939e",
   "metadata": {
    "slideshow": {
     "slide_type": "fragment"
    }
   },
   "source": [
    "**Option 1:** Implement yourself"
   ]
  },
  {
   "cell_type": "code",
   "execution_count": 37,
   "id": "130824bd",
   "metadata": {
    "cell_style": "split",
    "vscode": {
     "languageId": "rust"
    }
   },
   "outputs": [],
   "source": [
    "impl BoxSize {\n",
    "    fn give_me_a_copy(&self) -> BoxSize {\n",
    "        let BoxSize{height,width,depth} = *self;  // manual implementation of clone logic\n",
    "        BoxSize{height,width,depth}\n",
    "    }\n",
    "}"
   ]
  },
  {
   "cell_type": "code",
   "execution_count": 38,
   "id": "2bbed9b0",
   "metadata": {
    "cell_style": "split",
    "slideshow": {
     "slide_type": "fragment"
    },
    "vscode": {
     "languageId": "rust"
    }
   },
   "outputs": [
    {
     "name": "stdout",
     "output_type": "stream",
     "text": [
      "box_1: BoxSize { height: 1.1, width: 2.2, depth: 3.3 }\n",
      "================\n",
      "box_1: BoxSize { height: 1.1, width: 2.2, depth: 3.3 }\n",
      "box_2: BoxSize { height: 1.1, width: 2.2, depth: 3.3 }\n",
      "\n",
      "&box_1: BoxSize { height: 1.1, width: 2.2, depth: 3.3 }\n",
      "&box_2: BoxSize { height: 1.1, width: 2.2, depth: 3.3 }\n",
      "\n",
      "&box_1: 0x16afc9558 &box_2: 0x16afc9570\n"
     ]
    },
    {
     "data": {
      "text/plain": [
       "()"
      ]
     },
     "execution_count": 38,
     "metadata": {},
     "output_type": "execute_result"
    }
   ],
   "source": [
    "let box_1 = BoxSize::new(1.1,2.2,3.3);\n",
    "println!(\"box_1: {:?}\",box_1);\n",
    "let box_2 = box_1.give_me_a_copy();\n",
    "println!(\"================\");\n",
    "println!(\"box_1: {:?}\",box_1);\n",
    "println!(\"box_2: {:?}\\n\",box_2);\n",
    "// Also\n",
    "println!(\"&box_1: {:?}\",&box_1);\n",
    "println!(\"&box_2: {:?}\\n\",&box_2);\n",
    "// But \n",
    "println!(\"&box_1: {:p} &box_2: {:p}\", &box_1, &box_2)"
   ]
  },
  {
   "cell_type": "markdown",
   "id": "d43806da",
   "metadata": {
    "slideshow": {
     "slide_type": "subslide"
    }
   },
   "source": [
    "## Cloning"
   ]
  },
  {
   "cell_type": "markdown",
   "id": "e5d10ec4",
   "metadata": {},
   "source": [
    "**Option 2:** Default cloning (with some extra benefits)\n",
    "* Use `#[derive(Clone)]` in the definition\n",
    "* Use method `.clone()` to clone an object"
   ]
  },
  {
   "cell_type": "code",
   "execution_count": 39,
   "id": "7e3bd6c6",
   "metadata": {
    "cell_style": "split",
    "vscode": {
     "languageId": "rust"
    }
   },
   "outputs": [],
   "source": [
    "#[derive(Clone,Debug)]\n",
    "struct CloneablePoint {\n",
    "    x: f64,\n",
    "    y: f64,\n",
    "}"
   ]
  },
  {
   "cell_type": "code",
   "execution_count": 40,
   "id": "09e0e704",
   "metadata": {
    "cell_style": "split",
    "slideshow": {
     "slide_type": "fragment"
    },
    "vscode": {
     "languageId": "rust"
    }
   },
   "outputs": [
    {
     "name": "stdout",
     "output_type": "stream",
     "text": [
      "CloneablePoint { x: 2.2, y: -1.4 }\n",
      "CloneablePoint { x: 2.2, y: -1.4 }\n"
     ]
    }
   ],
   "source": [
    "let point_1 = CloneablePoint{x:2.2,y:-1.4};\n",
    "let point_2 = point_1.clone();\n",
    "println!(\"{:?}\\n{:?}\",point_1,point_2);"
   ]
  },
  {
   "cell_type": "markdown",
   "id": "90d8f325",
   "metadata": {
    "slideshow": {
     "slide_type": "fragment"
    }
   },
   "source": [
    "Can then be used recursively:"
   ]
  },
  {
   "cell_type": "code",
   "execution_count": 41,
   "id": "adaa0ac7",
   "metadata": {
    "cell_style": "split",
    "slideshow": {
     "slide_type": "-"
    },
    "vscode": {
     "languageId": "rust"
    }
   },
   "outputs": [],
   "source": [
    "// will work\n",
    "let tuple_point = (1,CloneablePoint{x:1.1,y:1.1});\n",
    "let copy_tuple_point = tuple_point.clone();"
   ]
  },
  {
   "cell_type": "code",
   "execution_count": 42,
   "id": "6e548f49",
   "metadata": {
    "cell_style": "split",
    "slideshow": {
     "slide_type": "fragment"
    },
    "vscode": {
     "languageId": "rust"
    }
   },
   "outputs": [
    {
     "ename": "Error",
     "evalue": "the method `clone` exists for tuple `({integer}, BoxSize)`, but its trait bounds were not satisfied",
     "output_type": "error",
     "traceback": [
      "\u001b[31m[E0599] Error:\u001b[0m the method `clone` exists for tuple `({integer}, BoxSize)`, but its trait bounds were not satisfied",
      "   \u001b[38;5;246m╭\u001b[0m\u001b[38;5;246m─\u001b[0m\u001b[38;5;246m[\u001b[0mcommand_42:1:1\u001b[38;5;246m]\u001b[0m",
      "   \u001b[38;5;246m│\u001b[0m",
      " \u001b[38;5;246m3 │\u001b[0m \u001b[38;5;249ml\u001b[0m\u001b[38;5;249me\u001b[0m\u001b[38;5;249mt\u001b[0m\u001b[38;5;249m \u001b[0m\u001b[38;5;249mc\u001b[0m\u001b[38;5;249mo\u001b[0m\u001b[38;5;249mp\u001b[0m\u001b[38;5;249my\u001b[0m\u001b[38;5;249m_\u001b[0m\u001b[38;5;249mt\u001b[0m\u001b[38;5;249mu\u001b[0m\u001b[38;5;249mp\u001b[0m\u001b[38;5;249ml\u001b[0m\u001b[38;5;249me\u001b[0m\u001b[38;5;249m_\u001b[0m\u001b[38;5;249mb\u001b[0m\u001b[38;5;249mo\u001b[0m\u001b[38;5;249mx\u001b[0m\u001b[38;5;249m \u001b[0m\u001b[38;5;249m=\u001b[0m\u001b[38;5;249m \u001b[0m\u001b[38;5;249mt\u001b[0m\u001b[38;5;249mu\u001b[0m\u001b[38;5;249mp\u001b[0m\u001b[38;5;249ml\u001b[0m\u001b[38;5;249me\u001b[0m\u001b[38;5;249m_\u001b[0m\u001b[38;5;249mb\u001b[0m\u001b[38;5;249mo\u001b[0m\u001b[38;5;249mx\u001b[0m\u001b[38;5;249m.\u001b[0m\u001b[38;5;54mc\u001b[0m\u001b[38;5;54ml\u001b[0m\u001b[38;5;54mo\u001b[0m\u001b[38;5;54mn\u001b[0m\u001b[38;5;54me\u001b[0m\u001b[38;5;249m(\u001b[0m\u001b[38;5;249m)\u001b[0m\u001b[38;5;249m;\u001b[0m",
      " \u001b[38;5;240m  │\u001b[0m                                \u001b[38;5;54m─\u001b[0m\u001b[38;5;54m─\u001b[0m\u001b[38;5;54m┬\u001b[0m\u001b[38;5;54m─\u001b[0m\u001b[38;5;54m─\u001b[0m  ",
      " \u001b[38;5;240m  │\u001b[0m                                  \u001b[38;5;54m╰\u001b[0m\u001b[38;5;54m─\u001b[0m\u001b[38;5;54m─\u001b[0m\u001b[38;5;54m─\u001b[0m\u001b[38;5;54m─\u001b[0m method cannot be called on `({integer}, BoxSize)` due to unsatisfied trait bounds",
      " \u001b[38;5;240m  │\u001b[0m ",
      " \u001b[38;5;240m  │\u001b[0m \u001b[38;5;115mNote\u001b[0m: help: consider annotating `BoxSize` with `#[derive(Clone)]`: `#[derive(Clone)]",
      "`",
      "\u001b[38;5;246m───╯\u001b[0m"
     ]
    }
   ],
   "source": [
    "// won't work\n",
    "let tuple_box = (1,BoxSize::new(1.1,1.2,1.3));\n",
    "let copy_tuple_box = tuple_box.clone();"
   ]
  },
  {
   "cell_type": "markdown",
   "id": "06a46791",
   "metadata": {
    "cell_style": "center",
    "slideshow": {
     "slide_type": "slide"
    }
   },
   "source": [
    "## Implicit copying\n",
    "\n",
    "* Works for intergers, floats, booleans, ...\n",
    "* Also for tuples made of items for which it works\n",
    "* But not for other types including those that implement clone"
   ]
  },
  {
   "cell_type": "code",
   "execution_count": 43,
   "id": "b54551d8",
   "metadata": {
    "cell_style": "split",
    "vscode": {
     "languageId": "rust"
    }
   },
   "outputs": [
    {
     "name": "stdout",
     "output_type": "stream",
     "text": [
      "3\n",
      "3\n"
     ]
    }
   ],
   "source": [
    "let int = 3;\n",
    "let int_2 = int;\n",
    "println!(\"{}\\n{}\",int,int_2);"
   ]
  },
  {
   "cell_type": "code",
   "execution_count": 44,
   "id": "2fd97bde",
   "metadata": {
    "cell_style": "split",
    "slideshow": {
     "slide_type": "fragment"
    },
    "vscode": {
     "languageId": "rust"
    }
   },
   "outputs": [
    {
     "name": "stdout",
     "output_type": "stream",
     "text": [
      "(1.2, 3.1)\n",
      "(1.2, 3.1)\n"
     ]
    }
   ],
   "source": [
    "let tuple = (1.2, 3.1);\n",
    "let tuple_2 = tuple;\n",
    "println!(\"{:?}\\n{:?}\",tuple,tuple_2);"
   ]
  },
  {
   "cell_type": "markdown",
   "id": "abf80df9",
   "metadata": {
    "slideshow": {
     "slide_type": "fragment"
    }
   },
   "source": [
    "To make it work: use `#[derive(Copy)]` in the definition\n",
    "* `(Clone)` needed as well"
   ]
  },
  {
   "cell_type": "code",
   "execution_count": 45,
   "id": "2d69c91d",
   "metadata": {
    "cell_style": "split",
    "vscode": {
     "languageId": "rust"
    }
   },
   "outputs": [],
   "source": [
    "#[derive(Copy,Clone,Debug)]\n",
    "enum SearchResult {\n",
    "    DidntFindIt,\n",
    "    FoundIt(usize),\n",
    "}"
   ]
  },
  {
   "cell_type": "code",
   "execution_count": 46,
   "id": "d21bac5c",
   "metadata": {
    "cell_style": "split",
    "slideshow": {
     "slide_type": "fragment"
    },
    "vscode": {
     "languageId": "rust"
    }
   },
   "outputs": [
    {
     "name": "stdout",
     "output_type": "stream",
     "text": [
      "DidntFindIt\n",
      "DidntFindIt\n"
     ]
    }
   ],
   "source": [
    "let result = SearchResult::DidntFindIt;\n",
    "let will_it_move = result;\n",
    "\n",
    "println!(\"{:?}\\n{:?}\",result,will_it_move);"
   ]
  },
  {
   "cell_type": "markdown",
   "id": "98df9522",
   "metadata": {
    "slideshow": {
     "slide_type": "subslide"
    }
   },
   "source": [
    "## What really happens with `derive(Copy)` and `derive(Clone)`"
   ]
  },
  {
   "cell_type": "markdown",
   "id": "1a1d11bc",
   "metadata": {
    "slideshow": {
     "slide_type": "fragment"
    }
   },
   "source": [
    "* Defining a specific method or methods (i.e., `clone`)"
   ]
  },
  {
   "cell_type": "markdown",
   "id": "a8eed744",
   "metadata": {
    "slideshow": {
     "slide_type": "fragment"
    }
   },
   "source": [
    "* It tells Rust that the type meets specific requirements \n",
    "  * they are called a trait\n",
    "  * to be covered later in class (next lecture)"
   ]
  },
  {
   "cell_type": "markdown",
   "id": "2272e0b0",
   "metadata": {
    "slideshow": {
     "slide_type": "slide"
    }
   },
   "source": [
    "## Multiple immutable references at once\n",
    "\n",
    "* useful for when we may want to access the same thing from multiple places\n",
    "* they can be passed around like values"
   ]
  },
  {
   "cell_type": "code",
   "execution_count": 47,
   "id": "f08d16a2",
   "metadata": {
    "cell_style": "split",
    "slideshow": {
     "slide_type": "fragment"
    },
    "vscode": {
     "languageId": "rust"
    }
   },
   "outputs": [],
   "source": [
    "// auxiliary functions\n",
    "\n",
    "fn display(x:&i32) {\n",
    "    println!(\"{}\",*x);    \n",
    "}\n",
    "\n",
    "fn double(x:&mut i32) {\n",
    "    *x *= 2;\n",
    "}"
   ]
  },
  {
   "cell_type": "code",
   "execution_count": 48,
   "id": "a10088d0",
   "metadata": {
    "cell_style": "split",
    "slideshow": {
     "slide_type": "fragment"
    },
    "vscode": {
     "languageId": "rust"
    }
   },
   "outputs": [
    {
     "name": "stdout",
     "output_type": "stream",
     "text": [
      "5\n",
      "5\n",
      "integer: 0x16afc94a4\n",
      "ir: 0x16afc94a4 ir2: 0x16afc94a4\n"
     ]
    }
   ],
   "source": [
    "// two immutable references\n",
    "let mut integer = 1;\n",
    "{\n",
    "    integer = 5;\n",
    "    let ir = &integer;\n",
    "    let ir2 = &integer;\n",
    "    display(ir);\n",
    "    display(ir2);\n",
    "    println!(\"integer: {:p}\", &integer);\n",
    "    println!(\"ir: {:p} ir2: {:p}\", ir, ir2);\n",
    "};"
   ]
  },
  {
   "cell_type": "markdown",
   "id": "73a6612c",
   "metadata": {},
   "source": [
    "These are references to the same instance of `integer`."
   ]
  },
  {
   "cell_type": "markdown",
   "id": "08e110fd",
   "metadata": {
    "slideshow": {
     "slide_type": "subslide"
    }
   },
   "source": [
    "## Multiple mutable references at once\n",
    "\n",
    "* useful for when we may want to access the same thing from multiple places\n",
    "* they can be passed around like values"
   ]
  },
  {
   "cell_type": "code",
   "execution_count": 49,
   "id": "df4a9be8",
   "metadata": {
    "cell_style": "split",
    "slideshow": {
     "slide_type": "fragment"
    },
    "vscode": {
     "languageId": "rust"
    }
   },
   "outputs": [
    {
     "name": "stdout",
     "output_type": "stream",
     "text": [
      "10\n"
     ]
    }
   ],
   "source": [
    "// one mutable reference\n",
    "{\n",
    "    let mr = &mut integer;\n",
    "    double(mr);\n",
    "    display(mr);\n",
    "};"
   ]
  },
  {
   "cell_type": "markdown",
   "id": "c8264e2a",
   "metadata": {},
   "source": [
    "But we can't have two mutable references at once."
   ]
  },
  {
   "cell_type": "code",
   "execution_count": 50,
   "id": "7e1d4fe9",
   "metadata": {
    "cell_style": "split",
    "slideshow": {
     "slide_type": "fragment"
    },
    "vscode": {
     "languageId": "rust"
    }
   },
   "outputs": [
    {
     "ename": "Error",
     "evalue": "cannot borrow `integer` as mutable more than once at a time",
     "output_type": "error",
     "traceback": [
      "\u001b[31m[E0499] Error:\u001b[0m cannot borrow `integer` as mutable more than once at a time",
      "   \u001b[38;5;246m╭\u001b[0m\u001b[38;5;246m─\u001b[0m\u001b[38;5;246m[\u001b[0mcommand_50:1:1\u001b[38;5;246m]\u001b[0m",
      "   \u001b[38;5;246m│\u001b[0m",
      " \u001b[38;5;246m4 │\u001b[0m \u001b[38;5;249m \u001b[0m\u001b[38;5;249m \u001b[0m\u001b[38;5;249m \u001b[0m\u001b[38;5;249m \u001b[0m\u001b[38;5;249ml\u001b[0m\u001b[38;5;249me\u001b[0m\u001b[38;5;249mt\u001b[0m\u001b[38;5;249m \u001b[0m\u001b[38;5;249mm\u001b[0m\u001b[38;5;249mr\u001b[0m\u001b[38;5;249m \u001b[0m\u001b[38;5;249m=\u001b[0m\u001b[38;5;249m \u001b[0m\u001b[38;5;54m&\u001b[0m\u001b[38;5;54mm\u001b[0m\u001b[38;5;54mu\u001b[0m\u001b[38;5;54mt\u001b[0m\u001b[38;5;54m \u001b[0m\u001b[38;5;54mi\u001b[0m\u001b[38;5;54mn\u001b[0m\u001b[38;5;54mt\u001b[0m\u001b[38;5;54me\u001b[0m\u001b[38;5;54mg\u001b[0m\u001b[38;5;54me\u001b[0m\u001b[38;5;54mr\u001b[0m\u001b[38;5;249m;\u001b[0m",
      " \u001b[38;5;240m  │\u001b[0m              \u001b[38;5;54m─\u001b[0m\u001b[38;5;54m─\u001b[0m\u001b[38;5;54m─\u001b[0m\u001b[38;5;54m─\u001b[0m\u001b[38;5;54m─\u001b[0m\u001b[38;5;54m─\u001b[0m\u001b[38;5;54m┬\u001b[0m\u001b[38;5;54m─\u001b[0m\u001b[38;5;54m─\u001b[0m\u001b[38;5;54m─\u001b[0m\u001b[38;5;54m─\u001b[0m\u001b[38;5;54m─\u001b[0m  ",
      " \u001b[38;5;240m  │\u001b[0m                    \u001b[38;5;54m╰\u001b[0m\u001b[38;5;54m─\u001b[0m\u001b[38;5;54m─\u001b[0m\u001b[38;5;54m─\u001b[0m\u001b[38;5;54m─\u001b[0m\u001b[38;5;54m─\u001b[0m\u001b[38;5;54m─\u001b[0m\u001b[38;5;54m─\u001b[0m first mutable borrow occurs here",
      " \u001b[38;5;246m5 │\u001b[0m \u001b[38;5;249m \u001b[0m\u001b[38;5;249m \u001b[0m\u001b[38;5;249m \u001b[0m\u001b[38;5;249m \u001b[0m\u001b[38;5;249ml\u001b[0m\u001b[38;5;249me\u001b[0m\u001b[38;5;249mt\u001b[0m\u001b[38;5;249m \u001b[0m\u001b[38;5;249mm\u001b[0m\u001b[38;5;249mr\u001b[0m\u001b[38;5;249m2\u001b[0m\u001b[38;5;249m \u001b[0m\u001b[38;5;249m=\u001b[0m\u001b[38;5;249m \u001b[0m\u001b[38;5;100m&\u001b[0m\u001b[38;5;100mm\u001b[0m\u001b[38;5;100mu\u001b[0m\u001b[38;5;100mt\u001b[0m\u001b[38;5;100m \u001b[0m\u001b[38;5;100mi\u001b[0m\u001b[38;5;100mn\u001b[0m\u001b[38;5;100mt\u001b[0m\u001b[38;5;100me\u001b[0m\u001b[38;5;100mg\u001b[0m\u001b[38;5;100me\u001b[0m\u001b[38;5;100mr\u001b[0m\u001b[38;5;249m;\u001b[0m",
      " \u001b[38;5;240m  │\u001b[0m               \u001b[38;5;100m─\u001b[0m\u001b[38;5;100m─\u001b[0m\u001b[38;5;100m─\u001b[0m\u001b[38;5;100m─\u001b[0m\u001b[38;5;100m─\u001b[0m\u001b[38;5;100m─\u001b[0m\u001b[38;5;100m┬\u001b[0m\u001b[38;5;100m─\u001b[0m\u001b[38;5;100m─\u001b[0m\u001b[38;5;100m─\u001b[0m\u001b[38;5;100m─\u001b[0m\u001b[38;5;100m─\u001b[0m  ",
      " \u001b[38;5;240m  │\u001b[0m                     \u001b[38;5;100m╰\u001b[0m\u001b[38;5;100m─\u001b[0m\u001b[38;5;100m─\u001b[0m\u001b[38;5;100m─\u001b[0m\u001b[38;5;100m─\u001b[0m\u001b[38;5;100m─\u001b[0m\u001b[38;5;100m─\u001b[0m\u001b[38;5;100m─\u001b[0m second mutable borrow occurs here",
      " \u001b[38;5;246m6 │\u001b[0m \u001b[38;5;249m \u001b[0m\u001b[38;5;249m \u001b[0m\u001b[38;5;249m \u001b[0m\u001b[38;5;249m \u001b[0m\u001b[38;5;249md\u001b[0m\u001b[38;5;249mo\u001b[0m\u001b[38;5;249mu\u001b[0m\u001b[38;5;249mb\u001b[0m\u001b[38;5;249ml\u001b[0m\u001b[38;5;249me\u001b[0m\u001b[38;5;249m(\u001b[0m\u001b[38;5;68mm\u001b[0m\u001b[38;5;68mr\u001b[0m\u001b[38;5;249m)\u001b[0m\u001b[38;5;249m;\u001b[0m",
      " \u001b[38;5;240m  │\u001b[0m            \u001b[38;5;68m─\u001b[0m\u001b[38;5;68m┬\u001b[0m  ",
      " \u001b[38;5;240m  │\u001b[0m             \u001b[38;5;68m╰\u001b[0m\u001b[38;5;68m─\u001b[0m\u001b[38;5;68m─\u001b[0m first borrow later used here",
      "\u001b[38;5;246m───╯\u001b[0m"
     ]
    }
   ],
   "source": [
    "// ERROR\n",
    "// two mutable references\n",
    "{\n",
    "    let mr = &mut integer;\n",
    "    let mr2 = &mut integer;\n",
    "    double(mr);\n",
    "    double(mr2);\n",
    "};"
   ]
  },
  {
   "cell_type": "markdown",
   "id": "b24bfc7f",
   "metadata": {
    "slideshow": {
     "slide_type": "subslide"
    }
   },
   "source": [
    "## Multiple references at once -- mutable and immutable\n",
    "\n",
    "* useful for when we may want to access the same thing from multiple places\n",
    "* they can be passed around like values"
   ]
  },
  {
   "cell_type": "markdown",
   "id": "f2b7a591",
   "metadata": {},
   "source": [
    "We can't take a mutable reference after an immutable reference."
   ]
  },
  {
   "cell_type": "code",
   "execution_count": 51,
   "id": "fbca95b9",
   "metadata": {
    "cell_style": "split",
    "vscode": {
     "languageId": "rust"
    }
   },
   "outputs": [
    {
     "ename": "Error",
     "evalue": "cannot borrow `integer` as mutable because it is also borrowed as immutable",
     "output_type": "error",
     "traceback": [
      "\u001b[31m[E0502] Error:\u001b[0m cannot borrow `integer` as mutable because it is also borrowed as immutable",
      "   \u001b[38;5;246m╭\u001b[0m\u001b[38;5;246m─\u001b[0m\u001b[38;5;246m[\u001b[0mcommand_51:1:1\u001b[38;5;246m]\u001b[0m",
      "   \u001b[38;5;246m│\u001b[0m",
      " \u001b[38;5;246m3 │\u001b[0m \u001b[38;5;249m \u001b[0m\u001b[38;5;249m \u001b[0m\u001b[38;5;249m \u001b[0m\u001b[38;5;249m \u001b[0m\u001b[38;5;249ml\u001b[0m\u001b[38;5;249me\u001b[0m\u001b[38;5;249mt\u001b[0m\u001b[38;5;249m \u001b[0m\u001b[38;5;249mi\u001b[0m\u001b[38;5;249mr\u001b[0m\u001b[38;5;249m \u001b[0m\u001b[38;5;249m=\u001b[0m\u001b[38;5;249m \u001b[0m\u001b[38;5;100m&\u001b[0m\u001b[38;5;100mi\u001b[0m\u001b[38;5;100mn\u001b[0m\u001b[38;5;100mt\u001b[0m\u001b[38;5;100me\u001b[0m\u001b[38;5;100mg\u001b[0m\u001b[38;5;100me\u001b[0m\u001b[38;5;100mr\u001b[0m\u001b[38;5;249m;\u001b[0m",
      " \u001b[38;5;240m  │\u001b[0m              \u001b[38;5;100m─\u001b[0m\u001b[38;5;100m─\u001b[0m\u001b[38;5;100m─\u001b[0m\u001b[38;5;100m─\u001b[0m\u001b[38;5;100m┬\u001b[0m\u001b[38;5;100m─\u001b[0m\u001b[38;5;100m─\u001b[0m\u001b[38;5;100m─\u001b[0m  ",
      " \u001b[38;5;240m  │\u001b[0m                  \u001b[38;5;100m╰\u001b[0m\u001b[38;5;100m─\u001b[0m\u001b[38;5;100m─\u001b[0m\u001b[38;5;100m─\u001b[0m\u001b[38;5;100m─\u001b[0m\u001b[38;5;100m─\u001b[0m immutable borrow occurs here",
      " \u001b[38;5;246m4 │\u001b[0m \u001b[38;5;249m \u001b[0m\u001b[38;5;249m \u001b[0m\u001b[38;5;249m \u001b[0m\u001b[38;5;249m \u001b[0m\u001b[38;5;249ml\u001b[0m\u001b[38;5;249me\u001b[0m\u001b[38;5;249mt\u001b[0m\u001b[38;5;249m \u001b[0m\u001b[38;5;249mm\u001b[0m\u001b[38;5;249mr\u001b[0m\u001b[38;5;249m2\u001b[0m\u001b[38;5;249m \u001b[0m\u001b[38;5;249m=\u001b[0m\u001b[38;5;249m \u001b[0m\u001b[38;5;54m&\u001b[0m\u001b[38;5;54mm\u001b[0m\u001b[38;5;54mu\u001b[0m\u001b[38;5;54mt\u001b[0m\u001b[38;5;54m \u001b[0m\u001b[38;5;54mi\u001b[0m\u001b[38;5;54mn\u001b[0m\u001b[38;5;54mt\u001b[0m\u001b[38;5;54me\u001b[0m\u001b[38;5;54mg\u001b[0m\u001b[38;5;54me\u001b[0m\u001b[38;5;54mr\u001b[0m\u001b[38;5;249m;\u001b[0m",
      " \u001b[38;5;240m  │\u001b[0m               \u001b[38;5;54m─\u001b[0m\u001b[38;5;54m─\u001b[0m\u001b[38;5;54m─\u001b[0m\u001b[38;5;54m─\u001b[0m\u001b[38;5;54m─\u001b[0m\u001b[38;5;54m─\u001b[0m\u001b[38;5;54m┬\u001b[0m\u001b[38;5;54m─\u001b[0m\u001b[38;5;54m─\u001b[0m\u001b[38;5;54m─\u001b[0m\u001b[38;5;54m─\u001b[0m\u001b[38;5;54m─\u001b[0m  ",
      " \u001b[38;5;240m  │\u001b[0m                     \u001b[38;5;54m╰\u001b[0m\u001b[38;5;54m─\u001b[0m\u001b[38;5;54m─\u001b[0m\u001b[38;5;54m─\u001b[0m\u001b[38;5;54m─\u001b[0m\u001b[38;5;54m─\u001b[0m\u001b[38;5;54m─\u001b[0m\u001b[38;5;54m─\u001b[0m mutable borrow occurs here",
      " \u001b[38;5;246m5 │\u001b[0m \u001b[38;5;249m \u001b[0m\u001b[38;5;249m \u001b[0m\u001b[38;5;249m \u001b[0m\u001b[38;5;249m \u001b[0m\u001b[38;5;249md\u001b[0m\u001b[38;5;249mi\u001b[0m\u001b[38;5;249ms\u001b[0m\u001b[38;5;249mp\u001b[0m\u001b[38;5;249ml\u001b[0m\u001b[38;5;249ma\u001b[0m\u001b[38;5;249my\u001b[0m\u001b[38;5;249m(\u001b[0m\u001b[38;5;68mi\u001b[0m\u001b[38;5;68mr\u001b[0m\u001b[38;5;249m)\u001b[0m\u001b[38;5;249m;\u001b[0m\u001b[38;5;249m \u001b[0m\u001b[38;5;249m \u001b[0m\u001b[38;5;249m/\u001b[0m\u001b[38;5;249m/\u001b[0m\u001b[38;5;249m \u001b[0m\u001b[38;5;249mb\u001b[0m\u001b[38;5;249mo\u001b[0m\u001b[38;5;249mr\u001b[0m\u001b[38;5;249mr\u001b[0m\u001b[38;5;249mo\u001b[0m\u001b[38;5;249mw\u001b[0m\u001b[38;5;249mi\u001b[0m\u001b[38;5;249mn\u001b[0m\u001b[38;5;249mg\u001b[0m\u001b[38;5;249m \u001b[0m\u001b[38;5;249mi\u001b[0m\u001b[38;5;249mm\u001b[0m\u001b[38;5;249mm\u001b[0m\u001b[38;5;249mu\u001b[0m\u001b[38;5;249mt\u001b[0m\u001b[38;5;249ma\u001b[0m\u001b[38;5;249mb\u001b[0m\u001b[38;5;249ml\u001b[0m\u001b[38;5;249me\u001b[0m\u001b[38;5;249m \u001b[0m\u001b[38;5;249mr\u001b[0m\u001b[38;5;249me\u001b[0m\u001b[38;5;249mf\u001b[0m\u001b[38;5;249me\u001b[0m\u001b[38;5;249mr\u001b[0m\u001b[38;5;249me\u001b[0m\u001b[38;5;249mn\u001b[0m\u001b[38;5;249mc\u001b[0m\u001b[38;5;249me\u001b[0m",
      " \u001b[38;5;240m  │\u001b[0m             \u001b[38;5;68m─\u001b[0m\u001b[38;5;68m┬\u001b[0m  ",
      " \u001b[38;5;240m  │\u001b[0m              \u001b[38;5;68m╰\u001b[0m\u001b[38;5;68m─\u001b[0m\u001b[38;5;68m─\u001b[0m immutable borrow later used here",
      "\u001b[38;5;246m───╯\u001b[0m"
     ]
    }
   ],
   "source": [
    "// immutable and mutable references\n",
    "{\n",
    "    let ir = &integer;\n",
    "    let mr2 = &mut integer;\n",
    "    display(ir);  // borrowing immutable reference\n",
    "    double(mr2);\n",
    "};"
   ]
  },
  {
   "cell_type": "markdown",
   "id": "0f10481f",
   "metadata": {},
   "source": [
    "What about below?"
   ]
  },
  {
   "cell_type": "code",
   "execution_count": 52,
   "id": "3ec80d4d",
   "metadata": {
    "cell_style": "split",
    "slideshow": {
     "slide_type": "fragment"
    },
    "vscode": {
     "languageId": "rust"
    }
   },
   "outputs": [
    {
     "name": "stdout",
     "output_type": "stream",
     "text": [
      "10\n"
     ]
    }
   ],
   "source": [
    "// immutable and mutable references\n",
    "//#![allow(unused_variables)]\n",
    "{\n",
    "    let ir = &integer;\n",
    "    display(ir);\n",
    "    let mr2 = &mut integer;\n",
    "    double(mr2);\n",
    "    let ir2 = &integer;\n",
    "    display(ir2);\n",
    "};"
   ]
  },
  {
   "cell_type": "markdown",
   "id": "77acaaef",
   "metadata": {
    "cell_style": "split",
    "slideshow": {
     "slide_type": "fragment"
    }
   },
   "source": [
    "Rust can figure out which references no longer used"
   ]
  },
  {
   "cell_type": "markdown",
   "id": "c70176d7",
   "metadata": {
    "slideshow": {
     "slide_type": "subslide"
    }
   },
   "source": [
    "## Multiple references at once\n",
    "\n",
    "* useful for when we may want to access the same data from multiple places\n",
    "* they can be passed around like values"
   ]
  },
  {
   "cell_type": "markdown",
   "id": "883b1a60",
   "metadata": {
    "cell_style": "split"
   },
   "source": [
    "### Rules\n",
    "* At most one mutable reference at a time\n",
    "* Multiple immutable references allowed\n",
    "* No mutable and immutable references at the same time (execution order matters)"
   ]
  },
  {
   "cell_type": "markdown",
   "id": "10d36ce1",
   "metadata": {
    "cell_style": "split",
    "slideshow": {
     "slide_type": "fragment"
    }
   },
   "source": [
    "### How it could be useful\n",
    "* More clear what is happening\n",
    "  * Potential early bug detection\n",
    "* Additional optimizations possible\n",
    "* Multithreading (running things in parallel):\n",
    "  * each thread accesses things through references\n",
    "  * potentially very unpredictable behaviour\n",
    "    without these rules"
   ]
  },
  {
   "cell_type": "markdown",
   "id": "9044aa59",
   "metadata": {
    "slideshow": {
     "slide_type": "subslide"
    }
   },
   "source": [
    "## Not covered today: lifetimes\n",
    "* how long a reference lives\n",
    "* important for making sure that references passed around are not in conflict\n",
    "* useful for dealing with some data processing patterns"
   ]
  },
  {
   "cell_type": "markdown",
   "id": "530d5b5c",
   "metadata": {},
   "source": [
    "---"
   ]
  },
  {
   "cell_type": "markdown",
   "id": "efa8ae1d",
   "metadata": {
    "slideshow": {
     "slide_type": "slide"
    }
   },
   "source": [
    "# Generics\n",
    "\n",
    "## New Topic: Avoiding duplicating code for different types"
   ]
  },
  {
   "cell_type": "markdown",
   "id": "21452222",
   "metadata": {
    "cell_style": "split"
   },
   "source": [
    "Python:\n",
    "\n",
    "```python\n",
    "def max(x,y):\n",
    "    return x if x > y else y\n",
    "```\n",
    "```python\n",
    "max(3,2)\n",
    "```\n",
    "```\n",
    "3\n",
    "```\n",
    "```python\n",
    "max(3.1,2.2)\n",
    "```\n",
    "```\n",
    "3.1\n",
    "```"
   ]
  },
  {
   "cell_type": "markdown",
   "id": "cd8cbf7f",
   "metadata": {
    "cell_style": "split",
    "slideshow": {
     "slide_type": "fragment"
    }
   },
   "source": [
    "Very flexible! Any downsides?"
   ]
  },
  {
   "cell_type": "markdown",
   "id": "d135538f",
   "metadata": {
    "cell_style": "split",
    "slideshow": {
     "slide_type": "fragment"
    }
   },
   "source": [
    "* Requires checking each time what types are used\n",
    "* Runtime penalty"
   ]
  },
  {
   "cell_type": "markdown",
   "id": "7259ec8d",
   "metadata": {
    "slideshow": {
     "slide_type": "subslide"
    }
   },
   "source": [
    "## New Topic: Avoiding duplicating code for different types"
   ]
  },
  {
   "cell_type": "markdown",
   "id": "eefff8cd",
   "metadata": {
    "cell_style": "center"
   },
   "source": [
    "Possible Rust \"equivalent\": create a version of the function for each type"
   ]
  },
  {
   "cell_type": "code",
   "execution_count": 54,
   "id": "d86f55ed",
   "metadata": {
    "cell_style": "split",
    "vscode": {
     "languageId": "rust"
    }
   },
   "outputs": [
    {
     "data": {
      "text/plain": [
       "8"
      ]
     },
     "execution_count": 54,
     "metadata": {},
     "output_type": "execute_result"
    }
   ],
   "source": [
    "fn max_i32(x:i32,y:i32) -> i32 {\n",
    "    if x > y {x} else {y}\n",
    "}\n",
    "\n",
    "max_i32(3,8)"
   ]
  },
  {
   "cell_type": "code",
   "execution_count": 55,
   "id": "67556090",
   "metadata": {
    "cell_style": "split",
    "vscode": {
     "languageId": "rust"
    }
   },
   "outputs": [
    {
     "data": {
      "text/plain": [
       "8.1"
      ]
     },
     "execution_count": 55,
     "metadata": {},
     "output_type": "execute_result"
    }
   ],
   "source": [
    "fn max_f64(x:f64,y:f64) -> f64 {\n",
    "    if x > y {x} else {y}\n",
    "}\n",
    "\n",
    "max_f64(3.3,8.1)"
   ]
  },
  {
   "cell_type": "markdown",
   "id": "ef72c28a",
   "metadata": {
    "cell_style": "center",
    "slideshow": {
     "slide_type": "fragment"
    }
   },
   "source": [
    "Lots of work! Make the compiler do it!"
   ]
  },
  {
   "cell_type": "code",
   "execution_count": 56,
   "id": "a4dff3d6",
   "metadata": {
    "cell_style": "split",
    "slideshow": {
     "slide_type": "-"
    },
    "vscode": {
     "languageId": "rust"
    }
   },
   "outputs": [
    {
     "ename": "Error",
     "evalue": "binary operation `>` cannot be applied to type `T`",
     "output_type": "error",
     "traceback": [
      "\u001b[31m[E0369] Error:\u001b[0m binary operation `>` cannot be applied to type `T`",
      "   \u001b[38;5;246m╭\u001b[0m\u001b[38;5;246m─\u001b[0m\u001b[38;5;246m[\u001b[0mcommand_56:1:1\u001b[38;5;246m]\u001b[0m",
      "   \u001b[38;5;246m│\u001b[0m",
      " \u001b[38;5;246m1 │\u001b[0m \u001b[38;5;249mf\u001b[0m\u001b[38;5;249mn\u001b[0m\u001b[38;5;249m \u001b[0m\u001b[38;5;249mm\u001b[0m\u001b[38;5;249ma\u001b[0m\u001b[38;5;249mx\u001b[0m\u001b[38;5;249m<\u001b[0m\u001b[38;5;249mT\u001b[0m\u001b[38;5;249m>\u001b[0m\u001b[38;5;249m(\u001b[0m\u001b[38;5;249mx\u001b[0m\u001b[38;5;249m:\u001b[0m\u001b[38;5;249mT\u001b[0m\u001b[38;5;249m,\u001b[0m\u001b[38;5;249my\u001b[0m\u001b[38;5;249m:\u001b[0m\u001b[38;5;249mT\u001b[0m\u001b[38;5;249m)\u001b[0m\u001b[38;5;249m \u001b[0m\u001b[38;5;249m-\u001b[0m\u001b[38;5;249m>\u001b[0m\u001b[38;5;249m \u001b[0m\u001b[38;5;249mT\u001b[0m\u001b[38;5;249m \u001b[0m\u001b[38;5;249m{\u001b[0m",
      " \u001b[38;5;240m  │\u001b[0m         \u001b[38;5;37m│\u001b[0m ",
      " \u001b[38;5;240m  │\u001b[0m         \u001b[38;5;37m╰\u001b[0m\u001b[38;5;37m─\u001b[0m help: consider restricting type parameter `T`: `: std::cmp::PartialOrd`",
      " \u001b[38;5;246m2 │\u001b[0m \u001b[38;5;249m \u001b[0m\u001b[38;5;249m \u001b[0m\u001b[38;5;249m \u001b[0m\u001b[38;5;249m \u001b[0m\u001b[38;5;249m \u001b[0m\u001b[38;5;249m \u001b[0m\u001b[38;5;249m \u001b[0m\u001b[38;5;249m \u001b[0m\u001b[38;5;249mi\u001b[0m\u001b[38;5;249mf\u001b[0m\u001b[38;5;249m \u001b[0m\u001b[38;5;54mx\u001b[0m\u001b[38;5;249m \u001b[0m\u001b[38;5;68m>\u001b[0m\u001b[38;5;249m \u001b[0m\u001b[38;5;100my\u001b[0m\u001b[38;5;249m \u001b[0m\u001b[38;5;249m{\u001b[0m\u001b[38;5;249mx\u001b[0m\u001b[38;5;249m}\u001b[0m\u001b[38;5;249m \u001b[0m\u001b[38;5;249me\u001b[0m\u001b[38;5;249ml\u001b[0m\u001b[38;5;249ms\u001b[0m\u001b[38;5;249me\u001b[0m\u001b[38;5;249m \u001b[0m\u001b[38;5;249m{\u001b[0m\u001b[38;5;249my\u001b[0m\u001b[38;5;249m}\u001b[0m",
      " \u001b[38;5;240m  │\u001b[0m            \u001b[38;5;54m┬\u001b[0m \u001b[38;5;68m┬\u001b[0m \u001b[38;5;100m┬\u001b[0m  ",
      " \u001b[38;5;240m  │\u001b[0m            \u001b[38;5;54m╰\u001b[0m\u001b[38;5;54m─\u001b[0m\u001b[38;5;54m─\u001b[0m\u001b[38;5;54m─\u001b[0m\u001b[38;5;54m─\u001b[0m\u001b[38;5;54m─\u001b[0m\u001b[38;5;54m─\u001b[0m T",
      " \u001b[38;5;240m  │\u001b[0m              \u001b[38;5;68m│\u001b[0m \u001b[38;5;100m│\u001b[0m  ",
      " \u001b[38;5;240m  │\u001b[0m              \u001b[38;5;68m╰\u001b[0m\u001b[38;5;68m─\u001b[0m\u001b[38;5;68m─\u001b[0m\u001b[38;5;68m─\u001b[0m\u001b[38;5;68m─\u001b[0m error: binary operation `>` cannot be applied to type `T`",
      " \u001b[38;5;240m  │\u001b[0m                \u001b[38;5;100m│\u001b[0m  ",
      " \u001b[38;5;240m  │\u001b[0m                \u001b[38;5;100m╰\u001b[0m\u001b[38;5;100m─\u001b[0m\u001b[38;5;100m─\u001b[0m T",
      "\u001b[38;5;246m───╯\u001b[0m"
     ]
    }
   ],
   "source": [
    "fn max<T>(x:T,y:T) -> T {\n",
    "        if x > y {x} else {y}\n",
    "}"
   ]
  },
  {
   "cell_type": "code",
   "execution_count": 57,
   "id": "fdaa102f",
   "metadata": {
    "cell_style": "split",
    "slideshow": {
     "slide_type": "fragment"
    },
    "vscode": {
     "languageId": "rust"
    }
   },
   "outputs": [
    {
     "name": "stdout",
     "output_type": "stream",
     "text": [
      "8\n"
     ]
    }
   ],
   "source": [
    "// add info that elements of T are comparable\n",
    "fn max<T:PartialOrd>(x:T,y:T) -> T {\n",
    "        if x > y {x} else {y}\n",
    "}\n",
    "\n",
    "println!(\"{}\",max(3,8));\n",
    "println!(\"{}\",max(3.3,8.1));\n",
    "println!(\"{}\",max('a','b'));"
   ]
  },
  {
   "cell_type": "markdown",
   "id": "4dbcd78e",
   "metadata": {
    "slideshow": {
     "slide_type": "subslide"
    }
   },
   "source": [
    "## Generics / Generic data types\n",
    "In other programming languages:<br>\n",
    "&nbsp;&nbsp;&nbsp;&nbsp;$\\bullet$ C++: templates<br>\n",
    "&nbsp;&nbsp;&nbsp;&nbsp;$\\bullet$ Java: generics<br>\n",
    "&nbsp;&nbsp;&nbsp;&nbsp;$\\bullet$ Go: generics<br>\n",
    "&nbsp;&nbsp;&nbsp;&nbsp;$\\bullet$ ML, Haskell: parametric polymorphism"
   ]
  },
  {
   "cell_type": "markdown",
   "id": "70493ccf",
   "metadata": {
    "slideshow": {
     "slide_type": "slide"
    }
   },
   "source": [
    "## Use with data types"
   ]
  },
  {
   "cell_type": "code",
   "execution_count": 59,
   "id": "c47e03b7",
   "metadata": {
    "cell_style": "split",
    "vscode": {
     "languageId": "rust"
    }
   },
   "outputs": [],
   "source": [
    "#[derive(Debug)]\n",
    "struct Point<T> {\n",
    "    x: T,\n",
    "    y: T,\n",
    "}"
   ]
  },
  {
   "cell_type": "code",
   "execution_count": 60,
   "id": "c454c62d",
   "metadata": {
    "cell_style": "split",
    "scrolled": true,
    "slideshow": {
     "slide_type": "fragment"
    },
    "vscode": {
     "languageId": "rust"
    }
   },
   "outputs": [
    {
     "name": "stdout",
     "output_type": "stream",
     "text": [
      "Point { x: 2, y: 3 }\n",
      "Point { x: 4.2, y: 3.0 }\n"
     ]
    }
   ],
   "source": [
    "let point_int = Point {x: 2, y: 3};\n",
    "println!(\"{:?}\", point_int);\n",
    "\n",
    "let point_float = Point {x: 4.2, y: 3.0};\n",
    "println!(\"{:?}\", point_float);\n"
   ]
  },
  {
   "cell_type": "markdown",
   "id": "80826075",
   "metadata": {
    "slideshow": {
     "slide_type": "fragment"
    }
   },
   "source": [
    "Functions and methods for generic data types"
   ]
  },
  {
   "cell_type": "code",
   "execution_count": 61,
   "id": "69eff36d",
   "metadata": {
    "cell_style": "split",
    "vscode": {
     "languageId": "rust"
    }
   },
   "outputs": [],
   "source": [
    "impl<T> Point<T> {\n",
    "    fn create(x:T,y:T) -> Point<T> {\n",
    "        Point{x,y}\n",
    "    }\n",
    "}"
   ]
  },
  {
   "cell_type": "markdown",
   "id": "4af6bf0b",
   "metadata": {},
   "source": [
    "`impl<T> Point<T>` means that this is an implementation block and all the methods\n",
    "are implemented for any type `T` that `Point` might be instantiated with."
   ]
  },
  {
   "cell_type": "code",
   "execution_count": 62,
   "id": "8ea41a00",
   "metadata": {
    "cell_style": "split",
    "slideshow": {
     "slide_type": "fragment"
    },
    "vscode": {
     "languageId": "rust"
    }
   },
   "outputs": [
    {
     "name": "stdout",
     "output_type": "stream",
     "text": [
      "Point { x: 'a', y: 'b' } Point { x: 'c', y: 'd' } Point { x: 'c', y: 'd' }\n"
     ]
    }
   ],
   "source": [
    "let point = Point::create('a','b');\n",
    "let point2 = Point::<char>::create('c','d');\n",
    "let point3 : Point<char> = Point::create('c','d');\n",
    "println!(\"{:?} {:?} {:?}\", point, point2, point3);\n"
   ]
  },
  {
   "cell_type": "markdown",
   "id": "88f322d3",
   "metadata": {
    "slideshow": {
     "slide_type": "subslide"
    }
   },
   "source": [
    "## Use with data types"
   ]
  },
  {
   "cell_type": "markdown",
   "id": "0f9a31a1",
   "metadata": {},
   "source": [
    "Implementing a method"
   ]
  },
  {
   "cell_type": "code",
   "execution_count": 63,
   "id": "50c6d663",
   "metadata": {
    "cell_style": "split",
    "vscode": {
     "languageId": "rust"
    }
   },
   "outputs": [],
   "source": [
    "impl<T:Copy> Point<T> {\n",
    "    fn swap(&mut self) {\n",
    "        let z = self.x;\n",
    "        self.x = self.y;\n",
    "        self.y = z;\n",
    "    }\n",
    "}"
   ]
  },
  {
   "cell_type": "markdown",
   "id": "f1a78f6d",
   "metadata": {},
   "source": [
    "`impl<T:Copy>` specifies that `T` must implement the `Copy` trait."
   ]
  },
  {
   "cell_type": "code",
   "execution_count": 64,
   "id": "b61cb12b",
   "metadata": {
    "vscode": {
     "languageId": "rust"
    }
   },
   "outputs": [
    {
     "ename": "Error",
     "evalue": "cannot move out of `self.x` which is behind a mutable reference",
     "output_type": "error",
     "traceback": [
      "\u001b[31m[E0507] Error:\u001b[0m cannot move out of `self.x` which is behind a mutable reference",
      "   \u001b[38;5;246m╭\u001b[0m\u001b[38;5;246m─\u001b[0m\u001b[38;5;246m[\u001b[0mcommand_64:1:1\u001b[38;5;246m]\u001b[0m",
      "   \u001b[38;5;246m│\u001b[0m",
      " \u001b[38;5;246m3 │\u001b[0m \u001b[38;5;249m \u001b[0m\u001b[38;5;249m \u001b[0m\u001b[38;5;249m \u001b[0m\u001b[38;5;249m \u001b[0m\u001b[38;5;249m \u001b[0m\u001b[38;5;249m \u001b[0m\u001b[38;5;249m \u001b[0m\u001b[38;5;249m \u001b[0m\u001b[38;5;249ml\u001b[0m\u001b[38;5;249me\u001b[0m\u001b[38;5;249mt\u001b[0m\u001b[38;5;249m \u001b[0m\u001b[38;5;249mz\u001b[0m\u001b[38;5;249m \u001b[0m\u001b[38;5;249m=\u001b[0m\u001b[38;5;249m \u001b[0m\u001b[38;5;54ms\u001b[0m\u001b[38;5;54me\u001b[0m\u001b[38;5;54ml\u001b[0m\u001b[38;5;54mf\u001b[0m\u001b[38;5;54m.\u001b[0m\u001b[38;5;54mx\u001b[0m\u001b[38;5;249m;\u001b[0m",
      " \u001b[38;5;240m  │\u001b[0m                 \u001b[38;5;100m┬\u001b[0m\u001b[38;5;54m─\u001b[0m\u001b[38;5;54m─\u001b[0m\u001b[38;5;54m┬\u001b[0m\u001b[38;5;54m─\u001b[0m\u001b[38;5;54m─\u001b[0m  ",
      " \u001b[38;5;240m  │\u001b[0m                 \u001b[38;5;100m╰\u001b[0m\u001b[38;5;100m─\u001b[0m\u001b[38;5;100m─\u001b[0m\u001b[38;5;100m─\u001b[0m\u001b[38;5;100m─\u001b[0m\u001b[38;5;100m─\u001b[0m\u001b[38;5;100m─\u001b[0m\u001b[38;5;100m─\u001b[0m help: consider borrowing here: `&`",
      " \u001b[38;5;240m  │\u001b[0m                    \u001b[38;5;54m│\u001b[0m    ",
      " \u001b[38;5;240m  │\u001b[0m                    \u001b[38;5;54m╰\u001b[0m\u001b[38;5;54m─\u001b[0m\u001b[38;5;54m─\u001b[0m\u001b[38;5;54m─\u001b[0m\u001b[38;5;54m─\u001b[0m move occurs because `self.x` has type `T`, which does not implement the `Copy` trait",
      "\u001b[38;5;246m───╯\u001b[0m"
     ]
    },
    {
     "ename": "Error",
     "evalue": "cannot move out of `self.y` which is behind a mutable reference",
     "output_type": "error",
     "traceback": [
      "\u001b[31m[E0507] Error:\u001b[0m cannot move out of `self.y` which is behind a mutable reference",
      "   \u001b[38;5;246m╭\u001b[0m\u001b[38;5;246m─\u001b[0m\u001b[38;5;246m[\u001b[0mcommand_64:1:1\u001b[38;5;246m]\u001b[0m",
      "   \u001b[38;5;246m│\u001b[0m",
      " \u001b[38;5;246m4 │\u001b[0m \u001b[38;5;249m \u001b[0m\u001b[38;5;249m \u001b[0m\u001b[38;5;249m \u001b[0m\u001b[38;5;249m \u001b[0m\u001b[38;5;249m \u001b[0m\u001b[38;5;249m \u001b[0m\u001b[38;5;249m \u001b[0m\u001b[38;5;249m \u001b[0m\u001b[38;5;249ms\u001b[0m\u001b[38;5;249me\u001b[0m\u001b[38;5;249ml\u001b[0m\u001b[38;5;249mf\u001b[0m\u001b[38;5;249m.\u001b[0m\u001b[38;5;249mx\u001b[0m\u001b[38;5;249m \u001b[0m\u001b[38;5;249m=\u001b[0m\u001b[38;5;249m \u001b[0m\u001b[38;5;54ms\u001b[0m\u001b[38;5;54me\u001b[0m\u001b[38;5;54ml\u001b[0m\u001b[38;5;54mf\u001b[0m\u001b[38;5;54m.\u001b[0m\u001b[38;5;54my\u001b[0m\u001b[38;5;249m;\u001b[0m",
      " \u001b[38;5;240m  │\u001b[0m                  \u001b[38;5;54m─\u001b[0m\u001b[38;5;54m─\u001b[0m\u001b[38;5;54m─\u001b[0m\u001b[38;5;54m┬\u001b[0m\u001b[38;5;54m─\u001b[0m\u001b[38;5;54m─\u001b[0m  ",
      " \u001b[38;5;240m  │\u001b[0m                     \u001b[38;5;54m╰\u001b[0m\u001b[38;5;54m─\u001b[0m\u001b[38;5;54m─\u001b[0m\u001b[38;5;54m─\u001b[0m\u001b[38;5;54m─\u001b[0m move occurs because `self.y` has type `T`, which does not implement the `Copy` trait",
      "\u001b[38;5;246m───╯\u001b[0m"
     ]
    }
   ],
   "source": [
    "impl<T> Point<T> {\n",
    "    fn swap2(&mut self) {\n",
    "        let z = self.x;\n",
    "        self.x = self.y;\n",
    "        self.y = z;\n",
    "    }\n",
    "}"
   ]
  },
  {
   "cell_type": "code",
   "execution_count": 65,
   "id": "7c0912a2",
   "metadata": {
    "cell_style": "split",
    "slideshow": {
     "slide_type": "fragment"
    },
    "vscode": {
     "languageId": "rust"
    }
   },
   "outputs": [
    {
     "name": "stdout",
     "output_type": "stream",
     "text": [
      "Point { x: 2, y: 3 }\n",
      "Point { x: 3, y: 2 }\n"
     ]
    }
   ],
   "source": [
    "let mut point = Point::create(2,3);\n",
    "println!(\"{:?}\",point);\n",
    "point.swap();\n",
    "println!(\"{:?}\",point);\n"
   ]
  },
  {
   "cell_type": "markdown",
   "id": "d10cab32",
   "metadata": {
    "slideshow": {
     "slide_type": "subslide"
    }
   },
   "source": [
    "## Use with data types"
   ]
  },
  {
   "cell_type": "markdown",
   "id": "f1b9ddc2",
   "metadata": {},
   "source": [
    "Specialized versions for different types"
   ]
  },
  {
   "cell_type": "code",
   "execution_count": 66,
   "id": "d58687f5",
   "metadata": {
    "cell_style": "split",
    "vscode": {
     "languageId": "rust"
    }
   },
   "outputs": [],
   "source": [
    "impl Point<i32> {\n",
    "    fn do_you_use_f64(&self) -> bool {\n",
    "        false\n",
    "    }\n",
    "}"
   ]
  },
  {
   "cell_type": "code",
   "execution_count": 67,
   "id": "70c89cde",
   "metadata": {
    "cell_style": "split",
    "vscode": {
     "languageId": "rust"
    }
   },
   "outputs": [],
   "source": [
    "impl Point<f64> {\n",
    "    fn do_you_use_f64(&self) -> bool {\n",
    "        true\n",
    "    }\n",
    "}\n"
   ]
  },
  {
   "cell_type": "code",
   "execution_count": 68,
   "id": "6325d672",
   "metadata": {
    "cell_style": "split",
    "slideshow": {
     "slide_type": "fragment"
    },
    "vscode": {
     "languageId": "rust"
    }
   },
   "outputs": [
    {
     "data": {
      "text/plain": [
       "false"
      ]
     },
     "execution_count": 68,
     "metadata": {},
     "output_type": "execute_result"
    }
   ],
   "source": [
    "let p_i32 = Point::create(2,3);\n",
    "p_i32.do_you_use_f64()"
   ]
  },
  {
   "cell_type": "code",
   "execution_count": 69,
   "id": "1e28c7c3",
   "metadata": {
    "cell_style": "split",
    "slideshow": {
     "slide_type": "fragment"
    },
    "vscode": {
     "languageId": "rust"
    }
   },
   "outputs": [
    {
     "data": {
      "text/plain": [
       "true"
      ]
     },
     "execution_count": 69,
     "metadata": {},
     "output_type": "execute_result"
    }
   ],
   "source": [
    "let p_f64 = Point::create(2.1,3.1);\n",
    "p_f64.do_you_use_f64()"
   ]
  },
  {
   "cell_type": "markdown",
   "id": "03b3dc47",
   "metadata": {
    "slideshow": {
     "slide_type": "slide"
    }
   },
   "source": [
    "# <font color=\"red\">Useful predefined generic data types</font>\n"
   ]
  },
  {
   "cell_type": "markdown",
   "id": "347aa5f9",
   "metadata": {
    "cell_style": "split",
    "slideshow": {
     "slide_type": "-"
    }
   },
   "source": [
    "* Generic code\n",
    "* Method for avoiding copying code\n",
    "* No runtime penalty: different versions created during compilation"
   ]
  },
  {
   "cell_type": "markdown",
   "id": "40ccc8b9",
   "metadata": {
    "cell_style": "split",
    "slideshow": {
     "slide_type": "fragment"
    }
   },
   "source": [
    "Generic data types:\n",
    "* Data types (struct/enum) parameterized by types\n",
    "\n",
    "Two useful predifined types: `Option<T>` and `Result<T, E>`"
   ]
  },
  {
   "cell_type": "markdown",
   "id": "dfef6adf",
   "metadata": {
    "cell_style": "split",
    "slideshow": {
     "slide_type": "slide"
    }
   },
   "source": [
    "## Enum `Option<T>`\n",
    "\n",
    "There is a built-in enum \n",
    "[`Option<T>`](https://doc.rust-lang.org/book/ch06-01-defining-an-enum.html?highlight=Option%3CT%3E#the-option-enum-and-its-advantages-over-null-values)\n",
    "in the standard library with two variants:\n",
    "\n",
    "* `Some(T)`\n",
    "* `None`\n",
    "\n",
    "* Useful for when there may be no output\n",
    "* Compared to `None` or `null` in other programming languages:\n",
    "  * Rust forces handling of this case\n",
    "  \n",
    "<div align=\"center\">\n",
    "<img src=\"null.png\" alt=\"[abc]\" >\n",
    "</div>"
   ]
  },
  {
   "cell_type": "markdown",
   "id": "df5913d2",
   "metadata": {},
   "source": [
    "Here's example prime number finding code that returns `Option<u32>`:"
   ]
  },
  {
   "cell_type": "code",
   "execution_count": 70,
   "id": "6646be78",
   "metadata": {
    "cell_style": "split",
    "slideshow": {
     "slide_type": "fragment"
    },
    "vscode": {
     "languageId": "rust"
    }
   },
   "outputs": [],
   "source": [
    "fn prime(x:u32) -> bool {\n",
    "    if x <= 1 { return false;}\n",
    "    for i in 2..=((x as f64).sqrt() as u32) {\n",
    "        if x % i == 0 {\n",
    "            return false;\n",
    "        }\n",
    "    } \n",
    "    true\n",
    "}\n",
    "\n",
    "fn prime_in_range(a:u32,b:u32) -> Option<u32> {  // returns an Option<u32>\n",
    "    for i in a..=b {\n",
    "        if prime(i) {return Some(i);}\n",
    "    }\n",
    "    None\n",
    "}"
   ]
  },
  {
   "cell_type": "markdown",
   "id": "62e66505",
   "metadata": {},
   "source": [
    "If a prime number is found, it returns `Some(u32)` variant with the prime number."
   ]
  },
  {
   "cell_type": "code",
   "execution_count": 71,
   "id": "17c00ce0",
   "metadata": {
    "cell_style": "split",
    "slideshow": {
     "slide_type": "fragment"
    },
    "vscode": {
     "languageId": "rust"
    }
   },
   "outputs": [
    {
     "data": {
      "text/plain": [
       "Some(97)"
      ]
     },
     "execution_count": 71,
     "metadata": {},
     "output_type": "execute_result"
    }
   ],
   "source": [
    "prime_in_range(90,906)"
   ]
  },
  {
   "cell_type": "markdown",
   "id": "70e28efe",
   "metadata": {},
   "source": [
    "If the prime number is not found, it returns `None`."
   ]
  },
  {
   "cell_type": "code",
   "execution_count": 72,
   "id": "430dcd96",
   "metadata": {
    "vscode": {
     "languageId": "rust"
    }
   },
   "outputs": [
    {
     "data": {
      "text/plain": [
       "None"
      ]
     },
     "execution_count": 72,
     "metadata": {},
     "output_type": "execute_result"
    }
   ],
   "source": [
    "prime_in_range(90,92)"
   ]
  },
  {
   "cell_type": "code",
   "execution_count": 73,
   "id": "8bc18ac1",
   "metadata": {
    "cell_style": "split",
    "slideshow": {
     "slide_type": "fragment"
    },
    "vscode": {
     "languageId": "rust"
    }
   },
   "outputs": [
    {
     "data": {
      "text/plain": [
       "Some(839)"
      ]
     },
     "execution_count": 73,
     "metadata": {},
     "output_type": "execute_result"
    }
   ],
   "source": [
    "let tmp : Option<u32> = prime_in_range(830,856);\n",
    "tmp"
   ]
  },
  {
   "cell_type": "markdown",
   "id": "2aca80bf",
   "metadata": {},
   "source": [
    "There are various ways to extract the content of `Some(...)`\n",
    "* `if let`\n",
    "* `match`\n",
    "* `unwrap()`"
   ]
  },
  {
   "cell_type": "code",
   "execution_count": 74,
   "id": "a43b21bb",
   "metadata": {
    "cell_style": "split",
    "slideshow": {
     "slide_type": "fragment"
    },
    "vscode": {
     "languageId": "rust"
    }
   },
   "outputs": [
    {
     "name": "stdout",
     "output_type": "stream",
     "text": [
      "839\n",
      "839\n",
      "Another way 839\n"
     ]
    },
    {
     "data": {
      "text/plain": [
       "()"
      ]
     },
     "execution_count": 74,
     "metadata": {},
     "output_type": "execute_result"
    }
   ],
   "source": [
    "// extracting the content of Some(...)\n",
    "if let Some(x) = tmp {\n",
    "    println!(\"{}\",x);\n",
    "}\n",
    "match tmp {\n",
    "    Some(x) => println!(\"{}\",x),\n",
    "    None => println!(\"None\"),\n",
    "};\n",
    "println!(\"Another way {}\", tmp.unwrap())"
   ]
  },
  {
   "cell_type": "markdown",
   "id": "9d7a5398",
   "metadata": {},
   "source": [
    "Be careful with `unwrap()`, it will crash the program if the value is `None`."
   ]
  },
  {
   "cell_type": "code",
   "execution_count": 75,
   "id": "3c2f8b16",
   "metadata": {
    "vscode": {
     "languageId": "rust"
    }
   },
   "outputs": [
    {
     "name": "stdout",
     "output_type": "stream",
     "text": [
      "None\n"
     ]
    }
   ],
   "source": [
    "// extracting the content of Some(...)\n",
    "let tmp: Option<u32> = None;\n",
    "if let Some(x) = tmp {\n",
    "    println!(\"{}\",x);\n",
    "}\n",
    "match tmp {\n",
    "    Some(x) => println!(\"{}\",x),\n",
    "    None => println!(\"{:?}\", tmp),\n",
    "};\n",
    "// Boom!!!!!\n",
    "//println!(\"Another way {}\", tmp.unwrap())"
   ]
  },
  {
   "cell_type": "markdown",
   "id": "5f7c02b4",
   "metadata": {
    "slideshow": {
     "slide_type": "subslide"
    }
   },
   "source": [
    "## Interesting related fact: Bertrand's postulate\n",
    "\n",
    "There is always a prime number in $[k,2k]$. \n",
    "See [Prime Number Theorem](https://en.wikipedia.org/wiki/Prime_number_theorem)\n"
   ]
  },
  {
   "cell_type": "markdown",
   "id": "23e3cfc7",
   "metadata": {
    "slideshow": {
     "slide_type": "subslide"
    }
   },
   "source": [
    "# Enum `Option<T>`: useful methods"
   ]
  },
  {
   "cell_type": "markdown",
   "id": "8b2410b7",
   "metadata": {
    "cell_style": "split"
   },
   "source": [
    "Check the variant\n",
    "* `.is_some() -> bool`\n",
    "* `.is_none() -> bool`\n",
    "\n",
    "Get the value in `Some` or terminate with an error\n",
    "* `.unwrap() -> T`\n",
    "* `.expect(message) -> T`\n",
    "\n",
    "Get the value in `Some` or a default value\n",
    "* `.unwrap_or(default_value:T) -> T`"
   ]
  },
  {
   "cell_type": "code",
   "execution_count": 76,
   "id": "edf18651",
   "metadata": {
    "cell_style": "split",
    "slideshow": {
     "slide_type": "fragment"
    },
    "vscode": {
     "languageId": "rust"
    }
   },
   "outputs": [
    {
     "data": {
      "text/plain": [
       "true"
      ]
     },
     "execution_count": 76,
     "metadata": {},
     "output_type": "execute_result"
    }
   ],
   "source": [
    "let x = Some(3);\n",
    "x.is_some()"
   ]
  },
  {
   "cell_type": "markdown",
   "id": "6a8f084f",
   "metadata": {},
   "source": [
    "If exception, print a message."
   ]
  },
  {
   "cell_type": "code",
   "execution_count": 77,
   "id": "af26102a",
   "metadata": {
    "cell_style": "split",
    "slideshow": {
     "slide_type": "fragment"
    },
    "vscode": {
     "languageId": "rust"
    }
   },
   "outputs": [
    {
     "name": "stderr",
     "output_type": "stream",
     "text": [
      "thread '<unnamed>' panicked at src/lib.rs:341:15:\n",
      "This should have been an integer!!!\n",
      "stack backtrace:\n",
      "   0: _rust_begin_unwind\n",
      "   1: core::panicking::panic_fmt\n",
      "   2: core::option::expect_failed\n",
      "   3: _run_user_code_61\n",
      "   4: evcxr::runtime::Runtime::run_loop\n",
      "   5: evcxr::runtime::runtime_hook\n",
      "   6: evcxr_jupyter::main\n",
      "note: Some details are omitted, run with `RUST_BACKTRACE=full` for a verbose backtrace.\n"
     ]
    }
   ],
   "source": [
    "// Try uncommenting line 3 or 4\n",
    "\n",
    "//let x:Option<u32> = Some(3);\n",
    "let x = None;\n",
    "let y:u32 = x.expect(\"This should have been an integer!!!\");\n",
    "y"
   ]
  },
  {
   "cell_type": "markdown",
   "id": "f281d9e0",
   "metadata": {},
   "source": [
    "A better way to handle this is to use `unwrap_or()`."
   ]
  },
  {
   "cell_type": "code",
   "execution_count": 78,
   "id": "466908ef",
   "metadata": {
    "cell_style": "split",
    "slideshow": {
     "slide_type": "fragment"
    },
    "vscode": {
     "languageId": "rust"
    }
   },
   "outputs": [
    {
     "data": {
      "text/plain": [
       "0"
      ]
     },
     "execution_count": 78,
     "metadata": {},
     "output_type": "execute_result"
    }
   ],
   "source": [
    "// Try uncommenting line 3 or 4\n",
    "\n",
    "//let x = Some(3);\n",
    "let x = None;\n",
    "x.unwrap_or(0)"
   ]
  },
  {
   "cell_type": "markdown",
   "id": "d7ea1eb8",
   "metadata": {
    "cell_style": "split",
    "slideshow": {
     "slide_type": "fragment"
    }
   },
   "source": [
    "More details:\n",
    "* https://doc.rust-lang.org/std/option/\n",
    "* https://doc.rust-lang.org/std/option/enum.Option.html"
   ]
  },
  {
   "cell_type": "markdown",
   "id": "be2ee6a7",
   "metadata": {
    "cell_style": "split",
    "slideshow": {
     "slide_type": "slide"
    }
   },
   "source": [
    "## Enum `Result<T, E>`\n",
    "\n",
    "Another built-in enum \n",
    "[`Result<T, E>`](https://doc.rust-lang.org/book/ch09-02-recoverable-errors-with-result.html?highlight=Result%3C#recoverable-errors-with-result)\n",
    "in the standard library with two variants:\n",
    "\n",
    "* `Ok(T)`\n",
    "* `Err(E)`\n",
    "\n",
    "Useful when you want to pass a solution or information about an error\n"
   ]
  },
  {
   "cell_type": "code",
   "execution_count": 79,
   "id": "4c107b96",
   "metadata": {
    "cell_style": "split",
    "slideshow": {
     "slide_type": "fragment"
    },
    "vscode": {
     "languageId": "rust"
    }
   },
   "outputs": [],
   "source": [
    "fn divide(a:u32,b:u32) -> Result<u32,String> {\n",
    "    match b {\n",
    "        0 => Err(String::from(\"Division by zero\")),\n",
    "        _ => Ok(a / b)\n",
    "    }\n",
    "}"
   ]
  },
  {
   "cell_type": "code",
   "execution_count": 80,
   "id": "d1b2d7be",
   "metadata": {
    "cell_style": "split",
    "slideshow": {
     "slide_type": "fragment"
    },
    "vscode": {
     "languageId": "rust"
    }
   },
   "outputs": [
    {
     "data": {
      "text/plain": [
       "Err(\"Division by zero\")"
      ]
     },
     "execution_count": 80,
     "metadata": {},
     "output_type": "execute_result"
    }
   ],
   "source": [
    "divide(3,0)"
   ]
  },
  {
   "cell_type": "code",
   "execution_count": 81,
   "id": "2e3a71a0",
   "metadata": {
    "cell_style": "split",
    "slideshow": {
     "slide_type": "fragment"
    },
    "vscode": {
     "languageId": "rust"
    }
   },
   "outputs": [
    {
     "data": {
      "text/plain": [
       "Ok(674)"
      ]
     },
     "execution_count": 81,
     "metadata": {},
     "output_type": "execute_result"
    }
   ],
   "source": [
    "divide(2022,3)"
   ]
  },
  {
   "cell_type": "markdown",
   "id": "de6ade43",
   "metadata": {
    "slideshow": {
     "slide_type": "subslide"
    }
   },
   "source": [
    "# Enum `Result<T, E>`: useful methods"
   ]
  },
  {
   "cell_type": "markdown",
   "id": "6a6a2ba6",
   "metadata": {
    "cell_style": "split"
   },
   "source": [
    "Check the variant\n",
    "* `.is_ok() -> bool`\n",
    "* `.is_err() -> bool`\n",
    "\n",
    "Get the value in `Ok` or terminate with an error\n",
    "* `.unwrap() -> T`\n",
    "* `.expect(message) -> T`\n",
    "\n",
    "Get the value in `Ok` or a default value\n",
    "* `.unwrap_or(default_value:T) -> T`"
   ]
  },
  {
   "cell_type": "code",
   "execution_count": 82,
   "id": "7049cd41",
   "metadata": {
    "cell_style": "split",
    "vscode": {
     "languageId": "rust"
    }
   },
   "outputs": [
    {
     "data": {
      "text/plain": [
       "true"
      ]
     },
     "execution_count": 82,
     "metadata": {},
     "output_type": "execute_result"
    }
   ],
   "source": [
    "let r1 : Result<i32,()> = Ok(3);\n",
    "// r1.is_err()\n",
    "r1.is_ok()"
   ]
  },
  {
   "cell_type": "code",
   "execution_count": 83,
   "id": "cbe7f737",
   "metadata": {
    "cell_style": "split",
    "slideshow": {
     "slide_type": "fragment"
    },
    "vscode": {
     "languageId": "rust"
    }
   },
   "outputs": [
    {
     "data": {
      "text/plain": [
       "3"
      ]
     },
     "execution_count": 83,
     "metadata": {},
     "output_type": "execute_result"
    }
   ],
   "source": [
    "r1.unwrap()"
   ]
  },
  {
   "cell_type": "code",
   "execution_count": 84,
   "id": "91e34e02",
   "metadata": {
    "cell_style": "split",
    "slideshow": {
     "slide_type": "fragment"
    },
    "vscode": {
     "languageId": "rust"
    }
   },
   "outputs": [
    {
     "name": "stdout",
     "output_type": "stream",
     "text": [
      "r2: 0\n",
      "r3: 123\n"
     ]
    }
   ],
   "source": [
    "let r2 : Result<u32,()> = Err(());\n",
    "let r3 : Result<u32,()> = Ok(123);\n",
    "println!(\"r2: {}\\nr3: {}\",\n",
    "    r2.unwrap_or(0),\n",
    "    r3.unwrap_or(0));\n"
   ]
  },
  {
   "cell_type": "markdown",
   "id": "528f9e44",
   "metadata": {
    "cell_style": "split",
    "slideshow": {
     "slide_type": "fragment"
    }
   },
   "source": [
    "More details:\n",
    "* https://doc.rust-lang.org/std/result/\n",
    "* https://doc.rust-lang.org/std/result/enum.Result.html"
   ]
  },
  {
   "cell_type": "markdown",
   "id": "ac982b34",
   "metadata": {},
   "source": [
    "## Next Lecture (Thursday)\n",
    "\n",
    "1. Traits (§10.2)\n",
    "2. Collections (§8)\n",
    "3. Vectors (§8.1)\n",
    "4. Tests (§11)\n"
   ]
  },
  {
   "cell_type": "markdown",
   "id": "89800338",
   "metadata": {},
   "source": [
    "## In-class poll\n",
    "\n",
    "https://piazza.com/class/m5qyw6267j12cj/post/148\n"
   ]
  }
 ],
 "metadata": {
  "celltoolbar": "Slideshow",
  "kernelspec": {
   "display_name": "Rust",
   "language": "rust",
   "name": "rust"
  },
  "language_info": {
   "codemirror_mode": "rust",
   "file_extension": ".rs",
   "mimetype": "text/rust",
   "name": "Rust",
   "pygment_lexer": "rust",
   "version": ""
  },
  "rise": {
   "theme": "beige",
   "transition": "fade"
  }
 },
 "nbformat": 4,
 "nbformat_minor": 5
}
