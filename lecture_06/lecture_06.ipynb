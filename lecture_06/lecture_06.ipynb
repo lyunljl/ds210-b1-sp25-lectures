{
 "cells": [
  {
   "cell_type": "markdown",
   "id": "adfbd02f",
   "metadata": {
    "slideshow": {
     "slide_type": "slide"
    }
   },
   "source": [
    "<div align=\"center\">\n",
    "    <h1>DS-210: Programming for Data Science</h1>\n",
    "    <h1>Lecture 6</h1>\n",
    "</div>\n",
    "\n",
    "\n",
    "# Rust: Project manager (`cargo`). Flow control (continued).  Tuples.\n"
   ]
  },
  {
   "cell_type": "markdown",
   "id": "90524971",
   "metadata": {},
   "source": [
    "## Source of Truth\n",
    "* https://doc.rust-lang.org/stable/book/, section 3.2 subsection on Tuples"
   ]
  },
  {
   "cell_type": "markdown",
   "id": "423ec453",
   "metadata": {
    "slideshow": {
     "slide_type": "slide"
    }
   },
   "source": [
    "## Tuples\n",
    "\n",
    "A general-purpose data structure that can hold multiple values of different types.\n"
   ]
  },
  {
   "cell_type": "markdown",
   "id": "72dee14d",
   "metadata": {
    "cell_style": "split"
   },
   "source": [
    "* Syntax: `(value_1,value_2,value_3)`\n",
    "* Type: `(type_1,type_2,type_3)`"
   ]
  },
  {
   "cell_type": "code",
   "execution_count": 2,
   "id": "5247e615",
   "metadata": {
    "cell_style": "split",
    "vscode": {
     "languageId": "rust"
    }
   },
   "outputs": [],
   "source": [
    "let mut tuple = (1,1.1);\n",
    "let mut tuple2: (i32,f64) = (1,1.1);  // type annotation is optional in this case\n",
    "\n",
    "let another = (\"abc\",\"def\",\"ghi\");\n",
    "\n",
    "let yet_another: (u8,u32) = (255,4_000_000_000);"
   ]
  },
  {
   "cell_type": "markdown",
   "id": "2695109c",
   "metadata": {
    "cell_style": "split",
    "slideshow": {
     "slide_type": "-"
    }
   },
   "source": [
    "Accessing elements via index (0 based):\n"
   ]
  },
  {
   "cell_type": "code",
   "execution_count": 45,
   "id": "ee64c4e5",
   "metadata": {
    "cell_style": "split",
    "vscode": {
     "languageId": "rust"
    }
   },
   "outputs": [
    {
     "name": "stdout",
     "output_type": "stream",
     "text": [
      "(2, 1.1)\n",
      "(2, 1.1)\n",
      "Tuple is (2, 1.1)\n"
     ]
    }
   ],
   "source": [
    "println!(\"({}, {})\", tuple.0, tuple.1);\n",
    "\n",
    "tuple.0 = 2;\n",
    "\n",
    "println!(\"({}, {})\",tuple.0,tuple.1);\n",
    "\n",
    "println!(\"Tuple is {:?}\", tuple);"
   ]
  },
  {
   "cell_type": "code",
   "execution_count": 4,
   "id": "70d95f6e",
   "metadata": {
    "vscode": {
     "languageId": "rust"
    }
   },
   "outputs": [
    {
     "name": "stdout",
     "output_type": "stream",
     "text": [
      "a = 1, b = 1.1\n"
     ]
    }
   ],
   "source": [
    "// or pattern match and desconstruct\n",
    "\n",
    "let (a, b) = tuple;\n",
    "println!(\"a = {}, b = {}\",a,b);\n"
   ]
  },
  {
   "cell_type": "markdown",
   "id": "01c1816f",
   "metadata": {
    "cell_style": "split",
    "slideshow": {
     "slide_type": "-"
    }
   },
   "source": [
    "<div align=\"right\">\n",
    "Accessing via matching:\n",
    "</div>"
   ]
  },
  {
   "cell_type": "code",
   "execution_count": 46,
   "id": "27364ef6",
   "metadata": {
    "cell_style": "split",
    "vscode": {
     "languageId": "rust"
    }
   },
   "outputs": [
    {
     "name": "stdout",
     "output_type": "stream",
     "text": [
      "2,1.1\n"
     ]
    }
   ],
   "source": [
    "let (integer,float) = tuple;\n",
    "println!(\"{},{}\",integer,float);"
   ]
  },
  {
   "cell_type": "markdown",
   "id": "fcf10730",
   "metadata": {},
   "source": [
    "### Read chapter 6 from the book!"
   ]
  },
  {
   "cell_type": "markdown",
   "id": "d206b17e",
   "metadata": {
    "slideshow": {
     "slide_type": "slide"
    }
   },
   "source": [
    "<br><br>\n",
    "\n",
    "<div align=\"center\">\n",
    "    <h1>Next 2 lectures: things will get interesting </h1>\n",
    "</div>\n",
    "\n",
    "<br><br>\n",
    "\n",
    "<div align=\"center\">\n",
    "    <h1>Enums, structs, memory management in general and in Rust and Rust semantics about memory ownership and borrowing </h1>\n",
    "</div>"
   ]
  },
  {
   "cell_type": "code",
   "execution_count": null,
   "id": "13d2f612",
   "metadata": {
    "vscode": {
     "languageId": "rust"
    }
   },
   "outputs": [],
   "source": []
  }
 ],
 "metadata": {
  "celltoolbar": "Slideshow",
  "kernelspec": {
   "display_name": "Rust",
   "language": "rust",
   "name": "rust"
  },
  "language_info": {
   "codemirror_mode": "rust",
   "file_extension": ".rs",
   "mimetype": "text/rust",
   "name": "Rust",
   "pygment_lexer": "rust",
   "version": ""
  },
  "rise": {
   "theme": "beige",
   "transition": "fade"
  }
 },
 "nbformat": 4,
 "nbformat_minor": 5
}
