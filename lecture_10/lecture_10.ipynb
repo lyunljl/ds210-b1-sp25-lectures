{
 "cells": [
  {
   "cell_type": "markdown",
   "id": "927e4517",
   "metadata": {
    "slideshow": {
     "slide_type": "slide"
    }
   },
   "source": [
    "<div align=\"center\">\n",
    "    <h1>DS-210: Programming for Data Science</h1>\n",
    "    <h1>Lecture 10</h1>\n",
    "</div>\n",
    "\n",
    "1. Complexity Analysis (e.g. memory management in vectors)\n",
    "2. Hash maps [(§8.3)](https://doc.rust-lang.org/book/ch08-03-hash-maps.html)\n",
    "3. Hash maps with custom types"
   ]
  },
  {
   "cell_type": "markdown",
   "id": "3c1b1866",
   "metadata": {
    "slideshow": {
     "slide_type": "slide"
    }
   },
   "source": [
    "# 1. Complexity Analysis (e.g. memory management in vectors)\n",
    "\n",
    "Let's dive deeper into algorithmic complexity analysis by considering how memory is manged in Rust Vecs.\n"
   ]
  },
  {
   "cell_type": "markdown",
   "id": "679b90f2",
   "metadata": {
    "slideshow": {
     "slide_type": "slide"
    }
   },
   "source": [
    "## Last time: vectors `Vec<T>`"
   ]
  },
  {
   "cell_type": "markdown",
   "id": "34a1e52c",
   "metadata": {
    "cell_style": "split",
    "slideshow": {
     "slide_type": "fragment"
    },
    "tags": [
     "gridwidth-1-2"
    ]
   },
   "source": [
    "* Dynamic-length array/list \n",
    "* Allowed operations:\n",
    "  * access item at specific location\n",
    "  * `push`: add something to the end\n",
    "  * `pop`: remove an element from the end\n",
    "\n"
   ]
  },
  {
   "cell_type": "markdown",
   "id": "75dd58c2",
   "metadata": {
    "cell_style": "split",
    "tags": [
     "gridwidth-1-2"
    ]
   },
   "source": [
    "* Python: list\n",
    "* C++: `vector<T>`\n",
    "* Java: `ArrayList<T>` / `Vector<T>`\n"
   ]
  },
  {
   "cell_type": "markdown",
   "id": "d77e119f",
   "metadata": {
    "slideshow": {
     "slide_type": "fragment"
    }
   },
   "source": [
    "<div align=\"center\">\n",
    "    <h3>How to implement this efficiently?</h3>\n",
    "</div>"
   ]
  },
  {
   "cell_type": "markdown",
   "id": "29210838",
   "metadata": {
    "slideshow": {
     "slide_type": "subslide"
    }
   },
   "source": [
    "## Select implementation details"
   ]
  },
  {
   "cell_type": "markdown",
   "id": "3012e971",
   "metadata": {
    "cell_style": "split",
    "slideshow": {
     "slide_type": "-"
    },
    "tags": [
     "gridwidth-1-2"
    ]
   },
   "source": [
    "### Challenges\n",
    "\n",
    "* Size changes: allocate on the heap?\n",
    "* What to do if a new element added?\n",
    "  * Allocate a larger array and copy everything? \n",
    "  * Linked list?"
   ]
  },
  {
   "cell_type": "markdown",
   "id": "ed83d54c",
   "metadata": {
    "cell_style": "split",
    "slideshow": {
     "slide_type": "fragment"
    },
    "tags": [
     "gridwidth-1-2"
    ]
   },
   "source": [
    "### Solution\n",
    "\n",
    "* Allocate more space than needed!\n",
    "* When out of space:\n",
    "  * Increase storage size by, say, 100%\n",
    "  * Copy everything"
   ]
  },
  {
   "cell_type": "markdown",
   "id": "1555ac08",
   "metadata": {
    "cell_style": "split",
    "slideshow": {
     "slide_type": "fragment"
    }
   },
   "source": [
    "### Under the hood\n",
    "Variable of type `Vec<T>` contains:\n",
    "* pointer to allocated memory\n",
    "* size: the current number of items\n",
    "* capacity: how many items could currently fit\n",
    "\n",
    "**Important:** size $\\le$ capacity"
   ]
  },
  {
   "cell_type": "markdown",
   "id": "1c940784",
   "metadata": {
    "slideshow": {
     "slide_type": "subslide"
    }
   },
   "source": [
    "## Example\n",
    "\n",
    "Method `capacity()` reports the current storage size"
   ]
  },
  {
   "cell_type": "code",
   "execution_count": 2,
   "id": "2c8563e8",
   "metadata": {
    "vscode": {
     "languageId": "rust"
    }
   },
   "outputs": [],
   "source": [
    "// print out the current size and capacity\n",
    "\n",
    "// define a generic function `info` that takes one argument, `vector`,\n",
    "// of generic `Vec` type and prints it's length and capacity\n",
    "fn info<T>(vector:&Vec<T>) {  \n",
    "    println!(\"length = {}, capacity = {}\",vector.len(),vector.capacity());\n",
    "}"
   ]
  },
  {
   "cell_type": "code",
   "execution_count": 3,
   "id": "aef31f0b",
   "metadata": {
    "vscode": {
     "languageId": "rust"
    }
   },
   "outputs": [
    {
     "name": "stdout",
     "output_type": "stream",
     "text": [
      "oops\n"
     ]
    },
    {
     "data": {
      "text/plain": [
       "()"
      ]
     },
     "execution_count": 3,
     "metadata": {},
     "output_type": "execute_result"
    }
   ],
   "source": [
    "fn test () {\n",
    "    let boop = \"helo\";\n",
    "    match boop {\n",
    "        \"heelo\" => {println!(\"whee\")},\n",
    "        _ => {println!(\"oops\")},\n",
    "    }\n",
    "}\n",
    "test()"
   ]
  },
  {
   "cell_type": "code",
   "execution_count": 4,
   "id": "67e97d0c",
   "metadata": {
    "cell_style": "split",
    "slideshow": {
     "slide_type": "fragment"
    },
    "tags": [
     "gridwidth-1-2"
    ],
    "vscode": {
     "languageId": "rust"
    }
   },
   "outputs": [
    {
     "name": "stdout",
     "output_type": "stream",
     "text": [
      "length = 0, capacity = 7\n",
      "length = 8, capacity = 14\n",
      "length = 15, capacity = 28\n",
      "length = 29, capacity = 56\n",
      "length = 57, capacity = 112\n",
      "length = 113, capacity = 224\n",
      "length = 225, capacity = 448\n",
      "length = 449, capacity = 896\n",
      "length = 897, capacity = 1792\n",
      "length = 1000, capacity = 1792\n"
     ]
    }
   ],
   "source": [
    "// Let's keep adding elements to Vec and see what happens to capacity\n",
    "\n",
    "let mut v = Vec::with_capacity(7); // instantiate empty Vec with capacity 7\n",
    "let mut capacity = v.capacity();\n",
    "info(&v);\n",
    "\n",
    "for i in 1..=1000 {\n",
    "    v.push(i);  // push the index onto the Vec\n",
    "\n",
    "    // if capacity changed, print the length and new capacity\n",
    "    if v.capacity() != capacity {\n",
    "        capacity = v.capacity();\n",
    "        info(&v);\n",
    "    }\n",
    "};\n",
    "info(&v);"
   ]
  },
  {
   "cell_type": "code",
   "execution_count": 5,
   "id": "3478b3b6",
   "metadata": {
    "cell_style": "split",
    "slideshow": {
     "slide_type": "fragment"
    },
    "tags": [
     "gridwidth-1-2"
    ],
    "vscode": {
     "languageId": "rust"
    }
   },
   "outputs": [
    {
     "name": "stdout",
     "output_type": "stream",
     "text": [
      "length = 1000, capacity = 1792\n",
      "length = 0, capacity = 1792\n"
     ]
    }
   ],
   "source": [
    "// what happens when we decrease the Vec by popping off values?\n",
    "\n",
    "info(&v);\n",
    "\n",
    "// `while let` is a control flow construct that will continue\n",
    "// as long as pattern `Some(_) = v.pop()` matches.\n",
    "// If there is a value to pop, v.pop() returns Option enum, which\n",
    "//    is either Some(Vec<T>)\n",
    "//    otherwise it will return None and the loop will end.\n",
    "while let Some(_) = v.pop() {}\n",
    "\n",
    "info(&v);"
   ]
  },
  {
   "cell_type": "markdown",
   "id": "db2f37da-4277-45c7-aae3-a8676304d28b",
   "metadata": {},
   "source": [
    "<br>\n",
    "\n",
    "**Questions:** \n",
    "\n",
    "- What is happening as we push elements?\n",
    "- When does it happen?\n",
    "- How much is it changing by?\n",
    "- What happens when we pop? Is capacity changing?\n",
    "\n",
    "<br>\n"
   ]
  },
  {
   "cell_type": "markdown",
   "id": "e5287f40",
   "metadata": {
    "slideshow": {
     "slide_type": "subslide"
    }
   },
   "source": [
    "## Example (continued)"
   ]
  },
  {
   "cell_type": "code",
   "execution_count": 6,
   "id": "36176a96",
   "metadata": {
    "cell_style": "split",
    "tags": [
     "gridwidth-1-2"
    ],
    "vscode": {
     "languageId": "rust"
    }
   },
   "outputs": [
    {
     "name": "stdout",
     "output_type": "stream",
     "text": [
      "length = 0, capacity = 1792\n",
      "length = 13, capacity = 1792\n",
      "length = 13, capacity = 13\n"
     ]
    }
   ],
   "source": [
    "// shrinking the size manually\n",
    "info(&v);\n",
    "\n",
    "for i in 1..=13 {\n",
    "    v.push(i);\n",
    "}\n",
    "\n",
    "info(&v);\n",
    "\n",
    "v.shrink_to_fit();\n",
    "\n",
    "info(&v);\n",
    "// note: size and capacity not guaranteed\n",
    "//       to be the same"
   ]
  },
  {
   "cell_type": "code",
   "execution_count": 7,
   "id": "b6c53075",
   "metadata": {
    "cell_style": "split",
    "slideshow": {
     "slide_type": "fragment"
    },
    "tags": [
     "gridwidth-1-2"
    ],
    "vscode": {
     "languageId": "rust"
    }
   },
   "outputs": [
    {
     "name": "stdout",
     "output_type": "stream",
     "text": [
      "length = 0, capacity = 1234\n"
     ]
    }
   ],
   "source": [
    "// creating vector with specific capacity\n",
    "let mut v2 : Vec<i32> = Vec::with_capacity(1234);\n",
    "info(&v2);\n",
    "\n",
    "// avoids reallocation if you know how many items\n",
    "// to expect"
   ]
  },
  {
   "cell_type": "markdown",
   "id": "fbbcf6ae-abf2-4520-8ec1-9ed8e93f7361",
   "metadata": {},
   "source": [
    "<br>\n",
    "\n",
    "`.get()` versus `.pop()`\n",
    "\n",
    "<br>"
   ]
  },
  {
   "cell_type": "code",
   "execution_count": 8,
   "id": "01de8cbc",
   "metadata": {
    "vscode": {
     "languageId": "rust"
    }
   },
   "outputs": [
    {
     "name": "stdout",
     "output_type": "stream",
     "text": [
      "Some(2) [1, 2, 3, 4, 5, 6, 7, 8, 9, 10, 11, 12, 13]\n",
      "Some(13) [1, 2, 3, 4, 5, 6, 7, 8, 9, 10, 11, 12]\n"
     ]
    }
   ],
   "source": [
    "// Does not remove from the vector\n",
    "println!(\"{:?} {:?}\", v.get(1), v);\n",
    "// But this one does\n",
    "println!(\"{:?} {:?}\", v.pop(), v);"
   ]
  },
  {
   "cell_type": "markdown",
   "id": "0958ca94",
   "metadata": {},
   "source": [
    "### Some other useful functions\n",
    "* `append` Add vector at the end of another `vec.append(&mut vec2)\n",
    "* `clear` Remove all elements from the vector `vec.clear()`\n",
    "* `dedup` Remove consecutive identical elements `vec.dedup()`, most useful when combined with `sort`\n",
    "* `drain` Remove a slice from the vector `vec.drain(2..4)`  -- removes and shifts -- **expensive**\n",
    "* `remove` Remove an element from the vector `vec.remove(2)` -- removes and shifts -- **expensive**\n",
    "* `sort` Sort the elements of a mutable vector `vec.sort()`\n",
    "* Complete list at https://doc.rust-lang.org/std/vec/struct.Vec.html"
   ]
  },
  {
   "cell_type": "markdown",
   "id": "c3cff51f",
   "metadata": {
    "slideshow": {
     "slide_type": "slide"
    }
   },
   "source": [
    "## Sketch of analysis: Amortization"
   ]
  },
  {
   "cell_type": "markdown",
   "id": "e4d5ad1a",
   "metadata": {
    "cell_style": "center"
   },
   "source": [
    "* Inserting an element not constant time (i.e. $O(1)$) under all conditions"
   ]
  },
  {
   "cell_type": "markdown",
   "id": "b4287cc0",
   "metadata": {
    "cell_style": "split",
    "slideshow": {
     "slide_type": "fragment"
    },
    "tags": []
   },
   "source": [
    "### However\n",
    "\n",
    "* **Assumption:** allocating memory size $t$ takes either $O(t)$ or $O(1)$ time\n",
    "\n",
    "\n",
    "* **Slow operations:** $O($ current_size $)$ time\n",
    "* **Fast operations:** $O(1)$ time\n"
   ]
  },
  {
   "cell_type": "markdown",
   "id": "4db5a9c4-e27f-4c08-a034-2bc41ac4a22d",
   "metadata": {
    "cell_style": "split",
    "slideshow": {
     "slide_type": "fragment"
    },
    "tags": [
     "gridwidth-1-2"
    ]
   },
   "source": [
    "### What is the _average_ time?\n",
    "\n",
    "- Consider an initial 100-capacity Vec.\n",
    "- Continually add element\n",
    "- First 100 added elements: $O(?)$\n",
    "- For 101st element: $O(?)$\n",
    "\n",
    "So on average for the first 101 elements: $ (??) / 101 \\approx ?? $"
   ]
  },
  {
   "cell_type": "markdown",
   "id": "5b8d973b-f666-474e-9420-0c0f1177d816",
   "metadata": {
    "cell_style": "split",
    "slideshow": {
     "slide_type": "fragment"
    },
    "tags": [
     "gridwidth-1-2"
    ]
   },
   "source": [
    "* **On average:** $O(1)$ time\n",
    "* Fast operations pay for slow operations\n",
    "\n",
    "\n",
    "* **Terminology:** $O(1)$ *amortized* time"
   ]
  },
  {
   "cell_type": "markdown",
   "id": "4dfe1735-d3da-429b-a042-87fb7e5ef3b6",
   "metadata": {
    "tags": [
     "gridwidth-1-2"
    ]
   },
   "source": [
    "### Dominant terms and constants in $O()$ notation\n",
    "\n",
    "We ignore constants and all but dominant terms as $n \\rightarrow \\infty$ :\n",
    "\n",
    "$$ O(n/2) \\rightarrow O(n) $$\n",
    "\n",
    "$$ O(n^2 + 100n + 50) \\rightarrow O(n^2) $$\n",
    "\n",
    "$$ O(2^n + n^{100}) \\rightarrow ?? $$\n"
   ]
  },
  {
   "cell_type": "markdown",
   "id": "2782a04c-1b2c-453e-bf01-b803ac1bca32",
   "metadata": {
    "tags": [
     "gridwidth-1-2"
    ]
   },
   "source": [
    "<div align=\"center\">\n",
    "    <img src=\"order_plot.png\" alt=\"Order of n plots\" style=\"width: 80%; height: auto;\">\n",
    "</div>"
   ]
  },
  {
   "cell_type": "markdown",
   "id": "16764269",
   "metadata": {
    "cell_style": "split",
    "slideshow": {
     "slide_type": "fragment"
    },
    "tags": []
   },
   "source": [
    "### Shrinking?\n",
    "\n",
    "* Can be implemented this way too\n",
    "* Example: shrink by 50% if less than 25% used\n",
    "* Most implementations don't shrink automatically"
   ]
  },
  {
   "cell_type": "markdown",
   "id": "2568031f",
   "metadata": {},
   "source": [
    "### Notations\n",
    "\n",
    "$O(n)$ -> Algorithm takes no more than n time (worst case scenario)\n",
    "\n",
    "$\\Omega(n)$ -> Algorithm takes at least n time (best case scenario)  \n",
    "\n",
    "$\\Theta(n)$ -> Average/Typical running time for the algorithm (average case scenario)  \n"
   ]
  },
  {
   "cell_type": "markdown",
   "id": "224d51f8",
   "metadata": {},
   "source": [
    "## Digression (Sorting Vectors in Rust)"
   ]
  },
  {
   "cell_type": "markdown",
   "id": "00ad2f68-bdf0-45b0-bea0-3a2cfd754620",
   "metadata": {},
   "source": [
    "Sorting on on integer vectors works fine."
   ]
  },
  {
   "cell_type": "code",
   "execution_count": 9,
   "id": "041dd7b4",
   "metadata": {
    "vscode": {
     "languageId": "rust"
    }
   },
   "outputs": [
    {
     "name": "stdout",
     "output_type": "stream",
     "text": [
      "[1, 3, 4, 5, 6, 8, 12]\n"
     ]
    }
   ],
   "source": [
    "// This works great\n",
    "let mut a = vec![1, 4, 3, 6, 8, 12, 5];\n",
    "a.sort();\n",
    "println!(\"{:?}\", a);"
   ]
  },
  {
   "cell_type": "markdown",
   "id": "e85bde46-8d11-4d3a-86b7-7f8ce2a9e90f",
   "metadata": {
    "slideshow": {
     "slide_type": "subslide"
    }
   },
   "source": [
    "But sorting on floating point vectors does not work directly."
   ]
  },
  {
   "cell_type": "code",
   "execution_count": 10,
   "id": "152eba10-c292-41e2-8511-384a38325ff8",
   "metadata": {
    "vscode": {
     "languageId": "rust"
    }
   },
   "outputs": [],
   "source": [
    "// But the compiler does not like this one, since sort depends on total order\n",
    "let mut a = vec![1.0, 4.0, 3.0, 6.0, 8.0, 12.0, 5.0];"
   ]
  },
  {
   "cell_type": "code",
   "execution_count": 11,
   "id": "59aedb4f-e697-43d1-b4db-bfd284c3beaf",
   "metadata": {
    "vscode": {
     "languageId": "rust"
    }
   },
   "outputs": [
    {
     "ename": "Error",
     "evalue": "the trait bound `f64: Ord` is not satisfied",
     "output_type": "error",
     "traceback": [
      "\u001b[31m[E0277] Error:\u001b[0m the trait bound `f64: Ord` is not satisfied",
      "   \u001b[38;5;246m╭\u001b[0m\u001b[38;5;246m─\u001b[0m\u001b[38;5;246m[\u001b[0mcommand_11:1:1\u001b[38;5;246m]\u001b[0m",
      "   \u001b[38;5;246m│\u001b[0m",
      " \u001b[38;5;246m1 │\u001b[0m \u001b[38;5;249ma\u001b[0m\u001b[38;5;249m.\u001b[0m\u001b[38;5;54ms\u001b[0m\u001b[38;5;54mo\u001b[0m\u001b[38;5;54mr\u001b[0m\u001b[38;5;54mt\u001b[0m\u001b[38;5;249m(\u001b[0m\u001b[38;5;249m)\u001b[0m\u001b[38;5;249m;\u001b[0m",
      " \u001b[38;5;240m  │\u001b[0m   \u001b[38;5;54m─\u001b[0m\u001b[38;5;54m─\u001b[0m\u001b[38;5;54m┬\u001b[0m\u001b[38;5;54m─\u001b[0m  ",
      " \u001b[38;5;240m  │\u001b[0m     \u001b[38;5;54m╰\u001b[0m\u001b[38;5;54m─\u001b[0m\u001b[38;5;54m─\u001b[0m\u001b[38;5;54m─\u001b[0m the trait `Ord` is not implemented for `f64`",
      "\u001b[38;5;246m───╯\u001b[0m"
     ]
    }
   ],
   "source": [
    "a.sort();\n",
    "println!(\"{:?}\", a);"
   ]
  },
  {
   "cell_type": "markdown",
   "id": "1862dbd4-8d35-4ef3-88b7-4ba4d5018698",
   "metadata": {},
   "source": [
    "Why?\n",
    "\n",
    "Because floats in Rust support special values like `NaN` and `inf` which don't obey normal sorting rules.\n",
    "\n",
    "More technically, floats in Rust don't implement the [`Ord` trait](https://doc.rust-lang.org/std/cmp/trait.Ord.html)."
   ]
  },
  {
   "cell_type": "code",
   "execution_count": 12,
   "id": "7989a367",
   "metadata": {
    "vscode": {
     "languageId": "rust"
    }
   },
   "outputs": [
    {
     "data": {
      "text/plain": [
       "inf"
      ]
     },
     "execution_count": 12,
     "metadata": {},
     "output_type": "execute_result"
    }
   ],
   "source": [
    "let mut x: f64 = 6.8;\n",
    "x/0.0"
   ]
  },
  {
   "cell_type": "markdown",
   "id": "f549aec2-b8f9-4c34-9dfc-1d70758fbab0",
   "metadata": {},
   "source": [
    "We can push `inf` onto a `Vec`."
   ]
  },
  {
   "cell_type": "code",
   "execution_count": 13,
   "id": "193d6a45-57be-42e7-9c3d-2a36144fdeab",
   "metadata": {
    "vscode": {
     "languageId": "rust"
    }
   },
   "outputs": [
    {
     "name": "stdout",
     "output_type": "stream",
     "text": [
      "[1.0, 4.0, 3.0, 6.0, 8.0, 12.0, 5.0, inf]\n"
     ]
    }
   ],
   "source": [
    "a.push(x/0.0);\n",
    "println!(\"{:?}\", a);"
   ]
  },
  {
   "cell_type": "code",
   "execution_count": 14,
   "id": "5418d8b2-3a36-4c36-af6d-467ae5f3366c",
   "metadata": {
    "vscode": {
     "languageId": "rust"
    }
   },
   "outputs": [
    {
     "data": {
      "text/plain": [
       "NaN"
      ]
     },
     "execution_count": 14,
     "metadata": {},
     "output_type": "execute_result"
    }
   ],
   "source": [
    "let mut x: f64 = -1.0;\n",
    "x.sqrt()"
   ]
  },
  {
   "cell_type": "markdown",
   "id": "6af094c6-c8eb-419a-ade8-cc6a37698b93",
   "metadata": {},
   "source": [
    "<br>\n",
    "\n",
    "Similarly, we can push `NaN` onto a `Vec`.\n",
    "\n",
    "<br>"
   ]
  },
  {
   "cell_type": "code",
   "execution_count": 15,
   "id": "3b58dd7e-6c8c-427a-ba66-9da8b3d4b2ac",
   "metadata": {
    "vscode": {
     "languageId": "rust"
    }
   },
   "outputs": [
    {
     "name": "stdout",
     "output_type": "stream",
     "text": [
      "[1.0, 4.0, 3.0, 6.0, 8.0, 12.0, 5.0, inf, NaN]\n"
     ]
    }
   ],
   "source": [
    "a.push(x.sqrt());\n",
    "println!(\"{:?}\", a);"
   ]
  },
  {
   "cell_type": "markdown",
   "id": "b1304f2f-cba4-4c21-b025-abe2e3c42789",
   "metadata": {},
   "source": [
    "<br>\n",
    "\n",
    "We can work around this by not relying on the Rust implementation of `sort()`, but rather defining our own comparison and using the [`.sort_by()`](https://doc.rust-lang.org/std/primitive.slice.html#method.sort_by) function.\n",
    "\n",
    "<br>"
   ]
  },
  {
   "cell_type": "code",
   "execution_count": 16,
   "id": "54fd04a9",
   "metadata": {
    "vscode": {
     "languageId": "rust"
    }
   },
   "outputs": [
    {
     "name": "stdout",
     "output_type": "stream",
     "text": [
      "[1.0, 3.0, 4.0, 5.0, 6.0, 8.0, 12.0]\n"
     ]
    }
   ],
   "source": [
    "// This is ok since we don't use sort, sort_by depends on the function you pass in to compute order\n",
    "let mut a: Vec<f32> = vec![1.0, 4.0, 3.0, 6.0, 8.0, 12.0, 5.0];\n",
    "// a.sort();\n",
    "a.sort_by(|x, y| x.partial_cmp(y).unwrap());\n",
    "println!(\"{:?}\", a);"
   ]
  },
  {
   "cell_type": "markdown",
   "id": "afc58c3d-f345-47d3-a47f-602e23784a11",
   "metadata": {},
   "source": [
    "<br>\n",
    "\n",
    "Just be careful! It will panic if you try to unwrap a special value.\n",
    "\n",
    "<br>"
   ]
  },
  {
   "cell_type": "code",
   "execution_count": 17,
   "id": "7da354dc",
   "metadata": {
    "vscode": {
     "languageId": "rust"
    }
   },
   "outputs": [
    {
     "name": "stdout",
     "output_type": "stream",
     "text": [
      "[1.0, 4.0, 3.0, 6.0, 8.0, 12.0, 5.0, NaN]\n"
     ]
    },
    {
     "name": "stderr",
     "output_type": "stream",
     "text": [
      "thread '<unnamed>' panicked at src/lib.rs:120:35:\n",
      "called `Option::unwrap()` on a `None` value\n",
      "stack backtrace:\n",
      "   0: _rust_begin_unwind\n",
      "   1: core::panicking::panic_fmt\n",
      "   2: core::panicking::panic\n",
      "   3: core::option::unwrap_failed\n",
      "   4: core::slice::sort::shared::smallsort::insert_tail\n",
      "   5: std::panic::catch_unwind\n",
      "   6: _run_user_code_15\n",
      "   7: evcxr::runtime::Runtime::run_loop\n",
      "   8: evcxr::runtime::runtime_hook\n",
      "   9: evcxr_jupyter::main\n",
      "note: Some details are omitted, run with `RUST_BACKTRACE=full` for a verbose backtrace.\n"
     ]
    }
   ],
   "source": [
    "// When partial order is not well defined in the inputs you get a panic\n",
    "let mut a = vec![1.0, 4.0, 3.0, 6.0, 8.0, 12.0, 5.0];\n",
    "let mut x: f32 = -1.0;\n",
    "x = x.sqrt();\n",
    "a.push(x);\n",
    "println!(\"{:?}\", a);\n",
    "a.sort_by(|x, y| x.partial_cmp(y).unwrap());\n",
    "println!(\"{:?}\", a);"
   ]
  },
  {
   "cell_type": "markdown",
   "id": "e16c47ed",
   "metadata": {
    "slideshow": {
     "slide_type": "slide"
    }
   },
   "source": [
    "# 2. Hash maps"
   ]
  },
  {
   "cell_type": "markdown",
   "id": "64d1a723-8e9f-4bc4-8cd7-0f6ab2d9376a",
   "metadata": {
    "slideshow": {
     "slide_type": "slide"
    }
   },
   "source": [
    "## Collection `HashMap<K,V>`"
   ]
  },
  {
   "cell_type": "markdown",
   "id": "bc56bd6c-3295-4288-9635-c388285329d0",
   "metadata": {
    "slideshow": {
     "slide_type": "slide"
    },
    "tags": [
     "gridwidth-1-2"
    ]
   },
   "source": [
    "**Goal:** a mapping from elements of `K` to elements of `V`\n",
    "\n",
    "* elements of `K` called *keys* -- **must be unique**\n",
    "* elements of `V` called *values*  -- **need not be unique**"
   ]
  },
  {
   "cell_type": "markdown",
   "id": "bed899a2-ba43-4a96-b342-dd088dff9c51",
   "metadata": {
    "slideshow": {
     "slide_type": "slide"
    },
    "tags": [
     "gridwidth-1-2"
    ]
   },
   "source": [
    "Similar structure in other languages:\n",
    "\n",
    "* Python: dictionaries\n",
    "* C++: `unordered_map<K,V>`\n",
    "* Java: `Hashtable<K,T>`"
   ]
  },
  {
   "cell_type": "code",
   "execution_count": 18,
   "id": "34e159f5",
   "metadata": {
    "slideshow": {
     "slide_type": "fragment"
    },
    "vscode": {
     "languageId": "rust"
    }
   },
   "outputs": [],
   "source": [
    "// creating a hash map and inserting pair\n",
    "\n",
    "use std::collections::HashMap;\n",
    "\n",
    "// number of wins in a local Counterstrike league\n",
    "let mut wins = HashMap::<String,u16>::new();\n",
    "\n",
    "// Insert creates a new key/value if exists and overwrites old value if key exists\n",
    "wins.insert(String::from(\"Boston University\"),24);\n",
    "wins.insert(String::from(\"Harvard\"),22);\n",
    "wins.insert(String::from(\"Boston College\"),20);\n",
    "wins.insert(String::from(\"Northeastern\"),32);"
   ]
  },
  {
   "cell_type": "markdown",
   "id": "73c80963",
   "metadata": {
    "slideshow": {
     "slide_type": "fragment"
    }
   },
   "source": [
    "Extracting a reference: returns `Option<&V>`"
   ]
  },
  {
   "cell_type": "code",
   "execution_count": 19,
   "id": "3a3b8d7f",
   "metadata": {
    "cell_style": "split",
    "slideshow": {
     "slide_type": "-"
    },
    "vscode": {
     "languageId": "rust"
    }
   },
   "outputs": [
    {
     "data": {
      "text/plain": [
       "Some(24)"
      ]
     },
     "execution_count": 19,
     "metadata": {},
     "output_type": "execute_result"
    }
   ],
   "source": [
    "wins.get(\"Boston University\")"
   ]
  },
  {
   "cell_type": "code",
   "execution_count": 20,
   "id": "e9253916",
   "metadata": {
    "cell_style": "split",
    "slideshow": {
     "slide_type": "fragment"
    },
    "vscode": {
     "languageId": "rust"
    }
   },
   "outputs": [
    {
     "data": {
      "text/plain": [
       "None"
      ]
     },
     "execution_count": 20,
     "metadata": {},
     "output_type": "execute_result"
    }
   ],
   "source": [
    "wins.get(\"MIT\")"
   ]
  },
  {
   "cell_type": "markdown",
   "id": "f5d72a6e",
   "metadata": {
    "slideshow": {
     "slide_type": "subslide"
    }
   },
   "source": [
    "<br>\n",
    "\n",
    "Insert if not present, you can use `.entry().or_insert()`.\n",
    "\n",
    "<br>"
   ]
  },
  {
   "cell_type": "code",
   "execution_count": 21,
   "id": "10de07aa",
   "metadata": {
    "vscode": {
     "languageId": "rust"
    }
   },
   "outputs": [
    {
     "data": {
      "text/plain": [
       "Some(10)"
      ]
     },
     "execution_count": 21,
     "metadata": {},
     "output_type": "execute_result"
    }
   ],
   "source": [
    "wins.entry(String::from(\"MIT\")).or_insert(10);\n",
    "wins.get(\"MIT\")"
   ]
  },
  {
   "cell_type": "markdown",
   "id": "721ebc5a",
   "metadata": {
    "slideshow": {
     "slide_type": "fragment"
    }
   },
   "source": [
    "<br>\n",
    "\n",
    "Updating a value based on the old value:\n",
    "\n",
    "<br>"
   ]
  },
  {
   "cell_type": "code",
   "execution_count": 22,
   "id": "dea5df4a",
   "metadata": {
    "vscode": {
     "languageId": "rust"
    }
   },
   "outputs": [
    {
     "data": {
      "text/plain": [
       "Some(74)"
      ]
     },
     "execution_count": 22,
     "metadata": {},
     "output_type": "execute_result"
    }
   ],
   "source": [
    "{ // code block to limit how long the reference lasts\n",
    "    let entry = wins.entry(String::from(\"Boston University\")).or_insert(10);\n",
    "    *entry += 50;\n",
    "}\n",
    "//wins.insert(String::from(\"Boston University\"),24);\n",
    "wins.get(\"Boston University\")"
   ]
  },
  {
   "cell_type": "markdown",
   "id": "1cd084d1",
   "metadata": {
    "slideshow": {
     "slide_type": "subslide"
    }
   },
   "source": [
    "## Iterating\n",
    "\n",
    "You can iterate over each key-value pair with a `for` loop similar to vectors.\n",
    "\n",
    "<br>"
   ]
  },
  {
   "cell_type": "code",
   "execution_count": 23,
   "id": "73862dfa",
   "metadata": {
    "slideshow": {
     "slide_type": "-"
    },
    "vscode": {
     "languageId": "rust"
    }
   },
   "outputs": [
    {
     "name": "stdout",
     "output_type": "stream",
     "text": [
      "Northeastern: 32\n",
      "Harvard: 22\n",
      "MIT: 10\n",
      "Boston College: 20\n",
      "Boston University: 74\n",
      "Iter Northeastern: 32\n",
      "Iter Harvard: 22\n",
      "Iter MIT: 10\n",
      "Iter Boston College: 20\n",
      "Iter Boston University: 74\n"
     ]
    }
   ],
   "source": [
    "for (k,v) in &wins {\n",
    "    println!(\"{}: {}\",k,v);\n",
    "};\n",
    "\n",
    "for (k,v) in wins.iter() {\n",
    "    println!(\"Iter {}: {}\",k,v);\n",
    "};\n"
   ]
  },
  {
   "cell_type": "markdown",
   "id": "b9d26f5d-748f-455e-b510-17c4e58572ad",
   "metadata": {},
   "source": [
    "<br>\n",
    "\n",
    "To modify values, you have to use mutable versions:\n",
    "\n",
    "<br>"
   ]
  },
  {
   "cell_type": "code",
   "execution_count": 24,
   "id": "44db457d",
   "metadata": {
    "slideshow": {
     "slide_type": "fragment"
    },
    "vscode": {
     "languageId": "rust"
    }
   },
   "outputs": [
    {
     "name": "stdout",
     "output_type": "stream",
     "text": [
      "Northeastern: 33\n",
      "Harvard: 23\n",
      "MIT: 11\n",
      "Boston College: 21\n",
      "Boston University: 75\n",
      "Mut iter Northeastern: 34\n",
      "Mut iter Harvard: 24\n",
      "Mut iter MIT: 12\n",
      "Mut iter Boston College: 22\n",
      "Mut iter Boston University: 76\n"
     ]
    }
   ],
   "source": [
    "for (k,v) in &mut wins {\n",
    "    *v += 1;\n",
    "};\n",
    "\n",
    "for (k,v) in &wins {\n",
    "    println!(\"{}: {}\",k,v);\n",
    "};\n",
    "\n",
    "for (k,v) in wins.iter_mut() {\n",
    "    *v += 1;\n",
    "};\n",
    "\n",
    "for (k,v) in wins.iter() {\n",
    "    println!(\"Mut iter {}: {}\",k,v);\n",
    "};\n",
    "\n"
   ]
  },
  {
   "cell_type": "markdown",
   "id": "d127ca8f",
   "metadata": {},
   "source": [
    "### Using HashMaps with Match statements"
   ]
  },
  {
   "cell_type": "code",
   "execution_count": 25,
   "id": "2365fb59",
   "metadata": {
    "vscode": {
     "languageId": "rust"
    }
   },
   "outputs": [
    {
     "name": "stdout",
     "output_type": "stream",
     "text": [
      "Four Mushroom Crêpe: not on the menu\n",
      "Three Mushroom Crêpe: $8.90\n"
     ]
    }
   ],
   "source": [
    "use std::collections::HashMap;\n",
    "\n",
    "let mut crispy_crêpes_café = HashMap::new();\n",
    "crispy_crêpes_café.insert(String::from(\"Nutella Crêpe\"),5.85);\n",
    "crispy_crêpes_café.insert(String::from(\"Strawberries and Nutella Crêpe\"),8.75);\n",
    "crispy_crêpes_café.insert(String::from(\"Roma Tomato, Pesto and Spinach Crêpe\"),8.90);\n",
    "crispy_crêpes_café.insert(String::from(\"Three Mushroom Crêpe\"),8.90);\n",
    "\n",
    "fn on_the_menu(cafe: &HashMap<String,f64>, s:String) {\n",
    "    print!(\"{}: \",s);\n",
    "    match cafe.get(&s) {  // .get() returns an Option enum\n",
    "        None => println!(\"not on the menu\"),\n",
    "        Some(price) => println!(\"${:.2}\",price),\n",
    "    }\n",
    "}\n",
    "on_the_menu(&crispy_crêpes_café, String::from(\"Four Mushroom Crêpe\"));\n",
    "on_the_menu(&crispy_crêpes_café, String::from(\"Three Mushroom Crêpe\"));\n",
    "\n"
   ]
  },
  {
   "cell_type": "markdown",
   "id": "32c961e6",
   "metadata": {},
   "source": [
    "## How Hash Tables Work\n",
    "\n",
    "### Storage\n",
    "\n",
    "* Array (e.g. `Vec<Option<T>>`) representing $B$ (e.g. 8) buckets (capacity),\n",
    "  * each holding something like an `Option<T>` enum with `Some((key, value, hash))`\n",
    "* **Hash function:**\n",
    "  * Like a pseudorandom number generator with key as the seed, e.g. $\\textrm{hash}: \\textrm{``apple''} \\rightarrow 2678277905398556038$\n",
    "  * Then take modulo of capacity $B=8$, e.g. `index = hash % 8 = 6`\n",
    "  * So ultimately maps keys into one of the buckets\n",
    "    * $h: Key \\rightarrow \\text\\{0,1,\\ldots,B-1\\}$\n",
    "\n",
    "### General ideas\n",
    "  * Store keys (and associated values and hashes) in buckets\n",
    "  * Indexing: Use hash function to find bucket holding key and value.\n",
    "\n",
    "### Collision: two keys mapped to the same bucket  \n",
    "  * Very unlikely given the pseudorandom nature of the hash function\n",
    "  * What to do if two keys in the same bucket\n",
    "\n"
   ]
  },
  {
   "cell_type": "markdown",
   "id": "468eead9",
   "metadata": {},
   "source": [
    "## Handling collisions\n",
    "\n",
    "### Probing\n",
    "\n",
    "* Each bucket entry: (key, value, hash)\n",
    "* Use a deterministic algorithm to find an open bucket\n",
    "\n",
    "**Inserting:**\n",
    "  * entry $h(k)$ busy: try $h(k) + 1$, $h(k) + 2$, etc. \n",
    "  * insert into first empty\n",
    "\n",
    "**Searching:**\n",
    "  * try $h(k)$, $h(k) + 1$, $h(k)+2$, etc.\n",
    "  * stop when found or empty entry"
   ]
  },
  {
   "cell_type": "markdown",
   "id": "27e7e69f",
   "metadata": {
    "cell_style": "split",
    "tags": [
     "gridwidth-1-2"
    ]
   },
   "source": [
    "## Growing the collection: amortization\n",
    "\n",
    "Keep track of the number of filled entries.\n",
    "\n",
    "When the number of keys $\\ge 0.75 B$\n",
    "\n",
    "* Double $B$\n",
    "* Pick new hash function\n",
    "* Move the information"
   ]
  },
  {
   "cell_type": "markdown",
   "id": "6b1f92b6",
   "metadata": {
    "cell_style": "split",
    "tags": [
     "gridwidth-1-2"
    ]
   },
   "source": [
    "## Adversarial data\n",
    "\n",
    "* Could create lots of collisions\n",
    "\n",
    "* Potential basis for *denial of service attacks*"
   ]
  },
  {
   "cell_type": "markdown",
   "id": "a979ee75",
   "metadata": {},
   "source": [
    "### What makes a good hash function?\n",
    "\n",
    "* Uniform distribution of inputs to the buckets available!!!\n",
    "* Consistent hashing adds the property that not too many things move around when the number of buckets changes\n",
    "\n",
    "http://www.partow.net/programming/hashfunctions/index.html  \n",
    "https://en.wikipedia.org/wiki/Consistent_hashing  \n",
    "https://doc.rust-lang.org/std/collections/struct.HashMap.html  "
   ]
  },
  {
   "cell_type": "markdown",
   "id": "9fee0d4e-9934-4777-84d6-9c7603d461ed",
   "metadata": {},
   "source": [
    "### To Dig Deeper (Optional)\n",
    "\n",
    "Inspect and debug/single-step through a [simple implementation](./hashmap_impl) that supports creation, insert, get and remove.\n",
    "\n",
    "See how index is found from hashing the key.\n",
    "\n",
    "See how collision is handled."
   ]
  },
  {
   "cell_type": "markdown",
   "id": "53543ee6",
   "metadata": {
    "slideshow": {
     "slide_type": "subslide"
    }
   },
   "source": [
    "## Hashing with custom types in Rust\n",
    "\n",
    "How do we use custom datatypes as keys?\n",
    "\n",
    "Required for hashing:\n",
    "  1. check if $k_1,k_2 \\in {}$`K` equal\n",
    "  1. compute a hash function for elements of `K`"
   ]
  },
  {
   "cell_type": "code",
   "execution_count": 26,
   "id": "2c106f8b",
   "metadata": {
    "cell_style": "split",
    "vscode": {
     "languageId": "rust"
    }
   },
   "outputs": [
    {
     "ename": "Error",
     "evalue": "the trait bound `Point: Eq` is not satisfied",
     "output_type": "error",
     "traceback": [
      "\u001b[31m[E0277] Error:\u001b[0m the trait bound `Point: Eq` is not satisfied",
      "    \u001b[38;5;246m╭\u001b[0m\u001b[38;5;246m─\u001b[0m\u001b[38;5;246m[\u001b[0mcommand_26:1:1\u001b[38;5;246m]\u001b[0m",
      "    \u001b[38;5;246m│\u001b[0m",
      " \u001b[38;5;246m 3 │\u001b[0m \u001b[38;5;249ms\u001b[0m\u001b[38;5;249mt\u001b[0m\u001b[38;5;249mr\u001b[0m\u001b[38;5;249mu\u001b[0m\u001b[38;5;249mc\u001b[0m\u001b[38;5;249mt\u001b[0m\u001b[38;5;249m \u001b[0m\u001b[38;5;249mP\u001b[0m\u001b[38;5;249mo\u001b[0m\u001b[38;5;249mi\u001b[0m\u001b[38;5;249mn\u001b[0m\u001b[38;5;249mt\u001b[0m\u001b[38;5;249m \u001b[0m\u001b[38;5;249m{\u001b[0m",
      " \u001b[38;5;240m   │\u001b[0m \u001b[38;5;100m│\u001b[0m ",
      " \u001b[38;5;240m   │\u001b[0m \u001b[38;5;100m╰\u001b[0m\u001b[38;5;100m─\u001b[0m help: consider annotating `Point` with `#[derive(Eq)]`: `#[derive(Eq)]",
      "`",
      " \u001b[38;5;240m   │\u001b[0m ",
      " \u001b[38;5;246m12 │\u001b[0m \u001b[38;5;249me\u001b[0m\u001b[38;5;249ml\u001b[0m\u001b[38;5;249me\u001b[0m\u001b[38;5;249mv\u001b[0m\u001b[38;5;249ma\u001b[0m\u001b[38;5;249mt\u001b[0m\u001b[38;5;249mi\u001b[0m\u001b[38;5;249mo\u001b[0m\u001b[38;5;249mn\u001b[0m\u001b[38;5;249m.\u001b[0m\u001b[38;5;54mi\u001b[0m\u001b[38;5;54mn\u001b[0m\u001b[38;5;54ms\u001b[0m\u001b[38;5;54me\u001b[0m\u001b[38;5;54mr\u001b[0m\u001b[38;5;54mt\u001b[0m\u001b[38;5;249m(\u001b[0m\u001b[38;5;249mp\u001b[0m\u001b[38;5;249mo\u001b[0m\u001b[38;5;249mi\u001b[0m\u001b[38;5;249mn\u001b[0m\u001b[38;5;249mt\u001b[0m\u001b[38;5;249m,\u001b[0m\u001b[38;5;249m2\u001b[0m\u001b[38;5;249m.\u001b[0m\u001b[38;5;249m3\u001b[0m\u001b[38;5;249m)\u001b[0m\u001b[38;5;249m;\u001b[0m",
      " \u001b[38;5;240m   │\u001b[0m           \u001b[38;5;54m─\u001b[0m\u001b[38;5;54m─\u001b[0m\u001b[38;5;54m─\u001b[0m\u001b[38;5;54m┬\u001b[0m\u001b[38;5;54m─\u001b[0m\u001b[38;5;54m─\u001b[0m  ",
      " \u001b[38;5;240m   │\u001b[0m              \u001b[38;5;54m╰\u001b[0m\u001b[38;5;54m─\u001b[0m\u001b[38;5;54m─\u001b[0m\u001b[38;5;54m─\u001b[0m\u001b[38;5;54m─\u001b[0m the trait `Eq` is not implemented for `Point`",
      "\u001b[38;5;246m────╯\u001b[0m"
     ]
    },
    {
     "ename": "Error",
     "evalue": "the trait bound `Point: Hash` is not satisfied",
     "output_type": "error",
     "traceback": [
      "\u001b[31m[E0277] Error:\u001b[0m the trait bound `Point: Hash` is not satisfied",
      "    \u001b[38;5;246m╭\u001b[0m\u001b[38;5;246m─\u001b[0m\u001b[38;5;246m[\u001b[0mcommand_26:1:1\u001b[38;5;246m]\u001b[0m",
      "    \u001b[38;5;246m│\u001b[0m",
      " \u001b[38;5;246m 3 │\u001b[0m \u001b[38;5;249ms\u001b[0m\u001b[38;5;249mt\u001b[0m\u001b[38;5;249mr\u001b[0m\u001b[38;5;249mu\u001b[0m\u001b[38;5;249mc\u001b[0m\u001b[38;5;249mt\u001b[0m\u001b[38;5;249m \u001b[0m\u001b[38;5;249mP\u001b[0m\u001b[38;5;249mo\u001b[0m\u001b[38;5;249mi\u001b[0m\u001b[38;5;249mn\u001b[0m\u001b[38;5;249mt\u001b[0m\u001b[38;5;249m \u001b[0m\u001b[38;5;249m{\u001b[0m",
      " \u001b[38;5;240m   │\u001b[0m \u001b[38;5;100m│\u001b[0m ",
      " \u001b[38;5;240m   │\u001b[0m \u001b[38;5;100m╰\u001b[0m\u001b[38;5;100m─\u001b[0m help: consider annotating `Point` with `#[derive(Hash)]`: `#[derive(Hash)]",
      "`",
      " \u001b[38;5;240m   │\u001b[0m ",
      " \u001b[38;5;246m12 │\u001b[0m \u001b[38;5;249me\u001b[0m\u001b[38;5;249ml\u001b[0m\u001b[38;5;249me\u001b[0m\u001b[38;5;249mv\u001b[0m\u001b[38;5;249ma\u001b[0m\u001b[38;5;249mt\u001b[0m\u001b[38;5;249mi\u001b[0m\u001b[38;5;249mo\u001b[0m\u001b[38;5;249mn\u001b[0m\u001b[38;5;249m.\u001b[0m\u001b[38;5;54mi\u001b[0m\u001b[38;5;54mn\u001b[0m\u001b[38;5;54ms\u001b[0m\u001b[38;5;54me\u001b[0m\u001b[38;5;54mr\u001b[0m\u001b[38;5;54mt\u001b[0m\u001b[38;5;249m(\u001b[0m\u001b[38;5;249mp\u001b[0m\u001b[38;5;249mo\u001b[0m\u001b[38;5;249mi\u001b[0m\u001b[38;5;249mn\u001b[0m\u001b[38;5;249mt\u001b[0m\u001b[38;5;249m,\u001b[0m\u001b[38;5;249m2\u001b[0m\u001b[38;5;249m.\u001b[0m\u001b[38;5;249m3\u001b[0m\u001b[38;5;249m)\u001b[0m\u001b[38;5;249m;\u001b[0m",
      " \u001b[38;5;240m   │\u001b[0m           \u001b[38;5;54m─\u001b[0m\u001b[38;5;54m─\u001b[0m\u001b[38;5;54m─\u001b[0m\u001b[38;5;54m┬\u001b[0m\u001b[38;5;54m─\u001b[0m\u001b[38;5;54m─\u001b[0m  ",
      " \u001b[38;5;240m   │\u001b[0m              \u001b[38;5;54m╰\u001b[0m\u001b[38;5;54m─\u001b[0m\u001b[38;5;54m─\u001b[0m\u001b[38;5;54m─\u001b[0m\u001b[38;5;54m─\u001b[0m the trait `Hash` is not implemented for `Point`",
      "\u001b[38;5;246m────╯\u001b[0m"
     ]
    }
   ],
   "source": [
    "use std::collections::HashMap;\n",
    "\n",
    "struct Point {\n",
    "    x:i64,\n",
    "    y:i64,\n",
    "}\n",
    "\n",
    "let point = Point{x:2,y:-1};\n",
    "\n",
    "let mut elevation = HashMap::new();\n",
    "\n",
    "elevation.insert(point,2.3);\n"
   ]
  },
  {
   "cell_type": "markdown",
   "id": "9bf00d1c",
   "metadata": {
    "cell_style": "split",
    "slideshow": {
     "slide_type": "fragment"
    }
   },
   "source": [
    "In order for a data structure to work as a key for hashmap, they need three traits:\n",
    "  * `PartialEq`\n",
    "    * ✅ Symmetry: If a == b, then b == a.\n",
    "    * ✅ Transitivity: If a == b and b == c, then a == c.\n",
    "    * ❌ Reflexivity is NOT guaranteed (because e.g. NaN != NaN in floats).\n",
    "  * `Eq`\n",
    "    * ✅ Reflexivity: a == a is always true.\n",
    "    * ✅ Symmetry\n",
    "    * ✅ Transitivity\n",
    "  * `Hash`\n",
    "    * Supports deterministic output of a hash function\n",
    "    * Consistency with Equality -- if two values are equal $a == b$, then their hashes are equal\n",
    "    * Non-Invertibility -- One way. You cannot reconstruct the original value from the hash\n",
    "    * etc...\n",
    "\n",
    "Default implementation:"
   ]
  },
  {
   "cell_type": "code",
   "execution_count": 27,
   "id": "a16dec54",
   "metadata": {
    "cell_style": "split",
    "slideshow": {
     "slide_type": "-"
    },
    "vscode": {
     "languageId": "rust"
    }
   },
   "outputs": [
    {
     "data": {
      "text/plain": [
       "{DistanceKM(30): true}"
      ]
     },
     "execution_count": 27,
     "metadata": {},
     "output_type": "execute_result"
    }
   ],
   "source": [
    "use std::collections::HashMap;\n",
    "\n",
    "#[derive(Debug,Hash,Eq,PartialEq)]\n",
    "struct DistanceKM(u64);\n",
    "\n",
    "let mut tired = HashMap::new();\n",
    "\n",
    "tired.insert(DistanceKM(30),true);\n",
    "tired"
   ]
  },
  {
   "cell_type": "markdown",
   "id": "d48b74b8",
   "metadata": {},
   "source": [
    "### All the traits that you can automatically derive from\n",
    "\n",
    "* Clone: Allow user to make an explicit copy\n",
    "* Copy: Allow user to make an implicit copy\n",
    "* Debug: Allow user to print contents\n",
    "* Default: Allow user to initialize with default values (Default::default())\n",
    "* Hash: Allow user to use it as a key to a hash map or set.\n",
    "* Eq: Allow user to test for equality\n",
    "* Ord: Allow user to sort and fully order types\n",
    "* PartialEq: Obeys most rules for equality but not all\n",
    "* PartialOrd: Obeys most rules for ordering but not all"
   ]
  },
  {
   "cell_type": "markdown",
   "id": "709457b8",
   "metadata": {},
   "source": [
    "### Using Floats as Keys\n",
    "\n",
    "Not all basic types support the Eq and Hash traits (f32 and f64 do not).  The reasons have to do with the NaN and Infinity problems we discussed last time.  \n",
    "\n",
    "* If you find yourself needing floats as keys consider converting the float to a collection of integers\n",
    "* Floating point representation consists of Sign, Exponent and Mantissa, each integer"
   ]
  },
  {
   "cell_type": "markdown",
   "id": "d9cab14d",
   "metadata": {},
   "source": [
    "<div align=\"center\">\n",
    "    <img src=\"Single-Precision-IEEE-754-Floating-Point-Standard.jpg\" alt=\"Float number\" style=\"width: 50%; height: auto;\">\n",
    "</div>\n",
    "<div style=\"text-align:center\">\n",
    "    <em>From https://www.geeksforgeeks.org/ieee-standard-754-floating-point-numbers/</em>\n",
    "</div>\n",
    "\n",
    "`float_num = (-1)^sign * mantissa * 2^exponent` where  \n",
    "- `sign` is -1 or 1  \n",
    "- `mantissa` is `u23` between 0 and 2^23  \n",
    "- `exponent` is `i8` between -127 and 128  "
   ]
  },
  {
   "cell_type": "code",
   "execution_count": 28,
   "id": "ecab14c0",
   "metadata": {
    "vscode": {
     "languageId": "rust"
    }
   },
   "outputs": [],
   "source": [
    "// Built-in Rust library for traits on numbers\n",
    ":dep num-traits=\"0.2\""
   ]
  },
  {
   "cell_type": "code",
   "execution_count": 29,
   "id": "7170b125-9454-428a-a50a-ee647077b409",
   "metadata": {
    "vscode": {
     "languageId": "rust"
    }
   },
   "outputs": [
    {
     "name": "stderr",
     "output_type": "stream",
     "text": [
      "The type of the variable tired was redefined, so was lost.\n"
     ]
    },
    {
     "name": "stdout",
     "output_type": "stream",
     "text": [
      "num:          3.141589999999999882618\n"
     ]
    }
   ],
   "source": [
    "use num_traits::Float;\n",
    "\n",
    "let num:f64 = 3.14159;  // Some float\n",
    "println!(\"num: {:32.21}\", num);"
   ]
  },
  {
   "cell_type": "markdown",
   "id": "e4bfc7fd-5768-46ab-993c-6b04234e7e05",
   "metadata": {},
   "source": [
    "<br>\n",
    "\n",
    "**Question:** Why is the number printed different than the number assigned?\n",
    "\n",
    "<br>"
   ]
  },
  {
   "cell_type": "markdown",
   "id": "e1ef02cd-a0b3-4f7a-81db-d50ed3121ada",
   "metadata": {},
   "source": [
    "Let's decompose the floating point number into its components:"
   ]
  },
  {
   "cell_type": "code",
   "execution_count": 30,
   "id": "6a061b21-1de2-4c84-80f7-5ea07a4c1aad",
   "metadata": {
    "vscode": {
     "languageId": "rust"
    }
   },
   "outputs": [
    {
     "name": "stdout",
     "output_type": "stream",
     "text": [
      "mantissa: 7074231776675438 exponent: -51 sign: 1\n",
      "3.1415899999999998826183400524314 3.1415899999999998826183400524314\n"
     ]
    }
   ],
   "source": [
    "let base:f64 = 2.0;\n",
    "\n",
    "// Deconstruct the floating point\n",
    "let (mantissa, exponent, sign) = Float::integer_decode(num);\n",
    "println!(\"mantissa: {} exponent: {} sign: {}\", mantissa, exponent, sign);\n",
    "\n",
    "// Conver to f64\n",
    "let sign_f:f64 = sign as f64;\n",
    "let mantissa_f:f64 = mantissa as f64;\n",
    "let exponent_f:f64 = base.powf(exponent as f64);\n",
    "\n",
    "// Recalculate the floating point value\n",
    "let new_num:f64 = sign_f * mantissa_f * exponent_f;\n",
    "\n",
    "println!(\"{:32.31} {:32.31}\", num, new_num);"
   ]
  },
  {
   "cell_type": "markdown",
   "id": "51c212da",
   "metadata": {
    "slideshow": {
     "slide_type": "slide"
    }
   },
   "source": [
    "## `HashSet<K>` \n",
    "\n",
    "\"A HashMap without values\"\n",
    "\n",
    "* No value associated with keys\n",
    "* Just a set of items\n",
    "* Same implementation\n",
    "* Fastest way to do membership tests\n"
   ]
  },
  {
   "cell_type": "code",
   "execution_count": 31,
   "id": "b216b3f3",
   "metadata": {
    "cell_style": "split",
    "slideshow": {
     "slide_type": "fragment"
    },
    "vscode": {
     "languageId": "rust"
    }
   },
   "outputs": [],
   "source": [
    "use std::collections::HashSet;\n",
    "\n",
    "// create\n",
    "let mut covid = HashSet::new();\n",
    "\n",
    "// insert values\n",
    "for i in 2019..=2022 {\n",
    "    covid.insert(i);\n",
    "};"
   ]
  },
  {
   "cell_type": "code",
   "execution_count": 32,
   "id": "d67a19a0",
   "metadata": {
    "cell_style": "split",
    "slideshow": {
     "slide_type": "fragment"
    },
    "vscode": {
     "languageId": "rust"
    }
   },
   "outputs": [
    {
     "name": "stdout",
     "output_type": "stream",
     "text": [
      "2022 2021 2019 2020 \n"
     ]
    }
   ],
   "source": [
    "// iterate over values in the set\n",
    "for year in &covid {\n",
    "    print!(\"{} \",year);\n",
    "}\n",
    "println!();"
   ]
  },
  {
   "cell_type": "markdown",
   "id": "c69c3c1c-775a-4cfb-bc0c-ad54937f19e6",
   "metadata": {},
   "source": [
    "<br>\n",
    "\n",
    "**Question:** Why aren't the years in the order we inserted them?\n",
    "\n",
    "<br>"
   ]
  },
  {
   "cell_type": "markdown",
   "id": "70fa9432-63a7-4c86-b9e0-6cd6124777e4",
   "metadata": {},
   "source": [
    "We can use `.get()` and `.insert()`, similarly to how we used them in HashMaps."
   ]
  },
  {
   "cell_type": "code",
   "execution_count": 33,
   "id": "d610a4d8",
   "metadata": {
    "slideshow": {
     "slide_type": "fragment"
    },
    "vscode": {
     "languageId": "rust"
    }
   },
   "outputs": [
    {
     "data": {
      "text/plain": [
       "None"
      ]
     },
     "execution_count": 33,
     "metadata": {},
     "output_type": "execute_result"
    }
   ],
   "source": [
    "// Returns `None` if not in the HashSet\n",
    "covid.get(&2015)"
   ]
  },
  {
   "cell_type": "code",
   "execution_count": 34,
   "id": "d6418fc7",
   "metadata": {
    "slideshow": {
     "slide_type": "fragment"
    },
    "vscode": {
     "languageId": "rust"
    }
   },
   "outputs": [
    {
     "data": {
      "text/plain": [
       "Some(2021)"
      ]
     },
     "execution_count": 34,
     "metadata": {},
     "output_type": "execute_result"
    }
   ],
   "source": [
    "covid.get(&2021)"
   ]
  },
  {
   "cell_type": "code",
   "execution_count": 35,
   "id": "39c230ff",
   "metadata": {
    "vscode": {
     "languageId": "rust"
    }
   },
   "outputs": [
    {
     "name": "stdout",
     "output_type": "stream",
     "text": [
      "2022 2021 2019 2020 \n"
     ]
    }
   ],
   "source": [
    "covid.insert(2020);\n",
    "for year in &covid {\n",
    "    print!(\"{} \",year);\n",
    "}\n",
    "println!();"
   ]
  },
  {
   "cell_type": "markdown",
   "id": "2adb1b43-4968-485f-a4d9-39046035c354",
   "metadata": {
    "vscode": {
     "languageId": "rust"
    }
   },
   "source": [
    "## In-Class Piazza Poll\n",
    "\n",
    "\n",
    "\n"
   ]
  },
  {
   "cell_type": "markdown",
   "id": "7dfbc1b1-97a8-479c-87d9-8887ea003043",
   "metadata": {
    "vscode": {
     "languageId": "rust"
    }
   },
   "source": [
    "https://piazza.com/class/m5qyw6267j12cj/post/206"
   ]
  }
 ],
 "metadata": {
  "celltoolbar": "Slideshow",
  "kernelspec": {
   "display_name": "Rust",
   "language": "rust",
   "name": "rust"
  },
  "language_info": {
   "codemirror_mode": "rust",
   "file_extension": ".rs",
   "mimetype": "text/rust",
   "name": "Rust",
   "pygment_lexer": "rust",
   "version": ""
  },
  "rise": {
   "theme": "beige",
   "transition": "fade"
  }
 },
 "nbformat": 4,
 "nbformat_minor": 5
}
