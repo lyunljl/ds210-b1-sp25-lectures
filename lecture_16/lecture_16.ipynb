{
 "cells": [
  {
   "cell_type": "markdown",
   "id": "66c97486",
   "metadata": {
    "editable": true,
    "jp-MarkdownHeadingCollapsed": true,
    "slideshow": {
     "slide_type": "slide"
    },
    "tags": []
   },
   "source": [
    "<div align=\"center\">\n",
    "    <h1>DS-210: Programming for Data Science</h1>\n",
    "    <h1>Lecture 16</h1>\n",
    "</div>\n",
    "\n",
    "1. Strings: `String` and `&str`  ( §8.2)\n",
    "2. Lifetimes  (§10.3)\n",
    "3. Closures   (§13.1-2)\n",
    "\n",
    "Read section 8.2 for strings, section 10.3 for lifetimes and section 13.1 and 13.2 for closures and iterators"
   ]
  },
  {
   "cell_type": "markdown",
   "id": "551f1e42",
   "metadata": {
    "slideshow": {
     "slide_type": "slide"
    }
   },
   "source": [
    "# 1. Strings: `String` and `&str`\n"
   ]
  },
  {
   "attachments": {},
   "cell_type": "markdown",
   "id": "06da0681-ebf6-4b14-ba0c-c8ecc5274298",
   "metadata": {},
   "source": [
    "## Unicode Standard and UTF-8\n",
    "\n",
    "* **Unicode** – variable length character encoding standard.\n",
    "    * currently defines 149,813 characters and 161 scripts, including emoji, symbols, etc.\n",
    "* **Unicode Codepoint** -- can represent up to $17×2^{16}=1,114,112$ entries.\n",
    "    * e.g. U+0000 – U+10FFFF in hexadecimal\n",
    "* Unicode Transformation Standard (e.g. UTF-8) – is a variable length encoding using one to four bytes\n",
    "    * First 128 chars same as ASCII\n",
    "\n",
    "<div align=\"center\">\n",
    "    <img src=\"UTF8-codepoints.png\" width=\"70%\">\n",
    "</div>\n",
    "\n",
    "1. 1st row (1 byte ) covers ASCII\n",
    "2. 2nd row (2 bytes) covers remainder of almost all Latin-script alphabets\n",
    "3. 3rd row (3 bytes) Basic Multilingual Plane including Chinese, Japanese and Korean characters\n",
    "4. 4th row (4 bytes) Emoji, historic scripts, math symbols\n",
    "\n",
    "https://en.wikipedia.org/wiki/Unicode<br>\n",
    "https://en.wikipedia.org/wiki/UTF-8 "
   ]
  },
  {
   "cell_type": "markdown",
   "id": "d1997314",
   "metadata": {
    "slideshow": {
     "slide_type": "slide"
    }
   },
   "source": [
    "## Rust and strings"
   ]
  },
  {
   "cell_type": "markdown",
   "id": "3ce31f8a",
   "metadata": {
    "cell_style": "split",
    "tags": [
     "gridwidth-1-2"
    ]
   },
   "source": [
    "* We have avoided this topic so far\n",
    "\n",
    "\n",
    "* It's complicated\n",
    "\n",
    "\n",
    "* Unicode is complicated\n",
    "\n",
    "\n",
    "* Advantages: internationalization and emojis out of the box"
   ]
  },
  {
   "cell_type": "markdown",
   "id": "1480324f",
   "metadata": {
    "cell_style": "split",
    "slideshow": {
     "slide_type": "fragment"
    },
    "tags": [
     "gridwidth-1-2"
    ]
   },
   "source": [
    "* **Rust:** Unicode strings are a first–class citizen\n",
    "\n",
    "\n",
    "* **Classical programming languages:**\n",
    "  * ASCII strings are the default\n",
    "  * Easier to manage\n",
    "  * Additional libraries needed to deal with Unicode\n"
   ]
  },
  {
   "cell_type": "markdown",
   "id": "e48be909-4809-4e5f-89ec-8017dd590313",
   "metadata": {},
   "source": [
    "### Helper Function to Print Variable Type"
   ]
  },
  {
   "cell_type": "code",
   "execution_count": 2,
   "id": "0dc94a3b-4061-46c0-9fa7-ea28b4920b79",
   "metadata": {},
   "outputs": [
    {
     "name": "stdout",
     "output_type": "stream",
     "text": [
      "i32\n"
     ]
    }
   ],
   "source": [
    "// helper function to type of variable\n",
    "use std::any::type_name;\n",
    "\n",
    "fn type_of<T>(_: T) -> &'static str {\n",
    "    type_name::<T>()\n",
    "}\n",
    "\n",
    "// Usage example:\n",
    "let x = 42;\n",
    "println!(\"{}\", type_of(x)); // prints \"i32\""
   ]
  },
  {
   "cell_type": "markdown",
   "id": "9a5e9867",
   "metadata": {
    "slideshow": {
     "slide_type": "slide"
    }
   },
   "source": [
    "## Reminder: Single characters (Unicode scalar values)\n",
    "\n",
    "* Type: `char`\n",
    "* Size: 4 bytes\n",
    "* Note the single quotes!"
   ]
  },
  {
   "cell_type": "code",
   "execution_count": 3,
   "id": "0e8ef085",
   "metadata": {
    "cell_style": "split",
    "slideshow": {
     "slide_type": "fragment"
    }
   },
   "outputs": [],
   "source": [
    "let a : char = 'a';\n",
    "let b = '🦕';"
   ]
  },
  {
   "cell_type": "markdown",
   "id": "8039d337",
   "metadata": {
    "cell_style": "split"
   },
   "source": [
    "Dinosaurs:<br>\n",
    "&nbsp;&nbsp;&nbsp;🦕 (U+1F995)<br>\n",
    "&nbsp;&nbsp;&nbsp;🦖 (U+1F996)"
   ]
  },
  {
   "cell_type": "code",
   "execution_count": 4,
   "id": "f615bf5f",
   "metadata": {
    "slideshow": {
     "slide_type": "fragment"
    }
   },
   "outputs": [],
   "source": [
    "// Mayan numeral (not all unicode characters are supported everywhere)\n",
    "let c = '𝋥';"
   ]
  },
  {
   "cell_type": "code",
   "execution_count": 5,
   "id": "e6ace57a",
   "metadata": {
    "cell_style": "split",
    "slideshow": {
     "slide_type": "fragment"
    }
   },
   "outputs": [
    {
     "data": {
      "text/plain": [
       "4"
      ]
     },
     "execution_count": 5,
     "metadata": {},
     "output_type": "execute_result"
    }
   ],
   "source": [
    "std::mem::size_of_val(&a)"
   ]
  },
  {
   "cell_type": "code",
   "execution_count": 6,
   "id": "db368dfb",
   "metadata": {
    "cell_style": "split"
   },
   "outputs": [
    {
     "data": {
      "text/plain": [
       "4"
      ]
     },
     "execution_count": 6,
     "metadata": {},
     "output_type": "execute_result"
    }
   ],
   "source": [
    "std::mem::size_of_val(&b)"
   ]
  },
  {
   "cell_type": "code",
   "execution_count": 7,
   "id": "54e7630d",
   "metadata": {},
   "outputs": [
    {
     "name": "stdout",
     "output_type": "stream",
     "text": [
      "UTF32 character Some('🦕')\n",
      "UTF32 character Some('🦖')\n"
     ]
    }
   ],
   "source": [
    "let c = char::from_u32(0x1F995);\n",
    "println!(\"UTF32 character {:?}\", c);\n",
    "let c = char::from_u32(0x1F996);\n",
    "println!(\"UTF32 character {:?}\", c);\n"
   ]
  },
  {
   "cell_type": "markdown",
   "id": "2ac821b5",
   "metadata": {
    "slideshow": {
     "slide_type": "slide"
    }
   },
   "source": [
    "## String literals\n",
    "\n",
    "* String literal${}={}$when you create a string `\"like this\"`\n",
    "* Note the double quotes\n",
    "* What type are they?"
   ]
  },
  {
   "cell_type": "code",
   "execution_count": 8,
   "id": "bd58dd3a",
   "metadata": {
    "slideshow": {
     "slide_type": "fragment"
    }
   },
   "outputs": [
    {
     "name": "stdout",
     "output_type": "stream",
     "text": [
      "&str\n"
     ]
    }
   ],
   "source": [
    "let sample = \"Hello, DS210!\";\n",
    "println!(\"{}\", type_of(sample));"
   ]
  },
  {
   "cell_type": "code",
   "execution_count": 9,
   "id": "c38f4835",
   "metadata": {
    "slideshow": {
     "slide_type": "fragment"
    }
   },
   "outputs": [
    {
     "name": "stdout",
     "output_type": "stream",
     "text": [
      "alloc::string::String\n"
     ]
    }
   ],
   "source": [
    "let sample: String = \"Hello, DS210!\".to_string();\n",
    "println!(\"{}\", type_of(sample));"
   ]
  },
  {
   "cell_type": "code",
   "execution_count": 10,
   "id": "09ff5ba7",
   "metadata": {
    "slideshow": {
     "slide_type": "fragment"
    }
   },
   "outputs": [
    {
     "name": "stdout",
     "output_type": "stream",
     "text": [
      "&str\n"
     ]
    }
   ],
   "source": [
    "let sample: &str = \"Hello, DS210!\";\n",
    "println!(\"{}\", type_of(sample));"
   ]
  },
  {
   "cell_type": "markdown",
   "id": "1ab00f9f",
   "metadata": {
    "slideshow": {
     "slide_type": "fragment"
    }
   },
   "source": [
    "`&str` is a **string slice**, internally behaves like `&[u8]`"
   ]
  },
  {
   "cell_type": "code",
   "execution_count": 11,
   "id": "03fe4cf4-149d-4feb-968c-ea4bfda4f796",
   "metadata": {},
   "outputs": [
    {
     "name": "stdout",
     "output_type": "stream",
     "text": [
      "What are you doing? (\\x3F means ?) I'm writing Rust!\n"
     ]
    }
   ],
   "source": [
    "let byte_escape = \"I'm writing \\x52\\x75\\x73\\x74!\";\n",
    "println!(\"What are you doing\\x3F (\\\\x3F means ?) {}\", byte_escape);"
   ]
  },
  {
   "cell_type": "code",
   "execution_count": 12,
   "id": "fb4a1c62-fcc5-4d6e-98b4-225afdd975e9",
   "metadata": {},
   "outputs": [
    {
     "name": "stdout",
     "output_type": "stream",
     "text": [
      "Unicode character ℝ (U+211D) is called \"DOUBLE-STRUCK CAPITAL R\"\n"
     ]
    }
   ],
   "source": [
    "// This will not work as hex can only be 2 bytes long (two characters)\n",
    "// let unicode_codepoint = \"\\x211D\";\n",
    "\n",
    "// ...or Unicode code points.\n",
    "let unicode_codepoint = \"\\u{211D}\";\n",
    "let character_name = \"\\\"DOUBLE-STRUCK CAPITAL R\\\"\";\n",
    "println!(\"Unicode character {} (U+211D) is called {}\",\n",
    "                unicode_codepoint, character_name );"
   ]
  },
  {
   "cell_type": "markdown",
   "id": "d96dc7ab",
   "metadata": {
    "slideshow": {
     "slide_type": "subslide"
    }
   },
   "source": [
    "## Encoding of characters\n",
    "\n",
    "`a` and `🦕` were both 4 bytes"
   ]
  },
  {
   "cell_type": "code",
   "execution_count": 13,
   "id": "42426199",
   "metadata": {
    "cell_style": "split"
   },
   "outputs": [
    {
     "data": {
      "text/plain": [
       "1"
      ]
     },
     "execution_count": 13,
     "metadata": {},
     "output_type": "execute_result"
    }
   ],
   "source": [
    "std::mem::size_of_val(\"a\")"
   ]
  },
  {
   "cell_type": "code",
   "execution_count": 14,
   "id": "aa892b25",
   "metadata": {
    "cell_style": "split",
    "slideshow": {
     "slide_type": "fragment"
    }
   },
   "outputs": [
    {
     "data": {
      "text/plain": [
       "4"
      ]
     },
     "execution_count": 14,
     "metadata": {},
     "output_type": "execute_result"
    }
   ],
   "source": [
    "std::mem::size_of_val(\"🦕\")"
   ]
  },
  {
   "cell_type": "markdown",
   "id": "0b5ab356",
   "metadata": {
    "cell_style": "split",
    "slideshow": {
     "slide_type": "fragment"
    }
   },
   "source": [
    "Characters need 1–4 bytes to be encoded."
   ]
  },
  {
   "cell_type": "code",
   "execution_count": 15,
   "id": "1c9aae63",
   "metadata": {
    "slideshow": {
     "slide_type": "fragment"
    }
   },
   "outputs": [
    {
     "data": {
      "text/plain": [
       "8"
      ]
     },
     "execution_count": 15,
     "metadata": {},
     "output_type": "execute_result"
    }
   ],
   "source": [
    "let dinos = \"🦕🦖\";\n",
    "std::mem::size_of_val(dinos)"
   ]
  },
  {
   "cell_type": "code",
   "execution_count": 16,
   "id": "535c8072",
   "metadata": {},
   "outputs": [
    {
     "data": {
      "text/plain": [
       "10"
      ]
     },
     "execution_count": 16,
     "metadata": {},
     "output_type": "execute_result"
    }
   ],
   "source": [
    "let mixed = \"a🦖b🦕\";\n",
    "std::mem::size_of_val(mixed)"
   ]
  },
  {
   "cell_type": "code",
   "execution_count": null,
   "id": "09d4da32",
   "metadata": {},
   "outputs": [
    {
     "name": "stdout",
     "output_type": "stream",
     "text": [
      "0 a 4\n",
      "1 🦖 4\n",
      "2 b 4\n"
     ]
    }
   ],
   "source": [
    "// Iterating through characters\n",
    "for (i, c) in mixed.chars().enumerate() {\n",
    "    println!(\"{} {} {}\", i, c, std::mem::size_of_val(&c));\n",
    "}\n",
    "println!(\"{:?} {:?}\", mixed.chars().nth(1), mixed.chars().nth_back(1));"
   ]
  },
  {
   "cell_type": "markdown",
   "id": "b50ba4ef-7cd3-4e6c-b8cd-48e3712ffcc1",
   "metadata": {},
   "source": [
    "**Question:** why are all the sizes 4?"
   ]
  },
  {
   "cell_type": "markdown",
   "id": "252e2faa",
   "metadata": {
    "slideshow": {
     "slide_type": "fragment"
    }
   },
   "source": [
    "Can select substrings, but they must be aligned with actual characters (or runtime error)"
   ]
  },
  {
   "cell_type": "code",
   "execution_count": 18,
   "id": "1a3e6c38",
   "metadata": {
    "cell_style": "split",
    "tags": []
   },
   "outputs": [
    {
     "name": "stdout",
     "output_type": "stream",
     "text": [
      "3 🦕 4\n",
      "Some('🦖') Some('b')\n"
     ]
    },
    {
     "name": "stderr",
     "output_type": "stream",
     "text": [
      "\n",
      "thread '<unnamed>' panicked at src/lib.rs:137:6:\n",
      "byte index 1 is not a char boundary; it is inside '🦕' (bytes 0..4) of `🦕🦖`\n",
      "stack backtrace:\n",
      "   0: _rust_begin_unwind\n",
      "   1: core::panicking::panic_fmt\n",
      "   2: core::str::slice_error_fail_rt\n",
      "   3: core::str::slice_error_fail\n",
      "   4: std::panic::catch_unwind\n",
      "   5: _run_user_code_17\n",
      "   6: evcxr::runtime::Runtime::run_loop\n",
      "   7: evcxr::runtime::runtime_hook\n",
      "   8: evcxr_jupyter::main\n",
      "note: Some details are omitted, run with `RUST_BACKTRACE=full` for a verbose backtrace.\n"
     ]
    }
   ],
   "source": [
    "// error\n",
    "dinos[0..1]"
   ]
  },
  {
   "cell_type": "code",
   "execution_count": 19,
   "id": "84dace1a-24db-4012-8e48-48871ae97d5a",
   "metadata": {
    "tags": []
   },
   "outputs": [
    {
     "data": {
      "text/plain": [
       "\"🦕🦖\""
      ]
     },
     "execution_count": 19,
     "metadata": {},
     "output_type": "execute_result"
    }
   ],
   "source": [
    "// proper way to get substrings\n",
    "let first_two: String = dinos.chars().take(2).collect();\n",
    "first_two"
   ]
  },
  {
   "cell_type": "code",
   "execution_count": 20,
   "id": "a37c3ad6",
   "metadata": {
    "cell_style": "split",
    "slideshow": {
     "slide_type": "fragment"
    },
    "tags": []
   },
   "outputs": [
    {
     "data": {
      "text/plain": [
       "\"🦖\""
      ]
     },
     "execution_count": 20,
     "metadata": {},
     "output_type": "execute_result"
    }
   ],
   "source": [
    "let dinos = \"🦕🦖\";\n",
    "dinos[4..8]"
   ]
  },
  {
   "cell_type": "code",
   "execution_count": 21,
   "id": "73e62505",
   "metadata": {
    "cell_style": "split",
    "slideshow": {
     "slide_type": "fragment"
    }
   },
   "outputs": [
    {
     "data": {
      "text/plain": [
       "\"world!\""
      ]
     },
     "execution_count": 21,
     "metadata": {},
     "output_type": "execute_result"
    }
   ],
   "source": [
    "let sample = \"Hello, world!\";\n",
    "sample[7..]"
   ]
  },
  {
   "cell_type": "markdown",
   "id": "8e6ea56d",
   "metadata": {
    "slideshow": {
     "slide_type": "slide"
    }
   },
   "source": [
    "## Strings\n",
    "\n",
    "* String type is dynamic: `Vec<u8>` internally\n",
    "* Can add characters and strings to the end"
   ]
  },
  {
   "cell_type": "code",
   "execution_count": 22,
   "id": "bf0c6203",
   "metadata": {
    "slideshow": {
     "slide_type": "fragment"
    }
   },
   "outputs": [
    {
     "data": {
      "text/plain": [
       "\"abc\""
      ]
     },
     "execution_count": 22,
     "metadata": {},
     "output_type": "execute_result"
    }
   ],
   "source": [
    "let mut sample = String::new();\n",
    "\n",
    "//append string\n",
    "sample.push_str(\"abc\");\n",
    "sample"
   ]
  },
  {
   "cell_type": "code",
   "execution_count": 23,
   "id": "5f5302d4",
   "metadata": {
    "slideshow": {
     "slide_type": "fragment"
    }
   },
   "outputs": [
    {
     "data": {
      "text/plain": [
       "\"abcd\""
      ]
     },
     "execution_count": 23,
     "metadata": {},
     "output_type": "execute_result"
    }
   ],
   "source": [
    "// append character\n",
    "sample.push('d');\n",
    "sample"
   ]
  },
  {
   "cell_type": "markdown",
   "id": "e5d25e26",
   "metadata": {
    "slideshow": {
     "slide_type": "subslide"
    }
   },
   "source": [
    "## Converting literals to type `String`"
   ]
  },
  {
   "cell_type": "markdown",
   "id": "856b5cbc",
   "metadata": {},
   "source": [
    "Use `.to_string()` or `String::from(...)`"
   ]
  },
  {
   "cell_type": "code",
   "execution_count": 24,
   "id": "d96c7668",
   "metadata": {},
   "outputs": [
    {
     "name": "stdout",
     "output_type": "stream",
     "text": [
      "true true \n"
     ]
    }
   ],
   "source": [
    "let string_1 = \"This is a test\".to_string();     // specific to &str\n",
    "let string_2 = String::from(\"This is a test\");   // specific to &str\n",
    "let string_3 = \"Hello\".to_owned();               // applies to any slice\n",
    "let string_4: String = \"Hello\".into();           // applies to any slice\n",
    "println!(\"{} {} \", string_1 == string_2, string_3 == string_4);  // check if content is the same"
   ]
  },
  {
   "cell_type": "markdown",
   "id": "a6388bfd",
   "metadata": {
    "slideshow": {
     "slide_type": "fragment"
    }
   },
   "source": [
    "Can also use macro `format!(...)`:\n",
    "  * same syntax as `println!(...)`\n",
    "  * produces an object of type `String`"
   ]
  },
  {
   "cell_type": "code",
   "execution_count": 25,
   "id": "54b8eed2",
   "metadata": {},
   "outputs": [
    {
     "data": {
      "text/plain": [
       "\"This is a test == This is a test\""
      ]
     },
     "execution_count": 25,
     "metadata": {},
     "output_type": "execute_result"
    }
   ],
   "source": [
    "let sample: String = format!(\"{} == {}\",string_1,string_2);\n",
    "sample"
   ]
  },
  {
   "cell_type": "markdown",
   "id": "2170f56b",
   "metadata": {
    "slideshow": {
     "slide_type": "slide"
    }
   },
   "source": [
    "## String concatenation via `+`\n",
    "\n",
    "* Takes ownership of the first parameter\n",
    "* Second parameter: `&str`"
   ]
  },
  {
   "cell_type": "code",
   "execution_count": 26,
   "id": "f614266c",
   "metadata": {},
   "outputs": [],
   "source": [
    "let string_1 = \"abc\".to_string();\n",
    "let string_2 = \"def\".to_string();"
   ]
  },
  {
   "cell_type": "code",
   "execution_count": 27,
   "id": "2a72a0d5-f21d-4a59-9e09-409d882029e9",
   "metadata": {},
   "outputs": [
    {
     "name": "stdout",
     "output_type": "stream",
     "text": [
      "abcdef\n",
      "def\n"
     ]
    }
   ],
   "source": [
    "println!(\"{}\", string_1 + &string_2);\n",
    "\n",
    "//println!(\"{}\", string_1); // error\n",
    "println!(\"{}\", string_2);"
   ]
  },
  {
   "cell_type": "markdown",
   "id": "497ab7c6-f5b3-4592-9804-61ba59d54d27",
   "metadata": {},
   "source": [
    "### Experiments to try\n",
    "\n",
    "1. Run the 2nd cell above a 2nd time.  What happened?\n",
    "2. Uncomment line 3 of 2nd cell and run both cells. What happened?"
   ]
  },
  {
   "cell_type": "markdown",
   "id": "966818c4",
   "metadata": {
    "slideshow": {
     "slide_type": "fragment"
    }
   },
   "source": [
    "Why `+` takes ownership of `string_1`:\n",
    " * reason: efficiency\n",
    " * no need to copy the content of the first string (unless the container size has to be increased)"
   ]
  },
  {
   "cell_type": "markdown",
   "id": "cb3262dd",
   "metadata": {
    "slideshow": {
     "slide_type": "slide"
    }
   },
   "source": [
    "## Writing generic code\n",
    "* Use string slices &str if possible (e.g. you won't manipulate the string)\n",
    "* This will work with `String` and `&str`"
   ]
  },
  {
   "cell_type": "code",
   "execution_count": 28,
   "id": "2b931e18",
   "metadata": {},
   "outputs": [],
   "source": [
    "fn show(message: &str) {\n",
    "    println!(\"{}\",message);\n",
    "}"
   ]
  },
  {
   "cell_type": "code",
   "execution_count": 29,
   "id": "5b5c4d6a",
   "metadata": {
    "slideshow": {
     "slide_type": "fragment"
    }
   },
   "outputs": [
    {
     "name": "stdout",
     "output_type": "stream",
     "text": [
      "ds210\n",
      "ds210\n"
     ]
    }
   ],
   "source": [
    "// automatic conversion to &str from &String\n",
    "let mut my_string = String::from(\"ds210\");\n",
    "show(&my_string);\n",
    "show(\"ds210\");"
   ]
  },
  {
   "cell_type": "code",
   "execution_count": 30,
   "id": "4236ab3c",
   "metadata": {},
   "outputs": [
    {
     "name": "stdout",
     "output_type": "stream",
     "text": [
      "String1 String2 str1 str2\n"
     ]
    }
   ],
   "source": [
    "// &str has the same limitation as any slice (not extensible)\n",
    "let s1 = \"String1\".to_string();\n",
    "let s2 = \"String2\".to_string();\n",
    "let s3 = \"str1\";\n",
    "let s4 = \"str2\";\n",
    "println!(\"{} {} {} {}\", s1, s2, s3, s4);"
   ]
  },
  {
   "cell_type": "markdown",
   "id": "0f8cebf9-f0ec-4bbf-8ed0-77e2c0ffc855",
   "metadata": {},
   "source": [
    "## Which of the following will work?"
   ]
  },
  {
   "cell_type": "code",
   "execution_count": null,
   "id": "185d19f8",
   "metadata": {
    "cell_style": "center"
   },
   "outputs": [
    {
     "ename": "Error",
     "evalue": "mismatched types",
     "output_type": "error",
     "traceback": [
      "\u001b[31m[E0308] Error:\u001b[0m mismatched types",
      "   \u001b[38;5;246m╭\u001b[0m\u001b[38;5;246m─\u001b[0m\u001b[38;5;246m[\u001b[0mcommand_31:1:1\u001b[38;5;246m]\u001b[0m",
      "   \u001b[38;5;246m│\u001b[0m",
      " \u001b[38;5;246m5 │\u001b[0m \u001b[38;5;249mp\u001b[0m\u001b[38;5;249mr\u001b[0m\u001b[38;5;249mi\u001b[0m\u001b[38;5;249mn\u001b[0m\u001b[38;5;249mt\u001b[0m\u001b[38;5;249ml\u001b[0m\u001b[38;5;249mn\u001b[0m\u001b[38;5;249m!\u001b[0m\u001b[38;5;249m(\u001b[0m\u001b[38;5;249m\"\u001b[0m\u001b[38;5;249m{\u001b[0m\u001b[38;5;249m}\u001b[0m\u001b[38;5;249m\"\u001b[0m\u001b[38;5;249m,\u001b[0m\u001b[38;5;249m \u001b[0m\u001b[38;5;249ms\u001b[0m\u001b[38;5;249m1\u001b[0m\u001b[38;5;249m+\u001b[0m\u001b[38;5;54ms\u001b[0m\u001b[38;5;54m2\u001b[0m\u001b[38;5;249m)\u001b[0m\u001b[38;5;249m;\u001b[0m",
      " \u001b[38;5;240m  │\u001b[0m                   \u001b[38;5;100m┬\u001b[0m\u001b[38;5;54m┬\u001b[0m  ",
      " \u001b[38;5;240m  │\u001b[0m                   \u001b[38;5;100m╰\u001b[0m\u001b[38;5;100m─\u001b[0m\u001b[38;5;100m─\u001b[0m\u001b[38;5;100m─\u001b[0m help: consider borrowing here: `&`",
      " \u001b[38;5;240m  │\u001b[0m                    \u001b[38;5;54m│\u001b[0m  ",
      " \u001b[38;5;240m  │\u001b[0m                    \u001b[38;5;54m╰\u001b[0m\u001b[38;5;54m─\u001b[0m\u001b[38;5;54m─\u001b[0m expected `&str`, found `String`",
      "\u001b[38;5;246m───╯\u001b[0m"
     ]
    }
   ],
   "source": [
    "let s1 = \"String1\".to_string();\n",
    "let s2 = \"String2\".to_string();\n",
    "let s3 = \"str1\";\n",
    "let s4 = \"str2\";\n",
    "println!(\"{}\", s1+s2);"
   ]
  },
  {
   "cell_type": "code",
   "execution_count": 32,
   "id": "afea4b44",
   "metadata": {
    "cell_style": "center"
   },
   "outputs": [
    {
     "name": "stdout",
     "output_type": "stream",
     "text": [
      "String1str1\n"
     ]
    }
   ],
   "source": [
    "let s1 = \"String1\".to_string();\n",
    "let s2 = \"String2\".to_string();\n",
    "let s3 = \"str1\";\n",
    "let s4 = \"str2\";\n",
    "println!(\"{}\", s1+s3);\n",
    "\n",
    "\n",
    "\n",
    "\n",
    "\n",
    "\n"
   ]
  },
  {
   "cell_type": "code",
   "execution_count": 33,
   "id": "557f87e7",
   "metadata": {
    "cell_style": "center"
   },
   "outputs": [
    {
     "name": "stdout",
     "output_type": "stream",
     "text": [
      "String1String2\n"
     ]
    }
   ],
   "source": [
    "let s1 = \"String1\".to_string();\n",
    "let s2 = \"String2\".to_string();\n",
    "let s3 = \"str1\";\n",
    "let s4 = \"str2\";\n",
    "println!(\"{}\", s1+&s2);"
   ]
  },
  {
   "cell_type": "code",
   "execution_count": 34,
   "id": "d9248777",
   "metadata": {
    "cell_style": "center"
   },
   "outputs": [
    {
     "name": "stdout",
     "output_type": "stream",
     "text": [
      "str1String1\n"
     ]
    }
   ],
   "source": [
    "let s1 = \"String1\".to_string();\n",
    "let s2 = \"String2\".to_string();\n",
    "let s3 = \"str1\";\n",
    "let s4 = \"str2\";\n",
    "println!(\"{}\", s3.to_string()+&s1);"
   ]
  },
  {
   "cell_type": "code",
   "execution_count": null,
   "id": "e6ad131d",
   "metadata": {
    "cell_style": "center"
   },
   "outputs": [
    {
     "ename": "Error",
     "evalue": "cannot add `&str` to `str`",
     "output_type": "error",
     "traceback": [
      "\u001b[31m[E0369] Error:\u001b[0m cannot add `&str` to `str`",
      "   \u001b[38;5;246m╭\u001b[0m\u001b[38;5;246m─\u001b[0m\u001b[38;5;246m[\u001b[0mcommand_35:1:1\u001b[38;5;246m]\u001b[0m",
      "   \u001b[38;5;246m│\u001b[0m",
      " \u001b[38;5;246m5 │\u001b[0m \u001b[38;5;249mp\u001b[0m\u001b[38;5;249mr\u001b[0m\u001b[38;5;249mi\u001b[0m\u001b[38;5;249mn\u001b[0m\u001b[38;5;249mt\u001b[0m\u001b[38;5;249ml\u001b[0m\u001b[38;5;249mn\u001b[0m\u001b[38;5;249m!\u001b[0m\u001b[38;5;249m(\u001b[0m\u001b[38;5;249m\"\u001b[0m\u001b[38;5;249m{\u001b[0m\u001b[38;5;249m}\u001b[0m\u001b[38;5;249m\"\u001b[0m\u001b[38;5;249m,\u001b[0m\u001b[38;5;249m \u001b[0m\u001b[38;5;54m*\u001b[0m\u001b[38;5;54ms\u001b[0m\u001b[38;5;54m3\u001b[0m\u001b[38;5;68m+\u001b[0m\u001b[38;5;100ms\u001b[0m\u001b[38;5;100m4\u001b[0m\u001b[38;5;249m)\u001b[0m\u001b[38;5;249m;\u001b[0m",
      " \u001b[38;5;240m  │\u001b[0m                \u001b[38;5;54m─\u001b[0m\u001b[38;5;54m┬\u001b[0m\u001b[38;5;54m─\u001b[0m\u001b[38;5;68m┬\u001b[0m\u001b[38;5;100m─\u001b[0m\u001b[38;5;100m┬\u001b[0m  ",
      " \u001b[38;5;240m  │\u001b[0m                 \u001b[38;5;54m╰\u001b[0m\u001b[38;5;54m─\u001b[0m\u001b[38;5;54m─\u001b[0m\u001b[38;5;54m─\u001b[0m\u001b[38;5;54m─\u001b[0m\u001b[38;5;54m─\u001b[0m\u001b[38;5;54m─\u001b[0m str",
      " \u001b[38;5;240m  │\u001b[0m                   \u001b[38;5;68m│\u001b[0m \u001b[38;5;100m│\u001b[0m  ",
      " \u001b[38;5;240m  │\u001b[0m                   \u001b[38;5;68m╰\u001b[0m\u001b[38;5;68m─\u001b[0m\u001b[38;5;68m─\u001b[0m\u001b[38;5;68m─\u001b[0m\u001b[38;5;68m─\u001b[0m error: cannot add `&str` to `str`",
      " \u001b[38;5;240m  │\u001b[0m                     \u001b[38;5;100m│\u001b[0m  ",
      " \u001b[38;5;240m  │\u001b[0m                     \u001b[38;5;100m╰\u001b[0m\u001b[38;5;100m─\u001b[0m\u001b[38;5;100m─\u001b[0m &str",
      "\u001b[38;5;246m───╯\u001b[0m"
     ]
    }
   ],
   "source": [
    "let s1 = \"String1\".to_string();\n",
    "let s2 = \"String2\".to_string();\n",
    "let s3 = \"str1\";\n",
    "let s4 = \"str2\";\n",
    "println!(\"{}\", *s3+s4);"
   ]
  },
  {
   "cell_type": "code",
   "execution_count": null,
   "id": "b2a386e4",
   "metadata": {
    "cell_style": "center"
   },
   "outputs": [
    {
     "ename": "Error",
     "evalue": "cannot add `&str` to `&str`",
     "output_type": "error",
     "traceback": [
      "\u001b[31m[E0369] Error:\u001b[0m cannot add `&str` to `&str`",
      "   \u001b[38;5;246m╭\u001b[0m\u001b[38;5;246m─\u001b[0m\u001b[38;5;246m[\u001b[0mcommand_36:1:1\u001b[38;5;246m]\u001b[0m",
      "   \u001b[38;5;246m│\u001b[0m",
      " \u001b[38;5;246m5 │\u001b[0m \u001b[38;5;249mp\u001b[0m\u001b[38;5;249mr\u001b[0m\u001b[38;5;249mi\u001b[0m\u001b[38;5;249mn\u001b[0m\u001b[38;5;249mt\u001b[0m\u001b[38;5;249ml\u001b[0m\u001b[38;5;249mn\u001b[0m\u001b[38;5;249m!\u001b[0m\u001b[38;5;249m(\u001b[0m\u001b[38;5;249m\"\u001b[0m\u001b[38;5;249m{\u001b[0m\u001b[38;5;249m}\u001b[0m\u001b[38;5;249m\"\u001b[0m\u001b[38;5;249m,\u001b[0m\u001b[38;5;249m \u001b[0m\u001b[38;5;54ms\u001b[0m\u001b[38;5;54m3\u001b[0m\u001b[38;5;68m+\u001b[0m\u001b[38;5;100ms\u001b[0m\u001b[38;5;100m4\u001b[0m\u001b[38;5;249m)\u001b[0m\u001b[38;5;249m;\u001b[0m",
      " \u001b[38;5;240m  │\u001b[0m                \u001b[38;5;54m─\u001b[0m\u001b[38;5;54m┬\u001b[0m\u001b[38;5;68m┬\u001b[0m\u001b[38;5;100m─\u001b[0m\u001b[38;5;100m┬\u001b[0m  ",
      " \u001b[38;5;240m  │\u001b[0m                 \u001b[38;5;54m╰\u001b[0m\u001b[38;5;54m─\u001b[0m\u001b[38;5;54m─\u001b[0m\u001b[38;5;54m─\u001b[0m\u001b[38;5;54m─\u001b[0m\u001b[38;5;54m─\u001b[0m &str",
      " \u001b[38;5;240m  │\u001b[0m                  \u001b[38;5;68m│\u001b[0m \u001b[38;5;100m│\u001b[0m  ",
      " \u001b[38;5;240m  │\u001b[0m                  \u001b[38;5;68m╰\u001b[0m\u001b[38;5;68m─\u001b[0m\u001b[38;5;68m─\u001b[0m\u001b[38;5;68m─\u001b[0m\u001b[38;5;68m─\u001b[0m `+` cannot be used to concatenate two `&str` strings",
      " \u001b[38;5;240m  │\u001b[0m                  \u001b[38;5;37m│\u001b[0m \u001b[38;5;100m│\u001b[0m  ",
      " \u001b[38;5;240m  │\u001b[0m                  \u001b[38;5;37m╰\u001b[0m\u001b[38;5;37m─\u001b[0m\u001b[38;5;37m─\u001b[0m\u001b[38;5;37m─\u001b[0m\u001b[38;5;37m─\u001b[0m help: create an owned `String` from a string reference: `.to_owned()`",
      " \u001b[38;5;240m  │\u001b[0m                    \u001b[38;5;100m│\u001b[0m  ",
      " \u001b[38;5;240m  │\u001b[0m                    \u001b[38;5;100m╰\u001b[0m\u001b[38;5;100m─\u001b[0m\u001b[38;5;100m─\u001b[0m &str",
      "\u001b[38;5;246m───╯\u001b[0m"
     ]
    }
   ],
   "source": [
    "let s1 = \"String1\".to_string();\n",
    "let s2 = \"String2\".to_string();\n",
    "let s3 = \"str1\";\n",
    "let s4 = \"str2\";\n",
    "println!(\"{}\", s3+s4);"
   ]
  },
  {
   "cell_type": "markdown",
   "id": "4da2e062",
   "metadata": {
    "editable": true,
    "slideshow": {
     "slide_type": ""
    },
    "tags": []
   },
   "source": [
    "# 2. Lifetimes  ([Rust Programming Language §10.3](https://doc.rust-lang.org/book/ch10-03-lifetime-syntax.html))"
   ]
  },
  {
   "cell_type": "markdown",
   "id": "ef740772",
   "metadata": {
    "editable": true,
    "slideshow": {
     "slide_type": ""
    },
    "tags": []
   },
   "source": [
    "* Ensures references are valid as long as we need them to be\n"
   ]
  },
  {
   "cell_type": "code",
   "execution_count": 37,
   "id": "0677793d-d8e8-4913-bc56-2762ac3138a9",
   "metadata": {},
   "outputs": [
    {
     "name": "stdout",
     "output_type": "stream",
     "text": [
      "a is of type: i32\n",
      "b is of type: &i32\n"
     ]
    },
    {
     "data": {
      "text/plain": [
       "()"
      ]
     },
     "execution_count": 37,
     "metadata": {},
     "output_type": "execute_result"
    }
   ],
   "source": [
    "// References are a kind of type\n",
    "{\n",
    "let a = 32;\n",
    "println!(\"a is of type: {}\", type_of(a));\n",
    "let b = &a;\n",
    "println!(\"b is of type: {}\", type_of(b));\n",
    "}"
   ]
  },
  {
   "cell_type": "markdown",
   "id": "f41bd6a3-16a5-4c7d-bb4e-d133024c8527",
   "metadata": {},
   "source": [
    "* The goal is to enable Rust compiler to prevent __dangling references.__"
   ]
  },
  {
   "cell_type": "code",
   "execution_count": null,
   "id": "0d6562a6-afb7-46cb-a450-31f07c4d9cd6",
   "metadata": {},
   "outputs": [
    {
     "ename": "Error",
     "evalue": "`x` does not live long enough",
     "output_type": "error",
     "traceback": [
      "\u001b[31m[E0597] Error:\u001b[0m `x` does not live long enough",
      "   \u001b[38;5;246m╭\u001b[0m\u001b[38;5;246m─\u001b[0m\u001b[38;5;246m[\u001b[0mcommand_39:1:1\u001b[38;5;246m]\u001b[0m",
      "   \u001b[38;5;246m│\u001b[0m",
      " \u001b[38;5;246m5 │\u001b[0m \u001b[38;5;249m \u001b[0m\u001b[38;5;249m \u001b[0m\u001b[38;5;249m \u001b[0m\u001b[38;5;249m \u001b[0m\u001b[38;5;249ml\u001b[0m\u001b[38;5;249me\u001b[0m\u001b[38;5;249mt\u001b[0m\u001b[38;5;249m \u001b[0m\u001b[38;5;68mx\u001b[0m\u001b[38;5;249m \u001b[0m\u001b[38;5;249m=\u001b[0m\u001b[38;5;249m \u001b[0m\u001b[38;5;249m5\u001b[0m\u001b[38;5;249m;\u001b[0m",
      " \u001b[38;5;240m  │\u001b[0m         \u001b[38;5;68m┬\u001b[0m  ",
      " \u001b[38;5;240m  │\u001b[0m         \u001b[38;5;68m╰\u001b[0m\u001b[38;5;68m─\u001b[0m\u001b[38;5;68m─\u001b[0m binding `x` declared here",
      " \u001b[38;5;246m6 │\u001b[0m \u001b[38;5;249m \u001b[0m\u001b[38;5;249m \u001b[0m\u001b[38;5;249m \u001b[0m\u001b[38;5;249m \u001b[0m\u001b[38;5;249mr\u001b[0m\u001b[38;5;249m \u001b[0m\u001b[38;5;249m=\u001b[0m\u001b[38;5;249m \u001b[0m\u001b[38;5;54m&\u001b[0m\u001b[38;5;54mx\u001b[0m\u001b[38;5;249m;\u001b[0m",
      " \u001b[38;5;240m  │\u001b[0m         \u001b[38;5;54m─\u001b[0m\u001b[38;5;54m┬\u001b[0m  ",
      " \u001b[38;5;240m  │\u001b[0m          \u001b[38;5;54m╰\u001b[0m\u001b[38;5;54m─\u001b[0m\u001b[38;5;54m─\u001b[0m borrowed value does not live long enough",
      " \u001b[38;5;246m7 │\u001b[0m \u001b[38;5;100m}\u001b[0m",
      " \u001b[38;5;240m  │\u001b[0m \u001b[38;5;100m┬\u001b[0m  ",
      " \u001b[38;5;240m  │\u001b[0m \u001b[38;5;100m╰\u001b[0m\u001b[38;5;100m─\u001b[0m\u001b[38;5;100m─\u001b[0m `x` dropped here while still borrowed",
      " \u001b[38;5;240m  │\u001b[0m ",
      " \u001b[38;5;246m9 │\u001b[0m \u001b[38;5;249mp\u001b[0m\u001b[38;5;249mr\u001b[0m\u001b[38;5;249mi\u001b[0m\u001b[38;5;249mn\u001b[0m\u001b[38;5;249mt\u001b[0m\u001b[38;5;249ml\u001b[0m\u001b[38;5;249mn\u001b[0m\u001b[38;5;249m!\u001b[0m\u001b[38;5;249m(\u001b[0m\u001b[38;5;249m\"\u001b[0m\u001b[38;5;249mr\u001b[0m\u001b[38;5;249m:\u001b[0m\u001b[38;5;249m \u001b[0m\u001b[38;5;37m{\u001b[0m\u001b[38;5;37mr\u001b[0m\u001b[38;5;37m}\u001b[0m\u001b[38;5;249m\"\u001b[0m\u001b[38;5;249m)\u001b[0m\u001b[38;5;249m;\u001b[0m",
      " \u001b[38;5;240m  │\u001b[0m              \u001b[38;5;37m─\u001b[0m\u001b[38;5;37m┬\u001b[0m\u001b[38;5;37m─\u001b[0m  ",
      " \u001b[38;5;240m  │\u001b[0m               \u001b[38;5;37m╰\u001b[0m\u001b[38;5;37m─\u001b[0m\u001b[38;5;37m─\u001b[0m\u001b[38;5;37m─\u001b[0m borrow later used here",
      "\u001b[38;5;246m───╯\u001b[0m"
     ]
    }
   ],
   "source": [
    "{\n",
    "let r;\n",
    "\n",
    "{\n",
    "    let x = 5;\n",
    "    r = &x;\n",
    "}\n",
    "\n",
    "println!(\"r: {r}\");\n",
    "}"
   ]
  },
  {
   "cell_type": "markdown",
   "id": "ce9b2df5-a012-430e-914a-86429bc4aa7d",
   "metadata": {},
   "source": [
    "### The Rust Compiler _Borrow Checker_\n",
    "\n",
    "* Annotate the lifetimes of `r` and `x`.\n",
    "\n",
    "* Rust uses a special pattern `'a` (single quote followed by identifier)\n",
    "\n",
    "```rust\n",
    "fn main() {\n",
    "    let r;                // ---------+-- 'a\n",
    "                          //          |\n",
    "    {                     //          |\n",
    "        let x = 5;        // -+-- 'b  |\n",
    "        r = &x;           //  |       |\n",
    "    }                     // -+       |\n",
    "                          //          |\n",
    "    println!(\"r: {r}\");   //          |\n",
    "}                         // ---------+\n",
    "```\n",
    "\n",
    "* We can see that `x` goes out of scope before we use a reference, `r`, to `x`."
   ]
  },
  {
   "cell_type": "markdown",
   "id": "6a4b0cf3-67b2-4f40-8423-a8e3d3ee66f5",
   "metadata": {},
   "source": [
    "* We can can fix the scope so lifetimes overlap"
   ]
  },
  {
   "cell_type": "code",
   "execution_count": 40,
   "id": "1645454e-3dcd-4f16-8d8d-a6558bc05148",
   "metadata": {},
   "outputs": [
    {
     "name": "stdout",
     "output_type": "stream",
     "text": [
      "r: 5\n"
     ]
    },
    {
     "data": {
      "text/plain": [
       "()"
      ]
     },
     "execution_count": 40,
     "metadata": {},
     "output_type": "execute_result"
    }
   ],
   "source": [
    "{\n",
    "    let x = 5;            // ----------+-- 'b\n",
    "                          //           |\n",
    "    let r = &x;           // --+-- 'a  |\n",
    "                          //   |       |\n",
    "    println!(\"r: {r}\");   //   |       |\n",
    "                          // --+       |\n",
    "}                         // ----------+"
   ]
  },
  {
   "cell_type": "markdown",
   "id": "ae855a14-1708-4874-b536-c4ab849995a7",
   "metadata": {},
   "source": [
    "## Generic Lifetimes in Functions\n",
    "\n",
    "* Let's see an example of why we need to be able to specify lifetimes.\n",
    "\n",
    "* Say we want to compare to strings and pick the longest one\n",
    "\n",
    "```rust\n",
    "fn main() {\n",
    "    let string1 = String::from(\"abcd\");\n",
    "    let string2 = \"xyz\";\n",
    "\n",
    "    let result = longest(string1.as_str(), string2);\n",
    "    println!(\"The longest string is {result}\");\n",
    "}\n",
    "```"
   ]
  },
  {
   "cell_type": "code",
   "execution_count": null,
   "id": "1c1b443c-73bc-4e60-a5eb-84ca93b8d60f",
   "metadata": {},
   "outputs": [
    {
     "ename": "Error",
     "evalue": "missing lifetime specifier",
     "output_type": "error",
     "traceback": [
      "\u001b[31m[E0106] Error:\u001b[0m missing lifetime specifier",
      "   \u001b[38;5;246m╭\u001b[0m\u001b[38;5;246m─\u001b[0m\u001b[38;5;246m[\u001b[0mcommand_41:1:1\u001b[38;5;246m]\u001b[0m",
      "   \u001b[38;5;246m│\u001b[0m",
      " \u001b[38;5;246m2 │\u001b[0m \u001b[38;5;249mf\u001b[0m\u001b[38;5;249mn\u001b[0m\u001b[38;5;249m \u001b[0m\u001b[38;5;249ml\u001b[0m\u001b[38;5;249mo\u001b[0m\u001b[38;5;249mn\u001b[0m\u001b[38;5;249mg\u001b[0m\u001b[38;5;249me\u001b[0m\u001b[38;5;249ms\u001b[0m\u001b[38;5;249mt\u001b[0m\u001b[38;5;249m(\u001b[0m\u001b[38;5;249mx\u001b[0m\u001b[38;5;249m:\u001b[0m\u001b[38;5;249m \u001b[0m\u001b[38;5;249m&\u001b[0m\u001b[38;5;249ms\u001b[0m\u001b[38;5;249mt\u001b[0m\u001b[38;5;249mr\u001b[0m\u001b[38;5;249m,\u001b[0m\u001b[38;5;249m \u001b[0m\u001b[38;5;249my\u001b[0m\u001b[38;5;249m:\u001b[0m\u001b[38;5;249m \u001b[0m\u001b[38;5;249m&\u001b[0m\u001b[38;5;249ms\u001b[0m\u001b[38;5;249mt\u001b[0m\u001b[38;5;249mr\u001b[0m\u001b[38;5;249m)\u001b[0m\u001b[38;5;249m \u001b[0m\u001b[38;5;249m-\u001b[0m\u001b[38;5;249m>\u001b[0m\u001b[38;5;249m \u001b[0m\u001b[38;5;54m&\u001b[0m\u001b[38;5;249ms\u001b[0m\u001b[38;5;249mt\u001b[0m\u001b[38;5;249mr\u001b[0m\u001b[38;5;249m \u001b[0m\u001b[38;5;249m{\u001b[0m",
      " \u001b[38;5;240m  │\u001b[0m                                 \u001b[38;5;54m┬\u001b[0m  ",
      " \u001b[38;5;240m  │\u001b[0m                                 \u001b[38;5;54m╰\u001b[0m\u001b[38;5;54m─\u001b[0m\u001b[38;5;54m─\u001b[0m expected named lifetime parameter",
      "\u001b[38;5;246m───╯\u001b[0m"
     ]
    }
   ],
   "source": [
    "// compare two string slices and return reference to the longest\n",
    "fn longest(x: &str, y: &str) -> &str {\n",
    "    if x.len() > y.len() {\n",
    "        x\n",
    "    } else {\n",
    "        y\n",
    "    }\n",
    "}"
   ]
  },
  {
   "cell_type": "markdown",
   "id": "79d1f6f2-11dc-4f82-8131-9f1893b3d38d",
   "metadata": {},
   "source": [
    "* **Question:** Why is this a problem?\n",
    "\n",
    "<br><br><br>\n",
    "\n",
    "* **Answer:** We don't know which reference will be returned and so we can't know the lifetime of the return reference."
   ]
  },
  {
   "cell_type": "markdown",
   "id": "a207c586-26c2-4e4f-a2f0-22a7c822c8b4",
   "metadata": {},
   "source": [
    "## The Solution: Lifetime Annotation Syntax\n",
    "\n",
    "* names of lifetime parameters must start with an apostrophe (') and are usually all lowercase and very short, like generic types\n",
    "\n",
    "```rust\n",
    "&i32        // a reference with inferred lifetime\n",
    "&'a i32     // a reference with an explicit lifetime\n",
    "&'a mut i32 // a mutable reference with an explicit lifetime\n",
    "```\n",
    "\n",
    "* now we can annotate our function with lifetime"
   ]
  },
  {
   "cell_type": "code",
   "execution_count": 42,
   "id": "c7bf04e6-0d4f-4fbd-a91f-1a2b694f24e0",
   "metadata": {},
   "outputs": [],
   "source": [
    "fn longest<'a>(x: &'a str, y: &'a str) -> &'a str {\n",
    "    if x.len() > y.len() {\n",
    "        x\n",
    "    } else {\n",
    "        y\n",
    "    }\n",
    "}"
   ]
  },
  {
   "cell_type": "markdown",
   "id": "59a68c01-7406-441a-b85a-1996fc4610aa",
   "metadata": {},
   "source": [
    "### How to interpret the above code\n",
    "\n",
    "* we use the same syntax like we used for _generic types_, `fn longest<'a>(...`\n",
    "\n",
    "* For some lifetime `'a`, the two paramaters have lifetimes at least as long as `'a`, e.g. `(x: &'a str, y: &'a str)`\n",
    "\n",
    "* The returned string slice will have lifetime at least as long as `'a`, e.g. `-> &'a str`"
   ]
  },
  {
   "cell_type": "code",
   "execution_count": 43,
   "id": "2d6d3d9b-a660-40e1-bb07-90bb83f53c6c",
   "metadata": {},
   "outputs": [
    {
     "name": "stdout",
     "output_type": "stream",
     "text": [
      "The longest string is abcd\n"
     ]
    },
    {
     "data": {
      "text/plain": [
       "()"
      ]
     },
     "execution_count": 43,
     "metadata": {},
     "output_type": "execute_result"
    }
   ],
   "source": [
    "{\n",
    "    let string1 = String::from(\"abcd\");\n",
    "    let string2 = \"xyz\";\n",
    "\n",
    "    let result = longest(string1.as_str(), string2);\n",
    "    println!(\"The longest string is {result}\");\n",
    "}"
   ]
  },
  {
   "cell_type": "markdown",
   "id": "162e8a2b-1d27-4db7-beda-0a4b0e30d0f9",
   "metadata": {},
   "source": [
    "* Above is not an issue, because all lifetimes are the same."
   ]
  },
  {
   "cell_type": "code",
   "execution_count": 45,
   "id": "7ab06948-31c8-4c87-8e69-ae6f8fc5fba2",
   "metadata": {},
   "outputs": [
    {
     "name": "stdout",
     "output_type": "stream",
     "text": [
      "The longest string is long string is long\n"
     ]
    },
    {
     "data": {
      "text/plain": [
       "()"
      ]
     },
     "execution_count": 45,
     "metadata": {},
     "output_type": "execute_result"
    }
   ],
   "source": [
    "// this code is still fine\n",
    "{\n",
    "    let string1 = String::from(\"long string is long\");\n",
    "\n",
    "    {\n",
    "        let string2 = String::from(\"xyz\");\n",
    "        let result = longest(string1.as_str(), string2.as_str());\n",
    "        println!(\"The longest string is {result}\");\n",
    "    }\n",
    "}"
   ]
  },
  {
   "cell_type": "markdown",
   "id": "03ff5e0c-58d2-4195-9ea3-3441bf2d77b0",
   "metadata": {},
   "source": [
    "* Above is not an issue, because the returned reference is no longer than the shorter of the two args\n",
    "\n",
    "* But what about below?"
   ]
  },
  {
   "cell_type": "code",
   "execution_count": null,
   "id": "e5a6103a-d81c-4498-90f2-d37fd71f0ad1",
   "metadata": {},
   "outputs": [
    {
     "ename": "Error",
     "evalue": "`string2` does not live long enough",
     "output_type": "error",
     "traceback": [
      "\u001b[31m[E0597] Error:\u001b[0m `string2` does not live long enough",
      "   \u001b[38;5;246m╭\u001b[0m\u001b[38;5;246m─\u001b[0m\u001b[38;5;246m[\u001b[0mcommand_46:1:1\u001b[38;5;246m]\u001b[0m",
      "   \u001b[38;5;246m│\u001b[0m",
      " \u001b[38;5;246m5 │\u001b[0m \u001b[38;5;249m \u001b[0m\u001b[38;5;249m \u001b[0m\u001b[38;5;249m \u001b[0m\u001b[38;5;249m \u001b[0m\u001b[38;5;249m \u001b[0m\u001b[38;5;249m \u001b[0m\u001b[38;5;249m \u001b[0m\u001b[38;5;249m \u001b[0m\u001b[38;5;249ml\u001b[0m\u001b[38;5;249me\u001b[0m\u001b[38;5;249mt\u001b[0m\u001b[38;5;249m \u001b[0m\u001b[38;5;68ms\u001b[0m\u001b[38;5;68mt\u001b[0m\u001b[38;5;68mr\u001b[0m\u001b[38;5;68mi\u001b[0m\u001b[38;5;68mn\u001b[0m\u001b[38;5;68mg\u001b[0m\u001b[38;5;68m2\u001b[0m\u001b[38;5;249m \u001b[0m\u001b[38;5;249m=\u001b[0m\u001b[38;5;249m \u001b[0m\u001b[38;5;249mS\u001b[0m\u001b[38;5;249mt\u001b[0m\u001b[38;5;249mr\u001b[0m\u001b[38;5;249mi\u001b[0m\u001b[38;5;249mn\u001b[0m\u001b[38;5;249mg\u001b[0m\u001b[38;5;249m:\u001b[0m\u001b[38;5;249m:\u001b[0m\u001b[38;5;249mf\u001b[0m\u001b[38;5;249mr\u001b[0m\u001b[38;5;249mo\u001b[0m\u001b[38;5;249mm\u001b[0m\u001b[38;5;249m(\u001b[0m\u001b[38;5;249m\"\u001b[0m\u001b[38;5;249mx\u001b[0m\u001b[38;5;249my\u001b[0m\u001b[38;5;249mz\u001b[0m\u001b[38;5;249m\"\u001b[0m\u001b[38;5;249m)\u001b[0m\u001b[38;5;249m;\u001b[0m",
      " \u001b[38;5;240m  │\u001b[0m             \u001b[38;5;68m─\u001b[0m\u001b[38;5;68m─\u001b[0m\u001b[38;5;68m─\u001b[0m\u001b[38;5;68m┬\u001b[0m\u001b[38;5;68m─\u001b[0m\u001b[38;5;68m─\u001b[0m\u001b[38;5;68m─\u001b[0m  ",
      " \u001b[38;5;240m  │\u001b[0m                \u001b[38;5;68m╰\u001b[0m\u001b[38;5;68m─\u001b[0m\u001b[38;5;68m─\u001b[0m\u001b[38;5;68m─\u001b[0m\u001b[38;5;68m─\u001b[0m\u001b[38;5;68m─\u001b[0m binding `string2` declared here",
      " \u001b[38;5;246m6 │\u001b[0m \u001b[38;5;249m \u001b[0m\u001b[38;5;249m \u001b[0m\u001b[38;5;249m \u001b[0m\u001b[38;5;249m \u001b[0m\u001b[38;5;249m \u001b[0m\u001b[38;5;249m \u001b[0m\u001b[38;5;249m \u001b[0m\u001b[38;5;249m \u001b[0m\u001b[38;5;249mr\u001b[0m\u001b[38;5;249me\u001b[0m\u001b[38;5;249ms\u001b[0m\u001b[38;5;249mu\u001b[0m\u001b[38;5;249ml\u001b[0m\u001b[38;5;249mt\u001b[0m\u001b[38;5;249m \u001b[0m\u001b[38;5;249m=\u001b[0m\u001b[38;5;249m \u001b[0m\u001b[38;5;249ml\u001b[0m\u001b[38;5;249mo\u001b[0m\u001b[38;5;249mn\u001b[0m\u001b[38;5;249mg\u001b[0m\u001b[38;5;249me\u001b[0m\u001b[38;5;249ms\u001b[0m\u001b[38;5;249mt\u001b[0m\u001b[38;5;249m(\u001b[0m\u001b[38;5;249ms\u001b[0m\u001b[38;5;249mt\u001b[0m\u001b[38;5;249mr\u001b[0m\u001b[38;5;249mi\u001b[0m\u001b[38;5;249mn\u001b[0m\u001b[38;5;249mg\u001b[0m\u001b[38;5;249m1\u001b[0m\u001b[38;5;249m.\u001b[0m\u001b[38;5;249ma\u001b[0m\u001b[38;5;249ms\u001b[0m\u001b[38;5;249m_\u001b[0m\u001b[38;5;249ms\u001b[0m\u001b[38;5;249mt\u001b[0m\u001b[38;5;249mr\u001b[0m\u001b[38;5;249m(\u001b[0m\u001b[38;5;249m)\u001b[0m\u001b[38;5;249m,\u001b[0m\u001b[38;5;249m \u001b[0m\u001b[38;5;54ms\u001b[0m\u001b[38;5;54mt\u001b[0m\u001b[38;5;54mr\u001b[0m\u001b[38;5;54mi\u001b[0m\u001b[38;5;54mn\u001b[0m\u001b[38;5;54mg\u001b[0m\u001b[38;5;54m2\u001b[0m\u001b[38;5;249m.\u001b[0m\u001b[38;5;249ma\u001b[0m\u001b[38;5;249ms\u001b[0m\u001b[38;5;249m_\u001b[0m\u001b[38;5;249ms\u001b[0m\u001b[38;5;249mt\u001b[0m\u001b[38;5;249mr\u001b[0m\u001b[38;5;249m(\u001b[0m\u001b[38;5;249m)\u001b[0m\u001b[38;5;249m)\u001b[0m\u001b[38;5;249m;\u001b[0m",
      " \u001b[38;5;240m  │\u001b[0m                                            \u001b[38;5;54m─\u001b[0m\u001b[38;5;54m─\u001b[0m\u001b[38;5;54m─\u001b[0m\u001b[38;5;54m┬\u001b[0m\u001b[38;5;54m─\u001b[0m\u001b[38;5;54m─\u001b[0m\u001b[38;5;54m─\u001b[0m  ",
      " \u001b[38;5;240m  │\u001b[0m                                               \u001b[38;5;54m╰\u001b[0m\u001b[38;5;54m─\u001b[0m\u001b[38;5;54m─\u001b[0m\u001b[38;5;54m─\u001b[0m\u001b[38;5;54m─\u001b[0m\u001b[38;5;54m─\u001b[0m borrowed value does not live long enough",
      " \u001b[38;5;246m7 │\u001b[0m \u001b[38;5;249m \u001b[0m\u001b[38;5;249m \u001b[0m\u001b[38;5;249m \u001b[0m\u001b[38;5;249m \u001b[0m\u001b[38;5;100m}\u001b[0m",
      " \u001b[38;5;240m  │\u001b[0m     \u001b[38;5;100m┬\u001b[0m  ",
      " \u001b[38;5;240m  │\u001b[0m     \u001b[38;5;100m╰\u001b[0m\u001b[38;5;100m─\u001b[0m\u001b[38;5;100m─\u001b[0m `string2` dropped here while still borrowed",
      " \u001b[38;5;246m8 │\u001b[0m \u001b[38;5;249m \u001b[0m\u001b[38;5;249m \u001b[0m\u001b[38;5;249m \u001b[0m\u001b[38;5;249m \u001b[0m\u001b[38;5;249mp\u001b[0m\u001b[38;5;249mr\u001b[0m\u001b[38;5;249mi\u001b[0m\u001b[38;5;249mn\u001b[0m\u001b[38;5;249mt\u001b[0m\u001b[38;5;249ml\u001b[0m\u001b[38;5;249mn\u001b[0m\u001b[38;5;249m!\u001b[0m\u001b[38;5;249m(\u001b[0m\u001b[38;5;249m\"\u001b[0m\u001b[38;5;249mT\u001b[0m\u001b[38;5;249mh\u001b[0m\u001b[38;5;249me\u001b[0m\u001b[38;5;249m \u001b[0m\u001b[38;5;249ml\u001b[0m\u001b[38;5;249mo\u001b[0m\u001b[38;5;249mn\u001b[0m\u001b[38;5;249mg\u001b[0m\u001b[38;5;249me\u001b[0m\u001b[38;5;249ms\u001b[0m\u001b[38;5;249mt\u001b[0m\u001b[38;5;249m \u001b[0m\u001b[38;5;249ms\u001b[0m\u001b[38;5;249mt\u001b[0m\u001b[38;5;249mr\u001b[0m\u001b[38;5;249mi\u001b[0m\u001b[38;5;249mn\u001b[0m\u001b[38;5;249mg\u001b[0m\u001b[38;5;249m \u001b[0m\u001b[38;5;249mi\u001b[0m\u001b[38;5;249ms\u001b[0m\u001b[38;5;249m \u001b[0m\u001b[38;5;37m{\u001b[0m\u001b[38;5;37mr\u001b[0m\u001b[38;5;37me\u001b[0m\u001b[38;5;37ms\u001b[0m\u001b[38;5;37mu\u001b[0m\u001b[38;5;37ml\u001b[0m\u001b[38;5;37mt\u001b[0m\u001b[38;5;37m}\u001b[0m\u001b[38;5;249m\"\u001b[0m\u001b[38;5;249m)\u001b[0m\u001b[38;5;249m;\u001b[0m",
      " \u001b[38;5;240m  │\u001b[0m                                     \u001b[38;5;37m─\u001b[0m\u001b[38;5;37m─\u001b[0m\u001b[38;5;37m─\u001b[0m\u001b[38;5;37m─\u001b[0m\u001b[38;5;37m┬\u001b[0m\u001b[38;5;37m─\u001b[0m\u001b[38;5;37m─\u001b[0m\u001b[38;5;37m─\u001b[0m  ",
      " \u001b[38;5;240m  │\u001b[0m                                         \u001b[38;5;37m╰\u001b[0m\u001b[38;5;37m─\u001b[0m\u001b[38;5;37m─\u001b[0m\u001b[38;5;37m─\u001b[0m\u001b[38;5;37m─\u001b[0m\u001b[38;5;37m─\u001b[0m borrow later used here",
      "\u001b[38;5;246m───╯\u001b[0m"
     ]
    }
   ],
   "source": [
    "{\n",
    "    let string1 = String::from(\"long string is long\");\n",
    "    let result;\n",
    "    {\n",
    "        let string2 = String::from(\"xyz\");\n",
    "        result = longest(string1.as_str(), string2.as_str());\n",
    "    }\n",
    "    println!(\"The longest string is {result}\");\n",
    "}"
   ]
  },
  {
   "cell_type": "markdown",
   "id": "47cb239c-d696-460c-a248-0d052de1b907",
   "metadata": {},
   "source": [
    "* We're trying to use `result` after the shortest arg lifetime ended"
   ]
  },
  {
   "cell_type": "markdown",
   "id": "792cd37d-4253-429e-888e-d210adad565c",
   "metadata": {},
   "source": [
    "### Lifetime of return type must match lifetime of at least one parameter\n",
    "\n",
    "* This won't work"
   ]
  },
  {
   "cell_type": "code",
   "execution_count": null,
   "id": "c0594460-1439-4ed2-a764-8407b06021a2",
   "metadata": {},
   "outputs": [
    {
     "ename": "Error",
     "evalue": "cannot return value referencing local variable `result`",
     "output_type": "error",
     "traceback": [
      "\u001b[31m[E0515] Error:\u001b[0m cannot return value referencing local variable `result`",
      "   \u001b[38;5;246m╭\u001b[0m\u001b[38;5;246m─\u001b[0m\u001b[38;5;246m[\u001b[0mcommand_48:1:1\u001b[38;5;246m]\u001b[0m",
      "   \u001b[38;5;246m│\u001b[0m",
      " \u001b[38;5;246m3 │\u001b[0m \u001b[38;5;249m \u001b[0m\u001b[38;5;249m \u001b[0m\u001b[38;5;249m \u001b[0m\u001b[38;5;249m \u001b[0m\u001b[38;5;100mr\u001b[0m\u001b[38;5;100me\u001b[0m\u001b[38;5;100ms\u001b[0m\u001b[38;5;100mu\u001b[0m\u001b[38;5;100ml\u001b[0m\u001b[38;5;100mt\u001b[0m\u001b[38;5;54m.\u001b[0m\u001b[38;5;54ma\u001b[0m\u001b[38;5;54ms\u001b[0m\u001b[38;5;54m_\u001b[0m\u001b[38;5;54ms\u001b[0m\u001b[38;5;54mt\u001b[0m\u001b[38;5;54mr\u001b[0m\u001b[38;5;54m(\u001b[0m\u001b[38;5;54m)\u001b[0m",
      " \u001b[38;5;240m  │\u001b[0m     \u001b[38;5;100m─\u001b[0m\u001b[38;5;100m─\u001b[0m\u001b[38;5;100m─\u001b[0m\u001b[38;5;100m┬\u001b[0m\u001b[38;5;100m─\u001b[0m\u001b[38;5;100m─\u001b[0m\u001b[38;5;54m─\u001b[0m\u001b[38;5;54m┬\u001b[0m\u001b[38;5;54m─\u001b[0m\u001b[38;5;54m─\u001b[0m\u001b[38;5;54m─\u001b[0m\u001b[38;5;54m─\u001b[0m\u001b[38;5;54m─\u001b[0m\u001b[38;5;54m─\u001b[0m\u001b[38;5;54m─\u001b[0m  ",
      " \u001b[38;5;240m  │\u001b[0m        \u001b[38;5;100m╰\u001b[0m\u001b[38;5;100m─\u001b[0m\u001b[38;5;100m─\u001b[0m\u001b[38;5;100m─\u001b[0m\u001b[38;5;100m─\u001b[0m\u001b[38;5;100m─\u001b[0m\u001b[38;5;100m─\u001b[0m\u001b[38;5;100m─\u001b[0m\u001b[38;5;100m─\u001b[0m\u001b[38;5;100m─\u001b[0m\u001b[38;5;100m─\u001b[0m\u001b[38;5;100m─\u001b[0m\u001b[38;5;100m─\u001b[0m\u001b[38;5;100m─\u001b[0m `result` is borrowed here",
      " \u001b[38;5;240m  │\u001b[0m            \u001b[38;5;54m│\u001b[0m         ",
      " \u001b[38;5;240m  │\u001b[0m            \u001b[38;5;54m╰\u001b[0m\u001b[38;5;54m─\u001b[0m\u001b[38;5;54m─\u001b[0m\u001b[38;5;54m─\u001b[0m\u001b[38;5;54m─\u001b[0m\u001b[38;5;54m─\u001b[0m\u001b[38;5;54m─\u001b[0m\u001b[38;5;54m─\u001b[0m\u001b[38;5;54m─\u001b[0m\u001b[38;5;54m─\u001b[0m returns a value referencing data owned by the current function",
      "\u001b[38;5;246m───╯\u001b[0m"
     ]
    }
   ],
   "source": [
    "fn first_str<'a>(_x: &str, _y: &str) -> &'a str {\n",
    "    let result = String::from(\"really long string\");\n",
    "    result.as_str()\n",
    "}"
   ]
  },
  {
   "cell_type": "markdown",
   "id": "6aac7d2e-79b2-4c8c-af8d-b5c8064211bb",
   "metadata": {},
   "source": [
    "* Problem is the return reference is to `result` which gets dropped at end of function"
   ]
  },
  {
   "cell_type": "markdown",
   "id": "64893c4c-3865-4c3f-858b-15b7c2071d8b",
   "metadata": {},
   "source": [
    "## Lifetime Annotations in Struct Definitions\n",
    "\n",
    "* So far, we've only used structs that fully owned member types.\n",
    "\n",
    "* We can define structs to hold references, but then we need lifetime annotations"
   ]
  },
  {
   "cell_type": "code",
   "execution_count": 2,
   "id": "09da6eac-0af6-4bc7-b07e-591cedccd60c",
   "metadata": {},
   "outputs": [
    {
     "name": "stdout",
     "output_type": "stream",
     "text": [
      "ImportantExcerpt { part: \"Call me Ishmael\" }\n"
     ]
    },
    {
     "data": {
      "text/plain": [
       "()"
      ]
     },
     "execution_count": 2,
     "metadata": {},
     "output_type": "execute_result"
    }
   ],
   "source": [
    "#[derive(Debug)]\n",
    "struct ImportantExcerpt<'a> {\n",
    "    part: &'a str,\n",
    "}\n",
    "\n",
    "{\n",
    "    let novel = String::from(\"Call me Ishmael. Some years ago...\");\n",
    "    let first_sentence = novel.split('.').next().unwrap();\n",
    "    let i = ImportantExcerpt {\n",
    "        part: first_sentence,\n",
    "    };\n",
    "    println!(\"{:?}\", i);\n",
    "}"
   ]
  },
  {
   "cell_type": "markdown",
   "id": "187811e4-3971-40ef-8ddf-685f967fb18d",
   "metadata": {},
   "source": [
    "* An instance of `ImportantExcerpt` can't outlive the reference it holds in the `part` field."
   ]
  },
  {
   "cell_type": "markdown",
   "id": "fc6752d5-ab51-4fb3-a26e-259f9f26eeec",
   "metadata": {},
   "source": [
    "## Lifetime Elision\n",
    "\n",
    "```\n",
    "e·li·sion\n",
    "/əˈliZH(ə)n/\n",
    "noun\n",
    "\n",
    "the omission of a sound or syllable when speaking (as in I'm, let's, e ' en ).\n",
    "\n",
    "* an omission of a passage in a book, speech, or film.\n",
    "  \"the movie's elisions and distortions have been carefully thought out\"\n",
    "\n",
    "* the process of joining together or merging things, especially abstract ideas.\n",
    "  \"unease at the elision of so many vital questions\"\n",
    "```\n",
    "\n",
    "But why does this function compile without errors?"
   ]
  },
  {
   "cell_type": "code",
   "execution_count": 8,
   "id": "938a83a0-e61e-4ee3-9644-53c9c087a792",
   "metadata": {},
   "outputs": [],
   "source": [
    "fn first_word(s: &str) -> &str {\n",
    "    let bytes = s.as_bytes();\n",
    "\n",
    "    for (i, &item) in bytes.iter().enumerate() {\n",
    "        if item == b' ' {\n",
    "            return &s[0..i];\n",
    "        }\n",
    "    }\n",
    "\n",
    "    &s[..]\n",
    "}\n"
   ]
  },
  {
   "cell_type": "markdown",
   "id": "889c0bfd-d099-481d-aed8-35e275d8bcd5",
   "metadata": {},
   "source": [
    "Shouldn't we have to write?\n",
    "\n",
    "```rust\n",
    "fn first_word<'a>(s: &'a str) -> &'a str {\n",
    "```"
   ]
  },
  {
   "cell_type": "markdown",
   "id": "422207ba-e82a-4d2e-a32c-a4752447b292",
   "metadata": {},
   "source": [
    "The compiler developers decided that some patterns were so common and simple to infer that the\n",
    "compiler could just infer and automatically generate the lifetime specifications.\n",
    "\n",
    "* **input lifetimes:** lifetimes on function or method parameters\n",
    "\n",
    "* **output lifetimes:** lifetimes on return values"
   ]
  },
  {
   "cell_type": "markdown",
   "id": "472d6750-0da1-4112-963b-d76cba73ac98",
   "metadata": {},
   "source": [
    "### Three Rules for Compiler Lifetime Inference\n",
    "\n"
   ]
  },
  {
   "cell_type": "markdown",
   "id": "39120bf3-03dc-449d-9712-3890e950f8f8",
   "metadata": {},
   "source": [
    "#### First Rule\n",
    "\n",
    "Assign a lifetime parameter to each parameter that is a reference.\n",
    "\n",
    "```rust\n",
    "// function with one parameter\n",
    "fn foo<'a>(x: &'a i32);\n",
    "\n",
    "//a function with two parameters gets two separate lifetime parameters: \n",
    "fn foo<'a, 'b>(x: &'a i32, y: &'b i32);\n",
    "\n",
    "// and so on.\n",
    "```\n"
   ]
  },
  {
   "cell_type": "markdown",
   "id": "54092290-9e6c-438d-a285-33951b11eefb",
   "metadata": {},
   "source": [
    "#### Second Rule\n",
    "\n",
    "If there is exactly one input lifetime parameter, that lifetime is assigned to all output lifetime parameters\n",
    "\n",
    "```rust\n",
    "fn foo<'a>(x: &'a i32) -> &'a i32\n",
    "```\n"
   ]
  },
  {
   "cell_type": "markdown",
   "id": "4aa8a53e-ab43-4c75-b3f8-352c27e119aa",
   "metadata": {},
   "source": [
    "#### Third Rule -- Methods\n",
    "\n",
    "If there are multiple input lifetime parameters, but one of them is `&self` or `&mut self` because this is a **method**, the lifetime of self is assigned to all output lifetime parameters. \n"
   ]
  },
  {
   "cell_type": "markdown",
   "id": "226790c2-d0f6-4688-97ec-5829777d171a",
   "metadata": {},
   "source": [
    "#### Let's Test Our Understanding\n",
    "\n",
    "You're the compiler and you see this function.\n",
    "\n",
    "```rust\n",
    "fn first_word(s: &str) -> &str {\n",
    "```\n",
    "\n",
    "Do any rules apply? which one would you apply first?\n",
    "<br><br><br>"
   ]
  },
  {
   "cell_type": "markdown",
   "id": "ff7ba7bf-29db-476b-a741-0dbb02d8706c",
   "metadata": {},
   "source": [
    "First rule. Apply input lifetime annotations.\n",
    "\n",
    "```rust\n",
    "fn first_word<'a>(s: &'a str) -> &str {\n",
    "```\n",
    "<br><br><br>"
   ]
  },
  {
   "cell_type": "markdown",
   "id": "02f3767e-7d6a-4088-b53d-9d90c90a10a1",
   "metadata": {},
   "source": [
    "Second rule. Apply output lifetime annotation.\n",
    "\n",
    "```rust\n",
    "fn first_word<'a>(s: &'a str) -> &'a str {\n",
    "```\n",
    "<br><br>"
   ]
  },
  {
   "cell_type": "markdown",
   "id": "aac2de72-4718-4dfb-baa9-2b6eaa123d57",
   "metadata": {},
   "source": [
    "#### Test Our Understanding Again\n",
    "\n",
    "What about if you see this function signature?\n",
    "\n",
    "```rust\n",
    "fn longest(x: &str, y: &str) -> &str {\n",
    "```\n",
    "<br><br><br>"
   ]
  },
  {
   "cell_type": "markdown",
   "id": "6c211861-db1a-4788-bb78-37751e7246d7",
   "metadata": {},
   "source": [
    "We can apply first rule again. Each parameter gets it's own lifetime.\n",
    "\n",
    "```rust\n",
    "fn longest<'a, 'b>(x: &'a str, y: &'b str) -> &str {\n",
    "```\n",
    "Can we apply anymore rules?\n",
    "<br><br><br>\n",
    "No. Produce a compiler error asking for annotations."
   ]
  },
  {
   "cell_type": "markdown",
   "id": "0503d077-6e3a-49a8-93cc-77f504c592c9",
   "metadata": {},
   "source": [
    "### Lifetime Annotations in Method Definitions\n",
    "\n",
    "Let's take a look at the third rule again:\n",
    "\n",
    "> If there are multiple input lifetime parameters, but one of them is `&self` or `&mut self` because this is a **method**, the lifetime of self is assigned to all output lifetime parameters.\n",
    "\n",
    "Previously, we defined a struct with a field that takes a string slice reference."
   ]
  },
  {
   "cell_type": "code",
   "execution_count": null,
   "id": "7a89c253-56e7-4591-a7d9-84321eb6007e",
   "metadata": {},
   "outputs": [],
   "source": [
    "#[derive(Debug)]\n",
    "struct ImportantExcerpt<'a> {\n",
    "    part: &'a str,\n",
    "}"
   ]
  },
  {
   "cell_type": "markdown",
   "id": "701c7056-ff56-4bb1-bec2-06007098d74c",
   "metadata": {},
   "source": [
    "For implementation, `impl` of methods, we use the generics style annotation, which is required.\n",
    "\n",
    "But we don't have to annotate the following method. The **First Rule** applies."
   ]
  },
  {
   "cell_type": "code",
   "execution_count": null,
   "id": "771c923f-9244-4237-a9e8-2a78c73f0fc5",
   "metadata": {},
   "outputs": [],
   "source": [
    "impl<'a> ImportantExcerpt<'a> {\n",
    "    fn level(&self) -> i32 {\n",
    "        3\n",
    "    }\n",
    "}\n"
   ]
  },
  {
   "cell_type": "markdown",
   "id": "15218bae-3542-4fc1-bb03-686330a09d93",
   "metadata": {},
   "source": [
    "For the following method..."
   ]
  },
  {
   "cell_type": "code",
   "execution_count": null,
   "id": "d8e347e1-3049-4670-8a2c-8d34bbeda2fc",
   "metadata": {},
   "outputs": [],
   "source": [
    "impl<'a> ImportantExcerpt<'a> {\n",
    "    fn announce_and_return_part(&self, announcement: &str) -> &str {\n",
    "        println!(\"Attention please: {announcement}\");\n",
    "        self.part\n",
    "    }\n",
    "}\n"
   ]
  },
  {
   "cell_type": "markdown",
   "id": "cbf78a9e-7474-4283-bc55-ae5c9b526e18",
   "metadata": {},
   "source": [
    "There are two input lifetimes so:\n",
    "\n",
    "* Rust applies the first lifetime elision rule and gives both `&self` and announcement their own lifetimes.\n",
    "\n",
    "* Then, because one of the parameters is `&self`, the return type gets the lifetime of `&self`, and all lifetimes have been accounted for."
   ]
  },
  {
   "cell_type": "markdown",
   "id": "18960678-db6e-43ce-aa48-17e8c93b7ac8",
   "metadata": {},
   "source": [
    "## The Static Lifetime\n",
    "\n",
    "* a special lifetime designation\n",
    "\n",
    "* lives for the entire duration of the program"
   ]
  },
  {
   "cell_type": "code",
   "execution_count": 17,
   "id": "33d5d2bf-1dd7-4cb0-8e12-37b4289e579b",
   "metadata": {},
   "outputs": [],
   "source": [
    "let s: &'static str = \"I have a static lifetime.\";"
   ]
  },
  {
   "cell_type": "markdown",
   "id": "24799219-e0ec-45f8-8441-e800630e0212",
   "metadata": {},
   "source": [
    "* use only if necessary\n",
    "\n",
    "* manage lifetimes more fine grained if at all possible\n",
    "\n",
    "For more, see for example:\n",
    "- https://doc.rust-lang.org/rust-by-example/scope/lifetime/static_lifetime.html"
   ]
  },
  {
   "cell_type": "markdown",
   "id": "5669ff73-07b4-4b40-89af-c58fc75340ab",
   "metadata": {},
   "source": [
    "## Combining Lifetimes with Generics and Trait Bounds\n",
    "\n",
    "Let's look at an example that combines:\n",
    "- lifetimes\n",
    "- generics with trait bounds"
   ]
  },
  {
   "cell_type": "code",
   "execution_count": 18,
   "id": "b3c0a794-34c2-4889-af11-2da58635b340",
   "metadata": {},
   "outputs": [],
   "source": [
    "use std::fmt::Display;\n",
    "\n",
    "fn longest_with_an_announcement<'a, T>(\n",
    "    x: &'a str,\n",
    "    y: &'a str,\n",
    "    ann: T,\n",
    ") -> &'a str\n",
    "where\n",
    "    T: Display,  // T must implement the Display trait\n",
    "{\n",
    "    println!(\"Announcement! {ann}\");\n",
    "    if x.len() > y.len() {\n",
    "        x\n",
    "    } else {\n",
    "        y\n",
    "    }\n",
    "}"
   ]
  },
  {
   "cell_type": "markdown",
   "id": "f1fbf708-4be8-40fa-966e-d04a67ce81f7",
   "metadata": {},
   "source": [
    "* And let's execute the code:"
   ]
  },
  {
   "cell_type": "code",
   "execution_count": 23,
   "id": "352cadf1-1b0c-4ba8-9b9b-b2177c072751",
   "metadata": {},
   "outputs": [
    {
     "name": "stdout",
     "output_type": "stream",
     "text": [
      "Announcement! Hear ye! Hear ye!\n",
      "The longest string is longer\n"
     ]
    },
    {
     "data": {
      "text/plain": [
       "()"
      ]
     },
     "execution_count": 23,
     "metadata": {},
     "output_type": "execute_result"
    }
   ],
   "source": [
    "{\n",
    "    let string1 = String::from(\"short\");\n",
    "    let string2 = \"longer\";\n",
    "\n",
    "    let result = longest_with_an_announcement(string1.as_str(), string2, \"Hear ye! Hear ye!\");\n",
    "    println!(\"The longest string is {result}\");\n",
    "}"
   ]
  },
  {
   "cell_type": "markdown",
   "id": "0646d124-7b44-484d-967b-628ccd6286fa",
   "metadata": {},
   "source": [
    "Let's break down the function declaration:\n",
    "\n",
    "```rust\n",
    "fn longest_with_an_announcement<'a, T>(\n",
    "    x: &'a str,\n",
    "    y: &'a str,\n",
    "    ann: T,\n",
    ") -> &'a str\n",
    "where\n",
    "    T: Display,   // T must implement the Display trait\n",
    "```\n",
    "\n",
    "- It has two generic parameters:\n",
    "    - `'a`: A lifetime parameter\n",
    "    - `T`: A type parameter\n",
    "- It takes three arguments:\n",
    "    - `x`: A string slice with lifetime `'a`\n",
    "    - `y`: A string slice with lifetime `'a`\n",
    "    - `ann`: A value of generic type `T`\n",
    "- Returns a string slice with lifetime `'a`\n",
    "- The `where` clause specifies that type `T` must implement the `Display` trait"
   ]
  },
  {
   "cell_type": "markdown",
   "id": "46d1366e-314d-4bc1-84a1-8fb69f8d8dfe",
   "metadata": {},
   "source": [
    "\n",
    "---\n"
   ]
  },
  {
   "cell_type": "markdown",
   "id": "31bb26bc",
   "metadata": {},
   "source": [
    "# 3. Closures (anonymous functions)"
   ]
  },
  {
   "cell_type": "markdown",
   "id": "796eeaeb",
   "metadata": {
    "slideshow": {
     "slide_type": "slide"
    }
   },
   "source": [
    "* Closures are anonymous functions you can:\n",
    "    * save in a variable, or\n",
    "    * pass as arguments to other functions\n",
    "\n",
    "We have seen them before in Python (as lambda functions):\n",
    "\n",
    "```Python\n",
    ">>> x = lambda a, b: a * b\n",
    ">>> print(x(5,6))\n",
    "30\n",
    "```\n"
   ]
  },
  {
   "cell_type": "markdown",
   "id": "76ed4839",
   "metadata": {
    "slideshow": {
     "slide_type": "fragment"
    }
   },
   "source": [
    "In Rust (with implicit or explicit type specification):\n",
    "```\n",
    "|a, b| a * b\n",
    "|a: i32, b: i32| -> i32 {a * b}\n",
    "```"
   ]
  },
  {
   "cell_type": "markdown",
   "id": "a414d2cf-033b-4d1b-b098-24688d78a572",
   "metadata": {},
   "source": [
    "## Basic Closure Syntax\n",
    "\n",
    "* types are inferred"
   ]
  },
  {
   "cell_type": "code",
   "execution_count": 6,
   "id": "828c9684-1e40-47e9-b34c-373b28d8db8b",
   "metadata": {},
   "outputs": [
    {
     "name": "stdout",
     "output_type": "stream",
     "text": [
      "Basic closure: 5 + 3 = 8\n"
     ]
    },
    {
     "data": {
      "text/plain": [
       "()"
      ]
     },
     "execution_count": 6,
     "metadata": {},
     "output_type": "execute_result"
    }
   ],
   "source": [
    "{\n",
    "    // Example 1: Basic closure syntax\n",
    "    let add = |x, y| x + y;\n",
    "    println!(\"Basic closure: 5 + 3 = {}\", add(5, 3));\n",
    "}"
   ]
  },
  {
   "cell_type": "markdown",
   "id": "10a247f6-c693-4125-bc05-b75b882a813f",
   "metadata": {},
   "source": [
    "* But once inferred, the type cannot change."
   ]
  },
  {
   "cell_type": "code",
   "execution_count": null,
   "id": "96912162-1653-47fa-979c-ff58950fd31f",
   "metadata": {},
   "outputs": [
    {
     "ename": "Error",
     "evalue": "mismatched types",
     "output_type": "error",
     "traceback": [
      "\u001b[31m[E0308] Error:\u001b[0m mismatched types",
      "   \u001b[38;5;246m╭\u001b[0m\u001b[38;5;246m─\u001b[0m\u001b[38;5;246m[\u001b[0mcommand_22:1:1\u001b[38;5;246m]\u001b[0m",
      "   \u001b[38;5;246m│\u001b[0m",
      " \u001b[38;5;246m2 │\u001b[0m \u001b[38;5;249m \u001b[0m\u001b[38;5;249m \u001b[0m\u001b[38;5;249m \u001b[0m\u001b[38;5;249m \u001b[0m\u001b[38;5;249ml\u001b[0m\u001b[38;5;249me\u001b[0m\u001b[38;5;249mt\u001b[0m\u001b[38;5;249m \u001b[0m\u001b[38;5;249me\u001b[0m\u001b[38;5;249mx\u001b[0m\u001b[38;5;249ma\u001b[0m\u001b[38;5;249mm\u001b[0m\u001b[38;5;249mp\u001b[0m\u001b[38;5;249ml\u001b[0m\u001b[38;5;249me\u001b[0m\u001b[38;5;249m_\u001b[0m\u001b[38;5;249mc\u001b[0m\u001b[38;5;249ml\u001b[0m\u001b[38;5;249mo\u001b[0m\u001b[38;5;249ms\u001b[0m\u001b[38;5;249mu\u001b[0m\u001b[38;5;249mr\u001b[0m\u001b[38;5;249me\u001b[0m\u001b[38;5;249m \u001b[0m\u001b[38;5;249m=\u001b[0m\u001b[38;5;249m \u001b[0m\u001b[38;5;249m|\u001b[0m\u001b[38;5;68mx\u001b[0m\u001b[38;5;249m|\u001b[0m\u001b[38;5;249m \u001b[0m\u001b[38;5;249mx\u001b[0m\u001b[38;5;249m;\u001b[0m",
      " \u001b[38;5;240m  │\u001b[0m                            \u001b[38;5;68m┬\u001b[0m  ",
      " \u001b[38;5;240m  │\u001b[0m                            \u001b[38;5;68m╰\u001b[0m\u001b[38;5;68m─\u001b[0m\u001b[38;5;68m─\u001b[0m note: closure parameter defined here",
      " \u001b[38;5;240m  │\u001b[0m ",
      " \u001b[38;5;246m5 │\u001b[0m \u001b[38;5;249m \u001b[0m\u001b[38;5;249m \u001b[0m\u001b[38;5;249m \u001b[0m\u001b[38;5;249m \u001b[0m\u001b[38;5;249ml\u001b[0m\u001b[38;5;249me\u001b[0m\u001b[38;5;249mt\u001b[0m\u001b[38;5;249m \u001b[0m\u001b[38;5;249mn\u001b[0m\u001b[38;5;249m \u001b[0m\u001b[38;5;249m=\u001b[0m\u001b[38;5;249m \u001b[0m\u001b[38;5;100me\u001b[0m\u001b[38;5;100mx\u001b[0m\u001b[38;5;100ma\u001b[0m\u001b[38;5;100mm\u001b[0m\u001b[38;5;100mp\u001b[0m\u001b[38;5;100ml\u001b[0m\u001b[38;5;100me\u001b[0m\u001b[38;5;100m_\u001b[0m\u001b[38;5;100mc\u001b[0m\u001b[38;5;100ml\u001b[0m\u001b[38;5;100mo\u001b[0m\u001b[38;5;100ms\u001b[0m\u001b[38;5;100mu\u001b[0m\u001b[38;5;100mr\u001b[0m\u001b[38;5;100me\u001b[0m\u001b[38;5;249m(\u001b[0m\u001b[38;5;54m5\u001b[0m\u001b[38;5;249m)\u001b[0m\u001b[38;5;249m;\u001b[0m",
      " \u001b[38;5;240m  │\u001b[0m             \u001b[38;5;100m─\u001b[0m\u001b[38;5;100m─\u001b[0m\u001b[38;5;100m─\u001b[0m\u001b[38;5;100m─\u001b[0m\u001b[38;5;100m─\u001b[0m\u001b[38;5;100m─\u001b[0m\u001b[38;5;100m─\u001b[0m\u001b[38;5;100m┬\u001b[0m\u001b[38;5;100m─\u001b[0m\u001b[38;5;100m─\u001b[0m\u001b[38;5;100m─\u001b[0m\u001b[38;5;100m─\u001b[0m\u001b[38;5;100m─\u001b[0m\u001b[38;5;100m─\u001b[0m\u001b[38;5;100m─\u001b[0m \u001b[38;5;54m┬\u001b[0m\u001b[38;5;37m│\u001b[0m ",
      " \u001b[38;5;240m  │\u001b[0m                    \u001b[38;5;100m╰\u001b[0m\u001b[38;5;100m─\u001b[0m\u001b[38;5;100m─\u001b[0m\u001b[38;5;100m─\u001b[0m\u001b[38;5;100m─\u001b[0m\u001b[38;5;100m─\u001b[0m\u001b[38;5;100m─\u001b[0m\u001b[38;5;100m─\u001b[0m\u001b[38;5;100m─\u001b[0m\u001b[38;5;100m─\u001b[0m\u001b[38;5;100m─\u001b[0m\u001b[38;5;100m─\u001b[0m arguments to this function are incorrect",
      " \u001b[38;5;240m  │\u001b[0m                             \u001b[38;5;54m│\u001b[0m\u001b[38;5;37m│\u001b[0m ",
      " \u001b[38;5;240m  │\u001b[0m                             \u001b[38;5;54m╰\u001b[0m\u001b[38;5;54m─\u001b[0m\u001b[38;5;54m─\u001b[0m expected `String`, found integer",
      " \u001b[38;5;240m  │\u001b[0m                              \u001b[38;5;37m│\u001b[0m ",
      " \u001b[38;5;240m  │\u001b[0m                              \u001b[38;5;37m╰\u001b[0m\u001b[38;5;37m─\u001b[0m help: try using a conversion method: `.to_string()`",
      "\u001b[38;5;246m───╯\u001b[0m"
     ]
    }
   ],
   "source": [
    "{\n",
    "    let example_closure = |x| x;\n",
    "\n",
    "    let s = example_closure(String::from(\"hello\"));\n",
    "    let n = example_closure(5);\n",
    "}"
   ]
  },
  {
   "cell_type": "markdown",
   "id": "15cf100d-29ab-4677-854d-72467f40215f",
   "metadata": {},
   "source": [
    "## Basic Closure Syntax with Explicit Types\n",
    "\n",
    "* Type annotations in closures are _optional_ unlike in functions.\n",
    "\n",
    "* Required in functions because those are interfaces exposed to users.\n",
    "\n",
    "For comparison:\n",
    "\n",
    "```rust\n",
    "fn  add_one_v1   (x: u32) -> u32 { x + 1 }  // function\n",
    "let add_one_v2 = |x: u32| -> u32 { x + 1 }; // closures...\n",
    "let add_one_v3 = |x|             { x + 1 }; // ... remove types\n",
    "let add_one_v4 = |x|               x + 1  ; // ... remove brackets\n",
    "```"
   ]
  },
  {
   "cell_type": "code",
   "execution_count": 7,
   "id": "b9543bbe-9132-4ffd-8a6c-1ea72248b22c",
   "metadata": {},
   "outputs": [
    {
     "name": "stdout",
     "output_type": "stream",
     "text": [
      "Basic closure: 5 + 3 = 8\n"
     ]
    },
    {
     "data": {
      "text/plain": [
       "()"
      ]
     },
     "execution_count": 7,
     "metadata": {},
     "output_type": "execute_result"
    }
   ],
   "source": [
    "{\n",
    "    // Example 2: Basic closure syntax with explicit types\n",
    "    let add = |x: i32, y: i32| -> i32 {x + y};\n",
    "    println!(\"Basic closure: 5 + 3 = {}\", add(5, 3));\n",
    "}"
   ]
  },
  {
   "cell_type": "markdown",
   "id": "e96dbbe8-774a-45d4-9483-827c34fd7837",
   "metadata": {},
   "source": [
    "## Closure Capturing a Variable from the Environment\n",
    "\n",
    "Note how `multiplier` is used from the environment."
   ]
  },
  {
   "cell_type": "code",
   "execution_count": 9,
   "id": "f3da987a-f020-4c07-87cd-dc6d7695cab2",
   "metadata": {},
   "outputs": [
    {
     "name": "stdout",
     "output_type": "stream",
     "text": [
      "Closure with captured variable: 4 * 2 = 8\n"
     ]
    },
    {
     "data": {
      "text/plain": [
       "()"
      ]
     },
     "execution_count": 9,
     "metadata": {},
     "output_type": "execute_result"
    }
   ],
   "source": [
    "{\n",
    "    // Example 3: Closure capturing a variable from environment\n",
    "    let multiplier = 2;\n",
    "    let multiply = |x| x * multiplier;\n",
    "    println!(\"Closure with captured variable: 4 * {} = {}\", multiplier, multiply(4));\n",
    "}"
   ]
  },
  {
   "cell_type": "markdown",
   "id": "b040e6ee-bfd6-4044-9518-2a345c946134",
   "metadata": {},
   "source": [
    "## Closure with Multiple Statements\n"
   ]
  },
  {
   "cell_type": "code",
   "execution_count": 21,
   "id": "688a5f47-b0e5-43d1-b8d4-33b1cb9ecbde",
   "metadata": {},
   "outputs": [
    {
     "name": "stdout",
     "output_type": "stream",
     "text": [
      "Multi-statement closure: process(3) = 7\n"
     ]
    },
    {
     "data": {
      "text/plain": [
       "()"
      ]
     },
     "execution_count": 21,
     "metadata": {},
     "output_type": "execute_result"
    }
   ],
   "source": [
    "{\n",
    "    // Example 4: Closure with multiple statements\n",
    "    let process = |x: i32| {\n",
    "        let doubled = x * 2;\n",
    "        doubled + 1\n",
    "    };\n",
    "    println!(\"Multi-statement closure: process(3) = {}\", process(3));\n",
    "}"
   ]
  },
  {
   "cell_type": "markdown",
   "id": "76ab0c16",
   "metadata": {},
   "source": [
    "### Digression -- You can assign regular functions to variable as well"
   ]
  },
  {
   "cell_type": "code",
   "execution_count": 11,
   "id": "4a3f5bba",
   "metadata": {},
   "outputs": [
    {
     "name": "stdout",
     "output_type": "stream",
     "text": [
      "4\n"
     ]
    },
    {
     "data": {
      "text/plain": [
       "()"
      ]
     },
     "execution_count": 11,
     "metadata": {},
     "output_type": "execute_result"
    }
   ],
   "source": [
    "{\n",
    "    fn median2(arr: &mut [i32]) -> i32 {\n",
    "        arr.sort();\n",
    "        println!(\"{}\", arr[2]);\n",
    "        arr[2]\n",
    "    }\n",
    "\n",
    "    let f = median2;\n",
    "    f(&mut [1,4,5,6,4]);\n",
    "}"
   ]
  },
  {
   "cell_type": "markdown",
   "id": "da5ee273",
   "metadata": {
    "slideshow": {
     "slide_type": "slide"
    }
   },
   "source": [
    "## Sample application: lazy evaluation of a value\n",
    "Compute a value only if needed"
   ]
  },
  {
   "cell_type": "code",
   "execution_count": 12,
   "id": "27e15b24",
   "metadata": {},
   "outputs": [],
   "source": [
    "// What does it compute?\n",
    "fn expensive_function(i:u32) -> u128 {\n",
    "    if i <= 1 {\n",
    "        i as u128\n",
    "    } else {\n",
    "        expensive_function(i-1) + expensive_function(i-2)\n",
    "    }\n",
    "}"
   ]
  },
  {
   "cell_type": "code",
   "execution_count": 13,
   "id": "3e16ba17",
   "metadata": {},
   "outputs": [
    {
     "data": {
      "text/plain": [
       "701408733"
      ]
     },
     "execution_count": 13,
     "metadata": {},
     "output_type": "execute_result"
    }
   ],
   "source": [
    "expensive_function(44)"
   ]
  },
  {
   "cell_type": "code",
   "execution_count": 14,
   "id": "134304c6",
   "metadata": {
    "slideshow": {
     "slide_type": "fragment"
    }
   },
   "outputs": [],
   "source": [
    "// This function always computes expensive_function(44), even if not needed.\n",
    "// Method unwrap_or takes a default value as a parameter.\n",
    "fn value_or_fib44(input:Option<u128>) -> u128 {\n",
    "    input.unwrap_or(expensive_function(44))\n",
    "}"
   ]
  },
  {
   "cell_type": "code",
   "execution_count": 15,
   "id": "d941aa36",
   "metadata": {
    "cell_style": "split"
   },
   "outputs": [
    {
     "name": "stdout",
     "output_type": "stream",
     "text": [
      "701408733 1708\n"
     ]
    }
   ],
   "source": [
    "use std::time::SystemTime;\n",
    "let d = SystemTime::now();\n",
    "// slow\n",
    "let ret = value_or_fib44(None);\n",
    "let elapsed = d.elapsed().unwrap().as_millis();\n",
    "println!(\"{} {}\",ret, elapsed);"
   ]
  },
  {
   "cell_type": "code",
   "execution_count": 16,
   "id": "145f4d9b",
   "metadata": {
    "cell_style": "split"
   },
   "outputs": [
    {
     "name": "stdout",
     "output_type": "stream",
     "text": [
      "123 1699\n"
     ]
    }
   ],
   "source": [
    "let d = SystemTime::now();\n",
    "// slow\n",
    "let ret = value_or_fib44(Some(123));\n",
    "let elapsed = d.elapsed().unwrap().as_millis();\n",
    "println!(\"{} {}\", ret, elapsed);"
   ]
  },
  {
   "cell_type": "markdown",
   "id": "c9c1452b",
   "metadata": {
    "slideshow": {
     "slide_type": "slide"
    }
   },
   "source": [
    "## Sample application: lazy evaluation of a value\n",
    "Compute a value only if needed"
   ]
  },
  {
   "cell_type": "code",
   "execution_count": 17,
   "id": "ff673d52",
   "metadata": {
    "slideshow": {
     "slide_type": ""
    }
   },
   "outputs": [],
   "source": [
    "// This function computes expensive_function(44) only if needed.\n",
    "// Method unwrap_or_else's parameter is a function that computes\n",
    "// the default value, not the default value itself. \n",
    "fn value_or_fib44_version_2(input:Option<u128>) -> u128 {\n",
    "    input.unwrap_or_else(|| expensive_function(44))\n",
    "}"
   ]
  },
  {
   "cell_type": "code",
   "execution_count": 18,
   "id": "561580cc",
   "metadata": {
    "cell_style": "split"
   },
   "outputs": [
    {
     "name": "stdout",
     "output_type": "stream",
     "text": [
      "1751\n"
     ]
    }
   ],
   "source": [
    "// slow\n",
    "let d = SystemTime::now();\n",
    "value_or_fib44_version_2(None);\n",
    "let elapsed = d.elapsed().unwrap().as_millis();\n",
    "println!(\"{}\", elapsed);"
   ]
  },
  {
   "cell_type": "code",
   "execution_count": 19,
   "id": "b344d3be",
   "metadata": {
    "cell_style": "split"
   },
   "outputs": [
    {
     "name": "stdout",
     "output_type": "stream",
     "text": [
      "0\n"
     ]
    }
   ],
   "source": [
    "// fast\n",
    "let d = SystemTime::now();\n",
    "value_or_fib44_version_2(Some(1));\n",
    "let elapsed = d.elapsed().unwrap().as_millis();\n",
    "println!(\"{}\", elapsed);"
   ]
  },
  {
   "cell_type": "markdown",
   "id": "e6b1d880",
   "metadata": {
    "slideshow": {
     "slide_type": "fragment"
    }
   },
   "source": [
    "* This programing pattern appears in many places.\n",
    "* Another example: default value for an entry in HashMap"
   ]
  },
  {
   "cell_type": "code",
   "execution_count": 20,
   "id": "11a84ea4",
   "metadata": {},
   "outputs": [
    {
     "name": "stdout",
     "output_type": "stream",
     "text": [
      "1:Some(-1)    2:Some(-701408733)\n"
     ]
    }
   ],
   "source": [
    "let mut map = std::collections::HashMap::<i32,i32>::new();\n",
    "map.insert(1, 1);\n",
    "*map.entry(1).or_insert_with(|| expensive_function(44) as i32) *= -1;\n",
    "*map.entry(2).or_insert_with(|| expensive_function(44) as i32) *= -1;\n",
    "println!(\"{}:{:?}    {}:{:?}\",1,map.get(&1),2,map.get(&2));"
   ]
  },
  {
   "cell_type": "markdown",
   "id": "37d60934",
   "metadata": {},
   "source": [
    "**Read section 8.2 for strings, section 10.3 for lifetimes and section 13.1 and 13.2 for closures and iterators**"
   ]
  },
  {
   "cell_type": "markdown",
   "id": "0b690cd3",
   "metadata": {
    "vscode": {
     "languageId": "rust"
    }
   },
   "source": [
    "## In-Class Poll\n",
    "\n",
    "https://piazza.com/class/m5qyw6267j12cj/post/368\n",
    "\n"
   ]
  },
  {
   "cell_type": "markdown",
   "id": "0ed98ebe",
   "metadata": {},
   "source": []
  }
 ],
 "metadata": {
  "celltoolbar": "Slideshow",
  "kernelspec": {
   "display_name": "Rust",
   "language": "rust",
   "name": "rust"
  },
  "language_info": {
   "codemirror_mode": "rust",
   "file_extension": ".rs",
   "mimetype": "text/rust",
   "name": "rust",
   "pygment_lexer": "rust",
   "version": ""
  },
  "rise": {
   "center": true,
   "slidenumber": true,
   "theme": "simple",
   "transition": "fade"
  }
 },
 "nbformat": 4,
 "nbformat_minor": 5
}
