{
 "cells": [
  {
   "cell_type": "markdown",
   "id": "90008e71",
   "metadata": {
    "slideshow": {
     "slide_type": "slide"
    }
   },
   "source": [
    "<div align=\"center\">\n",
    "    <h1>DS-210: Programming for Data Science</h1>\n",
    "    <h1>Lecture 18</h1>\n",
    "</div>\n",
    "\n",
    "1. Binary trees\n",
    "2. Binary search trees\n"
   ]
  },
  {
   "cell_type": "markdown",
   "id": "10b2e39a",
   "metadata": {},
   "source": [
    "# Binary trees"
   ]
  },
  {
   "cell_type": "markdown",
   "id": "f77acc77",
   "metadata": {},
   "source": [
    "## Trees vs Graphs\n",
    "\n",
    "Trees are a special type of graph with a few key features\n",
    "* Hierarchical structure with a root node\n",
    "* Acyclic\n",
    "* Parent and child nodes with well-defined ancestry (every node besides the root has only one parent)\n",
    "* Only n-1 edges for n nodes\n",
    "* May constrain the number of children (in a binary tree each parent can have at most two children)\n"
   ]
  },
  {
   "cell_type": "markdown",
   "id": "2bee4cc9",
   "metadata": {
    "cell_style": "split"
   },
   "source": [
    "A general tree:\n",
    "<div align=\"center\">\n",
    "<img src=\"tree-example.jpg\" alt=\"[non-binary tree example]\" width=\"100%\">\n",
    "</div>"
   ]
  },
  {
   "cell_type": "markdown",
   "id": "9238c9e3",
   "metadata": {
    "cell_style": "split"
   },
   "source": [
    "<div align=\"center\">\n",
    "<img src=\"binary-tree-example.jpg\" alt=\"[binary tree example]\" width=\"70%\">\n",
    "</div>"
   ]
  },
  {
   "cell_type": "markdown",
   "id": "9a4b6b4d",
   "metadata": {},
   "source": [
    "\n",
    "## Why are trees useful?\n"
   ]
  },
  {
   "cell_type": "markdown",
   "id": "5be0ab53",
   "metadata": {},
   "source": [
    "### ✅ Anything with a hierarchical data structure (e.g., File systems, HTML DOM structure)\n",
    "\n",
    "* File systems: Directories and files form a natural tree—folders contain subfolders and files, and this nesting forms a hierarchy.\n",
    "* HTML DOM: The structure of a webpage is a tree where elements nest inside each other; the root is usually the `<html>` tag."
   ]
  },
  {
   "cell_type": "markdown",
   "id": "6c107f62",
   "metadata": {},
   "source": [
    "### 🗜 Data compression (Huffman coding)\n",
    "\n",
    "* Builds a binary tree where the most frequent characters are near the top and less frequent ones further down.\n",
    "* Encoding: Each character gets a unique binary string based on its path from the root—shorter for frequent characters."
   ]
  },
  {
   "cell_type": "markdown",
   "id": "bd5b030a",
   "metadata": {},
   "source": [
    "### 🧠 Compilers use syntax trees (Abstract Syntax Trees - ASTs)\n",
    "\n",
    "* Represents code structure: A program’s nested expressions, blocks, and statements naturally form a tree.\n",
    "* Compiler passes: Syntax trees are walked recursively for semantic checks, optimization, and code generation.\n",
    "* In Rust: The Rust compiler (rustc) builds and transforms ASTs as part of its pipeline\n"
   ]
  },
  {
   "cell_type": "markdown",
   "id": "e987e586",
   "metadata": {},
   "source": [
    "### 🔡 Prefix trees (Tries) (discussed below)\n",
    "\n",
    "* Spell checking and autocomplete: Fast prefix search to suggest or validate words.\n",
    "* Internet routing: IP addresses share prefixes, and tries are used for longest prefix match routing.\n",
    "* Memory vs speed tradeoff: Tries use more memory but offer O(k) search time, where k is the key length.\n"
   ]
  },
  {
   "cell_type": "markdown",
   "id": "5db691e3",
   "metadata": {},
   "source": [
    "### 💾 Databases use trees for indexing (e.g., B-trees, B+ trees)\n",
    "\n",
    "* Efficient range queries and lookups: Balanced trees ensure O(log n) insert/search/delete.\n",
    "* Disk-friendly: B-trees minimize disk reads by keeping nodes wide and shallow.\n",
    "* Used in practice: PostgreSQL, SQLite, and others use variants of B-trees for indexing."
   ]
  },
  {
   "cell_type": "markdown",
   "id": "75a9108c",
   "metadata": {},
   "source": [
    "### 🔐 Merkle trees\n",
    "\n",
    "* Used in blockchains: Efficient verification of large data sets by checking only a small number of hashes.\n",
    "* Tamper detection: Changing one leaf changes hashes all the way up—perfect for integrity checking.\n",
    "* Applications: Bitcoin, Git, BitTorrent, and more rely on Merkle trees.\n"
   ]
  },
  {
   "cell_type": "markdown",
   "id": "937d07b8",
   "metadata": {},
   "source": [
    "### 🌐 Spanning trees in networks\n",
    "\n",
    "* Minimal spanning tree (MST): Ensures all nodes in a network are connected with minimal total edge weight.\n",
    "* Used in routing: Algorithms like Kruskal’s or Prim’s help avoid loops in protocols like Ethernet (Spanning Tree Protocol)."
   ]
  },
  {
   "cell_type": "markdown",
   "id": "7211e7c1",
   "metadata": {},
   "source": [
    "### 🌳 Decision trees\n",
    "\n",
    "* Machine learning: Trees split data based on feature thresholds to make predictions.\n",
    "* Easy to interpret: Each path in the tree represents a rule for classification."
   ]
  },
  {
   "cell_type": "markdown",
   "id": "3c1ea345",
   "metadata": {},
   "source": [
    "### 🔃 Sorting algorithms\n",
    "\n",
    "* Binary heaps: Used in heap sort—trees where the parent is smaller/larger than children.\n",
    "* BST-based sorts: In-order traversal of a Binary Search Tree gives sorted order.\n",
    "* AVL/Red-Black Trees: Self-balancing trees used to maintain order during dynamic inserts/deletes."
   ]
  },
  {
   "cell_type": "markdown",
   "id": "fba85db5",
   "metadata": {},
   "source": [
    "### 🔍 Search algorithms\n",
    "\n",
    "* Binary Search Trees (BSTs): Allow for fast search, insert, and delete in O(log n) time if balanced.\n",
    "* Trie-based search: Efficient for prefix and word lookup.\n",
    "* Tree traversal: DFS and BFS strategies apply directly—recursion meets queue/stack use in Rust."
   ]
  },
  {
   "cell_type": "markdown",
   "id": "490f839f",
   "metadata": {},
   "source": [
    "## Important Terms\n",
    "\n",
    "* **Root** - the topmost node of the tree, only node without a parent\n",
    "* **Ancestor vs Descendant** - If two nodes are connected, the node that is closer to the root is the ancestor of the other node, similarly the further node its descendant\n",
    "* **Parent vs Child** - A nodes immediate descendant is its child, and a nodes immediate ancestor is its parent\n",
    "* **Leaf** - a node with no child nodes\n",
    "* **Subtree** - A subset of the tree, with a parent of the original tree becoming the root of the subtree\n",
    "* **Depth** - the greatest number of descendants between the root and a leaf node\n",
    "* **Level** - the number of edges between a node and the root. Root node has level 0\n",
    "* **Sibling** - nodes that share the same parent"
   ]
  },
  {
   "cell_type": "markdown",
   "id": "778f0fd0",
   "metadata": {},
   "source": [
    "## Why are binary trees useful?\n",
    "\n",
    "* Simple to analyze\n",
    "* Many algorithms boil down to a series of \"True/False\" decisions that map well to binary trees\n",
    "* Ordering in particular fits well (either you are \"<\" or you aren't)\n",
    "* Easy to use with recursive algorithms \n",
    "\n",
    "## What types of binary trees are there?\n",
    "\n",
    "* Complete (every level except the last one are full)\n",
    "* Perfect (all leaves are at the same level, all interior nodes have 2 children)\n",
    "* Balanced (left and right subtrees differ by at most 1 level)\n",
    "* Special\n",
    "  * Binary Heaps\n",
    "  * Binary Search Trees\n",
    "  \n",
    "## Any other interesting trees?\n",
    "\n",
    "* Prefix trees or tries"
   ]
  },
  {
   "cell_type": "markdown",
   "id": "604ebad5",
   "metadata": {},
   "source": [
    "<div align=\"center\">\n",
    "<img src=\"binary-tree-example.jpg\" alt=\"[binary tree example]\" width=\"70%\">\n",
    "</div>"
   ]
  },
  {
   "cell_type": "markdown",
   "id": "8ae85ec8",
   "metadata": {},
   "source": [
    "## Using Vectors to implement a Binary Tree"
   ]
  },
  {
   "cell_type": "markdown",
   "id": "b17d450c",
   "metadata": {},
   "source": [
    "### TreeNode struct and new() method"
   ]
  },
  {
   "cell_type": "code",
   "execution_count": 2,
   "id": "d972c3c2",
   "metadata": {
    "cell_style": "center"
   },
   "outputs": [],
   "source": [
    "#[derive(Debug)]\n",
    "struct TreeNode {\n",
    "    value: usize,\n",
    "    left: Option<usize>,\n",
    "    right: Option<usize>,\n",
    "}\n",
    "\n",
    "impl TreeNode {\n",
    "    // Constructor method\n",
    "    // This method creates a new TreeNode with the given value\n",
    "    // and initializes left and right child pointers to None\n",
    "    fn new(value: usize) -> Self {\n",
    "        TreeNode {\n",
    "            value,\n",
    "            left: None,\n",
    "            right: None,\n",
    "        }\n",
    "    }\n",
    "}"
   ]
  },
  {
   "cell_type": "markdown",
   "id": "74408b87",
   "metadata": {},
   "source": [
    "### BinaryTree struct and methods"
   ]
  },
  {
   "cell_type": "code",
   "execution_count": 3,
   "id": "e70a2751",
   "metadata": {
    "cell_style": "center"
   },
   "outputs": [],
   "source": [
    "#[derive(Debug)]\n",
    "struct BinaryTree {\n",
    "    // A vector of TreeNode structs\n",
    "    // The index of the vector is the node index\n",
    "    nodes: Vec<TreeNode>,\n",
    "    root: Option<usize>,\n",
    "}\n",
    "\n",
    "impl BinaryTree {\n",
    "    // Constructor method\n",
    "    // This method creates a new BinaryTree with an empty vector of nodes\n",
    "    // and a root pointer set to None\n",
    "    fn new() -> Self {\n",
    "        BinaryTree { nodes: Vec::new(), root: None }\n",
    "    }\n",
    "\n",
    "    fn insert(&mut self, value: usize) {\n",
    "        let new_node_index = self.nodes.len();\n",
    "        self.nodes.push(TreeNode::new(value));\n",
    "\n",
    "        match self.root {\n",
    "            Some(root_index) => self.insert_at(root_index, new_node_index),\n",
    "            None => self.root = Some(new_node_index),\n",
    "        }\n",
    "    }\n",
    "\n",
    "    // Inserts a new node into a binary tree by updating the left or right child\n",
    "    // index of the current node, or if full, a left child node.\n",
    "    // * Start at the specified current node index:\n",
    "    //   * if both children are empty, insert the left child\n",
    "    //   * if left child is occupied, insert the right child\n",
    "    //   * if both children are occupied, recursively attempt to insert the new\n",
    "    //     node in the left subtree\n",
    "    fn insert_at(&mut self, current_index: usize, new_node_index: usize) {\n",
    "        let current_node = &mut self.nodes[current_index];\n",
    "        if current_node.left.is_none() {\n",
    "            current_node.left = Some(new_node_index);\n",
    "        } else if current_node.right.is_none() {\n",
    "            current_node.right = Some(new_node_index);\n",
    "        } else {\n",
    "            // Insert in left subtree for simplicity, could be more complex to keep balanced\n",
    "            let left = current_node.left.unwrap();\n",
    "            self.insert_at(left, new_node_index);\n",
    "        }\n",
    "    }\n",
    "    \n",
    "}\n"
   ]
  },
  {
   "cell_type": "markdown",
   "id": "b4ea21be",
   "metadata": {},
   "source": [
    "> Remember that `left` and `right` are indices, but `value` is the value we \n",
    "> associated with the node.\n",
    "\n",
    "* Predict the BinaryTree structure as we repeatedly insert."
   ]
  },
  {
   "cell_type": "code",
   "execution_count": 4,
   "id": "46e669ef",
   "metadata": {
    "cell_style": "split"
   },
   "outputs": [
    {
     "name": "stdout",
     "output_type": "stream",
     "text": [
      "BinaryTree {\n",
      "    nodes: [\n",
      "        TreeNode {\n",
      "            value: 1,\n",
      "            left: Some(\n",
      "                1,\n",
      "            ),\n",
      "            right: Some(\n",
      "                2,\n",
      "            ),\n",
      "        },\n",
      "        TreeNode {\n",
      "            value: 2,\n",
      "            left: Some(\n",
      "                3,\n",
      "            ),\n",
      "            right: Some(\n",
      "                4,\n",
      "            ),\n",
      "        },\n",
      "        TreeNode {\n",
      "            value: 3,\n",
      "            left: None,\n",
      "            right: None,\n",
      "        },\n",
      "        TreeNode {\n",
      "            value: 6,\n",
      "            left: Some(\n",
      "                5,\n",
      "            ),\n",
      "            right: Some(\n",
      "                6,\n",
      "            ),\n",
      "        },\n",
      "        TreeNode {\n",
      "            value: 7,\n",
      "            left: None,\n",
      "            right: None,\n",
      "        },\n",
      "        TreeNode {\n",
      "            value: 11,\n",
      "            left: Some(\n",
      "                7,\n",
      "            ),\n",
      "            right: None,\n",
      "        },\n",
      "        TreeNode {\n",
      "            value: 23,\n",
      "            left: None,\n",
      "            right: None,\n",
      "        },\n",
      "        TreeNode {\n",
      "            value: 34,\n",
      "            left: None,\n",
      "            right: None,\n",
      "        },\n",
      "    ],\n",
      "    root: Some(\n",
      "        0,\n",
      "    ),\n",
      "}\n"
     ]
    }
   ],
   "source": [
    "let mut tree = BinaryTree::new();\n",
    "tree.insert(1);\n",
    "tree.insert(2);\n",
    "tree.insert(3);\n",
    "tree.insert(6);\n",
    "tree.insert(7);\n",
    "tree.insert(11);\n",
    "tree.insert(23);\n",
    "tree.insert(34);\n",
    "\n",
    "println!(\"{:#?}\", tree);\n"
   ]
  },
  {
   "cell_type": "markdown",
   "id": "78f8eed4",
   "metadata": {
    "cell_style": "split"
   },
   "source": [
    "> Reminder: The numbers in the circles are the values, not the indices of the node.\n",
    "\n",
    "<div align=\"center\">\n",
    "<img src=\"binary_tree.png\" alt=\"[binary tree]\" width=\"100%\">\n",
    "</div>"
   ]
  },
  {
   "cell_type": "markdown",
   "id": "1db4a8c0",
   "metadata": {
    "cell_style": "split"
   },
   "source": [
    "This isn't super readable, is there a better way to output this tree?\n",
    "\n",
    "# Tree Traversal\n",
    "\n",
    "There are several ways to traverse trees using algorithms we have seen before:\n",
    "* Using BFS\n",
    "  * Level-order Traversal\n",
    "* Using DFS\n",
    "  * Pre-order Traversal\n",
    "  * In-order Traversal\n",
    "  * Post Order Traversal\n",
    "\n",
    "We are going to use level-order traversal to visit each level of the tree in order"
   ]
  },
  {
   "cell_type": "markdown",
   "id": "569e454b",
   "metadata": {
    "cell_style": "split"
   },
   "source": [
    "## Level-Order Traversal (BFS)\n",
    "\n",
    "Just like before.\n",
    "\n",
    "* Create an empty queue\n",
    "* Add the root of tree to queue\n",
    "* While the queue is not empty\n",
    "  * Remove node from queue and visit it\n",
    "  * Add the left child of node to the queue if it exists\n",
    "  * Add the right child of node to the queue if it exists\n",
    "  \n",
    " "
   ]
  },
  {
   "cell_type": "code",
   "execution_count": 5,
   "id": "fa9cccac",
   "metadata": {
    "cell_style": "center",
    "slideshow": {
     "slide_type": "-"
    }
   },
   "outputs": [
    {
     "name": "stdout",
     "output_type": "stream",
     "text": [
      "1\n",
      "2\n",
      "3\n",
      "6\n",
      "7\n",
      "11\n",
      "23\n",
      "34\n"
     ]
    }
   ],
   "source": [
    "use std::collections::VecDeque;\n",
    "fn level_order_traversal(tree: &BinaryTree) {\n",
    "  if let Some(root_index) = tree.root {\n",
    "    let mut queue = VecDeque::new();\n",
    "    queue.push_back(root_index);\n",
    "    while let Some(node_index) = queue.pop_front() {\n",
    "      let node = &tree.nodes[node_index];\n",
    "      println!(\"{}\", node.value);\n",
    "      if let Some(left_index) = node.left {\n",
    "        queue.push_back(left_index);\n",
    "      }\n",
    "      if let Some(right_index) = node.right {\n",
    "        queue.push_back(right_index);\n",
    "      }\n",
    "    }\n",
    "  }\n",
    "}\n",
    "\n",
    "let mut tree2 = BinaryTree::new();\n",
    "tree2.insert(1);\n",
    "tree2.insert(2);\n",
    "tree2.insert(3);\n",
    "tree2.insert(6);\n",
    "tree2.insert(7);\n",
    "tree2.insert(11);\n",
    "tree2.insert(23);\n",
    "tree2.insert(34);\n",
    "level_order_traversal(&tree2);"
   ]
  },
  {
   "cell_type": "code",
   "execution_count": 6,
   "id": "94ac4d5e",
   "metadata": {
    "cell_style": "center"
   },
   "outputs": [
    {
     "name": "stdout",
     "output_type": "stream",
     "text": [
      "1 \n",
      "2 3 \n",
      "6 7 \n",
      "11 23 \n",
      "34 \n"
     ]
    }
   ],
   "source": [
    "// Slightly more complex version that prints each level on a different line\n",
    "use std::collections::VecDeque;\n",
    "fn level_order_traversal2(tree: &BinaryTree) {\n",
    "  if let Some(root_index) = tree.root {\n",
    "    let mut queue = VecDeque::new();\n",
    "    queue.push_back(root_index);\n",
    "    while !queue.is_empty() {\n",
    "      let level_size = queue.len();\n",
    "        for _ in 0..level_size {\n",
    "          if let Some(node_index) = queue.pop_front() {\n",
    "            let node = &tree.nodes[node_index];\n",
    "            print!(\"{} \", node.value);\n",
    "\n",
    "            if let Some(left_index) = node.left {\n",
    "              queue.push_back(left_index);\n",
    "            }\n",
    "            if let Some(right_index) = node.right {\n",
    "              queue.push_back(right_index);\n",
    "            }\n",
    "        }\n",
    "      }\n",
    "      println!(); // New line after each level\n",
    "    }\n",
    "  }\n",
    "}\n",
    "\n",
    "let mut tree2 = BinaryTree::new();\n",
    "tree2.insert(1);\n",
    "tree2.insert(2);\n",
    "tree2.insert(3);\n",
    "tree2.insert(6);\n",
    "tree2.insert(7);\n",
    "tree2.insert(11);\n",
    "tree2.insert(23);\n",
    "tree2.insert(34);\n",
    "level_order_traversal2(&tree2);"
   ]
  },
  {
   "cell_type": "markdown",
   "id": "8e4a37af",
   "metadata": {},
   "source": [
    "## Depth Traversals\n",
    "\n",
    "### Pre-Order Traversal\n",
    "\n",
    "Often used when making a copy of a tree, uses DFS\n",
    "\n",
    "Algorithm:\n",
    "* Visit the current node (e.g. print the current node value)\n",
    "* Recursively traverse the current node's left subtree\n",
    "* Recursively traverse the current node's right subtree\n",
    "\n",
    "The pre-order traversal is a topologically sorted one, because a parent node is processed before any of its child nodes is done.\n"
   ]
  },
  {
   "cell_type": "code",
   "execution_count": 7,
   "id": "8f11b8bf",
   "metadata": {},
   "outputs": [
    {
     "name": "stdout",
     "output_type": "stream",
     "text": [
      "1\n",
      "2\n",
      "6\n",
      "11\n",
      "34\n",
      "23\n",
      "7\n",
      "3\n"
     ]
    },
    {
     "data": {
      "text/plain": [
       "()"
      ]
     },
     "execution_count": 7,
     "metadata": {},
     "output_type": "execute_result"
    }
   ],
   "source": [
    "fn pre_order_traversal(tree: &BinaryTree, node_index: Option<usize>) {\n",
    "  if let Some(index) = node_index {        // If the node index is not None\n",
    "    let node = &tree.nodes[index];         // Get the node at the index\n",
    "    println!(\"{}\", node.value);            // Visit (print) the current node value\n",
    "    pre_order_traversal(tree, node.left);  // Traverse the left subtree\n",
    "    pre_order_traversal(tree, node.right); // Traverse the right subtree\n",
    "  }\n",
    "}\n",
    "\n",
    "pre_order_traversal(&tree2, tree2.root)"
   ]
  },
  {
   "cell_type": "markdown",
   "id": "9402d53f",
   "metadata": {},
   "source": [
    "### In-Order Traversal\n",
    "\n",
    "In-Order traversal:\n",
    "\n",
    "* Recursively traverse the current node's left subtree.\n",
    "* Visit the current node (e.g. print the node's current value).\n",
    "* Recursively traverse the current node's right subtree.\n",
    "\n",
    "In a binary search tree ordered such that in each node the value is greater than\n",
    "all values in its left subtree and less than all values in its right subtree,\n",
    "in-order traversal retrieves the keys in ascending sorted order."
   ]
  },
  {
   "cell_type": "markdown",
   "id": "f882b677",
   "metadata": {},
   "source": [
    "\n",
    "\n",
    "How do we update `pre_order_traversal()` to get `in_order_traversal()`?"
   ]
  },
  {
   "cell_type": "code",
   "execution_count": 8,
   "id": "6825944b",
   "metadata": {},
   "outputs": [
    {
     "name": "stdout",
     "output_type": "stream",
     "text": [
      "34\n",
      "11\n",
      "6\n",
      "23\n",
      "2\n",
      "7\n",
      "1\n",
      "3\n"
     ]
    },
    {
     "data": {
      "text/plain": [
       "()"
      ]
     },
     "execution_count": 8,
     "metadata": {},
     "output_type": "execute_result"
    }
   ],
   "source": [
    "fn in_order_traversal(tree: &BinaryTree, node_index: Option<usize>) {\n",
    "    if let Some(index) = node_index {       // If the node index is not None\n",
    "      let node = &tree.nodes[index];        // Get the node at the index\n",
    "      in_order_traversal(tree, node.left);  // Traverse the left subtree\n",
    "      println!(\"{}\", node.value);           // Visit (print) the current node value\n",
    "      in_order_traversal(tree, node.right); // Traverse the right subtree\n",
    "    }\n",
    "  }\n",
    "  \n",
    "  in_order_traversal(&tree2, tree2.root)"
   ]
  },
  {
   "cell_type": "markdown",
   "id": "361b9fcf",
   "metadata": {},
   "source": [
    "### Post-Order traversal\n",
    "\n",
    "Good for deleting the tree or parts of it, must delete children before parents:\n",
    "\n",
    "* Recursively traverse the current node's left subtree.\n",
    "* Recursively traverse the current node's right subtree.\n",
    "* Visit the current node.\n"
   ]
  },
  {
   "cell_type": "code",
   "execution_count": 9,
   "id": "ab7f9258",
   "metadata": {},
   "outputs": [
    {
     "name": "stdout",
     "output_type": "stream",
     "text": [
      "34\n",
      "11\n",
      "23\n",
      "6\n",
      "7\n",
      "2\n",
      "3\n",
      "1\n"
     ]
    },
    {
     "data": {
      "text/plain": [
       "()"
      ]
     },
     "execution_count": 9,
     "metadata": {},
     "output_type": "execute_result"
    }
   ],
   "source": [
    "fn post_order_traversal(tree: &BinaryTree, node_index: Option<usize>) {\n",
    "    if let Some(index) = node_index {       // If the node index is not None\n",
    "      let node = &tree.nodes[index];        // Get the node at the index\n",
    "      post_order_traversal(tree, node.left);  // Traverse the left subtree\n",
    "      post_order_traversal(tree, node.right); // Traverse the right subtree\n",
    "      println!(\"{}\", node.value);           // Visit (print) the current node value\n",
    "    }\n",
    "  }\n",
    "  \n",
    "  post_order_traversal(&tree2, tree2.root)"
   ]
  },
  {
   "cell_type": "markdown",
   "id": "2911bdee",
   "metadata": {
    "slideshow": {
     "slide_type": "slide"
    }
   },
   "source": [
    "# Binary search trees"
   ]
  },
  {
   "cell_type": "markdown",
   "id": "7888055b",
   "metadata": {
    "cell_style": "split",
    "slideshow": {
     "slide_type": "-"
    }
   },
   "source": [
    "* Organize data into a binary tree\n",
    "\n",
    "* Similar to binary heaps where the parent was greater (or lesser) than either of its children\n",
    "\n",
    "* **Binary Search Tree:** the value of a node is greater than the values of all nodes\n",
    "  in its left subtree and less than the value of all nodes in the right subtree.\n",
    "\n",
    "* Enables _binary search_ for efficient lookup, addition and removal of items.\n",
    "\n",
    "* Each comparison skips half of the remaining tree.\n",
    "\n",
    "* Complexity for search, insert and delete is $O(\\log n)$, assuming balanced trees."
   ]
  },
  {
   "cell_type": "markdown",
   "id": "02db69c0",
   "metadata": {
    "cell_style": "split",
    "slideshow": {
     "slide_type": ""
    }
   },
   "source": [
    "<div align=\"center\">\n",
    "<img src=\"./binary_search_tree.png\" alt=\"[sample tree]\" width=\"37%\">\n",
    "</div>"
   ]
  },
  {
   "cell_type": "markdown",
   "id": "29fdd43a",
   "metadata": {
    "cell_style": "split",
    "slideshow": {
     "slide_type": "fragment"
    }
   },
   "source": [
    "* Invariant at each node:\n",
    "  * all left descendants ${}\\le{}$ parent\n",
    "  * parent ${}\\le{}$ all right descendants"
   ]
  },
  {
   "cell_type": "markdown",
   "id": "71d134af",
   "metadata": {
    "cell_style": "split",
    "slideshow": {
     "slide_type": ""
    }
   },
   "source": [
    "<div align=\"center\">\n",
    "<img src=\"relationship.png\" alt=\"[sample tree]\" width=\"37%\">\n",
    "</div>"
   ]
  },
  {
   "cell_type": "markdown",
   "id": "da5f132e",
   "metadata": {
    "slideshow": {
     "slide_type": "fragment"
    }
   },
   "source": [
    "* Compared to binary heaps:\n",
    "  * different ordering of elements"
   ]
  },
  {
   "cell_type": "markdown",
   "id": "58d9429a",
   "metadata": {
    "slideshow": {
     "slide_type": "subslide"
    }
   },
   "source": [
    "## Basic operations: find a key $k$\n",
    "\n",
    "How can we do this?"
   ]
  },
  {
   "cell_type": "markdown",
   "id": "549c4b41",
   "metadata": {
    "slideshow": {
     "slide_type": "fragment"
    }
   },
   "source": [
    "* Descend recursively from the root until $k$ found or stuck:\n",
    "  * If current node key is $k$, return.\n",
    "  * If $k<{}$ value at the current node, go left\n",
    "  * If $k>{}$ value at the current node, go right\n",
    "  * If finished searching, return not found\n",
    "\n",
    "<br>\n",
    "<br>\n",
    "<div align=\"center\">\n",
    "    <b>[Example: Find the key 7 in the tree above.]</b>\n",
    "</div>"
   ]
  },
  {
   "cell_type": "markdown",
   "id": "f94acfa1",
   "metadata": {
    "slideshow": {
     "slide_type": "subslide"
    }
   },
   "source": [
    "## Basic operations: insert a key $k$\n",
    "\n",
    "How can we do this?"
   ]
  },
  {
   "cell_type": "markdown",
   "id": "c61ff014",
   "metadata": {
    "slideshow": {
     "slide_type": "fragment"
    }
   },
   "source": [
    "* Keep descending from the root until you leave the tree\n",
    "  * If $k\\le{}$ value at the current node, go left\n",
    "  * If $k>{}$ value at the current node, go right\n",
    "* Create a new node containing $k$ there\n",
    "\n",
    "<br>\n",
    "<br>\n",
    "<div align=\"center\">\n",
    "    <b>[Example: Insert value 6 in tree above.]</b>\n",
    "</div>\n",
    "\n",
    "<br><br>"
   ]
  },
  {
   "cell_type": "markdown",
   "id": "914d3153",
   "metadata": {},
   "source": [
    "<div align=\"center\">\n",
    "  <img src=\"./bst_insert_6.png\" width=\"80%\">\n",
    "</div>"
   ]
  },
  {
   "cell_type": "markdown",
   "id": "b993d31f",
   "metadata": {
    "slideshow": {
     "slide_type": "subslide"
    }
   },
   "source": [
    "## Basic operations: delete a node\n",
    "\n",
    "How can we do this?\n",
    "\n",
    "This can be more complicated because we might have to find a replacement."
   ]
  },
  {
   "cell_type": "markdown",
   "id": "21bb5acc",
   "metadata": {},
   "source": [
    "### Case 1 -- Leaf Node\n",
    "\n",
    "If node is a leaf node, just remove and return.\n",
    "\n"
   ]
  },
  {
   "cell_type": "markdown",
   "id": "886ea463",
   "metadata": {},
   "source": [
    "\n",
    "### Case 2 -- One Child\n",
    "\n",
    "If node has only one child, remove and move the child up.\n",
    "\n",
    "Example: Remove 4.\n",
    "\n",
    "```\n",
    "      7\n",
    "     / \\\n",
    "    4   11\n",
    "     \\\n",
    "      6\n",
    "```\n",
    "\n",
    "Remove 4 and move 6 up.\n",
    "\n",
    "```\n",
    "      7\n",
    "     / \\\n",
    "    6   11\n",
    "```\n",
    "\n"
   ]
  },
  {
   "cell_type": "markdown",
   "id": "2dde2121",
   "metadata": {},
   "source": [
    "\n",
    "### Case 3 -- Else\n",
    "\n",
    "Otherwise, find the _left-most_ descendant of the _right_ subtree and move up.\n",
    "\n",
    "This is the _inorder successor_.\n",
    "\n",
    "```\n",
    "        7\n",
    "       / \\\n",
    "      4   11\n",
    "     / \\\n",
    "    2   6\n",
    "   / \\ / \\\n",
    "  1  3 5  8\n",
    "```\n",
    "\n",
    "In this case it is 5, so replace 4 with 5.\n",
    "\n",
    "```\n",
    "        7\n",
    "       / \\\n",
    "      5   11\n",
    "     / \\\n",
    "    2   6\n",
    "   / \\   \\\n",
    "  1  3    8\n",
    "```\n"
   ]
  },
  {
   "cell_type": "markdown",
   "id": "c9421378",
   "metadata": {
    "cell_style": "center",
    "slideshow": {
     "slide_type": "slide"
    }
   },
   "source": [
    "## Cost of these operations?"
   ]
  },
  {
   "cell_type": "markdown",
   "id": "427c5919",
   "metadata": {
    "slideshow": {
     "slide_type": "fragment"
    }
   },
   "source": [
    "<div align=\"center\">\n",
    "    <b> O( depth of the tree ) </b>\n",
    "</div>"
   ]
  },
  {
   "cell_type": "markdown",
   "id": "16b4ebb2",
   "metadata": {
    "slideshow": {
     "slide_type": "fragment"
    }
   },
   "source": [
    "**Bad news:** the depth can be made proportional to $n$, the number of nodes. How?"
   ]
  },
  {
   "cell_type": "markdown",
   "id": "04947dde",
   "metadata": {
    "slideshow": {
     "slide_type": "fragment"
    }
   },
   "source": [
    "**Good news:** smart ways to make the depth $O(\\log n)$"
   ]
  },
  {
   "cell_type": "markdown",
   "id": "16e160c9",
   "metadata": {
    "cell_style": "center",
    "slideshow": {
     "slide_type": "subslide"
    }
   },
   "source": [
    "## Balanced binary search trees\n",
    "\n",
    "There are smart ways to rebalance the tree!\n",
    "\n",
    "* Depth: $O(\\log n)$"
   ]
  },
  {
   "cell_type": "markdown",
   "id": "6b11bb1b",
   "metadata": {
    "slideshow": {
     "slide_type": "slide"
    }
   },
   "source": [
    "# Binary search trees -- Implementation\n",
    "\n",
    "1. Applications (range searching)\n",
    "2. Rust: `BTreeMap` and `BTreeSet`\n",
    "3. Tries (Prefix Trees)\n"
   ]
  },
  {
   "cell_type": "code",
   "execution_count": 10,
   "id": "204157ef",
   "metadata": {},
   "outputs": [],
   "source": [
    "#[derive(Debug)]\n",
    "struct TreeNode {\n",
    "    value: usize,\n",
    "    left: Option<usize>,\n",
    "    right: Option<usize>,\n",
    "}\n",
    "\n",
    "impl TreeNode {\n",
    "    fn new(value: usize) -> Self {\n",
    "        TreeNode {\n",
    "            value,\n",
    "            left: None,\n",
    "            right: None,\n",
    "        }\n",
    "    }\n",
    "}\n",
    "\n",
    "#[derive(Debug)]\n",
    "struct BinaryTree {\n",
    "    nodes: Vec<TreeNode>,\n",
    "    root: Option<usize>,\n",
    "}\n",
    "\n",
    "impl BinaryTree {\n",
    "    fn new() -> Self {\n",
    "        BinaryTree { nodes: Vec::new(), root: None }\n",
    "    }\n",
    "\n",
    "    fn insert(&mut self, value: usize) {\n",
    "        let new_node_index = self.nodes.len();\n",
    "        self.nodes.push(TreeNode::new(value));\n",
    "\n",
    "        match self.root {\n",
    "            Some(root_index) => self.insert_at(root_index, new_node_index, value),\n",
    "            None => self.root = Some(new_node_index),\n",
    "        }\n",
    "    }\n",
    "\n",
    "    fn insert_at(&mut self, current_index: usize, new_node_index: usize, value:usize) {\n",
    "        let current_node = &mut self.nodes[current_index];\n",
    "        if current_node.value < value {\n",
    "            if current_node.right.is_none() {\n",
    "                current_node.right = Some(new_node_index);\n",
    "            } else {\n",
    "                let right = current_node.right.unwrap();\n",
    "                self.insert_at(right, new_node_index, value);\n",
    "            }\n",
    "        } else {\n",
    "            if current_node.left.is_none() {\n",
    "                current_node.left = Some(new_node_index);\n",
    "            } else {\n",
    "                let left = current_node.left.unwrap();\n",
    "                self.insert_at(left, new_node_index, value);\n",
    "            }\n",
    "        }\n",
    "    }\n",
    "}\n"
   ]
  },
  {
   "cell_type": "markdown",
   "id": "0c65e7c5",
   "metadata": {},
   "source": [
    "* What happens if we the following values?"
   ]
  },
  {
   "cell_type": "code",
   "execution_count": 11,
   "id": "f0091fd4",
   "metadata": {},
   "outputs": [
    {
     "name": "stdout",
     "output_type": "stream",
     "text": [
      "BinaryTree {\n",
      "    nodes: [\n",
      "        TreeNode {\n",
      "            value: 1,\n",
      "            left: None,\n",
      "            right: Some(\n",
      "                1,\n",
      "            ),\n",
      "        },\n",
      "        TreeNode {\n",
      "            value: 2,\n",
      "            left: None,\n",
      "            right: Some(\n",
      "                2,\n",
      "            ),\n",
      "        },\n",
      "        TreeNode {\n",
      "            value: 3,\n",
      "            left: None,\n",
      "            right: Some(\n",
      "                3,\n",
      "            ),\n",
      "        },\n",
      "        TreeNode {\n",
      "            value: 6,\n",
      "            left: None,\n",
      "            right: Some(\n",
      "                4,\n",
      "            ),\n",
      "        },\n",
      "        TreeNode {\n",
      "            value: 7,\n",
      "            left: None,\n",
      "            right: Some(\n",
      "                5,\n",
      "            ),\n",
      "        },\n",
      "        TreeNode {\n",
      "            value: 11,\n",
      "            left: None,\n",
      "            right: Some(\n",
      "                6,\n",
      "            ),\n",
      "        },\n",
      "        TreeNode {\n",
      "            value: 23,\n",
      "            left: None,\n",
      "            right: Some(\n",
      "                7,\n",
      "            ),\n",
      "        },\n",
      "        TreeNode {\n",
      "            value: 34,\n",
      "            left: None,\n",
      "            right: None,\n",
      "        },\n",
      "    ],\n",
      "    root: Some(\n",
      "        0,\n",
      "    ),\n",
      "}\n"
     ]
    }
   ],
   "source": [
    "\n",
    "let mut tree = BinaryTree::new();\n",
    "tree.insert(1);\n",
    "tree.insert(2);\n",
    "tree.insert(3);\n",
    "tree.insert(6);\n",
    "tree.insert(7);\n",
    "tree.insert(11);\n",
    "tree.insert(23);\n",
    "tree.insert(34);\n",
    "println!(\"{:#?}\", tree);\n"
   ]
  },
  {
   "cell_type": "markdown",
   "id": "9573629b",
   "metadata": {},
   "source": [
    "```\n",
    "1\n",
    " \\\n",
    "  2\n",
    "   \\\n",
    "    3\n",
    "     \\\n",
    "      6\n",
    "       \\\n",
    "        7\n",
    "         \\\n",
    "         11\n",
    "          \\\n",
    "          23\n",
    "           \\\n",
    "           34\n",
    "```"
   ]
  },
  {
   "cell_type": "markdown",
   "id": "93e41c5b",
   "metadata": {},
   "source": [
    "Unbalanced binary search trees can be inefficient!\n",
    "\n",
    "This is a degenerate tree -- basically a linked list."
   ]
  },
  {
   "cell_type": "markdown",
   "id": "19c82f69",
   "metadata": {
    "cell_style": "center",
    "slideshow": {
     "slide_type": "subslide"
    }
   },
   "source": [
    "## Balanced binary search trees\n",
    "\n",
    "There are smart ways to rebalance the tree!\n",
    "\n",
    "* Depth: $O(\\log n)$"
   ]
  },
  {
   "cell_type": "markdown",
   "id": "28043f31",
   "metadata": {
    "cell_style": "center",
    "slideshow": {
     "slide_type": ""
    }
   },
   "source": [
    "* Usually additional information has to be kept at each node"
   ]
  },
  {
   "cell_type": "markdown",
   "id": "6c5b0ec3",
   "metadata": {
    "cell_style": "center",
    "slideshow": {
     "slide_type": ""
    }
   },
   "source": [
    "* Many popular, efficient examples:\n",
    "  * Red–black trees\n",
    "  * AVL trees\n",
    "  * BTrees (Used in Rust)\n",
    "  * ...\n",
    "  \n",
    "  Fundamentally they all support rebalancing operations using some form of tree rotation.\n",
    "\n",
    "  We'll look at some simple approaches."
   ]
  },
  {
   "cell_type": "markdown",
   "id": "0207029a",
   "metadata": {
    "slideshow": {
     "slide_type": "subslide"
    }
   },
   "source": [
    "## Basic operations: rebalance a tree\n",
    "\n",
    "How can we do this?"
   ]
  },
  {
   "cell_type": "markdown",
   "id": "3d575222",
   "metadata": {},
   "source": [
    "* Quite a bit more complicated\n",
    "\n",
    "* One basic idea. Find the branch that has gotten too long\n",
    "  * Swap the parent with the child that is at the top of the branch by making the child the parent and the parent the child\n",
    "  * If you picked a left child take the right subtree and make it a left child of the old parent\n",
    "  * if you picked a right child take left subtree and make it a right child of the old parent\n",
    "  \n",
    "<br>\n",
    "<br>"
   ]
  },
  {
   "cell_type": "markdown",
   "id": "1dda6191",
   "metadata": {},
   "source": [
    "### Example"
   ]
  },
  {
   "cell_type": "markdown",
   "id": "e9bcedc1",
   "metadata": {},
   "source": [
    "Let's go back to our degenerate tree. It's just one long branch.\n",
    "\n",
    "```\n",
    "1\n",
    " \\\n",
    "  2\n",
    "   \\\n",
    "    3\n",
    "     \\\n",
    "      6\n",
    "       \\\n",
    "        7\n",
    "         \\\n",
    "         11\n",
    "          \\\n",
    "          23\n",
    "           \\\n",
    "           34\n",
    "```\n",
    "\n",
    "Step 1: Rotate around 1-2-3.\n",
    "\n",
    "```\n",
    "  2\n",
    " / \\\n",
    "1   3\n",
    "     \\\n",
    "      6\n",
    "       \\\n",
    "        7\n",
    "         \\\n",
    "         11\n",
    "          \\\n",
    "          23\n",
    "           \\\n",
    "           34\n",
    "```\n",
    "\n",
    "Step 2: Rotate around 3-6-7.\n",
    "\n",
    "```\n",
    "  2\n",
    " / \\\n",
    "1   6\n",
    "   / \\\n",
    "  3   7\n",
    "       \\\n",
    "       11\n",
    "        \\\n",
    "        23\n",
    "         \\\n",
    "         34\n",
    "```\n",
    "\n",
    "Step 3: Rotate around 7-11-23.\n",
    "\n",
    "```\n",
    "  2\n",
    " / \\\n",
    "1   6\n",
    "   / \\\n",
    "  3   11\n",
    "     /  \\\n",
    "    7    23\n",
    "          \\\n",
    "          34\n",
    "```"
   ]
  },
  {
   "cell_type": "markdown",
   "id": "c4f1149e",
   "metadata": {},
   "source": [
    "## A simple way to rebalance a binary tree\n",
    "\n",
    "* First do an in-order traversal to get the nodes in sorted order\n",
    "* Then use the middle of the sorted vector to be the root of the tree and recursively build the rest"
   ]
  },
  {
   "cell_type": "code",
   "execution_count": 12,
   "id": "4ae35bec",
   "metadata": {},
   "outputs": [],
   "source": [
    "impl BinaryTree {\n",
    "    fn in_order_traversal(&self, node_index: Option<usize>)->Vec<usize> {\n",
    "        let mut u: Vec<usize> = vec![];\n",
    "        if let Some(index) = node_index {\n",
    "            let node = &self.nodes[index];\n",
    "            u = self.in_order_traversal(node.left);\n",
    "            let mut v: Vec<usize> = vec![node.value];\n",
    "            let mut w: Vec<usize> = self.in_order_traversal(node.right);\n",
    "            u.append(&mut v);\n",
    "            u.append(&mut w);\n",
    "        }\n",
    "        return u;\n",
    "    }\n",
    "}\n",
    "\n"
   ]
  },
  {
   "cell_type": "code",
   "execution_count": 13,
   "id": "c25e30b6",
   "metadata": {},
   "outputs": [
    {
     "name": "stdout",
     "output_type": "stream",
     "text": [
      "[1, 2, 3, 6, 7, 11, 23, 34]\n"
     ]
    }
   ],
   "source": [
    "let mut z = tree.in_order_traversal(tree.root);\n",
    "z.sort();\n",
    "println!(\"{:?}\", z);"
   ]
  },
  {
   "cell_type": "code",
   "execution_count": 14,
   "id": "171902e4",
   "metadata": {},
   "outputs": [],
   "source": [
    "impl BinaryTree {\n",
    "    // This function recursively builds a perfectly balanced BST by:\n",
    "    // 1. Finding the middle element of a sorted array to use as the root\n",
    "    // 2. Recursively building the left and right subtrees using the elements\n",
    "    //    before and after the middle element, respectively.\n",
    "    fn balance_bst(&mut self, v: &[usize], start:usize, end:usize) -> Option<usize> {\n",
    "        if start >= end {\n",
    "            return None;\n",
    "        }\n",
    "        let mid = (start+end) / 2;\n",
    "        let node_index = self.nodes.len();\n",
    "        self.insert(v[mid]);\n",
    "        self.nodes[node_index].left = self.balance_bst(v, start, mid);\n",
    "        self.nodes[node_index].right = self.balance_bst(v, mid+1, end);\n",
    "        Some(node_index)\n",
    "    }\n",
    "}\n",
    "\n"
   ]
  },
  {
   "cell_type": "code",
   "execution_count": 15,
   "id": "5aa25dbb",
   "metadata": {},
   "outputs": [
    {
     "name": "stdout",
     "output_type": "stream",
     "text": [
      "BinaryTree {\n",
      "    nodes: [\n",
      "        TreeNode {\n",
      "            value: 7,\n",
      "            left: Some(\n",
      "                1,\n",
      "            ),\n",
      "            right: Some(\n",
      "                5,\n",
      "            ),\n",
      "        },\n",
      "        TreeNode {\n",
      "            value: 3,\n",
      "            left: Some(\n",
      "                2,\n",
      "            ),\n",
      "            right: Some(\n",
      "                4,\n",
      "            ),\n",
      "        },\n",
      "        TreeNode {\n",
      "            value: 2,\n",
      "            left: Some(\n",
      "                3,\n",
      "            ),\n",
      "            right: None,\n",
      "        },\n",
      "        TreeNode {\n",
      "            value: 1,\n",
      "            left: None,\n",
      "            right: None,\n",
      "        },\n",
      "        TreeNode {\n",
      "            value: 6,\n",
      "            left: None,\n",
      "            right: None,\n",
      "        },\n",
      "        TreeNode {\n",
      "            value: 23,\n",
      "            left: Some(\n",
      "                6,\n",
      "            ),\n",
      "            right: Some(\n",
      "                7,\n",
      "            ),\n",
      "        },\n",
      "        TreeNode {\n",
      "            value: 11,\n",
      "            left: None,\n",
      "            right: None,\n",
      "        },\n",
      "        TreeNode {\n",
      "            value: 34,\n",
      "            left: None,\n",
      "            right: None,\n",
      "        },\n",
      "    ],\n",
      "    root: Some(\n",
      "        0,\n",
      "    ),\n",
      "}\n",
      "7 \n",
      "3 23 \n",
      "2 6 11 34 \n",
      "1 \n",
      "()\n"
     ]
    }
   ],
   "source": [
    "let mut bbtree = BinaryTree::new();\n",
    "bbtree.balance_bst(&z, 0, z.len());\n",
    "println!(\"{:#?}\", bbtree);\n",
    "println!(\"{:?}\", level_order_traversal2(&bbtree));"
   ]
  },
  {
   "cell_type": "markdown",
   "id": "40033193",
   "metadata": {},
   "source": [
    "Produces the result:"
   ]
  },
  {
   "cell_type": "markdown",
   "id": "3a3f287e",
   "metadata": {},
   "source": [
    "```\n",
    "        7\n",
    "      /   \\\n",
    "    3      23\n",
    "   / \\    /  \\\n",
    "  2   6  11  34\n",
    " /\n",
    "1\n",
    "```"
   ]
  },
  {
   "cell_type": "markdown",
   "id": "4c3a01a8",
   "metadata": {
    "slideshow": {
     "slide_type": "slide"
    }
   },
   "source": [
    "## Why use binary search trees?\n",
    "\n",
    "* Hash maps and hash sets give us $O(1)$ time operations?"
   ]
  },
  {
   "cell_type": "markdown",
   "id": "cd64a67c",
   "metadata": {
    "slideshow": {
     "slide_type": "fragment"
    }
   },
   "source": [
    "### Reason 1: \n",
    "\n",
    "* Good worst case behavior: no need for a good hash function"
   ]
  },
  {
   "cell_type": "markdown",
   "id": "21d936c7",
   "metadata": {
    "slideshow": {
     "slide_type": "fragment"
    }
   },
   "source": [
    "### Reason 2:\n",
    "* Can answer efficiently questions such as:\n",
    "  * What is the smallest/greatest element?\n",
    "  * What is the smallest element greater than $x$?\n",
    "  * List all elements between $x$ and $y$\n",
    "  "
   ]
  },
  {
   "cell_type": "markdown",
   "id": "9c4f22e5",
   "metadata": {
    "slideshow": {
     "slide_type": "slide"
    }
   },
   "source": [
    "## Example: find the smallest element greater than $x$"
   ]
  },
  {
   "cell_type": "markdown",
   "id": "3c2703e0",
   "metadata": {
    "slideshow": {
     "slide_type": "fragment"
    }
   },
   "source": [
    "**Question:** How can you list all elements in order in $O(n)$ time?\n",
    "\n",
    "<br>\n",
    "<br>\n",
    "<div align=\"center\">\n",
    "    <b>[Work out on the board]</b>\n",
    "</div>\n"
   ]
  },
  {
   "cell_type": "markdown",
   "id": "1347d774",
   "metadata": {
    "slideshow": {
     "slide_type": "fragment"
    }
   },
   "source": [
    "**Answer:** recursively starting from the root\n",
    "\n",
    "* visit left subtree\n",
    "* output current node\n",
    "* visit right subtree"
   ]
  },
  {
   "cell_type": "markdown",
   "id": "7afa9d42",
   "metadata": {
    "slideshow": {
     "slide_type": "fragment"
    }
   },
   "source": [
    "**Outputting smallest element greater than $x$:**\n",
    "\n",
    "* Like above, ignoring whole subtrees smaller than $x$\n",
    "* Will get the first element greater than $x$ in $O(\\log n)$ time"
   ]
  },
  {
   "cell_type": "markdown",
   "id": "b1951afa",
   "metadata": {
    "slideshow": {
     "slide_type": "fragment"
    }
   },
   "source": [
    "For balanced trees: listing $t$ first greater elements takes $O(t + \\log n)$ time"
   ]
  },
  {
   "cell_type": "markdown",
   "id": "8850d10b",
   "metadata": {
    "slideshow": {
     "slide_type": "slide"
    }
   },
   "source": [
    "# $B$-Trees\n",
    "\n",
    "Are there binary search trees in Rust's standard library?\n",
    "\n",
    "* Not exactly\n",
    "\n",
    "* Binary Search Trees are computationally very efficent for search/insert/delete ($O(\\log n)$).\n",
    "\n",
    "* In practive, _very inefficient_ on modern computer architectures.\n",
    "  * Every insert triggers a heap allocation\n",
    "  * Every single comparison is a _cache-miss_.\n"
   ]
  },
  {
   "cell_type": "markdown",
   "id": "bc5e472c",
   "metadata": {},
   "source": [
    "Enter $B$-trees:\n",
    "\n",
    "1. B-trees are balanced search trees where each node contains between B and 2B keys, with one more subtree than keys.\n",
    "\n",
    "2. All leaf nodes are at the same depth, ensuring consistent O(log n) performance for search, insert, and delete operations.\n",
    "\n",
    "3. B-trees are widely used in database systems for indexing and efficient range queries.\n",
    "\n",
    "4. They're implemented in Rust's standard library as `BTreeMap` and `BTreeSet` for in-memory operations.\n",
    "\n",
    "5. The structure is optimized for both disk and memory operations, with nodes sized appropriately for the storage medium.\n"
   ]
  },
  {
   "cell_type": "markdown",
   "id": "319e91cb",
   "metadata": {},
   "source": [
    "<div align=\"center\">\n",
    "  <img src=\"./B-tree.svg\" width=\"70%\">\n",
    "</div>\n",
    "\n",
    "_By CyHawk, CC BY-SA 3.0, https://commons.wikimedia.org/w/index.php?curid=11701365_"
   ]
  },
  {
   "cell_type": "markdown",
   "id": "e1e8bcf6",
   "metadata": {},
   "source": [
    "What does the B stand for?\n",
    "\n",
    "<em> Invented by Bayer and McCreight at Boeing.  Suggested explanations have been Boeing, balanced, broad, bushy, and Bayer.  McCreight has said that \"the more you think about what the B in B-trees means, the better you understand B-trees. </em>"
   ]
  },
  {
   "cell_type": "markdown",
   "id": "d5167883",
   "metadata": {
    "slideshow": {
     "slide_type": "slide"
    }
   },
   "source": [
    "## `BTreeSet` and `BTreeMap`\n",
    "\n",
    "```\n",
    "std::collections::BTreeSet\n",
    "std::collections::BTreeMap\n",
    "```\n",
    "\n",
    "Sets and maps, respectively"
   ]
  },
  {
   "cell_type": "code",
   "execution_count": 16,
   "id": "665ddb17",
   "metadata": {
    "slideshow": {
     "slide_type": "fragment"
    }
   },
   "outputs": [],
   "source": [
    "// let's create a set\n",
    "use std::collections::BTreeSet;\n",
    "let mut set: BTreeSet<i32> = BTreeSet::new();\n",
    "set.insert(11);\n",
    "set.insert(7);\n",
    "set.insert(5);\n",
    "set.insert(23);\n",
    "set.insert(25);"
   ]
  },
  {
   "cell_type": "code",
   "execution_count": 17,
   "id": "e0339b42",
   "metadata": {
    "slideshow": {
     "slide_type": "fragment"
    }
   },
   "outputs": [
    {
     "name": "stdout",
     "output_type": "stream",
     "text": [
      "7\n",
      "11\n",
      "23\n"
     ]
    }
   ],
   "source": [
    "// listing a range\n",
    "set.range(7..25).for_each(|x| println!(\"{}\", x));"
   ]
  },
  {
   "cell_type": "code",
   "execution_count": 18,
   "id": "6cdca46e",
   "metadata": {
    "slideshow": {
     "slide_type": "fragment"
    }
   },
   "outputs": [
    {
     "name": "stdout",
     "output_type": "stream",
     "text": [
      "7\n",
      "11\n"
     ]
    }
   ],
   "source": [
    "// listing a range: left and right bounds and \n",
    "// whether they are included or not\n",
    "use std::ops::Bound::{Included,Excluded};\n",
    "set.range((Excluded(5),Included(11))).for_each(|x| println!(\"{}\", x));"
   ]
  },
  {
   "cell_type": "code",
   "execution_count": 19,
   "id": "841c83aa",
   "metadata": {},
   "outputs": [
    {
     "name": "stdout",
     "output_type": "stream",
     "text": [
      "5\n",
      "7\n",
      "11\n",
      "23\n",
      "25\n"
     ]
    },
    {
     "data": {
      "text/plain": [
       "()"
      ]
     },
     "execution_count": 19,
     "metadata": {},
     "output_type": "execute_result"
    }
   ],
   "source": [
    "// Iterating through the items is the in-order traversal that will give you sorted output\n",
    "for i in &set {\n",
    "    println!(\"{}\", *i);\n",
    "}"
   ]
  },
  {
   "cell_type": "code",
   "execution_count": 23,
   "id": "9da46e7f",
   "metadata": {},
   "outputs": [],
   "source": [
    "// let's make a map now\n",
    "use std::collections::BTreeMap;\n",
    "// We can rely on type inference to avoid having to fully write out the types\n",
    "let mut map = BTreeMap::new();\n",
    "map.insert(\"DS310\", \"Data Mechanics\");\n",
    "map.insert(\"DS210\", \"Programming for Data Science\");\n",
    "map.insert(\"DS120\", \"Foundations of Data Science I\");\n",
    "map.insert(\"DS121\", \"Foundations of Data Science II\");\n",
    "map.insert(\"DS122\", \"Foundations of Data Science III\");\n",
    "\n"
   ]
  },
  {
   "cell_type": "code",
   "execution_count": 24,
   "id": "c9e0cb42",
   "metadata": {},
   "outputs": [
    {
     "name": "stdout",
     "output_type": "stream",
     "text": [
      "Course not found\n"
     ]
    },
    {
     "data": {
      "text/plain": [
       "()"
      ]
     },
     "execution_count": 24,
     "metadata": {},
     "output_type": "execute_result"
    }
   ],
   "source": [
    "// Try to find a course\n",
    "if !map.contains_key(\"DS111\") {\n",
    "    println!(\"Course not found\");\n",
    "}"
   ]
  },
  {
   "cell_type": "code",
   "execution_count": 25,
   "id": "0e780bce",
   "metadata": {},
   "outputs": [
    {
     "name": "stdout",
     "output_type": "stream",
     "text": [
      "DS120: \"Foundations of Data Science I\"\n",
      "DS121: \"Foundations of Data Science II\"\n",
      "DS122: \"Foundations of Data Science III\"\n",
      "DS210: \"Programming for Data Science\"\n",
      "DS310: \"Data Mechanics\"\n"
     ]
    },
    {
     "data": {
      "text/plain": [
       "()"
      ]
     },
     "execution_count": 25,
     "metadata": {},
     "output_type": "execute_result"
    }
   ],
   "source": [
    "for (course, name) in &map {\n",
    "    println!(\"{course}: \\\"{name}\\\"\");\n",
    "}"
   ]
  },
  {
   "cell_type": "markdown",
   "id": "6a6c9c49",
   "metadata": {},
   "source": [
    "> Note that the keys are sorted."
   ]
  },
  {
   "cell_type": "code",
   "execution_count": 26,
   "id": "d989a4f6",
   "metadata": {},
   "outputs": [
    {
     "name": "stdout",
     "output_type": "stream",
     "text": [
      "DS120: \"Foundations of Data Science I\"\n",
      "DS121: \"Foundations of Data Science II\"\n",
      "DS122: \"Foundations of Data Science III\"\n"
     ]
    }
   ],
   "source": [
    "// listing a range\n",
    "map.range(\"DS000\"..\"DS199\").for_each(|(x,y)| println!(\"{}: \\\"{}\\\"\", x, y));"
   ]
  },
  {
   "cell_type": "markdown",
   "id": "1d6be0eb",
   "metadata": {},
   "source": [
    "## BTreeMap vs HashMap\n",
    "\n",
    "1. **Use HashMap when:**\n",
    "   - You need O(1) average-case lookup time for specific keys\n",
    "   - You don't need to maintain any particular order of elements\n",
    "   - You're doing mostly individual key lookups rather than range queries\n",
    "   - Your keys implement `Hash`, `Eq`, and `PartialEq` traits\n",
    "\n",
    "2. **Use BTreeMap when:**\n",
    "   - You need to efficiently list all values in a specific range\n",
    "   - You need ordered iteration over keys/values\n",
    "   - You need to find the smallest/greatest element or elements between two values\n",
    "   - You need consistent O(log n) performance for all operations\n",
    "   - Your keys implement `Ord` trait\n",
    "\n",
    "3. **Key Differences:**\n",
    "   - HashMap provides O(1) average-case lookup but can have O(n) worst-case\n",
    "   - BTreeMap provides guaranteed O(log n) performance for all operations\n",
    "   - BTreeMap maintains elements in sorted order\n",
    "   - HashMap is generally faster for individual lookups when you don't need ordering\n",
    "\n",
    "4. **Practical Examples:**\n",
    "   - Use HashMap for: counting word frequencies, caching, quick lookups\n",
    "   - Use BTreeMap for: maintaining ordered data, range queries, finding nearest values\n",
    "\n",
    "5. **Memory Considerations:**\n",
    "   - HashMap may use more memory due to its underlying array structure which needs resizing (doubling and copyng) when full\n",
    "   - BTreeMap's memory usage is more predictable and grows linearly with the number of elements -- adds new nodes as needed.\n"
   ]
  },
  {
   "cell_type": "markdown",
   "id": "91b444b3",
   "metadata": {},
   "source": [
    "# Prefix Tree (Trie)\n",
    "\n",
    "Can be pronounced /ˈtraɪ/ (rhymes with tide) or /ˈtriː/ (tree).\n",
    "\n",
    "A very efficient data structure for dictionary search, word suggestions, error corrections etc.\n",
    "\n",
    "<div align=\"center\">\n",
    "  <img src=\"Trie_example.svg.png\" width=\"80%\">\n",
    "</div>\n",
    "\n",
    "_A trie for keys \"A\", \"to\", \"tea\", \"ted\", \"ten\", \"i\", \"in\", and \"inn\". Each complete English word has an arbitrary integer value associated with it. [Wikipedia](https://en.wikipedia.org/wiki/Trie)_\n",
    "\n",
    "Available in Rust as an external create https://docs.rs/trie-rs/latest/trie_rs/\n"
   ]
  },
  {
   "cell_type": "code",
   "execution_count": 2,
   "id": "53de3449",
   "metadata": {},
   "outputs": [
    {
     "name": "stdout",
     "output_type": "stream",
     "text": [
      "Find suffixes of \"te\"\n",
      "[\"tea\", \"teapot\", \"ted\", \"ten\"]\n"
     ]
    }
   ],
   "source": [
    ":dep trie-rs=\"0.1.1\"\n",
    "fn testme() {\n",
    "    use std::str;\n",
    "    use trie_rs::TrieBuilder;\n",
    "    let mut builder = TrieBuilder::<u8>::new();  \n",
    "    \n",
    "    builder.push(\"to\");\n",
    "    builder.push(\"tea\");\n",
    "    builder.push(\"ted\");\n",
    "    builder.push(\"ten\");\n",
    "    builder.push(\"teapot\");\n",
    "    builder.push(\"in\");\n",
    "    builder.push(\"inn\");\n",
    "    let trie = builder.build();\n",
    "    println!(\"Find suffixes of \\\"te\\\"\");\n",
    "    let results_in_u8s: Vec<Vec<u8>> = trie.predictive_search(\"te\");\n",
    "    let results_in_str: Vec<&str> = results_in_u8s\n",
    "        .iter()\n",
    "        .map(|u8s| str::from_utf8(u8s).unwrap())\n",
    "        .collect();\n",
    "    println!(\"{:?}\", results_in_str);\n",
    "}\n",
    "\n",
    "testme();\n"
   ]
  },
  {
   "cell_type": "markdown",
   "id": "ec9fb8b5",
   "metadata": {},
   "source": [
    "### To Insert a Word\n",
    "\n",
    "1. **Start at the Root**\n",
    "   - Begin at the root node of the trie\n",
    "   - The root node represents an empty string\n",
    "\n",
    "2. **Process Each Character**\n",
    "   - For each character in the word you want to insert:\n",
    "     - Check if the current node has a child node for that character\n",
    "     - If yes: Move to that child node\n",
    "     - If no: Create a new node for that character and make it a child of the current node\n",
    "\n",
    "3. **Mark the End**\n",
    "   - After processing all characters, mark the final node as an end-of-word node\n",
    "   - This indicates that a complete word ends at this node\n",
    "\n",
    "Let me illustrate with an example. Suppose we want to insert the word \"tea\" into an empty trie:\n",
    "\n",
    "```\n",
    "Step 1: Start at root\n",
    "   (root)\n",
    "\n",
    "Step 2: Insert 't'\n",
    "   (root)\n",
    "     |\n",
    "     t\n",
    "\n",
    "Step 3: Insert 'e'\n",
    "   (root)\n",
    "     |\n",
    "     t\n",
    "     |\n",
    "     e\n",
    "\n",
    "Step 4: Insert 'a'\n",
    "   (root)\n",
    "     |\n",
    "     t\n",
    "     |\n",
    "     e\n",
    "     |\n",
    "     a*\n",
    "\n",
    "Step 5: Mark 'a' as end-of-word (shown with *)\n",
    "```\n",
    "\n",
    "If we then insert \"ted\", the trie would look like:\n",
    "```\n",
    "   (root)\n",
    "     |\n",
    "     t\n",
    "     |\n",
    "     e\n",
    "    / \\\n",
    "   a*  d*\n",
    "```\n",
    "\n",
    "The asterisk (*) marks nodes where words end. This structure allows us to:\n",
    "- Share common prefixes between words\n",
    "- Efficiently search for words\n",
    "- Find all words with a given prefix\n",
    "- Check if a word exists in the trie\n",
    "\n"
   ]
  },
  {
   "cell_type": "markdown",
   "id": "4f7234a3",
   "metadata": {},
   "source": [
    "### Most likely your spellchecker is based on a trie\n",
    "\n",
    "In this case, we will compare possible close matches and then sort by frequency of occurence in some corpus and present top 3-5.\n",
    "\n",
    "If your word is not in the trie do the following:\n",
    "\n",
    "* Step 1: Find the largest prefix that is present and find the trie words with that prefix\n",
    "* Step 2: Delete the first letter from your word and redo Step 1\n",
    "* Step 3: Insert a letter (for all letters) to the beginning of the word and redo Step 1\n",
    "* Step 4: Replace the beginning letter with a different one (for all letters) and redo Step 1\n",
    "* Step 5: Transpose the first two letters and redo Step 1\n",
    "* Step 6: Collect all words from Steps 1-5 sort by frequency of occurrence and present top 3-5 to user"
   ]
  },
  {
   "cell_type": "markdown",
   "id": "b1d78460",
   "metadata": {},
   "source": [
    "## In-Class Poll\n",
    "\n",
    "https://piazza.com/class/m5qyw6267j12cj/post/411\n"
   ]
  },
  {
   "cell_type": "markdown",
   "id": "40fed944",
   "metadata": {},
   "source": []
  }
 ],
 "metadata": {
  "celltoolbar": "Slideshow",
  "kernelspec": {
   "display_name": "Rust",
   "language": "rust",
   "name": "rust"
  },
  "language_info": {
   "codemirror_mode": "rust",
   "file_extension": ".rs",
   "mimetype": "text/rust",
   "name": "rust",
   "pygment_lexer": "rust",
   "version": ""
  },
  "rise": {
   "theme": "beige",
   "transition": "fade"
  }
 },
 "nbformat": 4,
 "nbformat_minor": 5
}
